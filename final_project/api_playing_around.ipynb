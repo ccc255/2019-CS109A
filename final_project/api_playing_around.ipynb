{
 "cells": [
  {
   "cell_type": "code",
   "execution_count": 5,
   "metadata": {},
   "outputs": [
    {
     "name": "stdout",
     "output_type": "stream",
     "text": [
      "{\r\n",
      "  \"error\": {\r\n",
      "    \"status\": 400,\r\n",
      "    \"message\": \"Only valid bearer authentication supported\"\r\n",
      "  }\r\n",
      "}"
     ]
    }
   ],
   "source": [
    "\n",
    "! curl -X GET \"https://api.spotify.com/v1/audio-analysis/3JIxjvbbDrA9ztYlNcp3yL\" -H \"Authorization: Bearer {BQAcp2sVvftsZe2YY1AjWiFbzrKgPEeyfxl4xlfYnmGHQPgk45YpoqABIT6EFETDs80g3Heo_JJYUC77l1kT5SC-km1T-cmam_sXe-pqp9G71BmO3Haj21ysbNX8g0nSVJKbzXtF-6ZF1nftV8YoO883ikRZkcqz-TExfw&refresh_token=AQBPwTbjhr3Xpn4K-n3unF41wYpe-v-Y0gPD-yR-EYz-F-xaxD5FzVrob6-wIRtJ8pUeqiAIVumAJnyzQMuDtdXJr5_4FooDVczFDUhJWwSnzIVgebZxOVoA35cYzpv6j5s}\"\n",
    "\n"
   ]
  },
  {
   "cell_type": "code",
   "execution_count": 6,
   "metadata": {},
   "outputs": [
    {
     "name": "stdout",
     "output_type": "stream",
     "text": [
      "Untitled.ipynb\tcs109a_hw6_release-Copy1.ipynb\tcs109a_hw6_release.ipynb  data\r\n"
     ]
    }
   ],
   "source": [
    "! ls"
   ]
  },
  {
   "cell_type": "code",
   "execution_count": 7,
   "metadata": {},
   "outputs": [
    {
     "name": "stdout",
     "output_type": "stream",
     "text": [
      "Untitled.ipynb\tcs109a_hw6_release-Copy1.ipynb\tdata\r\n",
      "app.js\t\tcs109a_hw6_release.ipynb\r\n"
     ]
    }
   ],
   "source": [
    "! ls "
   ]
  },
  {
   "cell_type": "code",
   "execution_count": 8,
   "metadata": {},
   "outputs": [
    {
     "name": "stdout",
     "output_type": "stream",
     "text": [
      "module.js:549\r\n",
      "    throw err;\r\n",
      "    ^\r\n",
      "\r\n",
      "Error: Cannot find module 'express'\r\n",
      "    at Function.Module._resolveFilename (module.js:547:15)\r\n",
      "    at Function.Module._load (module.js:474:25)\r\n",
      "    at Module.require (module.js:596:17)\r\n",
      "    at require (internal/module.js:11:18)\r\n",
      "    at Object.<anonymous> (/jupyteruser/91239418/cs109_hw6/app.js:10:15)\r\n",
      "    at Module._compile (module.js:652:30)\r\n",
      "    at Object.Module._extensions..js (module.js:663:10)\r\n",
      "    at Module.load (module.js:565:32)\r\n",
      "    at tryModuleLoad (module.js:505:12)\r\n",
      "    at Function.Module._load (module.js:497:3)\r\n"
     ]
    }
   ],
   "source": [
    "! node app.js"
   ]
  },
  {
   "cell_type": "code",
   "execution_count": 9,
   "metadata": {},
   "outputs": [
    {
     "name": "stdout",
     "output_type": "stream",
     "text": [
      "\u001b[?25l\u001b[0G▄ ╢░░░░░░░░░░░░░░░░░░░░░░░░░░░░░░░░░░░░░░░░░░░░░░░░░░░░░░░░░░░░░░░░░░░░░░░░░░░╟\n",
      "\u001b[?25h\u001b[1A\u001b[?25l\u001b[0G▌ ╢░░░░░░░░░░░░░░░░░░░░░░░░░░░░░░░░░░░░░░░░░░░░░░░░░░░░░░░░░░░░░░░░░░░░░░░░░░░╟\n",
      "\u001b[?25h\u001b[1A\u001b[?25l\u001b[0G▀ ╢░░░░░░░░░░░░░░░░░░░░░░░░░░░░░░░░░░░░░░░░░░░░░░░░░░░░░░░░░░░░░░░░░░░░░░░░░░░╟\n",
      "\u001b[?25h\u001b[1A\u001b[?25l\u001b[0G▄ ╢░░░░░░░░░░░░░░░░░░░░░░░░░░░░░░░░░░░░░░░░░░░░░░░░░░░░░░░░░░░░░░░░░░░░░░░░░░░╟\n",
      "\u001b[?25h\u001b[1A\u001b[?25l\u001b[0G▌ ╢░░░░░░░░░░░░░░░░░░░░░░░░░░░░░░░░░░░░░░░░░░░░░░░░░░░░░░░░░░░░░░░░░░░░░░░░░░░╟\n",
      "\u001b[?25h\u001b[1A\u001b[?25l\u001b[0G▀ ╢░░░░░░░░░░░░░░░░░░░░░░░░░░░░░░░░░░░░░░░░░░░░░░░░░░░░░░░░░░░░░░░░░░░░░░░░░░░╟\n",
      "\u001b[?25h\u001b[1A\u001b[?25l\u001b[0G▐ ╢░░░░░░░░░░░░░░░░░░░░░░░░░░░░░░░░░░░░░░░░░░░░░░░░░░░░░░░░░░░░░░░░░░░░░░░░░░░╟\n",
      "\u001b[?25h\u001b[1A\u001b[?25l\u001b[0GloadRequestedDeps → get   ▐ ╢██████████░░░░░░░░░░░░░░░░░░░░░░░░░░░░░░░░░░░░░░░╟\n",
      "\u001b[?25h\u001b[1A\u001b[?25l\u001b[0GloadRequestedDeps → fetch ▐ ╢██████████░░░░░░░░░░░░░░░░░░░░░░░░░░░░░░░░░░░░░░░╟\n",
      "\u001b[?25h\u001b[1A\u001b[?25l\u001b[0GloadRequestedDeps → after ▌ ╢██████████░░░░░░░░░░░░░░░░░░░░░░░░░░░░░░░░░░░░░░░╟\n",
      "\u001b[?25h\u001b[1A\u001b[?25l\u001b[0GloadRequestedDeps         ▀ ╢██████████░░░░░░░░░░░░░░░░░░░░░░░░░░░░░░░░░░░░░░░╟\n",
      "\u001b[?25h\u001b[1A\u001b[?25l\u001b[0GloadDep:vary → request    ▌ ╢██████████░░░░░░░░░░░░░░░░░░░░░░░░░░░░░░░░░░░░░░░╟\n",
      "\u001b[?25h\u001b[1A\u001b[?25l\u001b[0GloadDep:vary → request    ▄ ╢██████████░░░░░░░░░░░░░░░░░░░░░░░░░░░░░░░░░░░░░░░╟\n",
      "\u001b[?25h\u001b[1A\u001b[?25l\u001b[0GloadDep:vary → 200        ▌ ╢██████████░░░░░░░░░░░░░░░░░░░░░░░░░░░░░░░░░░░░░░░╟\n",
      "\u001b[?25h\u001b[1A\u001b[?25l\u001b[0GloadDep:vary → get        ▄ ╢██████████░░░░░░░░░░░░░░░░░░░░░░░░░░░░░░░░░░░░░░░╟\n",
      "\u001b[?25h\u001b[1A\u001b[?25l\u001b[0GloadDep:vary → 200        ▀ ╢██████████░░░░░░░░░░░░░░░░░░░░░░░░░░░░░░░░░░░░░░░╟\n",
      "\u001b[?25h\u001b[1A\u001b[?25l\u001b[0GloadDep:vary → get        ▌ ╢██████████░░░░░░░░░░░░░░░░░░░░░░░░░░░░░░░░░░░░░░░╟\n",
      "\u001b[?25h\u001b[1A\u001b[?25l\u001b[0GloadDep:vary → resolveWit ▀ ╢██████████░░░░░░░░░░░░░░░░░░░░░░░░░░░░░░░░░░░░░░░╟\n",
      "\u001b[?25h\u001b[1A\u001b[?25l\u001b[0GloadDep:vary → resolveWit ▌ ╢██████████░░░░░░░░░░░░░░░░░░░░░░░░░░░░░░░░░░░░░░░╟\n",
      "\u001b[?25h\u001b[1A\u001b[?25l\u001b[0GloadDep:vary → headers    ▌ ╢██████████░░░░░░░░░░░░░░░░░░░░░░░░░░░░░░░░░░░░░░░╟\n",
      "\u001b[?25h\u001b[1A\u001b[?25l\u001b[0GloadDep:vary → network    ▐ ╢██████████░░░░░░░░░░░░░░░░░░░░░░░░░░░░░░░░░░░░░░░╟\n",
      "\u001b[?25h\u001b[1A\u001b[?25l\u001b[0GloadDep:vary → resolveWit ▐ ╢██████████░░░░░░░░░░░░░░░░░░░░░░░░░░░░░░░░░░░░░░░╟\n",
      "\u001b[?25h\u001b[1A\u001b[?25l\u001b[0GloadDep:vary → get        ▄ ╢██████████░░░░░░░░░░░░░░░░░░░░░░░░░░░░░░░░░░░░░░░╟\n",
      "\u001b[?25h\u001b[1A\u001b[?25l\u001b[0GloadDep:vary → get        ▄ ╢██████████░░░░░░░░░░░░░░░░░░░░░░░░░░░░░░░░░░░░░░░╟\n",
      "\u001b[?25h\u001b[1A\u001b[?25l\u001b[0GloadDep:vary → fetch      ▌ ╢██████████░░░░░░░░░░░░░░░░░░░░░░░░░░░░░░░░░░░░░░░╟\n",
      "\u001b[?25h\u001b[1A\u001b[?25l\u001b[0GloadDep:vary → mapToRegis ▐ ╢██████████░░░░░░░░░░░░░░░░░░░░░░░░░░░░░░░░░░░░░░░╟\n",
      "\u001b[?25h\u001b[1A\u001b[?25l\u001b[0GloadDep:vary → addTmpTarb ▌ ╢██████████░░░░░░░░░░░░░░░░░░░░░░░░░░░░░░░░░░░░░░░╟\n",
      "\u001b[?25h\u001b[1A\u001b[?25l\u001b[0GloadDep:vary → afterAdd   ▐ ╢██████████░░░░░░░░░░░░░░░░░░░░░░░░░░░░░░░░░░░░░░░╟\n",
      "\u001b[?25h\u001b[1A\u001b[?25l\u001b[0GloadDep:vary → afterAdd   ▄ ╢██████████░░░░░░░░░░░░░░░░░░░░░░░░░░░░░░░░░░░░░░░╟\n",
      "\u001b[?25h\u001b[1A\u001b[?25l\u001b[0GloadDep:negotiator → requ ▄ ╢██████████░░░░░░░░░░░░░░░░░░░░░░░░░░░░░░░░░░░░░░░╟\n",
      "\u001b[?25h\u001b[1A\u001b[?25l\u001b[0GloadDep:negotiator → fetc ▀ ╢██████████░░░░░░░░░░░░░░░░░░░░░░░░░░░░░░░░░░░░░░░╟\n",
      "\u001b[?25h\u001b[1A\u001b[?25l\u001b[0GloadDep:negotiator → fetc ▐ ╢██████████░░░░░░░░░░░░░░░░░░░░░░░░░░░░░░░░░░░░░░░╟\n",
      "\u001b[?25h\u001b[1A\u001b[?25l\u001b[0GloadDep:mime-db → request ▀ ╢██████████░░░░░░░░░░░░░░░░░░░░░░░░░░░░░░░░░░░░░░░╟\n",
      "\u001b[?25h\u001b[1A\u001b[?25l\u001b[0GloadDep:body-parser       ▀ ╢███████████░░░░░░░░░░░░░░░░░░░░░░░░░░░░░░░░░░░░░░╟\n",
      "\u001b[?25h\u001b[1A\u001b[?25l\u001b[0GloadDep:raw-body → get    ▀ ╢███████████░░░░░░░░░░░░░░░░░░░░░░░░░░░░░░░░░░░░░░╟\n",
      "\u001b[?25h\u001b[1A\u001b[?25l\u001b[0GloadDep:raw-body → fetchA ▀ ╢███████████░░░░░░░░░░░░░░░░░░░░░░░░░░░░░░░░░░░░░░╟\n",
      "\u001b[?25h\u001b[1A\u001b[?25l\u001b[0GloadDep:ms → request      ▐ ╢███████████░░░░░░░░░░░░░░░░░░░░░░░░░░░░░░░░░░░░░░╟\n",
      "\u001b[?25h\u001b[1A\u001b[?25l\u001b[0GloadDep:ms → fetch        ▄ ╢███████████░░░░░░░░░░░░░░░░░░░░░░░░░░░░░░░░░░░░░░╟\n",
      "\u001b[?25h\u001b[1A\u001b[?25l\u001b[0GloadDep:toidentifier → fe ▐ ╢███████████░░░░░░░░░░░░░░░░░░░░░░░░░░░░░░░░░░░░░░╟\n",
      "\u001b[?25h\u001b[1A\u001b[?25l\u001b[0GloadDep:toidentifier → fe ▄ ╢███████████░░░░░░░░░░░░░░░░░░░░░░░░░░░░░░░░░░░░░░╟\n",
      "\u001b[?25h\u001b[1A\u001b[?25l\u001b[0GloadDep:safer-buffer → fe ▄ ╢███████████░░░░░░░░░░░░░░░░░░░░░░░░░░░░░░░░░░░░░░╟\n",
      "\u001b[?25h\u001b[1A\u001b[?25l\u001b[0GloadDep:ee-first → reques ▄ ╢███████████░░░░░░░░░░░░░░░░░░░░░░░░░░░░░░░░░░░░░░╟\n",
      "\u001b[?25h\u001b[1A\u001b[?25l\u001b[0GloadDep:ee-first → fetch  ▌ ╢███████████░░░░░░░░░░░░░░░░░░░░░░░░░░░░░░░░░░░░░░╟\n",
      "\u001b[?25h\u001b[1A\u001b[?25l\u001b[0GloadDep:ee-first → fetch  ▀ ╢███████████░░░░░░░░░░░░░░░░░░░░░░░░░░░░░░░░░░░░░░╟\n",
      "\u001b[?25h\u001b[1A\u001b[?25l\u001b[0GloadDep:unpipe → fetch    ▀ ╢███████████░░░░░░░░░░░░░░░░░░░░░░░░░░░░░░░░░░░░░░╟\n",
      "\u001b[?25h\u001b[1A\u001b[?25l\u001b[0GloadDep:media-typer → req ▀ ╢███████████░░░░░░░░░░░░░░░░░░░░░░░░░░░░░░░░░░░░░░╟\n",
      "\u001b[?25h\u001b[1A\u001b[?25l\u001b[0GloadDep:media-typer → 200 ▐ ╢███████████░░░░░░░░░░░░░░░░░░░░░░░░░░░░░░░░░░░░░░╟\n",
      "\u001b[?25h\u001b[1A\u001b[?25l\u001b[0GloadDep:ipaddr.js → reque ▄ ╢███████████████░░░░░░░░░░░░░░░░░░░░░░░░░░░░░░░░░░╟\n",
      "\u001b[?25h\u001b[1A\u001b[?25l\u001b[0GloadDep:ipaddr.js → fetch ▐ ╢███████████████░░░░░░░░░░░░░░░░░░░░░░░░░░░░░░░░░░╟\n",
      "\u001b[?25h\u001b[1A\u001b[?25l\u001b[0GloadDep:ms → fetch        ▌ ╢█████████████████░░░░░░░░░░░░░░░░░░░░░░░░░░░░░░░░╟\n",
      "\u001b[?25h\u001b[1A\u001b[?25l\u001b[0GloadDep:ms → afterAdd     ▀ ╢█████████████████░░░░░░░░░░░░░░░░░░░░░░░░░░░░░░░░╟\n",
      "\u001b[?25h\u001b[1A\u001b[?25l\u001b[0GloadAllDepsIntoIdealTree  ▐ ╢███████████████████████████░░░░░░░░░░░░░░░░░░░░░░╟\n",
      "\u001b[?25h\u001b[1A\u001b[?25l\u001b[0Gextract → extract         ▐ ╢██████████████████████████████████░░░░░░░░░░░░░░░╟\n",
      "\u001b[?25h\u001b[1A\u001b[?25l\u001b[0Gextract → unbuild         ▀ ╢██████████████████████████████████░░░░░░░░░░░░░░░╟\n",
      "\u001b[?25h\u001b[1A\u001b[?25l\u001b[0Gextract → tar             ▀ ╢██████████████████████████████████░░░░░░░░░░░░░░░╟\n",
      "\u001b[?25h\u001b[1A\u001b[?25l\u001b[0Gextract → gunzTarPerm     ▄ ╢██████████████████████████████████░░░░░░░░░░░░░░░╟\n",
      "\u001b[?25h\u001b[1A\u001b[?25l\u001b[0Gextract → gunzTarPerm     ▀ ╢██████████████████████████████████░░░░░░░░░░░░░░░╟\n",
      "\u001b[?25h\u001b[1A\u001b[?25l\u001b[0Gextract → gunzTarPerm     ▀ ╢██████████████████████████████████░░░░░░░░░░░░░░░╟\n",
      "\u001b[?25h\u001b[1A\u001b[?25l\u001b[0Gextract → gunzTarPerm     ▐ ╢██████████████████████████████████░░░░░░░░░░░░░░░╟\n",
      "\u001b[?25h\u001b[1A\u001b[?25l\u001b[0Gextract → gunzTarPerm     ▄ ╢██████████████████████████████████░░░░░░░░░░░░░░░╟\n",
      "\u001b[?25h\u001b[1A\u001b[?25l\u001b[0Gextract → gunzTarPerm     ▄ ╢██████████████████████████████████░░░░░░░░░░░░░░░╟\n",
      "\u001b[?25h\u001b[1A\u001b[?25l\u001b[0Gextract:ms → gunzTarPerm  ▀ ╢███████████████████████████████████░░░░░░░░░░░░░░╟\n",
      "\u001b[?25h\u001b[1A\u001b[?25l\u001b[0Gextract:encodeurl         ▐ ╢████████████████████████████████████░░░░░░░░░░░░░╟\n",
      "\u001b[?25h\u001b[1A\u001b[?25l\u001b[0Gextract:body-parser       ▐ ╢████████████████████████████████████████░░░░░░░░░╟\n",
      "\u001b[?25h\u001b[1A\u001b[?25l\u001b[0Gpreinstall → lifecycle    ▀ ╢████████████████████████████████████████░░░░░░░░░╟\n",
      "\u001b[?25h\u001b[1A\u001b[?25l\u001b[0Gfinalize:ipaddr.js        ▄ ╢█████████████████████████████████████████░░░░░░░░╟\n",
      "\u001b[?25h\u001b[1A\u001b[?25l\u001b[0Ginstall                   ▄ ╢██████████████████████████████████████████░░░░░░░╟\n",
      "\u001b[?25h\u001b[1A\u001b[?25l\u001b[0Gpostinstall               ▐ ╢██████████████████████████████████████████░░░░░░░╟\n",
      "\u001b[?25h\u001b[?25h\u001b[1A\u001b[0G\u001b[K\u001b[?25l\u001b[0GrunTopLevelLifecycles     ▌ ╢███████████████████████████████████████████████░░╟\n",
      "\u001b[?25h\u001b[?25h\u001b[1A\u001b[0G\u001b[K/jupyteruser/91239418/cs109_hw6\n",
      "└─┬ \u001b[40m\u001b[33mexpress@4.17.1\u001b[0m\u001b[0m \n",
      "  ├─┬ \u001b[40m\u001b[33maccepts@1.3.7\u001b[0m\u001b[0m \n",
      "  │ ├─┬ \u001b[40m\u001b[33mmime-types@2.1.25\u001b[0m\u001b[0m \n",
      "  │ │ └── \u001b[40m\u001b[33mmime-db@1.42.0\u001b[0m\u001b[0m \n",
      "  │ └── \u001b[40m\u001b[33mnegotiator@0.6.2\u001b[0m\u001b[0m \n",
      "  ├── \u001b[40m\u001b[33marray-flatten@1.1.1\u001b[0m\u001b[0m \n",
      "  ├─┬ \u001b[40m\u001b[33mbody-parser@1.19.0\u001b[0m\u001b[0m \n",
      "  │ ├── \u001b[40m\u001b[33mbytes@3.1.0\u001b[0m\u001b[0m \n",
      "  │ ├─┬ \u001b[40m\u001b[33mhttp-errors@1.7.2\u001b[0m\u001b[0m \n",
      "  │ │ ├── \u001b[40m\u001b[33minherits@2.0.3\u001b[0m\u001b[0m \n",
      "  │ │ └── \u001b[40m\u001b[33mtoidentifier@1.0.0\u001b[0m\u001b[0m \n",
      "  │ ├─┬ \u001b[40m\u001b[33miconv-lite@0.4.24\u001b[0m\u001b[0m \n",
      "  │ │ └── \u001b[40m\u001b[33msafer-buffer@2.1.2\u001b[0m\u001b[0m \n",
      "  │ └── \u001b[40m\u001b[33mraw-body@2.4.0\u001b[0m\u001b[0m \n",
      "  ├── \u001b[40m\u001b[33mcontent-disposition@0.5.3\u001b[0m\u001b[0m \n",
      "  ├── \u001b[40m\u001b[33mcontent-type@1.0.4\u001b[0m\u001b[0m \n",
      "  ├── \u001b[40m\u001b[33mcookie@0.4.0\u001b[0m\u001b[0m \n",
      "  ├── \u001b[40m\u001b[33mcookie-signature@1.0.6\u001b[0m\u001b[0m \n",
      "  ├─┬ \u001b[40m\u001b[33mdebug@2.6.9\u001b[0m\u001b[0m \n",
      "  │ └── \u001b[40m\u001b[33mms@2.0.0\u001b[0m\u001b[0m \n",
      "  ├── \u001b[40m\u001b[33mdepd@1.1.2\u001b[0m\u001b[0m \n",
      "  ├── \u001b[40m\u001b[33mencodeurl@1.0.2\u001b[0m\u001b[0m \n",
      "  ├── \u001b[40m\u001b[33mescape-html@1.0.3\u001b[0m\u001b[0m \n",
      "  ├── \u001b[40m\u001b[33metag@1.8.1\u001b[0m\u001b[0m \n",
      "  ├─┬ \u001b[40m\u001b[33mfinalhandler@1.1.2\u001b[0m\u001b[0m \n",
      "  │ └── \u001b[40m\u001b[33munpipe@1.0.0\u001b[0m\u001b[0m \n",
      "  ├── \u001b[40m\u001b[33mfresh@0.5.2\u001b[0m\u001b[0m \n",
      "  ├── \u001b[40m\u001b[33mmerge-descriptors@1.0.1\u001b[0m\u001b[0m \n",
      "  ├── \u001b[40m\u001b[33mmethods@1.1.2\u001b[0m\u001b[0m \n",
      "  ├─┬ \u001b[40m\u001b[33mon-finished@2.3.0\u001b[0m\u001b[0m \n",
      "  │ └── \u001b[40m\u001b[33mee-first@1.1.1\u001b[0m\u001b[0m \n",
      "  ├── \u001b[40m\u001b[33mparseurl@1.3.3\u001b[0m\u001b[0m \n",
      "  ├── \u001b[40m\u001b[33mpath-to-regexp@0.1.7\u001b[0m\u001b[0m \n",
      "  ├─┬ \u001b[40m\u001b[33mproxy-addr@2.0.5\u001b[0m\u001b[0m \n",
      "  │ ├── \u001b[40m\u001b[33mforwarded@0.1.2\u001b[0m\u001b[0m \n",
      "  │ └── \u001b[40m\u001b[33mipaddr.js@1.9.0\u001b[0m\u001b[0m \n",
      "  ├── \u001b[40m\u001b[33mqs@6.7.0\u001b[0m\u001b[0m \n",
      "  ├── \u001b[40m\u001b[33mrange-parser@1.2.1\u001b[0m\u001b[0m \n",
      "  ├── \u001b[40m\u001b[33msafe-buffer@5.1.2\u001b[0m\u001b[0m \n",
      "  ├─┬ \u001b[40m\u001b[33msend@0.17.1\u001b[0m\u001b[0m \n",
      "  │ ├── \u001b[40m\u001b[33mdestroy@1.0.4\u001b[0m\u001b[0m \n",
      "  │ ├── \u001b[40m\u001b[33mmime@1.6.0\u001b[0m\u001b[0m \n",
      "  │ └── \u001b[40m\u001b[33mms@2.1.1\u001b[0m\u001b[0m \n",
      "  ├── \u001b[40m\u001b[33mserve-static@1.14.1\u001b[0m\u001b[0m \n",
      "  ├── \u001b[40m\u001b[33msetprototypeof@1.1.1\u001b[0m\u001b[0m \n",
      "  ├── \u001b[40m\u001b[33mstatuses@1.5.0\u001b[0m\u001b[0m \n",
      "  ├─┬ \u001b[40m\u001b[33mtype-is@1.6.18\u001b[0m\u001b[0m \n",
      "  │ └── \u001b[40m\u001b[33mmedia-typer@0.3.0\u001b[0m\u001b[0m \n",
      "  ├── \u001b[40m\u001b[33mutils-merge@1.0.1\u001b[0m\u001b[0m \n",
      "  └── \u001b[40m\u001b[33mvary@1.1.2\u001b[0m\u001b[0m \n",
      "\n",
      "\u001b[?25l\u001b[0GrunTopLevelLifecycles     ▌ ╢███████████████████████████████████████████████░░╟\n",
      "\u001b[?25h\u001b[?25h\u001b[1A\u001b[0G\u001b[K\u001b[37m\u001b[40mnpm\u001b[0m \u001b[0m\u001b[30m\u001b[43mWARN\u001b[0m \u001b[0m\u001b[35menoent\u001b[0m ENOENT: no such file or directory, open '/jupyteruser/91239418/cs109_hw6/package.json'\n",
      "\u001b[0m\u001b[?25l\u001b[0GrunTopLevelLifecycles     ▀ ╢███████████████████████████████████████████████░░╟\n",
      "\u001b[?25h\u001b[?25h\u001b[1A\u001b[0G\u001b[K\u001b[37m\u001b[40mnpm\u001b[0m \u001b[0m\u001b[30m\u001b[43mWARN\u001b[0m\u001b[35m\u001b[0m cs109_hw6 No description\n",
      "\u001b[0m\u001b[?25l\u001b[0GrunTopLevelLifecycles     ▐ ╢███████████████████████████████████████████████░░╟\n",
      "\u001b[?25h\u001b[?25h\u001b[1A\u001b[0G\u001b[K\u001b[37m\u001b[40mnpm\u001b[0m \u001b[0m\u001b[30m\u001b[43mWARN\u001b[0m\u001b[35m\u001b[0m cs109_hw6 No repository field.\n",
      "\u001b[0m\u001b[?25l\u001b[0GrunTopLevelLifecycles     ▄ ╢███████████████████████████████████████████████░░╟\n",
      "\u001b[?25h\u001b[?25h\u001b[1A\u001b[0G\u001b[K\u001b[37m\u001b[40mnpm\u001b[0m \u001b[0m\u001b[30m\u001b[43mWARN\u001b[0m\u001b[35m\u001b[0m cs109_hw6 No README data\n",
      "\u001b[0m\u001b[?25l\u001b[0GrunTopLevelLifecycles     ▌ ╢███████████████████████████████████████████████░░╟\n",
      "\u001b[?25h\u001b[?25h\u001b[1A\u001b[0G\u001b[K\u001b[37m\u001b[40mnpm\u001b[0m \u001b[0m\u001b[30m\u001b[43mWARN\u001b[0m\u001b[35m\u001b[0m cs109_hw6 No license field.\n",
      "\u001b[0m\u001b[?25l\u001b[0GrunTopLevelLifecycles     ▀ ╢███████████████████████████████████████████████░░╟\n",
      "\u001b[?25h\u001b[?25h\u001b[1A\u001b[0G\u001b[K\u001b[?25h\u001b[0G\u001b[K"
     ]
    }
   ],
   "source": [
    "! npm install express"
   ]
  },
  {
   "cell_type": "code",
   "execution_count": 10,
   "metadata": {},
   "outputs": [
    {
     "name": "stdout",
     "output_type": "stream",
     "text": [
      "module.js:549\r\n",
      "    throw err;\r\n",
      "    ^\r\n",
      "\r\n",
      "Error: Cannot find module 'cors'\r\n",
      "    at Function.Module._resolveFilename (module.js:547:15)\r\n",
      "    at Function.Module._load (module.js:474:25)\r\n",
      "    at Module.require (module.js:596:17)\r\n",
      "    at require (internal/module.js:11:18)\r\n",
      "    at Object.<anonymous> (/jupyteruser/91239418/cs109_hw6/app.js:12:12)\r\n",
      "    at Module._compile (module.js:652:30)\r\n",
      "    at Object.Module._extensions..js (module.js:663:10)\r\n",
      "    at Module.load (module.js:565:32)\r\n",
      "    at tryModuleLoad (module.js:505:12)\r\n",
      "    at Function.Module._load (module.js:497:3)\r\n"
     ]
    }
   ],
   "source": [
    "! node app.js"
   ]
  },
  {
   "cell_type": "code",
   "execution_count": 11,
   "metadata": {},
   "outputs": [
    {
     "name": "stdout",
     "output_type": "stream",
     "text": [
      "\u001b[?25l\u001b[0G▄ ╢░░░░░░░░░░░░░░░░░░░░░░░░░░░░░░░░░░░░░░░░░░░░░░░░░░░░░░░░░░░░░░░░░░░░░░░░░░░╟\n",
      "\u001b[?25h\u001b[1A\u001b[?25l\u001b[0G▌ ╢░░░░░░░░░░░░░░░░░░░░░░░░░░░░░░░░░░░░░░░░░░░░░░░░░░░░░░░░░░░░░░░░░░░░░░░░░░░╟\n",
      "\u001b[?25h\u001b[1A\u001b[?25l\u001b[0G▀ ╢░░░░░░░░░░░░░░░░░░░░░░░░░░░░░░░░░░░░░░░░░░░░░░░░░░░░░░░░░░░░░░░░░░░░░░░░░░░╟\n",
      "\u001b[?25h\u001b[1A\u001b[?25l\u001b[0G▄ ╢░░░░░░░░░░░░░░░░░░░░░░░░░░░░░░░░░░░░░░░░░░░░░░░░░░░░░░░░░░░░░░░░░░░░░░░░░░░╟\n",
      "\u001b[?25h\u001b[1A\u001b[?25l\u001b[0G▌ ╢░░░░░░░░░░░░░░░░░░░░░░░░░░░░░░░░░░░░░░░░░░░░░░░░░░░░░░░░░░░░░░░░░░░░░░░░░░░╟\n",
      "\u001b[?25h\u001b[1A\u001b[?25l\u001b[0G▀ ╢░░░░░░░░░░░░░░░░░░░░░░░░░░░░░░░░░░░░░░░░░░░░░░░░░░░░░░░░░░░░░░░░░░░░░░░░░░░╟\n",
      "\u001b[?25h\u001b[1A\u001b[?25l\u001b[0GloadRequestedDeps → addTm ▌ ╢██████████░░░░░░░░░░░░░░░░░░░░░░░░░░░░░░░░░░░░░░░╟\n",
      "\u001b[?25h\u001b[1A\u001b[?25l\u001b[0GloadDep:object-assign → f ▌ ╢██████████░░░░░░░░░░░░░░░░░░░░░░░░░░░░░░░░░░░░░░░╟\n",
      "\u001b[?25h\u001b[1A\u001b[?25l\u001b[0GloadDep:accepts           ▀ ╢█████████████████████░░░░░░░░░░░░░░░░░░░░░░░░░░░░╟\n",
      "\u001b[?25h\u001b[1A\u001b[?25l\u001b[0GloadAllDepsIntoIdealTree  ▄ ╢███████████████████████████░░░░░░░░░░░░░░░░░░░░░░╟\n",
      "\u001b[?25h\u001b[1A\u001b[?25l\u001b[0Gextract → gunzTarPerm     ▄ ╢██████████████████████████████████░░░░░░░░░░░░░░░╟\n",
      "\u001b[?25h\u001b[1A\u001b[?25l\u001b[0Gpostinstall:cors → lifecy ▀ ╢██████████████████████████████████████████░░░░░░░╟\n",
      "\u001b[?25h\u001b[?25h\u001b[1A\u001b[0G\u001b[K\u001b[?25l\u001b[0GrunTopLevelLifecycles     ▀ ╢███████████████████████████████████████████████░░╟\n",
      "\u001b[?25h\u001b[?25h\u001b[1A\u001b[0G\u001b[K/jupyteruser/91239418/cs109_hw6\n",
      "├─┬ \u001b[40m\u001b[33mcors@2.8.5\u001b[0m\u001b[0m \n",
      "│ └── \u001b[40m\u001b[33mobject-assign@4.1.1\u001b[0m\u001b[0m \n",
      "└── \u001b[40m\u001b[33mexpress@4.17.1\u001b[0m\u001b[0m \n",
      "\n",
      "\u001b[?25l\u001b[0GrunTopLevelLifecycles     ▀ ╢███████████████████████████████████████████████░░╟\n",
      "\u001b[?25h\u001b[?25h\u001b[1A\u001b[0G\u001b[K\u001b[37m\u001b[40mnpm\u001b[0m \u001b[0m\u001b[30m\u001b[43mWARN\u001b[0m \u001b[0m\u001b[35menoent\u001b[0m ENOENT: no such file or directory, open '/jupyteruser/91239418/cs109_hw6/package.json'\n",
      "\u001b[0m\u001b[?25l\u001b[0GrunTopLevelLifecycles     ▐ ╢███████████████████████████████████████████████░░╟\n",
      "\u001b[?25h\u001b[?25h\u001b[1A\u001b[0G\u001b[K\u001b[37m\u001b[40mnpm\u001b[0m \u001b[0m\u001b[30m\u001b[43mWARN\u001b[0m\u001b[35m\u001b[0m cs109_hw6 No description\n",
      "\u001b[0m\u001b[?25l\u001b[0GrunTopLevelLifecycles     ▄ ╢███████████████████████████████████████████████░░╟\n",
      "\u001b[?25h\u001b[?25h\u001b[1A\u001b[0G\u001b[K\u001b[37m\u001b[40mnpm\u001b[0m \u001b[0m\u001b[30m\u001b[43mWARN\u001b[0m\u001b[35m\u001b[0m cs109_hw6 No repository field.\n",
      "\u001b[0m\u001b[?25l\u001b[0GrunTopLevelLifecycles     ▌ ╢███████████████████████████████████████████████░░╟\n",
      "\u001b[?25h\u001b[?25h\u001b[1A\u001b[0G\u001b[K\u001b[37m\u001b[40mnpm\u001b[0m \u001b[0m\u001b[30m\u001b[43mWARN\u001b[0m\u001b[35m\u001b[0m cs109_hw6 No README data\n",
      "\u001b[0m\u001b[?25l\u001b[0GrunTopLevelLifecycles     ▀ ╢███████████████████████████████████████████████░░╟\n",
      "\u001b[?25h\u001b[?25h\u001b[1A\u001b[0G\u001b[K\u001b[37m\u001b[40mnpm\u001b[0m \u001b[0m\u001b[30m\u001b[43mWARN\u001b[0m\u001b[35m\u001b[0m cs109_hw6 No license field.\n",
      "\u001b[0m\u001b[?25l\u001b[0GrunTopLevelLifecycles     ▐ ╢███████████████████████████████████████████████░░╟\n",
      "\u001b[?25h\u001b[?25h\u001b[1A\u001b[0G\u001b[K\u001b[?25h\u001b[0G\u001b[K"
     ]
    }
   ],
   "source": [
    "! npm install cors"
   ]
  },
  {
   "cell_type": "code",
   "execution_count": 12,
   "metadata": {},
   "outputs": [
    {
     "name": "stdout",
     "output_type": "stream",
     "text": [
      "module.js:549\r\n",
      "    throw err;\r\n",
      "    ^\r\n",
      "\r\n",
      "Error: Cannot find module 'cookie-parser'\r\n",
      "    at Function.Module._resolveFilename (module.js:547:15)\r\n",
      "    at Function.Module._load (module.js:474:25)\r\n",
      "    at Module.require (module.js:596:17)\r\n",
      "    at require (internal/module.js:11:18)\r\n",
      "    at Object.<anonymous> (/jupyteruser/91239418/cs109_hw6/app.js:14:20)\r\n",
      "    at Module._compile (module.js:652:30)\r\n",
      "    at Object.Module._extensions..js (module.js:663:10)\r\n",
      "    at Module.load (module.js:565:32)\r\n",
      "    at tryModuleLoad (module.js:505:12)\r\n",
      "    at Function.Module._load (module.js:497:3)\r\n"
     ]
    }
   ],
   "source": [
    "! node app.js"
   ]
  },
  {
   "cell_type": "code",
   "execution_count": 13,
   "metadata": {},
   "outputs": [
    {
     "name": "stdout",
     "output_type": "stream",
     "text": [
      "\u001b[?25l\u001b[0G▄ ╢░░░░░░░░░░░░░░░░░░░░░░░░░░░░░░░░░░░░░░░░░░░░░░░░░░░░░░░░░░░░░░░░░░░░░░░░░░░╟\n",
      "\u001b[?25h\u001b[1A\u001b[?25l\u001b[0G▌ ╢░░░░░░░░░░░░░░░░░░░░░░░░░░░░░░░░░░░░░░░░░░░░░░░░░░░░░░░░░░░░░░░░░░░░░░░░░░░╟\n",
      "\u001b[?25h\u001b[1A\u001b[?25l\u001b[0G▀ ╢░░░░░░░░░░░░░░░░░░░░░░░░░░░░░░░░░░░░░░░░░░░░░░░░░░░░░░░░░░░░░░░░░░░░░░░░░░░╟\n",
      "\u001b[?25h\u001b[1A\u001b[?25l\u001b[0G▄ ╢░░░░░░░░░░░░░░░░░░░░░░░░░░░░░░░░░░░░░░░░░░░░░░░░░░░░░░░░░░░░░░░░░░░░░░░░░░░╟\n",
      "\u001b[?25h\u001b[1A\u001b[?25l\u001b[0G▌ ╢░░░░░░░░░░░░░░░░░░░░░░░░░░░░░░░░░░░░░░░░░░░░░░░░░░░░░░░░░░░░░░░░░░░░░░░░░░░╟\n",
      "\u001b[?25h\u001b[1A\u001b[?25l\u001b[0G▀ ╢░░░░░░░░░░░░░░░░░░░░░░░░░░░░░░░░░░░░░░░░░░░░░░░░░░░░░░░░░░░░░░░░░░░░░░░░░░░╟\n",
      "\u001b[?25h\u001b[1A\u001b[?25l\u001b[0GloadRequestedDeps → fetch ▌ ╢██████████░░░░░░░░░░░░░░░░░░░░░░░░░░░░░░░░░░░░░░░╟\n",
      "\u001b[?25h\u001b[1A\u001b[?25l\u001b[0GloadRequestedDeps         ▄ ╢██████████░░░░░░░░░░░░░░░░░░░░░░░░░░░░░░░░░░░░░░░╟\n",
      "\u001b[?25h\u001b[1A\u001b[?25l\u001b[0GloadDep:cookie → addTmpTa ▌ ╢██████████░░░░░░░░░░░░░░░░░░░░░░░░░░░░░░░░░░░░░░░╟\n",
      "\u001b[?25h\u001b[1A\u001b[?25l\u001b[0GloadDep:raw-body          ▄ ╢██████████████████████████░░░░░░░░░░░░░░░░░░░░░░░╟\n",
      "\u001b[?25h\u001b[1A\u001b[?25l\u001b[0GloadDep:accepts           ▄ ╢██████████████████████░░░░░░░░░░░░░░░░░░░░░░░░░░░╟\n",
      "\u001b[?25h\u001b[1A\u001b[?25l\u001b[0GloadAllDepsIntoIdealTree  ▀ ╢███████████████████████████░░░░░░░░░░░░░░░░░░░░░░╟\n",
      "\u001b[?25h\u001b[1A\u001b[?25l\u001b[0Gextract → gunzTarPerm     ▌ ╢██████████████████████████████████░░░░░░░░░░░░░░░╟\n",
      "\u001b[?25h\u001b[1A\u001b[?25l\u001b[0Gfinalize:cors → finalize  ▌ ╢██████████████████████████████████████████░░░░░░░╟\n",
      "\u001b[?25h\u001b[?25h\u001b[1A\u001b[0G\u001b[K\u001b[?25l\u001b[0GrunTopLevelLifecycles     ▀ ╢███████████████████████████████████████████████░░╟\n",
      "\u001b[?25h\u001b[?25h\u001b[1A\u001b[0G\u001b[K/jupyteruser/91239418/cs109_hw6\n",
      "├─┬ \u001b[40m\u001b[33mcookie-parser@1.4.4\u001b[0m\u001b[0m \n",
      "│ └── \u001b[40m\u001b[33mcookie@0.3.1\u001b[0m\u001b[0m \n",
      "├── \u001b[40m\u001b[33mcors@2.8.5\u001b[0m\u001b[0m \n",
      "└── \u001b[40m\u001b[33mexpress@4.17.1\u001b[0m\u001b[0m \n",
      "\n",
      "\u001b[?25l\u001b[0GrunTopLevelLifecycles     ▀ ╢███████████████████████████████████████████████░░╟\n",
      "\u001b[?25h\u001b[?25h\u001b[1A\u001b[0G\u001b[K\u001b[37m\u001b[40mnpm\u001b[0m \u001b[0m\u001b[30m\u001b[43mWARN\u001b[0m \u001b[0m\u001b[35menoent\u001b[0m ENOENT: no such file or directory, open '/jupyteruser/91239418/cs109_hw6/package.json'\n",
      "\u001b[0m\u001b[?25l\u001b[0GrunTopLevelLifecycles     ▐ ╢███████████████████████████████████████████████░░╟\n",
      "\u001b[?25h\u001b[?25h\u001b[1A\u001b[0G\u001b[K\u001b[37m\u001b[40mnpm\u001b[0m \u001b[0m\u001b[30m\u001b[43mWARN\u001b[0m\u001b[35m\u001b[0m cs109_hw6 No description\n",
      "\u001b[0m\u001b[?25l\u001b[0GrunTopLevelLifecycles     ▄ ╢███████████████████████████████████████████████░░╟\n",
      "\u001b[?25h\u001b[?25h\u001b[1A\u001b[0G\u001b[K\u001b[37m\u001b[40mnpm\u001b[0m \u001b[0m\u001b[30m\u001b[43mWARN\u001b[0m\u001b[35m\u001b[0m cs109_hw6 No repository field.\n",
      "\u001b[0m\u001b[?25l\u001b[0GrunTopLevelLifecycles     ▌ ╢███████████████████████████████████████████████░░╟\n",
      "\u001b[?25h\u001b[?25h\u001b[1A\u001b[0G\u001b[K\u001b[37m\u001b[40mnpm\u001b[0m \u001b[0m\u001b[30m\u001b[43mWARN\u001b[0m\u001b[35m\u001b[0m cs109_hw6 No README data\n",
      "\u001b[0m\u001b[?25l\u001b[0GrunTopLevelLifecycles     ▀ ╢███████████████████████████████████████████████░░╟\n",
      "\u001b[?25h\u001b[?25h\u001b[1A\u001b[0G\u001b[K\u001b[37m\u001b[40mnpm\u001b[0m \u001b[0m\u001b[30m\u001b[43mWARN\u001b[0m\u001b[35m\u001b[0m cs109_hw6 No license field.\n",
      "\u001b[0m\u001b[?25l\u001b[0GrunTopLevelLifecycles     ▐ ╢███████████████████████████████████████████████░░╟\n",
      "\u001b[?25h\u001b[?25h\u001b[1A\u001b[0G\u001b[K\u001b[?25h\u001b[0G\u001b[K"
     ]
    }
   ],
   "source": [
    "! npm install cookie-parser"
   ]
  },
  {
   "cell_type": "code",
   "execution_count": 14,
   "metadata": {},
   "outputs": [
    {
     "name": "stdout",
     "output_type": "stream",
     "text": [
      "Listening on 8888\n",
      "^C\n"
     ]
    }
   ],
   "source": [
    "! node app.js"
   ]
  },
  {
   "cell_type": "code",
   "execution_count": 17,
   "metadata": {},
   "outputs": [
    {
     "name": "stdout",
     "output_type": "stream",
     "text": [
      "{\r\n",
      "  \"error\": {\r\n",
      "    \"status\": 400,\r\n",
      "    \"message\": \"Only valid bearer authentication supported\"\r\n",
      "  }\r\n",
      "}"
     ]
    }
   ],
   "source": [
    "! curl -X GET \"https://api.spotify.com/v1/audio-analysis/3JIxjvbbDrA9ztYlNcp3yL\" -H \"Authorization: Bearer {BQAcp2sVvftsZe2YY1AjWiFbzrKgPEeyfxl4xlfYnmGHQPgk45YpoqABIT6EFETDs80g3Heo_JJYUC77l1kT5SC-km1T-cmam_sXe-pqp9G71BmO3Haj21ysbNX8g0nSVJKbzXtF-6ZF1nftV8YoO883ikRZkcqz-TExfw&refresh_token=AQBPwTbjhr3Xpn4K-n3unF41wYpe-v-Y0gPD-yR-EYz-F-xaxD5FzVrob6-wIRtJ8pUeqiAIVumAJnyzQMuDtdXJr5_4FooDVczFDUhJWwSnzIVgebZxOVoA35cYzpv6j5s}\""
   ]
  },
  {
   "cell_type": "code",
   "execution_count": null,
   "metadata": {},
   "outputs": [],
   "source": []
  }
 ],
 "metadata": {
  "kernelspec": {
   "display_name": "Python 3",
   "language": "python",
   "name": "python3"
  },
  "language_info": {
   "codemirror_mode": {
    "name": "ipython",
    "version": 3
   },
   "file_extension": ".py",
   "mimetype": "text/x-python",
   "name": "python",
   "nbconvert_exporter": "python",
   "pygments_lexer": "ipython3",
   "version": "3.7.3"
  }
 },
 "nbformat": 4,
 "nbformat_minor": 2
}
