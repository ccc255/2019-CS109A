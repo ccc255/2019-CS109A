{
 "cells": [
  {
   "cell_type": "code",
   "execution_count": 1,
   "metadata": {},
   "outputs": [],
   "source": [
    "# import the necessary libraries \n",
    "from bs4 import BeautifulSoup\n",
    "import requests\n",
    "from collections import Counter\n",
    "from string import punctuation\n",
    "import operator\n",
    "import time\n",
    "import pickle\n",
    "import re\n",
    "import pandas as pd\n",
    "import numpy as np\n",
    "from statistics import mean\n",
    "from matplotlib import pyplot as plt"
   ]
  },
  {
   "cell_type": "code",
   "execution_count": 214,
   "metadata": {},
   "outputs": [],
   "source": [
    "# test pipeline with happy playlist\n",
    "song_data = pickle.load(open('song_data.p','rb'))"
   ]
  },
  {
   "cell_type": "code",
   "execution_count": 216,
   "metadata": {
    "scrolled": true
   },
   "outputs": [
    {
     "data": {
      "text/plain": [
       "dict_keys(['4evmHXcjt3bTUHD1cvny97', '5s4useNfZqXHdXrRdDrzWc', '1HfMVBKM75vxSfsQ5VefZ5', '2wrJq5XKLnmhRXHIAf9xBa', '6mQLN3zRtAp6ovjusyYKrV', '5I8oEqbk2ZBmQfXCrZbUFb', '5WtfUKzXircvW8l5aaVZWT', '5rFj8OzffT0iggSjcBaeND', '22pBf2FVR5WYMcZ1ROSINP', '2jZIfoe48eUeOEnP9Ho4h2', '5g45gvxgaYVuhkDACPnvfh', '2hnxrRNzF74mdDzpQZQukQ', '6b2RcmUt1g9N9mQ3CbjX2Y', '3HVWdVOQ0ZA45FuZGSfvns', '7MmnLaftYzin7boRbplKdA', '6Yx181fZzA0YE2EkUsYruq', '7COXchtUOMd6uIT6HvmRaI', '4JWQC6gyYoPRnxRxk0ta2M', '4vUmTMuQqjdnvlZmAH61Qk', '6moU77g9RQyMzHNuKEaQKq', '1csB4kgdyglOQdH0EyFIqy', '3EPXxR3ImUwfayaurPi3cm', '6Qs4SXO9dwPj5GKvVOv8Ki', '5ug4vqGZ3eisGhY1IsziNX', '2ZrHbO88rM6Ijeg0aJmSzl', '018Idkvf82hi44UZmIXiGB', '5tAa8Uaqr4VvA3693mbIhU', '5FNS5Vj69AhRGJWjhrAd01', '2uaiyLKnYvazyfR0Ky3Kbk', '46D0hYb1B7qiU33VtXt21W', '2RttW7RAu5nOAfq6YFvApB', '4VPXFi4vFTtS9wHe6oMQaT', '7krbSH3rd8lhIZvuzTV3Bl', '0ND8rF8oirMXtE59n585P6', '0TK2YIli7K1leLovkQiNik', '4gJAWJnE5cvAAWyTMTxgdY', '4KnnWpUyPfQD6X5SQSTlH3', '72b0ANL1ZiV71OiZRs0Lny', '3u5bTqHMM1P34ZkbwzdckV', '4XLu3tTSZiPFVC9mmuR6Zp', '2BkyYZmU4JuWW2sYi9EzpC', '1WO6kvO7P8TOsuhBaqun5w', '5HlFO9E6TgsCpJWVjguZDl', '7apizLyhMRutg3ccXvr2qv', '5y2TuOFgwlpztHlqENHQOE', '0VWE11LUDOc9Jo78vbpAxB', '2SvO59G9QOuDjdcli1rEYV', '2UTHTASTtmJXiBUmSIXERT', '3npzogdOEiVsieXmmhBepL', '4A7EkKijzA4ryEoCRWJzdG', '6iey2E15nqKQ60KW8vBQQi', '1zVfFnkHv8ubJRXT30d4T3', '1Pw5C4N6Fn5E4mGCxmbbVa', '7oAraczbemGSNWqnbkU87R', '5fX2oPyLCe5mBKqGDbOWqC', '3hRZsdTF5uyGA2uhNqEuhm', '6oynBOei3VDaRYmBghTCOO', '1mLUvpjtP8RAZIt9KoZwvv', '4P6g8wuXeR3wznFk7WnI4w', '0XxW0lU2ZgFvMzVF6F3Xb5', '1a1SQeSqUKzH5OUVTEx4ae', '0iVAPfPW2NkfxCqu0a1UBl', '12PJCkZit47Sr3K705SZIm', '4l6boTiX3Erh3HYpKOa0D6', '5pBZoZhlYKgzdjdqtbBeXX', '2A8fh9MXaPMv88D8NdGnsM', '4ZLzoOkj0MPWrTLvooIuaa', '4f5LDR4RWrboZT1YoSUfcy', '3LbwR2WcofkDBp4LSgGJh1', '3MQMBm2m3UqpT23doEOZc2', '3mY5W2fJF9wKoy5d4IOtsZ', '4ks6j7JsfJorc1tb4THJo8', '1emAqEEKHGpdFx6H2YJTiG', '59z0L6S0GDNCiliSk3yiX0', '66yKv1kZIqfejvrLEGqTML', '4JIo8RztBbELr2gWJ5OGK6', '1kjrgWG47wJgVqvQOvyb7C', '58YU87leZyFMLbqdhQyQva', '26z6V1SijQq6J3gPIu1H7t', '3bH4HzoZZFq8UpZmI2AMgV', '1TztkUc1qFYl61tT85MHU4', '4IcRwlfIwp7BDljw7m8cSe', '1bhUWB0zJMIKr9yVPrkEuI', '6D8WgDaIuyirn6egGauzVK', '0AQDhFnLUd32C8y3cjje9g', '4uhlD1p3hKRI9PLH8qX0fn', '0tREQYNVp41QWZOlqi1y5O', '78rFhTXf81WtRS7Ubl2f4V', '25Caem6cbUveFkgPSXtGXe', '2NjQePuDpwMvBcEs4hhOVK', '0rDSXB4Alsa1vEAESzeZ3h', '0cj2joJcY6b4XSRfj2eZOl', '2vNyWYQtbrgOKcSG64SZMJ', '48HT7Zzd3We4ZjG82lsbdK', '10QFM1yWDa84ccxsi8BZJi', '1wtrJ0dcTjqP8PMRTczdSi', '4Xx4oojaE3MlJKpgtilgp1', '4WH2PelEpTVSuglBbz65gN', '6lanRgr6wXibZr8KgzXxBl', '2yPqhfL7EeQlEdz7rAQfU9'])"
      ]
     },
     "execution_count": 216,
     "metadata": {},
     "output_type": "execute_result"
    }
   ],
   "source": [
    "song_data.keys()"
   ]
  },
  {
   "cell_type": "code",
   "execution_count": 217,
   "metadata": {
    "scrolled": true
   },
   "outputs": [
    {
     "data": {
      "text/plain": [
       "dict_values([{'artist': 'Ed Sheeran', 'name': 'Beautiful People (feat. Khalid)'}, {'artist': '5 Seconds of Summer', 'name': 'Lie To Me'}, {'artist': 'Selena Gomez', 'name': 'Lose You To Love Me'}, {'artist': 'Dan + Shay', 'name': '10,000 Hours (with Justin Bieber)'}, {'artist': 'James Arthur', 'name': 'Rewrite The Stars (with James Arthur & Anne-Marie)'}, {'artist': 'Shawn Mendes', 'name': \"Fallin' All In You\"}, {'artist': 'Julia Michaels', 'name': 'What A Time (feat. Niall Horan)'}, {'artist': 'Sam Smith', 'name': 'Fire On Fire - From \"Watership Down\"'}, {'artist': 'ZAYN', 'name': 'Good Years'}, {'artist': 'Jack & Jack', 'name': 'No One Compares To You'}, {'artist': 'James TW', 'name': 'You & Me'}, {'artist': 'Lauv', 'name': \"There's No Way (feat. Julia Michaels)\"}, {'artist': 'Sam Smith', 'name': 'How Do You Sleep?'}, {'artist': 'Ed Sheeran', 'name': \"I Don't Care (with Justin Bieber)\"}, {'artist': 'ZAYN', 'name': 'There You Are'}, {'artist': \"Why Don't We\", 'name': 'Big Plans'}, {'artist': 'Lauv', 'name': \"i'm so tired...\"}, {'artist': 'James Bay', 'name': 'Peer Pressure (feat. Julia Michaels)'}, {'artist': 'Ed Sheeran', 'name': 'South of the Border (feat. Camila Cabello & Cardi B)'}, {'artist': 'Ali Gatie', 'name': \"It's You\"}, {'artist': 'James TW', 'name': 'Say Love'}, {'artist': 'Dean Lewis', 'name': 'Be Alright'}, {'artist': 'Sam Smith', 'name': 'Dancing With A Stranger (with Normani)'}, {'artist': 'Ed Sheeran', 'name': 'Best Part of Me (feat. YEBBA)'}, {'artist': 'Charlie Puth', 'name': 'Patient'}, {'artist': 'The Script', 'name': 'Never Seen Anything \"Quite Like You\" - Acoustic'}, {'artist': 'Zara Larsson', 'name': 'Ruin My Life'}, {'artist': 'AJ Mitchell', 'name': 'Slow Dance'}, {'artist': 'Alec Benjamin', 'name': 'Let Me Down Slowly'}, {'artist': 'Camila Cabello', 'name': 'Easy'}, {'artist': 'Ed Sheeran', 'name': 'Happier'}, {'artist': 'Zara Larsson', 'name': \"I Can't Fall in Love Without You\"}, {'artist': 'James Arthur', 'name': 'Naked'}, {'artist': 'Julia Michaels', 'name': '17'}, {'artist': 'Shawn Mendes', 'name': 'Señorita'}, {'artist': 'Calum Scott', 'name': 'You Are The Reason - Duet Version'}, {'artist': 'Daniel Schulz', 'name': 'Turn Back Time'}, {'artist': 'Lauren Daigle', 'name': 'You Say'}, {'artist': 'Lauv', 'name': 'The Story Never Ends'}, {'artist': 'Camila Cabello', 'name': 'All These Years'}, {'artist': 'Dean Lewis', 'name': '7 Minutes'}, {'artist': 'Nina Nesbitt', 'name': \"Is It Really Me You're Missing\"}, {'artist': 'James TW', 'name': 'Suitcase'}, {'artist': 'Noah Kahan', 'name': 'Hurt Somebody'}, {'artist': 'Cody Simpson', 'name': 'golden thing'}, {'artist': 'Isak Danielson', 'name': 'I Am Falling In Love'}, {'artist': 'My Sun and Stars', 'name': 'For You'}, {'artist': 'Etham', 'name': 'Before I Lose My Mind - Stripped'}, {'artist': 'Maren Morris', 'name': 'The Bones'}, {'artist': 'Lady Gaga', 'name': \"I'll Never Love Again - Film Version\"}, {'artist': 'Dean Lewis', 'name': 'Stay Awake'}, {'artist': 'Christopher', 'name': 'My Heart'}, {'artist': 'James Arthur', 'name': \"Say You Won't Let Go\"}, {'artist': 'Sam Smith', 'name': 'Too Good At Goodbyes'}, {'artist': 'James TW', 'name': 'When You Love Someone'}, {'artist': 'Niall Horan', 'name': 'Too Much To Ask'}, {'artist': 'Elina', 'name': 'Wild Enough'}, {'artist': 'Jay Sean', 'name': 'Emergency'}, {'artist': 'Gabrielle Aplin', 'name': 'Losing Me'}, {'artist': 'Lukas Graham', 'name': 'Love Someone (feat. Sabina Ddumba) - Recorded at Spotify Studios Stockholm'}, {'artist': 'Maisie Peters', 'name': 'Favourite Ex'}, {'artist': 'James Arthur', 'name': 'Can I Be Him - Acoustic Live Version'}, {'artist': 'Justin Jesso', 'name': 'Let it Be Me'}, {'artist': 'Ruben', 'name': 'Lay By Me'}, {'artist': 'James Bay', 'name': 'Slide'}, {'artist': 'Peder Elias', 'name': 'Good For You'}, {'artist': 'Kina', 'name': 'Get You The Moon (feat. Snøw)'}, {'artist': 'Sigala', 'name': 'Lullaby - Acoustic'}, {'artist': 'Clara Mae', 'name': 'Loved You Once'}, {'artist': 'Gavin James', 'name': 'Always'}, {'artist': 'Wallaby', 'name': 'Anywhere With You (feat. Andie Nora)'}, {'artist': 'Conor Maynard', 'name': \"Don't Let Me Down\"}, {'artist': 'Elina', 'name': 'Mirage'}, {'artist': 'Clara Mae', 'name': 'Us'}, {'artist': 'Isaiah', 'name': \"It's Gotta Be You\"}, {'artist': 'Little Mix', 'name': 'Secret Love Song (feat. Jason Derulo)'}, {'artist': 'George Ezra', 'name': 'Hold My Girl'}, {'artist': 'Robin Bengtsson', 'name': 'The First To Know'}, {'artist': 'Freya Ridings', 'name': 'Lost Without You'}, {'artist': 'John Mayer', 'name': 'New Light'}, {'artist': 'Kadiatou', 'name': 'Say Something'}, {'artist': 'Nathan Sykes', 'name': 'Over And Over Again'}, {'artist': 'Ed Sheeran', 'name': 'Perfect Duet (Ed Sheeran & Beyoncé)'}, {'artist': 'RITUAL', 'name': 'Love Me Back'}, {'artist': 'Juliander', 'name': 'Afterglow'}, {'artist': 'Lady Gaga', 'name': 'Million Reasons'}, {'artist': 'Andreas Moe', 'name': 'Mine Mine Mine'}, {'artist': 'Chelsea Cutler', 'name': 'Lucky'}, {'artist': 'Joshua Hyslop', 'name': 'Long Way Down'}, {'artist': 'Julie Bergan', 'name': 'U Got Me'}, {'artist': 'Billy Lockett', 'name': 'Fading Into Grey'}, {'artist': 'Adele', 'name': 'When We Were Young'}, {'artist': 'Mr. Probz', 'name': 'Space for Two'}, {'artist': 'The Paper Kites', 'name': 'Arms'}, {'artist': 'Phillip Larue', 'name': 'Sweet Love'}, {'artist': 'Chris Medina', 'name': 'Cut Me'}, {'artist': 'Andrelli', 'name': 'Yung Luv'}, {'artist': 'Nina Nesbitt', 'name': 'Somebody Special'}, {'artist': 'Christina Perri', 'name': 'A Thousand Years'}, {'artist': 'Tom Walker', 'name': 'Just You and I'}])"
      ]
     },
     "execution_count": 217,
     "metadata": {},
     "output_type": "execute_result"
    }
   ],
   "source": [
    "song_data.values()"
   ]
  },
  {
   "cell_type": "code",
   "execution_count": 238,
   "metadata": {},
   "outputs": [],
   "source": [
    "# playlist 1\n",
    "\n",
    "#song_data = pickle.load(open('37i9dQZF1DXdPec7aLTmlC','rb'))"
   ]
  },
  {
   "cell_type": "code",
   "execution_count": 247,
   "metadata": {},
   "outputs": [],
   "source": [
    "# playlist 2\n",
    "\n",
    "#song_data = pickle.load(open('7ABD15iASBIpPP5uJ5awvq','rb'))"
   ]
  },
  {
   "cell_type": "code",
   "execution_count": 257,
   "metadata": {},
   "outputs": [],
   "source": [
    "# playlist 3\n",
    "\n",
    "song_data = pickle.load(open('1Ih75w3gT8Nw3uO4efQHsO','rb'))"
   ]
  },
  {
   "cell_type": "code",
   "execution_count": 258,
   "metadata": {},
   "outputs": [],
   "source": [
    "# get URL for genius lyrics page for each song in a playlist\n",
    "url_list = []\n",
    "for key in list(song_data.keys()):\n",
    "    song_d = song_data[key]\n",
    "    current_artist = song_d['artist'].replace(\" \",\"-\")\n",
    "    current_name = song_d['name'].replace(' ','-')\n",
    "    url_list.append('https://genius.com/{}-{}-lyrics'.format(current_artist,current_name))"
   ]
  },
  {
   "cell_type": "code",
   "execution_count": 259,
   "metadata": {},
   "outputs": [
    {
     "data": {
      "text/plain": [
       "100"
      ]
     },
     "execution_count": 259,
     "metadata": {},
     "output_type": "execute_result"
    }
   ],
   "source": [
    "len(url_list)"
   ]
  },
  {
   "cell_type": "code",
   "execution_count": null,
   "metadata": {},
   "outputs": [],
   "source": [
    "# will be used to get word counts in lyrics for each song in a playlist\n",
    "# from https://www.w3resource.com/python-exercises/string/python-data-type-string-exercise-12.php\n",
    "def word_count(str):\n",
    "    counts = dict()\n",
    "    words = str.split()\n",
    "\n",
    "    for word in words:\n",
    "        if word in counts:\n",
    "            counts[word] += 1\n",
    "        else:\n",
    "            counts[word] = 1\n",
    "\n",
    "    return counts"
   ]
  },
  {
   "cell_type": "code",
   "execution_count": 260,
   "metadata": {},
   "outputs": [],
   "source": [
    "# get word counts in lyrics for each song in a playlist\n",
    "\n",
    "#url_part1_clean2 = ['https://genius.com/Clara-mae-us-lyrics']\n",
    "request_code = []\n",
    "lyrics_freq2 = []\n",
    "url_included = []\n",
    "for i in url_list:\n",
    "    time.sleep(2)\n",
    "    r = requests.get(i)\n",
    "    request_code = r.status_code\n",
    "    if request_code == 200:\n",
    "        url_included.append(i)\n",
    "        soup = BeautifulSoup(r.content)\n",
    "        breadcrum = soup.find('div', attrs={'class':'lyrics'}).get_text().strip()\n",
    "        breadcrum2 = ''.join(breadcrum)\n",
    "        text = breadcrum2.replace(\"\\n\",\" \")\n",
    "        #c = Counter((x.rstrip(punctuation).lower() for y in text for x in y.split()))\n",
    "        c = word_count(re.sub(r'[^\\w\\s]','',str(text)).lower())\n",
    "        lyrics_freq2.append(c)"
   ]
  },
  {
   "cell_type": "code",
   "execution_count": 261,
   "metadata": {},
   "outputs": [
    {
     "data": {
      "text/plain": [
       "51"
      ]
     },
     "execution_count": 261,
     "metadata": {},
     "output_type": "execute_result"
    }
   ],
   "source": [
    "len(lyrics_freq2)"
   ]
  },
  {
   "cell_type": "code",
   "execution_count": 262,
   "metadata": {},
   "outputs": [
    {
     "data": {
      "text/plain": [
       "51"
      ]
     },
     "execution_count": 262,
     "metadata": {},
     "output_type": "execute_result"
    }
   ],
   "source": [
    "len(url_included)"
   ]
  },
  {
   "cell_type": "code",
   "execution_count": 263,
   "metadata": {},
   "outputs": [],
   "source": [
    "# paste uri here for given playlist\n",
    "playlist_uri = '1Ih75w3gT8Nw3uO4efQHsO'"
   ]
  },
  {
   "cell_type": "code",
   "execution_count": 264,
   "metadata": {},
   "outputs": [],
   "source": [
    "# construct data frame to store dictionary of word frequencies\n",
    "data_1 = {'url_included': url_included, 'lyrics_frequency': lyrics_freq2, 'playlist_uri': playlist_uri}\n",
    "data_1_df = pd.DataFrame(data_1)"
   ]
  },
  {
   "cell_type": "code",
   "execution_count": 265,
   "metadata": {
    "scrolled": true
   },
   "outputs": [
    {
     "data": {
      "text/html": [
       "<div>\n",
       "<style scoped>\n",
       "    .dataframe tbody tr th:only-of-type {\n",
       "        vertical-align: middle;\n",
       "    }\n",
       "\n",
       "    .dataframe tbody tr th {\n",
       "        vertical-align: top;\n",
       "    }\n",
       "\n",
       "    .dataframe thead th {\n",
       "        text-align: right;\n",
       "    }\n",
       "</style>\n",
       "<table border=\"1\" class=\"dataframe\">\n",
       "  <thead>\n",
       "    <tr style=\"text-align: right;\">\n",
       "      <th></th>\n",
       "      <th>url_included</th>\n",
       "      <th>lyrics_frequency</th>\n",
       "      <th>playlist_uri</th>\n",
       "    </tr>\n",
       "  </thead>\n",
       "  <tbody>\n",
       "    <tr>\n",
       "      <th>0</th>\n",
       "      <td>https://genius.com/Waka-Flocka-Flame-Hard-in-D...</td>\n",
       "      <td>{'producer': 1, 'tag': 1, 'that': 3, 'nigga': ...</td>\n",
       "      <td>1Ih75w3gT8Nw3uO4efQHsO</td>\n",
       "    </tr>\n",
       "    <tr>\n",
       "      <th>1</th>\n",
       "      <td>https://genius.com/Chief-Keef-Love-Sosa-lyrics</td>\n",
       "      <td>{'spoken': 1, 'intro': 1, 'jordan': 1, 'gilty'...</td>\n",
       "      <td>1Ih75w3gT8Nw3uO4efQHsO</td>\n",
       "    </tr>\n",
       "    <tr>\n",
       "      <th>2</th>\n",
       "      <td>https://genius.com/ScHoolboy-Q-Man-Of-The-Year...</td>\n",
       "      <td>{'produced': 1, 'by': 2, 'nez': 1, 'rio': 1, '...</td>\n",
       "      <td>1Ih75w3gT8Nw3uO4efQHsO</td>\n",
       "    </tr>\n",
       "    <tr>\n",
       "      <th>3</th>\n",
       "      <td>https://genius.com/Bobby-Shmurda-Bobby-Bitch-l...</td>\n",
       "      <td>{'produced': 1, 'by': 1, 'dondre': 1, 'intro':...</td>\n",
       "      <td>1Ih75w3gT8Nw3uO4efQHsO</td>\n",
       "    </tr>\n",
       "    <tr>\n",
       "      <th>4</th>\n",
       "      <td>https://genius.com/YG-My-Nigga-lyrics</td>\n",
       "      <td>{'intro': 1, 'mustard': 1, 'on': 7, 'the': 16,...</td>\n",
       "      <td>1Ih75w3gT8Nw3uO4efQHsO</td>\n",
       "    </tr>\n",
       "    <tr>\n",
       "      <th>5</th>\n",
       "      <td>https://genius.com/6ix9ine-BILLY-lyrics</td>\n",
       "      <td>{'intro': 1, 'shotti': 1, '6ix9ine': 4, 'thats...</td>\n",
       "      <td>1Ih75w3gT8Nw3uO4efQHsO</td>\n",
       "    </tr>\n",
       "    <tr>\n",
       "      <th>6</th>\n",
       "      <td>https://genius.com/6ix9ine-BUBA-lyrics</td>\n",
       "      <td>{'intro': 1, 'scum': 1, 'gang': 2, 'mj': 1, 'p...</td>\n",
       "      <td>1Ih75w3gT8Nw3uO4efQHsO</td>\n",
       "    </tr>\n",
       "    <tr>\n",
       "      <th>7</th>\n",
       "      <td>https://genius.com/6ix9ine-TATI-lyrics</td>\n",
       "      <td>{'intro': 1, 'hold': 2, 'up': 7, 'let': 2, 'me...</td>\n",
       "      <td>1Ih75w3gT8Nw3uO4efQHsO</td>\n",
       "    </tr>\n",
       "    <tr>\n",
       "      <th>8</th>\n",
       "      <td>https://genius.com/6ix9ine-KOODA-lyrics</td>\n",
       "      <td>{'intro': 1, 'scum': 2, 'gang': 5, 'chorus': 3...</td>\n",
       "      <td>1Ih75w3gT8Nw3uO4efQHsO</td>\n",
       "    </tr>\n",
       "    <tr>\n",
       "      <th>9</th>\n",
       "      <td>https://genius.com/6ix9ine-KEKE-lyrics</td>\n",
       "      <td>{'intro': 1, '6ix9ine': 4, 'scum': 1, 'gang': ...</td>\n",
       "      <td>1Ih75w3gT8Nw3uO4efQHsO</td>\n",
       "    </tr>\n",
       "    <tr>\n",
       "      <th>10</th>\n",
       "      <td>https://genius.com/YBN-Nahmir-Rubbin-off-the-P...</td>\n",
       "      <td>{'intro': 1, 'thats': 6, 'what': 1, 'i': 18, '...</td>\n",
       "      <td>1Ih75w3gT8Nw3uO4efQHsO</td>\n",
       "    </tr>\n",
       "    <tr>\n",
       "      <th>11</th>\n",
       "      <td>https://genius.com/Tay-K-The-Race-lyrics</td>\n",
       "      <td>{'intro': 1, 'iiim': 2, 'lil': 6, 'tayk': 3, '...</td>\n",
       "      <td>1Ih75w3gT8Nw3uO4efQHsO</td>\n",
       "    </tr>\n",
       "    <tr>\n",
       "      <th>12</th>\n",
       "      <td>https://genius.com/YBN-Nahmir-Bounce-Out-With-...</td>\n",
       "      <td>{'chorus': 2, 'gang': 6, 'lately': 2, 'been': ...</td>\n",
       "      <td>1Ih75w3gT8Nw3uO4efQHsO</td>\n",
       "    </tr>\n",
       "    <tr>\n",
       "      <th>13</th>\n",
       "      <td>https://genius.com/6ix9ine-GUMMO-lyrics</td>\n",
       "      <td>{'intro': 1, 'niggas': 10, 'iffy': 2, 'uh': 10...</td>\n",
       "      <td>1Ih75w3gT8Nw3uO4efQHsO</td>\n",
       "    </tr>\n",
       "    <tr>\n",
       "      <th>14</th>\n",
       "      <td>https://genius.com/50-Cent-Gunz-Come-Out-lyrics</td>\n",
       "      <td>{'hook': 4, 'yall': 31, 'niggas': 36, 'know': ...</td>\n",
       "      <td>1Ih75w3gT8Nw3uO4efQHsO</td>\n",
       "    </tr>\n",
       "    <tr>\n",
       "      <th>15</th>\n",
       "      <td>https://genius.com/50-Cent-Back-Down-lyrics</td>\n",
       "      <td>{'intro': 1, 'woo': 1, 'yeah': 1, 'gggggunit':...</td>\n",
       "      <td>1Ih75w3gT8Nw3uO4efQHsO</td>\n",
       "    </tr>\n",
       "    <tr>\n",
       "      <th>16</th>\n",
       "      <td>https://genius.com/50-Cent-Heat-lyrics</td>\n",
       "      <td>{'intro': 1, 'skit': 1, 'man': 5, '1': 3, 'aye...</td>\n",
       "      <td>1Ih75w3gT8Nw3uO4efQHsO</td>\n",
       "    </tr>\n",
       "    <tr>\n",
       "      <th>17</th>\n",
       "      <td>https://genius.com/50-Cent-What-Up-Gangsta-lyrics</td>\n",
       "      <td>{'intro': 1, 'gunit': 6, 'bo': 7, 'we': 24, 'i...</td>\n",
       "      <td>1Ih75w3gT8Nw3uO4efQHsO</td>\n",
       "    </tr>\n",
       "    <tr>\n",
       "      <th>18</th>\n",
       "      <td>https://genius.com/Bobby-Shmurda-Living-Life-l...</td>\n",
       "      <td>{'intro': 1, 'yeah': 14, 'verse': 2, '1': 1, '...</td>\n",
       "      <td>1Ih75w3gT8Nw3uO4efQHsO</td>\n",
       "    </tr>\n",
       "    <tr>\n",
       "      <th>19</th>\n",
       "      <td>https://genius.com/A-Boogie-Wit-da-Hoodie-Jung...</td>\n",
       "      <td>{'intro': 1, 'nigga': 25, 'this': 11, 'is': 11...</td>\n",
       "      <td>1Ih75w3gT8Nw3uO4efQHsO</td>\n",
       "    </tr>\n",
       "    <tr>\n",
       "      <th>20</th>\n",
       "      <td>https://genius.com/Tee-Grizzley-First-Day-Out-...</td>\n",
       "      <td>{'intro': 1, 'helluva': 1, 'made': 3, 'this': ...</td>\n",
       "      <td>1Ih75w3gT8Nw3uO4efQHsO</td>\n",
       "    </tr>\n",
       "    <tr>\n",
       "      <th>21</th>\n",
       "      <td>https://genius.com/50-Cent-U-Not-Like-Me-lyrics</td>\n",
       "      <td>{'intro': 1, 'nypd': 8, 'lapd': 4, 'when': 4, ...</td>\n",
       "      <td>1Ih75w3gT8Nw3uO4efQHsO</td>\n",
       "    </tr>\n",
       "    <tr>\n",
       "      <th>22</th>\n",
       "      <td>https://genius.com/DMX-Where-The-Hood-At-lyrics</td>\n",
       "      <td>{'intro': 1, 'ayo': 1, 'yall': 7, 'niggas': 24...</td>\n",
       "      <td>1Ih75w3gT8Nw3uO4efQHsO</td>\n",
       "    </tr>\n",
       "    <tr>\n",
       "      <th>23</th>\n",
       "      <td>https://genius.com/BROCKHAMPTON-1999-WILDFIRE-...</td>\n",
       "      <td>{'intro': 1, 'jazze': 2, 'pha': 1, 'ladies': 1...</td>\n",
       "      <td>1Ih75w3gT8Nw3uO4efQHsO</td>\n",
       "    </tr>\n",
       "    <tr>\n",
       "      <th>24</th>\n",
       "      <td>https://genius.com/Brotha-Lynch-Hung-Meat-Clea...</td>\n",
       "      <td>{'verse': 3, '1': 1, 'comin': 4, 'with': 8, 't...</td>\n",
       "      <td>1Ih75w3gT8Nw3uO4efQHsO</td>\n",
       "    </tr>\n",
       "    <tr>\n",
       "      <th>25</th>\n",
       "      <td>https://genius.com/Casanova-Catch-A-Body-lyrics</td>\n",
       "      <td>{'intro': 1, 'casanova': 1, 'yo': 3, 'mike': 1...</td>\n",
       "      <td>1Ih75w3gT8Nw3uO4efQHsO</td>\n",
       "    </tr>\n",
       "    <tr>\n",
       "      <th>26</th>\n",
       "      <td>https://genius.com/Chief-Keef-Faneto-lyrics</td>\n",
       "      <td>{'intro': 1, 'ayy': 22, 'gang': 16, 'sosa': 1,...</td>\n",
       "      <td>1Ih75w3gT8Nw3uO4efQHsO</td>\n",
       "    </tr>\n",
       "    <tr>\n",
       "      <th>27</th>\n",
       "      <td>https://genius.com/Chief-Keef-3Hunna-lyrics</td>\n",
       "      <td>{'intro': 1, 'sosa': 4, 'baby': 2, 'you': 7, '...</td>\n",
       "      <td>1Ih75w3gT8Nw3uO4efQHsO</td>\n",
       "    </tr>\n",
       "    <tr>\n",
       "      <th>28</th>\n",
       "      <td>https://genius.com/D12-Fight-Music-lyrics</td>\n",
       "      <td>{'chorus': 3, 'eminem': 4, 'this': 12, 'kind':...</td>\n",
       "      <td>1Ih75w3gT8Nw3uO4efQHsO</td>\n",
       "    </tr>\n",
       "    <tr>\n",
       "      <th>29</th>\n",
       "      <td>https://genius.com/DMX-Grand-Finale-lyrics</td>\n",
       "      <td>{'intro': 1, 'dmx': 3, 'i': 9, 'aint': 2, 'goi...</td>\n",
       "      <td>1Ih75w3gT8Nw3uO4efQHsO</td>\n",
       "    </tr>\n",
       "    <tr>\n",
       "      <th>30</th>\n",
       "      <td>https://genius.com/DMX-X-Is-Coming-lyrics</td>\n",
       "      <td>{'intro': 1, 'kid': 1, 'one': 8, 'two': 8, 'x'...</td>\n",
       "      <td>1Ih75w3gT8Nw3uO4efQHsO</td>\n",
       "    </tr>\n",
       "    <tr>\n",
       "      <th>31</th>\n",
       "      <td>https://genius.com/DMX-Bring-Your-Whole-Crew-l...</td>\n",
       "      <td>{'intro': 1, 'uhh': 8, 'ayy': 2, 'cmon': 11, '...</td>\n",
       "      <td>1Ih75w3gT8Nw3uO4efQHsO</td>\n",
       "    </tr>\n",
       "    <tr>\n",
       "      <th>32</th>\n",
       "      <td>https://genius.com/The-Game-92-Bars-lyrics</td>\n",
       "      <td>{'verse': 1, 'this': 10, 'that': 8, 'sick': 2,...</td>\n",
       "      <td>1Ih75w3gT8Nw3uO4efQHsO</td>\n",
       "    </tr>\n",
       "    <tr>\n",
       "      <th>33</th>\n",
       "      <td>https://genius.com/The-Game-Dreams-lyrics</td>\n",
       "      <td>{'intro': 1, 'sample': 4, 'and': 17, 'i': 37, ...</td>\n",
       "      <td>1Ih75w3gT8Nw3uO4efQHsO</td>\n",
       "    </tr>\n",
       "    <tr>\n",
       "      <th>34</th>\n",
       "      <td>https://genius.com/The-Game-Never-Personal-lyrics</td>\n",
       "      <td>{'the': 21, 'game': 2, 'yo': 1, 'when': 2, 'im...</td>\n",
       "      <td>1Ih75w3gT8Nw3uO4efQHsO</td>\n",
       "    </tr>\n",
       "    <tr>\n",
       "      <th>35</th>\n",
       "      <td>https://genius.com/The-Game-Walk-Wit-Me-lyrics</td>\n",
       "      <td>{'the': 19, 'game': 2, 'hey': 1, 'yo': 1, 'kid...</td>\n",
       "      <td>1Ih75w3gT8Nw3uO4efQHsO</td>\n",
       "    </tr>\n",
       "    <tr>\n",
       "      <th>36</th>\n",
       "      <td>https://genius.com/The-Game-Hit-The-News-lyrics</td>\n",
       "      <td>{'hook': 3, '40': 3, 'ounces': 3, 'aint': 8, '...</td>\n",
       "      <td>1Ih75w3gT8Nw3uO4efQHsO</td>\n",
       "    </tr>\n",
       "    <tr>\n",
       "      <th>37</th>\n",
       "      <td>https://genius.com/The-Game-Gang-Signs-lyrics</td>\n",
       "      <td>{'hook': 3, 'when': 14, 'the': 26, 'gang': 12,...</td>\n",
       "      <td>1Ih75w3gT8Nw3uO4efQHsO</td>\n",
       "    </tr>\n",
       "    <tr>\n",
       "      <th>38</th>\n",
       "      <td>https://genius.com/The-Game-Speakers-On-Blast-...</td>\n",
       "      <td>{'verse': 4, '1': 1, 'game': 3, 'its': 2, 'not...</td>\n",
       "      <td>1Ih75w3gT8Nw3uO4efQHsO</td>\n",
       "    </tr>\n",
       "    <tr>\n",
       "      <th>39</th>\n",
       "      <td>https://genius.com/The-Game-Heavy-Artillery-ly...</td>\n",
       "      <td>{'intro': 1, 'rick': 2, 'ross': 3, 'sample': 1...</td>\n",
       "      <td>1Ih75w3gT8Nw3uO4efQHsO</td>\n",
       "    </tr>\n",
       "    <tr>\n",
       "      <th>40</th>\n",
       "      <td>https://genius.com/The-Game-Paramedics-lyrics</td>\n",
       "      <td>{'intro': 1, 'young': 7, 'jeezy': 9, 'maestrom...</td>\n",
       "      <td>1Ih75w3gT8Nw3uO4efQHsO</td>\n",
       "    </tr>\n",
       "    <tr>\n",
       "      <th>41</th>\n",
       "      <td>https://genius.com/The-Game-Ricky-lyrics</td>\n",
       "      <td>{'intro': 1, 'boyz': 4, 'n': 4, 'the': 26, 'ho...</td>\n",
       "      <td>1Ih75w3gT8Nw3uO4efQHsO</td>\n",
       "    </tr>\n",
       "    <tr>\n",
       "      <th>42</th>\n",
       "      <td>https://genius.com/The-Game-The-City-lyrics</td>\n",
       "      <td>{'intro': 1, 'sampled': 1, 'see': 5, 'any': 3,...</td>\n",
       "      <td>1Ih75w3gT8Nw3uO4efQHsO</td>\n",
       "    </tr>\n",
       "    <tr>\n",
       "      <th>43</th>\n",
       "      <td>https://genius.com/The-Game-Dope-Boys-lyrics</td>\n",
       "      <td>{'produced': 1, 'by': 1, '1500': 1, 'or': 1, '...</td>\n",
       "      <td>1Ih75w3gT8Nw3uO4efQHsO</td>\n",
       "    </tr>\n",
       "    <tr>\n",
       "      <th>44</th>\n",
       "      <td>https://genius.com/The-Game-LAX-Files-lyrics</td>\n",
       "      <td>{'intro': 1, 'the': 23, 'game': 5, 'put': 4, '...</td>\n",
       "      <td>1Ih75w3gT8Nw3uO4efQHsO</td>\n",
       "    </tr>\n",
       "    <tr>\n",
       "      <th>45</th>\n",
       "      <td>https://genius.com/The-Game-Scared-Now-lyrics</td>\n",
       "      <td>{'chorus': 4, 'the': 39, 'game': 7, 'who': 18,...</td>\n",
       "      <td>1Ih75w3gT8Nw3uO4efQHsO</td>\n",
       "    </tr>\n",
       "    <tr>\n",
       "      <th>46</th>\n",
       "      <td>https://genius.com/The-Game-Ali-Bomaye-lyrics</td>\n",
       "      <td>{'intro': 1, 'game': 8, 'get': 3, 'my': 14, 'p...</td>\n",
       "      <td>1Ih75w3gT8Nw3uO4efQHsO</td>\n",
       "    </tr>\n",
       "    <tr>\n",
       "      <th>47</th>\n",
       "      <td>https://genius.com/The-Game-Blood-Diamonds-lyrics</td>\n",
       "      <td>{'verse': 3, '1': 1, 'game': 6, 'jacob': 1, 's...</td>\n",
       "      <td>1Ih75w3gT8Nw3uO4efQHsO</td>\n",
       "    </tr>\n",
       "    <tr>\n",
       "      <th>48</th>\n",
       "      <td>https://genius.com/The-Game-See-No-Evil-lyrics</td>\n",
       "      <td>{'verse': 3, '1': 1, 'the': 24, 'game': 2, 'i'...</td>\n",
       "      <td>1Ih75w3gT8Nw3uO4efQHsO</td>\n",
       "    </tr>\n",
       "    <tr>\n",
       "      <th>49</th>\n",
       "      <td>https://genius.com/The-Game-Name-Me-King-lyrics</td>\n",
       "      <td>{'produced': 1, 'by': 4, 'sap': 1, 'chorus': 4...</td>\n",
       "      <td>1Ih75w3gT8Nw3uO4efQHsO</td>\n",
       "    </tr>\n",
       "    <tr>\n",
       "      <th>50</th>\n",
       "      <td>https://genius.com/Immortal-Technique-The-Caus...</td>\n",
       "      <td>{'intro': 1, 'immortal': 1, 'technique': 2, 'r...</td>\n",
       "      <td>1Ih75w3gT8Nw3uO4efQHsO</td>\n",
       "    </tr>\n",
       "  </tbody>\n",
       "</table>\n",
       "</div>"
      ],
      "text/plain": [
       "                                         url_included  \\\n",
       "0   https://genius.com/Waka-Flocka-Flame-Hard-in-D...   \n",
       "1      https://genius.com/Chief-Keef-Love-Sosa-lyrics   \n",
       "2   https://genius.com/ScHoolboy-Q-Man-Of-The-Year...   \n",
       "3   https://genius.com/Bobby-Shmurda-Bobby-Bitch-l...   \n",
       "4               https://genius.com/YG-My-Nigga-lyrics   \n",
       "5             https://genius.com/6ix9ine-BILLY-lyrics   \n",
       "6              https://genius.com/6ix9ine-BUBA-lyrics   \n",
       "7              https://genius.com/6ix9ine-TATI-lyrics   \n",
       "8             https://genius.com/6ix9ine-KOODA-lyrics   \n",
       "9              https://genius.com/6ix9ine-KEKE-lyrics   \n",
       "10  https://genius.com/YBN-Nahmir-Rubbin-off-the-P...   \n",
       "11           https://genius.com/Tay-K-The-Race-lyrics   \n",
       "12  https://genius.com/YBN-Nahmir-Bounce-Out-With-...   \n",
       "13            https://genius.com/6ix9ine-GUMMO-lyrics   \n",
       "14    https://genius.com/50-Cent-Gunz-Come-Out-lyrics   \n",
       "15        https://genius.com/50-Cent-Back-Down-lyrics   \n",
       "16             https://genius.com/50-Cent-Heat-lyrics   \n",
       "17  https://genius.com/50-Cent-What-Up-Gangsta-lyrics   \n",
       "18  https://genius.com/Bobby-Shmurda-Living-Life-l...   \n",
       "19  https://genius.com/A-Boogie-Wit-da-Hoodie-Jung...   \n",
       "20  https://genius.com/Tee-Grizzley-First-Day-Out-...   \n",
       "21    https://genius.com/50-Cent-U-Not-Like-Me-lyrics   \n",
       "22    https://genius.com/DMX-Where-The-Hood-At-lyrics   \n",
       "23  https://genius.com/BROCKHAMPTON-1999-WILDFIRE-...   \n",
       "24  https://genius.com/Brotha-Lynch-Hung-Meat-Clea...   \n",
       "25    https://genius.com/Casanova-Catch-A-Body-lyrics   \n",
       "26        https://genius.com/Chief-Keef-Faneto-lyrics   \n",
       "27        https://genius.com/Chief-Keef-3Hunna-lyrics   \n",
       "28          https://genius.com/D12-Fight-Music-lyrics   \n",
       "29         https://genius.com/DMX-Grand-Finale-lyrics   \n",
       "30          https://genius.com/DMX-X-Is-Coming-lyrics   \n",
       "31  https://genius.com/DMX-Bring-Your-Whole-Crew-l...   \n",
       "32         https://genius.com/The-Game-92-Bars-lyrics   \n",
       "33          https://genius.com/The-Game-Dreams-lyrics   \n",
       "34  https://genius.com/The-Game-Never-Personal-lyrics   \n",
       "35     https://genius.com/The-Game-Walk-Wit-Me-lyrics   \n",
       "36    https://genius.com/The-Game-Hit-The-News-lyrics   \n",
       "37      https://genius.com/The-Game-Gang-Signs-lyrics   \n",
       "38  https://genius.com/The-Game-Speakers-On-Blast-...   \n",
       "39  https://genius.com/The-Game-Heavy-Artillery-ly...   \n",
       "40      https://genius.com/The-Game-Paramedics-lyrics   \n",
       "41           https://genius.com/The-Game-Ricky-lyrics   \n",
       "42        https://genius.com/The-Game-The-City-lyrics   \n",
       "43       https://genius.com/The-Game-Dope-Boys-lyrics   \n",
       "44       https://genius.com/The-Game-LAX-Files-lyrics   \n",
       "45      https://genius.com/The-Game-Scared-Now-lyrics   \n",
       "46      https://genius.com/The-Game-Ali-Bomaye-lyrics   \n",
       "47  https://genius.com/The-Game-Blood-Diamonds-lyrics   \n",
       "48     https://genius.com/The-Game-See-No-Evil-lyrics   \n",
       "49    https://genius.com/The-Game-Name-Me-King-lyrics   \n",
       "50  https://genius.com/Immortal-Technique-The-Caus...   \n",
       "\n",
       "                                     lyrics_frequency            playlist_uri  \n",
       "0   {'producer': 1, 'tag': 1, 'that': 3, 'nigga': ...  1Ih75w3gT8Nw3uO4efQHsO  \n",
       "1   {'spoken': 1, 'intro': 1, 'jordan': 1, 'gilty'...  1Ih75w3gT8Nw3uO4efQHsO  \n",
       "2   {'produced': 1, 'by': 2, 'nez': 1, 'rio': 1, '...  1Ih75w3gT8Nw3uO4efQHsO  \n",
       "3   {'produced': 1, 'by': 1, 'dondre': 1, 'intro':...  1Ih75w3gT8Nw3uO4efQHsO  \n",
       "4   {'intro': 1, 'mustard': 1, 'on': 7, 'the': 16,...  1Ih75w3gT8Nw3uO4efQHsO  \n",
       "5   {'intro': 1, 'shotti': 1, '6ix9ine': 4, 'thats...  1Ih75w3gT8Nw3uO4efQHsO  \n",
       "6   {'intro': 1, 'scum': 1, 'gang': 2, 'mj': 1, 'p...  1Ih75w3gT8Nw3uO4efQHsO  \n",
       "7   {'intro': 1, 'hold': 2, 'up': 7, 'let': 2, 'me...  1Ih75w3gT8Nw3uO4efQHsO  \n",
       "8   {'intro': 1, 'scum': 2, 'gang': 5, 'chorus': 3...  1Ih75w3gT8Nw3uO4efQHsO  \n",
       "9   {'intro': 1, '6ix9ine': 4, 'scum': 1, 'gang': ...  1Ih75w3gT8Nw3uO4efQHsO  \n",
       "10  {'intro': 1, 'thats': 6, 'what': 1, 'i': 18, '...  1Ih75w3gT8Nw3uO4efQHsO  \n",
       "11  {'intro': 1, 'iiim': 2, 'lil': 6, 'tayk': 3, '...  1Ih75w3gT8Nw3uO4efQHsO  \n",
       "12  {'chorus': 2, 'gang': 6, 'lately': 2, 'been': ...  1Ih75w3gT8Nw3uO4efQHsO  \n",
       "13  {'intro': 1, 'niggas': 10, 'iffy': 2, 'uh': 10...  1Ih75w3gT8Nw3uO4efQHsO  \n",
       "14  {'hook': 4, 'yall': 31, 'niggas': 36, 'know': ...  1Ih75w3gT8Nw3uO4efQHsO  \n",
       "15  {'intro': 1, 'woo': 1, 'yeah': 1, 'gggggunit':...  1Ih75w3gT8Nw3uO4efQHsO  \n",
       "16  {'intro': 1, 'skit': 1, 'man': 5, '1': 3, 'aye...  1Ih75w3gT8Nw3uO4efQHsO  \n",
       "17  {'intro': 1, 'gunit': 6, 'bo': 7, 'we': 24, 'i...  1Ih75w3gT8Nw3uO4efQHsO  \n",
       "18  {'intro': 1, 'yeah': 14, 'verse': 2, '1': 1, '...  1Ih75w3gT8Nw3uO4efQHsO  \n",
       "19  {'intro': 1, 'nigga': 25, 'this': 11, 'is': 11...  1Ih75w3gT8Nw3uO4efQHsO  \n",
       "20  {'intro': 1, 'helluva': 1, 'made': 3, 'this': ...  1Ih75w3gT8Nw3uO4efQHsO  \n",
       "21  {'intro': 1, 'nypd': 8, 'lapd': 4, 'when': 4, ...  1Ih75w3gT8Nw3uO4efQHsO  \n",
       "22  {'intro': 1, 'ayo': 1, 'yall': 7, 'niggas': 24...  1Ih75w3gT8Nw3uO4efQHsO  \n",
       "23  {'intro': 1, 'jazze': 2, 'pha': 1, 'ladies': 1...  1Ih75w3gT8Nw3uO4efQHsO  \n",
       "24  {'verse': 3, '1': 1, 'comin': 4, 'with': 8, 't...  1Ih75w3gT8Nw3uO4efQHsO  \n",
       "25  {'intro': 1, 'casanova': 1, 'yo': 3, 'mike': 1...  1Ih75w3gT8Nw3uO4efQHsO  \n",
       "26  {'intro': 1, 'ayy': 22, 'gang': 16, 'sosa': 1,...  1Ih75w3gT8Nw3uO4efQHsO  \n",
       "27  {'intro': 1, 'sosa': 4, 'baby': 2, 'you': 7, '...  1Ih75w3gT8Nw3uO4efQHsO  \n",
       "28  {'chorus': 3, 'eminem': 4, 'this': 12, 'kind':...  1Ih75w3gT8Nw3uO4efQHsO  \n",
       "29  {'intro': 1, 'dmx': 3, 'i': 9, 'aint': 2, 'goi...  1Ih75w3gT8Nw3uO4efQHsO  \n",
       "30  {'intro': 1, 'kid': 1, 'one': 8, 'two': 8, 'x'...  1Ih75w3gT8Nw3uO4efQHsO  \n",
       "31  {'intro': 1, 'uhh': 8, 'ayy': 2, 'cmon': 11, '...  1Ih75w3gT8Nw3uO4efQHsO  \n",
       "32  {'verse': 1, 'this': 10, 'that': 8, 'sick': 2,...  1Ih75w3gT8Nw3uO4efQHsO  \n",
       "33  {'intro': 1, 'sample': 4, 'and': 17, 'i': 37, ...  1Ih75w3gT8Nw3uO4efQHsO  \n",
       "34  {'the': 21, 'game': 2, 'yo': 1, 'when': 2, 'im...  1Ih75w3gT8Nw3uO4efQHsO  \n",
       "35  {'the': 19, 'game': 2, 'hey': 1, 'yo': 1, 'kid...  1Ih75w3gT8Nw3uO4efQHsO  \n",
       "36  {'hook': 3, '40': 3, 'ounces': 3, 'aint': 8, '...  1Ih75w3gT8Nw3uO4efQHsO  \n",
       "37  {'hook': 3, 'when': 14, 'the': 26, 'gang': 12,...  1Ih75w3gT8Nw3uO4efQHsO  \n",
       "38  {'verse': 4, '1': 1, 'game': 3, 'its': 2, 'not...  1Ih75w3gT8Nw3uO4efQHsO  \n",
       "39  {'intro': 1, 'rick': 2, 'ross': 3, 'sample': 1...  1Ih75w3gT8Nw3uO4efQHsO  \n",
       "40  {'intro': 1, 'young': 7, 'jeezy': 9, 'maestrom...  1Ih75w3gT8Nw3uO4efQHsO  \n",
       "41  {'intro': 1, 'boyz': 4, 'n': 4, 'the': 26, 'ho...  1Ih75w3gT8Nw3uO4efQHsO  \n",
       "42  {'intro': 1, 'sampled': 1, 'see': 5, 'any': 3,...  1Ih75w3gT8Nw3uO4efQHsO  \n",
       "43  {'produced': 1, 'by': 1, '1500': 1, 'or': 1, '...  1Ih75w3gT8Nw3uO4efQHsO  \n",
       "44  {'intro': 1, 'the': 23, 'game': 5, 'put': 4, '...  1Ih75w3gT8Nw3uO4efQHsO  \n",
       "45  {'chorus': 4, 'the': 39, 'game': 7, 'who': 18,...  1Ih75w3gT8Nw3uO4efQHsO  \n",
       "46  {'intro': 1, 'game': 8, 'get': 3, 'my': 14, 'p...  1Ih75w3gT8Nw3uO4efQHsO  \n",
       "47  {'verse': 3, '1': 1, 'game': 6, 'jacob': 1, 's...  1Ih75w3gT8Nw3uO4efQHsO  \n",
       "48  {'verse': 3, '1': 1, 'the': 24, 'game': 2, 'i'...  1Ih75w3gT8Nw3uO4efQHsO  \n",
       "49  {'produced': 1, 'by': 4, 'sap': 1, 'chorus': 4...  1Ih75w3gT8Nw3uO4efQHsO  \n",
       "50  {'intro': 1, 'immortal': 1, 'technique': 2, 'r...  1Ih75w3gT8Nw3uO4efQHsO  "
      ]
     },
     "execution_count": 265,
     "metadata": {},
     "output_type": "execute_result"
    }
   ],
   "source": [
    "data_1_df"
   ]
  },
  {
   "cell_type": "code",
   "execution_count": 236,
   "metadata": {},
   "outputs": [],
   "source": [
    "# not needed here\n",
    "# dictonary to map genre/mood to playlist uri\n",
    "uri_to_label = pickle.load(open('uri_to_label.p','rb'))"
   ]
  },
  {
   "cell_type": "code",
   "execution_count": 237,
   "metadata": {
    "scrolled": true
   },
   "outputs": [
    {
     "data": {
      "text/plain": [
       "{'spotify:playlist:37i9dQZF1DX50QitC6Oqtn': 0,\n",
       " 'spotify:playlist:37i9dQZF1DX3tuWZaHjp5y': 0,\n",
       " 'spotify:playlist:37i9dQZF1DX7rOY2tZUw1k': 0,\n",
       " 'spotify:playlist:37i9dQZF1DX8WMG8VPSOJC': 0,\n",
       " 'spotify:playlist:5KbTzqKBqxQRD8OBtJTZrS': 0,\n",
       " 'spotify:playlist:7ABD15iASBIpPP5uJ5awvq': 1,\n",
       " 'spotify:playlist:37i9dQZF1DWX83CujKHHOn': 1,\n",
       " 'spotify:playlist:37i9dQZF1DX7qK8ma5wgG1': 1,\n",
       " 'spotify:playlist:37i9dQZF1DX15JKV0q7shD': 1,\n",
       " 'spotify:playlist:37i9dQZF1DWVV27DiNWxkR': 1,\n",
       " 'spotify:playlist:37i9dQZF1DX38EeD6pDm10': 1,\n",
       " 'spotify:playlist:5s7Sp5OZsw981I2OkQmyrz': 2,\n",
       " 'spotify:playlist:71Xpaq3Hbpxz6w9yDmIsaH': 2,\n",
       " 'spotify:playlist:793VjqKUs54BG9h1NB4xVZ': 2,\n",
       " 'spotify:playlist:4mCGD3C9QXhrWv3uBIpbRF': 2,\n",
       " 'spotify:playlist:6eKzH5I9hhEiL6mP47HJlw': 2,\n",
       " 'spotify:playlist:3FgKMEAMkBOscuTQTNJiTN': 2,\n",
       " 'spotify:playlist:37i9dQZF1DXdPec7aLTmlC': 3,\n",
       " 'spotify:playlist:37i9dQZF1DWYBO1MoTDhZI': 3,\n",
       " 'spotify:playlist:37i9dQZF1DWSkMjlBZAZ07': 3,\n",
       " 'spotify:playlist:37i9dQZF1DX7KNKjOK0o75': 3,\n",
       " 'spotify:playlist:37i9dQZF1DX3rxVfibe1L0': 3,\n",
       " 'spotify:playlist:37i9dQZF1DX9XIFQuFvzM4': 3,\n",
       " 'spotify:playlist:37i9dQZF1DX2SK4ytI2KAZ': 3,\n",
       " 'spotify:playlist:3PSY0YwRZsUOaLgaG2T5Z1': 4,\n",
       " 'spotify:playlist:37i9dQZF1DX4eRPd9frC1m': 4,\n",
       " 'spotify:playlist:6WwLgLnb6dcbd1meHOd5W3': 4,\n",
       " 'spotify:playlist:1QFB7mqKCa1XZRQPM3EnZE': 4,\n",
       " 'spotify:playlist:62NDKZgnNSKb4PTicRm6y1': 4,\n",
       " 'spotify:playlist:70HX2UiZOkbvogFk8S4y5W': 4,\n",
       " 'spotify:playlist:0Z8TbSP8yCswK8vSukvF7O': 5,\n",
       " 'spotify:playlist:518ri2CYaZeMashnK0aoh4': 5,\n",
       " 'spotify:album:6dFFcYQ8VhifgdKgYY5LYL': 5,\n",
       " 'spotify:playlist:42FEuZnDeoLIyAQuSdwJUv': 6,\n",
       " 'spotify:playlist:2Na8XnU1CEf2YGFLcp8Mmq': 6,\n",
       " 'spotify:playlist:37i9dQZF1DX9vJ2U3sN7xj': 6,\n",
       " 'spotify:playlist:4KGN4cukzUogULJujr8xrH': 6,\n",
       " 'spotify:playlist:37i9dQZF1DX0IlCGIUGBsA': 6,\n",
       " 'spotify:playlist:37i9dQZF1DXe9hay4VT07f': 6,\n",
       " 'spotify:playlist:1Ih75w3gT8Nw3uO4efQHsO': 7,\n",
       " 'spotify:playlist:6DNgif8PDLICzhrG3lvE7y': 7,\n",
       " 'spotify:playlist:4QyZc5pFGy8nwagbIF2yyK': 7,\n",
       " 'spotify:playlist:37i9dQZF1DX4WYpdgoIcn6': 8,\n",
       " 'spotify:playlist:6DAlNkEj8vf8D2J7XLOrn7': 8,\n",
       " 'spotify:playlist:37i9dQZF1DX2UgsUIg75Vg': 8,\n",
       " 'spotify:playlist:37i9dQZF1DX889U0CL85jj': 8,\n",
       " 'spotify:playlist:37i9dQZF1DWVl5gPCRkquk': 8,\n",
       " 'spotify:playlist:37i9dQZF1DWWzN91i1LVSo': 8,\n",
       " 'spotify:playlist:37i9dQZF1DX0QKpU3cGsyb': 9,\n",
       " 'spotify:playlist:37i9dQZF1DX1BGjF5N5O7F': 9,\n",
       " 'spotify:playlist:37i9dQZF1DWWWvWJNPeyJE': 9,\n",
       " 'spotify:playlist:5pAp9Q7ayzYXb74FWZBXTv': 9,\n",
       " 'spotify:playlist:6x1kkz2Hc8jmroB0M3C1IF': 9,\n",
       " 'spotify:playlist:3fDM1gp8kU2hjsW25YDs21': 9}"
      ]
     },
     "execution_count": 237,
     "metadata": {},
     "output_type": "execute_result"
    }
   ],
   "source": [
    "uri_to_label"
   ]
  },
  {
   "cell_type": "code",
   "execution_count": null,
   "metadata": {},
   "outputs": [],
   "source": []
  },
  {
   "cell_type": "code",
   "execution_count": null,
   "metadata": {},
   "outputs": [],
   "source": []
  },
  {
   "cell_type": "code",
   "execution_count": 2,
   "metadata": {},
   "outputs": [],
   "source": [
    "data_1Ih75w3gT8Nw3uO4efQHsO_df = pickle.load(open('data_1Ih75w3gT8Nw3uO4efQHsO_df.p','rb'))\n",
    "\n"
   ]
  },
  {
   "cell_type": "code",
   "execution_count": 18,
   "metadata": {},
   "outputs": [],
   "source": [
    "all_means_1 = []\n",
    "for i in data_1Ih75w3gT8Nw3uO4efQHsO_df['lyrics_frequency']:\n",
    "    all_means_1.append(mean(i[k] for k in i))"
   ]
  },
  {
   "cell_type": "code",
   "execution_count": 19,
   "metadata": {},
   "outputs": [
    {
     "data": {
      "text/plain": [
       "51"
      ]
     },
     "execution_count": 19,
     "metadata": {},
     "output_type": "execute_result"
    }
   ],
   "source": [
    "len(all_means_1)"
   ]
  },
  {
   "cell_type": "code",
   "execution_count": 3,
   "metadata": {},
   "outputs": [],
   "source": [
    "data_7ABD15iASBIpPP5uJ5awvq_df = pickle.load(open('data_7ABD15iASBIpPP5uJ5awvq_df.p','rb'))\n",
    "\n"
   ]
  },
  {
   "cell_type": "code",
   "execution_count": 21,
   "metadata": {},
   "outputs": [],
   "source": [
    "all_means_2 = []\n",
    "for i in data_7ABD15iASBIpPP5uJ5awvq_df['lyrics_frequency']:\n",
    "    all_means_2.append(mean(i[k] for k in i))"
   ]
  },
  {
   "cell_type": "code",
   "execution_count": 4,
   "metadata": {},
   "outputs": [],
   "source": [
    "data_37i9dQZF1DXdPec7aLTmlC_df = pickle.load(open('data_37i9dQZF1DXdPec7aLTmlC_df.p','rb'))\n"
   ]
  },
  {
   "cell_type": "code",
   "execution_count": 22,
   "metadata": {},
   "outputs": [],
   "source": [
    "all_means_3 = []\n",
    "for i in data_37i9dQZF1DXdPec7aLTmlC_df['lyrics_frequency']:\n",
    "    all_means_3.append(mean(i[k] for k in i))"
   ]
  },
  {
   "cell_type": "code",
   "execution_count": 23,
   "metadata": {},
   "outputs": [],
   "source": [
    "#df_means = {'all_means_1': all_means_1, 'all_means_2': all_means_2, 'all_means_3': all_means_3}"
   ]
  },
  {
   "cell_type": "code",
   "execution_count": 27,
   "metadata": {},
   "outputs": [],
   "source": [
    "#pd.DataFrame(df_means)"
   ]
  },
  {
   "cell_type": "code",
   "execution_count": null,
   "metadata": {},
   "outputs": [],
   "source": [
    "plt.boxplot([n for v in dict1.values() for n in v])"
   ]
  },
  {
   "cell_type": "code",
   "execution_count": 28,
   "metadata": {},
   "outputs": [],
   "source": [
    "indicator_words = ['love', 'heart', 'her', 'his', 'boy', 'girl', 'want', 'life', 'best', 'care', 'hope', 'only', 'forever', 'embrace', 'kiss', 'break', 'broken', 'fuck', 'miss', 'missing', 'heart', 'sad', 'cry', 'crying', 'rain', 'alone', 'wish', 'hate', 'lose', 'hate', 'kill', 'hit', 'angry', 'fight', 'fuck', 'fucking', 'fighting', 'hard', 'argh', 'god', 'dead', 'love', 'lovely', 'happy', 'sing', 'shout', 'joy', 'sun', 'sunny', 'day', 'good', 'dance', 'dancing', 'hold', 'party', 'lit', 'hype', 'bottles', 'never', 'cant', 'never', 'get', 'bump', 'me', 'cant', 'power', 'lift', 'dont', 'wont', 'need', 'myself', 'party', 'Bacardi', 'drunk', 'lit', 'club', 'dance', 'dancing', 'drinking', 'flashing', 'lights', 'DJ', 'hands', 'fight', 'nobody', 'shit', 'drunk', 'cars', 'car', 'shoot', 'cash', 'money', 'smoke', 'cool', 'hold', 'smile', 'air', 'breeze', 'chill', 'easy', 'morning', 'drift', 'float', 'floating', 'smoking', 'high', 'bed', 'sex', 'lips', 'arms', 'hair', 'body', 'mine', 'night', 'tonight', 'love', 'sweat', 'kiss', 'fuck', 'baby', 'down']\n"
   ]
  },
  {
   "cell_type": "code",
   "execution_count": 29,
   "metadata": {},
   "outputs": [],
   "source": [
    "indicator_words_set = set(indicator_words)"
   ]
  },
  {
   "cell_type": "code",
   "execution_count": 32,
   "metadata": {},
   "outputs": [
    {
     "data": {
      "text/plain": [
       "105"
      ]
     },
     "execution_count": 32,
     "metadata": {},
     "output_type": "execute_result"
    }
   ],
   "source": [
    "len(indicator_words_set)"
   ]
  },
  {
   "cell_type": "code",
   "execution_count": null,
   "metadata": {},
   "outputs": [],
   "source": [
    "for i in indicator_words_set:\n",
    "    "
   ]
  },
  {
   "cell_type": "code",
   "execution_count": null,
   "metadata": {},
   "outputs": [],
   "source": []
  },
  {
   "cell_type": "code",
   "execution_count": null,
   "metadata": {},
   "outputs": [],
   "source": [
    "x= \n",
    "y=\n",
    "stds= \n",
    "plt.ylabel(\"Word count per song\")\n",
    "plt.xlabel(\"Indicator word\")\n",
    "plt.title('Indicator word counts')\n",
    "plt.plot(x, y, 'b-', marker='o',label = 'Cross Validation Performance')\n",
    "plt.fill_between(x, y + 2*stds, y - 2*stds, alpha=0.2)\n",
    "plt.legend()\n",
    "plt.show()"
   ]
  },
  {
   "cell_type": "code",
   "execution_count": null,
   "metadata": {},
   "outputs": [],
   "source": []
  },
  {
   "cell_type": "code",
   "execution_count": null,
   "metadata": {},
   "outputs": [],
   "source": []
  },
  {
   "cell_type": "code",
   "execution_count": 45,
   "metadata": {},
   "outputs": [],
   "source": [
    "# dictionary of word counts\n",
    "data_pro_full = pickle.load(open('data_pro_full.p','rb'))"
   ]
  },
  {
   "cell_type": "code",
   "execution_count": 46,
   "metadata": {},
   "outputs": [],
   "source": [
    "data_pro_full2 = data_pro_full.drop(columns='label')"
   ]
  },
  {
   "cell_type": "code",
   "execution_count": 47,
   "metadata": {},
   "outputs": [
    {
     "data": {
      "text/html": [
       "<div>\n",
       "<style scoped>\n",
       "    .dataframe tbody tr th:only-of-type {\n",
       "        vertical-align: middle;\n",
       "    }\n",
       "\n",
       "    .dataframe tbody tr th {\n",
       "        vertical-align: top;\n",
       "    }\n",
       "\n",
       "    .dataframe thead th {\n",
       "        text-align: right;\n",
       "    }\n",
       "</style>\n",
       "<table border=\"1\" class=\"dataframe\">\n",
       "  <thead>\n",
       "    <tr style=\"text-align: right;\">\n",
       "      <th></th>\n",
       "      <th>fight</th>\n",
       "      <th>forever</th>\n",
       "      <th>sunny</th>\n",
       "      <th>drift</th>\n",
       "      <th>shoot</th>\n",
       "      <th>car</th>\n",
       "      <th>down</th>\n",
       "      <th>high</th>\n",
       "      <th>lit</th>\n",
       "      <th>easy</th>\n",
       "      <th>...</th>\n",
       "      <th>dead</th>\n",
       "      <th>baby</th>\n",
       "      <th>sing</th>\n",
       "      <th>good</th>\n",
       "      <th>me</th>\n",
       "      <th>drunk</th>\n",
       "      <th>smoke</th>\n",
       "      <th>morning</th>\n",
       "      <th>her</th>\n",
       "      <th>lift</th>\n",
       "    </tr>\n",
       "  </thead>\n",
       "  <tbody>\n",
       "    <tr>\n",
       "      <th>count</th>\n",
       "      <td>235.000000</td>\n",
       "      <td>235.000000</td>\n",
       "      <td>235.000000</td>\n",
       "      <td>235.0</td>\n",
       "      <td>235.000000</td>\n",
       "      <td>235.000000</td>\n",
       "      <td>235.000000</td>\n",
       "      <td>235.000000</td>\n",
       "      <td>235.000000</td>\n",
       "      <td>235.000000</td>\n",
       "      <td>...</td>\n",
       "      <td>235.000000</td>\n",
       "      <td>235.000000</td>\n",
       "      <td>235.000000</td>\n",
       "      <td>235.000000</td>\n",
       "      <td>235.000000</td>\n",
       "      <td>235.000000</td>\n",
       "      <td>235.000000</td>\n",
       "      <td>235.000000</td>\n",
       "      <td>235.000000</td>\n",
       "      <td>235.000000</td>\n",
       "    </tr>\n",
       "    <tr>\n",
       "      <th>mean</th>\n",
       "      <td>0.102128</td>\n",
       "      <td>0.127660</td>\n",
       "      <td>0.004255</td>\n",
       "      <td>0.0</td>\n",
       "      <td>0.085106</td>\n",
       "      <td>0.110638</td>\n",
       "      <td>1.361702</td>\n",
       "      <td>0.268085</td>\n",
       "      <td>0.012766</td>\n",
       "      <td>0.174468</td>\n",
       "      <td>...</td>\n",
       "      <td>0.119149</td>\n",
       "      <td>0.757447</td>\n",
       "      <td>0.072340</td>\n",
       "      <td>0.634043</td>\n",
       "      <td>6.497872</td>\n",
       "      <td>0.076596</td>\n",
       "      <td>0.093617</td>\n",
       "      <td>0.093617</td>\n",
       "      <td>0.578723</td>\n",
       "      <td>0.034043</td>\n",
       "    </tr>\n",
       "    <tr>\n",
       "      <th>std</th>\n",
       "      <td>0.504463</td>\n",
       "      <td>0.599751</td>\n",
       "      <td>0.065233</td>\n",
       "      <td>0.0</td>\n",
       "      <td>0.393852</td>\n",
       "      <td>0.352787</td>\n",
       "      <td>3.876433</td>\n",
       "      <td>1.897041</td>\n",
       "      <td>0.112503</td>\n",
       "      <td>1.426020</td>\n",
       "      <td>...</td>\n",
       "      <td>0.729898</td>\n",
       "      <td>2.074648</td>\n",
       "      <td>0.496871</td>\n",
       "      <td>2.154827</td>\n",
       "      <td>8.303215</td>\n",
       "      <td>0.395602</td>\n",
       "      <td>0.546709</td>\n",
       "      <td>0.433335</td>\n",
       "      <td>2.163502</td>\n",
       "      <td>0.304718</td>\n",
       "    </tr>\n",
       "    <tr>\n",
       "      <th>min</th>\n",
       "      <td>0.000000</td>\n",
       "      <td>0.000000</td>\n",
       "      <td>0.000000</td>\n",
       "      <td>0.0</td>\n",
       "      <td>0.000000</td>\n",
       "      <td>0.000000</td>\n",
       "      <td>0.000000</td>\n",
       "      <td>0.000000</td>\n",
       "      <td>0.000000</td>\n",
       "      <td>0.000000</td>\n",
       "      <td>...</td>\n",
       "      <td>0.000000</td>\n",
       "      <td>0.000000</td>\n",
       "      <td>0.000000</td>\n",
       "      <td>0.000000</td>\n",
       "      <td>0.000000</td>\n",
       "      <td>0.000000</td>\n",
       "      <td>0.000000</td>\n",
       "      <td>0.000000</td>\n",
       "      <td>0.000000</td>\n",
       "      <td>0.000000</td>\n",
       "    </tr>\n",
       "    <tr>\n",
       "      <th>25%</th>\n",
       "      <td>0.000000</td>\n",
       "      <td>0.000000</td>\n",
       "      <td>0.000000</td>\n",
       "      <td>0.0</td>\n",
       "      <td>0.000000</td>\n",
       "      <td>0.000000</td>\n",
       "      <td>0.000000</td>\n",
       "      <td>0.000000</td>\n",
       "      <td>0.000000</td>\n",
       "      <td>0.000000</td>\n",
       "      <td>...</td>\n",
       "      <td>0.000000</td>\n",
       "      <td>0.000000</td>\n",
       "      <td>0.000000</td>\n",
       "      <td>0.000000</td>\n",
       "      <td>1.000000</td>\n",
       "      <td>0.000000</td>\n",
       "      <td>0.000000</td>\n",
       "      <td>0.000000</td>\n",
       "      <td>0.000000</td>\n",
       "      <td>0.000000</td>\n",
       "    </tr>\n",
       "    <tr>\n",
       "      <th>50%</th>\n",
       "      <td>0.000000</td>\n",
       "      <td>0.000000</td>\n",
       "      <td>0.000000</td>\n",
       "      <td>0.0</td>\n",
       "      <td>0.000000</td>\n",
       "      <td>0.000000</td>\n",
       "      <td>0.000000</td>\n",
       "      <td>0.000000</td>\n",
       "      <td>0.000000</td>\n",
       "      <td>0.000000</td>\n",
       "      <td>...</td>\n",
       "      <td>0.000000</td>\n",
       "      <td>0.000000</td>\n",
       "      <td>0.000000</td>\n",
       "      <td>0.000000</td>\n",
       "      <td>4.000000</td>\n",
       "      <td>0.000000</td>\n",
       "      <td>0.000000</td>\n",
       "      <td>0.000000</td>\n",
       "      <td>0.000000</td>\n",
       "      <td>0.000000</td>\n",
       "    </tr>\n",
       "    <tr>\n",
       "      <th>75%</th>\n",
       "      <td>0.000000</td>\n",
       "      <td>0.000000</td>\n",
       "      <td>0.000000</td>\n",
       "      <td>0.0</td>\n",
       "      <td>0.000000</td>\n",
       "      <td>0.000000</td>\n",
       "      <td>1.000000</td>\n",
       "      <td>0.000000</td>\n",
       "      <td>0.000000</td>\n",
       "      <td>0.000000</td>\n",
       "      <td>...</td>\n",
       "      <td>0.000000</td>\n",
       "      <td>0.000000</td>\n",
       "      <td>0.000000</td>\n",
       "      <td>0.000000</td>\n",
       "      <td>8.000000</td>\n",
       "      <td>0.000000</td>\n",
       "      <td>0.000000</td>\n",
       "      <td>0.000000</td>\n",
       "      <td>0.000000</td>\n",
       "      <td>0.000000</td>\n",
       "    </tr>\n",
       "    <tr>\n",
       "      <th>max</th>\n",
       "      <td>5.000000</td>\n",
       "      <td>6.000000</td>\n",
       "      <td>1.000000</td>\n",
       "      <td>0.0</td>\n",
       "      <td>4.000000</td>\n",
       "      <td>2.000000</td>\n",
       "      <td>47.000000</td>\n",
       "      <td>28.000000</td>\n",
       "      <td>1.000000</td>\n",
       "      <td>21.000000</td>\n",
       "      <td>...</td>\n",
       "      <td>10.000000</td>\n",
       "      <td>17.000000</td>\n",
       "      <td>6.000000</td>\n",
       "      <td>15.000000</td>\n",
       "      <td>55.000000</td>\n",
       "      <td>4.000000</td>\n",
       "      <td>6.000000</td>\n",
       "      <td>4.000000</td>\n",
       "      <td>25.000000</td>\n",
       "      <td>4.000000</td>\n",
       "    </tr>\n",
       "  </tbody>\n",
       "</table>\n",
       "<p>8 rows × 106 columns</p>\n",
       "</div>"
      ],
      "text/plain": [
       "            fight     forever       sunny  drift       shoot         car  \\\n",
       "count  235.000000  235.000000  235.000000  235.0  235.000000  235.000000   \n",
       "mean     0.102128    0.127660    0.004255    0.0    0.085106    0.110638   \n",
       "std      0.504463    0.599751    0.065233    0.0    0.393852    0.352787   \n",
       "min      0.000000    0.000000    0.000000    0.0    0.000000    0.000000   \n",
       "25%      0.000000    0.000000    0.000000    0.0    0.000000    0.000000   \n",
       "50%      0.000000    0.000000    0.000000    0.0    0.000000    0.000000   \n",
       "75%      0.000000    0.000000    0.000000    0.0    0.000000    0.000000   \n",
       "max      5.000000    6.000000    1.000000    0.0    4.000000    2.000000   \n",
       "\n",
       "             down        high         lit        easy  ...        dead  \\\n",
       "count  235.000000  235.000000  235.000000  235.000000  ...  235.000000   \n",
       "mean     1.361702    0.268085    0.012766    0.174468  ...    0.119149   \n",
       "std      3.876433    1.897041    0.112503    1.426020  ...    0.729898   \n",
       "min      0.000000    0.000000    0.000000    0.000000  ...    0.000000   \n",
       "25%      0.000000    0.000000    0.000000    0.000000  ...    0.000000   \n",
       "50%      0.000000    0.000000    0.000000    0.000000  ...    0.000000   \n",
       "75%      1.000000    0.000000    0.000000    0.000000  ...    0.000000   \n",
       "max     47.000000   28.000000    1.000000   21.000000  ...   10.000000   \n",
       "\n",
       "             baby        sing        good          me       drunk       smoke  \\\n",
       "count  235.000000  235.000000  235.000000  235.000000  235.000000  235.000000   \n",
       "mean     0.757447    0.072340    0.634043    6.497872    0.076596    0.093617   \n",
       "std      2.074648    0.496871    2.154827    8.303215    0.395602    0.546709   \n",
       "min      0.000000    0.000000    0.000000    0.000000    0.000000    0.000000   \n",
       "25%      0.000000    0.000000    0.000000    1.000000    0.000000    0.000000   \n",
       "50%      0.000000    0.000000    0.000000    4.000000    0.000000    0.000000   \n",
       "75%      0.000000    0.000000    0.000000    8.000000    0.000000    0.000000   \n",
       "max     17.000000    6.000000   15.000000   55.000000    4.000000    6.000000   \n",
       "\n",
       "          morning         her        lift  \n",
       "count  235.000000  235.000000  235.000000  \n",
       "mean     0.093617    0.578723    0.034043  \n",
       "std      0.433335    2.163502    0.304718  \n",
       "min      0.000000    0.000000    0.000000  \n",
       "25%      0.000000    0.000000    0.000000  \n",
       "50%      0.000000    0.000000    0.000000  \n",
       "75%      0.000000    0.000000    0.000000  \n",
       "max      4.000000   25.000000    4.000000  \n",
       "\n",
       "[8 rows x 106 columns]"
      ]
     },
     "execution_count": 47,
     "metadata": {},
     "output_type": "execute_result"
    }
   ],
   "source": [
    "data_pro_full2.describe()"
   ]
  },
  {
   "cell_type": "code",
   "execution_count": 19,
   "metadata": {},
   "outputs": [
    {
     "data": {
      "text/plain": [
       "Text(0, 0.5, 'Word count')"
      ]
     },
     "execution_count": 19,
     "metadata": {},
     "output_type": "execute_result"
    },
    {
     "data": {
      "image/png": "[encoded data removed]",
      "text/plain": [
       "<Figure size 1440x720 with 1 Axes>"
      ]
     },
     "metadata": {
      "needs_background": "light"
     },
     "output_type": "display_data"
    },
    {
     "name": "stdout",
     "output_type": "stream",
     "text": [
      "Error in callback <function flush_figures at 0x11c8c59e0> (for post_execute):\n"
     ]
    },
    {
     "ename": "KeyboardInterrupt",
     "evalue": "",
     "output_type": "error",
     "traceback": [
      "\u001b[0;31m---------------------------------------------------------------------------\u001b[0m",
      "\u001b[0;31mKeyboardInterrupt\u001b[0m                         Traceback (most recent call last)",
      "\u001b[0;32m//anaconda3/envs/cs109a/lib/python3.7/site-packages/ipykernel/pylab/backend_inline.py\u001b[0m in \u001b[0;36mflush_figures\u001b[0;34m()\u001b[0m\n\u001b[1;32m    115\u001b[0m         \u001b[0;31m# ignore the tracking, just draw and close all figures\u001b[0m\u001b[0;34m\u001b[0m\u001b[0;34m\u001b[0m\u001b[0;34m\u001b[0m\u001b[0m\n\u001b[1;32m    116\u001b[0m         \u001b[0;32mtry\u001b[0m\u001b[0;34m:\u001b[0m\u001b[0;34m\u001b[0m\u001b[0;34m\u001b[0m\u001b[0m\n\u001b[0;32m--> 117\u001b[0;31m             \u001b[0;32mreturn\u001b[0m \u001b[0mshow\u001b[0m\u001b[0;34m(\u001b[0m\u001b[0;32mTrue\u001b[0m\u001b[0;34m)\u001b[0m\u001b[0;34m\u001b[0m\u001b[0;34m\u001b[0m\u001b[0m\n\u001b[0m\u001b[1;32m    118\u001b[0m         \u001b[0;32mexcept\u001b[0m \u001b[0mException\u001b[0m \u001b[0;32mas\u001b[0m \u001b[0me\u001b[0m\u001b[0;34m:\u001b[0m\u001b[0;34m\u001b[0m\u001b[0;34m\u001b[0m\u001b[0m\n\u001b[1;32m    119\u001b[0m             \u001b[0;31m# safely show traceback if in IPython, else raise\u001b[0m\u001b[0;34m\u001b[0m\u001b[0;34m\u001b[0m\u001b[0;34m\u001b[0m\u001b[0m\n",
      "\u001b[0;32m//anaconda3/envs/cs109a/lib/python3.7/site-packages/ipykernel/pylab/backend_inline.py\u001b[0m in \u001b[0;36mshow\u001b[0;34m(close, block)\u001b[0m\n\u001b[1;32m     37\u001b[0m             display(\n\u001b[1;32m     38\u001b[0m                 \u001b[0mfigure_manager\u001b[0m\u001b[0;34m.\u001b[0m\u001b[0mcanvas\u001b[0m\u001b[0;34m.\u001b[0m\u001b[0mfigure\u001b[0m\u001b[0;34m,\u001b[0m\u001b[0;34m\u001b[0m\u001b[0;34m\u001b[0m\u001b[0m\n\u001b[0;32m---> 39\u001b[0;31m                 \u001b[0mmetadata\u001b[0m\u001b[0;34m=\u001b[0m\u001b[0m_fetch_figure_metadata\u001b[0m\u001b[0;34m(\u001b[0m\u001b[0mfigure_manager\u001b[0m\u001b[0;34m.\u001b[0m\u001b[0mcanvas\u001b[0m\u001b[0;34m.\u001b[0m\u001b[0mfigure\u001b[0m\u001b[0;34m)\u001b[0m\u001b[0;34m\u001b[0m\u001b[0;34m\u001b[0m\u001b[0m\n\u001b[0m\u001b[1;32m     40\u001b[0m             )\n\u001b[1;32m     41\u001b[0m     \u001b[0;32mfinally\u001b[0m\u001b[0;34m:\u001b[0m\u001b[0;34m\u001b[0m\u001b[0;34m\u001b[0m\u001b[0m\n",
      "\u001b[0;32m//anaconda3/envs/cs109a/lib/python3.7/site-packages/IPython/core/display.py\u001b[0m in \u001b[0;36mdisplay\u001b[0;34m(include, exclude, metadata, transient, display_id, *objs, **kwargs)\u001b[0m\n\u001b[1;32m    304\u001b[0m             \u001b[0mpublish_display_data\u001b[0m\u001b[0;34m(\u001b[0m\u001b[0mdata\u001b[0m\u001b[0;34m=\u001b[0m\u001b[0mobj\u001b[0m\u001b[0;34m,\u001b[0m \u001b[0mmetadata\u001b[0m\u001b[0;34m=\u001b[0m\u001b[0mmetadata\u001b[0m\u001b[0;34m,\u001b[0m \u001b[0;34m**\u001b[0m\u001b[0mkwargs\u001b[0m\u001b[0;34m)\u001b[0m\u001b[0;34m\u001b[0m\u001b[0;34m\u001b[0m\u001b[0m\n\u001b[1;32m    305\u001b[0m         \u001b[0;32melse\u001b[0m\u001b[0;34m:\u001b[0m\u001b[0;34m\u001b[0m\u001b[0;34m\u001b[0m\u001b[0m\n\u001b[0;32m--> 306\u001b[0;31m             \u001b[0mformat_dict\u001b[0m\u001b[0;34m,\u001b[0m \u001b[0mmd_dict\u001b[0m \u001b[0;34m=\u001b[0m \u001b[0mformat\u001b[0m\u001b[0;34m(\u001b[0m\u001b[0mobj\u001b[0m\u001b[0;34m,\u001b[0m \u001b[0minclude\u001b[0m\u001b[0;34m=\u001b[0m\u001b[0minclude\u001b[0m\u001b[0;34m,\u001b[0m \u001b[0mexclude\u001b[0m\u001b[0;34m=\u001b[0m\u001b[0mexclude\u001b[0m\u001b[0;34m)\u001b[0m\u001b[0;34m\u001b[0m\u001b[0;34m\u001b[0m\u001b[0m\n\u001b[0m\u001b[1;32m    307\u001b[0m             \u001b[0;32mif\u001b[0m \u001b[0;32mnot\u001b[0m \u001b[0mformat_dict\u001b[0m\u001b[0;34m:\u001b[0m\u001b[0;34m\u001b[0m\u001b[0;34m\u001b[0m\u001b[0m\n\u001b[1;32m    308\u001b[0m                 \u001b[0;31m# nothing to display (e.g. _ipython_display_ took over)\u001b[0m\u001b[0;34m\u001b[0m\u001b[0;34m\u001b[0m\u001b[0;34m\u001b[0m\u001b[0m\n",
      "\u001b[0;32m//anaconda3/envs/cs109a/lib/python3.7/site-packages/IPython/core/formatters.py\u001b[0m in \u001b[0;36mformat\u001b[0;34m(self, obj, include, exclude)\u001b[0m\n\u001b[1;32m    178\u001b[0m             \u001b[0mmd\u001b[0m \u001b[0;34m=\u001b[0m \u001b[0;32mNone\u001b[0m\u001b[0;34m\u001b[0m\u001b[0;34m\u001b[0m\u001b[0m\n\u001b[1;32m    179\u001b[0m             \u001b[0;32mtry\u001b[0m\u001b[0;34m:\u001b[0m\u001b[0;34m\u001b[0m\u001b[0;34m\u001b[0m\u001b[0m\n\u001b[0;32m--> 180\u001b[0;31m                 \u001b[0mdata\u001b[0m \u001b[0;34m=\u001b[0m \u001b[0mformatter\u001b[0m\u001b[0;34m(\u001b[0m\u001b[0mobj\u001b[0m\u001b[0;34m)\u001b[0m\u001b[0;34m\u001b[0m\u001b[0;34m\u001b[0m\u001b[0m\n\u001b[0m\u001b[1;32m    181\u001b[0m             \u001b[0;32mexcept\u001b[0m\u001b[0;34m:\u001b[0m\u001b[0;34m\u001b[0m\u001b[0;34m\u001b[0m\u001b[0m\n\u001b[1;32m    182\u001b[0m                 \u001b[0;31m# FIXME: log the exception\u001b[0m\u001b[0;34m\u001b[0m\u001b[0;34m\u001b[0m\u001b[0;34m\u001b[0m\u001b[0m\n",
      "\u001b[0;32m<//anaconda3/envs/cs109a/lib/python3.7/site-packages/decorator.py:decorator-gen-9>\u001b[0m in \u001b[0;36m__call__\u001b[0;34m(self, obj)\u001b[0m\n",
      "\u001b[0;32m//anaconda3/envs/cs109a/lib/python3.7/site-packages/IPython/core/formatters.py\u001b[0m in \u001b[0;36mcatch_format_error\u001b[0;34m(method, self, *args, **kwargs)\u001b[0m\n\u001b[1;32m    222\u001b[0m     \u001b[0;34m\"\"\"show traceback on failed format call\"\"\"\u001b[0m\u001b[0;34m\u001b[0m\u001b[0;34m\u001b[0m\u001b[0m\n\u001b[1;32m    223\u001b[0m     \u001b[0;32mtry\u001b[0m\u001b[0;34m:\u001b[0m\u001b[0;34m\u001b[0m\u001b[0;34m\u001b[0m\u001b[0m\n\u001b[0;32m--> 224\u001b[0;31m         \u001b[0mr\u001b[0m \u001b[0;34m=\u001b[0m \u001b[0mmethod\u001b[0m\u001b[0;34m(\u001b[0m\u001b[0mself\u001b[0m\u001b[0;34m,\u001b[0m \u001b[0;34m*\u001b[0m\u001b[0margs\u001b[0m\u001b[0;34m,\u001b[0m \u001b[0;34m**\u001b[0m\u001b[0mkwargs\u001b[0m\u001b[0;34m)\u001b[0m\u001b[0;34m\u001b[0m\u001b[0;34m\u001b[0m\u001b[0m\n\u001b[0m\u001b[1;32m    225\u001b[0m     \u001b[0;32mexcept\u001b[0m \u001b[0mNotImplementedError\u001b[0m\u001b[0;34m:\u001b[0m\u001b[0;34m\u001b[0m\u001b[0;34m\u001b[0m\u001b[0m\n\u001b[1;32m    226\u001b[0m         \u001b[0;31m# don't warn on NotImplementedErrors\u001b[0m\u001b[0;34m\u001b[0m\u001b[0;34m\u001b[0m\u001b[0;34m\u001b[0m\u001b[0m\n",
      "\u001b[0;32m//anaconda3/envs/cs109a/lib/python3.7/site-packages/IPython/core/formatters.py\u001b[0m in \u001b[0;36m__call__\u001b[0;34m(self, obj)\u001b[0m\n\u001b[1;32m    339\u001b[0m                 \u001b[0;32mpass\u001b[0m\u001b[0;34m\u001b[0m\u001b[0;34m\u001b[0m\u001b[0m\n\u001b[1;32m    340\u001b[0m             \u001b[0;32melse\u001b[0m\u001b[0;34m:\u001b[0m\u001b[0;34m\u001b[0m\u001b[0;34m\u001b[0m\u001b[0m\n\u001b[0;32m--> 341\u001b[0;31m                 \u001b[0;32mreturn\u001b[0m \u001b[0mprinter\u001b[0m\u001b[0;34m(\u001b[0m\u001b[0mobj\u001b[0m\u001b[0;34m)\u001b[0m\u001b[0;34m\u001b[0m\u001b[0;34m\u001b[0m\u001b[0m\n\u001b[0m\u001b[1;32m    342\u001b[0m             \u001b[0;31m# Finally look for special method names\u001b[0m\u001b[0;34m\u001b[0m\u001b[0;34m\u001b[0m\u001b[0;34m\u001b[0m\u001b[0m\n\u001b[1;32m    343\u001b[0m             \u001b[0mmethod\u001b[0m \u001b[0;34m=\u001b[0m \u001b[0mget_real_method\u001b[0m\u001b[0;34m(\u001b[0m\u001b[0mobj\u001b[0m\u001b[0;34m,\u001b[0m \u001b[0mself\u001b[0m\u001b[0;34m.\u001b[0m\u001b[0mprint_method\u001b[0m\u001b[0;34m)\u001b[0m\u001b[0;34m\u001b[0m\u001b[0;34m\u001b[0m\u001b[0m\n",
      "\u001b[0;32m//anaconda3/envs/cs109a/lib/python3.7/site-packages/IPython/core/pylabtools.py\u001b[0m in \u001b[0;36m<lambda>\u001b[0;34m(fig)\u001b[0m\n\u001b[1;32m    242\u001b[0m \u001b[0;34m\u001b[0m\u001b[0m\n\u001b[1;32m    243\u001b[0m     \u001b[0;32mif\u001b[0m \u001b[0;34m'png'\u001b[0m \u001b[0;32min\u001b[0m \u001b[0mformats\u001b[0m\u001b[0;34m:\u001b[0m\u001b[0;34m\u001b[0m\u001b[0;34m\u001b[0m\u001b[0m\n\u001b[0;32m--> 244\u001b[0;31m         \u001b[0mpng_formatter\u001b[0m\u001b[0;34m.\u001b[0m\u001b[0mfor_type\u001b[0m\u001b[0;34m(\u001b[0m\u001b[0mFigure\u001b[0m\u001b[0;34m,\u001b[0m \u001b[0;32mlambda\u001b[0m \u001b[0mfig\u001b[0m\u001b[0;34m:\u001b[0m \u001b[0mprint_figure\u001b[0m\u001b[0;34m(\u001b[0m\u001b[0mfig\u001b[0m\u001b[0;34m,\u001b[0m \u001b[0;34m'png'\u001b[0m\u001b[0;34m,\u001b[0m \u001b[0;34m**\u001b[0m\u001b[0mkwargs\u001b[0m\u001b[0;34m)\u001b[0m\u001b[0;34m)\u001b[0m\u001b[0;34m\u001b[0m\u001b[0;34m\u001b[0m\u001b[0m\n\u001b[0m\u001b[1;32m    245\u001b[0m     \u001b[0;32mif\u001b[0m \u001b[0;34m'retina'\u001b[0m \u001b[0;32min\u001b[0m \u001b[0mformats\u001b[0m \u001b[0;32mor\u001b[0m \u001b[0;34m'png2x'\u001b[0m \u001b[0;32min\u001b[0m \u001b[0mformats\u001b[0m\u001b[0;34m:\u001b[0m\u001b[0;34m\u001b[0m\u001b[0;34m\u001b[0m\u001b[0m\n\u001b[1;32m    246\u001b[0m         \u001b[0mpng_formatter\u001b[0m\u001b[0;34m.\u001b[0m\u001b[0mfor_type\u001b[0m\u001b[0;34m(\u001b[0m\u001b[0mFigure\u001b[0m\u001b[0;34m,\u001b[0m \u001b[0;32mlambda\u001b[0m \u001b[0mfig\u001b[0m\u001b[0;34m:\u001b[0m \u001b[0mretina_figure\u001b[0m\u001b[0;34m(\u001b[0m\u001b[0mfig\u001b[0m\u001b[0;34m,\u001b[0m \u001b[0;34m**\u001b[0m\u001b[0mkwargs\u001b[0m\u001b[0;34m)\u001b[0m\u001b[0;34m)\u001b[0m\u001b[0;34m\u001b[0m\u001b[0;34m\u001b[0m\u001b[0m\n",
      "\u001b[0;32m//anaconda3/envs/cs109a/lib/python3.7/site-packages/IPython/core/pylabtools.py\u001b[0m in \u001b[0;36mprint_figure\u001b[0;34m(fig, fmt, bbox_inches, **kwargs)\u001b[0m\n\u001b[1;32m    126\u001b[0m \u001b[0;34m\u001b[0m\u001b[0m\n\u001b[1;32m    127\u001b[0m     \u001b[0mbytes_io\u001b[0m \u001b[0;34m=\u001b[0m \u001b[0mBytesIO\u001b[0m\u001b[0;34m(\u001b[0m\u001b[0;34m)\u001b[0m\u001b[0;34m\u001b[0m\u001b[0;34m\u001b[0m\u001b[0m\n\u001b[0;32m--> 128\u001b[0;31m     \u001b[0mfig\u001b[0m\u001b[0;34m.\u001b[0m\u001b[0mcanvas\u001b[0m\u001b[0;34m.\u001b[0m\u001b[0mprint_figure\u001b[0m\u001b[0;34m(\u001b[0m\u001b[0mbytes_io\u001b[0m\u001b[0;34m,\u001b[0m \u001b[0;34m**\u001b[0m\u001b[0mkw\u001b[0m\u001b[0;34m)\u001b[0m\u001b[0;34m\u001b[0m\u001b[0;34m\u001b[0m\u001b[0m\n\u001b[0m\u001b[1;32m    129\u001b[0m     \u001b[0mdata\u001b[0m \u001b[0;34m=\u001b[0m \u001b[0mbytes_io\u001b[0m\u001b[0;34m.\u001b[0m\u001b[0mgetvalue\u001b[0m\u001b[0;34m(\u001b[0m\u001b[0;34m)\u001b[0m\u001b[0;34m\u001b[0m\u001b[0;34m\u001b[0m\u001b[0m\n\u001b[1;32m    130\u001b[0m     \u001b[0;32mif\u001b[0m \u001b[0mfmt\u001b[0m \u001b[0;34m==\u001b[0m \u001b[0;34m'svg'\u001b[0m\u001b[0;34m:\u001b[0m\u001b[0;34m\u001b[0m\u001b[0;34m\u001b[0m\u001b[0m\n",
      "\u001b[0;32m//anaconda3/envs/cs109a/lib/python3.7/site-packages/matplotlib/backend_bases.py\u001b[0m in \u001b[0;36mprint_figure\u001b[0;34m(self, filename, dpi, facecolor, edgecolor, orientation, format, bbox_inches, **kwargs)\u001b[0m\n\u001b[1;32m   2054\u001b[0m                         \u001b[0morientation\u001b[0m\u001b[0;34m=\u001b[0m\u001b[0morientation\u001b[0m\u001b[0;34m,\u001b[0m\u001b[0;34m\u001b[0m\u001b[0;34m\u001b[0m\u001b[0m\n\u001b[1;32m   2055\u001b[0m                         \u001b[0mdryrun\u001b[0m\u001b[0;34m=\u001b[0m\u001b[0;32mTrue\u001b[0m\u001b[0;34m,\u001b[0m\u001b[0;34m\u001b[0m\u001b[0;34m\u001b[0m\u001b[0m\n\u001b[0;32m-> 2056\u001b[0;31m                         **kwargs)\n\u001b[0m\u001b[1;32m   2057\u001b[0m                     \u001b[0mrenderer\u001b[0m \u001b[0;34m=\u001b[0m \u001b[0mself\u001b[0m\u001b[0;34m.\u001b[0m\u001b[0mfigure\u001b[0m\u001b[0;34m.\u001b[0m\u001b[0m_cachedRenderer\u001b[0m\u001b[0;34m\u001b[0m\u001b[0;34m\u001b[0m\u001b[0m\n\u001b[1;32m   2058\u001b[0m                     \u001b[0mbbox_artists\u001b[0m \u001b[0;34m=\u001b[0m \u001b[0mkwargs\u001b[0m\u001b[0;34m.\u001b[0m\u001b[0mpop\u001b[0m\u001b[0;34m(\u001b[0m\u001b[0;34m\"bbox_extra_artists\"\u001b[0m\u001b[0;34m,\u001b[0m \u001b[0;32mNone\u001b[0m\u001b[0;34m)\u001b[0m\u001b[0;34m\u001b[0m\u001b[0;34m\u001b[0m\u001b[0m\n",
      "\u001b[0;32m//anaconda3/envs/cs109a/lib/python3.7/site-packages/matplotlib/backends/backend_agg.py\u001b[0m in \u001b[0;36mprint_png\u001b[0;34m(self, filename_or_obj, metadata, pil_kwargs, *args, **kwargs)\u001b[0m\n\u001b[1;32m    525\u001b[0m \u001b[0;34m\u001b[0m\u001b[0m\n\u001b[1;32m    526\u001b[0m         \u001b[0;32melse\u001b[0m\u001b[0;34m:\u001b[0m\u001b[0;34m\u001b[0m\u001b[0;34m\u001b[0m\u001b[0m\n\u001b[0;32m--> 527\u001b[0;31m             \u001b[0mFigureCanvasAgg\u001b[0m\u001b[0;34m.\u001b[0m\u001b[0mdraw\u001b[0m\u001b[0;34m(\u001b[0m\u001b[0mself\u001b[0m\u001b[0;34m)\u001b[0m\u001b[0;34m\u001b[0m\u001b[0;34m\u001b[0m\u001b[0m\n\u001b[0m\u001b[1;32m    528\u001b[0m             \u001b[0mrenderer\u001b[0m \u001b[0;34m=\u001b[0m \u001b[0mself\u001b[0m\u001b[0;34m.\u001b[0m\u001b[0mget_renderer\u001b[0m\u001b[0;34m(\u001b[0m\u001b[0;34m)\u001b[0m\u001b[0;34m\u001b[0m\u001b[0;34m\u001b[0m\u001b[0m\n\u001b[1;32m    529\u001b[0m             \u001b[0;32mwith\u001b[0m \u001b[0mcbook\u001b[0m\u001b[0;34m.\u001b[0m\u001b[0m_setattr_cm\u001b[0m\u001b[0;34m(\u001b[0m\u001b[0mrenderer\u001b[0m\u001b[0;34m,\u001b[0m \u001b[0mdpi\u001b[0m\u001b[0;34m=\u001b[0m\u001b[0mself\u001b[0m\u001b[0;34m.\u001b[0m\u001b[0mfigure\u001b[0m\u001b[0;34m.\u001b[0m\u001b[0mdpi\u001b[0m\u001b[0;34m)\u001b[0m\u001b[0;34m,\u001b[0m\u001b[0;31m \u001b[0m\u001b[0;31m\\\u001b[0m\u001b[0;34m\u001b[0m\u001b[0;34m\u001b[0m\u001b[0m\n",
      "\u001b[0;32m//anaconda3/envs/cs109a/lib/python3.7/site-packages/matplotlib/backends/backend_agg.py\u001b[0m in \u001b[0;36mdraw\u001b[0;34m(self)\u001b[0m\n\u001b[1;32m    386\u001b[0m         \u001b[0mself\u001b[0m\u001b[0;34m.\u001b[0m\u001b[0mrenderer\u001b[0m \u001b[0;34m=\u001b[0m \u001b[0mself\u001b[0m\u001b[0;34m.\u001b[0m\u001b[0mget_renderer\u001b[0m\u001b[0;34m(\u001b[0m\u001b[0mcleared\u001b[0m\u001b[0;34m=\u001b[0m\u001b[0;32mTrue\u001b[0m\u001b[0;34m)\u001b[0m\u001b[0;34m\u001b[0m\u001b[0;34m\u001b[0m\u001b[0m\n\u001b[1;32m    387\u001b[0m         \u001b[0;32mwith\u001b[0m \u001b[0mRendererAgg\u001b[0m\u001b[0;34m.\u001b[0m\u001b[0mlock\u001b[0m\u001b[0;34m:\u001b[0m\u001b[0;34m\u001b[0m\u001b[0;34m\u001b[0m\u001b[0m\n\u001b[0;32m--> 388\u001b[0;31m             \u001b[0mself\u001b[0m\u001b[0;34m.\u001b[0m\u001b[0mfigure\u001b[0m\u001b[0;34m.\u001b[0m\u001b[0mdraw\u001b[0m\u001b[0;34m(\u001b[0m\u001b[0mself\u001b[0m\u001b[0;34m.\u001b[0m\u001b[0mrenderer\u001b[0m\u001b[0;34m)\u001b[0m\u001b[0;34m\u001b[0m\u001b[0;34m\u001b[0m\u001b[0m\n\u001b[0m\u001b[1;32m    389\u001b[0m             \u001b[0;31m# A GUI class may be need to update a window using this draw, so\u001b[0m\u001b[0;34m\u001b[0m\u001b[0;34m\u001b[0m\u001b[0;34m\u001b[0m\u001b[0m\n\u001b[1;32m    390\u001b[0m             \u001b[0;31m# don't forget to call the superclass.\u001b[0m\u001b[0;34m\u001b[0m\u001b[0;34m\u001b[0m\u001b[0;34m\u001b[0m\u001b[0m\n",
      "\u001b[0;32m//anaconda3/envs/cs109a/lib/python3.7/site-packages/matplotlib/artist.py\u001b[0m in \u001b[0;36mdraw_wrapper\u001b[0;34m(artist, renderer, *args, **kwargs)\u001b[0m\n\u001b[1;32m     36\u001b[0m                 \u001b[0mrenderer\u001b[0m\u001b[0;34m.\u001b[0m\u001b[0mstart_filter\u001b[0m\u001b[0;34m(\u001b[0m\u001b[0;34m)\u001b[0m\u001b[0;34m\u001b[0m\u001b[0;34m\u001b[0m\u001b[0m\n\u001b[1;32m     37\u001b[0m \u001b[0;34m\u001b[0m\u001b[0m\n\u001b[0;32m---> 38\u001b[0;31m             \u001b[0;32mreturn\u001b[0m \u001b[0mdraw\u001b[0m\u001b[0;34m(\u001b[0m\u001b[0martist\u001b[0m\u001b[0;34m,\u001b[0m \u001b[0mrenderer\u001b[0m\u001b[0;34m,\u001b[0m \u001b[0;34m*\u001b[0m\u001b[0margs\u001b[0m\u001b[0;34m,\u001b[0m \u001b[0;34m**\u001b[0m\u001b[0mkwargs\u001b[0m\u001b[0;34m)\u001b[0m\u001b[0;34m\u001b[0m\u001b[0;34m\u001b[0m\u001b[0m\n\u001b[0m\u001b[1;32m     39\u001b[0m         \u001b[0;32mfinally\u001b[0m\u001b[0;34m:\u001b[0m\u001b[0;34m\u001b[0m\u001b[0;34m\u001b[0m\u001b[0m\n\u001b[1;32m     40\u001b[0m             \u001b[0;32mif\u001b[0m \u001b[0martist\u001b[0m\u001b[0;34m.\u001b[0m\u001b[0mget_agg_filter\u001b[0m\u001b[0;34m(\u001b[0m\u001b[0;34m)\u001b[0m \u001b[0;32mis\u001b[0m \u001b[0;32mnot\u001b[0m \u001b[0;32mNone\u001b[0m\u001b[0;34m:\u001b[0m\u001b[0;34m\u001b[0m\u001b[0;34m\u001b[0m\u001b[0m\n",
      "\u001b[0;32m//anaconda3/envs/cs109a/lib/python3.7/site-packages/matplotlib/figure.py\u001b[0m in \u001b[0;36mdraw\u001b[0;34m(self, renderer)\u001b[0m\n\u001b[1;32m   1707\u001b[0m             \u001b[0mself\u001b[0m\u001b[0;34m.\u001b[0m\u001b[0mpatch\u001b[0m\u001b[0;34m.\u001b[0m\u001b[0mdraw\u001b[0m\u001b[0;34m(\u001b[0m\u001b[0mrenderer\u001b[0m\u001b[0;34m)\u001b[0m\u001b[0;34m\u001b[0m\u001b[0;34m\u001b[0m\u001b[0m\n\u001b[1;32m   1708\u001b[0m             mimage._draw_list_compositing_images(\n\u001b[0;32m-> 1709\u001b[0;31m                 renderer, self, artists, self.suppressComposite)\n\u001b[0m\u001b[1;32m   1710\u001b[0m \u001b[0;34m\u001b[0m\u001b[0m\n\u001b[1;32m   1711\u001b[0m             \u001b[0mrenderer\u001b[0m\u001b[0;34m.\u001b[0m\u001b[0mclose_group\u001b[0m\u001b[0;34m(\u001b[0m\u001b[0;34m'figure'\u001b[0m\u001b[0;34m)\u001b[0m\u001b[0;34m\u001b[0m\u001b[0;34m\u001b[0m\u001b[0m\n",
      "\u001b[0;32m//anaconda3/envs/cs109a/lib/python3.7/site-packages/matplotlib/image.py\u001b[0m in \u001b[0;36m_draw_list_compositing_images\u001b[0;34m(renderer, parent, artists, suppress_composite)\u001b[0m\n\u001b[1;32m    133\u001b[0m     \u001b[0;32mif\u001b[0m \u001b[0mnot_composite\u001b[0m \u001b[0;32mor\u001b[0m \u001b[0;32mnot\u001b[0m \u001b[0mhas_images\u001b[0m\u001b[0;34m:\u001b[0m\u001b[0;34m\u001b[0m\u001b[0;34m\u001b[0m\u001b[0m\n\u001b[1;32m    134\u001b[0m         \u001b[0;32mfor\u001b[0m \u001b[0ma\u001b[0m \u001b[0;32min\u001b[0m \u001b[0martists\u001b[0m\u001b[0;34m:\u001b[0m\u001b[0;34m\u001b[0m\u001b[0;34m\u001b[0m\u001b[0m\n\u001b[0;32m--> 135\u001b[0;31m             \u001b[0ma\u001b[0m\u001b[0;34m.\u001b[0m\u001b[0mdraw\u001b[0m\u001b[0;34m(\u001b[0m\u001b[0mrenderer\u001b[0m\u001b[0;34m)\u001b[0m\u001b[0;34m\u001b[0m\u001b[0;34m\u001b[0m\u001b[0m\n\u001b[0m\u001b[1;32m    136\u001b[0m     \u001b[0;32melse\u001b[0m\u001b[0;34m:\u001b[0m\u001b[0;34m\u001b[0m\u001b[0;34m\u001b[0m\u001b[0m\n\u001b[1;32m    137\u001b[0m         \u001b[0;31m# Composite any adjacent images together\u001b[0m\u001b[0;34m\u001b[0m\u001b[0;34m\u001b[0m\u001b[0;34m\u001b[0m\u001b[0m\n",
      "\u001b[0;32m//anaconda3/envs/cs109a/lib/python3.7/site-packages/matplotlib/artist.py\u001b[0m in \u001b[0;36mdraw_wrapper\u001b[0;34m(artist, renderer, *args, **kwargs)\u001b[0m\n\u001b[1;32m     36\u001b[0m                 \u001b[0mrenderer\u001b[0m\u001b[0;34m.\u001b[0m\u001b[0mstart_filter\u001b[0m\u001b[0;34m(\u001b[0m\u001b[0;34m)\u001b[0m\u001b[0;34m\u001b[0m\u001b[0;34m\u001b[0m\u001b[0m\n\u001b[1;32m     37\u001b[0m \u001b[0;34m\u001b[0m\u001b[0m\n\u001b[0;32m---> 38\u001b[0;31m             \u001b[0;32mreturn\u001b[0m \u001b[0mdraw\u001b[0m\u001b[0;34m(\u001b[0m\u001b[0martist\u001b[0m\u001b[0;34m,\u001b[0m \u001b[0mrenderer\u001b[0m\u001b[0;34m,\u001b[0m \u001b[0;34m*\u001b[0m\u001b[0margs\u001b[0m\u001b[0;34m,\u001b[0m \u001b[0;34m**\u001b[0m\u001b[0mkwargs\u001b[0m\u001b[0;34m)\u001b[0m\u001b[0;34m\u001b[0m\u001b[0;34m\u001b[0m\u001b[0m\n\u001b[0m\u001b[1;32m     39\u001b[0m         \u001b[0;32mfinally\u001b[0m\u001b[0;34m:\u001b[0m\u001b[0;34m\u001b[0m\u001b[0;34m\u001b[0m\u001b[0m\n\u001b[1;32m     40\u001b[0m             \u001b[0;32mif\u001b[0m \u001b[0martist\u001b[0m\u001b[0;34m.\u001b[0m\u001b[0mget_agg_filter\u001b[0m\u001b[0;34m(\u001b[0m\u001b[0;34m)\u001b[0m \u001b[0;32mis\u001b[0m \u001b[0;32mnot\u001b[0m \u001b[0;32mNone\u001b[0m\u001b[0;34m:\u001b[0m\u001b[0;34m\u001b[0m\u001b[0;34m\u001b[0m\u001b[0m\n",
      "\u001b[0;32m//anaconda3/envs/cs109a/lib/python3.7/site-packages/matplotlib/axes/_base.py\u001b[0m in \u001b[0;36mdraw\u001b[0;34m(self, renderer, inframe)\u001b[0m\n\u001b[1;32m   2645\u001b[0m             \u001b[0mrenderer\u001b[0m\u001b[0;34m.\u001b[0m\u001b[0mstop_rasterizing\u001b[0m\u001b[0;34m(\u001b[0m\u001b[0;34m)\u001b[0m\u001b[0;34m\u001b[0m\u001b[0;34m\u001b[0m\u001b[0m\n\u001b[1;32m   2646\u001b[0m \u001b[0;34m\u001b[0m\u001b[0m\n\u001b[0;32m-> 2647\u001b[0;31m         \u001b[0mmimage\u001b[0m\u001b[0;34m.\u001b[0m\u001b[0m_draw_list_compositing_images\u001b[0m\u001b[0;34m(\u001b[0m\u001b[0mrenderer\u001b[0m\u001b[0;34m,\u001b[0m \u001b[0mself\u001b[0m\u001b[0;34m,\u001b[0m \u001b[0martists\u001b[0m\u001b[0;34m)\u001b[0m\u001b[0;34m\u001b[0m\u001b[0;34m\u001b[0m\u001b[0m\n\u001b[0m\u001b[1;32m   2648\u001b[0m \u001b[0;34m\u001b[0m\u001b[0m\n\u001b[1;32m   2649\u001b[0m         \u001b[0mrenderer\u001b[0m\u001b[0;34m.\u001b[0m\u001b[0mclose_group\u001b[0m\u001b[0;34m(\u001b[0m\u001b[0;34m'axes'\u001b[0m\u001b[0;34m)\u001b[0m\u001b[0;34m\u001b[0m\u001b[0;34m\u001b[0m\u001b[0m\n",
      "\u001b[0;32m//anaconda3/envs/cs109a/lib/python3.7/site-packages/matplotlib/image.py\u001b[0m in \u001b[0;36m_draw_list_compositing_images\u001b[0;34m(renderer, parent, artists, suppress_composite)\u001b[0m\n\u001b[1;32m    133\u001b[0m     \u001b[0;32mif\u001b[0m \u001b[0mnot_composite\u001b[0m \u001b[0;32mor\u001b[0m \u001b[0;32mnot\u001b[0m \u001b[0mhas_images\u001b[0m\u001b[0;34m:\u001b[0m\u001b[0;34m\u001b[0m\u001b[0;34m\u001b[0m\u001b[0m\n\u001b[1;32m    134\u001b[0m         \u001b[0;32mfor\u001b[0m \u001b[0ma\u001b[0m \u001b[0;32min\u001b[0m \u001b[0martists\u001b[0m\u001b[0;34m:\u001b[0m\u001b[0;34m\u001b[0m\u001b[0;34m\u001b[0m\u001b[0m\n\u001b[0;32m--> 135\u001b[0;31m             \u001b[0ma\u001b[0m\u001b[0;34m.\u001b[0m\u001b[0mdraw\u001b[0m\u001b[0;34m(\u001b[0m\u001b[0mrenderer\u001b[0m\u001b[0;34m)\u001b[0m\u001b[0;34m\u001b[0m\u001b[0;34m\u001b[0m\u001b[0m\n\u001b[0m\u001b[1;32m    136\u001b[0m     \u001b[0;32melse\u001b[0m\u001b[0;34m:\u001b[0m\u001b[0;34m\u001b[0m\u001b[0;34m\u001b[0m\u001b[0m\n\u001b[1;32m    137\u001b[0m         \u001b[0;31m# Composite any adjacent images together\u001b[0m\u001b[0;34m\u001b[0m\u001b[0;34m\u001b[0m\u001b[0;34m\u001b[0m\u001b[0m\n",
      "\u001b[0;32m//anaconda3/envs/cs109a/lib/python3.7/site-packages/matplotlib/artist.py\u001b[0m in \u001b[0;36mdraw_wrapper\u001b[0;34m(artist, renderer, *args, **kwargs)\u001b[0m\n\u001b[1;32m     36\u001b[0m                 \u001b[0mrenderer\u001b[0m\u001b[0;34m.\u001b[0m\u001b[0mstart_filter\u001b[0m\u001b[0;34m(\u001b[0m\u001b[0;34m)\u001b[0m\u001b[0;34m\u001b[0m\u001b[0;34m\u001b[0m\u001b[0m\n\u001b[1;32m     37\u001b[0m \u001b[0;34m\u001b[0m\u001b[0m\n\u001b[0;32m---> 38\u001b[0;31m             \u001b[0;32mreturn\u001b[0m \u001b[0mdraw\u001b[0m\u001b[0;34m(\u001b[0m\u001b[0martist\u001b[0m\u001b[0;34m,\u001b[0m \u001b[0mrenderer\u001b[0m\u001b[0;34m,\u001b[0m \u001b[0;34m*\u001b[0m\u001b[0margs\u001b[0m\u001b[0;34m,\u001b[0m \u001b[0;34m**\u001b[0m\u001b[0mkwargs\u001b[0m\u001b[0;34m)\u001b[0m\u001b[0;34m\u001b[0m\u001b[0;34m\u001b[0m\u001b[0m\n\u001b[0m\u001b[1;32m     39\u001b[0m         \u001b[0;32mfinally\u001b[0m\u001b[0;34m:\u001b[0m\u001b[0;34m\u001b[0m\u001b[0;34m\u001b[0m\u001b[0m\n\u001b[1;32m     40\u001b[0m             \u001b[0;32mif\u001b[0m \u001b[0martist\u001b[0m\u001b[0;34m.\u001b[0m\u001b[0mget_agg_filter\u001b[0m\u001b[0;34m(\u001b[0m\u001b[0;34m)\u001b[0m \u001b[0;32mis\u001b[0m \u001b[0;32mnot\u001b[0m \u001b[0;32mNone\u001b[0m\u001b[0;34m:\u001b[0m\u001b[0;34m\u001b[0m\u001b[0;34m\u001b[0m\u001b[0m\n",
      "\u001b[0;32m//anaconda3/envs/cs109a/lib/python3.7/site-packages/matplotlib/legend.py\u001b[0m in \u001b[0;36mdraw\u001b[0;34m(self, renderer)\u001b[0m\n\u001b[1;32m    668\u001b[0m             \u001b[0mself\u001b[0m\u001b[0;34m.\u001b[0m\u001b[0mlegendPatch\u001b[0m\u001b[0;34m.\u001b[0m\u001b[0mdraw\u001b[0m\u001b[0;34m(\u001b[0m\u001b[0mrenderer\u001b[0m\u001b[0;34m)\u001b[0m\u001b[0;34m\u001b[0m\u001b[0;34m\u001b[0m\u001b[0m\n\u001b[1;32m    669\u001b[0m \u001b[0;34m\u001b[0m\u001b[0m\n\u001b[0;32m--> 670\u001b[0;31m         \u001b[0mself\u001b[0m\u001b[0;34m.\u001b[0m\u001b[0m_legend_box\u001b[0m\u001b[0;34m.\u001b[0m\u001b[0mdraw\u001b[0m\u001b[0;34m(\u001b[0m\u001b[0mrenderer\u001b[0m\u001b[0;34m)\u001b[0m\u001b[0;34m\u001b[0m\u001b[0;34m\u001b[0m\u001b[0m\n\u001b[0m\u001b[1;32m    671\u001b[0m \u001b[0;34m\u001b[0m\u001b[0m\n\u001b[1;32m    672\u001b[0m         \u001b[0mrenderer\u001b[0m\u001b[0;34m.\u001b[0m\u001b[0mclose_group\u001b[0m\u001b[0;34m(\u001b[0m\u001b[0;34m'legend'\u001b[0m\u001b[0;34m)\u001b[0m\u001b[0;34m\u001b[0m\u001b[0;34m\u001b[0m\u001b[0m\n",
      "\u001b[0;32m//anaconda3/envs/cs109a/lib/python3.7/site-packages/matplotlib/offsetbox.py\u001b[0m in \u001b[0;36mdraw\u001b[0;34m(self, renderer)\u001b[0m\n\u001b[1;32m    254\u001b[0m                                                         renderer)\n\u001b[1;32m    255\u001b[0m \u001b[0;34m\u001b[0m\u001b[0m\n\u001b[0;32m--> 256\u001b[0;31m         \u001b[0mpx\u001b[0m\u001b[0;34m,\u001b[0m \u001b[0mpy\u001b[0m \u001b[0;34m=\u001b[0m \u001b[0mself\u001b[0m\u001b[0;34m.\u001b[0m\u001b[0mget_offset\u001b[0m\u001b[0;34m(\u001b[0m\u001b[0mwidth\u001b[0m\u001b[0;34m,\u001b[0m \u001b[0mheight\u001b[0m\u001b[0;34m,\u001b[0m \u001b[0mxdescent\u001b[0m\u001b[0;34m,\u001b[0m \u001b[0mydescent\u001b[0m\u001b[0;34m,\u001b[0m \u001b[0mrenderer\u001b[0m\u001b[0;34m)\u001b[0m\u001b[0;34m\u001b[0m\u001b[0;34m\u001b[0m\u001b[0m\n\u001b[0m\u001b[1;32m    257\u001b[0m \u001b[0;34m\u001b[0m\u001b[0m\n\u001b[1;32m    258\u001b[0m         \u001b[0;32mfor\u001b[0m \u001b[0mc\u001b[0m\u001b[0;34m,\u001b[0m \u001b[0;34m(\u001b[0m\u001b[0mox\u001b[0m\u001b[0;34m,\u001b[0m \u001b[0moy\u001b[0m\u001b[0;34m)\u001b[0m \u001b[0;32min\u001b[0m \u001b[0mzip\u001b[0m\u001b[0;34m(\u001b[0m\u001b[0mself\u001b[0m\u001b[0;34m.\u001b[0m\u001b[0mget_visible_children\u001b[0m\u001b[0;34m(\u001b[0m\u001b[0;34m)\u001b[0m\u001b[0;34m,\u001b[0m \u001b[0moffsets\u001b[0m\u001b[0;34m)\u001b[0m\u001b[0;34m:\u001b[0m\u001b[0;34m\u001b[0m\u001b[0;34m\u001b[0m\u001b[0m\n",
      "\u001b[0;32m//anaconda3/envs/cs109a/lib/python3.7/site-packages/matplotlib/offsetbox.py\u001b[0m in \u001b[0;36mget_offset\u001b[0;34m(self, width, height, xdescent, ydescent, renderer)\u001b[0m\n\u001b[1;32m    194\u001b[0m         \"\"\"\n\u001b[1;32m    195\u001b[0m         return (self._offset(width, height, xdescent, ydescent, renderer)\n\u001b[0;32m--> 196\u001b[0;31m                 \u001b[0;32mif\u001b[0m \u001b[0mcallable\u001b[0m\u001b[0;34m(\u001b[0m\u001b[0mself\u001b[0m\u001b[0;34m.\u001b[0m\u001b[0m_offset\u001b[0m\u001b[0;34m)\u001b[0m\u001b[0;34m\u001b[0m\u001b[0;34m\u001b[0m\u001b[0m\n\u001b[0m\u001b[1;32m    197\u001b[0m                 else self._offset)\n\u001b[1;32m    198\u001b[0m \u001b[0;34m\u001b[0m\u001b[0m\n",
      "\u001b[0;32m//anaconda3/envs/cs109a/lib/python3.7/site-packages/matplotlib/legend.py\u001b[0m in \u001b[0;36m_findoffset\u001b[0;34m(self, width, height, xdescent, ydescent, renderer)\u001b[0m\n\u001b[1;32m    625\u001b[0m \u001b[0;34m\u001b[0m\u001b[0m\n\u001b[1;32m    626\u001b[0m         \u001b[0;32mif\u001b[0m \u001b[0mself\u001b[0m\u001b[0;34m.\u001b[0m\u001b[0m_loc\u001b[0m \u001b[0;34m==\u001b[0m \u001b[0;36m0\u001b[0m\u001b[0;34m:\u001b[0m  \u001b[0;31m# \"best\".\u001b[0m\u001b[0;34m\u001b[0m\u001b[0;34m\u001b[0m\u001b[0m\n\u001b[0;32m--> 627\u001b[0;31m             \u001b[0mx\u001b[0m\u001b[0;34m,\u001b[0m \u001b[0my\u001b[0m \u001b[0;34m=\u001b[0m \u001b[0mself\u001b[0m\u001b[0;34m.\u001b[0m\u001b[0m_find_best_position\u001b[0m\u001b[0;34m(\u001b[0m\u001b[0mwidth\u001b[0m\u001b[0;34m,\u001b[0m \u001b[0mheight\u001b[0m\u001b[0;34m,\u001b[0m \u001b[0mrenderer\u001b[0m\u001b[0;34m)\u001b[0m\u001b[0;34m\u001b[0m\u001b[0;34m\u001b[0m\u001b[0m\n\u001b[0m\u001b[1;32m    628\u001b[0m         \u001b[0;32melif\u001b[0m \u001b[0mself\u001b[0m\u001b[0;34m.\u001b[0m\u001b[0m_loc\u001b[0m \u001b[0;32min\u001b[0m \u001b[0mLegend\u001b[0m\u001b[0;34m.\u001b[0m\u001b[0mcodes\u001b[0m\u001b[0;34m.\u001b[0m\u001b[0mvalues\u001b[0m\u001b[0;34m(\u001b[0m\u001b[0;34m)\u001b[0m\u001b[0;34m:\u001b[0m  \u001b[0;31m# Fixed location.\u001b[0m\u001b[0;34m\u001b[0m\u001b[0;34m\u001b[0m\u001b[0m\n\u001b[1;32m    629\u001b[0m             \u001b[0mbbox\u001b[0m \u001b[0;34m=\u001b[0m \u001b[0mBbox\u001b[0m\u001b[0;34m.\u001b[0m\u001b[0mfrom_bounds\u001b[0m\u001b[0;34m(\u001b[0m\u001b[0;36m0\u001b[0m\u001b[0;34m,\u001b[0m \u001b[0;36m0\u001b[0m\u001b[0;34m,\u001b[0m \u001b[0mwidth\u001b[0m\u001b[0;34m,\u001b[0m \u001b[0mheight\u001b[0m\u001b[0;34m)\u001b[0m\u001b[0;34m\u001b[0m\u001b[0;34m\u001b[0m\u001b[0m\n",
      "\u001b[0;32m//anaconda3/envs/cs109a/lib/python3.7/site-packages/matplotlib/legend.py\u001b[0m in \u001b[0;36m_find_best_position\u001b[0;34m(self, width, height, renderer, consider)\u001b[0m\n\u001b[1;32m   1124\u001b[0m         \u001b[0;32massert\u001b[0m \u001b[0mself\u001b[0m\u001b[0;34m.\u001b[0m\u001b[0misaxes\u001b[0m\u001b[0;34m\u001b[0m\u001b[0;34m\u001b[0m\u001b[0m\n\u001b[1;32m   1125\u001b[0m \u001b[0;34m\u001b[0m\u001b[0m\n\u001b[0;32m-> 1126\u001b[0;31m         \u001b[0mverts\u001b[0m\u001b[0;34m,\u001b[0m \u001b[0mbboxes\u001b[0m\u001b[0;34m,\u001b[0m \u001b[0mlines\u001b[0m\u001b[0;34m,\u001b[0m \u001b[0moffsets\u001b[0m \u001b[0;34m=\u001b[0m \u001b[0mself\u001b[0m\u001b[0;34m.\u001b[0m\u001b[0m_auto_legend_data\u001b[0m\u001b[0;34m(\u001b[0m\u001b[0;34m)\u001b[0m\u001b[0;34m\u001b[0m\u001b[0;34m\u001b[0m\u001b[0m\n\u001b[0m\u001b[1;32m   1127\u001b[0m         \u001b[0;32mif\u001b[0m \u001b[0mself\u001b[0m\u001b[0;34m.\u001b[0m\u001b[0m_loc_used_default\u001b[0m \u001b[0;32mand\u001b[0m \u001b[0mverts\u001b[0m\u001b[0;34m.\u001b[0m\u001b[0mshape\u001b[0m\u001b[0;34m[\u001b[0m\u001b[0;36m0\u001b[0m\u001b[0;34m]\u001b[0m \u001b[0;34m>\u001b[0m \u001b[0;36m200000\u001b[0m\u001b[0;34m:\u001b[0m\u001b[0;34m\u001b[0m\u001b[0;34m\u001b[0m\u001b[0m\n\u001b[1;32m   1128\u001b[0m             \u001b[0;31m# this size results in a 3+ second render time on a good machine\u001b[0m\u001b[0;34m\u001b[0m\u001b[0;34m\u001b[0m\u001b[0;34m\u001b[0m\u001b[0m\n",
      "\u001b[0;32m//anaconda3/envs/cs109a/lib/python3.7/site-packages/matplotlib/legend.py\u001b[0m in \u001b[0;36m_auto_legend_data\u001b[0;34m(self)\u001b[0m\n\u001b[1;32m    918\u001b[0m             \u001b[0;32mif\u001b[0m \u001b[0misinstance\u001b[0m\u001b[0;34m(\u001b[0m\u001b[0mhandle\u001b[0m\u001b[0;34m,\u001b[0m \u001b[0mRectangle\u001b[0m\u001b[0;34m)\u001b[0m\u001b[0;34m:\u001b[0m\u001b[0;34m\u001b[0m\u001b[0;34m\u001b[0m\u001b[0m\n\u001b[1;32m    919\u001b[0m                 \u001b[0mtransform\u001b[0m \u001b[0;34m=\u001b[0m \u001b[0mhandle\u001b[0m\u001b[0;34m.\u001b[0m\u001b[0mget_data_transform\u001b[0m\u001b[0;34m(\u001b[0m\u001b[0;34m)\u001b[0m\u001b[0;34m\u001b[0m\u001b[0;34m\u001b[0m\u001b[0m\n\u001b[0;32m--> 920\u001b[0;31m                 \u001b[0mbboxes\u001b[0m\u001b[0;34m.\u001b[0m\u001b[0mappend\u001b[0m\u001b[0;34m(\u001b[0m\u001b[0mhandle\u001b[0m\u001b[0;34m.\u001b[0m\u001b[0mget_bbox\u001b[0m\u001b[0;34m(\u001b[0m\u001b[0;34m)\u001b[0m\u001b[0;34m.\u001b[0m\u001b[0mtransformed\u001b[0m\u001b[0;34m(\u001b[0m\u001b[0mtransform\u001b[0m\u001b[0;34m)\u001b[0m\u001b[0;34m)\u001b[0m\u001b[0;34m\u001b[0m\u001b[0;34m\u001b[0m\u001b[0m\n\u001b[0m\u001b[1;32m    921\u001b[0m             \u001b[0;32melse\u001b[0m\u001b[0;34m:\u001b[0m\u001b[0;34m\u001b[0m\u001b[0;34m\u001b[0m\u001b[0m\n\u001b[1;32m    922\u001b[0m                 \u001b[0mtransform\u001b[0m \u001b[0;34m=\u001b[0m \u001b[0mhandle\u001b[0m\u001b[0;34m.\u001b[0m\u001b[0mget_transform\u001b[0m\u001b[0;34m(\u001b[0m\u001b[0;34m)\u001b[0m\u001b[0;34m\u001b[0m\u001b[0;34m\u001b[0m\u001b[0m\n",
      "\u001b[0;32m//anaconda3/envs/cs109a/lib/python3.7/site-packages/matplotlib/transforms.py\u001b[0m in \u001b[0;36mtransformed\u001b[0;34m(self, transform)\u001b[0m\n\u001b[1;32m    513\u001b[0m         ll, ul, lr = transform.transform(np.array([pts[0],\n\u001b[1;32m    514\u001b[0m             [pts[0, 0], pts[1, 1]], [pts[1, 0], pts[0, 1]]]))\n\u001b[0;32m--> 515\u001b[0;31m         \u001b[0;32mreturn\u001b[0m \u001b[0mBbox\u001b[0m\u001b[0;34m(\u001b[0m\u001b[0;34m[\u001b[0m\u001b[0mll\u001b[0m\u001b[0;34m,\u001b[0m \u001b[0;34m[\u001b[0m\u001b[0mlr\u001b[0m\u001b[0;34m[\u001b[0m\u001b[0;36m0\u001b[0m\u001b[0;34m]\u001b[0m\u001b[0;34m,\u001b[0m \u001b[0mul\u001b[0m\u001b[0;34m[\u001b[0m\u001b[0;36m1\u001b[0m\u001b[0;34m]\u001b[0m\u001b[0;34m]\u001b[0m\u001b[0;34m]\u001b[0m\u001b[0;34m)\u001b[0m\u001b[0;34m\u001b[0m\u001b[0;34m\u001b[0m\u001b[0m\n\u001b[0m\u001b[1;32m    516\u001b[0m \u001b[0;34m\u001b[0m\u001b[0m\n\u001b[1;32m    517\u001b[0m     \u001b[0;32mdef\u001b[0m \u001b[0minverse_transformed\u001b[0m\u001b[0;34m(\u001b[0m\u001b[0mself\u001b[0m\u001b[0;34m,\u001b[0m \u001b[0mtransform\u001b[0m\u001b[0;34m)\u001b[0m\u001b[0;34m:\u001b[0m\u001b[0;34m\u001b[0m\u001b[0;34m\u001b[0m\u001b[0m\n",
      "\u001b[0;32m//anaconda3/envs/cs109a/lib/python3.7/site-packages/matplotlib/transforms.py\u001b[0m in \u001b[0;36m__init__\u001b[0;34m(self, points, **kwargs)\u001b[0m\n\u001b[1;32m    738\u001b[0m         \"\"\"\n\u001b[1;32m    739\u001b[0m         \u001b[0mBboxBase\u001b[0m\u001b[0;34m.\u001b[0m\u001b[0m__init__\u001b[0m\u001b[0;34m(\u001b[0m\u001b[0mself\u001b[0m\u001b[0;34m,\u001b[0m \u001b[0;34m**\u001b[0m\u001b[0mkwargs\u001b[0m\u001b[0;34m)\u001b[0m\u001b[0;34m\u001b[0m\u001b[0;34m\u001b[0m\u001b[0m\n\u001b[0;32m--> 740\u001b[0;31m         \u001b[0mpoints\u001b[0m \u001b[0;34m=\u001b[0m \u001b[0mnp\u001b[0m\u001b[0;34m.\u001b[0m\u001b[0masarray\u001b[0m\u001b[0;34m(\u001b[0m\u001b[0mpoints\u001b[0m\u001b[0;34m,\u001b[0m \u001b[0mfloat\u001b[0m\u001b[0;34m)\u001b[0m\u001b[0;34m\u001b[0m\u001b[0;34m\u001b[0m\u001b[0m\n\u001b[0m\u001b[1;32m    741\u001b[0m         \u001b[0;32mif\u001b[0m \u001b[0mpoints\u001b[0m\u001b[0;34m.\u001b[0m\u001b[0mshape\u001b[0m \u001b[0;34m!=\u001b[0m \u001b[0;34m(\u001b[0m\u001b[0;36m2\u001b[0m\u001b[0;34m,\u001b[0m \u001b[0;36m2\u001b[0m\u001b[0;34m)\u001b[0m\u001b[0;34m:\u001b[0m\u001b[0;34m\u001b[0m\u001b[0;34m\u001b[0m\u001b[0m\n\u001b[1;32m    742\u001b[0m             raise ValueError('Bbox points must be of the form '\n",
      "\u001b[0;32m//anaconda3/envs/cs109a/lib/python3.7/site-packages/numpy/core/numeric.py\u001b[0m in \u001b[0;36masarray\u001b[0;34m(a, dtype, order)\u001b[0m\n\u001b[1;32m    536\u001b[0m \u001b[0;34m\u001b[0m\u001b[0m\n\u001b[1;32m    537\u001b[0m     \"\"\"\n\u001b[0;32m--> 538\u001b[0;31m     \u001b[0;32mreturn\u001b[0m \u001b[0marray\u001b[0m\u001b[0;34m(\u001b[0m\u001b[0ma\u001b[0m\u001b[0;34m,\u001b[0m \u001b[0mdtype\u001b[0m\u001b[0;34m,\u001b[0m \u001b[0mcopy\u001b[0m\u001b[0;34m=\u001b[0m\u001b[0;32mFalse\u001b[0m\u001b[0;34m,\u001b[0m \u001b[0morder\u001b[0m\u001b[0;34m=\u001b[0m\u001b[0morder\u001b[0m\u001b[0;34m)\u001b[0m\u001b[0;34m\u001b[0m\u001b[0;34m\u001b[0m\u001b[0m\n\u001b[0m\u001b[1;32m    539\u001b[0m \u001b[0;34m\u001b[0m\u001b[0m\n\u001b[1;32m    540\u001b[0m \u001b[0;34m\u001b[0m\u001b[0m\n",
      "\u001b[0;31mKeyboardInterrupt\u001b[0m: "
     ]
    }
   ],
   "source": [
    "#cv_df = cv_df.transpose()\n",
    "fig, ax = plt.subplots(figsize=(20, 10))\n",
    "ax = plt.bar(data_pro_full.columns)\n",
    "ax.set_title('Word counts across all songs')\n",
    "plt.xticks(rotation='vertical')\n",
    "ax.set_xlabel(\"Indicator word\")\n",
    "ax.set_ylabel('Word count')"
   ]
  },
  {
   "cell_type": "code",
   "execution_count": null,
   "metadata": {},
   "outputs": [],
   "source": [
    "data_pro_full.plot.bar(x='lab', y='val', rot=0)"
   ]
  },
  {
   "cell_type": "code",
   "execution_count": 33,
   "metadata": {},
   "outputs": [
    {
     "ename": "TypeError",
     "evalue": "sort_values() missing 1 required positional argument: 'by'",
     "output_type": "error",
     "traceback": [
      "\u001b[0;31m---------------------------------------------------------------------------\u001b[0m",
      "\u001b[0;31mTypeError\u001b[0m                                 Traceback (most recent call last)",
      "\u001b[0;32m<ipython-input-33-92f78f8b6eea>\u001b[0m in \u001b[0;36m<module>\u001b[0;34m\u001b[0m\n\u001b[0;32m----> 1\u001b[0;31m \u001b[0mdata_pro_full2\u001b[0m\u001b[0;34m.\u001b[0m\u001b[0msort_values\u001b[0m\u001b[0;34m(\u001b[0m\u001b[0;34m)\u001b[0m\u001b[0;34m\u001b[0m\u001b[0;34m\u001b[0m\u001b[0m\n\u001b[0m",
      "\u001b[0;31mTypeError\u001b[0m: sort_values() missing 1 required positional argument: 'by'"
     ]
    }
   ],
   "source": [
    "data_pro_full2.sort_values()"
   ]
  },
  {
   "cell_type": "code",
   "execution_count": 48,
   "metadata": {},
   "outputs": [
    {
     "data": {
      "image/png": "[encoded data removed]",
      "text/plain": [
       "<Figure size 1440x720 with 1 Axes>"
      ]
     },
     "metadata": {
      "needs_background": "light"
     },
     "output_type": "display_data"
    }
   ],
   "source": [
    "plt.subplots(figsize=(20, 10))\n",
    "plt.bar(range(len(np.mean(data_pro_full2,axis=0))),np.mean(data_pro_full2,axis=0))\n",
    "plt.xlabel('Indicator word', fontsize=22)\n",
    "plt.xticks(range(len(np.mean(data_pro_full2,axis=0))),data_pro_full2.columns, rotation='vertical',fontsize=12)\n",
    "plt.ylabel('Mean word count across all songs')\n",
    "plt.title('Mean indicator word counts across all songs',fontsize=22)\n",
    "plt.savefig('word_freq')"
   ]
  },
  {
   "cell_type": "code",
   "execution_count": null,
   "metadata": {},
   "outputs": [],
   "source": []
  }
 ],
 "metadata": {
  "kernelspec": {
   "display_name": "Python 3",
   "language": "python",
   "name": "python3"
  },
  "language_info": {
   "codemirror_mode": {
    "name": "ipython",
    "version": 3
   },
   "file_extension": ".py",
   "mimetype": "text/x-python",
   "name": "python",
   "nbconvert_exporter": "python",
   "pygments_lexer": "ipython3",
   "version": "3.7.4"
  }
 },
 "nbformat": 4,
 "nbformat_minor": 2
}
