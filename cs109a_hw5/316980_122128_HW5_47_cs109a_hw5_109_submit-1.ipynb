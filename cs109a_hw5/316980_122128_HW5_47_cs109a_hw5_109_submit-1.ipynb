{
 "cells": [
  {
   "cell_type": "markdown",
   "metadata": {},
   "source": [
    "\n",
    "# <img style=\"float: left; padding-right: 10px; width: 45px\" src=\"https://raw.githubusercontent.com/Harvard-IACS/2018-CS109A/master/content/styles/iacs.png\"> CS109A Introduction to Data Science\n",
    "\n",
    "## Homework 5: $k$-NN Classification, ROC, and PCA\n",
    "\n",
    "**Harvard University**<br/>\n",
    "**Fall 2019**<br/>\n",
    "**Instructors**: Pavlos Protopapas, Kevin Rader, and Chris Tanner\n",
    "\n",
    "<hr style=\"height:2pt\">\n",
    "\n"
   ]
  },
  {
   "cell_type": "code",
   "execution_count": 1,
   "metadata": {},
   "outputs": [
    {
     "data": {
      "text/html": [
       "<style>\n",
       "blockquote { background: #AEDE94; }\n",
       "h1 { \n",
       "    padding-top: 25px;\n",
       "    padding-bottom: 25px;\n",
       "    text-align: left; \n",
       "    padding-left: 10px;\n",
       "    background-color: #DDDDDD; \n",
       "    color: black;\n",
       "}\n",
       "h2 { \n",
       "    padding-top: 10px;\n",
       "    padding-bottom: 10px;\n",
       "    text-align: left; \n",
       "    padding-left: 5px;\n",
       "    background-color: #EEEEEE; \n",
       "    color: black;\n",
       "}\n",
       "\n",
       "div.exercise {\n",
       "\tbackground-color: #ffcccc;\n",
       "\tborder-color: #E9967A; \t\n",
       "\tborder-left: 5px solid #800080; \n",
       "\tpadding: 0.5em;\n",
       "}\n",
       "\n",
       "span.sub-q {\n",
       "\tfont-weight: bold;\n",
       "}\n",
       "div.theme {\n",
       "\tbackground-color: #DDDDDD;\n",
       "\tborder-color: #E9967A; \t\n",
       "\tborder-left: 5px solid #800080; \n",
       "\tpadding: 0.5em;\n",
       "\tfont-size: 18pt;\n",
       "}\n",
       "div.gc { \n",
       "\tbackground-color: #AEDE94;\n",
       "\tborder-color: #E9967A; \t \n",
       "\tborder-left: 5px solid #800080; \n",
       "\tpadding: 0.5em;\n",
       "\tfont-size: 12pt;\n",
       "}\n",
       "p.q1 { \n",
       "    padding-top: 5px;\n",
       "    padding-bottom: 5px;\n",
       "    text-align: left; \n",
       "    padding-left: 5px;\n",
       "    background-color: #EEEEEE; \n",
       "    color: black;\n",
       "}\n",
       "header {\n",
       "   padding-top: 35px;\n",
       "    padding-bottom: 35px;\n",
       "    text-align: left; \n",
       "    padding-left: 10px;\n",
       "    background-color: #DDDDDD; \n",
       "    color: black;\n",
       "}\n",
       "</style>\n",
       "\n"
      ],
      "text/plain": [
       "<IPython.core.display.HTML object>"
      ]
     },
     "execution_count": 1,
     "metadata": {},
     "output_type": "execute_result"
    }
   ],
   "source": [
    "#RUN THIS CELL \n",
    "import requests\n",
    "from IPython.core.display import HTML\n",
    "styles = requests.get(\"https://raw.githubusercontent.com/Harvard-IACS/2018-CS109A/master/content/styles/cs109.css\").text\n",
    "HTML(styles)"
   ]
  },
  {
   "cell_type": "markdown",
   "metadata": {},
   "source": [
    "### INSTRUCTIONS\n",
    "\n",
    "- To submit your assignment follow the instructions given in Canvas.\n",
    "- Restart the kernel and run the whole notebook again before you submit. \n",
    "- As much as possible, try and stick to the hints and functions we import at the top of the homework, as those are the ideas and tools the class supports and is aiming to teach. And if a problem specifies a particular library you're required to use that library, and possibly others from the import list.\n",
    "- Please use .head() when viewing data. Do not submit a notebook that is excessively long because output was not suppressed or otherwise limited."
   ]
  },
  {
   "cell_type": "code",
   "execution_count": 2,
   "metadata": {},
   "outputs": [
    {
     "name": "stderr",
     "output_type": "stream",
     "text": [
      "/Users/williamdrew/anaconda3/lib/python3.6/importlib/_bootstrap.py:219: RuntimeWarning: numpy.dtype size changed, may indicate binary incompatibility. Expected 96, got 88\n",
      "  return f(*args, **kwds)\n",
      "/Users/williamdrew/anaconda3/lib/python3.6/importlib/_bootstrap.py:219: RuntimeWarning: numpy.dtype size changed, may indicate binary incompatibility. Expected 96, got 88\n",
      "  return f(*args, **kwds)\n",
      "/Users/williamdrew/anaconda3/lib/python3.6/importlib/_bootstrap.py:219: RuntimeWarning: numpy.dtype size changed, may indicate binary incompatibility. Expected 96, got 88\n",
      "  return f(*args, **kwds)\n",
      "/Users/williamdrew/anaconda3/lib/python3.6/importlib/_bootstrap.py:219: RuntimeWarning: numpy.dtype size changed, may indicate binary incompatibility. Expected 96, got 88\n",
      "  return f(*args, **kwds)\n",
      "/Users/williamdrew/anaconda3/lib/python3.6/importlib/_bootstrap.py:219: RuntimeWarning: numpy.dtype size changed, may indicate binary incompatibility. Expected 96, got 88\n",
      "  return f(*args, **kwds)\n",
      "/Users/williamdrew/anaconda3/lib/python3.6/importlib/_bootstrap.py:219: RuntimeWarning: numpy.dtype size changed, may indicate binary incompatibility. Expected 96, got 88\n",
      "  return f(*args, **kwds)\n",
      "/Users/williamdrew/anaconda3/lib/python3.6/site-packages/statsmodels/compat/pandas.py:56: FutureWarning: The pandas.core.datetools module is deprecated and will be removed in a future version. Please use the pandas.tseries module instead.\n",
      "  from pandas.core import datetools\n",
      "/Users/williamdrew/anaconda3/lib/python3.6/importlib/_bootstrap.py:219: RuntimeWarning: numpy.dtype size changed, may indicate binary incompatibility. Expected 96, got 88\n",
      "  return f(*args, **kwds)\n"
     ]
    }
   ],
   "source": [
    "import numpy as np\n",
    "import pandas as pd\n",
    "from scipy.stats import ttest_ind\n",
    "pd.set_option('display.max_columns', 25)\n",
    "\n",
    "from sklearn.linear_model import LinearRegression\n",
    "from sklearn.linear_model import LogisticRegression\n",
    "from sklearn.linear_model import LogisticRegressionCV\n",
    "from sklearn.linear_model import LassoCV\n",
    "\n",
    "from sklearn.neighbors import KNeighborsClassifier\n",
    "from sklearn.model_selection import cross_val_score\n",
    "from sklearn.metrics import accuracy_score\n",
    "from sklearn.model_selection import KFold\n",
    "from sklearn.preprocessing import MinMaxScaler\n",
    "from sklearn.model_selection import train_test_split\n",
    "from sklearn.decomposition import PCA\n",
    "from sklearn.metrics import confusion_matrix, roc_curve, auc\n",
    "from sklearn.preprocessing import StandardScaler\n",
    "\n",
    "from sklearn import metrics\n",
    "\n",
    "import matplotlib\n",
    "import matplotlib.pyplot as plt\n",
    "%matplotlib inline\n",
    "\n",
    "import statsmodels.api as sm\n",
    "from statsmodels.api import OLS\n",
    "\n",
    "import seaborn as sns\n",
    "sns.set()"
   ]
  },
  {
   "cell_type": "markdown",
   "metadata": {},
   "source": [
    "\n",
    "## Continuing Cancer Classification from Gene Expressions\n",
    "\n",
    "In this problem, we will continue to work with the 2-class (ALL vs. AML) cancer classification problem from homework 4. The dataset is provided in the file `data/hw4_enhance.csv` and is the same as the previous HW.  Recall: **0 indicates the ALL** class and **1 indicates the AML** class within `Cancer_type`, and columns 2-7130 contain expression levels of 7129 genes recorded from each tissue sample. \n",
    "\n",
    "In the following questions, we will handle the high dimensionality of this problem directly by applying Principal Component Analysis (PCA), and then use the resulting PCA-transformed in logistic regression and $k$-NN modeling."
   ]
  },
  {
   "cell_type": "markdown",
   "metadata": {},
   "source": [
    "<div class='exercise'><b> Question 1 [20 pts]: Baseline Modeling </b></div>\n",
    "\n",
    "First step is to split the observations into an approximate 80-20 train-test split.  Below is the same code from HW4 to do this for you (we again want to make sure everyone has the same splits). Use the training data set to answer the following questions:\n"
   ]
  },
  {
   "cell_type": "markdown",
   "metadata": {},
   "source": [
    "**First step is to split the observations into an approximate 80-20 train-test split. Below is some code to do this for you (we want to make sure everyone has the same splits). `Cancer_type` is again our target column.**"
   ]
  },
  {
   "cell_type": "code",
   "execution_count": 3,
   "metadata": {},
   "outputs": [],
   "source": [
    "np.random.seed(10)\n",
    "df = pd.read_csv('data/hw4_enhance.csv', index_col=0)\n",
    "\n",
    "X_train, X_test, y_train, y_test =train_test_split(df.loc[:, df.columns != 'Cancer_type'], \n",
    "                                                         df.Cancer_type, test_size=0.2, \n",
    "                                                         random_state = 109, \n",
    "                                                         stratify = df.Cancer_type)"
   ]
  },
  {
   "cell_type": "markdown",
   "metadata": {},
   "source": [
    "**1.1** Begin by normalizing all predictors just like you did in HW4.  Use these versions of the predictors throughout this assignment.\n",
    "\n",
    "**1.2** Fit an 'unregularized' multiple logistic regression model (set C=100000) with all the gene predictors from the data set (you did this in HW4).  Report the misclassification rate on both the train and test sets.\n",
    "\n",
    "**1.3** Use regularization to improve the predictions from the multiple logistic regression model. Specifically, use LASSO-like regularization and cross-validation to train the model on the training set (you did this in HW4).  Report the classification accuracy on both the train and test sets.\n",
    "\n",
    "**1.4** Use 5-fold cross-validation to select $k$ for a $k$-NN classification model based on the full predictor set.  Choose between `k = 1,2,5,10,20,50,100,200,500`. \n",
    "\n",
    "**1.5** Provide the confusion matrix for all 3 models above and report the false positive and false negative rates (all in the test set).  Briefly interpret what you notice.\n"
   ]
  },
  {
   "cell_type": "markdown",
   "metadata": {},
   "source": [
    "<hr>\n",
    "\n",
    "### Solutions"
   ]
  },
  {
   "cell_type": "markdown",
   "metadata": {},
   "source": [
    "<div class='alert alert-block' style='border-color:rgb(201, 201, 201); border-style:dashed; border-width: 3px'><div class='alert alert-block alert-primary'><b>Question : </b><span style = 'color:black'>1.1\n",
    "</span></div><div class='alert alert-block alert-info'><b>Comments : </b><span style = 'color:black'>Good job on this question! Consider showing the dataframe summary using describe() as well. You can review the min and max values from the describe output to validate the results of your normalization. They should be between 0 and 1. No points deducted.\n",
    "</span></div></div>"
   ]
  },
  {
   "cell_type": "markdown",
   "metadata": {},
   "source": [
    "**1.1 Begin by normalizing all predictors just like you did in HW4.  Use these versions of the predictors throughout this assignment.**"
   ]
  },
  {
   "cell_type": "code",
   "execution_count": 4,
   "metadata": {},
   "outputs": [],
   "source": [
    "# Normalize values of each predictor in the train set\n",
    "\n",
    "scaler = MinMaxScaler().fit(X_train)\n",
    "\n",
    "X_train_scaled = pd.DataFrame(scaler.transform(X_train), index = X_train.index, columns = X_train.columns)\n"
   ]
  },
  {
   "cell_type": "code",
   "execution_count": 5,
   "metadata": {},
   "outputs": [
    {
     "data": {
      "text/html": [
       "<div>\n",
       "<style scoped>\n",
       "    .dataframe tbody tr th:only-of-type {\n",
       "        vertical-align: middle;\n",
       "    }\n",
       "\n",
       "    .dataframe tbody tr th {\n",
       "        vertical-align: top;\n",
       "    }\n",
       "\n",
       "    .dataframe thead th {\n",
       "        text-align: right;\n",
       "    }\n",
       "</style>\n",
       "<table border=\"1\" class=\"dataframe\">\n",
       "  <thead>\n",
       "    <tr style=\"text-align: right;\">\n",
       "      <th></th>\n",
       "      <th>AFFX-BioB-5_at</th>\n",
       "      <th>AFFX-BioB-M_at</th>\n",
       "      <th>AFFX-BioB-3_at</th>\n",
       "      <th>AFFX-BioC-5_at</th>\n",
       "      <th>AFFX-BioC-3_at</th>\n",
       "      <th>AFFX-BioDn-5_at</th>\n",
       "      <th>AFFX-BioDn-3_at</th>\n",
       "      <th>AFFX-CreX-5_at</th>\n",
       "      <th>AFFX-CreX-3_at</th>\n",
       "      <th>AFFX-BioB-5_st</th>\n",
       "      <th>AFFX-BioB-M_st</th>\n",
       "      <th>AFFX-BioB-3_st</th>\n",
       "      <th>...</th>\n",
       "      <th>U11863_at</th>\n",
       "      <th>U29175_at</th>\n",
       "      <th>U48730_at</th>\n",
       "      <th>U58516_at</th>\n",
       "      <th>U73738_at</th>\n",
       "      <th>X06956_at</th>\n",
       "      <th>X16699_at</th>\n",
       "      <th>X83863_at</th>\n",
       "      <th>Z17240_at</th>\n",
       "      <th>L49218_f_at</th>\n",
       "      <th>M71243_f_at</th>\n",
       "      <th>Z78285_f_at</th>\n",
       "    </tr>\n",
       "  </thead>\n",
       "  <tbody>\n",
       "    <tr>\n",
       "      <th>486</th>\n",
       "      <td>0.574689</td>\n",
       "      <td>0.652904</td>\n",
       "      <td>0.528552</td>\n",
       "      <td>0.202384</td>\n",
       "      <td>0.504132</td>\n",
       "      <td>0.309107</td>\n",
       "      <td>0.439480</td>\n",
       "      <td>0.524446</td>\n",
       "      <td>0.723161</td>\n",
       "      <td>0.411162</td>\n",
       "      <td>0.621681</td>\n",
       "      <td>0.321146</td>\n",
       "      <td>...</td>\n",
       "      <td>0.477952</td>\n",
       "      <td>0.622254</td>\n",
       "      <td>0.516278</td>\n",
       "      <td>0.391074</td>\n",
       "      <td>0.752595</td>\n",
       "      <td>0.484137</td>\n",
       "      <td>0.683508</td>\n",
       "      <td>0.389115</td>\n",
       "      <td>0.413169</td>\n",
       "      <td>0.562775</td>\n",
       "      <td>0.538180</td>\n",
       "      <td>0.524258</td>\n",
       "    </tr>\n",
       "    <tr>\n",
       "      <th>604</th>\n",
       "      <td>0.587407</td>\n",
       "      <td>0.535608</td>\n",
       "      <td>0.249427</td>\n",
       "      <td>0.171417</td>\n",
       "      <td>0.752874</td>\n",
       "      <td>0.513878</td>\n",
       "      <td>0.655342</td>\n",
       "      <td>0.464181</td>\n",
       "      <td>0.324602</td>\n",
       "      <td>0.559483</td>\n",
       "      <td>0.674740</td>\n",
       "      <td>0.341671</td>\n",
       "      <td>...</td>\n",
       "      <td>0.435211</td>\n",
       "      <td>0.519185</td>\n",
       "      <td>0.635019</td>\n",
       "      <td>0.317177</td>\n",
       "      <td>0.700050</td>\n",
       "      <td>0.336964</td>\n",
       "      <td>0.454571</td>\n",
       "      <td>0.406687</td>\n",
       "      <td>0.339430</td>\n",
       "      <td>0.452814</td>\n",
       "      <td>0.388218</td>\n",
       "      <td>0.380795</td>\n",
       "    </tr>\n",
       "    <tr>\n",
       "      <th>341</th>\n",
       "      <td>0.446787</td>\n",
       "      <td>0.630576</td>\n",
       "      <td>0.554963</td>\n",
       "      <td>0.413946</td>\n",
       "      <td>0.662329</td>\n",
       "      <td>0.665892</td>\n",
       "      <td>0.145850</td>\n",
       "      <td>0.648430</td>\n",
       "      <td>0.478307</td>\n",
       "      <td>0.551411</td>\n",
       "      <td>0.289416</td>\n",
       "      <td>0.329466</td>\n",
       "      <td>...</td>\n",
       "      <td>0.410134</td>\n",
       "      <td>0.253019</td>\n",
       "      <td>0.439609</td>\n",
       "      <td>0.233910</td>\n",
       "      <td>0.235984</td>\n",
       "      <td>0.343672</td>\n",
       "      <td>0.733797</td>\n",
       "      <td>0.369846</td>\n",
       "      <td>0.323172</td>\n",
       "      <td>0.500478</td>\n",
       "      <td>0.457391</td>\n",
       "      <td>0.556345</td>\n",
       "    </tr>\n",
       "    <tr>\n",
       "      <th>117</th>\n",
       "      <td>0.568391</td>\n",
       "      <td>0.666018</td>\n",
       "      <td>0.735454</td>\n",
       "      <td>0.564376</td>\n",
       "      <td>0.662796</td>\n",
       "      <td>0.302675</td>\n",
       "      <td>0.513584</td>\n",
       "      <td>0.359108</td>\n",
       "      <td>0.706408</td>\n",
       "      <td>0.272227</td>\n",
       "      <td>0.395238</td>\n",
       "      <td>0.394697</td>\n",
       "      <td>...</td>\n",
       "      <td>0.474741</td>\n",
       "      <td>0.450396</td>\n",
       "      <td>0.574234</td>\n",
       "      <td>0.449615</td>\n",
       "      <td>0.426995</td>\n",
       "      <td>0.390941</td>\n",
       "      <td>0.650875</td>\n",
       "      <td>0.615891</td>\n",
       "      <td>0.251946</td>\n",
       "      <td>0.695112</td>\n",
       "      <td>0.436069</td>\n",
       "      <td>0.458655</td>\n",
       "    </tr>\n",
       "    <tr>\n",
       "      <th>516</th>\n",
       "      <td>0.532581</td>\n",
       "      <td>0.834889</td>\n",
       "      <td>0.357527</td>\n",
       "      <td>0.447480</td>\n",
       "      <td>0.631015</td>\n",
       "      <td>0.198841</td>\n",
       "      <td>0.678084</td>\n",
       "      <td>0.515280</td>\n",
       "      <td>0.487490</td>\n",
       "      <td>0.440010</td>\n",
       "      <td>0.505418</td>\n",
       "      <td>0.301920</td>\n",
       "      <td>...</td>\n",
       "      <td>0.263812</td>\n",
       "      <td>0.532818</td>\n",
       "      <td>0.539831</td>\n",
       "      <td>0.543511</td>\n",
       "      <td>0.528163</td>\n",
       "      <td>0.442338</td>\n",
       "      <td>0.578272</td>\n",
       "      <td>0.404435</td>\n",
       "      <td>0.531047</td>\n",
       "      <td>0.372191</td>\n",
       "      <td>0.751796</td>\n",
       "      <td>0.469227</td>\n",
       "    </tr>\n",
       "  </tbody>\n",
       "</table>\n",
       "<p>5 rows × 7129 columns</p>\n",
       "</div>"
      ],
      "text/plain": [
       "     AFFX-BioB-5_at  AFFX-BioB-M_at  AFFX-BioB-3_at  AFFX-BioC-5_at  \\\n",
       "486        0.574689        0.652904        0.528552        0.202384   \n",
       "604        0.587407        0.535608        0.249427        0.171417   \n",
       "341        0.446787        0.630576        0.554963        0.413946   \n",
       "117        0.568391        0.666018        0.735454        0.564376   \n",
       "516        0.532581        0.834889        0.357527        0.447480   \n",
       "\n",
       "     AFFX-BioC-3_at  AFFX-BioDn-5_at  AFFX-BioDn-3_at  AFFX-CreX-5_at  \\\n",
       "486        0.504132         0.309107         0.439480        0.524446   \n",
       "604        0.752874         0.513878         0.655342        0.464181   \n",
       "341        0.662329         0.665892         0.145850        0.648430   \n",
       "117        0.662796         0.302675         0.513584        0.359108   \n",
       "516        0.631015         0.198841         0.678084        0.515280   \n",
       "\n",
       "     AFFX-CreX-3_at  AFFX-BioB-5_st  AFFX-BioB-M_st  AFFX-BioB-3_st  \\\n",
       "486        0.723161        0.411162        0.621681        0.321146   \n",
       "604        0.324602        0.559483        0.674740        0.341671   \n",
       "341        0.478307        0.551411        0.289416        0.329466   \n",
       "117        0.706408        0.272227        0.395238        0.394697   \n",
       "516        0.487490        0.440010        0.505418        0.301920   \n",
       "\n",
       "        ...       U11863_at  U29175_at  U48730_at  U58516_at  U73738_at  \\\n",
       "486     ...        0.477952   0.622254   0.516278   0.391074   0.752595   \n",
       "604     ...        0.435211   0.519185   0.635019   0.317177   0.700050   \n",
       "341     ...        0.410134   0.253019   0.439609   0.233910   0.235984   \n",
       "117     ...        0.474741   0.450396   0.574234   0.449615   0.426995   \n",
       "516     ...        0.263812   0.532818   0.539831   0.543511   0.528163   \n",
       "\n",
       "     X06956_at  X16699_at  X83863_at  Z17240_at  L49218_f_at  M71243_f_at  \\\n",
       "486   0.484137   0.683508   0.389115   0.413169     0.562775     0.538180   \n",
       "604   0.336964   0.454571   0.406687   0.339430     0.452814     0.388218   \n",
       "341   0.343672   0.733797   0.369846   0.323172     0.500478     0.457391   \n",
       "117   0.390941   0.650875   0.615891   0.251946     0.695112     0.436069   \n",
       "516   0.442338   0.578272   0.404435   0.531047     0.372191     0.751796   \n",
       "\n",
       "     Z78285_f_at  \n",
       "486     0.524258  \n",
       "604     0.380795  \n",
       "341     0.556345  \n",
       "117     0.458655  \n",
       "516     0.469227  \n",
       "\n",
       "[5 rows x 7129 columns]"
      ]
     },
     "execution_count": 5,
     "metadata": {},
     "output_type": "execute_result"
    }
   ],
   "source": [
    "X_train_scaled.head()"
   ]
  },
  {
   "cell_type": "code",
   "execution_count": 6,
   "metadata": {},
   "outputs": [],
   "source": [
    "# Also normalize predictors in the testing data using the scaling parameters learned from training\n",
    "\n",
    "X_test_scaled = pd.DataFrame(scaler.transform(X_test), index = X_test.index, columns=X_test.columns)"
   ]
  },
  {
   "cell_type": "markdown",
   "metadata": {},
   "source": [
    "<div class='alert alert-block' style='border-color:rgb(201, 201, 201); border-style:dashed; border-width: 3px'><div class='alert alert-block alert-primary'><b>Question : </b><span style = 'color:black'>1.2\n",
    "</span></div><div class='alert alert-block alert-info'><b>Comments : </b><span style = 'color:black'>Reshaping the predictor matrix is not necessary here. Please take a look at the HW solution for further reference. No points deducted.</span></div></div>"
   ]
  },
  {
   "cell_type": "markdown",
   "metadata": {},
   "source": [
    "**1.2 Fit an 'unregularized' multiple logistic regression model (set C=100000) with all the gene predictors from the data set (you did this in HW4).  Report the misclassification rate on both the train and test sets.**"
   ]
  },
  {
   "cell_type": "code",
   "execution_count": 7,
   "metadata": {},
   "outputs": [
    {
     "name": "stdout",
     "output_type": "stream",
     "text": [
      "Training sizes: (601, 7129) (601,)\n",
      "Testing sizes: (151, 7129) (151,)\n"
     ]
    }
   ],
   "source": [
    "# Prepare X data for training and testing for logistic regression in sklearn\n",
    "# Form arrays where each row holds domain for each predictor\n",
    "X_train_scaled_multi_reshape = np.array(X_train_scaled).reshape(X_train_scaled.shape[0], X_train_scaled.shape[1])\n",
    "X_test_scaled_multi_reshape = np.array(X_test_scaled).reshape(X_test_scaled.shape[0], X_test_scaled.shape[1])\n",
    "# Check sizes\n",
    "print('Training sizes:', X_train_scaled_multi_reshape.shape, y_train.shape)\n",
    "# Check sizes\n",
    "print('Testing sizes:', X_test_scaled_multi_reshape.shape, y_test.shape)\n"
   ]
  },
  {
   "cell_type": "code",
   "execution_count": 8,
   "metadata": {},
   "outputs": [
    {
     "name": "stdout",
     "output_type": "stream",
     "text": [
      "Multiple logistic regression misclassification rate on training set: 0.0\n",
      "Multiple logistic regression misclassification rate on testing set: 0.23178807947019864\n"
     ]
    }
   ],
   "source": [
    "# Fit multiple logistic regression\n",
    "\n",
    "multi_logreg = LogisticRegression(C=100000, fit_intercept=True, solver='liblinear')\n",
    "# I am using the default solver = liblinear because it is most appropriate for small samples per the sklearn documentation and therefore it may have the most power\n",
    "# I am using the default for max_iter = 100 because it is most efficient and the model converges with it\n",
    "# I am using an intercept because it does not make sense to constrain the intercept to 0 for this model. There can be a baseline risk of AML vs. ALL without any expression of the best predictor gene\n",
    "\n",
    "multi_logreg.fit(X_train_scaled_multi_reshape, y_train)\n",
    "\n",
    "# Predictions on training set\n",
    "multi_logreg_y_hat_train = multi_logreg.predict(X_train_scaled_multi_reshape)\n",
    "\n",
    "# Predictions on testing set\n",
    "multi_logreg_y_hat_test = multi_logreg.predict(X_test_scaled_multi_reshape)\n",
    "\n",
    "# Evaluate accuracy on training set\n",
    "print('Multiple logistic regression misclassification rate on training set:', 1-accuracy_score(y_train, multi_logreg_y_hat_train))\n",
    "\n",
    "# Evaluate accuracy on testing set\n",
    "print('Multiple logistic regression misclassification rate on testing set:', 1-accuracy_score(y_test, multi_logreg_y_hat_test))"
   ]
  },
  {
   "cell_type": "markdown",
   "metadata": {},
   "source": [
    "**1.3 Use regularization to improve the predictions from the multiple logistic regression model. Specifically, use LASSO-like regularization and cross-validation to train the model on the training set (you did this in HW4).  eport the misclassification rate on both the train and test sets.**"
   ]
  },
  {
   "cell_type": "code",
   "execution_count": 9,
   "metadata": {},
   "outputs": [],
   "source": [
    "# Multiple logistic regression with LASSO regularization (L1 norm)\n",
    "\n",
    "Cs = 10.0**np.arange(-5,5)\n",
    "\n",
    "logregCV_q4 = LogisticRegressionCV(Cs = Cs,cv=5,solver='liblinear',penalty='l1')\n",
    "# Use liblinear solver because it is best for small samples and so has high power and leave max_iter at the default of 100 because model converges with it and is more efficient than using higher numbers for max_iter\n",
    "# Use a range of Cs as shown in the lab and use cv = 5 to perform 5-fold cross validation as modeled in the lab\n",
    "model_logregCV_q4 = logregCV_q4.fit(X_train_scaled_multi_reshape, y_train)"
   ]
  },
  {
   "cell_type": "code",
   "execution_count": 10,
   "metadata": {},
   "outputs": [
    {
     "name": "stdout",
     "output_type": "stream",
     "text": [
      "Multiple logistic regression misclassification rate on training set after regularization: 0.04658901830282858\n",
      "Multiple logistic regression misclassification rate on testing set after regularization: 0.1589403973509934\n"
     ]
    }
   ],
   "source": [
    "# Predictions on training set\n",
    "logregCV_q4_y_hat_train = logregCV_q4.predict(X_train_scaled_multi_reshape)\n",
    "\n",
    "# Predictions on testing set\n",
    "logregCV_q4_y_hat_test = logregCV_q4.predict(X_test_scaled_multi_reshape)\n",
    "\n",
    "# Evaluate accuracy on training set\n",
    "print('Multiple logistic regression misclassification rate on training set after regularization:', 1-accuracy_score(y_train, logregCV_q4_y_hat_train))\n",
    "\n",
    "# Evaluate accuracy on testing set\n",
    "print('Multiple logistic regression misclassification rate on testing set after regularization:', 1-accuracy_score(y_test, logregCV_q4_y_hat_test))"
   ]
  },
  {
   "cell_type": "markdown",
   "metadata": {},
   "source": [
    "<div class='alert alert-block' style='border-color:rgb(201, 201, 201); border-style:dashed; border-width: 3px'><div class='alert alert-block alert-primary'><b>Question : </b><span style = 'color:black'>1.4\n",
    "</span></div><div class='alert alert-block alert-info'><b>Comments : </b><span style = 'color:black'>Great job on this question. Your presentation of the results is very clear.\n",
    "</span></div></div>"
   ]
  },
  {
   "cell_type": "markdown",
   "metadata": {},
   "source": [
    "**1.4 Use 5-fold cross-validation to select $k$ for a $k$-NN classification model based on the full predictor set.  Choose between `ks = [1,2,3,4,5,7,9,10,15,25]`.  Report your chosen $k$, and report the misclassification rate on both the train and test sets for the model using your chosen $k$.**"
   ]
  },
  {
   "cell_type": "code",
   "execution_count": 11,
   "metadata": {},
   "outputs": [
    {
     "name": "stdout",
     "output_type": "stream",
     "text": [
      "K = 1\n",
      "[0.85950413 0.78512397 0.79338843 0.81512605 0.82352941]\n",
      "Mean = 0.8153343982220986\n",
      "\n",
      "K = 2\n",
      "[0.84297521 0.80165289 0.7768595  0.77310924 0.81512605]\n",
      "Mean = 0.8019445794846864\n",
      "\n",
      "K = 3\n",
      "[0.88429752 0.85123967 0.83471074 0.86554622 0.8907563 ]\n",
      "Mean = 0.8653100909785403\n",
      "\n",
      "K = 4\n",
      "[0.85950413 0.80991736 0.80165289 0.80672269 0.89915966]\n",
      "Mean = 0.8353913466212932\n",
      "\n",
      "K = 5\n",
      "[0.87603306 0.85123967 0.84297521 0.81512605 0.89915966]\n",
      "Mean = 0.8569067296340025\n",
      "\n",
      "K = 7\n",
      "[0.90909091 0.85123967 0.87603306 0.84033613 0.89915966]\n",
      "Mean = 0.8751718869365929\n",
      "\n",
      "K = 9\n",
      "[0.90082645 0.85123967 0.89256198 0.83193277 0.88235294]\n",
      "Mean = 0.8717827626918536\n",
      "\n",
      "K = 10\n",
      "[0.85950413 0.79338843 0.88429752 0.83193277 0.87394958]\n",
      "Mean = 0.848614487117161\n",
      "\n",
      "K = 15\n",
      "[0.88429752 0.76033058 0.87603306 0.79831933 0.84033613]\n",
      "Mean = 0.8318633238419334\n",
      "\n",
      "K = 25\n",
      "[0.76859504 0.66942149 0.78512397 0.71428571 0.78991597]\n",
      "Mean = 0.7454684353080075\n",
      "\n"
     ]
    }
   ],
   "source": [
    "ks = [1,2,3,4,5,7,9,10,15,25]\n",
    "for k in ks:\n",
    "    knn = KNeighborsClassifier(k)\n",
    "    cv_scores = cross_val_score(knn, X_train_scaled_multi_reshape, y_train, cv=5)\n",
    "    print(\"K = \"+ str(k))\n",
    "    print(cv_scores)\n",
    "    print(\"Mean = \" + str(np.mean(cv_scores))+\"\\n\")\n"
   ]
  },
  {
   "cell_type": "markdown",
   "metadata": {},
   "source": [
    "We choose $k=7$ because it has the highest mean score across the five folds."
   ]
  },
  {
   "cell_type": "code",
   "execution_count": 12,
   "metadata": {},
   "outputs": [
    {
     "name": "stdout",
     "output_type": "stream",
     "text": [
      "Misclassification rate on Train set: 0.09816971713810319\n",
      "Misclassification rate on Test set: 0.13907284768211925\n"
     ]
    }
   ],
   "source": [
    "knn = KNeighborsClassifier(7)\n",
    "knn.fit(X_train_scaled_multi_reshape, y_train)\n",
    "\n",
    "print(\"Misclassification rate on Train set: \" + str(1-knn.score(X_train_scaled_multi_reshape, y_train)))\n",
    "print(\"Misclassification rate on Test set: \" + str(1-knn.score(X_test_scaled_multi_reshape, y_test)))"
   ]
  },
  {
   "cell_type": "markdown",
   "metadata": {},
   "source": [
    "**1.5 Provide the confusion matrix for all 3 models above and report the false positive and false negative rates (all in the test set).  Briefly interpret what you notice.**"
   ]
  },
  {
   "cell_type": "markdown",
   "metadata": {},
   "source": [
    "Confusion matrix for multiple regression with no regularization"
   ]
  },
  {
   "cell_type": "code",
   "execution_count": 13,
   "metadata": {},
   "outputs": [
    {
     "data": {
      "text/html": [
       "<div>\n",
       "<style scoped>\n",
       "    .dataframe tbody tr th:only-of-type {\n",
       "        vertical-align: middle;\n",
       "    }\n",
       "\n",
       "    .dataframe tbody tr th {\n",
       "        vertical-align: top;\n",
       "    }\n",
       "\n",
       "    .dataframe thead th {\n",
       "        text-align: right;\n",
       "    }\n",
       "</style>\n",
       "<table border=\"1\" class=\"dataframe\">\n",
       "  <thead>\n",
       "    <tr style=\"text-align: right;\">\n",
       "      <th>Predicted</th>\n",
       "      <th>0.0</th>\n",
       "      <th>1.0</th>\n",
       "    </tr>\n",
       "    <tr>\n",
       "      <th>Actual</th>\n",
       "      <th></th>\n",
       "      <th></th>\n",
       "    </tr>\n",
       "  </thead>\n",
       "  <tbody>\n",
       "    <tr>\n",
       "      <th>0.0</th>\n",
       "      <td>65</td>\n",
       "      <td>12</td>\n",
       "    </tr>\n",
       "    <tr>\n",
       "      <th>1.0</th>\n",
       "      <td>23</td>\n",
       "      <td>51</td>\n",
       "    </tr>\n",
       "  </tbody>\n",
       "</table>\n",
       "</div>"
      ],
      "text/plain": [
       "Predicted  0.0  1.0\n",
       "Actual             \n",
       "0.0         65   12\n",
       "1.0         23   51"
      ]
     },
     "execution_count": 13,
     "metadata": {},
     "output_type": "execute_result"
    }
   ],
   "source": [
    "y_test_multi_logreg = multi_logreg.predict(X_test_scaled_multi_reshape)\n",
    "conf_mat_multi_logreg = pd.crosstab(y_test, y_test_multi_logreg, colnames=['Predicted'],rownames = ['Actual'])\n",
    "conf_mat_multi_logreg"
   ]
  },
  {
   "cell_type": "code",
   "execution_count": 14,
   "metadata": {},
   "outputs": [
    {
     "name": "stdout",
     "output_type": "stream",
     "text": [
      "The false positive rate is 0.15584415584415584\n",
      "The false negative rate is 0.3108108108108108\n"
     ]
    }
   ],
   "source": [
    "print(\"The false positive rate is \"+str(conf_mat_multi_logreg[1][0]/(conf_mat_multi_logreg[1][0] + conf_mat_multi_logreg[0][0])))\n",
    "print(\"The false negative rate is \"+str(conf_mat_multi_logreg[0][1]/(conf_mat_multi_logreg[0][1] + conf_mat_multi_logreg[1][1])))\n"
   ]
  },
  {
   "cell_type": "markdown",
   "metadata": {},
   "source": [
    "Confusion matrix for multiple regression with regularization"
   ]
  },
  {
   "cell_type": "code",
   "execution_count": 15,
   "metadata": {},
   "outputs": [
    {
     "data": {
      "text/html": [
       "<div>\n",
       "<style scoped>\n",
       "    .dataframe tbody tr th:only-of-type {\n",
       "        vertical-align: middle;\n",
       "    }\n",
       "\n",
       "    .dataframe tbody tr th {\n",
       "        vertical-align: top;\n",
       "    }\n",
       "\n",
       "    .dataframe thead th {\n",
       "        text-align: right;\n",
       "    }\n",
       "</style>\n",
       "<table border=\"1\" class=\"dataframe\">\n",
       "  <thead>\n",
       "    <tr style=\"text-align: right;\">\n",
       "      <th>Predicted</th>\n",
       "      <th>0.0</th>\n",
       "      <th>1.0</th>\n",
       "    </tr>\n",
       "    <tr>\n",
       "      <th>Actual</th>\n",
       "      <th></th>\n",
       "      <th></th>\n",
       "    </tr>\n",
       "  </thead>\n",
       "  <tbody>\n",
       "    <tr>\n",
       "      <th>0.0</th>\n",
       "      <td>67</td>\n",
       "      <td>10</td>\n",
       "    </tr>\n",
       "    <tr>\n",
       "      <th>1.0</th>\n",
       "      <td>14</td>\n",
       "      <td>60</td>\n",
       "    </tr>\n",
       "  </tbody>\n",
       "</table>\n",
       "</div>"
      ],
      "text/plain": [
       "Predicted  0.0  1.0\n",
       "Actual             \n",
       "0.0         67   10\n",
       "1.0         14   60"
      ]
     },
     "execution_count": 15,
     "metadata": {},
     "output_type": "execute_result"
    }
   ],
   "source": [
    "y_test_logreg_CV = logregCV_q4.predict(X_test_scaled_multi_reshape)\n",
    "conf_mat_logreg_CV = pd.crosstab(y_test, y_test_logreg_CV, colnames=['Predicted'],rownames = ['Actual'])\n",
    "conf_mat_logreg_CV"
   ]
  },
  {
   "cell_type": "code",
   "execution_count": 16,
   "metadata": {},
   "outputs": [
    {
     "name": "stdout",
     "output_type": "stream",
     "text": [
      "The false positive rate is 0.12987012987012986\n",
      "The false negative rate is 0.1891891891891892\n"
     ]
    }
   ],
   "source": [
    "print(\"The false positive rate is \"+str(conf_mat_logreg_CV[1][0]/(conf_mat_logreg_CV[1][0] + conf_mat_logreg_CV[0][0])))\n",
    "print(\"The false negative rate is \"+str(conf_mat_logreg_CV[0][1]/(conf_mat_logreg_CV[0][1] + conf_mat_logreg_CV[1][1])))\n"
   ]
  },
  {
   "cell_type": "markdown",
   "metadata": {},
   "source": [
    "Confusion matrix for KNN model"
   ]
  },
  {
   "cell_type": "code",
   "execution_count": 17,
   "metadata": {},
   "outputs": [
    {
     "data": {
      "text/html": [
       "<div>\n",
       "<style scoped>\n",
       "    .dataframe tbody tr th:only-of-type {\n",
       "        vertical-align: middle;\n",
       "    }\n",
       "\n",
       "    .dataframe tbody tr th {\n",
       "        vertical-align: top;\n",
       "    }\n",
       "\n",
       "    .dataframe thead th {\n",
       "        text-align: right;\n",
       "    }\n",
       "</style>\n",
       "<table border=\"1\" class=\"dataframe\">\n",
       "  <thead>\n",
       "    <tr style=\"text-align: right;\">\n",
       "      <th>Predicted</th>\n",
       "      <th>0.0</th>\n",
       "      <th>1.0</th>\n",
       "    </tr>\n",
       "    <tr>\n",
       "      <th>Actual</th>\n",
       "      <th></th>\n",
       "      <th></th>\n",
       "    </tr>\n",
       "  </thead>\n",
       "  <tbody>\n",
       "    <tr>\n",
       "      <th>0.0</th>\n",
       "      <td>67</td>\n",
       "      <td>10</td>\n",
       "    </tr>\n",
       "    <tr>\n",
       "      <th>1.0</th>\n",
       "      <td>11</td>\n",
       "      <td>63</td>\n",
       "    </tr>\n",
       "  </tbody>\n",
       "</table>\n",
       "</div>"
      ],
      "text/plain": [
       "Predicted  0.0  1.0\n",
       "Actual             \n",
       "0.0         67   10\n",
       "1.0         11   63"
      ]
     },
     "execution_count": 17,
     "metadata": {},
     "output_type": "execute_result"
    }
   ],
   "source": [
    "y_test_knn = knn.predict(X_test_scaled_multi_reshape)\n",
    "conf_mat_knn = pd.crosstab(y_test, y_test_knn, colnames=['Predicted'],rownames = ['Actual'])\n",
    "conf_mat_knn"
   ]
  },
  {
   "cell_type": "code",
   "execution_count": 18,
   "metadata": {},
   "outputs": [
    {
     "name": "stdout",
     "output_type": "stream",
     "text": [
      "The false positive rate is 0.12987012987012986\n",
      "The false negative rate is 0.14864864864864866\n"
     ]
    }
   ],
   "source": [
    "print(\"The false positive rate is \"+str(conf_mat_knn[1][0]/(conf_mat_knn[1][0] + conf_mat_knn[0][0])))\n",
    "print(\"The false negative rate is \"+str(conf_mat_knn[0][1]/(conf_mat_knn[0][1] + conf_mat_knn[1][1])))\n"
   ]
  },
  {
   "cell_type": "markdown",
   "metadata": {},
   "source": [
    "Logistic regression with no regularization has a relatively high false positive and false negative rate compared to the regularized logistic regression and K-NN models. The lowest false positive and false negative rates are observed in the K-NN Model.  \n",
    "\n",
    "We also seem to be predicting more false negatives than false positives. "
   ]
  },
  {
   "cell_type": "markdown",
   "metadata": {},
   "source": [
    "<div class='exercise'><b> Question 2 [20 pts]: Performing Principal Components Analysis </b></div>"
   ]
  },
  {
   "cell_type": "markdown",
   "metadata": {},
   "source": [
    "**2.1** Create the full PCA decomposition of `X_train` and apply the transformation to both `X_train` and `X_test`.  Report the shape of both of these.  What is the limiting factor for the maximum number of PCA components for this data set? \n",
    "\n",
    "**2.2** PCA is often solely used to help in visualizing high-dimensional problems.  Plot the scatterplot of the second PCA vector of train on the $Y$-axis and the first PCA vector of train on the $X$-axis (be sure to denote the classes via different color/markings).  In 2-3 sentences, explain why using the scatterplot of the top 2 PCA vectors is a useful approach to visualize a high dimensional classification problem.\n",
    "\n",
    "**2.3** Determine and report the variance explained in `X_train` based on the top 2 PCA vectors.  Determine and report how many PCA vectors are needed so that 90\\% of the variability in the predictors is explained, and create a plot to illustrate this result (Hint: look at cumulative explained variability vs. number of PCA components used).\n",
    "\n",
    "**2.4** Plot explained variability in the predictors on the $Y$-axis and the PCA component number on the $X$-axis. Select a reasonable value for the number of components that balances representativeness (of the predictors) with parsimony and justify your choice with 1-3 sentences."
   ]
  },
  {
   "cell_type": "markdown",
   "metadata": {},
   "source": [
    "<hr>\n",
    "\n",
    "### Solutions"
   ]
  },
  {
   "cell_type": "markdown",
   "metadata": {},
   "source": [
    "<div class='alert alert-block' style='border-color:rgb(201, 201, 201); border-style:dashed; border-width: 3px'><div class='alert alert-block alert-primary'><b>Question : </b><span style = 'color:black'>2\n",
    "</span></div><div class='alert alert-block alert-info'><b>Comments : </b><span style = 'color:black'>Good job on this question! Your answers are complete. </span></div></div>"
   ]
  },
  {
   "cell_type": "markdown",
   "metadata": {},
   "source": [
    "**2.1 Create the full PCA decomposition of X_train and apply the transformation to both X_train and X_test. Report the shape of both of these. What is the limiting factor for the maximum number of PCA components for this data set?**"
   ]
  },
  {
   "cell_type": "code",
   "execution_count": 19,
   "metadata": {},
   "outputs": [],
   "source": [
    "scale_transformer = StandardScaler(copy=True).fit(X_train)\n",
    "X_train_standard = scale_transformer.transform(X_train)\n",
    "X_test_standard = scale_transformer.transform(X_test)"
   ]
  },
  {
   "cell_type": "code",
   "execution_count": 20,
   "metadata": {},
   "outputs": [],
   "source": [
    "# Do PCA onto our training set and inspect\n",
    "pca = PCA().fit(X_train_standard)"
   ]
  },
  {
   "cell_type": "code",
   "execution_count": 21,
   "metadata": {},
   "outputs": [
    {
     "name": "stdout",
     "output_type": "stream",
     "text": [
      "(601, 601) (151, 601)\n"
     ]
    }
   ],
   "source": [
    "X_train_scaled_multi_reshape_pca = pca.transform(X_train_standard)\n",
    "X_test_scaled_multi_reshape_pca = pca.transform(X_test_standard)\n",
    "\n",
    "print(X_train_scaled_multi_reshape_pca.shape, X_test_scaled_multi_reshape_pca.shape)"
   ]
  },
  {
   "cell_type": "markdown",
   "metadata": {},
   "source": [
    "The number of observations is the limiting factor for the maximum number of PCA components for this data set. When *n* (the number of observations) is smaller than *p* (the number of predictors), there can only be $n=601$ PCA components. If *p* (the number of predictors) were smaller than *n* (the number of observations), then there would only be *p* PCA components."
   ]
  },
  {
   "cell_type": "markdown",
   "metadata": {},
   "source": [
    "**2.2 PCA is often solely used to help in visualizing high-dimensional problems. Plot the scatterplot of the second PCA vector on the  𝑌 -axis and the first PCA vector on the  𝑋 -axis (be sure to denote the classes via different color/markings). In 2-3 sentences, explain why using the scatterplot of the top 2 PCA vectors is a useful approach to visualize a high dimensional classification problem.**"
   ]
  },
  {
   "cell_type": "code",
   "execution_count": 22,
   "metadata": {},
   "outputs": [],
   "source": [
    "X_train_scaled_multi_reshape_pca_df = pd.DataFrame(X_train_scaled_multi_reshape_pca,index=X_train_scaled.index)\n",
    "X_test_scaled_multi_reshape_pca_df = pd.DataFrame(X_test_scaled_multi_reshape_pca,index=X_test_scaled.index)\n",
    "\n"
   ]
  },
  {
   "cell_type": "code",
   "execution_count": 23,
   "metadata": {},
   "outputs": [
    {
     "data": {
      "text/html": [
       "<div>\n",
       "<style scoped>\n",
       "    .dataframe tbody tr th:only-of-type {\n",
       "        vertical-align: middle;\n",
       "    }\n",
       "\n",
       "    .dataframe tbody tr th {\n",
       "        vertical-align: top;\n",
       "    }\n",
       "\n",
       "    .dataframe thead th {\n",
       "        text-align: right;\n",
       "    }\n",
       "</style>\n",
       "<table border=\"1\" class=\"dataframe\">\n",
       "  <thead>\n",
       "    <tr style=\"text-align: right;\">\n",
       "      <th></th>\n",
       "      <th>0</th>\n",
       "      <th>1</th>\n",
       "      <th>2</th>\n",
       "      <th>3</th>\n",
       "      <th>4</th>\n",
       "      <th>5</th>\n",
       "      <th>6</th>\n",
       "      <th>7</th>\n",
       "      <th>8</th>\n",
       "      <th>9</th>\n",
       "      <th>10</th>\n",
       "      <th>11</th>\n",
       "      <th>...</th>\n",
       "      <th>589</th>\n",
       "      <th>590</th>\n",
       "      <th>591</th>\n",
       "      <th>592</th>\n",
       "      <th>593</th>\n",
       "      <th>594</th>\n",
       "      <th>595</th>\n",
       "      <th>596</th>\n",
       "      <th>597</th>\n",
       "      <th>598</th>\n",
       "      <th>599</th>\n",
       "      <th>600</th>\n",
       "    </tr>\n",
       "  </thead>\n",
       "  <tbody>\n",
       "    <tr>\n",
       "      <th>486</th>\n",
       "      <td>-3.973727</td>\n",
       "      <td>-2.520476</td>\n",
       "      <td>-1.584401</td>\n",
       "      <td>-7.397669</td>\n",
       "      <td>4.106581</td>\n",
       "      <td>-8.263760</td>\n",
       "      <td>0.138579</td>\n",
       "      <td>-4.208365</td>\n",
       "      <td>3.224849</td>\n",
       "      <td>-5.676229</td>\n",
       "      <td>-8.284275</td>\n",
       "      <td>5.199464</td>\n",
       "      <td>...</td>\n",
       "      <td>0.061025</td>\n",
       "      <td>-0.000727</td>\n",
       "      <td>-0.009959</td>\n",
       "      <td>0.216516</td>\n",
       "      <td>-0.146119</td>\n",
       "      <td>-0.485981</td>\n",
       "      <td>-0.069842</td>\n",
       "      <td>-0.225346</td>\n",
       "      <td>0.327729</td>\n",
       "      <td>-0.182406</td>\n",
       "      <td>-2.324529e-16</td>\n",
       "      <td>2.463307e-15</td>\n",
       "    </tr>\n",
       "    <tr>\n",
       "      <th>604</th>\n",
       "      <td>-12.846391</td>\n",
       "      <td>-13.730848</td>\n",
       "      <td>-8.353287</td>\n",
       "      <td>-7.503606</td>\n",
       "      <td>4.730312</td>\n",
       "      <td>-7.206742</td>\n",
       "      <td>-18.800741</td>\n",
       "      <td>0.658181</td>\n",
       "      <td>19.239585</td>\n",
       "      <td>2.314926</td>\n",
       "      <td>5.053929</td>\n",
       "      <td>1.329223</td>\n",
       "      <td>...</td>\n",
       "      <td>-0.063860</td>\n",
       "      <td>0.161759</td>\n",
       "      <td>-0.115410</td>\n",
       "      <td>0.080701</td>\n",
       "      <td>-0.052548</td>\n",
       "      <td>-0.134391</td>\n",
       "      <td>-0.165337</td>\n",
       "      <td>-0.035178</td>\n",
       "      <td>0.009703</td>\n",
       "      <td>-0.049174</td>\n",
       "      <td>2.622902e-15</td>\n",
       "      <td>2.083403e-15</td>\n",
       "    </tr>\n",
       "    <tr>\n",
       "      <th>341</th>\n",
       "      <td>-14.528682</td>\n",
       "      <td>-16.687931</td>\n",
       "      <td>-12.488452</td>\n",
       "      <td>-8.473256</td>\n",
       "      <td>9.289613</td>\n",
       "      <td>-16.695280</td>\n",
       "      <td>-40.691887</td>\n",
       "      <td>4.519451</td>\n",
       "      <td>52.668484</td>\n",
       "      <td>8.137095</td>\n",
       "      <td>13.028284</td>\n",
       "      <td>4.158638</td>\n",
       "      <td>...</td>\n",
       "      <td>0.778419</td>\n",
       "      <td>1.256003</td>\n",
       "      <td>-0.072046</td>\n",
       "      <td>0.328627</td>\n",
       "      <td>0.299338</td>\n",
       "      <td>0.135350</td>\n",
       "      <td>-0.515562</td>\n",
       "      <td>0.125305</td>\n",
       "      <td>-0.162198</td>\n",
       "      <td>0.260450</td>\n",
       "      <td>2.498002e-16</td>\n",
       "      <td>2.678413e-15</td>\n",
       "    </tr>\n",
       "    <tr>\n",
       "      <th>117</th>\n",
       "      <td>6.946585</td>\n",
       "      <td>-15.469188</td>\n",
       "      <td>17.762221</td>\n",
       "      <td>3.037856</td>\n",
       "      <td>2.716907</td>\n",
       "      <td>-2.356369</td>\n",
       "      <td>7.516153</td>\n",
       "      <td>3.464662</td>\n",
       "      <td>2.846755</td>\n",
       "      <td>0.171436</td>\n",
       "      <td>-1.222380</td>\n",
       "      <td>-0.855199</td>\n",
       "      <td>...</td>\n",
       "      <td>0.994970</td>\n",
       "      <td>0.118482</td>\n",
       "      <td>0.298483</td>\n",
       "      <td>0.259274</td>\n",
       "      <td>0.306440</td>\n",
       "      <td>0.057135</td>\n",
       "      <td>0.380785</td>\n",
       "      <td>0.329430</td>\n",
       "      <td>-0.315281</td>\n",
       "      <td>-1.727013</td>\n",
       "      <td>-1.652324e-15</td>\n",
       "      <td>7.979728e-16</td>\n",
       "    </tr>\n",
       "    <tr>\n",
       "      <th>516</th>\n",
       "      <td>0.893353</td>\n",
       "      <td>-14.311994</td>\n",
       "      <td>-3.311115</td>\n",
       "      <td>-14.582106</td>\n",
       "      <td>40.602854</td>\n",
       "      <td>35.035874</td>\n",
       "      <td>-0.105944</td>\n",
       "      <td>0.554070</td>\n",
       "      <td>-6.395935</td>\n",
       "      <td>-2.284608</td>\n",
       "      <td>9.723944</td>\n",
       "      <td>1.116638</td>\n",
       "      <td>...</td>\n",
       "      <td>0.214876</td>\n",
       "      <td>-0.173729</td>\n",
       "      <td>-0.000921</td>\n",
       "      <td>0.246888</td>\n",
       "      <td>0.014121</td>\n",
       "      <td>-0.281099</td>\n",
       "      <td>-0.001693</td>\n",
       "      <td>-0.060678</td>\n",
       "      <td>0.111504</td>\n",
       "      <td>0.298918</td>\n",
       "      <td>-9.194034e-16</td>\n",
       "      <td>2.289835e-16</td>\n",
       "    </tr>\n",
       "  </tbody>\n",
       "</table>\n",
       "<p>5 rows × 601 columns</p>\n",
       "</div>"
      ],
      "text/plain": [
       "           0          1          2          3          4          5    \\\n",
       "486  -3.973727  -2.520476  -1.584401  -7.397669   4.106581  -8.263760   \n",
       "604 -12.846391 -13.730848  -8.353287  -7.503606   4.730312  -7.206742   \n",
       "341 -14.528682 -16.687931 -12.488452  -8.473256   9.289613 -16.695280   \n",
       "117   6.946585 -15.469188  17.762221   3.037856   2.716907  -2.356369   \n",
       "516   0.893353 -14.311994  -3.311115 -14.582106  40.602854  35.035874   \n",
       "\n",
       "           6         7          8         9          10        11   \\\n",
       "486   0.138579 -4.208365   3.224849 -5.676229  -8.284275  5.199464   \n",
       "604 -18.800741  0.658181  19.239585  2.314926   5.053929  1.329223   \n",
       "341 -40.691887  4.519451  52.668484  8.137095  13.028284  4.158638   \n",
       "117   7.516153  3.464662   2.846755  0.171436  -1.222380 -0.855199   \n",
       "516  -0.105944  0.554070  -6.395935 -2.284608   9.723944  1.116638   \n",
       "\n",
       "         ...            589       590       591       592       593       594  \\\n",
       "486      ...       0.061025 -0.000727 -0.009959  0.216516 -0.146119 -0.485981   \n",
       "604      ...      -0.063860  0.161759 -0.115410  0.080701 -0.052548 -0.134391   \n",
       "341      ...       0.778419  1.256003 -0.072046  0.328627  0.299338  0.135350   \n",
       "117      ...       0.994970  0.118482  0.298483  0.259274  0.306440  0.057135   \n",
       "516      ...       0.214876 -0.173729 -0.000921  0.246888  0.014121 -0.281099   \n",
       "\n",
       "          595       596       597       598           599           600  \n",
       "486 -0.069842 -0.225346  0.327729 -0.182406 -2.324529e-16  2.463307e-15  \n",
       "604 -0.165337 -0.035178  0.009703 -0.049174  2.622902e-15  2.083403e-15  \n",
       "341 -0.515562  0.125305 -0.162198  0.260450  2.498002e-16  2.678413e-15  \n",
       "117  0.380785  0.329430 -0.315281 -1.727013 -1.652324e-15  7.979728e-16  \n",
       "516 -0.001693 -0.060678  0.111504  0.298918 -9.194034e-16  2.289835e-16  \n",
       "\n",
       "[5 rows x 601 columns]"
      ]
     },
     "execution_count": 23,
     "metadata": {},
     "output_type": "execute_result"
    }
   ],
   "source": [
    "X_train_scaled_multi_reshape_pca_df.head()"
   ]
  },
  {
   "cell_type": "code",
   "execution_count": 24,
   "metadata": {},
   "outputs": [
    {
     "data": {
      "image/png": "[encoded data removed]",
      "text/plain": [
       "<Figure size 1152x576 with 1 Axes>"
      ]
     },
     "metadata": {},
     "output_type": "display_data"
    }
   ],
   "source": [
    "# Plot PCA vectors for PC1 and PC2\n",
    "fig, ax = plt.subplots(figsize=(16,8))\n",
    "for i in range(2):\n",
    "    indices = np.where(y_train == i)[0]\n",
    "    data = X_train_scaled_multi_reshape_pca_df.iloc[indices,:]\n",
    "    ax.plot(data.iloc[:,0], data.iloc[:,1], 'o', label='{}'.format(i), alpha=0.5)\n",
    "ax.set_title('First 2 Principal Components of Gene Expression Data', fontsize=20)\n",
    "ax.set_xlabel('Principal Component 1')\n",
    "ax.set_ylabel('Principal Component 2')\n",
    "ax.legend(['AML', 'ALL']);\n"
   ]
  },
  {
   "cell_type": "markdown",
   "metadata": {},
   "source": [
    "Because the first two PCA vectors account for the greatest proportion of the variance in the data for any two PCA vectors, they are the linear combinations of all predictors that best represent the predictors and will therefore provide the best opportunity for visualizing clusters in y given the predictors. These two PCs capture more information about the data compared to any other two PCs."
   ]
  },
  {
   "cell_type": "markdown",
   "metadata": {},
   "source": [
    "**2.3 Determine and report the variance explained in `X_train` based on the top 2 PCA vectors.  Determine and report how many PCA vectors are needed so that 90\\% of the variability in the predictors is explained, and create a plot to illustrate this result (Hint: look at cumulative explained variability vs. number of PCA components used).**"
   ]
  },
  {
   "cell_type": "code",
   "execution_count": 25,
   "metadata": {},
   "outputs": [
    {
     "name": "stdout",
     "output_type": "stream",
     "text": [
      "The Variance explained by the top 2 PCA vectors is 801.1839845432286\n",
      "The proportion of variance explained by the top 2 PCA vectors is 0.11219678772764455\n"
     ]
    }
   ],
   "source": [
    "print(\"The Variance explained by the top 2 PCA vectors is \"+str(np.sum(pca.explained_variance_[0:2])))\n",
    "print(\"The proportion of variance explained by the top 2 PCA vectors is \"+str(np.sum(pca.explained_variance_ratio_[0:2])))"
   ]
  },
  {
   "cell_type": "markdown",
   "metadata": {},
   "source": [
    "The Variance explained by the top 2 PCA vectors is 801.1839845432286.\n",
    "\n",
    "The proportion of variance explained by the top 2 PCA vectors is 0.11219678772764466.\n"
   ]
  },
  {
   "cell_type": "code",
   "execution_count": 26,
   "metadata": {},
   "outputs": [
    {
     "name": "stdout",
     "output_type": "stream",
     "text": [
      "We need 232 PCA vectors to explain 90% of the variability in the predictors\n"
     ]
    }
   ],
   "source": [
    "ratio = pca.explained_variance_ratio_\n",
    "print(\"We need \"+str(np.argmax(np.cumsum(ratio)>0.9)+1) +\" PCA vectors to explain 90% of the variability in the predictors\")"
   ]
  },
  {
   "cell_type": "markdown",
   "metadata": {},
   "source": [
    "We need 232 PCA vectors to explain 90% of the variability in the predictors."
   ]
  },
  {
   "cell_type": "code",
   "execution_count": 27,
   "metadata": {},
   "outputs": [
    {
     "data": {
      "text/plain": [
       "<matplotlib.lines.Line2D at 0x1c2104b6d8>"
      ]
     },
     "execution_count": 27,
     "metadata": {},
     "output_type": "execute_result"
    },
    {
     "data": {
      "image/png": "[encoded data removed]",
      "text/plain": [
       "<Figure size 432x288 with 1 Axes>"
      ]
     },
     "metadata": {},
     "output_type": "display_data"
    }
   ],
   "source": [
    "ratio = pca.explained_variance_ratio_\n",
    "plt.plot(range(1,len(ratio)+1), np.cumsum(ratio), 'o-')\n",
    "plt.title('Cumulative Sum of Explained Variance Ratio PCA', fontsize=20)\n",
    "plt.ylabel('Cumulative Sum of Explained Variance Ratio');\n",
    "plt.xlabel('Principle Component Number');\n",
    "plt.axhline(0.9, color='gray')"
   ]
  },
  {
   "cell_type": "markdown",
   "metadata": {},
   "source": [
    "**2.4 Plot explained variability in the predictors on the  𝑌 -axis and the PCA component number on the 𝑋 -axis. Select a reasonable value for the number of components that balances representativeness (of the predictors) with parsimony and justify your choice in 1-3 sentences.**"
   ]
  },
  {
   "cell_type": "code",
   "execution_count": 28,
   "metadata": {},
   "outputs": [
    {
     "data": {
      "image/png": "[encoded data removed]",
      "text/plain": [
       "<Figure size 432x288 with 1 Axes>"
      ]
     },
     "metadata": {},
     "output_type": "display_data"
    }
   ],
   "source": [
    "ratio = pca.explained_variance_\n",
    "plt.plot(range(1,len(ratio)+1), ratio, 'o-')\n",
    "plt.title('Explained Variance per PC', fontsize=20)\n",
    "plt.ylabel('Explained Variance');\n",
    "plt.xlabel('Principle Component Number');"
   ]
  },
  {
   "cell_type": "markdown",
   "metadata": {},
   "source": [
    "We select the first 30 components to balance representativeness with parsimony because it is roughly at the elbow point of the plot. Additional PCs after the elbow point do not explain much more of the variance in y since the slope of the plot is not changing much after the elbow point and therefore should not be included. The elbow point represents the point of \"diminishing returns\" for explaining variance."
   ]
  },
  {
   "cell_type": "markdown",
   "metadata": {},
   "source": [
    "<div class='exercise'><b> Question 3 [30 pts]: Principal Components Regression (PCR) </b></div>\n",
    "\n",
    "**3.1** Fit three separate Logistic Regression models using principal components as the predictors: (1) with just the first 2 PCA vectors, (2) with the number of component vectors your chose from 2.4 above, and (3) with the number of components that explain at least 90% of the variability in the predictor set. How do the classification accuracy values on both the training and test sets compare with the models fit in Question 1?\n",
    "\n",
    "**3.2** Use cross-validation to determine the best number of principal components. Try out the 3 values from the previous sub-part and optionally include other values as well. For the best performing model according to cross-validation, interpret what the model says about the relationship between `M31523_at` and `Cancer_type`.\n",
    "\n",
    "**3.3** Another way to evaluate models in a classification setting is through an Area-under-the-ROC-Curve (AUC). Briefly explain what the AUC and the ROC are trying to do and how this approach differs (and may be prefered) from evaluating models based on misclassification rate (as you have done thus far in this problem set).\n",
    "\n",
    "**3.4** Evaluate all 6 predictive models (7 if you optionally found a better number of principal components in 3.2) seen in problems 1 and 3 via Area-under-the-ROC-Curve (AUC) on the test set. For the model with the best AUC, plot the ROC. Decide an appropriate strategy for breaking ties, if there are any. Briefly interpret your plot.\n",
    "\n",
    "**3.5** Based on AUC, is there one clear stand-out winner or are a lot of models similar in prediction?  If you were to predict real cancer patients, how would use these models to predict cancer type?"
   ]
  },
  {
   "cell_type": "markdown",
   "metadata": {},
   "source": [
    "<hr>\n",
    "\n",
    "### Solutions"
   ]
  },
  {
   "cell_type": "markdown",
   "metadata": {},
   "source": [
    "<div class='alert alert-block' style='border-color:rgb(201, 201, 201); border-style:dashed; border-width: 3px'><div class='alert alert-block alert-primary'><b>Question : </b><span style = 'color:black'>3.1\n",
    "</span></div><div class='alert alert-block alert-info'><b>Comments : </b><span style = 'color:black'>It will be good to present classification accuracies of all models in a dataframe. </span></div></div>"
   ]
  },
  {
   "cell_type": "markdown",
   "metadata": {},
   "source": [
    "**3.1 Fit three separate Logistic Regression models using principal components as the predictors: (1) with just the first 2 PCA vectors, (2) with the number of component vectors your chose from 2.4 above, and (3) with the number of components that explain at least 90% of the variability in the predictor set.  How do the classification accuracy values on both the training and test sets compare with the models fit in Question 1?**"
   ]
  },
  {
   "cell_type": "code",
   "execution_count": 29,
   "metadata": {
    "scrolled": true
   },
   "outputs": [
    {
     "name": "stdout",
     "output_type": "stream",
     "text": [
      "Training set accuracy score on 2 Principal Components: 0.7587354409317804\n",
      "Test set accuracy score on 2 Principal Components: 0.5099337748344371\n",
      "\n",
      "Training set accuracy score on 30 Principal Components: 0.8968386023294509\n",
      "Test set accuracy score on 30 Principal Components: 0.6158940397350994\n",
      "\n",
      "Training set accuracy score on 232 Principal Components: 1.0\n",
      "Test set accuracy score on 232 Principal Components: 0.5231788079470199\n",
      "\n"
     ]
    }
   ],
   "source": [
    "np.random.seed(10)\n",
    "n = [2,30,232]\n",
    "for num in n:\n",
    "    pca = PCA(n_components=num).fit(X_train_standard, y_train)\n",
    "    X_train_pca = pca.transform(X_train_standard)\n",
    "    # Unregularized Logistic regression\n",
    "    logreg_model_pca = LogisticRegression(solver='liblinear', C=1000000).fit(X_train_pca, y_train)\n",
    "    y_preds_train_pca = logreg_model_pca.predict(X_train_pca)\n",
    "    \n",
    "    X_test_pca = pca.transform(X_test_scaled_multi_reshape)\n",
    "    y_preds_test_pca = logreg_model_pca.predict(X_test_pca)\n",
    "    \n",
    "    print(\"Training set accuracy score on \"+str(num)+\" Principal Components: \" + str(accuracy_score(y_train,y_preds_train_pca)))\n",
    "    print(\"Test set accuracy score on \"+str(num)+\" Principal Components: \" + str(accuracy_score(y_test,y_preds_test_pca))+\"\\n\")"
   ]
  },
  {
   "cell_type": "markdown",
   "metadata": {},
   "source": [
    "With two Principal Components, the accuracy scores are smaller than those from Logistic regression with all predictors, but there is also less overfitting as there is less of a difference between the training and test set accuracy scores. The accuracy scores are also smaller than the regularized Logistic regression model and K-NN model's scores. \n",
    "\n",
    "With 30 Principal Components, the accuracy on the training set is smaller than those of the multiple logistic regression, regularized logistic regression, and the K-NN models. The accuracy on the test set is better than that of the multiple logistic regression and the regularized logistic regression models, but less than that of the K-NN model. \n",
    "\n",
    "With 232 Principal Components, the accuracy on the training set is equal to that of the multiple logistic regression model and is greater than those of the regularized logistic regression and K-NN models. The accuracy on the test set is less than those of the multiple logistic regression, regularized logistic regression, and K-NN models. \n"
   ]
  },
  {
   "cell_type": "markdown",
   "metadata": {},
   "source": [
    "<div class='alert alert-block' style='border-color:rgb(201, 201, 201); border-style:dashed; border-width: 3px'><div class='alert alert-block alert-primary'><b>Question : </b><span style = 'color:black'>3.2\n",
    "</span></div><div class='alert alert-block alert-info'><b>Comments : </b><span style = 'color:black'>Great presentation and detailed interpretation! Good job.</span></div></div>"
   ]
  },
  {
   "cell_type": "markdown",
   "metadata": {},
   "source": [
    "**3.2 Use cross-validation to determine the best number of principal components. Try out the 3 values from the previous sub-part and optionally include other values as well. For the best performing model according to cross-validation, interpret what the model says about the relationship between `M31523_at` and `Cancer_type`**."
   ]
  },
  {
   "cell_type": "code",
   "execution_count": 30,
   "metadata": {},
   "outputs": [
    {
     "name": "stdout",
     "output_type": "stream",
     "text": [
      "Number of PCs: 2\n",
      "[0.79338843 0.7768595  0.76033058 0.74789916 0.73109244]\n",
      "Mean = 0.76191402180707\n",
      "\n",
      "Number of PCs: 20\n",
      "[0.88429752 0.88429752 0.85950413 0.8487395  0.90756303]\n",
      "Mean = 0.8768803389124246\n",
      "\n",
      "Number of PCs: 21\n",
      "[0.89256198 0.88429752 0.8677686  0.86554622 0.88235294]\n",
      "Mean = 0.8785054517674838\n",
      "\n",
      "Number of PCs: 22\n",
      "[0.90909091 0.89256198 0.87603306 0.85714286 0.8907563 ]\n",
      "Mean = 0.8851170220154178\n",
      "\n",
      "Number of PCs: 23\n",
      "[0.89256198 0.89256198 0.87603306 0.86554622 0.8907563 ]\n",
      "Mean = 0.8834919091603585\n",
      "\n",
      "Number of PCs: 24\n",
      "[0.90082645 0.89256198 0.85950413 0.86554622 0.88235294]\n",
      "Mean = 0.8801583443294673\n",
      "\n",
      "Number of PCs: 25\n",
      "[0.90909091 0.89256198 0.87603306 0.86554622 0.8907563 ]\n",
      "Mean = 0.8867976942843253\n",
      "\n",
      "Number of PCs: 26\n",
      "[0.91735537 0.89256198 0.87603306 0.85714286 0.90756303]\n",
      "Mean = 0.8901312591152163\n",
      "\n",
      "Number of PCs: 27\n",
      "[0.91735537 0.89256198 0.8677686  0.86554622 0.90756303]\n",
      "Mean = 0.8901590388221404\n",
      "\n",
      "Number of PCs: 28\n",
      "[0.90909091 0.89256198 0.8677686  0.8487395  0.89915966]\n",
      "Mean = 0.8834641294534343\n",
      "\n",
      "Number of PCs: 30\n",
      "[0.90909091 0.89256198 0.85950413 0.8487395  0.89915966]\n",
      "Mean = 0.8818112368914509\n",
      "\n",
      "Number of PCs: 232\n",
      "[0.80991736 0.72727273 0.71900826 0.68907563 0.78991597]\n",
      "Mean = 0.7470379887492188\n",
      "\n"
     ]
    }
   ],
   "source": [
    "n = [2,20, 21, 22, 23, 24, 25, 26, 27, 28, 30,232]\n",
    "np.random.seed(10)\n",
    "cv_score_list = []\n",
    "for num in n:\n",
    "    pca = PCA(n_components=num).fit(X_train_standard, y_train)\n",
    "    X_train_pca = pca.transform(X_train_standard)\n",
    "    # Unregularized Logistic regression\n",
    "    logreg_model_pca = LogisticRegression(solver='liblinear', C=1000000).fit(X_train_pca, y_train)\n",
    "    \n",
    "    cv_scores = cross_val_score(logreg_model_pca, X_train_pca, y_train, cv=5)\n",
    "    print(\"Number of PCs: \"+ str(num))\n",
    "    print(cv_scores)\n",
    "    print(\"Mean = \" + str(np.mean(cv_scores))+\"\\n\")\n",
    "    cv_score_list.append(cv_scores)\n"
   ]
  },
  {
   "cell_type": "code",
   "execution_count": 31,
   "metadata": {},
   "outputs": [
    {
     "data": {
      "text/plain": [
       "Text(0,0.5,'Accuracy Score')"
      ]
     },
     "execution_count": 31,
     "metadata": {},
     "output_type": "execute_result"
    },
    {
     "data": {
      "image/png": "[encoded data removed]",
      "text/plain": [
       "<Figure size 432x288 with 1 Axes>"
      ]
     },
     "metadata": {},
     "output_type": "display_data"
    }
   ],
   "source": [
    "cv_df = pd.DataFrame(cv_score_list)\n",
    "cv_df = cv_df.transpose()\n",
    "cv_df.columns=[2,20, 21, 22, 23, 24, 25, 26, 27, 28, 30,232]\n",
    "ax = cv_df.boxplot()\n",
    "ax.set_title('Accuracy Scores in 5-fold CV for various numbers of PCs used in Logistic Regression')\n",
    "ax.set_xlabel(\"Number of PCs\")\n",
    "ax.set_ylabel('Accuracy Score')"
   ]
  },
  {
   "cell_type": "markdown",
   "metadata": {},
   "source": [
    "The best performing model is the model that uses 27 Principal Components. This has a high accuracy score with low variance in the scores. "
   ]
  },
  {
   "cell_type": "code",
   "execution_count": 32,
   "metadata": {},
   "outputs": [
    {
     "name": "stdout",
     "output_type": "stream",
     "text": [
      "Coefficient: -0.013387953454760673\n",
      "Odds change: 0.9867012665923337\n"
     ]
    }
   ],
   "source": [
    "np.random.seed(10)\n",
    "pca = PCA(n_components=27).fit(X_train_standard, y_train)\n",
    "X_train_pca = pca.transform(X_train_standard)\n",
    "logreg_model_pca = LogisticRegression(solver='liblinear', C=1000000).fit(X_train_pca, y_train)\n",
    "coeffs = logreg_model_pca.coef_\n",
    "\n",
    "pc_gene_coeffs = np.array(pd.DataFrame(pca.components_, columns = X_train_scaled.columns)['M31523_at'] )\n",
    "print(\"Coefficient: \"+str(np.sum(pc_gene_coeffs*coeffs)))\n",
    "print(\"Odds change: \"+str(np.exp(np.sum(pc_gene_coeffs*coeffs))))\n"
   ]
  },
  {
   "cell_type": "markdown",
   "metadata": {},
   "source": [
    "We computed the coefficient for the gene M31523_at by computing the dot product of the vector containing the coefficients for the PCs and the vector containing the coefficients for the gene M31523_at in each of the PCs."
   ]
  },
  {
   "cell_type": "markdown",
   "metadata": {},
   "source": [
    "The coefficient for the gene M31523_at in the logistic regression model is $-0.013387953454760673$. \n",
    "\n",
    "For every unit increase in standardized M31523_at gene expression, the change in the predicted odds of having AML versus ALL is $e^{-0.013387953454760673}=0.987$ (where the odds is the probability of having AML versus not having AML). \n",
    "\n",
    "This means that having this gene expressed more highly confers a lesser probabililty of having AML."
   ]
  },
  {
   "cell_type": "markdown",
   "metadata": {},
   "source": [
    "**3.3 Another way to evaluate models in a classification setting is through an Area-under-the-ROC-Curve (AUC). Briefly explain what the AUC and the ROC are trying to do and how this approach differs (and may be prefered) from evaluating models based on misclassification rate (as you have done thus far in this problem set).**"
   ]
  },
  {
   "cell_type": "markdown",
   "metadata": {},
   "source": [
    "ROC curves show the relationship between the true positive and false positive rates for different thresholds for classification and the AUC shows the overall performance of the classifier, with higher AUC indicating better classification. The ROC curve and AUC can be compared for different models (since the units of AUC will be the same across models). Using ROC curves and AUC to evaluate models accounts for the tradeoff between true and false positive rates as classification threshold changes whereas misclassification rate (the sum of the proportion of false positives and negatives) is evaluated for one classification threshold at a time. Therefore, if the goal of the classifier is to maximize true positive rate while minimizing false positive rate, AUC can be used to identify the best classifier. Misclassification rate is more about discriminative performance of model (misclassification rate calculations are less computationally costly) while AUC is more about representative performance over a range of classification thresholds."
   ]
  },
  {
   "cell_type": "markdown",
   "metadata": {},
   "source": [
    "**3.4 Evaluate all 6 predictive models (7 if you optionally found a better number of principal components in 3.2) seen in problems 1 and 3 via Area-under-the-ROC-Curve (AUC) on the test set. For the best model with the best AUC, plot the ROC. Decide an appropriate strategy for breaking ties, if there are any. Briefly interpret your plot.**"
   ]
  },
  {
   "cell_type": "code",
   "execution_count": 33,
   "metadata": {},
   "outputs": [],
   "source": [
    "n = [2,27,30,232]\n",
    "np.random.seed(10)\n",
    "# y_pred_list = [y_test_multi_logreg,y_test_logreg_CV,y_test_knn]\n",
    "\n",
    "knn = KNeighborsClassifier(7)\n",
    "knn.fit(X_train_scaled_multi_reshape, y_train)\n",
    "model_list = [multi_logreg, logregCV_q4, knn]\n",
    "pca_list = []\n",
    "for num in n:\n",
    "    pca = PCA(n_components=num).fit(X_train_standard, y_train)\n",
    "    X_train_pca = pca.transform(X_train_standard)\n",
    "    X_test_pca = pca.transform(X_test_standard)\n",
    "    # Unregularized Logistic regression\n",
    "    logreg_model_pca = LogisticRegression(solver='liblinear', C=1000000).fit(X_train_pca, y_train)\n",
    "    model_list.append(logreg_model_pca)\n",
    "    pca_list.append(pca)\n",
    "    "
   ]
  },
  {
   "cell_type": "code",
   "execution_count": 34,
   "metadata": {},
   "outputs": [],
   "source": [
    "auc_list = []\n",
    "fpr_list = []\n",
    "tpr_list = []\n",
    "for idx,l in enumerate(model_list):\n",
    "    if idx < 3:\n",
    "        fpr, tpr, thresholds = metrics.roc_curve(y_test, l.predict_proba(X_test_scaled_multi_reshape)[:,1])\n",
    "    else:\n",
    "        X_pca_transform = pca_list[idx-3].transform(X_test_standard)\n",
    "        fpr, tpr, thresholds = metrics.roc_curve(y_test, l.predict_proba(np.array(X_pca_transform).reshape(X_pca_transform.shape[0],X_pca_transform.shape[1]))[:,1])\n",
    "    auc_list.append(metrics.auc(fpr,tpr))\n",
    "    fpr_list.append(fpr)\n",
    "    tpr_list.append(tpr)"
   ]
  },
  {
   "cell_type": "code",
   "execution_count": 35,
   "metadata": {},
   "outputs": [
    {
     "data": {
      "text/html": [
       "<div>\n",
       "<style scoped>\n",
       "    .dataframe tbody tr th:only-of-type {\n",
       "        vertical-align: middle;\n",
       "    }\n",
       "\n",
       "    .dataframe tbody tr th {\n",
       "        vertical-align: top;\n",
       "    }\n",
       "\n",
       "    .dataframe thead th {\n",
       "        text-align: right;\n",
       "    }\n",
       "</style>\n",
       "<table border=\"1\" class=\"dataframe\">\n",
       "  <thead>\n",
       "    <tr style=\"text-align: right;\">\n",
       "      <th></th>\n",
       "      <th>AUC</th>\n",
       "    </tr>\n",
       "  </thead>\n",
       "  <tbody>\n",
       "    <tr>\n",
       "      <th>Logistic Regression (unregularized)</th>\n",
       "      <td>0.844156</td>\n",
       "    </tr>\n",
       "    <tr>\n",
       "      <th>Logistic Regression (LASSO regularized)</th>\n",
       "      <td>0.856967</td>\n",
       "    </tr>\n",
       "    <tr>\n",
       "      <th>K=7 K-NN</th>\n",
       "      <td>0.859775</td>\n",
       "    </tr>\n",
       "    <tr>\n",
       "      <th>Logistic Regression with 2 PCs</th>\n",
       "      <td>0.821867</td>\n",
       "    </tr>\n",
       "    <tr>\n",
       "      <th>Logistic Regression with 27 PCs</th>\n",
       "      <td>0.847139</td>\n",
       "    </tr>\n",
       "    <tr>\n",
       "      <th>Logistic Regression with 30 PCs</th>\n",
       "      <td>0.853106</td>\n",
       "    </tr>\n",
       "    <tr>\n",
       "      <th>Logistic Regression with 232 PCs</th>\n",
       "      <td>0.786943</td>\n",
       "    </tr>\n",
       "  </tbody>\n",
       "</table>\n",
       "</div>"
      ],
      "text/plain": [
       "                                              AUC\n",
       "Logistic Regression (unregularized)      0.844156\n",
       "Logistic Regression (LASSO regularized)  0.856967\n",
       "K=7 K-NN                                 0.859775\n",
       "Logistic Regression with 2 PCs           0.821867\n",
       "Logistic Regression with 27 PCs          0.847139\n",
       "Logistic Regression with 30 PCs          0.853106\n",
       "Logistic Regression with 232 PCs         0.786943"
      ]
     },
     "execution_count": 35,
     "metadata": {},
     "output_type": "execute_result"
    }
   ],
   "source": [
    "auc_df = pd.DataFrame(np.array(auc_list).reshape(1,7), columns=['Logistic Regression (unregularized)', \n",
    "                                                       'Logistic Regression (LASSO regularized)', \n",
    "                                                       'K=7 K-NN', 'Logistic Regression with 2 PCs', \n",
    "                                                       'Logistic Regression with 27 PCs', \n",
    "                                                       'Logistic Regression with 30 PCs', \n",
    "                                                       'Logistic Regression with 232 PCs'],index=['AUC'])\n",
    "auc_df = auc_df.transpose()\n",
    "auc_df"
   ]
  },
  {
   "cell_type": "markdown",
   "metadata": {},
   "source": [
    "The model with the best AUC is the K-NN model (AUC=0.860)."
   ]
  },
  {
   "cell_type": "code",
   "execution_count": 36,
   "metadata": {},
   "outputs": [],
   "source": [
    "def make_roc(name, clf, ytest, xtest, ax=None, labe=5, proba=True, skip=0):\n",
    "    initial=False\n",
    "    if not ax:\n",
    "        ax=plt.gca()\n",
    "        initial=True\n",
    "    if proba:#for stuff like logistic regression\n",
    "        fpr, tpr, thresholds=roc_curve(ytest, clf.predict_proba(xtest)[:,1])\n",
    "    else:#for stuff like SVM\n",
    "        fpr, tpr, thresholds=roc_curve(ytest, clf.decision_function(xtest))\n",
    "    roc_auc = auc(fpr, tpr)\n",
    "    if skip:\n",
    "        l=fpr.shape[0]\n",
    "        ax.plot(fpr[0:l:skip], tpr[0:l:skip], '.-', alpha=0.3, label='ROC curve for %s (area = %0.2f)' % (name, roc_auc))\n",
    "    else:\n",
    "        ax.plot(fpr, tpr, '.-', alpha=0.3, label='ROC curve for %s (area = %0.2f)' % (name, roc_auc))\n",
    "    label_kwargs = {}\n",
    "    label_kwargs['bbox'] = dict(\n",
    "        boxstyle='round,pad=0.3', alpha=0.2,\n",
    "    )\n",
    "    if labe!=None:\n",
    "        for k in range(0, fpr.shape[0],labe):\n",
    "            #from https://gist.github.com/podshumok/c1d1c9394335d86255b8\n",
    "            threshold = str(np.round(thresholds[k], 2))\n",
    "            ax.annotate(threshold, (fpr[k], tpr[k]), **label_kwargs)\n",
    "    if initial:\n",
    "        ax.plot([0, 1], [0, 1], 'k--')\n",
    "        ax.set_xlim([0.0, 1.0])\n",
    "        ax.set_ylim([0.0, 1.05])\n",
    "        ax.set_xlabel('False Positive Rate')\n",
    "        ax.set_ylabel('True Positive Rate')\n",
    "        ax.set_title('ROC')\n",
    "    ax.legend(loc=\"lower right\")\n",
    "    return ax\n"
   ]
  },
  {
   "cell_type": "code",
   "execution_count": 37,
   "metadata": {},
   "outputs": [
    {
     "data": {
      "image/png": "[encoded data removed]",
      "text/plain": [
       "<Figure size 432x288 with 1 Axes>"
      ]
     },
     "metadata": {},
     "output_type": "display_data"
    }
   ],
   "source": [
    "knn = KNeighborsClassifier(7)\n",
    "knn.fit(X_train_scaled_multi_reshape, y_train)\n",
    "\n",
    "sns.set_context(\"poster\")\n",
    "make_roc(\"K-NN\", knn, y_test, X_test_scaled_multi_reshape, ax=None, labe=None, proba=True, skip=1);\n"
   ]
  },
  {
   "cell_type": "markdown",
   "metadata": {},
   "source": [
    "<div class='alert alert-block' style='border-color:rgb(201, 201, 201); border-style:dashed; border-width: 3px'><div class='alert alert-block alert-primary'><b>Question : </b><span style = 'color:black'>3.5\n",
    "</span></div><div class='alert alert-block alert-info'><b>Comments : </b><span style = 'color:black'>I like your approach. Some things to consider - Rather than including all the models (Including the unregularized Logistic regression model which tends to overfit due to high dimensionality/over specificity), you can choose the top model or the top n models here. </span></div></div>"
   ]
  },
  {
   "cell_type": "markdown",
   "metadata": {},
   "source": [
    "**3.5 Based on AUC, is there one clear stand-out winner or are a lot of models similar in prediction? If you were to predict real cancer patients, how would use these models to predict cancer type?**"
   ]
  },
  {
   "cell_type": "markdown",
   "metadata": {},
   "source": [
    "All of the models have AUC from approximately 0.79 to 0.86 and multiple models have quite similar AUC values (Logistic Regression (unregularized), Logistic Regression with 2 PCs, and Logistic Regression with 232 PCs all have AUC approximately in the low 0.8s while Logistic Regression (LASSO regularized), K=7 K-NN, Logistic Regression with 27 PCs, and Logistic Regression with 30 PCs have AUC approximately 0.85-0.86). If we were to predict real cancer patients, we would use all of the models to predict the cancer type for each patient and see if there is a consensus prediction across the models. If all of the models predict the same cancer type for the patient, we would trust the models because they are structurally different but confirming each other. If there is no consensus for the cancer type, then we would abstain from making any prediction and advocate for further medical testing to collect more data on the patient before cancer type can be established.\n",
    "\n",
    "If we found that there were not many cases where a consensus was predicted and if we knew that making incorrect prections for one cancer type was clinically more devestating than for the other cancer type, we would consider modifying the models to have different classification thresholds. We would not necessarily use 0.5 as the classification threshold but instead could test 0.3 and 0.7, for example, if misclassification had different clinical consequences for the cancer types. This alternative method (versus abstention if there was not consensus) would help us make safe predictions.\n"
   ]
  },
  {
   "cell_type": "markdown",
   "metadata": {},
   "source": [
    "<div class='exercise'><b> Question 4: COMPAS [30 points] </b></div>\n",
    "\n",
    "This problem is unrelated to the first 3 problems, and steps through analyzing the COMPAS data set `compas.csv`.  The variables are roughly explained in the `compas_datadict.csv` file, and ProPublica's analysis is publically available here: https://github.com/propublica/compas-analysis.\n",
    "\n",
    "**4.1** Split the data into 80% training and 20% test stratified by race. Before splitting you may want to process the categorical predictors first so you don't have to do it separately in tain and test later.\n",
    "\n",
    "**4.2** Do a little EDA: explore what variables are related to race. Report 3 variables that appear to have significant differences between Caucasians and African Americans, and provide visuals and numerical summaries to support these chosen variables.\n",
    "\n",
    "**4.3** With respect to these 3 chosen variables, how could bias in the data or data collection be impacting or causing these differences?  Explain in 3-5 sentences.\n",
    "\n",
    "**4.4**. Build 2 seperate models to predict recidivism (`two_year_recid`) from these data (2 different 'classes' of models: $k$-NN, linear, logistic, etc.) and be sure to include race as a predictor. \n",
    "\n",
    "**4.5**. Refit the models in 4.4 without race as a predictor.  Report the overall misclassifcation rates, and compare the differences in false positive and false negative rates between Caucasians and African Americans in these models on the test set.  How do these compare to the models when race is included as a predictor?\n",
    "\n",
    "**4.6**. Given your exploration and modeling of the data, should a predictive tool be trusted to be unbiased even if it doesn’t explicitly use a variable such as race to predict future crime?  Why or why not?  Why is the bias still occurring or not occurring?  Explain in 3-6 sentences total."
   ]
  },
  {
   "cell_type": "markdown",
   "metadata": {},
   "source": [
    "<hr>\n",
    "\n",
    "### Solutions"
   ]
  },
  {
   "cell_type": "markdown",
   "metadata": {},
   "source": [
    "**4.1 Split the data into 80% training and 20% test stratified by race.  Before splitting you may want to process the categorical predictors first so you don't have to do it separately in tain and test later.**"
   ]
  },
  {
   "cell_type": "code",
   "execution_count": 38,
   "metadata": {},
   "outputs": [
    {
     "data": {
      "text/html": [
       "<div>\n",
       "<style scoped>\n",
       "    .dataframe tbody tr th:only-of-type {\n",
       "        vertical-align: middle;\n",
       "    }\n",
       "\n",
       "    .dataframe tbody tr th {\n",
       "        vertical-align: top;\n",
       "    }\n",
       "\n",
       "    .dataframe thead th {\n",
       "        text-align: right;\n",
       "    }\n",
       "</style>\n",
       "<table border=\"1\" class=\"dataframe\">\n",
       "  <thead>\n",
       "    <tr style=\"text-align: right;\">\n",
       "      <th></th>\n",
       "      <th>age</th>\n",
       "      <th>c_charge_degree</th>\n",
       "      <th>c_charge_desc</th>\n",
       "      <th>race</th>\n",
       "      <th>score_text</th>\n",
       "      <th>sex</th>\n",
       "      <th>priors_count</th>\n",
       "      <th>juv_fel_count</th>\n",
       "      <th>juv_misd_count</th>\n",
       "      <th>juv_other_count</th>\n",
       "      <th>decile_score</th>\n",
       "      <th>two_year_recid</th>\n",
       "      <th>length_of_stay</th>\n",
       "      <th>priors_1</th>\n",
       "      <th>priors_234</th>\n",
       "      <th>priors_5plus</th>\n",
       "      <th>juv_fel_1plus</th>\n",
       "      <th>juv_misd_1plus</th>\n",
       "      <th>juv_other_1plus</th>\n",
       "      <th>charge_any_drug</th>\n",
       "      <th>charge_any_violence_aggression</th>\n",
       "      <th>charge_any_theft</th>\n",
       "      <th>length_of_stay_thresh</th>\n",
       "    </tr>\n",
       "  </thead>\n",
       "  <tbody>\n",
       "    <tr>\n",
       "      <th>0</th>\n",
       "      <td>69</td>\n",
       "      <td>F</td>\n",
       "      <td>Aggravated Assault w/Firearm</td>\n",
       "      <td>Other</td>\n",
       "      <td>Low</td>\n",
       "      <td>Male</td>\n",
       "      <td>0</td>\n",
       "      <td>0</td>\n",
       "      <td>0</td>\n",
       "      <td>0</td>\n",
       "      <td>1</td>\n",
       "      <td>0</td>\n",
       "      <td>1</td>\n",
       "      <td>0</td>\n",
       "      <td>0</td>\n",
       "      <td>0</td>\n",
       "      <td>0</td>\n",
       "      <td>0</td>\n",
       "      <td>0</td>\n",
       "      <td>0</td>\n",
       "      <td>1</td>\n",
       "      <td>0</td>\n",
       "      <td>1</td>\n",
       "    </tr>\n",
       "    <tr>\n",
       "      <th>1</th>\n",
       "      <td>34</td>\n",
       "      <td>F</td>\n",
       "      <td>Felony Battery w/Prior Convict</td>\n",
       "      <td>African-American</td>\n",
       "      <td>Low</td>\n",
       "      <td>Male</td>\n",
       "      <td>0</td>\n",
       "      <td>0</td>\n",
       "      <td>0</td>\n",
       "      <td>0</td>\n",
       "      <td>3</td>\n",
       "      <td>1</td>\n",
       "      <td>10</td>\n",
       "      <td>0</td>\n",
       "      <td>0</td>\n",
       "      <td>0</td>\n",
       "      <td>0</td>\n",
       "      <td>0</td>\n",
       "      <td>0</td>\n",
       "      <td>0</td>\n",
       "      <td>1</td>\n",
       "      <td>0</td>\n",
       "      <td>10</td>\n",
       "    </tr>\n",
       "    <tr>\n",
       "      <th>2</th>\n",
       "      <td>24</td>\n",
       "      <td>F</td>\n",
       "      <td>Possession of Cocaine</td>\n",
       "      <td>African-American</td>\n",
       "      <td>Low</td>\n",
       "      <td>Male</td>\n",
       "      <td>4</td>\n",
       "      <td>0</td>\n",
       "      <td>0</td>\n",
       "      <td>1</td>\n",
       "      <td>4</td>\n",
       "      <td>1</td>\n",
       "      <td>1</td>\n",
       "      <td>0</td>\n",
       "      <td>1</td>\n",
       "      <td>0</td>\n",
       "      <td>0</td>\n",
       "      <td>0</td>\n",
       "      <td>1</td>\n",
       "      <td>1</td>\n",
       "      <td>0</td>\n",
       "      <td>0</td>\n",
       "      <td>1</td>\n",
       "    </tr>\n",
       "    <tr>\n",
       "      <th>3</th>\n",
       "      <td>44</td>\n",
       "      <td>M</td>\n",
       "      <td>Battery</td>\n",
       "      <td>Other</td>\n",
       "      <td>Low</td>\n",
       "      <td>Male</td>\n",
       "      <td>0</td>\n",
       "      <td>0</td>\n",
       "      <td>0</td>\n",
       "      <td>0</td>\n",
       "      <td>1</td>\n",
       "      <td>0</td>\n",
       "      <td>1</td>\n",
       "      <td>0</td>\n",
       "      <td>0</td>\n",
       "      <td>0</td>\n",
       "      <td>0</td>\n",
       "      <td>0</td>\n",
       "      <td>0</td>\n",
       "      <td>0</td>\n",
       "      <td>1</td>\n",
       "      <td>0</td>\n",
       "      <td>1</td>\n",
       "    </tr>\n",
       "    <tr>\n",
       "      <th>4</th>\n",
       "      <td>41</td>\n",
       "      <td>F</td>\n",
       "      <td>Possession Burglary Tools</td>\n",
       "      <td>Caucasian</td>\n",
       "      <td>Medium</td>\n",
       "      <td>Male</td>\n",
       "      <td>14</td>\n",
       "      <td>0</td>\n",
       "      <td>0</td>\n",
       "      <td>0</td>\n",
       "      <td>6</td>\n",
       "      <td>1</td>\n",
       "      <td>6</td>\n",
       "      <td>0</td>\n",
       "      <td>0</td>\n",
       "      <td>1</td>\n",
       "      <td>0</td>\n",
       "      <td>0</td>\n",
       "      <td>0</td>\n",
       "      <td>0</td>\n",
       "      <td>0</td>\n",
       "      <td>1</td>\n",
       "      <td>6</td>\n",
       "    </tr>\n",
       "  </tbody>\n",
       "</table>\n",
       "</div>"
      ],
      "text/plain": [
       "   age c_charge_degree                   c_charge_desc              race  \\\n",
       "0   69               F    Aggravated Assault w/Firearm             Other   \n",
       "1   34               F  Felony Battery w/Prior Convict  African-American   \n",
       "2   24               F           Possession of Cocaine  African-American   \n",
       "3   44               M                         Battery             Other   \n",
       "4   41               F       Possession Burglary Tools         Caucasian   \n",
       "\n",
       "  score_text   sex  priors_count  juv_fel_count  juv_misd_count  \\\n",
       "0        Low  Male             0              0               0   \n",
       "1        Low  Male             0              0               0   \n",
       "2        Low  Male             4              0               0   \n",
       "3        Low  Male             0              0               0   \n",
       "4     Medium  Male            14              0               0   \n",
       "\n",
       "   juv_other_count  decile_score  two_year_recid  length_of_stay  priors_1  \\\n",
       "0                0             1               0               1         0   \n",
       "1                0             3               1              10         0   \n",
       "2                1             4               1               1         0   \n",
       "3                0             1               0               1         0   \n",
       "4                0             6               1               6         0   \n",
       "\n",
       "   priors_234  priors_5plus  juv_fel_1plus  juv_misd_1plus  juv_other_1plus  \\\n",
       "0           0             0              0               0                0   \n",
       "1           0             0              0               0                0   \n",
       "2           1             0              0               0                1   \n",
       "3           0             0              0               0                0   \n",
       "4           0             1              0               0                0   \n",
       "\n",
       "   charge_any_drug  charge_any_violence_aggression  charge_any_theft  \\\n",
       "0                0                               1                 0   \n",
       "1                0                               1                 0   \n",
       "2                1                               0                 0   \n",
       "3                0                               1                 0   \n",
       "4                0                               0                 1   \n",
       "\n",
       "   length_of_stay_thresh  \n",
       "0                      1  \n",
       "1                     10  \n",
       "2                      1  \n",
       "3                      1  \n",
       "4                      6  "
      ]
     },
     "execution_count": 38,
     "metadata": {},
     "output_type": "execute_result"
    }
   ],
   "source": [
    "np.random.seed(10)\n",
    "compas_df = pd.read_csv('data/compas.csv')\n",
    "compas_df.head()"
   ]
  },
  {
   "cell_type": "code",
   "execution_count": 39,
   "metadata": {},
   "outputs": [],
   "source": [
    "# Process dataframe by one-hot encoding categorical variables\n",
    "compas_df_processed = pd.get_dummies(compas_df, columns=['c_charge_degree', 'c_charge_desc', 'race', \n",
    "                                                         'score_text', 'sex'], drop_first=True)\n"
   ]
  },
  {
   "cell_type": "code",
   "execution_count": 40,
   "metadata": {},
   "outputs": [],
   "source": [
    "# Split the dataset into train and test sets\n",
    "X_train_compas, X_test_compas, y_train_compas, y_test_compas = train_test_split(compas_df_processed.loc[:, compas_df_processed.columns != 'two_year_recid'], \n",
    "                                                         compas_df_processed['two_year_recid'], test_size=0.2, \n",
    "                                                         random_state = 109, \n",
    "                                                         stratify = compas_df.race)\n"
   ]
  },
  {
   "cell_type": "markdown",
   "metadata": {},
   "source": [
    "<div class='alert alert-block' style='border-color:rgb(201, 201, 201); border-style:dashed; border-width: 3px'><div class='alert alert-block alert-primary'><b>Question : </b><span style = 'color:black'>4.2\n",
    "</span></div><div class='alert alert-block alert-info'><b>Comments : </b><span style = 'color:black'>You should not find the significant predictors using a statistical method for this question. Please refer to the HW solution\n",
    "</span></div><div class='alert alert-block alert-danger'><b>Grade : </b><span style = 'color:black'>-3</span></div></div>"
   ]
  },
  {
   "cell_type": "markdown",
   "metadata": {},
   "source": [
    "**4.2 Do a little EDA: explore what variables are related to race. Report 3 variables that appear to have significant differences between Caucasians and African Americans, and provide visuals and numerical summaries to support these chosen variables.**"
   ]
  },
  {
   "cell_type": "code",
   "execution_count": 41,
   "metadata": {},
   "outputs": [
    {
     "data": {
      "text/html": [
       "<div>\n",
       "<style scoped>\n",
       "    .dataframe tbody tr th:only-of-type {\n",
       "        vertical-align: middle;\n",
       "    }\n",
       "\n",
       "    .dataframe tbody tr th {\n",
       "        vertical-align: top;\n",
       "    }\n",
       "\n",
       "    .dataframe thead th {\n",
       "        text-align: right;\n",
       "    }\n",
       "</style>\n",
       "<table border=\"1\" class=\"dataframe\">\n",
       "  <thead>\n",
       "    <tr style=\"text-align: right;\">\n",
       "      <th></th>\n",
       "      <th>age</th>\n",
       "      <th>priors_count</th>\n",
       "      <th>juv_fel_count</th>\n",
       "      <th>juv_misd_count</th>\n",
       "      <th>juv_other_count</th>\n",
       "      <th>decile_score</th>\n",
       "      <th>two_year_recid</th>\n",
       "      <th>length_of_stay</th>\n",
       "      <th>priors_1</th>\n",
       "      <th>priors_234</th>\n",
       "      <th>priors_5plus</th>\n",
       "      <th>juv_fel_1plus</th>\n",
       "      <th>juv_misd_1plus</th>\n",
       "      <th>juv_other_1plus</th>\n",
       "      <th>charge_any_drug</th>\n",
       "      <th>charge_any_violence_aggression</th>\n",
       "      <th>charge_any_theft</th>\n",
       "      <th>length_of_stay_thresh</th>\n",
       "    </tr>\n",
       "  </thead>\n",
       "  <tbody>\n",
       "    <tr>\n",
       "      <th>count</th>\n",
       "      <td>6172.000000</td>\n",
       "      <td>6172.000000</td>\n",
       "      <td>6172.000000</td>\n",
       "      <td>6172.000000</td>\n",
       "      <td>6172.000000</td>\n",
       "      <td>6172.000000</td>\n",
       "      <td>6172.000000</td>\n",
       "      <td>6172.000000</td>\n",
       "      <td>6172.000000</td>\n",
       "      <td>6172.000000</td>\n",
       "      <td>6172.000000</td>\n",
       "      <td>6172.000000</td>\n",
       "      <td>6172.000000</td>\n",
       "      <td>6172.000000</td>\n",
       "      <td>6172.000000</td>\n",
       "      <td>6172.000000</td>\n",
       "      <td>6172.000000</td>\n",
       "      <td>6172.000000</td>\n",
       "    </tr>\n",
       "    <tr>\n",
       "      <th>mean</th>\n",
       "      <td>34.534511</td>\n",
       "      <td>3.246436</td>\n",
       "      <td>0.059300</td>\n",
       "      <td>0.091218</td>\n",
       "      <td>0.110661</td>\n",
       "      <td>4.418503</td>\n",
       "      <td>0.455120</td>\n",
       "      <td>15.113091</td>\n",
       "      <td>0.182923</td>\n",
       "      <td>0.237200</td>\n",
       "      <td>0.242061</td>\n",
       "      <td>0.033701</td>\n",
       "      <td>0.057032</td>\n",
       "      <td>0.074692</td>\n",
       "      <td>0.182761</td>\n",
       "      <td>0.301847</td>\n",
       "      <td>0.145820</td>\n",
       "      <td>6.552171</td>\n",
       "    </tr>\n",
       "    <tr>\n",
       "      <th>std</th>\n",
       "      <td>11.730938</td>\n",
       "      <td>4.743770</td>\n",
       "      <td>0.463599</td>\n",
       "      <td>0.497872</td>\n",
       "      <td>0.470731</td>\n",
       "      <td>2.839463</td>\n",
       "      <td>0.498022</td>\n",
       "      <td>46.679771</td>\n",
       "      <td>0.386635</td>\n",
       "      <td>0.425401</td>\n",
       "      <td>0.428366</td>\n",
       "      <td>0.180472</td>\n",
       "      <td>0.231922</td>\n",
       "      <td>0.262915</td>\n",
       "      <td>0.386502</td>\n",
       "      <td>0.459096</td>\n",
       "      <td>0.352954</td>\n",
       "      <td>10.175818</td>\n",
       "    </tr>\n",
       "    <tr>\n",
       "      <th>min</th>\n",
       "      <td>18.000000</td>\n",
       "      <td>0.000000</td>\n",
       "      <td>0.000000</td>\n",
       "      <td>0.000000</td>\n",
       "      <td>0.000000</td>\n",
       "      <td>1.000000</td>\n",
       "      <td>0.000000</td>\n",
       "      <td>0.000000</td>\n",
       "      <td>0.000000</td>\n",
       "      <td>0.000000</td>\n",
       "      <td>0.000000</td>\n",
       "      <td>0.000000</td>\n",
       "      <td>0.000000</td>\n",
       "      <td>0.000000</td>\n",
       "      <td>0.000000</td>\n",
       "      <td>0.000000</td>\n",
       "      <td>0.000000</td>\n",
       "      <td>0.000000</td>\n",
       "    </tr>\n",
       "    <tr>\n",
       "      <th>25%</th>\n",
       "      <td>25.000000</td>\n",
       "      <td>0.000000</td>\n",
       "      <td>0.000000</td>\n",
       "      <td>0.000000</td>\n",
       "      <td>0.000000</td>\n",
       "      <td>2.000000</td>\n",
       "      <td>0.000000</td>\n",
       "      <td>1.000000</td>\n",
       "      <td>0.000000</td>\n",
       "      <td>0.000000</td>\n",
       "      <td>0.000000</td>\n",
       "      <td>0.000000</td>\n",
       "      <td>0.000000</td>\n",
       "      <td>0.000000</td>\n",
       "      <td>0.000000</td>\n",
       "      <td>0.000000</td>\n",
       "      <td>0.000000</td>\n",
       "      <td>1.000000</td>\n",
       "    </tr>\n",
       "    <tr>\n",
       "      <th>50%</th>\n",
       "      <td>31.000000</td>\n",
       "      <td>1.000000</td>\n",
       "      <td>0.000000</td>\n",
       "      <td>0.000000</td>\n",
       "      <td>0.000000</td>\n",
       "      <td>4.000000</td>\n",
       "      <td>0.000000</td>\n",
       "      <td>1.000000</td>\n",
       "      <td>0.000000</td>\n",
       "      <td>0.000000</td>\n",
       "      <td>0.000000</td>\n",
       "      <td>0.000000</td>\n",
       "      <td>0.000000</td>\n",
       "      <td>0.000000</td>\n",
       "      <td>0.000000</td>\n",
       "      <td>0.000000</td>\n",
       "      <td>0.000000</td>\n",
       "      <td>1.000000</td>\n",
       "    </tr>\n",
       "    <tr>\n",
       "      <th>75%</th>\n",
       "      <td>42.000000</td>\n",
       "      <td>4.000000</td>\n",
       "      <td>0.000000</td>\n",
       "      <td>0.000000</td>\n",
       "      <td>0.000000</td>\n",
       "      <td>7.000000</td>\n",
       "      <td>1.000000</td>\n",
       "      <td>6.000000</td>\n",
       "      <td>0.000000</td>\n",
       "      <td>0.000000</td>\n",
       "      <td>0.000000</td>\n",
       "      <td>0.000000</td>\n",
       "      <td>0.000000</td>\n",
       "      <td>0.000000</td>\n",
       "      <td>0.000000</td>\n",
       "      <td>1.000000</td>\n",
       "      <td>0.000000</td>\n",
       "      <td>6.000000</td>\n",
       "    </tr>\n",
       "    <tr>\n",
       "      <th>max</th>\n",
       "      <td>96.000000</td>\n",
       "      <td>38.000000</td>\n",
       "      <td>20.000000</td>\n",
       "      <td>13.000000</td>\n",
       "      <td>9.000000</td>\n",
       "      <td>10.000000</td>\n",
       "      <td>1.000000</td>\n",
       "      <td>800.000000</td>\n",
       "      <td>1.000000</td>\n",
       "      <td>1.000000</td>\n",
       "      <td>1.000000</td>\n",
       "      <td>1.000000</td>\n",
       "      <td>1.000000</td>\n",
       "      <td>1.000000</td>\n",
       "      <td>1.000000</td>\n",
       "      <td>1.000000</td>\n",
       "      <td>1.000000</td>\n",
       "      <td>30.000000</td>\n",
       "    </tr>\n",
       "  </tbody>\n",
       "</table>\n",
       "</div>"
      ],
      "text/plain": [
       "               age  priors_count  juv_fel_count  juv_misd_count  \\\n",
       "count  6172.000000   6172.000000    6172.000000     6172.000000   \n",
       "mean     34.534511      3.246436       0.059300        0.091218   \n",
       "std      11.730938      4.743770       0.463599        0.497872   \n",
       "min      18.000000      0.000000       0.000000        0.000000   \n",
       "25%      25.000000      0.000000       0.000000        0.000000   \n",
       "50%      31.000000      1.000000       0.000000        0.000000   \n",
       "75%      42.000000      4.000000       0.000000        0.000000   \n",
       "max      96.000000     38.000000      20.000000       13.000000   \n",
       "\n",
       "       juv_other_count  decile_score  two_year_recid  length_of_stay  \\\n",
       "count      6172.000000   6172.000000     6172.000000     6172.000000   \n",
       "mean          0.110661      4.418503        0.455120       15.113091   \n",
       "std           0.470731      2.839463        0.498022       46.679771   \n",
       "min           0.000000      1.000000        0.000000        0.000000   \n",
       "25%           0.000000      2.000000        0.000000        1.000000   \n",
       "50%           0.000000      4.000000        0.000000        1.000000   \n",
       "75%           0.000000      7.000000        1.000000        6.000000   \n",
       "max           9.000000     10.000000        1.000000      800.000000   \n",
       "\n",
       "          priors_1   priors_234  priors_5plus  juv_fel_1plus  juv_misd_1plus  \\\n",
       "count  6172.000000  6172.000000   6172.000000    6172.000000     6172.000000   \n",
       "mean      0.182923     0.237200      0.242061       0.033701        0.057032   \n",
       "std       0.386635     0.425401      0.428366       0.180472        0.231922   \n",
       "min       0.000000     0.000000      0.000000       0.000000        0.000000   \n",
       "25%       0.000000     0.000000      0.000000       0.000000        0.000000   \n",
       "50%       0.000000     0.000000      0.000000       0.000000        0.000000   \n",
       "75%       0.000000     0.000000      0.000000       0.000000        0.000000   \n",
       "max       1.000000     1.000000      1.000000       1.000000        1.000000   \n",
       "\n",
       "       juv_other_1plus  charge_any_drug  charge_any_violence_aggression  \\\n",
       "count      6172.000000      6172.000000                     6172.000000   \n",
       "mean          0.074692         0.182761                        0.301847   \n",
       "std           0.262915         0.386502                        0.459096   \n",
       "min           0.000000         0.000000                        0.000000   \n",
       "25%           0.000000         0.000000                        0.000000   \n",
       "50%           0.000000         0.000000                        0.000000   \n",
       "75%           0.000000         0.000000                        1.000000   \n",
       "max           1.000000         1.000000                        1.000000   \n",
       "\n",
       "       charge_any_theft  length_of_stay_thresh  \n",
       "count       6172.000000            6172.000000  \n",
       "mean           0.145820               6.552171  \n",
       "std            0.352954              10.175818  \n",
       "min            0.000000               0.000000  \n",
       "25%            0.000000               1.000000  \n",
       "50%            0.000000               1.000000  \n",
       "75%            0.000000               6.000000  \n",
       "max            1.000000              30.000000  "
      ]
     },
     "metadata": {},
     "output_type": "display_data"
    },
    {
     "name": "stdout",
     "output_type": "stream",
     "text": [
      "Index(['age', 'c_charge_degree', 'c_charge_desc', 'race', 'score_text', 'sex',\n",
      "       'priors_count', 'juv_fel_count', 'juv_misd_count', 'juv_other_count',\n",
      "       'decile_score', 'two_year_recid', 'length_of_stay', 'priors_1',\n",
      "       'priors_234', 'priors_5plus', 'juv_fel_1plus', 'juv_misd_1plus',\n",
      "       'juv_other_1plus', 'charge_any_drug', 'charge_any_violence_aggression',\n",
      "       'charge_any_theft', 'length_of_stay_thresh'],\n",
      "      dtype='object')\n"
     ]
    }
   ],
   "source": [
    "# Inspect the data and variables available to us\n",
    "display(compas_df.describe())\n",
    "print(compas_df.columns)"
   ]
  },
  {
   "cell_type": "code",
   "execution_count": 42,
   "metadata": {},
   "outputs": [
    {
     "data": {
      "text/plain": [
       "African-American    3175\n",
       "Caucasian           2103\n",
       "Hispanic             509\n",
       "Other                343\n",
       "Asian                 31\n",
       "Native American       11\n",
       "Name: race, dtype: int64"
      ]
     },
     "execution_count": 42,
     "metadata": {},
     "output_type": "execute_result"
    }
   ],
   "source": [
    "# First explore the number of observations in each racial category\n",
    "compas_df.race.value_counts()"
   ]
  },
  {
   "cell_type": "code",
   "execution_count": 43,
   "metadata": {},
   "outputs": [],
   "source": [
    "AA_index = (X_train_compas['race_Caucasian'] + \n",
    "             X_train_compas['race_Hispanic'] + \n",
    "             X_train_compas['race_Other'] + \n",
    "             X_train_compas['race_Asian'] + \n",
    "             X_train_compas['race_Native American'])==0\n",
    "\n",
    "AA_index_test = (X_test_compas['race_Caucasian'] + \n",
    "             X_test_compas['race_Hispanic'] + \n",
    "             X_test_compas['race_Other'] + \n",
    "             X_test_compas['race_Asian'] + \n",
    "             X_test_compas['race_Native American'])==0"
   ]
  },
  {
   "cell_type": "code",
   "execution_count": 44,
   "metadata": {},
   "outputs": [],
   "source": [
    "# Split data into train and test, dropping race from the X matrices\n",
    "\n",
    "X_train_compas_drop = X_train_compas.drop(columns=['race_Caucasian','race_Hispanic','race_Other','race_Asian','race_Native American'])\n",
    "\n",
    "X_train_compas_AA = X_train_compas_drop[AA_index]\n",
    "\n",
    "X_test_compas_drop = X_test_compas.drop(columns=['race_Caucasian','race_Hispanic','race_Other','race_Asian','race_Native American'])\n",
    "\n",
    "X_test_compas_AA = X_test_compas_drop[AA_index_test]\n",
    "\n",
    "mean_c = np.mean(X_train_compas_drop[X_train_compas['race_Caucasian']==1])\n",
    "mean_aa = np.mean(X_train_compas_AA)\n",
    "var_c = np.var(X_train_compas_drop[X_train_compas['race_Caucasian']==1])\n",
    "var_aa = np.var(X_train_compas_AA)\n",
    "\n",
    "# Calculating t_statistics\n",
    "t_scores = np.abs(mean_c - mean_aa)/np.sqrt((var_c/len(X_train_compas_drop[X_train_compas['race_Caucasian']==1])+\n",
    "                                             var_aa/len(X_train_compas_AA)))\n",
    "# Sort t_statistics in descending order\n",
    "t_scores = t_scores.sort_values(ascending=False)"
   ]
  },
  {
   "cell_type": "code",
   "execution_count": 45,
   "metadata": {
    "scrolled": true
   },
   "outputs": [
    {
     "data": {
      "text/html": [
       "<div>\n",
       "<style scoped>\n",
       "    .dataframe tbody tr th:only-of-type {\n",
       "        vertical-align: middle;\n",
       "    }\n",
       "\n",
       "    .dataframe tbody tr th {\n",
       "        vertical-align: top;\n",
       "    }\n",
       "\n",
       "    .dataframe thead th {\n",
       "        text-align: right;\n",
       "    }\n",
       "</style>\n",
       "<table border=\"1\" class=\"dataframe\">\n",
       "  <thead>\n",
       "    <tr style=\"text-align: right;\">\n",
       "      <th></th>\n",
       "      <th>t statistic</th>\n",
       "    </tr>\n",
       "  </thead>\n",
       "  <tbody>\n",
       "    <tr>\n",
       "      <th>decile_score</th>\n",
       "      <td>19.155067</td>\n",
       "    </tr>\n",
       "    <tr>\n",
       "      <th>score_text_Low</th>\n",
       "      <td>15.726110</td>\n",
       "    </tr>\n",
       "    <tr>\n",
       "      <th>priors_count</th>\n",
       "      <td>13.653106</td>\n",
       "    </tr>\n",
       "    <tr>\n",
       "      <th>age</th>\n",
       "      <td>13.010745</td>\n",
       "    </tr>\n",
       "    <tr>\n",
       "      <th>priors_5plus</th>\n",
       "      <td>11.979558</td>\n",
       "    </tr>\n",
       "  </tbody>\n",
       "</table>\n",
       "</div>"
      ],
      "text/plain": [
       "                t statistic\n",
       "decile_score      19.155067\n",
       "score_text_Low    15.726110\n",
       "priors_count      13.653106\n",
       "age               13.010745\n",
       "priors_5plus      11.979558"
      ]
     },
     "execution_count": 45,
     "metadata": {},
     "output_type": "execute_result"
    }
   ],
   "source": [
    "# Display t statistic for each variable\n",
    "t_scores_df = pd.DataFrame(t_scores,columns=[\"t statistic\"])\n",
    "t_scores_df.head()"
   ]
  },
  {
   "cell_type": "markdown",
   "metadata": {},
   "source": [
    "The variables decile_score, priors_count, and age appear to have significant differences between Caucasians and African Americans according to these t-test scores (these appear to best individually discriminate between the two races the best) and since the t statistics for each variable (19.2, 13.7, and 13.0, respectively) are larger than the threshold for statistical signifance at the alpha = 0.05 level (95% confidence), we suspect they are signifiantly different between the two racial groups. When choosing the top three variables that best discriminate African Americans from Caucasians, we did not consider the t statistics for categorical variables (such as score_text_Low) because t tests on these variables are not sound (since the categorical variables cannot be considered normally distributed). To explore the categorical variables, we plotted several histograms and observed differences in the skew across racial groups."
   ]
  },
  {
   "cell_type": "code",
   "execution_count": 46,
   "metadata": {},
   "outputs": [
    {
     "name": "stdout",
     "output_type": "stream",
     "text": [
      "Mean of decile score for Caucasians in training set: 3.6664684898929845\n",
      "Variance of decile score for Caucasians in training set: 6.6134891931212785\n",
      "Mean of decile score for African Americans in training set: 5.280708661417322\n",
      "Variance of decile score for African Americans in training set: 8.051517608035262 \n",
      "\n",
      "Mean number of prior charges for Caucasians in training set: 2.310344827586207\n",
      "Variance of number of prior charges for Caucasians in training set: 13.311533888228368\n",
      "Mean number of prior charges for African Americans in training set: 4.223228346456693\n",
      "Variance of number of prior charges for African Americans in training set: 29.757649420298748 \n",
      "\n",
      "Mean age for Caucasians in training set: 37.356718192627824\n",
      "Variance of age for Caucasians in training set: 161.63256188134568\n",
      "Mean age for African Americans in training set: 32.4740157480315\n",
      "Variance of age for African Americans in training set: 113.64302560605134 \n",
      "\n"
     ]
    }
   ],
   "source": [
    "print('Mean of decile score for Caucasians in training set:', mean_c['decile_score'])\n",
    "print('Variance of decile score for Caucasians in training set:', var_c['decile_score'])\n",
    "print('Mean of decile score for African Americans in training set:', mean_aa['decile_score'])\n",
    "print('Variance of decile score for African Americans in training set:', var_aa['decile_score'],'\\n')\n",
    "\n",
    "print('Mean number of prior charges for Caucasians in training set:', mean_c['priors_count'])\n",
    "print('Variance of number of prior charges for Caucasians in training set:', var_c['priors_count'])\n",
    "print('Mean number of prior charges for African Americans in training set:', mean_aa['priors_count'])\n",
    "print('Variance of number of prior charges for African Americans in training set:', var_aa['priors_count'],'\\n')\n",
    "\n",
    "print('Mean age for Caucasians in training set:', mean_c['age'])\n",
    "print('Variance of age for Caucasians in training set:', var_c['age'])\n",
    "print('Mean age for African Americans in training set:', mean_aa['age'])\n",
    "print('Variance of age for African Americans in training set:', var_aa['age'],'\\n')"
   ]
  },
  {
   "cell_type": "code",
   "execution_count": 47,
   "metadata": {},
   "outputs": [
    {
     "data": {
      "text/plain": [
       "Text(0.5,0,'decile_score')"
      ]
     },
     "execution_count": 47,
     "metadata": {},
     "output_type": "execute_result"
    },
    {
     "data": {
      "image/png": "[encoded data removed]",
      "text/plain": [
       "<Figure size 720x360 with 2 Axes>"
      ]
     },
     "metadata": {},
     "output_type": "display_data"
    }
   ],
   "source": [
    "plt.rcParams[\"figure.figsize\"] = [10,5]\n",
    "fig, (ax1, ax2) = plt.subplots(1, 2)\n",
    "# Training set histogram\n",
    "ax1.hist(X_train_compas[X_train_compas['race_Caucasian']==1]['decile_score'], color = 'red', alpha = 0.5, label='Caucasian')\n",
    "ax1.hist(X_train_compas_AA['decile_score'], color = 'blue', alpha = 0.5, label='African-American')\n",
    "ax1.legend()\n",
    "ax1.set_title(\"Decile_score in Training Set\")\n",
    "ax1.set_ylabel(\"Count\")\n",
    "ax1.set_xlabel(\"decile_score\")\n",
    "# Test set histogram\n",
    "ax2.hist(X_test_compas[X_test_compas['race_Caucasian']==1]['decile_score'], color = 'red', alpha = 0.5, label='Caucasian')\n",
    "ax2.hist(X_test_compas_AA['decile_score'], color = 'blue', alpha = 0.5, label='African-American')\n",
    "ax2.legend()\n",
    "ax2.set_title(\"Decile_score in Test Set\")\n",
    "ax2.set_ylabel(\"Count\")\n",
    "ax2.set_xlabel(\"decile_score\")"
   ]
  },
  {
   "cell_type": "code",
   "execution_count": 48,
   "metadata": {},
   "outputs": [
    {
     "data": {
      "text/plain": [
       "Text(0.5,0,'age')"
      ]
     },
     "execution_count": 48,
     "metadata": {},
     "output_type": "execute_result"
    },
    {
     "data": {
      "image/png": "[encoded data removed]",
      "text/plain": [
       "<Figure size 720x360 with 2 Axes>"
      ]
     },
     "metadata": {},
     "output_type": "display_data"
    }
   ],
   "source": [
    "plt.rcParams[\"figure.figsize\"] = [10,5]\n",
    "fig, (ax1, ax2) = plt.subplots(1, 2)\n",
    "# Training set histogram\n",
    "ax1.hist(X_train_compas[X_train_compas['race_Caucasian']==1]['age'], color = 'red', alpha = 0.5, label='Caucasian')\n",
    "ax1.hist(X_train_compas_AA['age'], color = 'blue', alpha = 0.5, label='African-American')\n",
    "ax1.legend()\n",
    "ax1.set_title(\"Age in Training Set\")\n",
    "ax1.set_ylabel(\"Count\")\n",
    "ax1.set_xlabel(\"age\")\n",
    "# Test set histogram\n",
    "ax2.hist(X_test_compas[X_test_compas['race_Caucasian']==1]['age'], color = 'red', alpha = 0.5, label='Caucasian')\n",
    "ax2.hist(X_test_compas_AA['age'], color = 'blue', alpha = 0.5, label='African-American')\n",
    "ax2.legend()\n",
    "ax2.set_title(\"Age in Test Set\")\n",
    "ax2.set_ylabel(\"Count\")\n",
    "ax2.set_xlabel(\"age\")"
   ]
  },
  {
   "cell_type": "code",
   "execution_count": 49,
   "metadata": {},
   "outputs": [
    {
     "data": {
      "text/plain": [
       "Text(0.5,0,'priors_count')"
      ]
     },
     "execution_count": 49,
     "metadata": {},
     "output_type": "execute_result"
    },
    {
     "data": {
      "image/png": "[encoded data removed]",
      "text/plain": [
       "<Figure size 720x360 with 2 Axes>"
      ]
     },
     "metadata": {},
     "output_type": "display_data"
    }
   ],
   "source": [
    "plt.rcParams[\"figure.figsize\"] = [10,5]\n",
    "fig, (ax1, ax2) = plt.subplots(1, 2)\n",
    "# Training set histogram\n",
    "ax1.hist(X_train_compas[X_train_compas['race_Caucasian']==1]['priors_count'], color = 'red', alpha = 0.5, label='Caucasian')\n",
    "ax1.hist(X_train_compas_AA['priors_count'], color = 'blue', alpha = 0.5, label='African-American')\n",
    "ax1.legend()\n",
    "ax1.set_title(\"priors_count in Training Set\")\n",
    "ax1.set_ylabel(\"Count\")\n",
    "ax1.set_xlabel(\"priors_count\")\n",
    "# Test set histogram\n",
    "ax2.hist(X_test_compas[X_test_compas['race_Caucasian']==1]['priors_count'], color = 'red', alpha = 0.5, label='Caucasian')\n",
    "ax2.hist(X_test_compas_AA['priors_count'], color = 'blue', alpha = 0.5, label='African-American')\n",
    "ax2.legend()\n",
    "ax2.set_title(\"priors_count in Test Set\")\n",
    "ax2.set_ylabel(\"Count\")\n",
    "ax2.set_xlabel(\"priors_count\")"
   ]
  },
  {
   "cell_type": "markdown",
   "metadata": {},
   "source": [
    "Although the t statistic does not apply to categorical variables, we decided to explore whether score_text_Low (a one-hot encoded categorical variable representing an offender being in the low risk category for recidivism) had different distributions for African Americans compared to Caucasians. We suspected that there would be differences between the races for this group since decile_score (continuous variable indicating risk of recidivism) differed significantly. "
   ]
  },
  {
   "cell_type": "code",
   "execution_count": 50,
   "metadata": {},
   "outputs": [
    {
     "data": {
      "text/plain": [
       "Text(0.5,0,'score_text_Low')"
      ]
     },
     "execution_count": 50,
     "metadata": {},
     "output_type": "execute_result"
    },
    {
     "data": {
      "image/png": "[encoded data removed]",
      "text/plain": [
       "<Figure size 720x360 with 2 Axes>"
      ]
     },
     "metadata": {},
     "output_type": "display_data"
    }
   ],
   "source": [
    "plt.rcParams[\"figure.figsize\"] = [10,5]\n",
    "fig, (ax1, ax2) = plt.subplots(1, 2)\n",
    "# Training set histogram\n",
    "ax1.hist(X_train_compas[X_train_compas['race_Caucasian']==1]['score_text_Low'], color = 'red', alpha = 0.5, label='Caucasian')\n",
    "ax1.hist(X_train_compas_AA['score_text_Low'], color = 'blue', alpha = 0.5, label='African-American')\n",
    "ax1.legend()\n",
    "ax1.set_title(\"score_text_Low in Training Set\")\n",
    "ax1.set_ylabel(\"Count\")\n",
    "ax1.set_xlabel(\"score_text_Low\")\n",
    "# Test set histogram\n",
    "ax2.hist(X_test_compas[X_test_compas['race_Caucasian']==1]['score_text_Low'], color = 'red', alpha = 0.5, label='Caucasian')\n",
    "ax2.hist(X_test_compas_AA['score_text_Low'], color = 'blue', alpha = 0.5, label='African-American')\n",
    "ax2.legend()\n",
    "ax2.set_title(\"score_text_Low in Test Set\")\n",
    "ax2.set_ylabel(\"Count\")\n",
    "ax2.set_xlabel(\"score_text_Low\")"
   ]
  },
  {
   "cell_type": "code",
   "execution_count": 51,
   "metadata": {},
   "outputs": [
    {
     "name": "stdout",
     "output_type": "stream",
     "text": [
      "Proportion of Caucasians in the Low category for score_text (in training set): 0.6617122473246135\n",
      "Proportion of African Americans in the Low category for score_text (in training set): 0.42362204724409447\n",
      "Proportion of Caucasians in the Low category for score_text (in testing set): 0.6983372921615202\n",
      "Proportion of African Americans in the Low category for score_text (in testing set): 0.4251968503937008\n"
     ]
    }
   ],
   "source": [
    "print('Proportion of Caucasians in the Low category for score_text (in training set):', np.sum(X_train_compas[X_train_compas['race_Caucasian']==1]['score_text_Low'])/len(X_train_compas[X_train_compas['race_Caucasian']==1]))\n",
    "print('Proportion of African Americans in the Low category for score_text (in training set):', np.sum(X_train_compas_AA['score_text_Low'])/len(X_train_compas_AA['score_text_Low']))\n",
    "print('Proportion of Caucasians in the Low category for score_text (in testing set):', np.sum(X_test_compas[X_test_compas['race_Caucasian']==1]['score_text_Low'])/len(X_test_compas[X_test_compas['race_Caucasian']==1]))\n",
    "print('Proportion of African Americans in the Low category for score_text (in testing set):', np.sum(X_test_compas_AA['score_text_Low'])/len(X_test_compas_AA['score_text_Low']))\n",
    "\n"
   ]
  },
  {
   "cell_type": "markdown",
   "metadata": {},
   "source": [
    "**4.3 With respect to these 3 chosen variables, how could bias in the data or data collection be impacting or causing these differences? Explain in 3-5 sentences.**"
   ]
  },
  {
   "cell_type": "code",
   "execution_count": 52,
   "metadata": {},
   "outputs": [
    {
     "name": "stdout",
     "output_type": "stream",
     "text": [
      "Description    1-10 COMPAS score based on decile\n",
      "Name: decile_score, dtype: object\n",
      "Description    Count for number of prior times a defendant ha...\n",
      "Name: priors_count, dtype: object\n",
      "Description    Defendant's age in years\n",
      "Name: Age, dtype: object\n"
     ]
    }
   ],
   "source": [
    "compas_df_dict = pd.read_csv('data/compas_datadict.csv')\n",
    "compas_df_dict.index = compas_df_dict.Variable\n",
    "compas_df_dict2 = compas_df_dict.drop('Variable',1)\n",
    "compas_df_dict3 = compas_df_dict2.iloc[1:,:]\n",
    "\n",
    "print(compas_df_dict3.loc['decile_score',:])\n",
    "print(compas_df_dict3.loc['priors_count',:])\n",
    "print(compas_df_dict3.loc['Age',:])\n",
    "\n"
   ]
  },
  {
   "cell_type": "markdown",
   "metadata": {},
   "source": [
    "Three quantiative variables that differ between African-Americans and Caucasians are decile_score representing a normalized ranking of risk of recidivism), priors_count (number of prior times a defendant has been charged), and age (of the defendant). The histograms show that the distribution of decile score for Caucasians is shifted left (favor toward lower decile scores, i.e., less risk for recidivism) while the decile scores for African-Americans are more uniform (more higher decile scores recorded). There are more young defendants (under age 40) for African-Americans compared to Caucasians. There is also more of a left-skew for African-Americans for the number of prior charges compared to Caucasians. The left-skew of the prior charges and more uniform distribution of decile scores along with the younger age of defendants in African-Americans could be explained by having more thorough data collection for worse crimes in African-Americans than for the other races (perhaps due to systemic racism or tendency for law enforcement to patrol African-American neighborhoods, especially where young people are located). Consequently, there could be more fully missing entries in the database for other races compared to African-Americans (which we would have no way to recover assuming that the instances are missing completely at random), making the African-Americans appear to have an apparently greater risk of recidivism (really just more missing data for the Caucasians for the worse crimes) compared to Caucasians. (For the categorical variable we explored (score_text_Low), the plots show that more Caucasians are in the low category for recidivism compared to African-Americans.)"
   ]
  },
  {
   "cell_type": "markdown",
   "metadata": {},
   "source": [
    "**4.4. Build 2 seperate models to predict recidivism (`two_year_recid`) from these data (2 different 'classes' of models:  $k$-NN, linear, logistic, etc.) and be sure to include race as a predictor.**"
   ]
  },
  {
   "cell_type": "code",
   "execution_count": 53,
   "metadata": {},
   "outputs": [],
   "source": [
    "# Logistic Model with regularization\n",
    "np.random.seed(10)\n",
    "Cs = 10.0**np.arange(-5,5)\n",
    "compas_logistic = LogisticRegressionCV(Cs = Cs,cv=5,solver='liblinear',penalty='l1')\n",
    "# Use liblinear solver because it is best for small samples and so has high power and leave max_iter at the default of 100 because model converges with it and is more efficient than using higher numbers for max_iter\n",
    "# Use a range of Cs as shown in the lab and use cv = 5 to perform 5-fold cross validation as modeled in the lab\n",
    "compas_logistic_model = compas_logistic.fit(X_train_compas, y_train_compas)\n"
   ]
  },
  {
   "cell_type": "code",
   "execution_count": 54,
   "metadata": {},
   "outputs": [
    {
     "name": "stdout",
     "output_type": "stream",
     "text": [
      "Regularized logistic regression misclassification rate on training set: 0.29937208831274054\n",
      "Regularized logistic regression misclassification rate on testing set: 0.3157894736842105\n"
     ]
    }
   ],
   "source": [
    "# Predictions on training set\n",
    "compas_pred_logreg_train = compas_logistic_model.predict(X_train_compas)\n",
    "\n",
    "# Predictions on testing set\n",
    "compas_pred_logreg_test = compas_logistic_model.predict(X_test_compas)\n",
    "\n",
    "# Evaluate accuracy on training set\n",
    "print('Regularized logistic regression misclassification rate on training set:', 1-accuracy_score(y_train_compas, compas_pred_logreg_train))\n",
    "\n",
    "# Evaluate accuracy on testing set\n",
    "print('Regularized logistic regression misclassification rate on testing set:', 1-accuracy_score(y_test_compas, compas_pred_logreg_test))"
   ]
  },
  {
   "cell_type": "code",
   "execution_count": 55,
   "metadata": {},
   "outputs": [],
   "source": [
    "logreg_compas_AA=pd.crosstab(y_test_compas[AA_index_test], compas_pred_logreg_test[AA_index_test], colnames=['Predicted'], rownames=['Actual'])\n",
    "logreg_compas_C=pd.crosstab(y_test_compas[X_test_compas['race_Caucasian']==1], compas_pred_logreg_test[X_test_compas['race_Caucasian']==1], colnames=['Predicted'], rownames=['Actual'])\n"
   ]
  },
  {
   "cell_type": "markdown",
   "metadata": {},
   "source": [
    "#### Confusion matrix and FPR and FNR for Logistic Regression model with race as a predictor for Caucasians:"
   ]
  },
  {
   "cell_type": "code",
   "execution_count": 56,
   "metadata": {},
   "outputs": [
    {
     "data": {
      "text/html": [
       "<div>\n",
       "<style scoped>\n",
       "    .dataframe tbody tr th:only-of-type {\n",
       "        vertical-align: middle;\n",
       "    }\n",
       "\n",
       "    .dataframe tbody tr th {\n",
       "        vertical-align: top;\n",
       "    }\n",
       "\n",
       "    .dataframe thead th {\n",
       "        text-align: right;\n",
       "    }\n",
       "</style>\n",
       "<table border=\"1\" class=\"dataframe\">\n",
       "  <thead>\n",
       "    <tr style=\"text-align: right;\">\n",
       "      <th>Predicted</th>\n",
       "      <th>0</th>\n",
       "      <th>1</th>\n",
       "    </tr>\n",
       "    <tr>\n",
       "      <th>Actual</th>\n",
       "      <th></th>\n",
       "      <th></th>\n",
       "    </tr>\n",
       "  </thead>\n",
       "  <tbody>\n",
       "    <tr>\n",
       "      <th>0</th>\n",
       "      <td>224</td>\n",
       "      <td>40</td>\n",
       "    </tr>\n",
       "    <tr>\n",
       "      <th>1</th>\n",
       "      <td>79</td>\n",
       "      <td>78</td>\n",
       "    </tr>\n",
       "  </tbody>\n",
       "</table>\n",
       "</div>"
      ],
      "text/plain": [
       "Predicted    0   1\n",
       "Actual            \n",
       "0          224  40\n",
       "1           79  78"
      ]
     },
     "execution_count": 56,
     "metadata": {},
     "output_type": "execute_result"
    }
   ],
   "source": [
    "logreg_compas_C"
   ]
  },
  {
   "cell_type": "code",
   "execution_count": 57,
   "metadata": {},
   "outputs": [
    {
     "name": "stdout",
     "output_type": "stream",
     "text": [
      "The false positive rate is 0.15151515151515152\n",
      "The false negative rate is 0.5031847133757962\n"
     ]
    }
   ],
   "source": [
    "print(\"The false positive rate is \"+str(logreg_compas_C[1][0]/(logreg_compas_C[1][0] + logreg_compas_C[0][0])))\n",
    "print(\"The false negative rate is \"+str(logreg_compas_C[0][1]/(logreg_compas_C[0][1] + logreg_compas_C[1][1])))\n"
   ]
  },
  {
   "cell_type": "markdown",
   "metadata": {},
   "source": [
    "#### Confusion matrix and FPR and FNR for Logistic Regression model with race as a predictor for African Americans:"
   ]
  },
  {
   "cell_type": "code",
   "execution_count": 58,
   "metadata": {},
   "outputs": [
    {
     "data": {
      "text/html": [
       "<div>\n",
       "<style scoped>\n",
       "    .dataframe tbody tr th:only-of-type {\n",
       "        vertical-align: middle;\n",
       "    }\n",
       "\n",
       "    .dataframe tbody tr th {\n",
       "        vertical-align: top;\n",
       "    }\n",
       "\n",
       "    .dataframe thead th {\n",
       "        text-align: right;\n",
       "    }\n",
       "</style>\n",
       "<table border=\"1\" class=\"dataframe\">\n",
       "  <thead>\n",
       "    <tr style=\"text-align: right;\">\n",
       "      <th>Predicted</th>\n",
       "      <th>0</th>\n",
       "      <th>1</th>\n",
       "    </tr>\n",
       "    <tr>\n",
       "      <th>Actual</th>\n",
       "      <th></th>\n",
       "      <th></th>\n",
       "    </tr>\n",
       "  </thead>\n",
       "  <tbody>\n",
       "    <tr>\n",
       "      <th>0</th>\n",
       "      <td>209</td>\n",
       "      <td>101</td>\n",
       "    </tr>\n",
       "    <tr>\n",
       "      <th>1</th>\n",
       "      <td>106</td>\n",
       "      <td>219</td>\n",
       "    </tr>\n",
       "  </tbody>\n",
       "</table>\n",
       "</div>"
      ],
      "text/plain": [
       "Predicted    0    1\n",
       "Actual             \n",
       "0          209  101\n",
       "1          106  219"
      ]
     },
     "execution_count": 58,
     "metadata": {},
     "output_type": "execute_result"
    }
   ],
   "source": [
    "logreg_compas_AA"
   ]
  },
  {
   "cell_type": "code",
   "execution_count": 59,
   "metadata": {},
   "outputs": [
    {
     "name": "stdout",
     "output_type": "stream",
     "text": [
      "The false positive rate is 0.3258064516129032\n",
      "The false negative rate is 0.3261538461538461\n"
     ]
    }
   ],
   "source": [
    "print(\"The false positive rate is \"+str(logreg_compas_AA[1][0]/(logreg_compas_AA[1][0] + logreg_compas_AA[0][0])))\n",
    "print(\"The false negative rate is \"+str(logreg_compas_AA[0][1]/(logreg_compas_AA[0][1] + logreg_compas_AA[1][1])))\n"
   ]
  },
  {
   "cell_type": "code",
   "execution_count": 60,
   "metadata": {},
   "outputs": [
    {
     "name": "stdout",
     "output_type": "stream",
     "text": [
      "K-NN model with k = 25 chosen.\n"
     ]
    }
   ],
   "source": [
    "# k-NN Model\n",
    "np.random.seed(10)\n",
    "ks = [1,2,3,4,5,7,9,10,15,25]\n",
    "cv_score_list=np.array([])\n",
    "for k in ks:\n",
    "    knn = KNeighborsClassifier(k)\n",
    "    cv_score_list = np.append(cv_score_list, np.mean(cross_val_score(knn, X_train_compas, y_train_compas, cv=5)))\n",
    "\n",
    "k=ks[np.argmax(cv_score_list)]\n",
    "knn = KNeighborsClassifier(k)\n",
    "knn.fit(X_train_compas, y_train_compas)\n",
    "print(\"K-NN model with k = \" + str(k)+\" chosen.\")"
   ]
  },
  {
   "cell_type": "code",
   "execution_count": 61,
   "metadata": {},
   "outputs": [
    {
     "name": "stdout",
     "output_type": "stream",
     "text": [
      "K=25 k-NN misclassification rate on training set: 0.2965363581122139\n",
      "K=25 k-NN misclassification rate on testing set: 0.3263157894736842\n"
     ]
    }
   ],
   "source": [
    "# Predictions on training set\n",
    "compas_pred_knn_train = knn.predict(X_train_compas)\n",
    "\n",
    "# Predictions on testing set\n",
    "compas_pred_knn_test = knn.predict(X_test_compas)\n",
    "\n",
    "# Evaluate accuracy on training set\n",
    "print('K=25 k-NN misclassification rate on training set:', 1-accuracy_score(y_train_compas, compas_pred_knn_train))\n",
    "\n",
    "# Evaluate accuracy on testing set\n",
    "print('K=25 k-NN misclassification rate on testing set:', 1-accuracy_score(y_test_compas, compas_pred_knn_test))"
   ]
  },
  {
   "cell_type": "markdown",
   "metadata": {},
   "source": [
    "#### Confusion matrix and FPR and FNR for KNN model with race as a predictor for Caucasians:"
   ]
  },
  {
   "cell_type": "code",
   "execution_count": 62,
   "metadata": {},
   "outputs": [
    {
     "data": {
      "text/html": [
       "<div>\n",
       "<style scoped>\n",
       "    .dataframe tbody tr th:only-of-type {\n",
       "        vertical-align: middle;\n",
       "    }\n",
       "\n",
       "    .dataframe tbody tr th {\n",
       "        vertical-align: top;\n",
       "    }\n",
       "\n",
       "    .dataframe thead th {\n",
       "        text-align: right;\n",
       "    }\n",
       "</style>\n",
       "<table border=\"1\" class=\"dataframe\">\n",
       "  <thead>\n",
       "    <tr style=\"text-align: right;\">\n",
       "      <th>Predicted</th>\n",
       "      <th>0</th>\n",
       "      <th>1</th>\n",
       "    </tr>\n",
       "    <tr>\n",
       "      <th>Actual</th>\n",
       "      <th></th>\n",
       "      <th></th>\n",
       "    </tr>\n",
       "  </thead>\n",
       "  <tbody>\n",
       "    <tr>\n",
       "      <th>0</th>\n",
       "      <td>212</td>\n",
       "      <td>52</td>\n",
       "    </tr>\n",
       "    <tr>\n",
       "      <th>1</th>\n",
       "      <td>83</td>\n",
       "      <td>74</td>\n",
       "    </tr>\n",
       "  </tbody>\n",
       "</table>\n",
       "</div>"
      ],
      "text/plain": [
       "Predicted    0   1\n",
       "Actual            \n",
       "0          212  52\n",
       "1           83  74"
      ]
     },
     "execution_count": 62,
     "metadata": {},
     "output_type": "execute_result"
    }
   ],
   "source": [
    "knn_compas_AA=pd.crosstab(y_test_compas[AA_index_test], compas_pred_knn_test[AA_index_test], colnames=['Predicted'], rownames=['Actual'])\n",
    "knn_compas_C = pd.crosstab(y_test_compas[X_test_compas['race_Caucasian']==1], compas_pred_knn_test[X_test_compas['race_Caucasian']==1], colnames=['Predicted'], rownames=['Actual'])\n",
    "\n",
    "knn_compas_C"
   ]
  },
  {
   "cell_type": "code",
   "execution_count": 63,
   "metadata": {},
   "outputs": [
    {
     "name": "stdout",
     "output_type": "stream",
     "text": [
      "The false positive rate is 0.19696969696969696\n",
      "The false negative rate is 0.5286624203821656\n"
     ]
    }
   ],
   "source": [
    "print(\"The false positive rate is \"+str(knn_compas_C[1][0]/(knn_compas_C[1][0] + knn_compas_C[0][0])))\n",
    "print(\"The false negative rate is \"+str(knn_compas_C[0][1]/(knn_compas_C[0][1] + knn_compas_C[1][1])))\n"
   ]
  },
  {
   "cell_type": "markdown",
   "metadata": {},
   "source": [
    "#### Confusion matrix and FPR and FNR for KNN model with race as a predictor for African Americans:"
   ]
  },
  {
   "cell_type": "code",
   "execution_count": 64,
   "metadata": {},
   "outputs": [
    {
     "data": {
      "text/html": [
       "<div>\n",
       "<style scoped>\n",
       "    .dataframe tbody tr th:only-of-type {\n",
       "        vertical-align: middle;\n",
       "    }\n",
       "\n",
       "    .dataframe tbody tr th {\n",
       "        vertical-align: top;\n",
       "    }\n",
       "\n",
       "    .dataframe thead th {\n",
       "        text-align: right;\n",
       "    }\n",
       "</style>\n",
       "<table border=\"1\" class=\"dataframe\">\n",
       "  <thead>\n",
       "    <tr style=\"text-align: right;\">\n",
       "      <th>Predicted</th>\n",
       "      <th>0</th>\n",
       "      <th>1</th>\n",
       "    </tr>\n",
       "    <tr>\n",
       "      <th>Actual</th>\n",
       "      <th></th>\n",
       "      <th></th>\n",
       "    </tr>\n",
       "  </thead>\n",
       "  <tbody>\n",
       "    <tr>\n",
       "      <th>0</th>\n",
       "      <td>212</td>\n",
       "      <td>98</td>\n",
       "    </tr>\n",
       "    <tr>\n",
       "      <th>1</th>\n",
       "      <td>108</td>\n",
       "      <td>217</td>\n",
       "    </tr>\n",
       "  </tbody>\n",
       "</table>\n",
       "</div>"
      ],
      "text/plain": [
       "Predicted    0    1\n",
       "Actual             \n",
       "0          212   98\n",
       "1          108  217"
      ]
     },
     "execution_count": 64,
     "metadata": {},
     "output_type": "execute_result"
    }
   ],
   "source": [
    "knn_compas_AA"
   ]
  },
  {
   "cell_type": "code",
   "execution_count": 65,
   "metadata": {},
   "outputs": [
    {
     "name": "stdout",
     "output_type": "stream",
     "text": [
      "The false positive rate is 0.3161290322580645\n",
      "The false negative rate is 0.3323076923076923\n"
     ]
    }
   ],
   "source": [
    "print(\"The false positive rate is \"+str(knn_compas_AA[1][0]/(knn_compas_AA[1][0] + knn_compas_AA[0][0])))\n",
    "print(\"The false negative rate is \"+str(knn_compas_AA[0][1]/(knn_compas_AA[0][1] + knn_compas_AA[1][1])))\n"
   ]
  },
  {
   "cell_type": "markdown",
   "metadata": {},
   "source": [
    "**4.5. Refit the models in 4.4 without race as a predictor. Report the overall misclassifcation rates, and compare the differences in false positive and false negative rates between Caucasians and African Americans in these models on the test set. How do these compare to the models when race is included as a predictor?**"
   ]
  },
  {
   "cell_type": "code",
   "execution_count": 66,
   "metadata": {},
   "outputs": [],
   "source": [
    "# Logistic Model with regularization\n",
    "np.random.seed(10)\n",
    "Cs = 10.0**np.arange(-5,5)\n",
    "compas_logistic = LogisticRegressionCV(Cs = Cs,cv=5,solver='liblinear',penalty='l1')\n",
    "# Use liblinear solver because it is best for small samples and so has high power and leave max_iter at the default of 100 because model converges with it and is more efficient than using higher numbers for max_iter\n",
    "# Use a range of Cs as shown in the lab and use cv = 5 to perform 5-fold cross validation as modeled in the lab\n",
    "compas_logistic_model = compas_logistic.fit(X_train_compas_drop, y_train_compas)\n"
   ]
  },
  {
   "cell_type": "code",
   "execution_count": 67,
   "metadata": {},
   "outputs": [
    {
     "name": "stdout",
     "output_type": "stream",
     "text": [
      "Regularized logistic regression misclassification rate on training set: 0.2991695361555601\n",
      "Regularized logistic regression misclassification rate on testing set: 0.3165991902834008\n"
     ]
    }
   ],
   "source": [
    "# Predictions on training set\n",
    "compas_pred_logreg_train = compas_logistic_model.predict(X_train_compas_drop)\n",
    "\n",
    "# Predictions on testing set\n",
    "compas_pred_logreg_test = compas_logistic_model.predict(X_test_compas_drop)\n",
    "\n",
    "# Evaluate accuracy on training set\n",
    "print('Regularized logistic regression misclassification rate on training set:', 1-accuracy_score(y_train_compas, compas_pred_logreg_train))\n",
    "\n",
    "# Evaluate accuracy on testing set\n",
    "print('Regularized logistic regression misclassification rate on testing set:', 1-accuracy_score(y_test_compas, compas_pred_logreg_test))"
   ]
  },
  {
   "cell_type": "markdown",
   "metadata": {},
   "source": [
    "For the Regularized logistic regression model, \n",
    "\n",
    "Regularized logistic regression misclassification rate on training set: 0.2991695361555601\n",
    "\n",
    "Regularized logistic regression misclassification rate on testing set: 0.3165991902834008"
   ]
  },
  {
   "cell_type": "markdown",
   "metadata": {},
   "source": [
    "#### Confusion matrix and FPR and FNR for logistic regression model for Caucasians without race as a predictor:"
   ]
  },
  {
   "cell_type": "code",
   "execution_count": 68,
   "metadata": {},
   "outputs": [
    {
     "data": {
      "text/html": [
       "<div>\n",
       "<style scoped>\n",
       "    .dataframe tbody tr th:only-of-type {\n",
       "        vertical-align: middle;\n",
       "    }\n",
       "\n",
       "    .dataframe tbody tr th {\n",
       "        vertical-align: top;\n",
       "    }\n",
       "\n",
       "    .dataframe thead th {\n",
       "        text-align: right;\n",
       "    }\n",
       "</style>\n",
       "<table border=\"1\" class=\"dataframe\">\n",
       "  <thead>\n",
       "    <tr style=\"text-align: right;\">\n",
       "      <th>Predicted</th>\n",
       "      <th>0</th>\n",
       "      <th>1</th>\n",
       "    </tr>\n",
       "    <tr>\n",
       "      <th>Actual</th>\n",
       "      <th></th>\n",
       "      <th></th>\n",
       "    </tr>\n",
       "  </thead>\n",
       "  <tbody>\n",
       "    <tr>\n",
       "      <th>0</th>\n",
       "      <td>224</td>\n",
       "      <td>40</td>\n",
       "    </tr>\n",
       "    <tr>\n",
       "      <th>1</th>\n",
       "      <td>80</td>\n",
       "      <td>77</td>\n",
       "    </tr>\n",
       "  </tbody>\n",
       "</table>\n",
       "</div>"
      ],
      "text/plain": [
       "Predicted    0   1\n",
       "Actual            \n",
       "0          224  40\n",
       "1           80  77"
      ]
     },
     "execution_count": 68,
     "metadata": {},
     "output_type": "execute_result"
    }
   ],
   "source": [
    "logreg_compas_AA = pd.crosstab(y_test_compas[AA_index_test], compas_pred_logreg_test[AA_index_test], colnames=['Predicted'], rownames=['Actual'])\n",
    "logreg_compas_C = pd.crosstab(y_test_compas[X_test_compas['race_Caucasian']==1], compas_pred_logreg_test[X_test_compas['race_Caucasian']==1], colnames=['Predicted'], rownames=['Actual'])\n",
    "\n",
    "logreg_compas_C"
   ]
  },
  {
   "cell_type": "code",
   "execution_count": 69,
   "metadata": {},
   "outputs": [
    {
     "name": "stdout",
     "output_type": "stream",
     "text": [
      "The false positive rate is 0.15151515151515152\n",
      "The false negative rate is 0.5095541401273885\n"
     ]
    }
   ],
   "source": [
    "print(\"The false positive rate is \"+str(logreg_compas_C[1][0]/(logreg_compas_C[1][0] + logreg_compas_C[0][0])))\n",
    "print(\"The false negative rate is \"+str(logreg_compas_C[0][1]/(logreg_compas_C[0][1] + logreg_compas_C[1][1])))\n"
   ]
  },
  {
   "cell_type": "markdown",
   "metadata": {},
   "source": [
    "#### Confusion matrix and FPR and FNR for logistic regression model for African Americans without race as a predictor:"
   ]
  },
  {
   "cell_type": "code",
   "execution_count": 70,
   "metadata": {},
   "outputs": [
    {
     "data": {
      "text/html": [
       "<div>\n",
       "<style scoped>\n",
       "    .dataframe tbody tr th:only-of-type {\n",
       "        vertical-align: middle;\n",
       "    }\n",
       "\n",
       "    .dataframe tbody tr th {\n",
       "        vertical-align: top;\n",
       "    }\n",
       "\n",
       "    .dataframe thead th {\n",
       "        text-align: right;\n",
       "    }\n",
       "</style>\n",
       "<table border=\"1\" class=\"dataframe\">\n",
       "  <thead>\n",
       "    <tr style=\"text-align: right;\">\n",
       "      <th>Predicted</th>\n",
       "      <th>0</th>\n",
       "      <th>1</th>\n",
       "    </tr>\n",
       "    <tr>\n",
       "      <th>Actual</th>\n",
       "      <th></th>\n",
       "      <th></th>\n",
       "    </tr>\n",
       "  </thead>\n",
       "  <tbody>\n",
       "    <tr>\n",
       "      <th>0</th>\n",
       "      <td>209</td>\n",
       "      <td>101</td>\n",
       "    </tr>\n",
       "    <tr>\n",
       "      <th>1</th>\n",
       "      <td>106</td>\n",
       "      <td>219</td>\n",
       "    </tr>\n",
       "  </tbody>\n",
       "</table>\n",
       "</div>"
      ],
      "text/plain": [
       "Predicted    0    1\n",
       "Actual             \n",
       "0          209  101\n",
       "1          106  219"
      ]
     },
     "execution_count": 70,
     "metadata": {},
     "output_type": "execute_result"
    }
   ],
   "source": [
    "logreg_compas_AA"
   ]
  },
  {
   "cell_type": "code",
   "execution_count": 71,
   "metadata": {},
   "outputs": [
    {
     "name": "stdout",
     "output_type": "stream",
     "text": [
      "The false positive rate is 0.3258064516129032\n",
      "The false negative rate is 0.3261538461538461\n"
     ]
    }
   ],
   "source": [
    "print(\"The false positive rate is \"+str(logreg_compas_AA[1][0]/(logreg_compas_AA[1][0] + logreg_compas_AA[0][0])))\n",
    "print(\"The false negative rate is \"+str(logreg_compas_AA[0][1]/(logreg_compas_AA[0][1] + logreg_compas_AA[1][1])))\n"
   ]
  },
  {
   "cell_type": "code",
   "execution_count": 72,
   "metadata": {},
   "outputs": [],
   "source": [
    "# k-NN Model\n",
    "np.random.seed(10)\n",
    "k=25\n",
    "knn = KNeighborsClassifier(k)\n",
    "knn.fit(X_train_compas_drop, y_train_compas);"
   ]
  },
  {
   "cell_type": "code",
   "execution_count": 73,
   "metadata": {},
   "outputs": [
    {
     "name": "stdout",
     "output_type": "stream",
     "text": [
      "K=25 k-NN misclassification rate on training set: 0.2947133886975897\n",
      "K=25 k-NN misclassification rate on testing set: 0.33117408906882595\n"
     ]
    }
   ],
   "source": [
    "# Predictions on training set\n",
    "compas_pred_knn_train = knn.predict(X_train_compas_drop)\n",
    "\n",
    "# Predictions on testing set\n",
    "compas_pred_knn_test = knn.predict(X_test_compas_drop)\n",
    "\n",
    "# Evaluate accuracy on training set\n",
    "print('K=25 k-NN misclassification rate on training set:', 1-accuracy_score(y_train_compas, compas_pred_knn_train))\n",
    "\n",
    "# Evaluate accuracy on testing set\n",
    "print('K=25 k-NN misclassification rate on testing set:', 1-accuracy_score(y_test_compas, compas_pred_knn_test))"
   ]
  },
  {
   "cell_type": "markdown",
   "metadata": {},
   "source": [
    "For the k-NN model, \n",
    "\n",
    "K=25 k-NN misclassification rate on training set: 0.2947133886975897\n",
    "\n",
    "K=25 k-NN misclassification rate on testing set: 0.33117408906882595"
   ]
  },
  {
   "cell_type": "markdown",
   "metadata": {},
   "source": [
    "#### Confusion matrix and FNR and FPR for KNN model for Caucasians without race as a predictor:"
   ]
  },
  {
   "cell_type": "code",
   "execution_count": 74,
   "metadata": {},
   "outputs": [
    {
     "data": {
      "text/html": [
       "<div>\n",
       "<style scoped>\n",
       "    .dataframe tbody tr th:only-of-type {\n",
       "        vertical-align: middle;\n",
       "    }\n",
       "\n",
       "    .dataframe tbody tr th {\n",
       "        vertical-align: top;\n",
       "    }\n",
       "\n",
       "    .dataframe thead th {\n",
       "        text-align: right;\n",
       "    }\n",
       "</style>\n",
       "<table border=\"1\" class=\"dataframe\">\n",
       "  <thead>\n",
       "    <tr style=\"text-align: right;\">\n",
       "      <th>Predicted</th>\n",
       "      <th>0</th>\n",
       "      <th>1</th>\n",
       "    </tr>\n",
       "    <tr>\n",
       "      <th>Actual</th>\n",
       "      <th></th>\n",
       "      <th></th>\n",
       "    </tr>\n",
       "  </thead>\n",
       "  <tbody>\n",
       "    <tr>\n",
       "      <th>0</th>\n",
       "      <td>211</td>\n",
       "      <td>53</td>\n",
       "    </tr>\n",
       "    <tr>\n",
       "      <th>1</th>\n",
       "      <td>86</td>\n",
       "      <td>71</td>\n",
       "    </tr>\n",
       "  </tbody>\n",
       "</table>\n",
       "</div>"
      ],
      "text/plain": [
       "Predicted    0   1\n",
       "Actual            \n",
       "0          211  53\n",
       "1           86  71"
      ]
     },
     "execution_count": 74,
     "metadata": {},
     "output_type": "execute_result"
    }
   ],
   "source": [
    "knn_compas_C = pd.crosstab(y_test_compas[X_test_compas['race_Caucasian']==1], compas_pred_knn_test[X_test_compas['race_Caucasian']==1], colnames=['Predicted'], rownames=['Actual'])\n",
    "knn_compas_AA = pd.crosstab(y_test_compas[AA_index_test], compas_pred_knn_test[AA_index_test], colnames=['Predicted'], rownames=['Actual'])\n",
    "\n",
    "knn_compas_C"
   ]
  },
  {
   "cell_type": "code",
   "execution_count": 75,
   "metadata": {},
   "outputs": [
    {
     "name": "stdout",
     "output_type": "stream",
     "text": [
      "The false positive rate is 0.20075757575757575\n",
      "The false negative rate is 0.5477707006369427\n"
     ]
    }
   ],
   "source": [
    "print(\"The false positive rate is \"+str(knn_compas_C[1][0]/(knn_compas_C[1][0] + knn_compas_C[0][0])))\n",
    "print(\"The false negative rate is \"+str(knn_compas_C[0][1]/(knn_compas_C[0][1] + knn_compas_C[1][1])))\n"
   ]
  },
  {
   "cell_type": "markdown",
   "metadata": {},
   "source": [
    "#### Confusion matrix and FNR and FPR for KNN model for African Americans without race as a predictor:"
   ]
  },
  {
   "cell_type": "code",
   "execution_count": 76,
   "metadata": {},
   "outputs": [
    {
     "data": {
      "text/html": [
       "<div>\n",
       "<style scoped>\n",
       "    .dataframe tbody tr th:only-of-type {\n",
       "        vertical-align: middle;\n",
       "    }\n",
       "\n",
       "    .dataframe tbody tr th {\n",
       "        vertical-align: top;\n",
       "    }\n",
       "\n",
       "    .dataframe thead th {\n",
       "        text-align: right;\n",
       "    }\n",
       "</style>\n",
       "<table border=\"1\" class=\"dataframe\">\n",
       "  <thead>\n",
       "    <tr style=\"text-align: right;\">\n",
       "      <th>Predicted</th>\n",
       "      <th>0</th>\n",
       "      <th>1</th>\n",
       "    </tr>\n",
       "    <tr>\n",
       "      <th>Actual</th>\n",
       "      <th></th>\n",
       "      <th></th>\n",
       "    </tr>\n",
       "  </thead>\n",
       "  <tbody>\n",
       "    <tr>\n",
       "      <th>0</th>\n",
       "      <td>209</td>\n",
       "      <td>101</td>\n",
       "    </tr>\n",
       "    <tr>\n",
       "      <th>1</th>\n",
       "      <td>110</td>\n",
       "      <td>215</td>\n",
       "    </tr>\n",
       "  </tbody>\n",
       "</table>\n",
       "</div>"
      ],
      "text/plain": [
       "Predicted    0    1\n",
       "Actual             \n",
       "0          209  101\n",
       "1          110  215"
      ]
     },
     "execution_count": 76,
     "metadata": {},
     "output_type": "execute_result"
    }
   ],
   "source": [
    "knn_compas_AA"
   ]
  },
  {
   "cell_type": "code",
   "execution_count": 77,
   "metadata": {},
   "outputs": [
    {
     "name": "stdout",
     "output_type": "stream",
     "text": [
      "The false positive rate is 0.3258064516129032\n",
      "The false negative rate is 0.3384615384615385\n"
     ]
    }
   ],
   "source": [
    "print(\"The false positive rate is \"+str(knn_compas_AA[1][0]/(knn_compas_AA[1][0] + knn_compas_AA[0][0])))\n",
    "print(\"The false negative rate is \"+str(knn_compas_AA[0][1]/(knn_compas_AA[0][1] + knn_compas_AA[1][1])))\n"
   ]
  },
  {
   "cell_type": "markdown",
   "metadata": {},
   "source": [
    "For the regularized logistic regression model, the misclassification rate on the training set is 0.2991695361555601\n",
    "\n",
    "The regularized logistic regression model's misclassification rate on testing set is 0.3165991902834008\n",
    "\n",
    "For the k-NN model, the misclassification rate on the training set is 0.2947133886975897.\n",
    "\n",
    "The k-NN model's misclassification rate on the testing set is 0.33117408906882595"
   ]
  },
  {
   "cell_type": "markdown",
   "metadata": {},
   "source": [
    "Looking at the differences in false positive and false negative rates between Caucasians and African Americans in these models on the test set, we see a pretty consistent pattern:\n",
    "\n",
    "1. The false negative and false positive rates for African Americans were roughly equivalent, around 0.32-0.33. \n",
    "2. For Caucasians, the false positive rate was significantly lower than the false negative rate (FPR=0.2, FNR=0.55).\n",
    "\n",
    "Compared to the models when race is included as a predictor, these trends still hold true. The FPR and FNR were roughly equal for African Americans at about 0.32-0.33, while the Caucasians' FPR was significantly lower than their FNR. "
   ]
  },
  {
   "cell_type": "markdown",
   "metadata": {},
   "source": [
    "**4.6. Given your exploration and modeling of the data, should a predictive tool be trusted to be unbiased even if it doesn’t explicitly use a variable such as race to predict future crime?  Why or why not?  Why is the bias still occurring or not occurring?  Explain in 3-6 sentences total.**"
   ]
  },
  {
   "cell_type": "markdown",
   "metadata": {},
   "source": [
    "A predictive tool should not be trusted to be unbiased even if it doesn't explicitly use a variable such as race to predict future crimes because other variables included in the model could be collinear or related to race such that including those other variables has a similar effect on the model as including race (which could be considered a morally irrelevant feature to include in a model predicting recidivism). In the case of this problem, features such as priors_count (number of previous charges), charge_any_drug (\"best guess as to whether the crime charged was drug-related\"), 'juv_fel_count' (number of felonies as a child), 'juv_misd_count' (number of misdemeanor as a child), and 'juv_other_count' (number of other charges besides felonies and misdemeanors) could all be confounded by race if being African-American predisposes the defendant to have higher values for these variables. The effect of race on these other variables may not be apparent in the model (because there is no clear way to parse out the effect of race on each of these predictors without including race in the model) but may still bias the predictions. It is possible that these predictors are affected by race because it is known that communities in the US may be dominated by certain racial groups and upbringing in these communities may result in more patrol by police, exposure to drugs, and other factors."
   ]
  },
  {
   "cell_type": "markdown",
   "metadata": {},
   "source": [
    "---"
   ]
  },
  {
   "cell_type": "code",
   "execution_count": null,
   "metadata": {},
   "outputs": [],
   "source": []
  },
  {
   "cell_type": "code",
   "execution_count": null,
   "metadata": {},
   "outputs": [],
   "source": []
  },
  {
   "cell_type": "code",
   "execution_count": null,
   "metadata": {},
   "outputs": [],
   "source": []
  },
  {
   "cell_type": "markdown",
   "metadata": {},
   "source": [
    "<script>\n",
    "  $(document).ready(function(){\n",
    "    $('div.prompt').hide();\n",
    "    $('div.back-to-top').hide();\n",
    "    $('nav#menubar').hide();\n",
    "    $('.breadcrumb').hide();\n",
    "    $('.hidden-print').hide();\n",
    "  });\n",
    "</script>\n",
    "\n",
    "<footer id=\"attribution\" style=\"float:right; color:#999; background:#fff;\">\n",
    "Checked by: Lekshmi Santhosh\n",
    "</footer>"
   ]
  }
 ],
 "metadata": {
  "kernelspec": {
   "display_name": "Python 3",
   "language": "python",
   "name": "python3"
  },
  "language_info": {
   "codemirror_mode": {
    "name": "ipython",
    "version": 3
   },
   "file_extension": ".py",
   "mimetype": "text/x-python",
   "name": "python",
   "nbconvert_exporter": "python",
   "pygments_lexer": "ipython3",
   "version": "3.7.4"
  }
 },
 "nbformat": 4,
 "nbformat_minor": 2
}
