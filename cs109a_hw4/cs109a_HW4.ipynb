{
 "cells": [
  {
   "cell_type": "code",
   "execution_count": 1,
   "metadata": {},
   "outputs": [],
   "source": [
    "# uncomment describe in question 1\n",
    "#1.4 what does it mean to report the accuracy???\n",
    "# finish 1.3 normalization \n",
    "# 1.4???\n",
    "\n",
    "#2.3 answer\n",
    "# 2.4 update interpretation and also provide more info for text answer based on model accuracies???\n",
    "\n",
    "#3.1 put in accuracy values and add text ans\n",
    "#3.2 bootstrapping?? and rest of question 3\n",
    "\n",
    "#4.2 should we stratify by cancer type?? why did I have to cast as an int?? should measurements be normalized?"
   ]
  },
  {
   "cell_type": "markdown",
   "metadata": {},
   "source": [
    "\n",
    "# <img style=\"float: left; padding-right: 10px; width: 45px\" src=\"https://raw.githubusercontent.com/Harvard-IACS/2018-CS109A/master/content/styles/iacs.png\"> CS109A Introduction to Data Science\n",
    "\n",
    "## Homework 4: Logistic Regression\n",
    "\n",
    "**Harvard University**<br/>\n",
    "**Fall 2019**<br/>\n",
    "**Instructors**: Pavlos Protopapas, Kevin Rader, and Chris Tanner\n",
    "\n",
    "<hr style=\"height:2pt\">\n",
    "\n"
   ]
  },
  {
   "cell_type": "code",
   "execution_count": 2,
   "metadata": {},
   "outputs": [
    {
     "data": {
      "text/html": [
       "<style>\n",
       "blockquote { background: #AEDE94; }\n",
       "h1 { \n",
       "    padding-top: 25px;\n",
       "    padding-bottom: 25px;\n",
       "    text-align: left; \n",
       "    padding-left: 10px;\n",
       "    background-color: #DDDDDD; \n",
       "    color: black;\n",
       "}\n",
       "h2 { \n",
       "    padding-top: 10px;\n",
       "    padding-bottom: 10px;\n",
       "    text-align: left; \n",
       "    padding-left: 5px;\n",
       "    background-color: #EEEEEE; \n",
       "    color: black;\n",
       "}\n",
       "\n",
       "div.exercise {\n",
       "\tbackground-color: #ffcccc;\n",
       "\tborder-color: #E9967A; \t\n",
       "\tborder-left: 5px solid #800080; \n",
       "\tpadding: 0.5em;\n",
       "}\n",
       "\n",
       "span.sub-q {\n",
       "\tfont-weight: bold;\n",
       "}\n",
       "div.theme {\n",
       "\tbackground-color: #DDDDDD;\n",
       "\tborder-color: #E9967A; \t\n",
       "\tborder-left: 5px solid #800080; \n",
       "\tpadding: 0.5em;\n",
       "\tfont-size: 18pt;\n",
       "}\n",
       "div.gc { \n",
       "\tbackground-color: #AEDE94;\n",
       "\tborder-color: #E9967A; \t \n",
       "\tborder-left: 5px solid #800080; \n",
       "\tpadding: 0.5em;\n",
       "\tfont-size: 12pt;\n",
       "}\n",
       "p.q1 { \n",
       "    padding-top: 5px;\n",
       "    padding-bottom: 5px;\n",
       "    text-align: left; \n",
       "    padding-left: 5px;\n",
       "    background-color: #EEEEEE; \n",
       "    color: black;\n",
       "}\n",
       "header {\n",
       "   padding-top: 35px;\n",
       "    padding-bottom: 35px;\n",
       "    text-align: left; \n",
       "    padding-left: 10px;\n",
       "    background-color: #DDDDDD; \n",
       "    color: black;\n",
       "}\n",
       "</style>\n",
       "\n"
      ],
      "text/plain": [
       "<IPython.core.display.HTML object>"
      ]
     },
     "execution_count": 2,
     "metadata": {},
     "output_type": "execute_result"
    }
   ],
   "source": [
    "#RUN THIS CELL \n",
    "import requests\n",
    "from IPython.core.display import HTML\n",
    "styles = requests.get(\"https://raw.githubusercontent.com/Harvard-IACS/2018-CS109A/master/content/styles/cs109.css\").text\n",
    "HTML(styles)"
   ]
  },
  {
   "cell_type": "markdown",
   "metadata": {},
   "source": [
    "### INSTRUCTIONS\n",
    "\n",
    "- **This is an individual homework. No group collaboration.**\n",
    "- To submit your assignment follow the instructions given in Canvas.\n",
    "- Restart the kernel and run the whole notebook again before you submit. \n",
    "- As much as possible, try and stick to the hints and functions we import at the top of the homework, as those are the ideas and tools the class supports and is aiming to teach. And if a problem specifies a particular library you're required to use that library, and possibly others from the import list.\n",
    "- Please use .head() when viewing data. Do not submit a notebook that is excessively long because output was not suppressed or otherwise limited. "
   ]
  },
  {
   "cell_type": "code",
   "execution_count": 3,
   "metadata": {},
   "outputs": [],
   "source": [
    "import numpy as np\n",
    "import pandas as pd\n",
    "\n",
    "from sklearn.linear_model import LinearRegression\n",
    "from sklearn.linear_model import LogisticRegression\n",
    "from sklearn.linear_model import LogisticRegressionCV\n",
    "from sklearn.linear_model import LassoCV\n",
    "\n",
    "from sklearn.neighbors import KNeighborsClassifier\n",
    "from sklearn.model_selection import cross_val_score\n",
    "from sklearn.metrics import accuracy_score\n",
    "from sklearn.model_selection import KFold\n",
    "from sklearn.preprocessing import MinMaxScaler\n",
    "from sklearn.model_selection import train_test_split\n",
    "\n",
    "import matplotlib\n",
    "import matplotlib.pyplot as plt\n",
    "%matplotlib inline\n",
    "\n",
    "import zipfile\n",
    "\n",
    "\n",
    "import seaborn as sns\n",
    "sns.set()\n"
   ]
  },
  {
   "cell_type": "markdown",
   "metadata": {},
   "source": [
    "<div class='theme'> Cancer Classification from Gene Expressions </div>\n",
    "\n",
    "In this problem, we will build a classification model to distinguish between two related classes of cancer, acute lymphoblastic leukemia (ALL) and acute myeloid leukemia (AML), using gene expression measurements. The data set is provided in the file `data/dataset_hw4.csv`. Each row in this file corresponds to a tumor tissue sample from a patient with one of the two forms of Leukemia. The first column contains the cancer type, with **0 indicating the ALL** class and **1 indicating the AML** class. Columns 2-7130 contain expression levels of 7129 genes recorded from each tissue sample. \n",
    "\n",
    "In the following questions, we will use linear and logistic regression to build classification models for this data set. \n"
   ]
  },
  {
   "cell_type": "markdown",
   "metadata": {},
   "source": [
    "<div class='exercise'><b> Question 1 [20 pts]: Data Exploration </b></div>\n",
    "\n",
    "First step is to  split  the observations into an approximate 80-20 train-test split.  Below is some code to do this for you (we want to make sure everyone has the same splits). Print dataset shape before splitting and after splitting. `Cancer_type` is our target column.\n",
    "\n",
    "\n",
    "**1.1** Take a peek at your training set (show a glimpse of what you did): you should notice the severe differences in the measurements from one gene to the next (some are negative, some hover around zero, and some are well into the thousands).  To account for these differences in scale and variability, normalize each predictor to vary between 0 and 1.\n",
    "\n",
    "\n",
    "**1.2** The training set contains more predictors than observations. What problem(s) can this lead to in fitting a classification model to such a data set? Explain in 3 or fewer sentences.\n",
    "\n",
    "\n",
    "**1.3** Identify and report which 10 genes individually discriminate between the two cancer classes the best (consider every gene in the data set).  Note: it wil lbe useful to save this list for future parts.\n",
    "\n",
    "Plot two histograms ofyour best predictor - one using training and another for the testing dataset. Each histogram should clearly distinguish two different `Cancer_type` classes.\n",
    "\n",
    "Hint: You may use t-testing to make this determination: #https://en.wikipedia.org/wiki/Welch%27s_t-test.\n",
    "\n",
    "\n",
    "**1.4** Using your top gene from the previous part (call it  `best_predictor`), create a classification model by manually eye-balling a value for this gene that would discriminate the two classes the best. Justify your choice in 1-2 sentences. Report the accuracy of this hand-chosen model on the test set.\n",
    "\n",
    "<hr> <hr>"
   ]
  },
  {
   "cell_type": "markdown",
   "metadata": {},
   "source": [
    "<hr>\n",
    "### Solutions"
   ]
  },
  {
   "cell_type": "markdown",
   "metadata": {},
   "source": [
    "**First step is to split the observations into an approximate 80-20 train-test split. Below is some code to do this for you (we want to make sure everyone has the same splits). Print dataset shape before splitting and after splitting. `Cancer_type` is our target column.**"
   ]
  },
  {
   "cell_type": "code",
   "execution_count": 64,
   "metadata": {},
   "outputs": [],
   "source": [
    "# Split data into 80-20 train-test split\n",
    "np.random.seed(10)\n",
    "df = pd.read_csv('data/hw4_enhance.csv', index_col=0)\n",
    "\n",
    "\n",
    "X_train, X_test, y_train, y_test = train_test_split(df.loc[:, df.columns != 'Cancer_type'], \n",
    "                                                         df.Cancer_type, test_size=0.2, \n",
    "                                                         random_state = 109, \n",
    "                                                         stratify = df.Cancer_type)"
   ]
  },
  {
   "cell_type": "code",
   "execution_count": 65,
   "metadata": {},
   "outputs": [
    {
     "name": "stdout",
     "output_type": "stream",
     "text": [
      "Shape before splitting: (752, 7130)\n",
      "\n",
      "Training predictor data after splitting: (601, 7129) \n",
      "Testing predictor data after splitting: (151, 7129) \n",
      "Response training data after splitting: (601,) \n",
      "Response testing data after splitting: (151,)\n",
      "\n",
      "Proportion of ALL cases (0) vs. AML cases (1) across all data:\n",
      " 0.0    0.511968\n",
      "1.0    0.488032\n",
      "Name: Cancer_type, dtype: float64\n"
     ]
    }
   ],
   "source": [
    "# Print shape of data before splitting\n",
    "print('Shape before splitting:', df.shape)\n",
    "# Print shape of data after splitting\n",
    "print('\\nTraining predictor data after splitting:', X_train.shape, '\\nTesting predictor data after splitting:', X_test.shape, '\\nResponse training data after splitting:', y_train.shape, '\\nResponse testing data after splitting:', y_test.shape)\n",
    "print('\\nProportion of ALL cases (0) vs. AML cases (1) across all data:\\n',df.Cancer_type.value_counts(normalize=True))\n"
   ]
  },
  {
   "cell_type": "markdown",
   "metadata": {},
   "source": [
    "**1.1 Take a peek at your training set (show a glimpse of what you did): you should notice the severe differences in the measurements from one gene to the next (some are negative, some hover around zero, and some are well into the thousands).  To account for these differences in scale and variability, normalize each predictor to vary between 0 and 1.**\n"
   ]
  },
  {
   "cell_type": "code",
   "execution_count": 66,
   "metadata": {},
   "outputs": [
    {
     "name": "stdout",
     "output_type": "stream",
     "text": [
      "\n",
      "Inspect gene names:\n",
      " Index(['AFFX-BioB-5_at', 'AFFX-BioB-M_at', 'AFFX-BioB-3_at', 'AFFX-BioC-5_at',\n",
      "       'AFFX-BioC-3_at', 'AFFX-BioDn-5_at', 'AFFX-BioDn-3_at',\n",
      "       'AFFX-CreX-5_at', 'AFFX-CreX-3_at', 'AFFX-BioB-5_st',\n",
      "       ...\n",
      "       'U48730_at', 'U58516_at', 'U73738_at', 'X06956_at', 'X16699_at',\n",
      "       'X83863_at', 'Z17240_at', 'L49218_f_at', 'M71243_f_at', 'Z78285_f_at'],\n",
      "      dtype='object', length=7129)\n",
      "\n",
      "Inspect first few genes:\n",
      "      AFFX-BioB-5_at  AFFX-BioB-M_at  AFFX-BioB-3_at  AFFX-BioC-5_at  \\\n",
      "486      -83.669345     -129.202197       91.188553     -132.634919   \n",
      "604      -65.718571     -302.842019     -297.819728     -177.485917   \n",
      "341     -264.191248     -162.255274      127.997172      173.771779   \n",
      "117      -92.558574     -109.788332      379.542547      391.641129   \n",
      "516     -143.099813      140.202023     -147.163850      222.339115   \n",
      "\n",
      "     AFFX-BioC-3_at  AFFX-BioDn-5_at  AFFX-BioDn-3_at  AFFX-CreX-5_at  \\\n",
      "486     -416.659258      -566.248620      -549.255222     -208.415176   \n",
      "604      -52.709137      -218.295750       195.983474     -268.235930   \n",
      "341     -185.191211        40.011778     -1562.983106      -85.344926   \n",
      "117     -184.507364      -577.178389      -293.421369     -372.534572   \n",
      "516     -231.007621      -753.616356       274.500343     -217.513332   \n",
      "\n",
      "     AFFX-CreX-3_at  AFFX-BioB-5_st  ...   U48730_at   U58516_at   U73738_at  \\\n",
      "486      213.331881     -135.518811  ...  111.849800  371.083898  252.006568   \n",
      "604     -328.630912      240.058672  ...  252.867110  110.033722  203.197907   \n",
      "341     -119.622143      219.619110  ...   20.797496 -184.115075 -227.872398   \n",
      "117      190.551199     -487.331438  ...  180.678776  577.889184  -50.443125   \n",
      "516     -107.135509      -62.470938  ...  139.821329  909.588696   43.531613   \n",
      "\n",
      "      X06956_at   X16699_at    X83863_at   Z17240_at  L49218_f_at  \\\n",
      "486  963.153393    9.955941   142.181944  442.730023    42.848269   \n",
      "604  101.612259 -138.398658   245.767616  247.519122   -15.430358   \n",
      "341  140.876523   42.543763    28.594281  204.479474     9.831559   \n",
      "117  417.586154  -11.190519  1478.997020   15.923333   112.986515   \n",
      "516  718.462679  -58.238405   232.494165  754.787059   -58.160474   \n",
      "\n",
      "     M71243_f_at  Z78285_f_at  \n",
      "486   512.106908     4.677488  \n",
      "604  -398.165984   -61.694246  \n",
      "341    21.718266    19.522122  \n",
      "117  -107.706335   -25.673203  \n",
      "516  1808.764690   -20.782346  \n",
      "\n",
      "[5 rows x 7129 columns]\n",
      "\n",
      "Inspect predictor summary statistics:\n",
      "        AFFX-BioB-5_at  AFFX-BioB-M_at  AFFX-BioB-3_at  AFFX-BioC-5_at  \\\n",
      "count      601.000000      601.000000      601.000000      601.000000   \n",
      "mean      -115.860969     -160.846155       26.545301      209.733439   \n",
      "std        170.571929      188.676919      207.781982      202.987246   \n",
      "min       -894.789505    -1095.737090     -645.439001     -425.750627   \n",
      "25%       -222.586579     -270.502055      -95.000000       85.327810   \n",
      "50%       -105.139096     -145.829450       21.183690      207.291048   \n",
      "75%         -4.789696      -40.599329      127.821586      331.277808   \n",
      "max        516.618491      384.626762      748.233182     1022.560525   \n",
      "\n",
      "       AFFX-BioC-3_at  AFFX-BioDn-5_at  AFFX-BioDn-3_at  AFFX-CreX-5_at  \\\n",
      "count      601.000000       601.000000       601.000000      601.000000   \n",
      "mean      -248.992903      -405.422569       -24.135140     -188.491329   \n",
      "std        207.328054       261.112412       535.143398      163.077167   \n",
      "min      -1154.285694     -1091.492494     -2066.516448     -728.996262   \n",
      "25%       -379.048622      -567.547758      -338.435164     -302.872287   \n",
      "50%       -231.007621      -433.214742       -39.581881     -175.586059   \n",
      "75%       -116.000000      -252.587379       325.000000      -74.379003   \n",
      "max        308.876677       607.737258      1385.881293      263.634029   \n",
      "\n",
      "       AFFX-CreX-3_at  AFFX-BioB-5_st  ...   U48730_at    U58516_at  \\\n",
      "count      601.000000      601.000000  ...  601.000000   601.000000   \n",
      "mean        74.777098       97.436777  ...  161.766492   707.377318   \n",
      "std        174.693115      358.897719  ...  165.152970   526.644408   \n",
      "min       -770.025847    -1176.663615  ... -501.285884 -1010.430536   \n",
      "25%        -20.739507     -117.000000  ...   67.861184   361.596510   \n",
      "50%         90.170754      101.975176  ...  153.253301   679.935520   \n",
      "75%        190.551199      288.503617  ...  263.112797  1076.075567   \n",
      "max        589.778466     1355.537180  ...  686.321597  2522.188808   \n",
      "\n",
      "        U73738_at    X06956_at   X16699_at    X83863_at    Z17240_at  \\\n",
      "count  601.000000   601.000000  601.000000   601.000000   601.000000   \n",
      "mean     4.198787   421.466477  -50.023954   819.053113   329.803212   \n",
      "std    152.401188   589.914084  106.864078   814.898058   367.788891   \n",
      "min   -447.077819 -1870.955269 -432.967768 -2151.593119  -651.051441   \n",
      "25%    -88.660905    88.409441 -105.000000   270.198265    90.825501   \n",
      "50%      9.960900   381.000000  -35.000000   749.281111   296.978609   \n",
      "75%     96.051876   720.339588   19.775025  1286.343005   521.096719   \n",
      "max    481.820516  3982.980299  215.047697  3743.264860  1996.244626   \n",
      "\n",
      "       L49218_f_at  M71243_f_at  Z78285_f_at  \n",
      "count   601.000000   601.000000   601.000000  \n",
      "mean      8.803791   507.250039   -24.377549  \n",
      "std      85.397644   939.394188    71.102874  \n",
      "min    -255.419724 -2754.665185  -237.864216  \n",
      "25%     -40.391630   -50.785999   -73.000000  \n",
      "50%       7.968505   407.942117   -25.403427  \n",
      "75%      62.794411  1092.430279    19.740635  \n",
      "max     274.575647  3315.374276   224.773440  \n",
      "\n",
      "[8 rows x 7129 columns]\n",
      "\n",
      "Overall mean:\n",
      " 635.3829852628021\n",
      "\n",
      "Overall standard deviation:\n",
      " 2789.9074615610552\n"
     ]
    }
   ],
   "source": [
    "# Check predictor gene values before normalization\n",
    "print('\\nInspect gene names:\\n', X_train.columns) # Confirm that the columns are gene names\n",
    "print('\\nInspect first few genes:\\n', X_train.head()) # Overall there is much variability in the measurements of each gene even just in the first 5 measurements\n",
    "print('\\nInspect predictor summary statistics:\\n', X_train.describe()) # The mean measurement value for each gene varies considerably, as does the minimum and maximum values \n",
    "print('\\nOverall mean:\\n', X_train.stack().mean())\n",
    "print('\\nOverall standard deviation:\\n', X_train.stack().std()) # Standard deviation of measurements across all genes is much higher than the mean overall\n"
   ]
  },
  {
   "cell_type": "code",
   "execution_count": 67,
   "metadata": {},
   "outputs": [],
   "source": [
    "# Normalize values of each predictor\n",
    "#x_reshaped = np.array(X_train).reshape(-1,1) # reshape in order to pass data into MinMaxScaler for normalization\n",
    "#X_train_scaled = MinMaxScaler().fit_transform(x_reshaped)\n",
    "#X_train = pd.DataFrame(X_train_scaled.reshape(len(X_train),len(X_train.columns)),columns=X_train.columns) # convert X_train from an numpy.ndarray back into a dataframe \n",
    "scaler = MinMaxScaler().fit(X_train)\n",
    "\n",
    "X_train_scaled = pd.DataFrame(scaler.transform(X_train), columns = X_train.columns)"
   ]
  },
  {
   "cell_type": "code",
   "execution_count": 68,
   "metadata": {},
   "outputs": [
    {
     "name": "stdout",
     "output_type": "stream",
     "text": [
      "\n",
      "Inspect gene names:\n",
      " Index(['AFFX-BioB-5_at', 'AFFX-BioB-M_at', 'AFFX-BioB-3_at', 'AFFX-BioC-5_at',\n",
      "       'AFFX-BioC-3_at', 'AFFX-BioDn-5_at', 'AFFX-BioDn-3_at',\n",
      "       'AFFX-CreX-5_at', 'AFFX-CreX-3_at', 'AFFX-BioB-5_st',\n",
      "       ...\n",
      "       'U48730_at', 'U58516_at', 'U73738_at', 'X06956_at', 'X16699_at',\n",
      "       'X83863_at', 'Z17240_at', 'L49218_f_at', 'M71243_f_at', 'Z78285_f_at'],\n",
      "      dtype='object', length=7129)\n",
      "\n",
      "Inspect first few genes:\n",
      "    AFFX-BioB-5_at  AFFX-BioB-M_at  AFFX-BioB-3_at  AFFX-BioC-5_at  \\\n",
      "0        0.574689        0.652904        0.528552        0.202384   \n",
      "1        0.587407        0.535608        0.249427        0.171417   \n",
      "2        0.446787        0.630576        0.554963        0.413946   \n",
      "3        0.568391        0.666018        0.735454        0.564376   \n",
      "4        0.532581        0.834889        0.357527        0.447480   \n",
      "\n",
      "   AFFX-BioC-3_at  AFFX-BioDn-5_at  AFFX-BioDn-3_at  AFFX-CreX-5_at  \\\n",
      "0        0.504132         0.309107         0.439480        0.524446   \n",
      "1        0.752874         0.513878         0.655342        0.464181   \n",
      "2        0.662329         0.665892         0.145850        0.648430   \n",
      "3        0.662796         0.302675         0.513584        0.359108   \n",
      "4        0.631015         0.198841         0.678084        0.515280   \n",
      "\n",
      "   AFFX-CreX-3_at  AFFX-BioB-5_st  ...  U48730_at  U58516_at  U73738_at  \\\n",
      "0        0.723161        0.411162  ...   0.516278   0.391074   0.752595   \n",
      "1        0.324602        0.559483  ...   0.635019   0.317177   0.700050   \n",
      "2        0.478307        0.551411  ...   0.439609   0.233910   0.235984   \n",
      "3        0.706408        0.272227  ...   0.574234   0.449615   0.426995   \n",
      "4        0.487490        0.440010  ...   0.539831   0.543511   0.528163   \n",
      "\n",
      "   X06956_at  X16699_at  X83863_at  Z17240_at  L49218_f_at  M71243_f_at  \\\n",
      "0   0.484137   0.683508   0.389115   0.413169     0.562775     0.538180   \n",
      "1   0.336964   0.454571   0.406687   0.339430     0.452814     0.388218   \n",
      "2   0.343672   0.733797   0.369846   0.323172     0.500478     0.457391   \n",
      "3   0.390941   0.650875   0.615891   0.251946     0.695112     0.436069   \n",
      "4   0.442338   0.578272   0.404435   0.531047     0.372191     0.751796   \n",
      "\n",
      "   Z78285_f_at  \n",
      "0     0.524258  \n",
      "1     0.380795  \n",
      "2     0.556345  \n",
      "3     0.458655  \n",
      "4     0.469227  \n",
      "\n",
      "[5 rows x 7129 columns]\n",
      "\n",
      "Inspect predictor summary statistics:\n",
      "        AFFX-BioB-5_at  AFFX-BioB-M_at  AFFX-BioB-3_at  AFFX-BioC-5_at  \\\n",
      "count      601.000000      601.000000      601.000000      601.000000   \n",
      "mean         0.551880        0.631528        0.482168        0.438776   \n",
      "std          0.120852        0.127453        0.149090        0.140154   \n",
      "min          0.000000        0.000000        0.000000        0.000000   \n",
      "25%          0.476264        0.557454        0.394956        0.352879   \n",
      "50%          0.559477        0.641672        0.478321        0.437090   \n",
      "75%          0.630576        0.712756        0.554837        0.522697   \n",
      "max          1.000000        1.000000        1.000000        1.000000   \n",
      "\n",
      "       AFFX-BioC-3_at  AFFX-BioDn-5_at  AFFX-BioDn-3_at  AFFX-CreX-5_at  \\\n",
      "count      601.000000       601.000000       601.000000      601.000000   \n",
      "mean         0.618723         0.403753         0.591583        0.544518   \n",
      "std          0.141699         0.153665         0.155006        0.164288   \n",
      "min          0.000000         0.000000         0.000000        0.000000   \n",
      "25%          0.529837         0.308342         0.500545        0.429288   \n",
      "50%          0.631015         0.387398         0.587109        0.557519   \n",
      "75%          0.709618         0.493697         0.692712        0.659477   \n",
      "max          1.000000         1.000000         1.000000        1.000000   \n",
      "\n",
      "       AFFX-CreX-3_at  AFFX-BioB-5_st  ...   U48730_at   U58516_at  \\\n",
      "count      601.000000      601.000000  ...  601.000000  601.000000   \n",
      "mean         0.621268        0.503159  ...    0.558309    0.486270   \n",
      "std          0.128469        0.141734  ...    0.139064    0.149080   \n",
      "min          0.000000        0.000000  ...    0.000000    0.000000   \n",
      "25%          0.551025        0.418475  ...    0.479238    0.388388   \n",
      "50%          0.632589        0.504952  ...    0.551141    0.478502   \n",
      "75%          0.706408        0.578614  ...    0.643646    0.590640   \n",
      "max          1.000000        1.000000  ...    1.000000    1.000000   \n",
      "\n",
      "        U73738_at   X06956_at   X16699_at   X83863_at   Z17240_at  \\\n",
      "count  601.000000  601.000000  601.000000  601.000000  601.000000   \n",
      "mean     0.485819    0.391604    0.590949    0.503939    0.370512   \n",
      "std      0.164067    0.100772    0.164910    0.138239    0.138930   \n",
      "min      0.000000    0.000000    0.000000    0.000000    0.000000   \n",
      "25%      0.385852    0.334709    0.506111    0.410831    0.280240   \n",
      "50%      0.492022    0.384691    0.614133    0.492102    0.358113   \n",
      "75%      0.584703    0.442659    0.698660    0.583209    0.442772   \n",
      "max      1.000000    1.000000    1.000000    1.000000    1.000000   \n",
      "\n",
      "       L49218_f_at  M71243_f_at  Z78285_f_at  \n",
      "count   601.000000   601.000000   601.000000  \n",
      "mean      0.498539     0.537380     0.461455  \n",
      "std       0.161129     0.154759     0.153690  \n",
      "min       0.000000     0.000000     0.000000  \n",
      "25%       0.405717     0.445447     0.356357  \n",
      "50%       0.496963     0.521019     0.459238  \n",
      "75%       0.600409     0.633784     0.556818  \n",
      "max       1.000000     1.000000     1.000000  \n",
      "\n",
      "[8 rows x 7129 columns]\n",
      "\n",
      "Overall mean:\n",
      " 0.48507921260589537\n",
      "\n",
      "Overall standard deviation:\n",
      " 0.1619663206392801\n"
     ]
    }
   ],
   "source": [
    "# Check predictor gene values after normalization\n",
    "print('\\nInspect gene names:\\n', X_train_scaled.columns) # Confirm that the columns are gene names\n",
    "print('\\nInspect first few genes:\\n', X_train_scaled.head()) # Overall there is less variability in the measurements of each gene even just in the first 5 measurements\n",
    "print('\\nInspect predictor summary statistics:\\n', X_train_scaled.describe()) # The mean measurement value for each gene does not vary considerably; max and min values are 1 and 0, respectively\n",
    "print('\\nOverall mean:\\n', X_train_scaled.stack().mean())\n",
    "print('\\nOverall standard deviation:\\n', X_train_scaled.stack().std()) # Standard deviation of measurements across all genes is not much higher than the mean overall\n"
   ]
  },
  {
   "cell_type": "code",
   "execution_count": 121,
   "metadata": {},
   "outputs": [],
   "source": [
    "# Also normalize predictors in the testing data\n",
    "# should it be X_test in the fit_transform or should it be X_train here? Want to normalize according to the training data\n",
    "\n",
    "#X_test_scaled = pd.DataFrame(MinMaxScaler().fit_transform(df.loc[:, df.columns != 'Cancer_type']), columns=X_test.columns)\n",
    "\n",
    "X_test_scaled = pd.DataFrame(scaler.transform(X_test), columns=X_test.columns)"
   ]
  },
  {
   "cell_type": "code",
   "execution_count": 122,
   "metadata": {},
   "outputs": [
    {
     "data": {
      "text/html": [
       "<div>\n",
       "<style scoped>\n",
       "    .dataframe tbody tr th:only-of-type {\n",
       "        vertical-align: middle;\n",
       "    }\n",
       "\n",
       "    .dataframe tbody tr th {\n",
       "        vertical-align: top;\n",
       "    }\n",
       "\n",
       "    .dataframe thead th {\n",
       "        text-align: right;\n",
       "    }\n",
       "</style>\n",
       "<table border=\"1\" class=\"dataframe\">\n",
       "  <thead>\n",
       "    <tr style=\"text-align: right;\">\n",
       "      <th></th>\n",
       "      <th>AFFX-BioB-5_at</th>\n",
       "      <th>AFFX-BioB-M_at</th>\n",
       "      <th>AFFX-BioB-3_at</th>\n",
       "      <th>AFFX-BioC-5_at</th>\n",
       "      <th>AFFX-BioC-3_at</th>\n",
       "      <th>AFFX-BioDn-5_at</th>\n",
       "      <th>AFFX-BioDn-3_at</th>\n",
       "      <th>AFFX-CreX-5_at</th>\n",
       "      <th>AFFX-CreX-3_at</th>\n",
       "      <th>AFFX-BioB-5_st</th>\n",
       "      <th>...</th>\n",
       "      <th>U48730_at</th>\n",
       "      <th>U58516_at</th>\n",
       "      <th>U73738_at</th>\n",
       "      <th>X06956_at</th>\n",
       "      <th>X16699_at</th>\n",
       "      <th>X83863_at</th>\n",
       "      <th>Z17240_at</th>\n",
       "      <th>L49218_f_at</th>\n",
       "      <th>M71243_f_at</th>\n",
       "      <th>Z78285_f_at</th>\n",
       "    </tr>\n",
       "  </thead>\n",
       "  <tbody>\n",
       "    <tr>\n",
       "      <th>count</th>\n",
       "      <td>151.000000</td>\n",
       "      <td>151.000000</td>\n",
       "      <td>151.000000</td>\n",
       "      <td>151.000000</td>\n",
       "      <td>151.000000</td>\n",
       "      <td>151.000000</td>\n",
       "      <td>151.000000</td>\n",
       "      <td>151.000000</td>\n",
       "      <td>151.000000</td>\n",
       "      <td>151.000000</td>\n",
       "      <td>...</td>\n",
       "      <td>151.000000</td>\n",
       "      <td>151.000000</td>\n",
       "      <td>151.000000</td>\n",
       "      <td>151.000000</td>\n",
       "      <td>151.000000</td>\n",
       "      <td>151.000000</td>\n",
       "      <td>151.000000</td>\n",
       "      <td>151.000000</td>\n",
       "      <td>151.000000</td>\n",
       "      <td>151.000000</td>\n",
       "    </tr>\n",
       "    <tr>\n",
       "      <th>mean</th>\n",
       "      <td>0.558739</td>\n",
       "      <td>0.628584</td>\n",
       "      <td>0.483741</td>\n",
       "      <td>0.433760</td>\n",
       "      <td>0.611364</td>\n",
       "      <td>0.372105</td>\n",
       "      <td>0.575820</td>\n",
       "      <td>0.523991</td>\n",
       "      <td>0.631786</td>\n",
       "      <td>0.517030</td>\n",
       "      <td>...</td>\n",
       "      <td>0.556287</td>\n",
       "      <td>0.508939</td>\n",
       "      <td>0.464691</td>\n",
       "      <td>0.392301</td>\n",
       "      <td>0.604984</td>\n",
       "      <td>0.531941</td>\n",
       "      <td>0.394276</td>\n",
       "      <td>0.515471</td>\n",
       "      <td>0.515281</td>\n",
       "      <td>0.454457</td>\n",
       "    </tr>\n",
       "    <tr>\n",
       "      <th>std</th>\n",
       "      <td>0.122118</td>\n",
       "      <td>0.138197</td>\n",
       "      <td>0.147509</td>\n",
       "      <td>0.134576</td>\n",
       "      <td>0.141210</td>\n",
       "      <td>0.138466</td>\n",
       "      <td>0.140544</td>\n",
       "      <td>0.152170</td>\n",
       "      <td>0.114369</td>\n",
       "      <td>0.146962</td>\n",
       "      <td>...</td>\n",
       "      <td>0.121811</td>\n",
       "      <td>0.150016</td>\n",
       "      <td>0.152998</td>\n",
       "      <td>0.105910</td>\n",
       "      <td>0.150592</td>\n",
       "      <td>0.129336</td>\n",
       "      <td>0.136484</td>\n",
       "      <td>0.145916</td>\n",
       "      <td>0.150673</td>\n",
       "      <td>0.135950</td>\n",
       "    </tr>\n",
       "    <tr>\n",
       "      <th>min</th>\n",
       "      <td>0.222337</td>\n",
       "      <td>0.052362</td>\n",
       "      <td>0.124898</td>\n",
       "      <td>0.105928</td>\n",
       "      <td>0.071105</td>\n",
       "      <td>0.050836</td>\n",
       "      <td>0.156020</td>\n",
       "      <td>0.039091</td>\n",
       "      <td>0.320783</td>\n",
       "      <td>0.206945</td>\n",
       "      <td>...</td>\n",
       "      <td>0.201957</td>\n",
       "      <td>0.070354</td>\n",
       "      <td>0.172558</td>\n",
       "      <td>0.181925</td>\n",
       "      <td>0.141525</td>\n",
       "      <td>0.149185</td>\n",
       "      <td>0.120792</td>\n",
       "      <td>0.140083</td>\n",
       "      <td>0.166168</td>\n",
       "      <td>0.054844</td>\n",
       "    </tr>\n",
       "    <tr>\n",
       "      <th>25%</th>\n",
       "      <td>0.499868</td>\n",
       "      <td>0.548335</td>\n",
       "      <td>0.388016</td>\n",
       "      <td>0.345367</td>\n",
       "      <td>0.521641</td>\n",
       "      <td>0.273796</td>\n",
       "      <td>0.489531</td>\n",
       "      <td>0.422420</td>\n",
       "      <td>0.560308</td>\n",
       "      <td>0.435264</td>\n",
       "      <td>...</td>\n",
       "      <td>0.484829</td>\n",
       "      <td>0.403865</td>\n",
       "      <td>0.355955</td>\n",
       "      <td>0.334083</td>\n",
       "      <td>0.513409</td>\n",
       "      <td>0.455015</td>\n",
       "      <td>0.306536</td>\n",
       "      <td>0.418288</td>\n",
       "      <td>0.426565</td>\n",
       "      <td>0.368567</td>\n",
       "    </tr>\n",
       "    <tr>\n",
       "      <th>50%</th>\n",
       "      <td>0.560659</td>\n",
       "      <td>0.642539</td>\n",
       "      <td>0.460060</td>\n",
       "      <td>0.434223</td>\n",
       "      <td>0.627556</td>\n",
       "      <td>0.361920</td>\n",
       "      <td>0.573224</td>\n",
       "      <td>0.539889</td>\n",
       "      <td>0.625199</td>\n",
       "      <td>0.505667</td>\n",
       "      <td>...</td>\n",
       "      <td>0.558503</td>\n",
       "      <td>0.486221</td>\n",
       "      <td>0.469452</td>\n",
       "      <td>0.383539</td>\n",
       "      <td>0.599456</td>\n",
       "      <td>0.523538</td>\n",
       "      <td>0.375118</td>\n",
       "      <td>0.521046</td>\n",
       "      <td>0.502907</td>\n",
       "      <td>0.449302</td>\n",
       "    </tr>\n",
       "    <tr>\n",
       "      <th>75%</th>\n",
       "      <td>0.637131</td>\n",
       "      <td>0.711483</td>\n",
       "      <td>0.581579</td>\n",
       "      <td>0.522510</td>\n",
       "      <td>0.689237</td>\n",
       "      <td>0.469692</td>\n",
       "      <td>0.647892</td>\n",
       "      <td>0.634494</td>\n",
       "      <td>0.713072</td>\n",
       "      <td>0.592525</td>\n",
       "      <td>...</td>\n",
       "      <td>0.628399</td>\n",
       "      <td>0.610960</td>\n",
       "      <td>0.562807</td>\n",
       "      <td>0.426880</td>\n",
       "      <td>0.707865</td>\n",
       "      <td>0.613968</td>\n",
       "      <td>0.486736</td>\n",
       "      <td>0.620235</td>\n",
       "      <td>0.601599</td>\n",
       "      <td>0.521765</td>\n",
       "    </tr>\n",
       "    <tr>\n",
       "      <th>max</th>\n",
       "      <td>0.866908</td>\n",
       "      <td>0.890931</td>\n",
       "      <td>0.962346</td>\n",
       "      <td>0.809448</td>\n",
       "      <td>1.083614</td>\n",
       "      <td>0.707036</td>\n",
       "      <td>0.935497</td>\n",
       "      <td>0.920072</td>\n",
       "      <td>0.948824</td>\n",
       "      <td>1.135258</td>\n",
       "      <td>...</td>\n",
       "      <td>0.904706</td>\n",
       "      <td>0.956029</td>\n",
       "      <td>0.930731</td>\n",
       "      <td>0.837301</td>\n",
       "      <td>0.964234</td>\n",
       "      <td>0.856707</td>\n",
       "      <td>0.771090</td>\n",
       "      <td>0.860715</td>\n",
       "      <td>1.030505</td>\n",
       "      <td>0.867071</td>\n",
       "    </tr>\n",
       "  </tbody>\n",
       "</table>\n",
       "<p>8 rows × 7129 columns</p>\n",
       "</div>"
      ],
      "text/plain": [
       "       AFFX-BioB-5_at  AFFX-BioB-M_at  AFFX-BioB-3_at  AFFX-BioC-5_at  \\\n",
       "count      151.000000      151.000000      151.000000      151.000000   \n",
       "mean         0.558739        0.628584        0.483741        0.433760   \n",
       "std          0.122118        0.138197        0.147509        0.134576   \n",
       "min          0.222337        0.052362        0.124898        0.105928   \n",
       "25%          0.499868        0.548335        0.388016        0.345367   \n",
       "50%          0.560659        0.642539        0.460060        0.434223   \n",
       "75%          0.637131        0.711483        0.581579        0.522510   \n",
       "max          0.866908        0.890931        0.962346        0.809448   \n",
       "\n",
       "       AFFX-BioC-3_at  AFFX-BioDn-5_at  AFFX-BioDn-3_at  AFFX-CreX-5_at  \\\n",
       "count      151.000000       151.000000       151.000000      151.000000   \n",
       "mean         0.611364         0.372105         0.575820        0.523991   \n",
       "std          0.141210         0.138466         0.140544        0.152170   \n",
       "min          0.071105         0.050836         0.156020        0.039091   \n",
       "25%          0.521641         0.273796         0.489531        0.422420   \n",
       "50%          0.627556         0.361920         0.573224        0.539889   \n",
       "75%          0.689237         0.469692         0.647892        0.634494   \n",
       "max          1.083614         0.707036         0.935497        0.920072   \n",
       "\n",
       "       AFFX-CreX-3_at  AFFX-BioB-5_st  ...   U48730_at   U58516_at  \\\n",
       "count      151.000000      151.000000  ...  151.000000  151.000000   \n",
       "mean         0.631786        0.517030  ...    0.556287    0.508939   \n",
       "std          0.114369        0.146962  ...    0.121811    0.150016   \n",
       "min          0.320783        0.206945  ...    0.201957    0.070354   \n",
       "25%          0.560308        0.435264  ...    0.484829    0.403865   \n",
       "50%          0.625199        0.505667  ...    0.558503    0.486221   \n",
       "75%          0.713072        0.592525  ...    0.628399    0.610960   \n",
       "max          0.948824        1.135258  ...    0.904706    0.956029   \n",
       "\n",
       "        U73738_at   X06956_at   X16699_at   X83863_at   Z17240_at  \\\n",
       "count  151.000000  151.000000  151.000000  151.000000  151.000000   \n",
       "mean     0.464691    0.392301    0.604984    0.531941    0.394276   \n",
       "std      0.152998    0.105910    0.150592    0.129336    0.136484   \n",
       "min      0.172558    0.181925    0.141525    0.149185    0.120792   \n",
       "25%      0.355955    0.334083    0.513409    0.455015    0.306536   \n",
       "50%      0.469452    0.383539    0.599456    0.523538    0.375118   \n",
       "75%      0.562807    0.426880    0.707865    0.613968    0.486736   \n",
       "max      0.930731    0.837301    0.964234    0.856707    0.771090   \n",
       "\n",
       "       L49218_f_at  M71243_f_at  Z78285_f_at  \n",
       "count   151.000000   151.000000   151.000000  \n",
       "mean      0.515471     0.515281     0.454457  \n",
       "std       0.145916     0.150673     0.135950  \n",
       "min       0.140083     0.166168     0.054844  \n",
       "25%       0.418288     0.426565     0.368567  \n",
       "50%       0.521046     0.502907     0.449302  \n",
       "75%       0.620235     0.601599     0.521765  \n",
       "max       0.860715     1.030505     0.867071  \n",
       "\n",
       "[8 rows x 7129 columns]"
      ]
     },
     "execution_count": 122,
     "metadata": {},
     "output_type": "execute_result"
    }
   ],
   "source": [
    "# Check that normalizing was successful (max should be 1 and min 0 for each predictor)\n",
    "X_test_scaled.describe()"
   ]
  },
  {
   "cell_type": "markdown",
   "metadata": {},
   "source": [
    "**1.2 The training set contains more predictors than observations. What problem(s) can this lead to in fitting a classification model to such a data set? Explain in 3 or fewer sentences.**"
   ]
  },
  {
   "cell_type": "markdown",
   "metadata": {},
   "source": [
    "If there are more predictors than observations, the ????????????????????????????????"
   ]
  },
  {
   "cell_type": "markdown",
   "metadata": {},
   "source": [
    "**1.3** **Identify and report which 10 genes individually discriminate between the two cancer classes the best (consider every gene in the data set).  Note: it wil lbe useful to save this list for future parts.**\n",
    "\n",
    "**Plot two histograms of your best predictor - one using training and another for the testing dataset. Each histogram should clearly distinguish two different `Cancer_type` classes.**\n",
    "\n",
    "**Hint: You may use t-testing to make this determination: #https://en.wikipedia.org/wiki/Welch%27s_t-test.**"
   ]
  },
  {
   "cell_type": "code",
   "execution_count": 71,
   "metadata": {},
   "outputs": [
    {
     "name": "stderr",
     "output_type": "stream",
     "text": [
      "//anaconda3/envs/cs109a/lib/python3.7/site-packages/pandas/core/series.py:942: FutureWarning: \n",
      "Passing list-likes to .loc or [] with any missing label will raise\n",
      "KeyError in the future, you can use .reindex() as an alternative.\n",
      "\n",
      "See the documentation here:\n",
      "https://pandas.pydata.org/pandas-docs/stable/indexing.html#deprecate-loc-reindex-listlike\n",
      "  return self.loc[key]\n"
     ]
    }
   ],
   "source": [
    "# Check whether there is a significant difference in measurement value for each gene individually between ALL and AML cases using training data and visualize the dicriminatory effect of the most differential gene in the testing set as well\n",
    "\n",
    "ALL_y_train = y_train[y_train == 0].index\n",
    "AML_y_train = y_train[y_train == 1].index\n",
    "t_stat_list = []\n",
    "\n",
    "for column in X_train_scaled.columns:\n",
    "        ALL_group = X_train_scaled[column][ALL_y_train]\n",
    "        AML_group = X_train_scaled[column][AML_y_train]\n",
    "        numerator = np.abs(ALL_group.mean() - AML_group.mean())\n",
    "        ALL_sd = ALL_group.std()\n",
    "        AML_sd = AML_group.std()\n",
    "        denom = np.sqrt((ALL_sd**2)/len(ALL_group) + (AML_sd**2)/len(AML_group))\n",
    "        t_stat = numerator/denom\n",
    "        t_stat_list.append(t_stat)       "
   ]
  },
  {
   "cell_type": "code",
   "execution_count": 72,
   "metadata": {},
   "outputs": [],
   "source": [
    "# Show t statistics assessing difference in measurement values between ALL and AML cases for every gene as a dataframe\n",
    "d = {'gene': X_train_scaled.columns, 't_stat': t_stat_list}\n",
    "gene_t_stats = pd.DataFrame(d)"
   ]
  },
  {
   "cell_type": "code",
   "execution_count": 73,
   "metadata": {},
   "outputs": [
    {
     "data": {
      "text/plain": [
       "4.933805910802824"
      ]
     },
     "execution_count": 73,
     "metadata": {},
     "output_type": "execute_result"
    }
   ],
   "source": [
    "gene_t_stats['t_stat'].max()"
   ]
  },
  {
   "cell_type": "code",
   "execution_count": 74,
   "metadata": {},
   "outputs": [
    {
     "data": {
      "text/html": [
       "<div>\n",
       "<style scoped>\n",
       "    .dataframe tbody tr th:only-of-type {\n",
       "        vertical-align: middle;\n",
       "    }\n",
       "\n",
       "    .dataframe tbody tr th {\n",
       "        vertical-align: top;\n",
       "    }\n",
       "\n",
       "    .dataframe thead th {\n",
       "        text-align: right;\n",
       "    }\n",
       "</style>\n",
       "<table border=\"1\" class=\"dataframe\">\n",
       "  <thead>\n",
       "    <tr style=\"text-align: right;\">\n",
       "      <th></th>\n",
       "      <th>gene</th>\n",
       "      <th>t_stat</th>\n",
       "    </tr>\n",
       "  </thead>\n",
       "  <tbody>\n",
       "    <tr>\n",
       "      <th>306</th>\n",
       "      <td>D26067_at</td>\n",
       "      <td>4.933806</td>\n",
       "    </tr>\n",
       "  </tbody>\n",
       "</table>\n",
       "</div>"
      ],
      "text/plain": [
       "          gene    t_stat\n",
       "306  D26067_at  4.933806"
      ]
     },
     "execution_count": 74,
     "metadata": {},
     "output_type": "execute_result"
    }
   ],
   "source": [
    "gene_t_stats.loc[gene_t_stats['gene'] == 'D26067_at']"
   ]
  },
  {
   "cell_type": "code",
   "execution_count": 75,
   "metadata": {},
   "outputs": [
    {
     "name": "stdout",
     "output_type": "stream",
     "text": [
      "Top 10 most differential genes:\n",
      " ['U56085_at', 'M17446_s_at', 'Z46632_r_at', 'U83411_at', 'J00220_cds4_at', 'M81650_rna1_at', 'J05401_at', 'L13744_at', 'X87160_at', 'D26067_at']\n",
      "Best predictor gene:\n",
      " ['D26067_at']\n"
     ]
    }
   ],
   "source": [
    "# Find top 10 most differential genes\n",
    "\n",
    "# Find index values for top 10 t statistics (already these are all positive because the absolute value was taken when calculating t statistic)\n",
    "top_10_index = np.argsort(t_stat_list)[-10:]\n",
    "print('Top 10 most differential genes:\\n', list(X_train_scaled.iloc[:,top_10_index].columns))\n",
    "\n",
    "top_1_index = np.argsort(t_stat_list)[-1:]\n",
    "print('Best predictor gene:\\n', list(X_train_scaled.iloc[:,top_1_index].columns))"
   ]
  },
  {
   "cell_type": "code",
   "execution_count": 96,
   "metadata": {},
   "outputs": [
    {
     "data": {
      "text/plain": [
       "306    D26067_at\n",
       "Name: gene, dtype: object"
      ]
     },
     "execution_count": 96,
     "metadata": {},
     "output_type": "execute_result"
    }
   ],
   "source": [
    "# Confirm that gene with max t statistic \n",
    "gene_t_stats.loc[gene_t_stats['t_stat'] == gene_t_stats['t_stat'].max()]['gene']"
   ]
  },
  {
   "cell_type": "code",
   "execution_count": 139,
   "metadata": {},
   "outputs": [
    {
     "name": "stderr",
     "output_type": "stream",
     "text": [
      "//anaconda3/envs/cs109a/lib/python3.7/site-packages/pandas/core/indexing.py:1494: FutureWarning: \n",
      "Passing list-likes to .loc or [] with any missing label will raise\n",
      "KeyError in the future, you can use .reindex() as an alternative.\n",
      "\n",
      "See the documentation here:\n",
      "https://pandas.pydata.org/pandas-docs/stable/indexing.html#deprecate-loc-reindex-listlike\n",
      "  return self._getitem_tuple(key)\n",
      "//anaconda3/envs/cs109a/lib/python3.7/site-packages/numpy/lib/histograms.py:824: RuntimeWarning: invalid value encountered in greater_equal\n",
      "  keep = (tmp_a >= first_edge)\n",
      "//anaconda3/envs/cs109a/lib/python3.7/site-packages/numpy/lib/histograms.py:825: RuntimeWarning: invalid value encountered in less_equal\n",
      "  keep &= (tmp_a <= last_edge)\n"
     ]
    },
    {
     "data": {
      "image/png": "[encoded data removed]",
      "text/plain": [
       "<Figure size 1728x360 with 2 Axes>"
      ]
     },
     "metadata": {},
     "output_type": "display_data"
    }
   ],
   "source": [
    "# Find ALL and AML cases in test data\n",
    "ALL_y_test = y_test[y_test == 0].index\n",
    "AML_y_test = y_test[y_test == 1].index\n",
    "\n",
    "# Make histograms of measurement value for best predictor gene in order to observe that measurements differ between ALL and AML cases\n",
    "fig, ax = plt.subplots(nrows=1, ncols=2, figsize=(24,5))\n",
    "ax = ax.ravel()\n",
    "\n",
    "ax[0].hist(X_train_scaled.loc[ALL_y_train,list(X_train_scaled.iloc[:,top_1_index].columns)].values, alpha = 0.5, bins=5, label=\"ALL cases\"); # Data for ALL cases\n",
    "ax[0].hist(X_train_scaled.loc[AML_y_train,list(X_train_scaled.iloc[:,top_1_index].columns)].values, alpha = 0.5, bins=5, label=\"AML cases\"); # Data for AML cases\n",
    "ax[0].set_title('Training set measurement values for most differential gene ({}) between ALL and AML cases'.format(X_train_scaled.iloc[:,top_1_index].columns[0]))\n",
    "ax[0].set_xlabel('Measurement value');\n",
    "ax[0].set_ylabel('Frequency');\n",
    "ax[0].legend();\n",
    "\n",
    "ax[1].hist(X_test_scaled.loc[ALL_y_test,list(X_test_scaled.iloc[:,top_1_index].columns)].values, alpha = 0.5, bins=5, label=\"ALL cases\"); # Data for ALL cases\n",
    "ax[1].hist(X_test_scaled.loc[AML_y_test,list(X_test_scaled.iloc[:,top_1_index].columns)].values, alpha = 0.5, bins=5, label=\"AML cases\"); # Data for AML cases\n",
    "ax[1].set_title('Testing set measurement values for most differential gene ({}) between ALL and AML cases'.format(X_test_scaled.iloc[:,top_1_index].columns[0]))\n",
    "ax[1].set_xlabel('Measurement value');\n",
    "ax[1].set_ylabel('Frequency');\n",
    "ax[1].legend();\n"
   ]
  },
  {
   "cell_type": "markdown",
   "metadata": {},
   "source": [
    "**1.4 Using your top gene from the previous part (call it  `best_predictor`), create a classification model by eye-balling a value for this gene that would discriminate the two classes the best. Justify your choice in 1-2 sentences. Report the accuracy of this hand-chosen model on the test set.**\n"
   ]
  },
  {
   "cell_type": "code",
   "execution_count": 98,
   "metadata": {},
   "outputs": [
    {
     "name": "stdout",
     "output_type": "stream",
     "text": [
      "306    D26067_at\n",
      "Name: gene, dtype: object\n"
     ]
    }
   ],
   "source": [
    "# Choose best predictor \n",
    "\n",
    "best_predictor = gene_t_stats.loc[gene_t_stats['t_stat'] == gene_t_stats['t_stat'].max()]['gene']\n",
    "print(best_predictor)"
   ]
  },
  {
   "cell_type": "markdown",
   "metadata": {},
   "source": [
    "In order to discriminate between the two classes, I would choose 0.5 as the cutoff (normalized) measurement value such that patients with normalized measurement values >0.5 for this best_predictor gene would be classified as an ALL case and patients with normalized measurement values <=0.5 for this best_predictor gene would be classified as an AML case. This split is based on the training set data (since the peaks of the orange and blue histograms in the left panel occur on opposite sides of the line x = 0.5) and has an accuracy of 0.43 on the test set (as calculated below). "
   ]
  },
  {
   "cell_type": "code",
   "execution_count": 140,
   "metadata": {},
   "outputs": [
    {
     "data": {
      "text/plain": [
       "0.4304635761589404"
      ]
     },
     "execution_count": 140,
     "metadata": {},
     "output_type": "execute_result"
    }
   ],
   "source": [
    "# Accuracy of model is proportion of correct predictions\n",
    "\n",
    "# Proportion of correct AML cases (1s)\n",
    "accuracy_score(y_test, np.round(X_test_scaled.loc[:,list(X_test_scaled.iloc[:,top_1_index].columns)].values))\n",
    "\n",
    "\n",
    "# Proportion of correct ALL cases (0s)"
   ]
  },
  {
   "cell_type": "markdown",
   "metadata": {},
   "source": [
    "<div class='exercise'><b> Question 2 [25 pts]: Linear and Logistic Regression  </b></div>\n",
    "\n",
    "\n",
    "In class we discussed how to use both linear regression and logistic regression for classification. For this question, you will work with a single gene predictor that you identify as the best predictor above to explore these two methods.\n",
    "\n",
    "**2.1** Fit a simple linear regression model to the training set using the single gene predictor `best_predictor` to predict cancer type. The scores predicted by the regression model for a patient could be interpreted as an estimate of the probability that the patient has Cancer_type=1 (AML). Is there a problem with this interpretation?\n",
    "\n",
    "\n",
    "Create a figure with following items displayed on the same plot (use training data):\n",
    " - the predicted quantitative response from the linear regression model as a function of the best gene predictor\n",
    " - the true binary response. \n",
    "\n",
    "\n",
    "**2.2** Use your estimated linear regression model to classify observations into 0 and 1 using the standard Bayes' classifier.  Evaluate the classification accuracy of this classification model on both the training and test sets.\n",
    "\n",
    "\n",
    "**2.3** Next, fit a simple logistic regression model to the training set. How do the training and test classification accuracies of this model compare with the linear regression model? \n",
    "\n",
    "Remember, you need to set the regularization parameter for sklearn's logistic regression function to be a very large value in order to **not** regularize (use 'C=100000'). \n",
    "\n",
    "\n",
    "**2.4** \n",
    "Print and interpret the logistic regression coefficients: the 'slope' and intercept. \n",
    "\n",
    "\n",
    "Create 2 plots (one each for training and testing data) with 4 items displayed on each plot.\n",
    "- the predicted quantitative response from the linear regression model as a function of the best gene predictor.\n",
    "- the predicted probabilities of the logistic regression model as a function of the best gene predictor. \n",
    "- the true binary response. \n",
    "- a horizontal line at $y=0.5$. \n",
    "\n",
    "Based on these plots, does one of the models appear better suited for binary classification than the other?  Explain in 3 sentences or fewer. \n",
    "\n"
   ]
  },
  {
   "cell_type": "markdown",
   "metadata": {},
   "source": [
    "<hr>\n",
    "### Solutions"
   ]
  },
  {
   "cell_type": "markdown",
   "metadata": {},
   "source": [
    "**2.1** **Fit a simple linear regression model to the training set using the single gene predictor `best_predictor` to predict cancer type. The scores predicted by the regression model for a patient could be interpreted as an estimate of the probability that the patient has Cancer_type=1 (AML).  Is there a problem with this interpretation?**\n",
    "\n"
   ]
  },
  {
   "cell_type": "code",
   "execution_count": 76,
   "metadata": {},
   "outputs": [
    {
     "data": {
      "text/plain": [
       "((601,), (601, 1))"
      ]
     },
     "execution_count": 76,
     "metadata": {},
     "output_type": "execute_result"
    }
   ],
   "source": [
    "X_train_scaled_reshape = np.array(X_train_scaled.iloc[:,top_1_index]).reshape(X_train_scaled.iloc[:,top_1_index].shape[0], 1)\n",
    "y_train.shape, X_train_scaled_reshape.shape"
   ]
  },
  {
   "cell_type": "code",
   "execution_count": 159,
   "metadata": {},
   "outputs": [
    {
     "data": {
      "text/plain": [
       "((151,), (151, 1))"
      ]
     },
     "execution_count": 159,
     "metadata": {},
     "output_type": "execute_result"
    }
   ],
   "source": [
    "X_test_scaled_reshape = np.array(X_test_scaled.iloc[:,top_1_index]).reshape(X_test_scaled.iloc[:,top_1_index].shape[0], 1)\n",
    "y_test.shape, X_test_scaled_reshape.shape"
   ]
  },
  {
   "cell_type": "code",
   "execution_count": 160,
   "metadata": {},
   "outputs": [
    {
     "name": "stdout",
     "output_type": "stream",
     "text": [
      "R^2 = 0.055611\n"
     ]
    }
   ],
   "source": [
    "#create linear model\n",
    "regression = LinearRegression()\n",
    "\n",
    "#fit linear model\n",
    "regression.fit(X_train_scaled_reshape, y_train)\n",
    "\n",
    "predicted_y = regression.predict(X_test_scaled_reshape)\n",
    "\n",
    "r2 = regression.score(X_test_scaled_reshape, y_test)\n",
    "print(f'R^2 = {r2:.5}')"
   ]
  },
  {
   "cell_type": "markdown",
   "metadata": {},
   "source": [
    "The predicted response score for a patient from the regression model should be interpretated as the amount of increase in the probability that the patient has AML relative to ALL for every one unit increase in the best_predictor gene's normalized measurement value. This model does not model the response variable well (having AML vs. ALL) because the response is binary while the linear regression model predicts a continuous response variable given the predictors. "
   ]
  },
  {
   "cell_type": "code",
   "execution_count": 171,
   "metadata": {},
   "outputs": [
    {
     "data": {
      "text/plain": [
       "<matplotlib.legend.Legend at 0x1a280e1c90>"
      ]
     },
     "execution_count": 171,
     "metadata": {},
     "output_type": "execute_result"
    },
    {
     "data": {
      "image/png": "[encoded data removed]",
      "text/plain": [
       "<Figure size 432x288 with 1 Axes>"
      ]
     },
     "metadata": {},
     "output_type": "display_data"
    }
   ],
   "source": [
    "# Plot the predicted continuous response versus the normalized measurement value for the best predictor gene\n",
    "# Plot the true response (AML vs. ALL) versus the normalized measurement value for the best predictor gene\n",
    "predicted_y_train = regression.predict(X_train_scaled_reshape)\n",
    "\n",
    "ax = plt.subplot(111)\n",
    "plt.scatter(X_train_scaled_reshape, predicted_y_train, label = 'Predicted quantiative response from linear regression for AML vs. ALL status in training data')\n",
    "plt.scatter(X_train_scaled_reshape, y_train, label = 'True AML vs. ALL status in training data')\n",
    "plt.xlabel('Normalized measurement value for best predictor gene')\n",
    "plt.ylabel('AML (1) vs. ALL (0) status')\n",
    "plt.title('Predicted and true AML vs. ALL status versus normalized measurement value for the best predictor gene in training data')\n",
    "\n",
    "ax.legend(bbox_to_anchor=(1, 1))"
   ]
  },
  {
   "cell_type": "markdown",
   "metadata": {},
   "source": [
    "**2.2** **Use your estimated linear regression model to classify observations into 0 and 1 using the standard Bayes' classifier.  Evaluate the classification accuracy of this classification model on both the training and test sets.**"
   ]
  },
  {
   "cell_type": "code",
   "execution_count": 191,
   "metadata": {},
   "outputs": [
    {
     "name": "stdout",
     "output_type": "stream",
     "text": [
      "Linear regression accuracy on training set: 0.6206322795341098\n",
      "Linear regression accuracy on testing set: 0.5894039735099338\n"
     ]
    }
   ],
   "source": [
    "# Standard Bayes' classifier is the process of classifying observations with P_hat(Y=1) >= 0.5 to be in the group associated with Y=1 and all observations with P_hat(Y=0) < 0.5 to be in the group associated with Y=0\n",
    "\n",
    "predicted_y_train_BayesClass = np.round(predicted_y_train)\n",
    "\n",
    "predicted_y_test = regression.predict(X_test_scaled_reshape)\n",
    "predicted_y_test_BayesClass = np.round(predicted_y_test)\n",
    "\n",
    "# Evaluate accuracy on training set\n",
    "print('Linear regression accuracy on training set:', accuracy_score(y_train, predicted_y_train_BayesClass))\n",
    "\n",
    "# Evaluate accuracy on testing set\n",
    "print('Linear regression accuracy on testing set:', accuracy_score(y_test, predicted_y_test_BayesClass))\n"
   ]
  },
  {
   "cell_type": "markdown",
   "metadata": {},
   "source": [
    "\n",
    "**2.3** **Next, fit a simple logistic regression model to the training set. How do the training and test classification accuracies of this model compare with the linear regression model? EXCLUDED PER ERRATA -> Are the classifications substantially different?  Explain why this is the case.**\n",
    "\n",
    "**Remember, you need to set the regularization parameter for sklearn's logistic regression function to be a very large value in order to **not** regularize (use 'C=100000')."
   ]
  },
  {
   "cell_type": "code",
   "execution_count": 192,
   "metadata": {},
   "outputs": [
    {
     "name": "stdout",
     "output_type": "stream",
     "text": [
      "Logistic regression accuracy on training set: 0.6222961730449251\n",
      "Logistic regression accuracy on testing set: 0.5894039735099338\n"
     ]
    },
    {
     "name": "stderr",
     "output_type": "stream",
     "text": [
      "//anaconda3/envs/cs109a/lib/python3.7/site-packages/sklearn/linear_model/logistic.py:432: FutureWarning: Default solver will be changed to 'lbfgs' in 0.22. Specify a solver to silence this warning.\n",
      "  FutureWarning)\n"
     ]
    }
   ],
   "source": [
    "# Fit logistic regression model to training set\n",
    "logreg = LogisticRegression(C=10000, fit_intercept=True)\n",
    "logreg.fit(X_train_scaled_reshape, y_train)\n",
    "\n",
    "# Predictions on training set\n",
    "logreg_y_hat_train = logreg.predict(X_train_scaled_reshape)\n",
    "\n",
    "# Predictions on testing set\n",
    "logreg_y_hat_test = logreg.predict(X_test_scaled_reshape)\n",
    "\n",
    "# Evaluate accuracy on training set\n",
    "print('Logistic regression accuracy on training set:', accuracy_score(y_train, logreg_y_hat_train))\n",
    "\n",
    "# Evaluate accuracy on testing set\n",
    "print('Logistic regression accuracy on testing set:', accuracy_score(y_test, logreg_y_hat_test))\n",
    "\n",
    "\n",
    "# Why does lab6 not have C=100000 and fit_intercept=True\n",
    "# Should I be using X_train_scaled_reshape or X_train_scaled in lr.fit???"
   ]
  },
  {
   "cell_type": "markdown",
   "metadata": {},
   "source": [
    "*your answer here* \n",
    "\n",
    "\n",
    "**ANSWER HERE**\n",
    "How do the training and test classification accuracies of this model compare with the linear regression model? Are the classifications substantially different? Explain why this is the case."
   ]
  },
  {
   "cell_type": "markdown",
   "metadata": {},
   "source": [
    "**2.4 Print and interpret the logistic regression coefficients: the 'slope' and the intercept.**\n",
    "\n",
    "**Create 2 plots (with training and test data) with 4 items displayed on each plot.**\n",
    "- the predicted quantitative response from the linear regression model as a function of the best gene predictor.\n",
    "- the predicted probabilities of the logistic regression model as a function of the best gene predictor. \n",
    "- the true binary response. \n",
    "- a horizontal line at $y=0.5$.\n",
    "\n",
    "**Based on these plots, does one of the models appear better suited for binary classification than the other?  Explain in 3 sentences or fewer.** \n"
   ]
  },
  {
   "cell_type": "code",
   "execution_count": 206,
   "metadata": {},
   "outputs": [
    {
     "name": "stdout",
     "output_type": "stream",
     "text": [
      "Estimated slope (beta1): -3.842039608150812\n",
      "Estimated intercept (beta0): 1.6349318448453276\n"
     ]
    }
   ],
   "source": [
    "# Show coefficient estimate for the best predictor gene\n",
    "print('Estimated slope (beta1):', logreg.coef_[0][0])\n",
    "\n",
    "# Show intercept estimate\n",
    "print('Estimated intercept (beta0):', logreg.intercept_[0])"
   ]
  },
  {
   "cell_type": "code",
   "execution_count": 205,
   "metadata": {},
   "outputs": [
    {
     "name": "stdout",
     "output_type": "stream",
     "text": [
      "Estimated odds ratio for slope: 0.021449807496922876\n",
      "Estimated odds ratio for intercept: 5.129108409937205\n"
     ]
    }
   ],
   "source": [
    "# Translate log odds to odds ratios\n",
    "print('Estimated odds ratio for slope:', np.exp(logreg.coef_[0][0]))\n",
    "print('Estimated odds ratio for intercept:', np.exp(logreg.intercept_[0]))"
   ]
  },
  {
   "cell_type": "markdown",
   "metadata": {},
   "source": [
    "The interpretation of the slope coefficient is: For every one unit increase in normalized measurement value for the best predictor gene, there is a predicted 3.84 fold decrease in the log odds of having AML relative to ALL. This is equivalent to saying that for every one unit increase in normalized measurement value for the best predictor gene, the predicted probability of having AML is 0.021 times as likely as having ALL (odds ratio for having AML vs. ALL = 0.021).\n",
    "\n",
    "The interpretation of the intercept is: When the normalized measurement value for the best predictor gene is 0 (i.e., when the gene is not expressed at all), the log odds of having AML relative to ALL is 1.63. This is equivalent to saying that when the normalized measurement value for the best predictor gene is 0 (i.e., when the gene is not expressed at all), the predicted probability of having AML is 5.13 times as likely as having ALL (odds ratio for having AML vs. ALL = 5.13)."
   ]
  },
  {
   "cell_type": "code",
   "execution_count": 207,
   "metadata": {},
   "outputs": [
    {
     "data": {
      "text/plain": [
       "<matplotlib.legend.Legend at 0x1a28568a50>"
      ]
     },
     "execution_count": 207,
     "metadata": {},
     "output_type": "execute_result"
    },
    {
     "data": {
      "image/png": "[encoded data removed]",
      "text/plain": [
       "<Figure size 432x288 with 1 Axes>"
      ]
     },
     "metadata": {},
     "output_type": "display_data"
    }
   ],
   "source": [
    "# Plot for training data\n",
    "\n",
    "ax = plt.subplot(111)\n",
    "plt.scatter(X_train_scaled_reshape, predicted_y_train, alpha = 0.3, label = 'Predicted quantiative response from linear regression for AML vs. ALL status in training data')\n",
    "plt.scatter(X_train_scaled_reshape, logreg_y_hat_train, alpha = 0.3, label = 'Predicted probabilities from logistic regression of AML vs. ALL status in training data')\n",
    "plt.scatter(X_train_scaled_reshape, y_train, alpha = 0.3, label = 'True AML vs. ALL status in training data')\n",
    "plt.axhline(0.5, color=\"gray\")\n",
    "plt.xlabel('Normalized measurement value for best predictor gene')\n",
    "plt.ylabel('AML (1) vs. ALL (0) status')\n",
    "plt.title('Predicted and true AML vs. ALL status versus normalized measurement value for the best predictor gene in training data')\n",
    "\n",
    "ax.legend(bbox_to_anchor=(1, 1))"
   ]
  },
  {
   "cell_type": "code",
   "execution_count": 212,
   "metadata": {},
   "outputs": [
    {
     "data": {
      "text/plain": [
       "<matplotlib.legend.Legend at 0x1a290f7490>"
      ]
     },
     "execution_count": 212,
     "metadata": {},
     "output_type": "execute_result"
    },
    {
     "data": {
      "image/png": "[encoded data removed]",
      "text/plain": [
       "<Figure size 432x288 with 1 Axes>"
      ]
     },
     "metadata": {},
     "output_type": "display_data"
    }
   ],
   "source": [
    "# Plot for testing data\n",
    "\n",
    "ax = plt.subplot(111)\n",
    "plt.scatter(X_test_scaled_reshape, predicted_y_test, alpha = 0.3, label = 'Predicted quantiative response from linear regression for AML vs. ALL status in testing data')\n",
    "plt.scatter(X_test_scaled_reshape, logreg_y_hat_test, alpha = 0.3, label = 'Predicted probabilities from logistic regression of AML vs. ALL status in testing data')\n",
    "plt.scatter(X_test_scaled_reshape, y_test, alpha = 0.3, label = 'True AML vs. ALL status in testing data')\n",
    "plt.axhline(0.5, color=\"gray\")\n",
    "plt.xlabel('Normalized measurement value for best predictor gene')\n",
    "plt.ylabel('AML (1) vs. ALL (0) status')\n",
    "plt.title('Predicted and true AML vs. ALL status versus normalized measurement value for the best predictor gene in testing data')\n",
    "\n",
    "ax.legend(bbox_to_anchor=(1, 1))"
   ]
  },
  {
   "cell_type": "markdown",
   "metadata": {},
   "source": [
    "The logistic regression model appears better suited for binary classification than the linear regression model because the predicted probabilities from logistic regression of AML vs. ALL status in the testing data substantially overlap with the true AML vs. ALL status data in the plot above."
   ]
  },
  {
   "cell_type": "markdown",
   "metadata": {},
   "source": [
    "<div class='exercise'> <b> Question 3 [20pts]: Multiple Logistic Regression </b> </div>\n",
    "\n",
    "\n",
    "**3.1** Next, fit a multiple logistic regression model with all the gene predictors from the data set.  How does the classification accuracy of this model compare with the models fitted in question 2 with a single gene (on both the training and test sets)?  \n",
    "\n",
    "\n",
    "**3.2** How many of the coefficients estimated by this multiple logistic regression in the previous part are significantly different from zero at a *significance level of 5%*? Use the same value of C=100000 as before.\n",
    "\n",
    "**Hint:** To answer this question, use *bootstrapping* with 100 bootstrap samples/iterations.  \n",
    "\n",
    "\n",
    "**3.3** Comment on the classification accuracy of training and test set? Given the results above how would you assess the generalization capacity of your trained model? What other tests would you suggest to better guard against false sense of security on the accuracy of the model as a whole? \n",
    "\n",
    "**3.4** Now use regularization to improve predictions from the multiple logistic regression model.  Use LASSO-like regularization and cross-validation within the training set to tune the model.  Report the classification accuracy on both the training and test set.\n",
    "\n",
    "**3.5** Do the 10 best predictors from Q1 hold up as important features in this regularized model?  If not, explain why this is the case (feel free to use the data to support your explanation)."
   ]
  },
  {
   "cell_type": "markdown",
   "metadata": {},
   "source": [
    "<hr>\n",
    "### Solutions"
   ]
  },
  {
   "cell_type": "markdown",
   "metadata": {},
   "source": [
    "**3.1** **Next, fit a multiple logistic regression model with all the gene predictors from the data set.  How does the classification accuracy of this model compare with the models fitted in question 2 with a single gene (on both the training and test sets)?**  \n"
   ]
  },
  {
   "cell_type": "code",
   "execution_count": 213,
   "metadata": {},
   "outputs": [
    {
     "name": "stderr",
     "output_type": "stream",
     "text": [
      "//anaconda3/envs/cs109a/lib/python3.7/site-packages/sklearn/linear_model/logistic.py:432: FutureWarning: Default solver will be changed to 'lbfgs' in 0.22. Specify a solver to silence this warning.\n",
      "  FutureWarning)\n"
     ]
    },
    {
     "name": "stdout",
     "output_type": "stream",
     "text": [
      "Multiple logistic regression accuracy on training set: 1.0\n",
      "Multiple logistic regression accuracy on testing set: 0.7748344370860927\n"
     ]
    }
   ],
   "source": [
    "# Fit multiple logistic regression\n",
    "\n",
    "multi_logreg = LogisticRegression(C=100000, fit_intercept=True)\n",
    "multi_logreg.fit(X_train_scaled, y_train)\n",
    "\n",
    "# Predictions on training set\n",
    "multi_logreg_y_hat_train = multi_logreg.predict(X_train_scaled)\n",
    "\n",
    "# Predictions on testing set\n",
    "multi_logreg_y_hat_test = multi_logreg.predict(X_test_scaled)\n",
    "\n",
    "# Evaluate accuracy on training set\n",
    "print('Multiple logistic regression accuracy on training set:', accuracy_score(y_train, multi_logreg_y_hat_train))\n",
    "\n",
    "# Evaluate accuracy on testing set\n",
    "print('Multiple logistic regression accuracy on testing set:', accuracy_score(y_test, multi_logreg_y_hat_test))"
   ]
  },
  {
   "cell_type": "markdown",
   "metadata": {},
   "source": [
    "The classification accuracies of the multiple logistic regression model using all genes as predictors using the training and testing data are higher than the accuracies obtained from both the linear regression model and logistic regression model using only the best gene as a predictor. "
   ]
  },
  {
   "cell_type": "markdown",
   "metadata": {},
   "source": [
    "**3.2** **How many of the coefficients estimated by this multiple logistic regression in the previous part are significantly different from zero at a *significance level of 5%*? Use the same value of C=100000 as before.**\n",
    "\n",
    "**Hint:** **To answer this question, use *bootstrapping* with 1000 bootstrap samples/iterations.**  \n"
   ]
  },
  {
   "cell_type": "code",
   "execution_count": 26,
   "metadata": {},
   "outputs": [],
   "source": [
    "# your code here\n"
   ]
  },
  {
   "cell_type": "code",
   "execution_count": 27,
   "metadata": {},
   "outputs": [],
   "source": [
    "# your code here\n"
   ]
  },
  {
   "cell_type": "markdown",
   "metadata": {},
   "source": [
    "**3.3 Open question: Comment on the classification accuracy of training and test set? Given the results above how would you assest the generalization capacity of your trained model? What other tests would you suggest to better guard against false sense of security on the accuracy of the model as a whole.**"
   ]
  },
  {
   "cell_type": "markdown",
   "metadata": {},
   "source": [
    "*your answer here*"
   ]
  },
  {
   "cell_type": "markdown",
   "metadata": {},
   "source": [
    "**3.4 Now use regularization to improve predictions from the multiple logistic regression model.  Use LASSO-like regularization and cross-validation within the training set to tune the model.  Report the classification accuracy on both the training and test set.**"
   ]
  },
  {
   "cell_type": "code",
   "execution_count": 28,
   "metadata": {},
   "outputs": [],
   "source": [
    "# your code here\n"
   ]
  },
  {
   "cell_type": "code",
   "execution_count": null,
   "metadata": {},
   "outputs": [],
   "source": []
  },
  {
   "cell_type": "code",
   "execution_count": null,
   "metadata": {},
   "outputs": [],
   "source": []
  },
  {
   "cell_type": "markdown",
   "metadata": {},
   "source": [
    "**3.5: Do the 10 best predictors from Q1 hold up as important features in this regularized model?  If not, explain why this is the case (feel free to use the data to support your explanation).**"
   ]
  },
  {
   "cell_type": "code",
   "execution_count": 29,
   "metadata": {},
   "outputs": [],
   "source": [
    "# your code here\n"
   ]
  },
  {
   "cell_type": "code",
   "execution_count": 30,
   "metadata": {},
   "outputs": [],
   "source": [
    "# your code here\n"
   ]
  },
  {
   "cell_type": "code",
   "execution_count": 31,
   "metadata": {},
   "outputs": [],
   "source": [
    "# your code here\n"
   ]
  },
  {
   "cell_type": "code",
   "execution_count": 32,
   "metadata": {},
   "outputs": [],
   "source": [
    "# your code here\n"
   ]
  },
  {
   "cell_type": "markdown",
   "metadata": {},
   "source": [
    "*your answer here* \n"
   ]
  },
  {
   "cell_type": "code",
   "execution_count": null,
   "metadata": {},
   "outputs": [],
   "source": []
  },
  {
   "cell_type": "code",
   "execution_count": null,
   "metadata": {},
   "outputs": [],
   "source": []
  },
  {
   "cell_type": "markdown",
   "metadata": {},
   "source": [
    "<div class='exercise'> <b> Question 4 [25pts]: Multi Class Log Regression </b> </div>"
   ]
  },
  {
   "cell_type": "markdown",
   "metadata": {},
   "source": [
    "**4.1** Load the data from `hw4_mc_enhance.csv.zip` and examine its structure. How many instances of each class are there in our dataset? \n",
    "\n",
    "**4.2** Split the dataset into train and test, 80-20 split, random_state = 8. \n",
    "\n",
    "We are going to utilize these two features - 'M31523_at', 'X95735_at'.  Create a scatter plot of these two features using the training dataset.  It should be easily discernable via labeling/marking in the plot which observations belong to which `cancer_type`.\n",
    "\n",
    "**4.3** Fit the following two models using crossvalidation: \n",
    "- Logistic Regression Multiclass model with linear features. \n",
    "- Logistic Regression Multiclass model with Polynomial features, degree = 2.\n",
    "\n",
    "**4.4** Plot the decision boundaries for each model and interpret the results. Hint: You may utilize the function `overlay_decision_boundary`. \n",
    "\n",
    "**4.5** Report and plot the CV scores for the two models and interpret. \n"
   ]
  },
  {
   "cell_type": "markdown",
   "metadata": {},
   "source": [
    "<hr>\n",
    "### Solutions"
   ]
  },
  {
   "cell_type": "markdown",
   "metadata": {},
   "source": [
    "**4.1 Load the data from `hw4_mc_enhance.csv.zip` and examine its structure. How many instances of each class are there in our dataset?**"
   ]
  },
  {
   "cell_type": "code",
   "execution_count": 6,
   "metadata": {},
   "outputs": [],
   "source": [
    "# Load data from zip file\n",
    "\n",
    "archive = zipfile.ZipFile('data/hw4_mc_enhance.csv.zip', 'r')\n",
    "hw4_mc_enhance = pd.read_csv(archive.open('hw4_mc_enhance.csv'),index_col=0)\n",
    "\n",
    "# Used https://stackoverflow.com/questions/26942476/reading-csv-zipped-files-in-python as a reference"
   ]
  },
  {
   "cell_type": "code",
   "execution_count": 80,
   "metadata": {},
   "outputs": [
    {
     "data": {
      "text/html": [
       "<div>\n",
       "<style scoped>\n",
       "    .dataframe tbody tr th:only-of-type {\n",
       "        vertical-align: middle;\n",
       "    }\n",
       "\n",
       "    .dataframe tbody tr th {\n",
       "        vertical-align: top;\n",
       "    }\n",
       "\n",
       "    .dataframe thead th {\n",
       "        text-align: right;\n",
       "    }\n",
       "</style>\n",
       "<table border=\"1\" class=\"dataframe\">\n",
       "  <thead>\n",
       "    <tr style=\"text-align: right;\">\n",
       "      <th></th>\n",
       "      <th>AFFX-BioB-5_at</th>\n",
       "      <th>AFFX-BioB-M_at</th>\n",
       "      <th>AFFX-BioB-3_at</th>\n",
       "      <th>AFFX-BioC-5_at</th>\n",
       "      <th>AFFX-BioC-3_at</th>\n",
       "      <th>AFFX-BioDn-5_at</th>\n",
       "      <th>AFFX-BioDn-3_at</th>\n",
       "      <th>AFFX-CreX-5_at</th>\n",
       "      <th>AFFX-CreX-3_at</th>\n",
       "      <th>AFFX-BioB-5_st</th>\n",
       "      <th>...</th>\n",
       "      <th>U58516_at</th>\n",
       "      <th>U73738_at</th>\n",
       "      <th>X06956_at</th>\n",
       "      <th>X16699_at</th>\n",
       "      <th>X83863_at</th>\n",
       "      <th>Z17240_at</th>\n",
       "      <th>L49218_f_at</th>\n",
       "      <th>M71243_f_at</th>\n",
       "      <th>Z78285_f_at</th>\n",
       "      <th>cancer_type</th>\n",
       "    </tr>\n",
       "  </thead>\n",
       "  <tbody>\n",
       "    <tr>\n",
       "      <th>0</th>\n",
       "      <td>-1363.276427</td>\n",
       "      <td>-1058.585495</td>\n",
       "      <td>-541.469194</td>\n",
       "      <td>74.349803</td>\n",
       "      <td>-1110.082554</td>\n",
       "      <td>-1545.661845</td>\n",
       "      <td>-2037.029616</td>\n",
       "      <td>-1255.990888</td>\n",
       "      <td>-335.480958</td>\n",
       "      <td>-938.425691</td>\n",
       "      <td>...</td>\n",
       "      <td>1565.618803</td>\n",
       "      <td>-485.680714</td>\n",
       "      <td>-170.261227</td>\n",
       "      <td>-919.114293</td>\n",
       "      <td>1675.050053</td>\n",
       "      <td>389.769289</td>\n",
       "      <td>-526.449219</td>\n",
       "      <td>-268.963924</td>\n",
       "      <td>-779.643092</td>\n",
       "      <td>0.0</td>\n",
       "    </tr>\n",
       "    <tr>\n",
       "      <th>1</th>\n",
       "      <td>-796.285053</td>\n",
       "      <td>-1167.103365</td>\n",
       "      <td>7.538493</td>\n",
       "      <td>83.544731</td>\n",
       "      <td>-1116.432539</td>\n",
       "      <td>-1731.392100</td>\n",
       "      <td>249.376523</td>\n",
       "      <td>-1636.960108</td>\n",
       "      <td>-149.080421</td>\n",
       "      <td>-222.783440</td>\n",
       "      <td>...</td>\n",
       "      <td>622.498054</td>\n",
       "      <td>-1275.354673</td>\n",
       "      <td>214.828233</td>\n",
       "      <td>-750.220666</td>\n",
       "      <td>-441.589276</td>\n",
       "      <td>9.841713</td>\n",
       "      <td>-671.911209</td>\n",
       "      <td>-671.911209</td>\n",
       "      <td>-644.272577</td>\n",
       "      <td>0.0</td>\n",
       "    </tr>\n",
       "    <tr>\n",
       "      <th>2</th>\n",
       "      <td>-679.139168</td>\n",
       "      <td>-1069.832308</td>\n",
       "      <td>-690.301829</td>\n",
       "      <td>-112.075981</td>\n",
       "      <td>-1199.319178</td>\n",
       "      <td>-1286.387935</td>\n",
       "      <td>-605.465604</td>\n",
       "      <td>-1043.041921</td>\n",
       "      <td>-728.254877</td>\n",
       "      <td>388.011238</td>\n",
       "      <td>...</td>\n",
       "      <td>162.525483</td>\n",
       "      <td>-692.534361</td>\n",
       "      <td>517.498108</td>\n",
       "      <td>-674.674103</td>\n",
       "      <td>1265.396405</td>\n",
       "      <td>-65.192805</td>\n",
       "      <td>-714.859684</td>\n",
       "      <td>3672.066149</td>\n",
       "      <td>-822.021231</td>\n",
       "      <td>0.0</td>\n",
       "    </tr>\n",
       "    <tr>\n",
       "      <th>3</th>\n",
       "      <td>-1164.400197</td>\n",
       "      <td>-1109.939891</td>\n",
       "      <td>-990.127218</td>\n",
       "      <td>-238.574994</td>\n",
       "      <td>-1264.607160</td>\n",
       "      <td>-1218.860503</td>\n",
       "      <td>-1255.893511</td>\n",
       "      <td>-1009.732928</td>\n",
       "      <td>-521.768585</td>\n",
       "      <td>-926.953263</td>\n",
       "      <td>...</td>\n",
       "      <td>-31.625831</td>\n",
       "      <td>-621.975549</td>\n",
       "      <td>-458.594630</td>\n",
       "      <td>-630.689198</td>\n",
       "      <td>937.767618</td>\n",
       "      <td>-264.715941</td>\n",
       "      <td>-635.046022</td>\n",
       "      <td>475.944222</td>\n",
       "      <td>-794.070116</td>\n",
       "      <td>0.0</td>\n",
       "    </tr>\n",
       "    <tr>\n",
       "      <th>4</th>\n",
       "      <td>-1299.653758</td>\n",
       "      <td>-1401.998536</td>\n",
       "      <td>-1077.543813</td>\n",
       "      <td>-437.344560</td>\n",
       "      <td>-1386.755697</td>\n",
       "      <td>-1726.453259</td>\n",
       "      <td>-1499.988218</td>\n",
       "      <td>-1219.084464</td>\n",
       "      <td>-994.796971</td>\n",
       "      <td>-670.342247</td>\n",
       "      <td>...</td>\n",
       "      <td>383.591216</td>\n",
       "      <td>-905.517483</td>\n",
       "      <td>-36.675640</td>\n",
       "      <td>-1116.739685</td>\n",
       "      <td>316.087213</td>\n",
       "      <td>-210.879518</td>\n",
       "      <td>-953.423549</td>\n",
       "      <td>-291.448812</td>\n",
       "      <td>-1057.945876</td>\n",
       "      <td>0.0</td>\n",
       "    </tr>\n",
       "  </tbody>\n",
       "</table>\n",
       "<p>5 rows × 7130 columns</p>\n",
       "</div>"
      ],
      "text/plain": [
       "   AFFX-BioB-5_at  AFFX-BioB-M_at  AFFX-BioB-3_at  AFFX-BioC-5_at  \\\n",
       "0    -1363.276427    -1058.585495     -541.469194       74.349803   \n",
       "1     -796.285053    -1167.103365        7.538493       83.544731   \n",
       "2     -679.139168    -1069.832308     -690.301829     -112.075981   \n",
       "3    -1164.400197    -1109.939891     -990.127218     -238.574994   \n",
       "4    -1299.653758    -1401.998536    -1077.543813     -437.344560   \n",
       "\n",
       "   AFFX-BioC-3_at  AFFX-BioDn-5_at  AFFX-BioDn-3_at  AFFX-CreX-5_at  \\\n",
       "0    -1110.082554     -1545.661845     -2037.029616    -1255.990888   \n",
       "1    -1116.432539     -1731.392100       249.376523    -1636.960108   \n",
       "2    -1199.319178     -1286.387935      -605.465604    -1043.041921   \n",
       "3    -1264.607160     -1218.860503     -1255.893511    -1009.732928   \n",
       "4    -1386.755697     -1726.453259     -1499.988218    -1219.084464   \n",
       "\n",
       "   AFFX-CreX-3_at  AFFX-BioB-5_st  ...    U58516_at    U73738_at   X06956_at  \\\n",
       "0     -335.480958     -938.425691  ...  1565.618803  -485.680714 -170.261227   \n",
       "1     -149.080421     -222.783440  ...   622.498054 -1275.354673  214.828233   \n",
       "2     -728.254877      388.011238  ...   162.525483  -692.534361  517.498108   \n",
       "3     -521.768585     -926.953263  ...   -31.625831  -621.975549 -458.594630   \n",
       "4     -994.796971     -670.342247  ...   383.591216  -905.517483  -36.675640   \n",
       "\n",
       "     X16699_at    X83863_at   Z17240_at  L49218_f_at  M71243_f_at  \\\n",
       "0  -919.114293  1675.050053  389.769289  -526.449219  -268.963924   \n",
       "1  -750.220666  -441.589276    9.841713  -671.911209  -671.911209   \n",
       "2  -674.674103  1265.396405  -65.192805  -714.859684  3672.066149   \n",
       "3  -630.689198   937.767618 -264.715941  -635.046022   475.944222   \n",
       "4 -1116.739685   316.087213 -210.879518  -953.423549  -291.448812   \n",
       "\n",
       "   Z78285_f_at  cancer_type  \n",
       "0  -779.643092          0.0  \n",
       "1  -644.272577          0.0  \n",
       "2  -822.021231          0.0  \n",
       "3  -794.070116          0.0  \n",
       "4 -1057.945876          0.0  \n",
       "\n",
       "[5 rows x 7130 columns]"
      ]
     },
     "execution_count": 80,
     "metadata": {},
     "output_type": "execute_result"
    }
   ],
   "source": [
    "# Examine the dataframe\n",
    "hw4_mc_enhance.head()"
   ]
  },
  {
   "cell_type": "code",
   "execution_count": 232,
   "metadata": {},
   "outputs": [
    {
     "data": {
      "text/html": [
       "<div>\n",
       "<style scoped>\n",
       "    .dataframe tbody tr th:only-of-type {\n",
       "        vertical-align: middle;\n",
       "    }\n",
       "\n",
       "    .dataframe tbody tr th {\n",
       "        vertical-align: top;\n",
       "    }\n",
       "\n",
       "    .dataframe thead th {\n",
       "        text-align: right;\n",
       "    }\n",
       "</style>\n",
       "<table border=\"1\" class=\"dataframe\">\n",
       "  <thead>\n",
       "    <tr style=\"text-align: right;\">\n",
       "      <th></th>\n",
       "      <th>AFFX-BioB-5_at</th>\n",
       "      <th>AFFX-BioB-M_at</th>\n",
       "      <th>AFFX-BioB-3_at</th>\n",
       "      <th>AFFX-BioC-5_at</th>\n",
       "      <th>AFFX-BioC-3_at</th>\n",
       "      <th>AFFX-BioDn-5_at</th>\n",
       "      <th>AFFX-BioDn-3_at</th>\n",
       "      <th>AFFX-CreX-5_at</th>\n",
       "      <th>AFFX-CreX-3_at</th>\n",
       "      <th>AFFX-BioB-5_st</th>\n",
       "      <th>...</th>\n",
       "      <th>U58516_at</th>\n",
       "      <th>U73738_at</th>\n",
       "      <th>X06956_at</th>\n",
       "      <th>X16699_at</th>\n",
       "      <th>X83863_at</th>\n",
       "      <th>Z17240_at</th>\n",
       "      <th>L49218_f_at</th>\n",
       "      <th>M71243_f_at</th>\n",
       "      <th>Z78285_f_at</th>\n",
       "      <th>cancer_type</th>\n",
       "    </tr>\n",
       "  </thead>\n",
       "  <tbody>\n",
       "    <tr>\n",
       "      <th>count</th>\n",
       "      <td>750.000000</td>\n",
       "      <td>750.000000</td>\n",
       "      <td>750.000000</td>\n",
       "      <td>750.000000</td>\n",
       "      <td>750.000000</td>\n",
       "      <td>750.000000</td>\n",
       "      <td>750.000000</td>\n",
       "      <td>750.000000</td>\n",
       "      <td>750.000000</td>\n",
       "      <td>750.000000</td>\n",
       "      <td>...</td>\n",
       "      <td>750.000000</td>\n",
       "      <td>750.000000</td>\n",
       "      <td>750.000000</td>\n",
       "      <td>750.000000</td>\n",
       "      <td>750.000000</td>\n",
       "      <td>750.000000</td>\n",
       "      <td>750.000000</td>\n",
       "      <td>750.000000</td>\n",
       "      <td>750.000000</td>\n",
       "      <td>750.000000</td>\n",
       "    </tr>\n",
       "    <tr>\n",
       "      <th>mean</th>\n",
       "      <td>-1014.598658</td>\n",
       "      <td>-1048.357272</td>\n",
       "      <td>-823.358695</td>\n",
       "      <td>-315.636838</td>\n",
       "      <td>-1295.949886</td>\n",
       "      <td>-1625.120199</td>\n",
       "      <td>-826.955064</td>\n",
       "      <td>-1175.612555</td>\n",
       "      <td>-588.598064</td>\n",
       "      <td>-534.924646</td>\n",
       "      <td>...</td>\n",
       "      <td>812.768978</td>\n",
       "      <td>-747.263549</td>\n",
       "      <td>16.272227</td>\n",
       "      <td>-801.847334</td>\n",
       "      <td>1031.081628</td>\n",
       "      <td>-3.162310</td>\n",
       "      <td>-723.364564</td>\n",
       "      <td>-40.495922</td>\n",
       "      <td>-810.150889</td>\n",
       "      <td>1.000000</td>\n",
       "    </tr>\n",
       "    <tr>\n",
       "      <th>std</th>\n",
       "      <td>297.369331</td>\n",
       "      <td>233.933609</td>\n",
       "      <td>392.662256</td>\n",
       "      <td>215.534283</td>\n",
       "      <td>320.799277</td>\n",
       "      <td>419.687380</td>\n",
       "      <td>562.688520</td>\n",
       "      <td>288.546511</td>\n",
       "      <td>227.362605</td>\n",
       "      <td>489.552685</td>\n",
       "      <td>...</td>\n",
       "      <td>663.320928</td>\n",
       "      <td>176.481127</td>\n",
       "      <td>751.988770</td>\n",
       "      <td>157.068732</td>\n",
       "      <td>966.569338</td>\n",
       "      <td>495.241653</td>\n",
       "      <td>138.805059</td>\n",
       "      <td>882.681724</td>\n",
       "      <td>176.347552</td>\n",
       "      <td>0.817041</td>\n",
       "    </tr>\n",
       "    <tr>\n",
       "      <th>min</th>\n",
       "      <td>-2010.202020</td>\n",
       "      <td>-1772.451092</td>\n",
       "      <td>-1619.756151</td>\n",
       "      <td>-930.821077</td>\n",
       "      <td>-1984.530972</td>\n",
       "      <td>-2514.619404</td>\n",
       "      <td>-2766.759937</td>\n",
       "      <td>-1725.591441</td>\n",
       "      <td>-1255.146509</td>\n",
       "      <td>-1552.135008</td>\n",
       "      <td>...</td>\n",
       "      <td>-375.241836</td>\n",
       "      <td>-1484.465401</td>\n",
       "      <td>-853.838447</td>\n",
       "      <td>-1367.829068</td>\n",
       "      <td>-571.900054</td>\n",
       "      <td>-838.747726</td>\n",
       "      <td>-1162.232820</td>\n",
       "      <td>-1266.486530</td>\n",
       "      <td>-1298.638023</td>\n",
       "      <td>0.000000</td>\n",
       "    </tr>\n",
       "    <tr>\n",
       "      <th>25%</th>\n",
       "      <td>-1141.429466</td>\n",
       "      <td>-1218.887728</td>\n",
       "      <td>-1076.151552</td>\n",
       "      <td>-454.824979</td>\n",
       "      <td>-1548.108060</td>\n",
       "      <td>-1848.322368</td>\n",
       "      <td>-1203.978707</td>\n",
       "      <td>-1371.756006</td>\n",
       "      <td>-718.014815</td>\n",
       "      <td>-853.188715</td>\n",
       "      <td>...</td>\n",
       "      <td>322.566010</td>\n",
       "      <td>-847.468558</td>\n",
       "      <td>-335.783011</td>\n",
       "      <td>-924.099294</td>\n",
       "      <td>337.355440</td>\n",
       "      <td>-356.629007</td>\n",
       "      <td>-820.617263</td>\n",
       "      <td>-435.750013</td>\n",
       "      <td>-933.182073</td>\n",
       "      <td>0.000000</td>\n",
       "    </tr>\n",
       "    <tr>\n",
       "      <th>50%</th>\n",
       "      <td>-1033.862143</td>\n",
       "      <td>-1024.510062</td>\n",
       "      <td>-896.612263</td>\n",
       "      <td>-255.321214</td>\n",
       "      <td>-1257.060242</td>\n",
       "      <td>-1701.504007</td>\n",
       "      <td>-875.340089</td>\n",
       "      <td>-1138.486182</td>\n",
       "      <td>-586.848142</td>\n",
       "      <td>-554.578969</td>\n",
       "      <td>...</td>\n",
       "      <td>639.993676</td>\n",
       "      <td>-750.170322</td>\n",
       "      <td>-130.115409</td>\n",
       "      <td>-783.870080</td>\n",
       "      <td>777.827303</td>\n",
       "      <td>-180.519462</td>\n",
       "      <td>-733.242628</td>\n",
       "      <td>-261.276132</td>\n",
       "      <td>-816.239345</td>\n",
       "      <td>1.000000</td>\n",
       "    </tr>\n",
       "    <tr>\n",
       "      <th>75%</th>\n",
       "      <td>-837.607536</td>\n",
       "      <td>-885.604686</td>\n",
       "      <td>-560.246417</td>\n",
       "      <td>-196.687009</td>\n",
       "      <td>-1092.191607</td>\n",
       "      <td>-1259.153655</td>\n",
       "      <td>-508.663556</td>\n",
       "      <td>-978.433566</td>\n",
       "      <td>-416.287415</td>\n",
       "      <td>-173.861061</td>\n",
       "      <td>...</td>\n",
       "      <td>1355.814050</td>\n",
       "      <td>-654.438425</td>\n",
       "      <td>117.823076</td>\n",
       "      <td>-706.793736</td>\n",
       "      <td>1571.382500</td>\n",
       "      <td>209.283781</td>\n",
       "      <td>-609.175359</td>\n",
       "      <td>36.278669</td>\n",
       "      <td>-708.453545</td>\n",
       "      <td>2.000000</td>\n",
       "    </tr>\n",
       "    <tr>\n",
       "      <th>max</th>\n",
       "      <td>-385.768608</td>\n",
       "      <td>-477.363374</td>\n",
       "      <td>130.829434</td>\n",
       "      <td>257.521293</td>\n",
       "      <td>-304.800847</td>\n",
       "      <td>-850.745403</td>\n",
       "      <td>929.737460</td>\n",
       "      <td>-466.326738</td>\n",
       "      <td>196.149024</td>\n",
       "      <td>988.039921</td>\n",
       "      <td>...</td>\n",
       "      <td>2482.375600</td>\n",
       "      <td>-230.208352</td>\n",
       "      <td>5082.744968</td>\n",
       "      <td>-428.086002</td>\n",
       "      <td>4221.275650</td>\n",
       "      <td>1363.790953</td>\n",
       "      <td>-427.657222</td>\n",
       "      <td>5845.204223</td>\n",
       "      <td>-268.531949</td>\n",
       "      <td>2.000000</td>\n",
       "    </tr>\n",
       "  </tbody>\n",
       "</table>\n",
       "<p>8 rows × 7130 columns</p>\n",
       "</div>"
      ],
      "text/plain": [
       "       AFFX-BioB-5_at  AFFX-BioB-M_at  AFFX-BioB-3_at  AFFX-BioC-5_at  \\\n",
       "count      750.000000      750.000000      750.000000      750.000000   \n",
       "mean     -1014.598658    -1048.357272     -823.358695     -315.636838   \n",
       "std        297.369331      233.933609      392.662256      215.534283   \n",
       "min      -2010.202020    -1772.451092    -1619.756151     -930.821077   \n",
       "25%      -1141.429466    -1218.887728    -1076.151552     -454.824979   \n",
       "50%      -1033.862143    -1024.510062     -896.612263     -255.321214   \n",
       "75%       -837.607536     -885.604686     -560.246417     -196.687009   \n",
       "max       -385.768608     -477.363374      130.829434      257.521293   \n",
       "\n",
       "       AFFX-BioC-3_at  AFFX-BioDn-5_at  AFFX-BioDn-3_at  AFFX-CreX-5_at  \\\n",
       "count      750.000000       750.000000       750.000000      750.000000   \n",
       "mean     -1295.949886     -1625.120199      -826.955064    -1175.612555   \n",
       "std        320.799277       419.687380       562.688520      288.546511   \n",
       "min      -1984.530972     -2514.619404     -2766.759937    -1725.591441   \n",
       "25%      -1548.108060     -1848.322368     -1203.978707    -1371.756006   \n",
       "50%      -1257.060242     -1701.504007      -875.340089    -1138.486182   \n",
       "75%      -1092.191607     -1259.153655      -508.663556     -978.433566   \n",
       "max       -304.800847      -850.745403       929.737460     -466.326738   \n",
       "\n",
       "       AFFX-CreX-3_at  AFFX-BioB-5_st  ...    U58516_at    U73738_at  \\\n",
       "count      750.000000      750.000000  ...   750.000000   750.000000   \n",
       "mean      -588.598064     -534.924646  ...   812.768978  -747.263549   \n",
       "std        227.362605      489.552685  ...   663.320928   176.481127   \n",
       "min      -1255.146509    -1552.135008  ...  -375.241836 -1484.465401   \n",
       "25%       -718.014815     -853.188715  ...   322.566010  -847.468558   \n",
       "50%       -586.848142     -554.578969  ...   639.993676  -750.170322   \n",
       "75%       -416.287415     -173.861061  ...  1355.814050  -654.438425   \n",
       "max        196.149024      988.039921  ...  2482.375600  -230.208352   \n",
       "\n",
       "         X06956_at    X16699_at    X83863_at    Z17240_at  L49218_f_at  \\\n",
       "count   750.000000   750.000000   750.000000   750.000000   750.000000   \n",
       "mean     16.272227  -801.847334  1031.081628    -3.162310  -723.364564   \n",
       "std     751.988770   157.068732   966.569338   495.241653   138.805059   \n",
       "min    -853.838447 -1367.829068  -571.900054  -838.747726 -1162.232820   \n",
       "25%    -335.783011  -924.099294   337.355440  -356.629007  -820.617263   \n",
       "50%    -130.115409  -783.870080   777.827303  -180.519462  -733.242628   \n",
       "75%     117.823076  -706.793736  1571.382500   209.283781  -609.175359   \n",
       "max    5082.744968  -428.086002  4221.275650  1363.790953  -427.657222   \n",
       "\n",
       "       M71243_f_at  Z78285_f_at  cancer_type  \n",
       "count   750.000000   750.000000   750.000000  \n",
       "mean    -40.495922  -810.150889     1.000000  \n",
       "std     882.681724   176.347552     0.817041  \n",
       "min   -1266.486530 -1298.638023     0.000000  \n",
       "25%    -435.750013  -933.182073     0.000000  \n",
       "50%    -261.276132  -816.239345     1.000000  \n",
       "75%      36.278669  -708.453545     2.000000  \n",
       "max    5845.204223  -268.531949     2.000000  \n",
       "\n",
       "[8 rows x 7130 columns]"
      ]
     },
     "execution_count": 232,
     "metadata": {},
     "output_type": "execute_result"
    }
   ],
   "source": [
    "# Examine the dataframe\n",
    "hw4_mc_enhance.describe()"
   ]
  },
  {
   "cell_type": "code",
   "execution_count": 81,
   "metadata": {},
   "outputs": [
    {
     "name": "stdout",
     "output_type": "stream",
     "text": [
      "\n",
      "Proportion of observations in each class across all data:\n",
      " 2.0    0.333333\n",
      "1.0    0.333333\n",
      "0.0    0.333333\n",
      "Name: cancer_type, dtype: float64\n"
     ]
    }
   ],
   "source": [
    "# Determine number of observations in each class (cancer type)\n",
    "print('\\nProportion of observations in each class across all data:\\n', hw4_mc_enhance.cancer_type.value_counts(normalize=True))\n"
   ]
  },
  {
   "cell_type": "markdown",
   "metadata": {},
   "source": [
    "**4.2 Split the dataset into train and test, 80-20 split, random_state = 8.**\n",
    "\n",
    "**We are going to utilize these two features - 'M31523_at', 'X95735_at'.  Create a scatter plot of these two features using training dataset.  We should be able to discern from the plot which sample belongs to which `cancer_type`.** "
   ]
  },
  {
   "cell_type": "code",
   "execution_count": 7,
   "metadata": {},
   "outputs": [],
   "source": [
    "# Split data into training and testing sets\n",
    "\n",
    "mc_X_train, mc_X_test, mc_y_train, mc_y_test = train_test_split(hw4_mc_enhance.loc[:, hw4_mc_enhance.columns != 'cancer_type'], \n",
    "                                                         hw4_mc_enhance.cancer_type, test_size=0.2, \n",
    "                                                         random_state = 8, \n",
    "                                                         stratify = hw4_mc_enhance.cancer_type)"
   ]
  },
  {
   "cell_type": "code",
   "execution_count": 23,
   "metadata": {},
   "outputs": [
    {
     "data": {
      "text/plain": [
       "<matplotlib.axes._subplots.AxesSubplot at 0x1a22be71d0>"
      ]
     },
     "execution_count": 23,
     "metadata": {},
     "output_type": "execute_result"
    },
    {
     "data": {
      "image/png": "[encoded data removed]",
      "text/plain": [
       "<Figure size 432x288 with 1 Axes>"
      ]
     },
     "metadata": {
      "needs_background": "light"
     },
     "output_type": "display_data"
    }
   ],
   "source": [
    "# Create scatter plot of two features using training data\n",
    "\n",
    "#plt.scatter(mc_X_train['M31523_at'], mc_X_train['X95735_at'])\n",
    "mc_X_train_append_mc_y_train = mc_X_train\n",
    "mc_X_train_append_mc_y_train['cancer_type'] = mc_y_train.astype('int64')\n",
    "sns.scatterplot(x='M31523_at',y='X95735_at', hue='cancer_type', data = mc_X_train_append_mc_y_train)\n"
   ]
  },
  {
   "cell_type": "markdown",
   "metadata": {},
   "source": [
    "**4.3  Fit the following two models using crossvalidation:**\n",
    "\n",
    "**Logistic Regression Multiclass model with linear features.**\n",
    "\n",
    "**Logistic Regression Multiclass model with Polynomial features, degree = 2.**\n"
   ]
  },
  {
   "cell_type": "code",
   "execution_count": 22,
   "metadata": {},
   "outputs": [],
   "source": [
    "# Normalize the predictor data by learning the scaling parameters from mc_X_train and transforming mc_X_train and mc_X_test according to these parameters\n",
    "\n",
    "mc_scaler = MinMaxScaler().fit(mc_X_train)\n",
    "\n",
    "mc_X_train_scaled = pd.DataFrame(mc_scaler.transform(mc_X_train), columns = mc_X_train.columns)\n",
    "mc_X_test_scaled = pd.DataFrame(mc_scaler.transform(mc_X_test), columns=mc_X_test.columns)"
   ]
  },
  {
   "cell_type": "code",
   "execution_count": 84,
   "metadata": {},
   "outputs": [],
   "source": [
    "# Reshape\n",
    "\n",
    "mc_X_train_scaled_reshape = np.array(mc_X_train_scaled).reshape(mc_X_train_scaled.shape[0], mc_X_train_scaled.shape[1])\n"
   ]
  },
  {
   "cell_type": "code",
   "execution_count": 85,
   "metadata": {},
   "outputs": [
    {
     "name": "stderr",
     "output_type": "stream",
     "text": [
      "//anaconda3/envs/cs109a/lib/python3.7/site-packages/sklearn/linear_model/logistic.py:469: FutureWarning: Default multi_class will be changed to 'auto' in 0.22. Specify the multi_class option to silence this warning.\n",
      "  \"this warning.\", FutureWarning)\n"
     ]
    }
   ],
   "source": [
    "# Logistic regression multiclass model with linear features\n",
    "Cs = 10.0**np.arange(-5,5)\n",
    "\n",
    "logregCV = LogisticRegressionCV(Cs = Cs,cv=5,solver='liblinear',penalty='l1')\n",
    "\n",
    "model_logregCV = logregCV.fit(mc_X_train_scaled_reshape, mc_y_train)\n"
   ]
  },
  {
   "cell_type": "code",
   "execution_count": 24,
   "metadata": {},
   "outputs": [],
   "source": [
    "# Logistic regression multiclass model with polynomial features of degree 2\n",
    "\n",
    "\n",
    "#transformer_2 = PolynomialFeatures(2, include_bias=False)\n",
    "#expanded_mc_X_train = transformer_2.fit_transform(mc_X_train) # TRANSFORMS it to polynomial features\n",
    "#pd.DataFrame(expanded_mc_X_train).describe() # notice that the columns now contain x, x^2 values\n",
    "\n",
    "# Function written in HW3 to add second degree terms to a dataframe\n",
    "def add_higher_order_polynomial_terms(df, cols_to_add, degree):\n",
    "    df = df.copy()\n",
    "    cols = df.loc[:,cols_to_add].columns.copy()\n",
    "    for col in cols:\n",
    "        for i in range(2, degree+1):\n",
    "            df['{}^{}'.format(col, i)] = df[col]**i\n",
    "    return df\n",
    "\n",
    "cols_to_add = mc_X_train_scaled.columns.values\n",
    "mc_X_train_scaled_poly = add_higher_order_polynomial_terms(mc_X_train_scaled, cols_to_add, 2)"
   ]
  },
  {
   "cell_type": "code",
   "execution_count": 25,
   "metadata": {},
   "outputs": [
    {
     "data": {
      "text/html": [
       "<div>\n",
       "<style scoped>\n",
       "    .dataframe tbody tr th:only-of-type {\n",
       "        vertical-align: middle;\n",
       "    }\n",
       "\n",
       "    .dataframe tbody tr th {\n",
       "        vertical-align: top;\n",
       "    }\n",
       "\n",
       "    .dataframe thead th {\n",
       "        text-align: right;\n",
       "    }\n",
       "</style>\n",
       "<table border=\"1\" class=\"dataframe\">\n",
       "  <thead>\n",
       "    <tr style=\"text-align: right;\">\n",
       "      <th></th>\n",
       "      <th>AFFX-BioB-5_at</th>\n",
       "      <th>AFFX-BioB-M_at</th>\n",
       "      <th>AFFX-BioB-3_at</th>\n",
       "      <th>AFFX-BioC-5_at</th>\n",
       "      <th>AFFX-BioC-3_at</th>\n",
       "      <th>AFFX-BioDn-5_at</th>\n",
       "      <th>AFFX-BioDn-3_at</th>\n",
       "      <th>AFFX-CreX-5_at</th>\n",
       "      <th>AFFX-CreX-3_at</th>\n",
       "      <th>AFFX-BioB-5_st</th>\n",
       "      <th>...</th>\n",
       "      <th>U48730_at^2</th>\n",
       "      <th>U58516_at^2</th>\n",
       "      <th>U73738_at^2</th>\n",
       "      <th>X06956_at^2</th>\n",
       "      <th>X16699_at^2</th>\n",
       "      <th>X83863_at^2</th>\n",
       "      <th>Z17240_at^2</th>\n",
       "      <th>L49218_f_at^2</th>\n",
       "      <th>M71243_f_at^2</th>\n",
       "      <th>Z78285_f_at^2</th>\n",
       "    </tr>\n",
       "  </thead>\n",
       "  <tbody>\n",
       "    <tr>\n",
       "      <th>0</th>\n",
       "      <td>0.698362</td>\n",
       "      <td>0.763718</td>\n",
       "      <td>0.883320</td>\n",
       "      <td>0.444712</td>\n",
       "      <td>0.512402</td>\n",
       "      <td>0.517067</td>\n",
       "      <td>0.634230</td>\n",
       "      <td>0.607456</td>\n",
       "      <td>0.606844</td>\n",
       "      <td>0.543375</td>\n",
       "      <td>...</td>\n",
       "      <td>0.221064</td>\n",
       "      <td>0.746594</td>\n",
       "      <td>0.358793</td>\n",
       "      <td>0.009928</td>\n",
       "      <td>0.503228</td>\n",
       "      <td>0.073848</td>\n",
       "      <td>0.239178</td>\n",
       "      <td>0.715124</td>\n",
       "      <td>0.011497</td>\n",
       "      <td>0.348285</td>\n",
       "    </tr>\n",
       "    <tr>\n",
       "      <th>1</th>\n",
       "      <td>0.500044</td>\n",
       "      <td>0.387926</td>\n",
       "      <td>0.306933</td>\n",
       "      <td>0.623743</td>\n",
       "      <td>0.114741</td>\n",
       "      <td>0.260100</td>\n",
       "      <td>0.462357</td>\n",
       "      <td>0.157150</td>\n",
       "      <td>0.582059</td>\n",
       "      <td>0.530250</td>\n",
       "      <td>...</td>\n",
       "      <td>0.122731</td>\n",
       "      <td>0.090800</td>\n",
       "      <td>0.126963</td>\n",
       "      <td>0.015847</td>\n",
       "      <td>0.181359</td>\n",
       "      <td>0.934469</td>\n",
       "      <td>0.045525</td>\n",
       "      <td>0.071175</td>\n",
       "      <td>0.073678</td>\n",
       "      <td>0.113762</td>\n",
       "    </tr>\n",
       "    <tr>\n",
       "      <th>2</th>\n",
       "      <td>0.601034</td>\n",
       "      <td>0.609234</td>\n",
       "      <td>0.048312</td>\n",
       "      <td>0.589775</td>\n",
       "      <td>0.175496</td>\n",
       "      <td>0.154716</td>\n",
       "      <td>0.563166</td>\n",
       "      <td>0.061838</td>\n",
       "      <td>0.561911</td>\n",
       "      <td>0.100761</td>\n",
       "      <td>...</td>\n",
       "      <td>0.353809</td>\n",
       "      <td>0.535392</td>\n",
       "      <td>0.326194</td>\n",
       "      <td>0.001631</td>\n",
       "      <td>0.430698</td>\n",
       "      <td>0.180611</td>\n",
       "      <td>0.533737</td>\n",
       "      <td>0.251368</td>\n",
       "      <td>0.015274</td>\n",
       "      <td>0.101496</td>\n",
       "    </tr>\n",
       "    <tr>\n",
       "      <th>3</th>\n",
       "      <td>0.693236</td>\n",
       "      <td>0.649599</td>\n",
       "      <td>0.340474</td>\n",
       "      <td>0.614404</td>\n",
       "      <td>0.450144</td>\n",
       "      <td>0.883405</td>\n",
       "      <td>0.491134</td>\n",
       "      <td>0.586650</td>\n",
       "      <td>0.394218</td>\n",
       "      <td>0.514012</td>\n",
       "      <td>...</td>\n",
       "      <td>0.227646</td>\n",
       "      <td>0.094198</td>\n",
       "      <td>0.463332</td>\n",
       "      <td>0.014048</td>\n",
       "      <td>0.440401</td>\n",
       "      <td>0.026739</td>\n",
       "      <td>0.022176</td>\n",
       "      <td>0.306970</td>\n",
       "      <td>0.014872</td>\n",
       "      <td>0.309326</td>\n",
       "    </tr>\n",
       "    <tr>\n",
       "      <th>4</th>\n",
       "      <td>0.546943</td>\n",
       "      <td>0.473984</td>\n",
       "      <td>0.366591</td>\n",
       "      <td>0.323056</td>\n",
       "      <td>0.335872</td>\n",
       "      <td>0.653037</td>\n",
       "      <td>0.454617</td>\n",
       "      <td>0.536356</td>\n",
       "      <td>0.263903</td>\n",
       "      <td>0.443540</td>\n",
       "      <td>...</td>\n",
       "      <td>0.135742</td>\n",
       "      <td>0.076935</td>\n",
       "      <td>0.226579</td>\n",
       "      <td>0.038483</td>\n",
       "      <td>0.146058</td>\n",
       "      <td>0.063700</td>\n",
       "      <td>0.069484</td>\n",
       "      <td>0.170825</td>\n",
       "      <td>0.002419</td>\n",
       "      <td>0.121278</td>\n",
       "    </tr>\n",
       "  </tbody>\n",
       "</table>\n",
       "<p>5 rows × 14258 columns</p>\n",
       "</div>"
      ],
      "text/plain": [
       "   AFFX-BioB-5_at  AFFX-BioB-M_at  AFFX-BioB-3_at  AFFX-BioC-5_at  \\\n",
       "0        0.698362        0.763718        0.883320        0.444712   \n",
       "1        0.500044        0.387926        0.306933        0.623743   \n",
       "2        0.601034        0.609234        0.048312        0.589775   \n",
       "3        0.693236        0.649599        0.340474        0.614404   \n",
       "4        0.546943        0.473984        0.366591        0.323056   \n",
       "\n",
       "   AFFX-BioC-3_at  AFFX-BioDn-5_at  AFFX-BioDn-3_at  AFFX-CreX-5_at  \\\n",
       "0        0.512402         0.517067         0.634230        0.607456   \n",
       "1        0.114741         0.260100         0.462357        0.157150   \n",
       "2        0.175496         0.154716         0.563166        0.061838   \n",
       "3        0.450144         0.883405         0.491134        0.586650   \n",
       "4        0.335872         0.653037         0.454617        0.536356   \n",
       "\n",
       "   AFFX-CreX-3_at  AFFX-BioB-5_st  ...  U48730_at^2  U58516_at^2  U73738_at^2  \\\n",
       "0        0.606844        0.543375  ...     0.221064     0.746594     0.358793   \n",
       "1        0.582059        0.530250  ...     0.122731     0.090800     0.126963   \n",
       "2        0.561911        0.100761  ...     0.353809     0.535392     0.326194   \n",
       "3        0.394218        0.514012  ...     0.227646     0.094198     0.463332   \n",
       "4        0.263903        0.443540  ...     0.135742     0.076935     0.226579   \n",
       "\n",
       "   X06956_at^2  X16699_at^2  X83863_at^2  Z17240_at^2  L49218_f_at^2  \\\n",
       "0     0.009928     0.503228     0.073848     0.239178       0.715124   \n",
       "1     0.015847     0.181359     0.934469     0.045525       0.071175   \n",
       "2     0.001631     0.430698     0.180611     0.533737       0.251368   \n",
       "3     0.014048     0.440401     0.026739     0.022176       0.306970   \n",
       "4     0.038483     0.146058     0.063700     0.069484       0.170825   \n",
       "\n",
       "   M71243_f_at^2  Z78285_f_at^2  \n",
       "0       0.011497       0.348285  \n",
       "1       0.073678       0.113762  \n",
       "2       0.015274       0.101496  \n",
       "3       0.014872       0.309326  \n",
       "4       0.002419       0.121278  \n",
       "\n",
       "[5 rows x 14258 columns]"
      ]
     },
     "execution_count": 25,
     "metadata": {},
     "output_type": "execute_result"
    }
   ],
   "source": [
    "mc_X_train_scaled_poly.head()"
   ]
  },
  {
   "cell_type": "code",
   "execution_count": 26,
   "metadata": {},
   "outputs": [
    {
     "data": {
      "text/html": [
       "<div>\n",
       "<style scoped>\n",
       "    .dataframe tbody tr th:only-of-type {\n",
       "        vertical-align: middle;\n",
       "    }\n",
       "\n",
       "    .dataframe tbody tr th {\n",
       "        vertical-align: top;\n",
       "    }\n",
       "\n",
       "    .dataframe thead th {\n",
       "        text-align: right;\n",
       "    }\n",
       "</style>\n",
       "<table border=\"1\" class=\"dataframe\">\n",
       "  <thead>\n",
       "    <tr style=\"text-align: right;\">\n",
       "      <th></th>\n",
       "      <th>AFFX-BioB-5_at</th>\n",
       "      <th>AFFX-BioB-M_at</th>\n",
       "      <th>AFFX-BioB-3_at</th>\n",
       "      <th>AFFX-BioC-5_at</th>\n",
       "      <th>AFFX-BioC-3_at</th>\n",
       "      <th>AFFX-BioDn-5_at</th>\n",
       "      <th>AFFX-BioDn-3_at</th>\n",
       "      <th>AFFX-CreX-5_at</th>\n",
       "      <th>AFFX-CreX-3_at</th>\n",
       "      <th>AFFX-BioB-5_st</th>\n",
       "      <th>...</th>\n",
       "      <th>U48730_at^2</th>\n",
       "      <th>U58516_at^2</th>\n",
       "      <th>U73738_at^2</th>\n",
       "      <th>X06956_at^2</th>\n",
       "      <th>X16699_at^2</th>\n",
       "      <th>X83863_at^2</th>\n",
       "      <th>Z17240_at^2</th>\n",
       "      <th>L49218_f_at^2</th>\n",
       "      <th>M71243_f_at^2</th>\n",
       "      <th>Z78285_f_at^2</th>\n",
       "    </tr>\n",
       "  </thead>\n",
       "  <tbody>\n",
       "    <tr>\n",
       "      <th>count</th>\n",
       "      <td>600.000000</td>\n",
       "      <td>600.000000</td>\n",
       "      <td>600.000000</td>\n",
       "      <td>600.000000</td>\n",
       "      <td>600.000000</td>\n",
       "      <td>600.000000</td>\n",
       "      <td>600.000000</td>\n",
       "      <td>600.000000</td>\n",
       "      <td>600.000000</td>\n",
       "      <td>600.000000</td>\n",
       "      <td>...</td>\n",
       "      <td>600.000000</td>\n",
       "      <td>600.000000</td>\n",
       "      <td>600.000000</td>\n",
       "      <td>600.000000</td>\n",
       "      <td>600.000000</td>\n",
       "      <td>600.000000</td>\n",
       "      <td>600.000000</td>\n",
       "      <td>600.000000</td>\n",
       "      <td>600.000000</td>\n",
       "      <td>600.000000</td>\n",
       "    </tr>\n",
       "    <tr>\n",
       "      <th>mean</th>\n",
       "      <td>0.614638</td>\n",
       "      <td>0.562529</td>\n",
       "      <td>0.457891</td>\n",
       "      <td>0.515905</td>\n",
       "      <td>0.407413</td>\n",
       "      <td>0.530745</td>\n",
       "      <td>0.522271</td>\n",
       "      <td>0.431282</td>\n",
       "      <td>0.467043</td>\n",
       "      <td>0.395802</td>\n",
       "      <td>...</td>\n",
       "      <td>0.242445</td>\n",
       "      <td>0.232185</td>\n",
       "      <td>0.366148</td>\n",
       "      <td>0.036562</td>\n",
       "      <td>0.394948</td>\n",
       "      <td>0.154022</td>\n",
       "      <td>0.198688</td>\n",
       "      <td>0.395529</td>\n",
       "      <td>0.043979</td>\n",
       "      <td>0.255253</td>\n",
       "    </tr>\n",
       "    <tr>\n",
       "      <th>std</th>\n",
       "      <td>0.183396</td>\n",
       "      <td>0.179384</td>\n",
       "      <td>0.229402</td>\n",
       "      <td>0.177989</td>\n",
       "      <td>0.191420</td>\n",
       "      <td>0.255983</td>\n",
       "      <td>0.154539</td>\n",
       "      <td>0.228788</td>\n",
       "      <td>0.154651</td>\n",
       "      <td>0.191995</td>\n",
       "      <td>...</td>\n",
       "      <td>0.187013</td>\n",
       "      <td>0.242369</td>\n",
       "      <td>0.167826</td>\n",
       "      <td>0.105851</td>\n",
       "      <td>0.202169</td>\n",
       "      <td>0.198254</td>\n",
       "      <td>0.237957</td>\n",
       "      <td>0.235315</td>\n",
       "      <td>0.097449</td>\n",
       "      <td>0.176778</td>\n",
       "    </tr>\n",
       "    <tr>\n",
       "      <th>min</th>\n",
       "      <td>0.000000</td>\n",
       "      <td>0.000000</td>\n",
       "      <td>0.000000</td>\n",
       "      <td>0.000000</td>\n",
       "      <td>0.000000</td>\n",
       "      <td>0.000000</td>\n",
       "      <td>0.000000</td>\n",
       "      <td>0.000000</td>\n",
       "      <td>0.000000</td>\n",
       "      <td>0.000000</td>\n",
       "      <td>...</td>\n",
       "      <td>0.000000</td>\n",
       "      <td>0.000000</td>\n",
       "      <td>0.000000</td>\n",
       "      <td>0.000000</td>\n",
       "      <td>0.000000</td>\n",
       "      <td>0.000000</td>\n",
       "      <td>0.000000</td>\n",
       "      <td>0.000000</td>\n",
       "      <td>0.000000</td>\n",
       "      <td>0.000000</td>\n",
       "    </tr>\n",
       "    <tr>\n",
       "      <th>25%</th>\n",
       "      <td>0.534816</td>\n",
       "      <td>0.436580</td>\n",
       "      <td>0.308879</td>\n",
       "      <td>0.398687</td>\n",
       "      <td>0.246104</td>\n",
       "      <td>0.393523</td>\n",
       "      <td>0.417229</td>\n",
       "      <td>0.274545</td>\n",
       "      <td>0.378327</td>\n",
       "      <td>0.263638</td>\n",
       "      <td>...</td>\n",
       "      <td>0.103457</td>\n",
       "      <td>0.058405</td>\n",
       "      <td>0.258760</td>\n",
       "      <td>0.007580</td>\n",
       "      <td>0.223209</td>\n",
       "      <td>0.034263</td>\n",
       "      <td>0.048448</td>\n",
       "      <td>0.217257</td>\n",
       "      <td>0.013047</td>\n",
       "      <td>0.125228</td>\n",
       "    </tr>\n",
       "    <tr>\n",
       "      <th>50%</th>\n",
       "      <td>0.601034</td>\n",
       "      <td>0.581516</td>\n",
       "      <td>0.424313</td>\n",
       "      <td>0.561949</td>\n",
       "      <td>0.435637</td>\n",
       "      <td>0.485433</td>\n",
       "      <td>0.508494</td>\n",
       "      <td>0.465742</td>\n",
       "      <td>0.478680</td>\n",
       "      <td>0.386765</td>\n",
       "      <td>...</td>\n",
       "      <td>0.216442</td>\n",
       "      <td>0.127327</td>\n",
       "      <td>0.344512</td>\n",
       "      <td>0.014482</td>\n",
       "      <td>0.395851</td>\n",
       "      <td>0.079614</td>\n",
       "      <td>0.089071</td>\n",
       "      <td>0.341053</td>\n",
       "      <td>0.019024</td>\n",
       "      <td>0.236265</td>\n",
       "    </tr>\n",
       "    <tr>\n",
       "      <th>75%</th>\n",
       "      <td>0.723872</td>\n",
       "      <td>0.694687</td>\n",
       "      <td>0.613588</td>\n",
       "      <td>0.617948</td>\n",
       "      <td>0.532343</td>\n",
       "      <td>0.762207</td>\n",
       "      <td>0.608168</td>\n",
       "      <td>0.593651</td>\n",
       "      <td>0.585955</td>\n",
       "      <td>0.541041</td>\n",
       "      <td>...</td>\n",
       "      <td>0.329737</td>\n",
       "      <td>0.379196</td>\n",
       "      <td>0.441832</td>\n",
       "      <td>0.026434</td>\n",
       "      <td>0.497115</td>\n",
       "      <td>0.201540</td>\n",
       "      <td>0.233109</td>\n",
       "      <td>0.577725</td>\n",
       "      <td>0.033307</td>\n",
       "      <td>0.328178</td>\n",
       "    </tr>\n",
       "    <tr>\n",
       "      <th>max</th>\n",
       "      <td>1.000000</td>\n",
       "      <td>1.000000</td>\n",
       "      <td>1.000000</td>\n",
       "      <td>1.000000</td>\n",
       "      <td>1.000000</td>\n",
       "      <td>1.000000</td>\n",
       "      <td>1.000000</td>\n",
       "      <td>1.000000</td>\n",
       "      <td>1.000000</td>\n",
       "      <td>1.000000</td>\n",
       "      <td>...</td>\n",
       "      <td>1.000000</td>\n",
       "      <td>1.000000</td>\n",
       "      <td>1.000000</td>\n",
       "      <td>1.000000</td>\n",
       "      <td>1.000000</td>\n",
       "      <td>1.000000</td>\n",
       "      <td>1.000000</td>\n",
       "      <td>1.000000</td>\n",
       "      <td>1.000000</td>\n",
       "      <td>1.000000</td>\n",
       "    </tr>\n",
       "  </tbody>\n",
       "</table>\n",
       "<p>8 rows × 14258 columns</p>\n",
       "</div>"
      ],
      "text/plain": [
       "       AFFX-BioB-5_at  AFFX-BioB-M_at  AFFX-BioB-3_at  AFFX-BioC-5_at  \\\n",
       "count      600.000000      600.000000      600.000000      600.000000   \n",
       "mean         0.614638        0.562529        0.457891        0.515905   \n",
       "std          0.183396        0.179384        0.229402        0.177989   \n",
       "min          0.000000        0.000000        0.000000        0.000000   \n",
       "25%          0.534816        0.436580        0.308879        0.398687   \n",
       "50%          0.601034        0.581516        0.424313        0.561949   \n",
       "75%          0.723872        0.694687        0.613588        0.617948   \n",
       "max          1.000000        1.000000        1.000000        1.000000   \n",
       "\n",
       "       AFFX-BioC-3_at  AFFX-BioDn-5_at  AFFX-BioDn-3_at  AFFX-CreX-5_at  \\\n",
       "count      600.000000       600.000000       600.000000      600.000000   \n",
       "mean         0.407413         0.530745         0.522271        0.431282   \n",
       "std          0.191420         0.255983         0.154539        0.228788   \n",
       "min          0.000000         0.000000         0.000000        0.000000   \n",
       "25%          0.246104         0.393523         0.417229        0.274545   \n",
       "50%          0.435637         0.485433         0.508494        0.465742   \n",
       "75%          0.532343         0.762207         0.608168        0.593651   \n",
       "max          1.000000         1.000000         1.000000        1.000000   \n",
       "\n",
       "       AFFX-CreX-3_at  AFFX-BioB-5_st  ...  U48730_at^2  U58516_at^2  \\\n",
       "count      600.000000      600.000000  ...   600.000000   600.000000   \n",
       "mean         0.467043        0.395802  ...     0.242445     0.232185   \n",
       "std          0.154651        0.191995  ...     0.187013     0.242369   \n",
       "min          0.000000        0.000000  ...     0.000000     0.000000   \n",
       "25%          0.378327        0.263638  ...     0.103457     0.058405   \n",
       "50%          0.478680        0.386765  ...     0.216442     0.127327   \n",
       "75%          0.585955        0.541041  ...     0.329737     0.379196   \n",
       "max          1.000000        1.000000  ...     1.000000     1.000000   \n",
       "\n",
       "       U73738_at^2  X06956_at^2  X16699_at^2  X83863_at^2  Z17240_at^2  \\\n",
       "count   600.000000   600.000000   600.000000   600.000000   600.000000   \n",
       "mean      0.366148     0.036562     0.394948     0.154022     0.198688   \n",
       "std       0.167826     0.105851     0.202169     0.198254     0.237957   \n",
       "min       0.000000     0.000000     0.000000     0.000000     0.000000   \n",
       "25%       0.258760     0.007580     0.223209     0.034263     0.048448   \n",
       "50%       0.344512     0.014482     0.395851     0.079614     0.089071   \n",
       "75%       0.441832     0.026434     0.497115     0.201540     0.233109   \n",
       "max       1.000000     1.000000     1.000000     1.000000     1.000000   \n",
       "\n",
       "       L49218_f_at^2  M71243_f_at^2  Z78285_f_at^2  \n",
       "count     600.000000     600.000000     600.000000  \n",
       "mean        0.395529       0.043979       0.255253  \n",
       "std         0.235315       0.097449       0.176778  \n",
       "min         0.000000       0.000000       0.000000  \n",
       "25%         0.217257       0.013047       0.125228  \n",
       "50%         0.341053       0.019024       0.236265  \n",
       "75%         0.577725       0.033307       0.328178  \n",
       "max         1.000000       1.000000       1.000000  \n",
       "\n",
       "[8 rows x 14258 columns]"
      ]
     },
     "execution_count": 26,
     "metadata": {},
     "output_type": "execute_result"
    }
   ],
   "source": [
    "mc_X_train_scaled_poly.describe()"
   ]
  },
  {
   "cell_type": "code",
   "execution_count": 29,
   "metadata": {},
   "outputs": [
    {
     "name": "stderr",
     "output_type": "stream",
     "text": [
      "//anaconda3/envs/cs109a/lib/python3.7/site-packages/sklearn/linear_model/logistic.py:469: FutureWarning: Default multi_class will be changed to 'auto' in 0.22. Specify the multi_class option to silence this warning.\n",
      "  \"this warning.\", FutureWarning)\n"
     ]
    }
   ],
   "source": [
    "# Logistic regression multiclass model with polynomial of degree 2 features\n",
    "Cs_poly = 10.0**np.arange(-5,5)\n",
    "\n",
    "logregCV_poly = LogisticRegressionCV(Cs = Cs_poly,cv=5,solver='liblinear',penalty='l1')\n",
    "\n",
    "model_logregCV_poly = logregCV_poly.fit(mc_X_train_scaled_poly, mc_y_train)"
   ]
  },
  {
   "cell_type": "code",
   "execution_count": 37,
   "metadata": {},
   "outputs": [],
   "source": [
    "mc_y_train_poly_predict = model_logregCV_poly.predict(mc_X_train_scaled_poly)"
   ]
  },
  {
   "cell_type": "code",
   "execution_count": 105,
   "metadata": {},
   "outputs": [
    {
     "ename": "AttributeError",
     "evalue": "'LogisticRegressionCV' object has no attribute 'shape'",
     "output_type": "error",
     "traceback": [
      "\u001b[0;31m---------------------------------------------------------------------------\u001b[0m",
      "\u001b[0;31mAttributeError\u001b[0m                            Traceback (most recent call last)",
      "\u001b[0;32m<ipython-input-105-5b159ba63582>\u001b[0m in \u001b[0;36m<module>\u001b[0;34m\u001b[0m\n\u001b[0;32m----> 1\u001b[0;31m \u001b[0mmodel_logregCV\u001b[0m\u001b[0;34m.\u001b[0m\u001b[0mshape\u001b[0m\u001b[0;34m\u001b[0m\u001b[0;34m\u001b[0m\u001b[0m\n\u001b[0m",
      "\u001b[0;31mAttributeError\u001b[0m: 'LogisticRegressionCV' object has no attribute 'shape'"
     ]
    }
   ],
   "source": [
    "model_logregCV.shape"
   ]
  },
  {
   "cell_type": "code",
   "execution_count": 39,
   "metadata": {},
   "outputs": [
    {
     "data": {
      "text/plain": [
       "600"
      ]
     },
     "execution_count": 39,
     "metadata": {},
     "output_type": "execute_result"
    }
   ],
   "source": [
    "len(mc_y_train_poly_predict)"
   ]
  },
  {
   "cell_type": "markdown",
   "metadata": {},
   "source": [
    "**4.4 Plot the decision boundary and interpret results. Hint: You may utilize the function `overlay_decision_boundary`** \n"
   ]
  },
  {
   "cell_type": "code",
   "execution_count": 31,
   "metadata": {},
   "outputs": [],
   "source": [
    "def overlay_decision_boundary(ax, model, colors=None, nx=200, ny=200, desaturate=.5, xlim=None, ylim=None):\n",
    "    \"\"\"\n",
    "    A function that visualizes the decision boundaries of a classifier.\n",
    "    \n",
    "    ax: Matplotlib Axes to plot on\n",
    "    model: Classifier to use.\n",
    "     - if `model` has a `.predict` method, like an sklearn classifier, we call `model.predict(X)`\n",
    "     - otherwise, we simply call `model(X)`\n",
    "    colors: list or dict of colors to use. Use color `colors[i]` for class i.\n",
    "     - If colors is not provided, uses the current color cycle\n",
    "    nx, ny: number of mesh points to evaluated the classifier on\n",
    "    desaturate: how much to desaturate each of the colors (for better contrast with the sample points)\n",
    "    xlim, ylim: range to plot on. (If the default, None, is passed, the limits will be taken from `ax`.)\n",
    "    \"\"\"\n",
    "    # Create mesh.\n",
    "    xmin, xmax = ax.get_xlim() if xlim is None else xlim\n",
    "    ymin, ymax = ax.get_ylim() if ylim is None else ylim\n",
    "    xx, yy = np.meshgrid(\n",
    "        np.linspace(xmin, xmax, nx),\n",
    "        np.linspace(ymin, ymax, ny))\n",
    "    X = np.c_[xx.flatten(), yy.flatten()]\n",
    "\n",
    "    # Predict on mesh of points.\n",
    "    model = getattr(model, 'predict', model)\n",
    "    #y = model(X) deleted this out and added next line\n",
    "    y = model(X.reshape(model.coef_.shape[1]))\n",
    "    #print(\"Do I predict\" , y)\n",
    "    \n",
    "    \n",
    "#     y[np.where(y=='aml')]=3\n",
    "#     y[np.where(y=='allT')]=2\n",
    "#     y[np.where(y=='allB')]=1\n",
    "    \n",
    "    \n",
    "    \n",
    "    y = y.astype(int) # This may be necessary for 32-bit Python.\n",
    "    y = y.reshape((nx, ny))\n",
    "\n",
    "    # Generate colormap.\n",
    "    if colors is None:\n",
    "        # If colors not provided, use the current color cycle.\n",
    "        # Shift the indices so that the lowest class actually predicted gets the first color.\n",
    "        # ^ This is a bit magic, consider removing for next year.\n",
    "        colors = (['white'] * np.min(y)) + sns.utils.get_color_cycle()\n",
    "\n",
    "    if isinstance(colors, dict):\n",
    "        missing_colors = [idx for idx in np.unique(y) if idx not in colors]\n",
    "        assert len(missing_colors) == 0, f\"Color not specified for predictions {missing_colors}.\"\n",
    "\n",
    "        # Make a list of colors, filling in items from the dict.\n",
    "        color_list = ['white'] * (np.max(y) + 1)\n",
    "        for idx, val in colors.items():\n",
    "            color_list[idx] = val\n",
    "    else:\n",
    "        assert len(colors) >= np.max(y) + 1, \"Insufficient colors passed for all predictions.\"\n",
    "        color_list = colors\n",
    "    color_list = [sns.utils.desaturate(color, desaturate) for color in color_list]\n",
    "    cmap = matplotlib.colors.ListedColormap(color_list)\n",
    "\n",
    "    # Plot decision surface\n",
    "    ax.pcolormesh(xx, yy, y, zorder=-2, cmap=cmap, norm=matplotlib.colors.NoNorm(), vmin=0, vmax=y.max() + 1)\n",
    "    xx = xx.reshape(nx, ny)\n",
    "    yy = yy.reshape(nx, ny)\n",
    "    if len(np.unique(y)) > 1:\n",
    "        ax.contour(xx, yy, y, colors=\"black\", linewidths=1, zorder=-1)\n",
    "    else:\n",
    "        print(\"Warning: only one class predicted, so not plotting contour lines.\")"
   ]
  },
  {
   "cell_type": "code",
   "execution_count": 110,
   "metadata": {},
   "outputs": [
    {
     "ename": "ValueError",
     "evalue": "cannot reshape array of size 2000 into shape (7129,1)",
     "output_type": "error",
     "traceback": [
      "\u001b[0;31m---------------------------------------------------------------------------\u001b[0m",
      "\u001b[0;31mValueError\u001b[0m                                Traceback (most recent call last)",
      "\u001b[0;32m<ipython-input-110-2383c48beb54>\u001b[0m in \u001b[0;36m<module>\u001b[0;34m\u001b[0m\n\u001b[0;32m----> 1\u001b[0;31m \u001b[0mmodel\u001b[0m\u001b[0;34m(\u001b[0m\u001b[0mX\u001b[0m\u001b[0;34m.\u001b[0m\u001b[0mreshape\u001b[0m\u001b[0;34m(\u001b[0m\u001b[0mmodel_logregCV\u001b[0m\u001b[0;34m.\u001b[0m\u001b[0mcoef_\u001b[0m\u001b[0;34m.\u001b[0m\u001b[0mshape\u001b[0m\u001b[0;34m[\u001b[0m\u001b[0;36m1\u001b[0m\u001b[0;34m]\u001b[0m\u001b[0;34m,\u001b[0m\u001b[0;36m1\u001b[0m\u001b[0;34m)\u001b[0m\u001b[0;34m)\u001b[0m\u001b[0;34m\u001b[0m\u001b[0;34m\u001b[0m\u001b[0m\n\u001b[0m",
      "\u001b[0;31mValueError\u001b[0m: cannot reshape array of size 2000 into shape (7129,1)"
     ]
    }
   ],
   "source": [
    "model(X.reshape(model_logregCV.coef_.shape[1],1))"
   ]
  },
  {
   "cell_type": "code",
   "execution_count": 90,
   "metadata": {},
   "outputs": [
    {
     "name": "stdout",
     "output_type": "stream",
     "text": [
      "training score : 0.995 (multinomial)\n",
      "training score : 0.976 (ovr)\n"
     ]
    },
    {
     "data": {
      "image/png": "[encoded data removed]",
      "text/plain": [
       "<Figure size 432x288 with 1 Axes>"
      ]
     },
     "metadata": {
      "needs_background": "light"
     },
     "output_type": "display_data"
    },
    {
     "data": {
      "image/png": "[encoded data removed]",
      "text/plain": [
       "<Figure size 432x288 with 1 Axes>"
      ]
     },
     "metadata": {
      "needs_background": "light"
     },
     "output_type": "display_data"
    }
   ],
   "source": [
    "from sklearn.datasets import make_blobs\n",
    "from sklearn.linear_model import LogisticRegression\n",
    "\n",
    "# make 3-class dataset for classification\n",
    "centers = [[-5, 0], [0, 1.5], [5, -1]]\n",
    "X, y = make_blobs(n_samples=1000, centers=centers, random_state=40)\n",
    "transformation = [[0.4, 0.2], [-0.4, 1.2]]\n",
    "X = np.dot(X, transformation)\n",
    "\n",
    "for multi_class in ('multinomial', 'ovr'):\n",
    "    clf = LogisticRegression(solver='sag', max_iter=100, random_state=42,\n",
    "                             multi_class=multi_class).fit(X, y)\n",
    "\n",
    "    # print the training scores\n",
    "    print(\"training score : %.3f (%s)\" % (clf.score(X, y), multi_class))\n",
    "\n",
    "    # create a mesh to plot in\n",
    "    h = .02  # step size in the mesh\n",
    "    x_min, x_max = X[:, 0].min() - 1, X[:, 0].max() + 1\n",
    "    y_min, y_max = X[:, 1].min() - 1, X[:, 1].max() + 1\n",
    "    xx, yy = np.meshgrid(np.arange(x_min, x_max, h),\n",
    "                         np.arange(y_min, y_max, h))\n",
    "\n",
    "    # Plot the decision boundary. For that, we will assign a color to each\n",
    "    # point in the mesh [x_min, x_max]x[y_min, y_max].\n",
    "    Z = clf.predict(np.c_[xx.ravel(), yy.ravel()])\n",
    "    # Put the result into a color plot\n",
    "    Z = Z.reshape(xx.shape)\n",
    "    plt.figure()\n",
    "    plt.contourf(xx, yy, Z, cmap=plt.cm.Paired)\n",
    "    plt.title(\"Decision surface of LogisticRegression (%s)\" % multi_class)\n",
    "    plt.axis('tight')\n",
    "\n",
    "    # Plot also the training points\n",
    "    colors = \"bry\"\n",
    "    for i, color in zip(clf.classes_, colors):\n",
    "        idx = np.where(y == i)\n",
    "        plt.scatter(X[idx, 0], X[idx, 1], c=color, cmap=plt.cm.Paired,\n",
    "                    edgecolor='black', s=20)\n",
    "\n",
    "    # Plot the three one-against-all classifiers\n",
    "    xmin, xmax = plt.xlim()\n",
    "    ymin, ymax = plt.ylim()\n",
    "    coef = clf.coef_\n",
    "    intercept = clf.intercept_\n",
    "\n",
    "    def plot_hyperplane(c, color):\n",
    "        def line(x0):\n",
    "            return (-(x0 * coef[c, 0]) - intercept[c]) / coef[c, 1]\n",
    "        plt.plot([xmin, xmax], [line(xmin), line(xmax)],\n",
    "                 ls=\"--\", color=color)\n",
    "\n",
    "    for i, color in zip(clf.classes_, colors):\n",
    "        plot_hyperplane(i, color)\n",
    "\n",
    "plt.show()"
   ]
  },
  {
   "cell_type": "code",
   "execution_count": 92,
   "metadata": {},
   "outputs": [
    {
     "data": {
      "text/plain": [
       "(615, 495)"
      ]
     },
     "execution_count": 92,
     "metadata": {},
     "output_type": "execute_result"
    }
   ],
   "source": [
    "Z.shape"
   ]
  },
  {
   "cell_type": "code",
   "execution_count": 96,
   "metadata": {},
   "outputs": [
    {
     "data": {
      "text/plain": [
       "(304425,)"
      ]
     },
     "execution_count": 96,
     "metadata": {},
     "output_type": "execute_result"
    }
   ],
   "source": [
    "clf.predict(np.c_[xx.ravel(), yy.ravel()]).shape"
   ]
  },
  {
   "cell_type": "code",
   "execution_count": 93,
   "metadata": {},
   "outputs": [
    {
     "data": {
      "text/plain": [
       "(1000, 2)"
      ]
     },
     "execution_count": 93,
     "metadata": {},
     "output_type": "execute_result"
    }
   ],
   "source": [
    "X.shape"
   ]
  },
  {
   "cell_type": "code",
   "execution_count": 40,
   "metadata": {},
   "outputs": [],
   "source": [
    "model = getattr(model_logregCV, 'predict', model_logregCV)"
   ]
  },
  {
   "cell_type": "code",
   "execution_count": 53,
   "metadata": {},
   "outputs": [
    {
     "data": {
      "image/png": "[encoded data removed]",
      "text/plain": [
       "<Figure size 432x288 with 1 Axes>"
      ]
     },
     "metadata": {
      "needs_background": "light"
     },
     "output_type": "display_data"
    }
   ],
   "source": [
    "fig1, ax = plt.subplots()\n",
    "nx=200\n",
    "ny=200\n",
    "xmin, xmax = ax.get_xlim()\n",
    "ymin, ymax = ax.get_ylim()\n",
    "xx, yy = np.meshgrid(\n",
    "np.linspace(xmin, xmax, nx),\n",
    "np.linspace(ymin, ymax, ny))\n",
    "X = np.c_[xx.flatten(), yy.flatten()]"
   ]
  },
  {
   "cell_type": "code",
   "execution_count": 102,
   "metadata": {},
   "outputs": [
    {
     "data": {
      "text/plain": [
       "(600,)"
      ]
     },
     "execution_count": 102,
     "metadata": {},
     "output_type": "execute_result"
    }
   ],
   "source": [
    "model_logregCV.predict(np.array(mc_X_train).reshape(-1,7129)).shape"
   ]
  },
  {
   "cell_type": "code",
   "execution_count": 104,
   "metadata": {},
   "outputs": [
    {
     "data": {
      "text/plain": [
       "array([[-4.61124176, -5.88341015],\n",
       "       [-4.59124176, -5.88341015],\n",
       "       [-4.57124176, -5.88341015],\n",
       "       ...,\n",
       "       [ 5.22875824,  6.39658985],\n",
       "       [ 5.24875824,  6.39658985],\n",
       "       [ 5.26875824,  6.39658985]])"
      ]
     },
     "execution_count": 104,
     "metadata": {},
     "output_type": "execute_result"
    }
   ],
   "source": [
    "np.c_[xx.ravel(), yy.ravel()]"
   ]
  },
  {
   "cell_type": "code",
   "execution_count": 87,
   "metadata": {},
   "outputs": [
    {
     "ename": "ValueError",
     "evalue": "X has 2 features per sample; expecting 7129",
     "output_type": "error",
     "traceback": [
      "\u001b[0;31m---------------------------------------------------------------------------\u001b[0m",
      "\u001b[0;31mValueError\u001b[0m                                Traceback (most recent call last)",
      "\u001b[0;32m<ipython-input-87-b31ed500d524>\u001b[0m in \u001b[0;36m<module>\u001b[0;34m\u001b[0m\n\u001b[1;32m      1\u001b[0m \u001b[0mfig1\u001b[0m\u001b[0;34m,\u001b[0m \u001b[0max1\u001b[0m \u001b[0;34m=\u001b[0m \u001b[0mplt\u001b[0m\u001b[0;34m.\u001b[0m\u001b[0msubplots\u001b[0m\u001b[0;34m(\u001b[0m\u001b[0;34m)\u001b[0m\u001b[0;34m\u001b[0m\u001b[0;34m\u001b[0m\u001b[0m\n\u001b[0;32m----> 2\u001b[0;31m \u001b[0moverlay_decision_boundary\u001b[0m\u001b[0;34m(\u001b[0m\u001b[0max1\u001b[0m\u001b[0;34m,\u001b[0m \u001b[0mmodel_logregCV\u001b[0m\u001b[0;34m,\u001b[0m \u001b[0mcolors\u001b[0m\u001b[0;34m=\u001b[0m\u001b[0;32mNone\u001b[0m\u001b[0;34m,\u001b[0m \u001b[0mnx\u001b[0m\u001b[0;34m=\u001b[0m\u001b[0;36m200\u001b[0m\u001b[0;34m,\u001b[0m \u001b[0mny\u001b[0m\u001b[0;34m=\u001b[0m\u001b[0;36m200\u001b[0m\u001b[0;34m,\u001b[0m \u001b[0mdesaturate\u001b[0m\u001b[0;34m=\u001b[0m\u001b[0;36m.5\u001b[0m\u001b[0;34m,\u001b[0m \u001b[0mxlim\u001b[0m\u001b[0;34m=\u001b[0m\u001b[0;32mNone\u001b[0m\u001b[0;34m,\u001b[0m \u001b[0mylim\u001b[0m\u001b[0;34m=\u001b[0m\u001b[0;32mNone\u001b[0m\u001b[0;34m)\u001b[0m\u001b[0;34m\u001b[0m\u001b[0;34m\u001b[0m\u001b[0m\n\u001b[0m",
      "\u001b[0;32m<ipython-input-31-4473a24d98d3>\u001b[0m in \u001b[0;36moverlay_decision_boundary\u001b[0;34m(ax, model, colors, nx, ny, desaturate, xlim, ylim)\u001b[0m\n\u001b[1;32m     23\u001b[0m     \u001b[0;31m# Predict on mesh of points.\u001b[0m\u001b[0;34m\u001b[0m\u001b[0;34m\u001b[0m\u001b[0;34m\u001b[0m\u001b[0m\n\u001b[1;32m     24\u001b[0m     \u001b[0mmodel\u001b[0m \u001b[0;34m=\u001b[0m \u001b[0mgetattr\u001b[0m\u001b[0;34m(\u001b[0m\u001b[0mmodel\u001b[0m\u001b[0;34m,\u001b[0m \u001b[0;34m'predict'\u001b[0m\u001b[0;34m,\u001b[0m \u001b[0mmodel\u001b[0m\u001b[0;34m)\u001b[0m\u001b[0;34m\u001b[0m\u001b[0;34m\u001b[0m\u001b[0m\n\u001b[0;32m---> 25\u001b[0;31m     \u001b[0my\u001b[0m \u001b[0;34m=\u001b[0m \u001b[0mmodel\u001b[0m\u001b[0;34m(\u001b[0m\u001b[0mX\u001b[0m\u001b[0;34m)\u001b[0m\u001b[0;34m\u001b[0m\u001b[0;34m\u001b[0m\u001b[0m\n\u001b[0m\u001b[1;32m     26\u001b[0m     \u001b[0;31m#print(\"Do I predict\" , y)\u001b[0m\u001b[0;34m\u001b[0m\u001b[0;34m\u001b[0m\u001b[0;34m\u001b[0m\u001b[0m\n\u001b[1;32m     27\u001b[0m \u001b[0;34m\u001b[0m\u001b[0m\n",
      "\u001b[0;32m//anaconda3/envs/cs109a/lib/python3.7/site-packages/sklearn/linear_model/base.py\u001b[0m in \u001b[0;36mpredict\u001b[0;34m(self, X)\u001b[0m\n\u001b[1;32m    287\u001b[0m             \u001b[0mPredicted\u001b[0m \u001b[0;32mclass\u001b[0m \u001b[0mlabel\u001b[0m \u001b[0mper\u001b[0m \u001b[0msample\u001b[0m\u001b[0;34m.\u001b[0m\u001b[0;34m\u001b[0m\u001b[0;34m\u001b[0m\u001b[0m\n\u001b[1;32m    288\u001b[0m         \"\"\"\n\u001b[0;32m--> 289\u001b[0;31m         \u001b[0mscores\u001b[0m \u001b[0;34m=\u001b[0m \u001b[0mself\u001b[0m\u001b[0;34m.\u001b[0m\u001b[0mdecision_function\u001b[0m\u001b[0;34m(\u001b[0m\u001b[0mX\u001b[0m\u001b[0;34m)\u001b[0m\u001b[0;34m\u001b[0m\u001b[0;34m\u001b[0m\u001b[0m\n\u001b[0m\u001b[1;32m    290\u001b[0m         \u001b[0;32mif\u001b[0m \u001b[0mlen\u001b[0m\u001b[0;34m(\u001b[0m\u001b[0mscores\u001b[0m\u001b[0;34m.\u001b[0m\u001b[0mshape\u001b[0m\u001b[0;34m)\u001b[0m \u001b[0;34m==\u001b[0m \u001b[0;36m1\u001b[0m\u001b[0;34m:\u001b[0m\u001b[0;34m\u001b[0m\u001b[0;34m\u001b[0m\u001b[0m\n\u001b[1;32m    291\u001b[0m             \u001b[0mindices\u001b[0m \u001b[0;34m=\u001b[0m \u001b[0;34m(\u001b[0m\u001b[0mscores\u001b[0m \u001b[0;34m>\u001b[0m \u001b[0;36m0\u001b[0m\u001b[0;34m)\u001b[0m\u001b[0;34m.\u001b[0m\u001b[0mastype\u001b[0m\u001b[0;34m(\u001b[0m\u001b[0mnp\u001b[0m\u001b[0;34m.\u001b[0m\u001b[0mint\u001b[0m\u001b[0;34m)\u001b[0m\u001b[0;34m\u001b[0m\u001b[0;34m\u001b[0m\u001b[0m\n",
      "\u001b[0;32m//anaconda3/envs/cs109a/lib/python3.7/site-packages/sklearn/linear_model/base.py\u001b[0m in \u001b[0;36mdecision_function\u001b[0;34m(self, X)\u001b[0m\n\u001b[1;32m    268\u001b[0m         \u001b[0;32mif\u001b[0m \u001b[0mX\u001b[0m\u001b[0;34m.\u001b[0m\u001b[0mshape\u001b[0m\u001b[0;34m[\u001b[0m\u001b[0;36m1\u001b[0m\u001b[0;34m]\u001b[0m \u001b[0;34m!=\u001b[0m \u001b[0mn_features\u001b[0m\u001b[0;34m:\u001b[0m\u001b[0;34m\u001b[0m\u001b[0;34m\u001b[0m\u001b[0m\n\u001b[1;32m    269\u001b[0m             raise ValueError(\"X has %d features per sample; expecting %d\"\n\u001b[0;32m--> 270\u001b[0;31m                              % (X.shape[1], n_features))\n\u001b[0m\u001b[1;32m    271\u001b[0m \u001b[0;34m\u001b[0m\u001b[0m\n\u001b[1;32m    272\u001b[0m         scores = safe_sparse_dot(X, self.coef_.T,\n",
      "\u001b[0;31mValueError\u001b[0m: X has 2 features per sample; expecting 7129"
     ]
    },
    {
     "data": {
      "image/png": "[encoded data removed]",
      "text/plain": [
       "<Figure size 432x288 with 1 Axes>"
      ]
     },
     "metadata": {
      "needs_background": "light"
     },
     "output_type": "display_data"
    }
   ],
   "source": [
    "fig1, ax1 = plt.subplots()\n",
    "overlay_decision_boundary(ax1, model_logregCV, colors=None, nx=200, ny=200, desaturate=.5, xlim=None, ylim=None)\n"
   ]
  },
  {
   "cell_type": "code",
   "execution_count": 68,
   "metadata": {},
   "outputs": [],
   "source": [
    "# Your code here\n",
    "\n",
    "fig2, ax2 = plt.subplots(1)\n",
    "\n",
    "overlay_decision_boundary(ax2, model_logregCV_poly, colors=None, nx=200, ny=200, desaturate=.5, xlim=None, ylim=None)\n",
    "\n"
   ]
  },
  {
   "cell_type": "code",
   "execution_count": 70,
   "metadata": {},
   "outputs": [],
   "source": [
    "# your code here\n"
   ]
  },
  {
   "cell_type": "markdown",
   "metadata": {},
   "source": [
    "**4.5 Report and plot the CV scores for the two models and interpret.**"
   ]
  },
  {
   "cell_type": "code",
   "execution_count": 71,
   "metadata": {},
   "outputs": [],
   "source": [
    "# your code here\n",
    "logregCV.scores_)"
   ]
  },
  {
   "cell_type": "code",
   "execution_count": 72,
   "metadata": {},
   "outputs": [],
   "source": [
    "# your code here\n"
   ]
  },
  {
   "cell_type": "markdown",
   "metadata": {},
   "source": [
    "<div class='exercise'><b> Question 5: [10 pts] Including an 'abstain' option </b></div>\n",
    "\n",
    "One of the reasons a hospital might be hesitant to use your cancer classification model is that a misdiagnosis by the model on a patient can sometimes prove to be very costly (e.g. if the patient were to file a law suit seeking a compensation for damages). One way to mitigate this concern is to allow the model to 'abstain' from making a prediction: whenever it is uncertain about the diagnosis for a patient. However, when the model abstains from making a prediction, the hospital will have to forward the patient to a specialist, which would incur additional cost.  How could one design a cancer classification model with an abstain option, such that the cost to the hospital is minimized?\n",
    "\n",
    "*Hint:* Think of ways to build on top of the logistic regression model and have it abstain on patients who are difficult to classify."
   ]
  },
  {
   "cell_type": "markdown",
   "metadata": {},
   "source": [
    "**5.1** More specifically, suppose the cost incurred by a hospital when a model mis-predicts on a patient is $\\$5000$ , and the cost incurred when the model abstains from making a prediction is \\$1000. What is the average cost per patient for the OvR logistic regression model (without quadratic or interaction terms) from **Question 4**.  Note that this needs to be evaluated on the patients in the test set. "
   ]
  },
  {
   "cell_type": "markdown",
   "metadata": {},
   "source": [
    "**5.2** Design a classification strategy (into the 3 groups plus the *abstain* group) that has as low cost as possible per patient (certainly lower cost per patient than the logistic regression model).   Give a justification for your approach."
   ]
  },
  {
   "cell_type": "markdown",
   "metadata": {},
   "source": [
    "<hr>\n",
    "### Solutions"
   ]
  },
  {
   "cell_type": "markdown",
   "metadata": {},
   "source": [
    "**5.1 More specifically, suppose the cost incurred by a hospital when a model mis-predicts on a patient is $\\$5000$ , and the cost incurred when the model abstains from making a prediction is \\$1000. What is the average cost per patient for the OvR logistic regression model (without quadratic or interaction terms) from Question 4.  Note that this needs to be evaluated on the patients in the test set.**\n",
    "**\n",
    "...\n",
    "**"
   ]
  },
  {
   "cell_type": "markdown",
   "metadata": {},
   "source": [
    "*your answer here* \n"
   ]
  },
  {
   "cell_type": "code",
   "execution_count": 73,
   "metadata": {},
   "outputs": [],
   "source": [
    "# your code here\n"
   ]
  },
  {
   "cell_type": "markdown",
   "metadata": {},
   "source": [
    "**5.2 Design a classification strategy (into the 3 groups plus the *abstain* group) that has as low cost as possible per patient (certainly lower cost per patient than the logistic regression model).   Give a justification for your approach.**"
   ]
  },
  {
   "cell_type": "code",
   "execution_count": 74,
   "metadata": {},
   "outputs": [],
   "source": [
    "# your code here\n"
   ]
  },
  {
   "cell_type": "code",
   "execution_count": null,
   "metadata": {},
   "outputs": [],
   "source": []
  },
  {
   "cell_type": "code",
   "execution_count": null,
   "metadata": {},
   "outputs": [],
   "source": []
  }
 ],
 "metadata": {
  "kernelspec": {
   "display_name": "Python 3",
   "language": "python",
   "name": "python3"
  },
  "language_info": {
   "codemirror_mode": {
    "name": "ipython",
    "version": 3
   },
   "file_extension": ".py",
   "mimetype": "text/x-python",
   "name": "python",
   "nbconvert_exporter": "python",
   "pygments_lexer": "ipython3",
   "version": "3.7.4"
  }
 },
 "nbformat": 4,
 "nbformat_minor": 2
}
