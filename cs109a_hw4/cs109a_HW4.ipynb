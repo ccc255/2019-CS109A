{
 "cells": [
  {
   "cell_type": "markdown",
   "metadata": {},
   "source": [
    "\n",
    "# <img style=\"float: left; padding-right: 10px; width: 45px\" src=\"https://raw.githubusercontent.com/Harvard-IACS/2018-CS109A/master/content/styles/iacs.png\"> CS109A Introduction to Data Science\n",
    "\n",
    "## Homework 4: Logistic Regression\n",
    "\n",
    "**Harvard University**<br/>\n",
    "**Fall 2019**<br/>\n",
    "**Instructors**: Pavlos Protopapas, Kevin Rader, and Chris Tanner\n",
    "\n",
    "<hr style=\"height:2pt\">\n",
    "\n"
   ]
  },
  {
   "cell_type": "code",
   "execution_count": 1,
   "metadata": {},
   "outputs": [
    {
     "data": {
      "text/html": [
       "<style>\n",
       "blockquote { background: #AEDE94; }\n",
       "h1 { \n",
       "    padding-top: 25px;\n",
       "    padding-bottom: 25px;\n",
       "    text-align: left; \n",
       "    padding-left: 10px;\n",
       "    background-color: #DDDDDD; \n",
       "    color: black;\n",
       "}\n",
       "h2 { \n",
       "    padding-top: 10px;\n",
       "    padding-bottom: 10px;\n",
       "    text-align: left; \n",
       "    padding-left: 5px;\n",
       "    background-color: #EEEEEE; \n",
       "    color: black;\n",
       "}\n",
       "\n",
       "div.exercise {\n",
       "\tbackground-color: #ffcccc;\n",
       "\tborder-color: #E9967A; \t\n",
       "\tborder-left: 5px solid #800080; \n",
       "\tpadding: 0.5em;\n",
       "}\n",
       "\n",
       "span.sub-q {\n",
       "\tfont-weight: bold;\n",
       "}\n",
       "div.theme {\n",
       "\tbackground-color: #DDDDDD;\n",
       "\tborder-color: #E9967A; \t\n",
       "\tborder-left: 5px solid #800080; \n",
       "\tpadding: 0.5em;\n",
       "\tfont-size: 18pt;\n",
       "}\n",
       "div.gc { \n",
       "\tbackground-color: #AEDE94;\n",
       "\tborder-color: #E9967A; \t \n",
       "\tborder-left: 5px solid #800080; \n",
       "\tpadding: 0.5em;\n",
       "\tfont-size: 12pt;\n",
       "}\n",
       "p.q1 { \n",
       "    padding-top: 5px;\n",
       "    padding-bottom: 5px;\n",
       "    text-align: left; \n",
       "    padding-left: 5px;\n",
       "    background-color: #EEEEEE; \n",
       "    color: black;\n",
       "}\n",
       "header {\n",
       "   padding-top: 35px;\n",
       "    padding-bottom: 35px;\n",
       "    text-align: left; \n",
       "    padding-left: 10px;\n",
       "    background-color: #DDDDDD; \n",
       "    color: black;\n",
       "}\n",
       "</style>\n",
       "\n"
      ],
      "text/plain": [
       "<IPython.core.display.HTML object>"
      ]
     },
     "execution_count": 1,
     "metadata": {},
     "output_type": "execute_result"
    }
   ],
   "source": [
    "#RUN THIS CELL \n",
    "import requests\n",
    "from IPython.core.display import HTML\n",
    "styles = requests.get(\"https://raw.githubusercontent.com/Harvard-IACS/2018-CS109A/master/content/styles/cs109.css\").text\n",
    "HTML(styles)"
   ]
  },
  {
   "cell_type": "markdown",
   "metadata": {},
   "source": [
    "### INSTRUCTIONS\n",
    "\n",
    "- **This is an individual homework. No group collaboration.**\n",
    "- To submit your assignment follow the instructions given in Canvas.\n",
    "- Restart the kernel and run the whole notebook again before you submit. \n",
    "- As much as possible, try and stick to the hints and functions we import at the top of the homework, as those are the ideas and tools the class supports and is aiming to teach. And if a problem specifies a particular library you're required to use that library, and possibly others from the import list.\n",
    "- Please use .head() when viewing data. Do not submit a notebook that is excessively long because output was not suppressed or otherwise limited. "
   ]
  },
  {
   "cell_type": "code",
   "execution_count": 2,
   "metadata": {},
   "outputs": [],
   "source": [
    "import numpy as np\n",
    "import pandas as pd\n",
    "\n",
    "from sklearn.linear_model import LinearRegression\n",
    "from sklearn.linear_model import LogisticRegression\n",
    "from sklearn.linear_model import LogisticRegressionCV\n",
    "from sklearn.linear_model import LassoCV\n",
    "\n",
    "from sklearn.neighbors import KNeighborsClassifier\n",
    "from sklearn.model_selection import cross_val_score\n",
    "from sklearn.metrics import accuracy_score\n",
    "from sklearn.model_selection import KFold\n",
    "from sklearn.preprocessing import MinMaxScaler\n",
    "from sklearn.model_selection import train_test_split\n",
    "\n",
    "import matplotlib\n",
    "import matplotlib.pyplot as plt\n",
    "%matplotlib inline\n",
    "\n",
    "import zipfile\n",
    "\n",
    "\n",
    "import seaborn as sns\n",
    "sns.set()\n"
   ]
  },
  {
   "cell_type": "markdown",
   "metadata": {},
   "source": [
    "<div class='theme'> Cancer Classification from Gene Expressions </div>\n",
    "\n",
    "In this problem, we will build a classification model to distinguish between two related classes of cancer, acute lymphoblastic leukemia (ALL) and acute myeloid leukemia (AML), using gene expression measurements. The data set is provided in the file `data/dataset_hw4.csv`. Each row in this file corresponds to a tumor tissue sample from a patient with one of the two forms of Leukemia. The first column contains the cancer type, with **0 indicating the ALL** class and **1 indicating the AML** class. Columns 2-7130 contain expression levels of 7129 genes recorded from each tissue sample. \n",
    "\n",
    "In the following questions, we will use linear and logistic regression to build classification models for this data set. \n"
   ]
  },
  {
   "cell_type": "markdown",
   "metadata": {},
   "source": [
    "<div class='exercise'><b> Question 1 [20 pts]: Data Exploration </b></div>\n",
    "\n",
    "First step is to  split  the observations into an approximate 80-20 train-test split.  Below is some code to do this for you (we want to make sure everyone has the same splits). Print dataset shape before splitting and after splitting. `Cancer_type` is our target column.\n",
    "\n",
    "\n",
    "**1.1** Take a peek at your training set (show a glimpse of what you did): you should notice the severe differences in the measurements from one gene to the next (some are negative, some hover around zero, and some are well into the thousands).  To account for these differences in scale and variability, normalize each predictor to vary between 0 and 1.\n",
    "\n",
    "\n",
    "**1.2** The training set contains more predictors than observations. What problem(s) can this lead to in fitting a classification model to such a data set? Explain in 3 or fewer sentences.\n",
    "\n",
    "\n",
    "**1.3** Identify and report which 10 genes individually discriminate between the two cancer classes the best (consider every gene in the data set).  Note: it wil lbe useful to save this list for future parts.\n",
    "\n",
    "Plot two histograms ofyour best predictor - one using training and another for the testing dataset. Each histogram should clearly distinguish two different `Cancer_type` classes.\n",
    "\n",
    "Hint: You may use t-testing to make this determination: #https://en.wikipedia.org/wiki/Welch%27s_t-test.\n",
    "\n",
    "\n",
    "**1.4** Using your top gene from the previous part (call it  `best_predictor`), create a classification model by manually eye-balling a value for this gene that would discriminate the two classes the best. Justify your choice in 1-2 sentences. Report the accuracy of this hand-chosen model on the test set.\n",
    "\n",
    "<hr> <hr>"
   ]
  },
  {
   "cell_type": "markdown",
   "metadata": {},
   "source": [
    "<hr>\n",
    "### Solutions"
   ]
  },
  {
   "cell_type": "markdown",
   "metadata": {},
   "source": [
    "**First step is to split the observations into an approximate 80-20 train-test split. Below is some code to do this for you (we want to make sure everyone has the same splits). Print dataset shape before splitting and after splitting. `Cancer_type` is our target column.**"
   ]
  },
  {
   "cell_type": "code",
   "execution_count": 3,
   "metadata": {},
   "outputs": [],
   "source": [
    "# Split data into 80-20 train-test split\n",
    "np.random.seed(10)\n",
    "df = pd.read_csv('data/hw4_enhance.csv', index_col=0)\n",
    "\n",
    "\n",
    "X_train, X_test, y_train, y_test = train_test_split(df.loc[:, df.columns != 'Cancer_type'], \n",
    "                                                         df.Cancer_type, test_size=0.2, \n",
    "                                                         random_state = 109, \n",
    "                                                         stratify = df.Cancer_type)"
   ]
  },
  {
   "cell_type": "code",
   "execution_count": 4,
   "metadata": {},
   "outputs": [
    {
     "name": "stdout",
     "output_type": "stream",
     "text": [
      "Shape before splitting: (752, 7130)\n",
      "\n",
      "Training predictor data after splitting: (601, 7129) \n",
      "Testing predictor data after splitting: (151, 7129) \n",
      "Response training data after splitting: (601,) \n",
      "Response testing data after splitting: (151,)\n",
      "\n",
      "Proportion of ALL cases (0) vs. AML cases (1) across all data:\n",
      " 0.0    0.511968\n",
      "1.0    0.488032\n",
      "Name: Cancer_type, dtype: float64\n"
     ]
    }
   ],
   "source": [
    "# Print shape of data before splitting\n",
    "print('Shape before splitting:', df.shape)\n",
    "# Print shape of data after splitting\n",
    "print('\\nTraining predictor data after splitting:', X_train.shape, '\\nTesting predictor data after splitting:', X_test.shape, '\\nResponse training data after splitting:', y_train.shape, '\\nResponse testing data after splitting:', y_test.shape)\n",
    "print('\\nProportion of ALL cases (0) vs. AML cases (1) across all data:\\n',df.Cancer_type.value_counts(normalize=True))\n"
   ]
  },
  {
   "cell_type": "markdown",
   "metadata": {},
   "source": [
    "**1.1 Take a peek at your training set (show a glimpse of what you did): you should notice the severe differences in the measurements from one gene to the next (some are negative, some hover around zero, and some are well into the thousands).  To account for these differences in scale and variability, normalize each predictor to vary between 0 and 1.**\n"
   ]
  },
  {
   "cell_type": "code",
   "execution_count": 5,
   "metadata": {},
   "outputs": [
    {
     "name": "stdout",
     "output_type": "stream",
     "text": [
      "\n",
      "Inspect gene names:\n",
      " Index(['AFFX-BioB-5_at', 'AFFX-BioB-M_at', 'AFFX-BioB-3_at', 'AFFX-BioC-5_at',\n",
      "       'AFFX-BioC-3_at', 'AFFX-BioDn-5_at', 'AFFX-BioDn-3_at',\n",
      "       'AFFX-CreX-5_at', 'AFFX-CreX-3_at', 'AFFX-BioB-5_st',\n",
      "       ...\n",
      "       'U48730_at', 'U58516_at', 'U73738_at', 'X06956_at', 'X16699_at',\n",
      "       'X83863_at', 'Z17240_at', 'L49218_f_at', 'M71243_f_at', 'Z78285_f_at'],\n",
      "      dtype='object', length=7129)\n",
      "\n",
      "Inspect first few genes:\n",
      "      AFFX-BioB-5_at  AFFX-BioB-M_at  AFFX-BioB-3_at  AFFX-BioC-5_at  \\\n",
      "486      -83.669345     -129.202197       91.188553     -132.634919   \n",
      "604      -65.718571     -302.842019     -297.819728     -177.485917   \n",
      "341     -264.191248     -162.255274      127.997172      173.771779   \n",
      "117      -92.558574     -109.788332      379.542547      391.641129   \n",
      "516     -143.099813      140.202023     -147.163850      222.339115   \n",
      "\n",
      "     AFFX-BioC-3_at  AFFX-BioDn-5_at  AFFX-BioDn-3_at  AFFX-CreX-5_at  \\\n",
      "486     -416.659258      -566.248620      -549.255222     -208.415176   \n",
      "604      -52.709137      -218.295750       195.983474     -268.235930   \n",
      "341     -185.191211        40.011778     -1562.983106      -85.344926   \n",
      "117     -184.507364      -577.178389      -293.421369     -372.534572   \n",
      "516     -231.007621      -753.616356       274.500343     -217.513332   \n",
      "\n",
      "     AFFX-CreX-3_at  AFFX-BioB-5_st  ...   U48730_at   U58516_at   U73738_at  \\\n",
      "486      213.331881     -135.518811  ...  111.849800  371.083898  252.006568   \n",
      "604     -328.630912      240.058672  ...  252.867110  110.033722  203.197907   \n",
      "341     -119.622143      219.619110  ...   20.797496 -184.115075 -227.872398   \n",
      "117      190.551199     -487.331438  ...  180.678776  577.889184  -50.443125   \n",
      "516     -107.135509      -62.470938  ...  139.821329  909.588696   43.531613   \n",
      "\n",
      "      X06956_at   X16699_at    X83863_at   Z17240_at  L49218_f_at  \\\n",
      "486  963.153393    9.955941   142.181944  442.730023    42.848269   \n",
      "604  101.612259 -138.398658   245.767616  247.519122   -15.430358   \n",
      "341  140.876523   42.543763    28.594281  204.479474     9.831559   \n",
      "117  417.586154  -11.190519  1478.997020   15.923333   112.986515   \n",
      "516  718.462679  -58.238405   232.494165  754.787059   -58.160474   \n",
      "\n",
      "     M71243_f_at  Z78285_f_at  \n",
      "486   512.106908     4.677488  \n",
      "604  -398.165984   -61.694246  \n",
      "341    21.718266    19.522122  \n",
      "117  -107.706335   -25.673203  \n",
      "516  1808.764690   -20.782346  \n",
      "\n",
      "[5 rows x 7129 columns]\n",
      "\n",
      "Inspect predictor summary statistics:\n",
      "        AFFX-BioB-5_at  AFFX-BioB-M_at  AFFX-BioB-3_at  AFFX-BioC-5_at  \\\n",
      "count      601.000000      601.000000      601.000000      601.000000   \n",
      "mean      -115.860969     -160.846155       26.545301      209.733439   \n",
      "std        170.571929      188.676919      207.781982      202.987246   \n",
      "min       -894.789505    -1095.737090     -645.439001     -425.750627   \n",
      "25%       -222.586579     -270.502055      -95.000000       85.327810   \n",
      "50%       -105.139096     -145.829450       21.183690      207.291048   \n",
      "75%         -4.789696      -40.599329      127.821586      331.277808   \n",
      "max        516.618491      384.626762      748.233182     1022.560525   \n",
      "\n",
      "       AFFX-BioC-3_at  AFFX-BioDn-5_at  AFFX-BioDn-3_at  AFFX-CreX-5_at  \\\n",
      "count      601.000000       601.000000       601.000000      601.000000   \n",
      "mean      -248.992903      -405.422569       -24.135140     -188.491329   \n",
      "std        207.328054       261.112412       535.143398      163.077167   \n",
      "min      -1154.285694     -1091.492494     -2066.516448     -728.996262   \n",
      "25%       -379.048622      -567.547758      -338.435164     -302.872287   \n",
      "50%       -231.007621      -433.214742       -39.581881     -175.586059   \n",
      "75%       -116.000000      -252.587379       325.000000      -74.379003   \n",
      "max        308.876677       607.737258      1385.881293      263.634029   \n",
      "\n",
      "       AFFX-CreX-3_at  AFFX-BioB-5_st  ...   U48730_at    U58516_at  \\\n",
      "count      601.000000      601.000000  ...  601.000000   601.000000   \n",
      "mean        74.777098       97.436777  ...  161.766492   707.377318   \n",
      "std        174.693115      358.897719  ...  165.152970   526.644408   \n",
      "min       -770.025847    -1176.663615  ... -501.285884 -1010.430536   \n",
      "25%        -20.739507     -117.000000  ...   67.861184   361.596510   \n",
      "50%         90.170754      101.975176  ...  153.253301   679.935520   \n",
      "75%        190.551199      288.503617  ...  263.112797  1076.075567   \n",
      "max        589.778466     1355.537180  ...  686.321597  2522.188808   \n",
      "\n",
      "        U73738_at    X06956_at   X16699_at    X83863_at    Z17240_at  \\\n",
      "count  601.000000   601.000000  601.000000   601.000000   601.000000   \n",
      "mean     4.198787   421.466477  -50.023954   819.053113   329.803212   \n",
      "std    152.401188   589.914084  106.864078   814.898058   367.788891   \n",
      "min   -447.077819 -1870.955269 -432.967768 -2151.593119  -651.051441   \n",
      "25%    -88.660905    88.409441 -105.000000   270.198265    90.825501   \n",
      "50%      9.960900   381.000000  -35.000000   749.281111   296.978609   \n",
      "75%     96.051876   720.339588   19.775025  1286.343005   521.096719   \n",
      "max    481.820516  3982.980299  215.047697  3743.264860  1996.244626   \n",
      "\n",
      "       L49218_f_at  M71243_f_at  Z78285_f_at  \n",
      "count   601.000000   601.000000   601.000000  \n",
      "mean      8.803791   507.250039   -24.377549  \n",
      "std      85.397644   939.394188    71.102874  \n",
      "min    -255.419724 -2754.665185  -237.864216  \n",
      "25%     -40.391630   -50.785999   -73.000000  \n",
      "50%       7.968505   407.942117   -25.403427  \n",
      "75%      62.794411  1092.430279    19.740635  \n",
      "max     274.575647  3315.374276   224.773440  \n",
      "\n",
      "[8 rows x 7129 columns]\n",
      "\n",
      "Overall mean:\n",
      " 635.3829852628021\n",
      "\n",
      "Overall standard deviation:\n",
      " 2789.9074615610552\n"
     ]
    }
   ],
   "source": [
    "# Check predictor gene values before normalization\n",
    "print('\\nInspect gene names:\\n', X_train.columns) # Confirm that the columns are gene names\n",
    "print('\\nInspect first few genes:\\n', X_train.head()) # Overall there is much variability in the measurements of each gene even just in the first 5 measurements\n",
    "print('\\nInspect predictor summary statistics:\\n', X_train.describe()) # The mean measurement value for each gene varies considerably, as does the minimum and maximum values \n",
    "print('\\nOverall mean:\\n', X_train.stack().mean())\n",
    "print('\\nOverall standard deviation:\\n', X_train.stack().std()) # Standard deviation of measurements across all genes is much higher than the mean overall\n"
   ]
  },
  {
   "cell_type": "code",
   "execution_count": 6,
   "metadata": {},
   "outputs": [],
   "source": [
    "# Normalize values of each predictor in the train set\n",
    "\n",
    "scaler = MinMaxScaler().fit(X_train)\n",
    "\n",
    "X_train_scaled = pd.DataFrame(scaler.transform(X_train), index = X_train.index, columns = X_train.columns)"
   ]
  },
  {
   "cell_type": "code",
   "execution_count": 7,
   "metadata": {},
   "outputs": [
    {
     "data": {
      "text/html": [
       "<div>\n",
       "<style scoped>\n",
       "    .dataframe tbody tr th:only-of-type {\n",
       "        vertical-align: middle;\n",
       "    }\n",
       "\n",
       "    .dataframe tbody tr th {\n",
       "        vertical-align: top;\n",
       "    }\n",
       "\n",
       "    .dataframe thead th {\n",
       "        text-align: right;\n",
       "    }\n",
       "</style>\n",
       "<table border=\"1\" class=\"dataframe\">\n",
       "  <thead>\n",
       "    <tr style=\"text-align: right;\">\n",
       "      <th></th>\n",
       "      <th>AFFX-BioB-5_at</th>\n",
       "      <th>AFFX-BioB-M_at</th>\n",
       "      <th>AFFX-BioB-3_at</th>\n",
       "      <th>AFFX-BioC-5_at</th>\n",
       "      <th>AFFX-BioC-3_at</th>\n",
       "      <th>AFFX-BioDn-5_at</th>\n",
       "      <th>AFFX-BioDn-3_at</th>\n",
       "      <th>AFFX-CreX-5_at</th>\n",
       "      <th>AFFX-CreX-3_at</th>\n",
       "      <th>AFFX-BioB-5_st</th>\n",
       "      <th>...</th>\n",
       "      <th>U48730_at</th>\n",
       "      <th>U58516_at</th>\n",
       "      <th>U73738_at</th>\n",
       "      <th>X06956_at</th>\n",
       "      <th>X16699_at</th>\n",
       "      <th>X83863_at</th>\n",
       "      <th>Z17240_at</th>\n",
       "      <th>L49218_f_at</th>\n",
       "      <th>M71243_f_at</th>\n",
       "      <th>Z78285_f_at</th>\n",
       "    </tr>\n",
       "  </thead>\n",
       "  <tbody>\n",
       "    <tr>\n",
       "      <th>486</th>\n",
       "      <td>0.574689</td>\n",
       "      <td>0.652904</td>\n",
       "      <td>0.528552</td>\n",
       "      <td>0.202384</td>\n",
       "      <td>0.504132</td>\n",
       "      <td>0.309107</td>\n",
       "      <td>0.439480</td>\n",
       "      <td>0.524446</td>\n",
       "      <td>0.723161</td>\n",
       "      <td>0.411162</td>\n",
       "      <td>...</td>\n",
       "      <td>0.516278</td>\n",
       "      <td>0.391074</td>\n",
       "      <td>0.752595</td>\n",
       "      <td>0.484137</td>\n",
       "      <td>0.683508</td>\n",
       "      <td>0.389115</td>\n",
       "      <td>0.413169</td>\n",
       "      <td>0.562775</td>\n",
       "      <td>0.538180</td>\n",
       "      <td>0.524258</td>\n",
       "    </tr>\n",
       "    <tr>\n",
       "      <th>604</th>\n",
       "      <td>0.587407</td>\n",
       "      <td>0.535608</td>\n",
       "      <td>0.249427</td>\n",
       "      <td>0.171417</td>\n",
       "      <td>0.752874</td>\n",
       "      <td>0.513878</td>\n",
       "      <td>0.655342</td>\n",
       "      <td>0.464181</td>\n",
       "      <td>0.324602</td>\n",
       "      <td>0.559483</td>\n",
       "      <td>...</td>\n",
       "      <td>0.635019</td>\n",
       "      <td>0.317177</td>\n",
       "      <td>0.700050</td>\n",
       "      <td>0.336964</td>\n",
       "      <td>0.454571</td>\n",
       "      <td>0.406687</td>\n",
       "      <td>0.339430</td>\n",
       "      <td>0.452814</td>\n",
       "      <td>0.388218</td>\n",
       "      <td>0.380795</td>\n",
       "    </tr>\n",
       "    <tr>\n",
       "      <th>341</th>\n",
       "      <td>0.446787</td>\n",
       "      <td>0.630576</td>\n",
       "      <td>0.554963</td>\n",
       "      <td>0.413946</td>\n",
       "      <td>0.662329</td>\n",
       "      <td>0.665892</td>\n",
       "      <td>0.145850</td>\n",
       "      <td>0.648430</td>\n",
       "      <td>0.478307</td>\n",
       "      <td>0.551411</td>\n",
       "      <td>...</td>\n",
       "      <td>0.439609</td>\n",
       "      <td>0.233910</td>\n",
       "      <td>0.235984</td>\n",
       "      <td>0.343672</td>\n",
       "      <td>0.733797</td>\n",
       "      <td>0.369846</td>\n",
       "      <td>0.323172</td>\n",
       "      <td>0.500478</td>\n",
       "      <td>0.457391</td>\n",
       "      <td>0.556345</td>\n",
       "    </tr>\n",
       "    <tr>\n",
       "      <th>117</th>\n",
       "      <td>0.568391</td>\n",
       "      <td>0.666018</td>\n",
       "      <td>0.735454</td>\n",
       "      <td>0.564376</td>\n",
       "      <td>0.662796</td>\n",
       "      <td>0.302675</td>\n",
       "      <td>0.513584</td>\n",
       "      <td>0.359108</td>\n",
       "      <td>0.706408</td>\n",
       "      <td>0.272227</td>\n",
       "      <td>...</td>\n",
       "      <td>0.574234</td>\n",
       "      <td>0.449615</td>\n",
       "      <td>0.426995</td>\n",
       "      <td>0.390941</td>\n",
       "      <td>0.650875</td>\n",
       "      <td>0.615891</td>\n",
       "      <td>0.251946</td>\n",
       "      <td>0.695112</td>\n",
       "      <td>0.436069</td>\n",
       "      <td>0.458655</td>\n",
       "    </tr>\n",
       "    <tr>\n",
       "      <th>516</th>\n",
       "      <td>0.532581</td>\n",
       "      <td>0.834889</td>\n",
       "      <td>0.357527</td>\n",
       "      <td>0.447480</td>\n",
       "      <td>0.631015</td>\n",
       "      <td>0.198841</td>\n",
       "      <td>0.678084</td>\n",
       "      <td>0.515280</td>\n",
       "      <td>0.487490</td>\n",
       "      <td>0.440010</td>\n",
       "      <td>...</td>\n",
       "      <td>0.539831</td>\n",
       "      <td>0.543511</td>\n",
       "      <td>0.528163</td>\n",
       "      <td>0.442338</td>\n",
       "      <td>0.578272</td>\n",
       "      <td>0.404435</td>\n",
       "      <td>0.531047</td>\n",
       "      <td>0.372191</td>\n",
       "      <td>0.751796</td>\n",
       "      <td>0.469227</td>\n",
       "    </tr>\n",
       "  </tbody>\n",
       "</table>\n",
       "<p>5 rows × 7129 columns</p>\n",
       "</div>"
      ],
      "text/plain": [
       "     AFFX-BioB-5_at  AFFX-BioB-M_at  AFFX-BioB-3_at  AFFX-BioC-5_at  \\\n",
       "486        0.574689        0.652904        0.528552        0.202384   \n",
       "604        0.587407        0.535608        0.249427        0.171417   \n",
       "341        0.446787        0.630576        0.554963        0.413946   \n",
       "117        0.568391        0.666018        0.735454        0.564376   \n",
       "516        0.532581        0.834889        0.357527        0.447480   \n",
       "\n",
       "     AFFX-BioC-3_at  AFFX-BioDn-5_at  AFFX-BioDn-3_at  AFFX-CreX-5_at  \\\n",
       "486        0.504132         0.309107         0.439480        0.524446   \n",
       "604        0.752874         0.513878         0.655342        0.464181   \n",
       "341        0.662329         0.665892         0.145850        0.648430   \n",
       "117        0.662796         0.302675         0.513584        0.359108   \n",
       "516        0.631015         0.198841         0.678084        0.515280   \n",
       "\n",
       "     AFFX-CreX-3_at  AFFX-BioB-5_st  ...  U48730_at  U58516_at  U73738_at  \\\n",
       "486        0.723161        0.411162  ...   0.516278   0.391074   0.752595   \n",
       "604        0.324602        0.559483  ...   0.635019   0.317177   0.700050   \n",
       "341        0.478307        0.551411  ...   0.439609   0.233910   0.235984   \n",
       "117        0.706408        0.272227  ...   0.574234   0.449615   0.426995   \n",
       "516        0.487490        0.440010  ...   0.539831   0.543511   0.528163   \n",
       "\n",
       "     X06956_at  X16699_at  X83863_at  Z17240_at  L49218_f_at  M71243_f_at  \\\n",
       "486   0.484137   0.683508   0.389115   0.413169     0.562775     0.538180   \n",
       "604   0.336964   0.454571   0.406687   0.339430     0.452814     0.388218   \n",
       "341   0.343672   0.733797   0.369846   0.323172     0.500478     0.457391   \n",
       "117   0.390941   0.650875   0.615891   0.251946     0.695112     0.436069   \n",
       "516   0.442338   0.578272   0.404435   0.531047     0.372191     0.751796   \n",
       "\n",
       "     Z78285_f_at  \n",
       "486     0.524258  \n",
       "604     0.380795  \n",
       "341     0.556345  \n",
       "117     0.458655  \n",
       "516     0.469227  \n",
       "\n",
       "[5 rows x 7129 columns]"
      ]
     },
     "execution_count": 7,
     "metadata": {},
     "output_type": "execute_result"
    }
   ],
   "source": [
    "X_train_scaled.head()"
   ]
  },
  {
   "cell_type": "code",
   "execution_count": 8,
   "metadata": {},
   "outputs": [
    {
     "name": "stdout",
     "output_type": "stream",
     "text": [
      "\n",
      "Inspect gene names:\n",
      " Index(['AFFX-BioB-5_at', 'AFFX-BioB-M_at', 'AFFX-BioB-3_at', 'AFFX-BioC-5_at',\n",
      "       'AFFX-BioC-3_at', 'AFFX-BioDn-5_at', 'AFFX-BioDn-3_at',\n",
      "       'AFFX-CreX-5_at', 'AFFX-CreX-3_at', 'AFFX-BioB-5_st',\n",
      "       ...\n",
      "       'U48730_at', 'U58516_at', 'U73738_at', 'X06956_at', 'X16699_at',\n",
      "       'X83863_at', 'Z17240_at', 'L49218_f_at', 'M71243_f_at', 'Z78285_f_at'],\n",
      "      dtype='object', length=7129)\n",
      "\n",
      "Inspect first few genes:\n",
      "      AFFX-BioB-5_at  AFFX-BioB-M_at  AFFX-BioB-3_at  AFFX-BioC-5_at  \\\n",
      "486        0.574689        0.652904        0.528552        0.202384   \n",
      "604        0.587407        0.535608        0.249427        0.171417   \n",
      "341        0.446787        0.630576        0.554963        0.413946   \n",
      "117        0.568391        0.666018        0.735454        0.564376   \n",
      "516        0.532581        0.834889        0.357527        0.447480   \n",
      "\n",
      "     AFFX-BioC-3_at  AFFX-BioDn-5_at  AFFX-BioDn-3_at  AFFX-CreX-5_at  \\\n",
      "486        0.504132         0.309107         0.439480        0.524446   \n",
      "604        0.752874         0.513878         0.655342        0.464181   \n",
      "341        0.662329         0.665892         0.145850        0.648430   \n",
      "117        0.662796         0.302675         0.513584        0.359108   \n",
      "516        0.631015         0.198841         0.678084        0.515280   \n",
      "\n",
      "     AFFX-CreX-3_at  AFFX-BioB-5_st  ...  U48730_at  U58516_at  U73738_at  \\\n",
      "486        0.723161        0.411162  ...   0.516278   0.391074   0.752595   \n",
      "604        0.324602        0.559483  ...   0.635019   0.317177   0.700050   \n",
      "341        0.478307        0.551411  ...   0.439609   0.233910   0.235984   \n",
      "117        0.706408        0.272227  ...   0.574234   0.449615   0.426995   \n",
      "516        0.487490        0.440010  ...   0.539831   0.543511   0.528163   \n",
      "\n",
      "     X06956_at  X16699_at  X83863_at  Z17240_at  L49218_f_at  M71243_f_at  \\\n",
      "486   0.484137   0.683508   0.389115   0.413169     0.562775     0.538180   \n",
      "604   0.336964   0.454571   0.406687   0.339430     0.452814     0.388218   \n",
      "341   0.343672   0.733797   0.369846   0.323172     0.500478     0.457391   \n",
      "117   0.390941   0.650875   0.615891   0.251946     0.695112     0.436069   \n",
      "516   0.442338   0.578272   0.404435   0.531047     0.372191     0.751796   \n",
      "\n",
      "     Z78285_f_at  \n",
      "486     0.524258  \n",
      "604     0.380795  \n",
      "341     0.556345  \n",
      "117     0.458655  \n",
      "516     0.469227  \n",
      "\n",
      "[5 rows x 7129 columns]\n",
      "\n",
      "Inspect predictor summary statistics:\n",
      "        AFFX-BioB-5_at  AFFX-BioB-M_at  AFFX-BioB-3_at  AFFX-BioC-5_at  \\\n",
      "count      601.000000      601.000000      601.000000      601.000000   \n",
      "mean         0.551880        0.631528        0.482168        0.438776   \n",
      "std          0.120852        0.127453        0.149090        0.140154   \n",
      "min          0.000000        0.000000        0.000000        0.000000   \n",
      "25%          0.476264        0.557454        0.394956        0.352879   \n",
      "50%          0.559477        0.641672        0.478321        0.437090   \n",
      "75%          0.630576        0.712756        0.554837        0.522697   \n",
      "max          1.000000        1.000000        1.000000        1.000000   \n",
      "\n",
      "       AFFX-BioC-3_at  AFFX-BioDn-5_at  AFFX-BioDn-3_at  AFFX-CreX-5_at  \\\n",
      "count      601.000000       601.000000       601.000000      601.000000   \n",
      "mean         0.618723         0.403753         0.591583        0.544518   \n",
      "std          0.141699         0.153665         0.155006        0.164288   \n",
      "min          0.000000         0.000000         0.000000        0.000000   \n",
      "25%          0.529837         0.308342         0.500545        0.429288   \n",
      "50%          0.631015         0.387398         0.587109        0.557519   \n",
      "75%          0.709618         0.493697         0.692712        0.659477   \n",
      "max          1.000000         1.000000         1.000000        1.000000   \n",
      "\n",
      "       AFFX-CreX-3_at  AFFX-BioB-5_st  ...   U48730_at   U58516_at  \\\n",
      "count      601.000000      601.000000  ...  601.000000  601.000000   \n",
      "mean         0.621268        0.503159  ...    0.558309    0.486270   \n",
      "std          0.128469        0.141734  ...    0.139064    0.149080   \n",
      "min          0.000000        0.000000  ...    0.000000    0.000000   \n",
      "25%          0.551025        0.418475  ...    0.479238    0.388388   \n",
      "50%          0.632589        0.504952  ...    0.551141    0.478502   \n",
      "75%          0.706408        0.578614  ...    0.643646    0.590640   \n",
      "max          1.000000        1.000000  ...    1.000000    1.000000   \n",
      "\n",
      "        U73738_at   X06956_at   X16699_at   X83863_at   Z17240_at  \\\n",
      "count  601.000000  601.000000  601.000000  601.000000  601.000000   \n",
      "mean     0.485819    0.391604    0.590949    0.503939    0.370512   \n",
      "std      0.164067    0.100772    0.164910    0.138239    0.138930   \n",
      "min      0.000000    0.000000    0.000000    0.000000    0.000000   \n",
      "25%      0.385852    0.334709    0.506111    0.410831    0.280240   \n",
      "50%      0.492022    0.384691    0.614133    0.492102    0.358113   \n",
      "75%      0.584703    0.442659    0.698660    0.583209    0.442772   \n",
      "max      1.000000    1.000000    1.000000    1.000000    1.000000   \n",
      "\n",
      "       L49218_f_at  M71243_f_at  Z78285_f_at  \n",
      "count   601.000000   601.000000   601.000000  \n",
      "mean      0.498539     0.537380     0.461455  \n",
      "std       0.161129     0.154759     0.153690  \n",
      "min       0.000000     0.000000     0.000000  \n",
      "25%       0.405717     0.445447     0.356357  \n",
      "50%       0.496963     0.521019     0.459238  \n",
      "75%       0.600409     0.633784     0.556818  \n",
      "max       1.000000     1.000000     1.000000  \n",
      "\n",
      "[8 rows x 7129 columns]\n",
      "\n",
      "Overall mean:\n",
      " 0.48507921260589537\n",
      "\n",
      "Overall standard deviation:\n",
      " 0.1619663206392801\n"
     ]
    }
   ],
   "source": [
    "# Check predictor gene values after normalization\n",
    "print('\\nInspect gene names:\\n', X_train_scaled.columns) # Confirm that the columns are gene names\n",
    "print('\\nInspect first few genes:\\n', X_train_scaled.head()) # Overall there is less variability in the measurements of each gene even just in the first 5 measurements\n",
    "print('\\nInspect predictor summary statistics:\\n', X_train_scaled.describe()) # The mean measurement value for each gene does not vary considerably; max and min values are 1 and 0, respectively\n",
    "print('\\nOverall mean:\\n', X_train_scaled.stack().mean())\n",
    "print('\\nOverall standard deviation:\\n', X_train_scaled.stack().std()) # Standard deviation of measurements across all genes is not much higher than the mean overall\n"
   ]
  },
  {
   "cell_type": "code",
   "execution_count": 9,
   "metadata": {},
   "outputs": [],
   "source": [
    "# Also normalize predictors in the testing data using the scaling parameters leared from training\n",
    "\n",
    "X_test_scaled = pd.DataFrame(scaler.transform(X_test), index = X_test.index, columns=X_test.columns)"
   ]
  },
  {
   "cell_type": "code",
   "execution_count": 10,
   "metadata": {},
   "outputs": [
    {
     "data": {
      "text/html": [
       "<div>\n",
       "<style scoped>\n",
       "    .dataframe tbody tr th:only-of-type {\n",
       "        vertical-align: middle;\n",
       "    }\n",
       "\n",
       "    .dataframe tbody tr th {\n",
       "        vertical-align: top;\n",
       "    }\n",
       "\n",
       "    .dataframe thead th {\n",
       "        text-align: right;\n",
       "    }\n",
       "</style>\n",
       "<table border=\"1\" class=\"dataframe\">\n",
       "  <thead>\n",
       "    <tr style=\"text-align: right;\">\n",
       "      <th></th>\n",
       "      <th>AFFX-BioB-5_at</th>\n",
       "      <th>AFFX-BioB-M_at</th>\n",
       "      <th>AFFX-BioB-3_at</th>\n",
       "      <th>AFFX-BioC-5_at</th>\n",
       "      <th>AFFX-BioC-3_at</th>\n",
       "      <th>AFFX-BioDn-5_at</th>\n",
       "      <th>AFFX-BioDn-3_at</th>\n",
       "      <th>AFFX-CreX-5_at</th>\n",
       "      <th>AFFX-CreX-3_at</th>\n",
       "      <th>AFFX-BioB-5_st</th>\n",
       "      <th>...</th>\n",
       "      <th>U48730_at</th>\n",
       "      <th>U58516_at</th>\n",
       "      <th>U73738_at</th>\n",
       "      <th>X06956_at</th>\n",
       "      <th>X16699_at</th>\n",
       "      <th>X83863_at</th>\n",
       "      <th>Z17240_at</th>\n",
       "      <th>L49218_f_at</th>\n",
       "      <th>M71243_f_at</th>\n",
       "      <th>Z78285_f_at</th>\n",
       "    </tr>\n",
       "  </thead>\n",
       "  <tbody>\n",
       "    <tr>\n",
       "      <th>count</th>\n",
       "      <td>151.000000</td>\n",
       "      <td>151.000000</td>\n",
       "      <td>151.000000</td>\n",
       "      <td>151.000000</td>\n",
       "      <td>151.000000</td>\n",
       "      <td>151.000000</td>\n",
       "      <td>151.000000</td>\n",
       "      <td>151.000000</td>\n",
       "      <td>151.000000</td>\n",
       "      <td>151.000000</td>\n",
       "      <td>...</td>\n",
       "      <td>151.000000</td>\n",
       "      <td>151.000000</td>\n",
       "      <td>151.000000</td>\n",
       "      <td>151.000000</td>\n",
       "      <td>151.000000</td>\n",
       "      <td>151.000000</td>\n",
       "      <td>151.000000</td>\n",
       "      <td>151.000000</td>\n",
       "      <td>151.000000</td>\n",
       "      <td>151.000000</td>\n",
       "    </tr>\n",
       "    <tr>\n",
       "      <th>mean</th>\n",
       "      <td>0.558739</td>\n",
       "      <td>0.628584</td>\n",
       "      <td>0.483741</td>\n",
       "      <td>0.433760</td>\n",
       "      <td>0.611364</td>\n",
       "      <td>0.372105</td>\n",
       "      <td>0.575820</td>\n",
       "      <td>0.523991</td>\n",
       "      <td>0.631786</td>\n",
       "      <td>0.517030</td>\n",
       "      <td>...</td>\n",
       "      <td>0.556287</td>\n",
       "      <td>0.508939</td>\n",
       "      <td>0.464691</td>\n",
       "      <td>0.392301</td>\n",
       "      <td>0.604984</td>\n",
       "      <td>0.531941</td>\n",
       "      <td>0.394276</td>\n",
       "      <td>0.515471</td>\n",
       "      <td>0.515281</td>\n",
       "      <td>0.454457</td>\n",
       "    </tr>\n",
       "    <tr>\n",
       "      <th>std</th>\n",
       "      <td>0.122118</td>\n",
       "      <td>0.138197</td>\n",
       "      <td>0.147509</td>\n",
       "      <td>0.134576</td>\n",
       "      <td>0.141210</td>\n",
       "      <td>0.138466</td>\n",
       "      <td>0.140544</td>\n",
       "      <td>0.152170</td>\n",
       "      <td>0.114369</td>\n",
       "      <td>0.146962</td>\n",
       "      <td>...</td>\n",
       "      <td>0.121811</td>\n",
       "      <td>0.150016</td>\n",
       "      <td>0.152998</td>\n",
       "      <td>0.105910</td>\n",
       "      <td>0.150592</td>\n",
       "      <td>0.129336</td>\n",
       "      <td>0.136484</td>\n",
       "      <td>0.145916</td>\n",
       "      <td>0.150673</td>\n",
       "      <td>0.135950</td>\n",
       "    </tr>\n",
       "    <tr>\n",
       "      <th>min</th>\n",
       "      <td>0.222337</td>\n",
       "      <td>0.052362</td>\n",
       "      <td>0.124898</td>\n",
       "      <td>0.105928</td>\n",
       "      <td>0.071105</td>\n",
       "      <td>0.050836</td>\n",
       "      <td>0.156020</td>\n",
       "      <td>0.039091</td>\n",
       "      <td>0.320783</td>\n",
       "      <td>0.206945</td>\n",
       "      <td>...</td>\n",
       "      <td>0.201957</td>\n",
       "      <td>0.070354</td>\n",
       "      <td>0.172558</td>\n",
       "      <td>0.181925</td>\n",
       "      <td>0.141525</td>\n",
       "      <td>0.149185</td>\n",
       "      <td>0.120792</td>\n",
       "      <td>0.140083</td>\n",
       "      <td>0.166168</td>\n",
       "      <td>0.054844</td>\n",
       "    </tr>\n",
       "    <tr>\n",
       "      <th>25%</th>\n",
       "      <td>0.499868</td>\n",
       "      <td>0.548335</td>\n",
       "      <td>0.388016</td>\n",
       "      <td>0.345367</td>\n",
       "      <td>0.521641</td>\n",
       "      <td>0.273796</td>\n",
       "      <td>0.489531</td>\n",
       "      <td>0.422420</td>\n",
       "      <td>0.560308</td>\n",
       "      <td>0.435264</td>\n",
       "      <td>...</td>\n",
       "      <td>0.484829</td>\n",
       "      <td>0.403865</td>\n",
       "      <td>0.355955</td>\n",
       "      <td>0.334083</td>\n",
       "      <td>0.513409</td>\n",
       "      <td>0.455015</td>\n",
       "      <td>0.306536</td>\n",
       "      <td>0.418288</td>\n",
       "      <td>0.426565</td>\n",
       "      <td>0.368567</td>\n",
       "    </tr>\n",
       "    <tr>\n",
       "      <th>50%</th>\n",
       "      <td>0.560659</td>\n",
       "      <td>0.642539</td>\n",
       "      <td>0.460060</td>\n",
       "      <td>0.434223</td>\n",
       "      <td>0.627556</td>\n",
       "      <td>0.361920</td>\n",
       "      <td>0.573224</td>\n",
       "      <td>0.539889</td>\n",
       "      <td>0.625199</td>\n",
       "      <td>0.505667</td>\n",
       "      <td>...</td>\n",
       "      <td>0.558503</td>\n",
       "      <td>0.486221</td>\n",
       "      <td>0.469452</td>\n",
       "      <td>0.383539</td>\n",
       "      <td>0.599456</td>\n",
       "      <td>0.523538</td>\n",
       "      <td>0.375118</td>\n",
       "      <td>0.521046</td>\n",
       "      <td>0.502907</td>\n",
       "      <td>0.449302</td>\n",
       "    </tr>\n",
       "    <tr>\n",
       "      <th>75%</th>\n",
       "      <td>0.637131</td>\n",
       "      <td>0.711483</td>\n",
       "      <td>0.581579</td>\n",
       "      <td>0.522510</td>\n",
       "      <td>0.689237</td>\n",
       "      <td>0.469692</td>\n",
       "      <td>0.647892</td>\n",
       "      <td>0.634494</td>\n",
       "      <td>0.713072</td>\n",
       "      <td>0.592525</td>\n",
       "      <td>...</td>\n",
       "      <td>0.628399</td>\n",
       "      <td>0.610960</td>\n",
       "      <td>0.562807</td>\n",
       "      <td>0.426880</td>\n",
       "      <td>0.707865</td>\n",
       "      <td>0.613968</td>\n",
       "      <td>0.486736</td>\n",
       "      <td>0.620235</td>\n",
       "      <td>0.601599</td>\n",
       "      <td>0.521765</td>\n",
       "    </tr>\n",
       "    <tr>\n",
       "      <th>max</th>\n",
       "      <td>0.866908</td>\n",
       "      <td>0.890931</td>\n",
       "      <td>0.962346</td>\n",
       "      <td>0.809448</td>\n",
       "      <td>1.083614</td>\n",
       "      <td>0.707036</td>\n",
       "      <td>0.935497</td>\n",
       "      <td>0.920072</td>\n",
       "      <td>0.948824</td>\n",
       "      <td>1.135258</td>\n",
       "      <td>...</td>\n",
       "      <td>0.904706</td>\n",
       "      <td>0.956029</td>\n",
       "      <td>0.930731</td>\n",
       "      <td>0.837301</td>\n",
       "      <td>0.964234</td>\n",
       "      <td>0.856707</td>\n",
       "      <td>0.771090</td>\n",
       "      <td>0.860715</td>\n",
       "      <td>1.030505</td>\n",
       "      <td>0.867071</td>\n",
       "    </tr>\n",
       "  </tbody>\n",
       "</table>\n",
       "<p>8 rows × 7129 columns</p>\n",
       "</div>"
      ],
      "text/plain": [
       "       AFFX-BioB-5_at  AFFX-BioB-M_at  AFFX-BioB-3_at  AFFX-BioC-5_at  \\\n",
       "count      151.000000      151.000000      151.000000      151.000000   \n",
       "mean         0.558739        0.628584        0.483741        0.433760   \n",
       "std          0.122118        0.138197        0.147509        0.134576   \n",
       "min          0.222337        0.052362        0.124898        0.105928   \n",
       "25%          0.499868        0.548335        0.388016        0.345367   \n",
       "50%          0.560659        0.642539        0.460060        0.434223   \n",
       "75%          0.637131        0.711483        0.581579        0.522510   \n",
       "max          0.866908        0.890931        0.962346        0.809448   \n",
       "\n",
       "       AFFX-BioC-3_at  AFFX-BioDn-5_at  AFFX-BioDn-3_at  AFFX-CreX-5_at  \\\n",
       "count      151.000000       151.000000       151.000000      151.000000   \n",
       "mean         0.611364         0.372105         0.575820        0.523991   \n",
       "std          0.141210         0.138466         0.140544        0.152170   \n",
       "min          0.071105         0.050836         0.156020        0.039091   \n",
       "25%          0.521641         0.273796         0.489531        0.422420   \n",
       "50%          0.627556         0.361920         0.573224        0.539889   \n",
       "75%          0.689237         0.469692         0.647892        0.634494   \n",
       "max          1.083614         0.707036         0.935497        0.920072   \n",
       "\n",
       "       AFFX-CreX-3_at  AFFX-BioB-5_st  ...   U48730_at   U58516_at  \\\n",
       "count      151.000000      151.000000  ...  151.000000  151.000000   \n",
       "mean         0.631786        0.517030  ...    0.556287    0.508939   \n",
       "std          0.114369        0.146962  ...    0.121811    0.150016   \n",
       "min          0.320783        0.206945  ...    0.201957    0.070354   \n",
       "25%          0.560308        0.435264  ...    0.484829    0.403865   \n",
       "50%          0.625199        0.505667  ...    0.558503    0.486221   \n",
       "75%          0.713072        0.592525  ...    0.628399    0.610960   \n",
       "max          0.948824        1.135258  ...    0.904706    0.956029   \n",
       "\n",
       "        U73738_at   X06956_at   X16699_at   X83863_at   Z17240_at  \\\n",
       "count  151.000000  151.000000  151.000000  151.000000  151.000000   \n",
       "mean     0.464691    0.392301    0.604984    0.531941    0.394276   \n",
       "std      0.152998    0.105910    0.150592    0.129336    0.136484   \n",
       "min      0.172558    0.181925    0.141525    0.149185    0.120792   \n",
       "25%      0.355955    0.334083    0.513409    0.455015    0.306536   \n",
       "50%      0.469452    0.383539    0.599456    0.523538    0.375118   \n",
       "75%      0.562807    0.426880    0.707865    0.613968    0.486736   \n",
       "max      0.930731    0.837301    0.964234    0.856707    0.771090   \n",
       "\n",
       "       L49218_f_at  M71243_f_at  Z78285_f_at  \n",
       "count   151.000000   151.000000   151.000000  \n",
       "mean      0.515471     0.515281     0.454457  \n",
       "std       0.145916     0.150673     0.135950  \n",
       "min       0.140083     0.166168     0.054844  \n",
       "25%       0.418288     0.426565     0.368567  \n",
       "50%       0.521046     0.502907     0.449302  \n",
       "75%       0.620235     0.601599     0.521765  \n",
       "max       0.860715     1.030505     0.867071  \n",
       "\n",
       "[8 rows x 7129 columns]"
      ]
     },
     "execution_count": 10,
     "metadata": {},
     "output_type": "execute_result"
    }
   ],
   "source": [
    "# Check that normalizing was successful (max should be 1 and min 0 for each predictor)\n",
    "X_test_scaled.describe()"
   ]
  },
  {
   "cell_type": "code",
   "execution_count": 11,
   "metadata": {},
   "outputs": [
    {
     "data": {
      "text/html": [
       "<div>\n",
       "<style scoped>\n",
       "    .dataframe tbody tr th:only-of-type {\n",
       "        vertical-align: middle;\n",
       "    }\n",
       "\n",
       "    .dataframe tbody tr th {\n",
       "        vertical-align: top;\n",
       "    }\n",
       "\n",
       "    .dataframe thead th {\n",
       "        text-align: right;\n",
       "    }\n",
       "</style>\n",
       "<table border=\"1\" class=\"dataframe\">\n",
       "  <thead>\n",
       "    <tr style=\"text-align: right;\">\n",
       "      <th></th>\n",
       "      <th>AFFX-BioB-5_at</th>\n",
       "      <th>AFFX-BioB-M_at</th>\n",
       "      <th>AFFX-BioB-3_at</th>\n",
       "      <th>AFFX-BioC-5_at</th>\n",
       "      <th>AFFX-BioC-3_at</th>\n",
       "      <th>AFFX-BioDn-5_at</th>\n",
       "      <th>AFFX-BioDn-3_at</th>\n",
       "      <th>AFFX-CreX-5_at</th>\n",
       "      <th>AFFX-CreX-3_at</th>\n",
       "      <th>AFFX-BioB-5_st</th>\n",
       "      <th>...</th>\n",
       "      <th>U48730_at</th>\n",
       "      <th>U58516_at</th>\n",
       "      <th>U73738_at</th>\n",
       "      <th>X06956_at</th>\n",
       "      <th>X16699_at</th>\n",
       "      <th>X83863_at</th>\n",
       "      <th>Z17240_at</th>\n",
       "      <th>L49218_f_at</th>\n",
       "      <th>M71243_f_at</th>\n",
       "      <th>Z78285_f_at</th>\n",
       "    </tr>\n",
       "  </thead>\n",
       "  <tbody>\n",
       "    <tr>\n",
       "      <th>515</th>\n",
       "      <td>0.611279</td>\n",
       "      <td>0.508174</td>\n",
       "      <td>0.715863</td>\n",
       "      <td>0.151505</td>\n",
       "      <td>0.784430</td>\n",
       "      <td>0.413482</td>\n",
       "      <td>0.836748</td>\n",
       "      <td>0.829443</td>\n",
       "      <td>0.549521</td>\n",
       "      <td>0.263033</td>\n",
       "      <td>...</td>\n",
       "      <td>0.727341</td>\n",
       "      <td>0.570841</td>\n",
       "      <td>0.569006</td>\n",
       "      <td>0.345588</td>\n",
       "      <td>0.521598</td>\n",
       "      <td>0.570938</td>\n",
       "      <td>0.493602</td>\n",
       "      <td>0.610933</td>\n",
       "      <td>0.465889</td>\n",
       "      <td>0.515340</td>\n",
       "    </tr>\n",
       "    <tr>\n",
       "      <th>192</th>\n",
       "      <td>0.257323</td>\n",
       "      <td>0.691342</td>\n",
       "      <td>0.404597</td>\n",
       "      <td>0.499137</td>\n",
       "      <td>0.718397</td>\n",
       "      <td>0.380575</td>\n",
       "      <td>0.607302</td>\n",
       "      <td>0.473850</td>\n",
       "      <td>0.665825</td>\n",
       "      <td>0.486875</td>\n",
       "      <td>...</td>\n",
       "      <td>0.569877</td>\n",
       "      <td>0.650974</td>\n",
       "      <td>0.682418</td>\n",
       "      <td>0.273021</td>\n",
       "      <td>0.794193</td>\n",
       "      <td>0.637596</td>\n",
       "      <td>0.624306</td>\n",
       "      <td>0.724003</td>\n",
       "      <td>0.432130</td>\n",
       "      <td>0.316509</td>\n",
       "    </tr>\n",
       "    <tr>\n",
       "      <th>457</th>\n",
       "      <td>0.224116</td>\n",
       "      <td>0.589906</td>\n",
       "      <td>0.643881</td>\n",
       "      <td>0.332222</td>\n",
       "      <td>0.445394</td>\n",
       "      <td>0.437889</td>\n",
       "      <td>0.620473</td>\n",
       "      <td>0.649054</td>\n",
       "      <td>0.753119</td>\n",
       "      <td>0.580461</td>\n",
       "      <td>...</td>\n",
       "      <td>0.814274</td>\n",
       "      <td>0.782606</td>\n",
       "      <td>0.790134</td>\n",
       "      <td>0.226709</td>\n",
       "      <td>0.875852</td>\n",
       "      <td>0.712236</td>\n",
       "      <td>0.530283</td>\n",
       "      <td>0.678924</td>\n",
       "      <td>0.590148</td>\n",
       "      <td>0.449474</td>\n",
       "    </tr>\n",
       "    <tr>\n",
       "      <th>577</th>\n",
       "      <td>0.546180</td>\n",
       "      <td>0.672524</td>\n",
       "      <td>0.367985</td>\n",
       "      <td>0.439012</td>\n",
       "      <td>0.737901</td>\n",
       "      <td>0.345048</td>\n",
       "      <td>0.528315</td>\n",
       "      <td>0.736581</td>\n",
       "      <td>0.751400</td>\n",
       "      <td>0.382117</td>\n",
       "      <td>...</td>\n",
       "      <td>0.514091</td>\n",
       "      <td>0.395313</td>\n",
       "      <td>0.417766</td>\n",
       "      <td>0.400581</td>\n",
       "      <td>0.634293</td>\n",
       "      <td>0.360998</td>\n",
       "      <td>0.205097</td>\n",
       "      <td>0.390063</td>\n",
       "      <td>0.387687</td>\n",
       "      <td>0.352107</td>\n",
       "    </tr>\n",
       "    <tr>\n",
       "      <th>141</th>\n",
       "      <td>0.472612</td>\n",
       "      <td>0.740084</td>\n",
       "      <td>0.498924</td>\n",
       "      <td>0.490403</td>\n",
       "      <td>0.598089</td>\n",
       "      <td>0.490106</td>\n",
       "      <td>0.363334</td>\n",
       "      <td>0.502310</td>\n",
       "      <td>0.512419</td>\n",
       "      <td>0.534564</td>\n",
       "      <td>...</td>\n",
       "      <td>0.448586</td>\n",
       "      <td>0.380909</td>\n",
       "      <td>0.752446</td>\n",
       "      <td>0.326369</td>\n",
       "      <td>0.592830</td>\n",
       "      <td>0.602877</td>\n",
       "      <td>0.265719</td>\n",
       "      <td>0.393911</td>\n",
       "      <td>0.410379</td>\n",
       "      <td>0.439480</td>\n",
       "    </tr>\n",
       "  </tbody>\n",
       "</table>\n",
       "<p>5 rows × 7129 columns</p>\n",
       "</div>"
      ],
      "text/plain": [
       "     AFFX-BioB-5_at  AFFX-BioB-M_at  AFFX-BioB-3_at  AFFX-BioC-5_at  \\\n",
       "515        0.611279        0.508174        0.715863        0.151505   \n",
       "192        0.257323        0.691342        0.404597        0.499137   \n",
       "457        0.224116        0.589906        0.643881        0.332222   \n",
       "577        0.546180        0.672524        0.367985        0.439012   \n",
       "141        0.472612        0.740084        0.498924        0.490403   \n",
       "\n",
       "     AFFX-BioC-3_at  AFFX-BioDn-5_at  AFFX-BioDn-3_at  AFFX-CreX-5_at  \\\n",
       "515        0.784430         0.413482         0.836748        0.829443   \n",
       "192        0.718397         0.380575         0.607302        0.473850   \n",
       "457        0.445394         0.437889         0.620473        0.649054   \n",
       "577        0.737901         0.345048         0.528315        0.736581   \n",
       "141        0.598089         0.490106         0.363334        0.502310   \n",
       "\n",
       "     AFFX-CreX-3_at  AFFX-BioB-5_st  ...  U48730_at  U58516_at  U73738_at  \\\n",
       "515        0.549521        0.263033  ...   0.727341   0.570841   0.569006   \n",
       "192        0.665825        0.486875  ...   0.569877   0.650974   0.682418   \n",
       "457        0.753119        0.580461  ...   0.814274   0.782606   0.790134   \n",
       "577        0.751400        0.382117  ...   0.514091   0.395313   0.417766   \n",
       "141        0.512419        0.534564  ...   0.448586   0.380909   0.752446   \n",
       "\n",
       "     X06956_at  X16699_at  X83863_at  Z17240_at  L49218_f_at  M71243_f_at  \\\n",
       "515   0.345588   0.521598   0.570938   0.493602     0.610933     0.465889   \n",
       "192   0.273021   0.794193   0.637596   0.624306     0.724003     0.432130   \n",
       "457   0.226709   0.875852   0.712236   0.530283     0.678924     0.590148   \n",
       "577   0.400581   0.634293   0.360998   0.205097     0.390063     0.387687   \n",
       "141   0.326369   0.592830   0.602877   0.265719     0.393911     0.410379   \n",
       "\n",
       "     Z78285_f_at  \n",
       "515     0.515340  \n",
       "192     0.316509  \n",
       "457     0.449474  \n",
       "577     0.352107  \n",
       "141     0.439480  \n",
       "\n",
       "[5 rows x 7129 columns]"
      ]
     },
     "execution_count": 11,
     "metadata": {},
     "output_type": "execute_result"
    }
   ],
   "source": [
    "X_test_scaled.head()"
   ]
  },
  {
   "cell_type": "markdown",
   "metadata": {},
   "source": [
    "**1.2 The training set contains more predictors than observations. What problem(s) can this lead to in fitting a classification model to such a data set? Explain in 3 or fewer sentences.**"
   ]
  },
  {
   "cell_type": "markdown",
   "metadata": {},
   "source": [
    "A classification model fit to a dataset with more predictors than observations can have overfitting, multicollinearity, and may be unidentifiable. Overfitting occurs because the classification model is attempting to tune many parameters with few observations and the model may fit noise more than the true signal from each predictor. There may be multicolinearity among the predictors (especially likely in the case where the predictors are genes, as in this problem, since many genes are regulated together and therefore expressed in correlated patters) due to having so many predictors and when there are more predictors than observations, there will be more unknowns than equations, resulting in there being multiple solutions that fit the data equally well (this issue of having an unidentifiable model is especially an issue in OLS models - which may be used in a standard Bayes' classifier - since matrices may not be invertible so an analytical solution may not be attainable; in logistic regression, there is never a closed form solution but in cases where there are many more predictors than observations, there can be no global minimum for the loss function). "
   ]
  },
  {
   "cell_type": "markdown",
   "metadata": {},
   "source": [
    "**1.3** **Identify and report which 10 genes individually discriminate between the two cancer classes the best (consider every gene in the data set).  Note: it wil lbe useful to save this list for future parts.**\n",
    "\n",
    "**Plot two histograms of your best predictor - one using training and another for the testing dataset. Each histogram should clearly distinguish two different `Cancer_type` classes.**\n",
    "\n",
    "**Hint: You may use t-testing to make this determination: #https://en.wikipedia.org/wiki/Welch%27s_t-test.**"
   ]
  },
  {
   "cell_type": "code",
   "execution_count": 12,
   "metadata": {},
   "outputs": [],
   "source": [
    "# Check whether there is a significant difference in measurement value for each gene individually between ALL and AML cases using training data and visualize the dicriminatory effect of the most differential gene in the testing set as well\n",
    "\n",
    "ALL_y_train = y_train[y_train == 0].index\n",
    "AML_y_train = y_train[y_train == 1].index\n",
    "t_stat_list = []\n",
    "\n",
    "for column in X_train_scaled.columns:\n",
    "        ALL_group = X_train_scaled[column][ALL_y_train]\n",
    "        AML_group = X_train_scaled[column][AML_y_train]\n",
    "        numerator = np.abs(ALL_group.mean() - AML_group.mean())\n",
    "        ALL_sd = ALL_group.std()\n",
    "        AML_sd = AML_group.std()\n",
    "        denom = np.sqrt((ALL_sd**2)/len(ALL_group) + (AML_sd**2)/len(AML_group))\n",
    "        t_stat = numerator/denom\n",
    "        t_stat_list.append(t_stat)       "
   ]
  },
  {
   "cell_type": "code",
   "execution_count": 13,
   "metadata": {},
   "outputs": [],
   "source": [
    "# Show t statistics assessing difference in measurement values between ALL and AML cases for every gene as a dataframe\n",
    "d = {'gene': X_train_scaled.columns, 't_stat': t_stat_list}\n",
    "gene_t_stats = pd.DataFrame(d)"
   ]
  },
  {
   "cell_type": "code",
   "execution_count": 14,
   "metadata": {},
   "outputs": [
    {
     "data": {
      "text/plain": [
       "12.537397241580127"
      ]
     },
     "execution_count": 14,
     "metadata": {},
     "output_type": "execute_result"
    }
   ],
   "source": [
    "gene_t_stats['t_stat'].max()"
   ]
  },
  {
   "cell_type": "code",
   "execution_count": 15,
   "metadata": {},
   "outputs": [
    {
     "name": "stdout",
     "output_type": "stream",
     "text": [
      "Top 10 most differential genes:\n",
      " ['X76648_at', 'Z11793_at', 'Y08612_at', 'U29175_at', 'X17042_at', 'U50136_rna1_at', 'X61587_at', 'M84526_at', 'X95735_at', 'M31523_at']\n",
      "Best predictor gene:\n",
      " ['M31523_at']\n"
     ]
    }
   ],
   "source": [
    "# Find top 10 most differential genes\n",
    "\n",
    "# Find index values for top 10 t statistics (already these are all positive because the absolute value was taken when calculating t statistic)\n",
    "# np.argsort sorts from smallest to largest\n",
    "top_10_index = np.argsort(t_stat_list)[-10:]\n",
    "print('Top 10 most differential genes:\\n', list(X_train_scaled.iloc[:,top_10_index].columns))\n",
    "\n",
    "top_1_index = np.argsort(t_stat_list)[-1:]\n",
    "print('Best predictor gene:\\n', list(X_train_scaled.iloc[:,top_1_index].columns))"
   ]
  },
  {
   "cell_type": "code",
   "execution_count": 16,
   "metadata": {},
   "outputs": [
    {
     "data": {
      "text/html": [
       "<div>\n",
       "<style scoped>\n",
       "    .dataframe tbody tr th:only-of-type {\n",
       "        vertical-align: middle;\n",
       "    }\n",
       "\n",
       "    .dataframe tbody tr th {\n",
       "        vertical-align: top;\n",
       "    }\n",
       "\n",
       "    .dataframe thead th {\n",
       "        text-align: right;\n",
       "    }\n",
       "</style>\n",
       "<table border=\"1\" class=\"dataframe\">\n",
       "  <thead>\n",
       "    <tr style=\"text-align: right;\">\n",
       "      <th></th>\n",
       "      <th>gene</th>\n",
       "      <th>t_stat</th>\n",
       "    </tr>\n",
       "  </thead>\n",
       "  <tbody>\n",
       "    <tr>\n",
       "      <th>6854</th>\n",
       "      <td>M31523_at</td>\n",
       "      <td>12.537397</td>\n",
       "    </tr>\n",
       "  </tbody>\n",
       "</table>\n",
       "</div>"
      ],
      "text/plain": [
       "           gene     t_stat\n",
       "6854  M31523_at  12.537397"
      ]
     },
     "execution_count": 16,
     "metadata": {},
     "output_type": "execute_result"
    }
   ],
   "source": [
    "# check - may delete later\n",
    "gene_t_stats.loc[gene_t_stats['gene'] == 'M31523_at']"
   ]
  },
  {
   "cell_type": "code",
   "execution_count": 17,
   "metadata": {},
   "outputs": [
    {
     "data": {
      "text/plain": [
       "6854    M31523_at\n",
       "Name: gene, dtype: object"
      ]
     },
     "execution_count": 17,
     "metadata": {},
     "output_type": "execute_result"
    }
   ],
   "source": [
    "# Confirm that gene with max t statistic \n",
    "gene_t_stats.loc[gene_t_stats['t_stat'] == gene_t_stats['t_stat'].max()]['gene']"
   ]
  },
  {
   "cell_type": "code",
   "execution_count": 18,
   "metadata": {},
   "outputs": [
    {
     "data": {
      "image/png": "[encoded data removed]",
      "text/plain": [
       "<Figure size 1728x360 with 2 Axes>"
      ]
     },
     "metadata": {
      "needs_background": "light"
     },
     "output_type": "display_data"
    }
   ],
   "source": [
    "# Find ALL and AML cases in test data\n",
    "ALL_y_test = y_test[y_test == 0].index\n",
    "AML_y_test = y_test[y_test == 1].index\n",
    "\n",
    "# Make histograms of measurement value for best predictor gene in order to observe that measurements differ between ALL and AML cases\n",
    "fig, ax = plt.subplots(nrows=1, ncols=2, figsize=(24,5))\n",
    "\n",
    "ax[0].hist(X_train_scaled.loc[ALL_y_train,list(X_train_scaled.iloc[:,top_1_index].columns)].values, alpha = 0.5, bins=10, label=\"ALL cases\"); # Data for ALL cases\n",
    "ax[0].hist(X_train_scaled.loc[AML_y_train,list(X_train_scaled.iloc[:,top_1_index].columns)].values, alpha = 0.5, bins=10, label=\"AML cases\"); # Data for AML cases\n",
    "ax[0].set_title('Training set measurement values for most differential gene ({}) between ALL and AML cases'.format(X_train_scaled.iloc[:,top_1_index].columns[0]))\n",
    "ax[0].set_xlabel('Measurement value');\n",
    "ax[0].set_ylabel('Frequency');\n",
    "ax[0].legend();\n",
    "\n",
    "ax[1].hist(X_test_scaled.loc[ALL_y_test,list(X_test_scaled.iloc[:,top_1_index].columns)].values, alpha = 0.5, bins=10, label=\"ALL cases\"); # Data for ALL cases\n",
    "ax[1].hist(X_test_scaled.loc[AML_y_test,list(X_test_scaled.iloc[:,top_1_index].columns)].values, alpha = 0.5, bins=10, label=\"AML cases\"); # Data for AML cases\n",
    "ax[1].set_title('Testing set measurement values for most differential gene ({}) between ALL and AML cases'.format(X_test_scaled.iloc[:,top_1_index].columns[0]))\n",
    "ax[1].set_xlabel('Measurement value');\n",
    "ax[1].set_ylabel('Frequency');\n",
    "ax[1].legend();\n"
   ]
  },
  {
   "cell_type": "markdown",
   "metadata": {},
   "source": [
    "**1.4 Using your top gene from the previous part (call it  `best_predictor`), create a classification model by eye-balling a value for this gene that would discriminate the two classes the best. Justify your choice in 1-2 sentences. Report the accuracy of this hand-chosen model on the test set.**\n"
   ]
  },
  {
   "cell_type": "code",
   "execution_count": 19,
   "metadata": {},
   "outputs": [
    {
     "name": "stdout",
     "output_type": "stream",
     "text": [
      "6854    M31523_at\n",
      "Name: gene, dtype: object\n"
     ]
    }
   ],
   "source": [
    "# Choose best predictor \n",
    "\n",
    "best_predictor = gene_t_stats.loc[gene_t_stats['t_stat'] == gene_t_stats['t_stat'].max()]['gene']\n",
    "print(best_predictor)"
   ]
  },
  {
   "cell_type": "markdown",
   "metadata": {},
   "source": [
    "In order to discriminate between the two classes, I would choose 0.45 as the cutoff (normalized) measurement value such that patients with normalized measurement values >=0.45 for this best_predictor gene would be classified as an ALL case and patients with normalized measurement values <0.45 for this best_predictor gene would be classified as an AML case. This cutoff value is learned from the training set data (since the peaks of the orange and blue histograms in the left panel occur on opposite sides of the line x = 0.45) and has an accuracy of 0.69 on the test set (as calculated below). "
   ]
  },
  {
   "cell_type": "code",
   "execution_count": 20,
   "metadata": {},
   "outputs": [
    {
     "name": "stdout",
     "output_type": "stream",
     "text": [
      "Accuracy in test set using cutoff of 0.45: 0.6887417218543046\n"
     ]
    }
   ],
   "source": [
    "# Find predicted class for each observation given cutoff of 0.45\n",
    "yhat_all = (X_test_scaled.loc[:,list(X_test_scaled.iloc[:,top_1_index].columns)] < 0.45)*1.0\n",
    "# Find accuracy in test set\n",
    "print('Accuracy in test set using cutoff of 0.45:', accuracy_score(y_test, yhat_all))"
   ]
  },
  {
   "cell_type": "markdown",
   "metadata": {},
   "source": [
    "<div class='exercise'><b> Question 2 [25 pts]: Linear and Logistic Regression  </b></div>\n",
    "\n",
    "\n",
    "In class we discussed how to use both linear regression and logistic regression for classification. For this question, you will work with a single gene predictor that you identify as the best predictor above to explore these two methods.\n",
    "\n",
    "**2.1** Fit a simple linear regression model to the training set using the single gene predictor `best_predictor` to predict cancer type. The scores predicted by the regression model for a patient could be interpreted as an estimate of the probability that the patient has Cancer_type=1 (AML). Is there a problem with this interpretation?\n",
    "\n",
    "\n",
    "Create a figure with following items displayed on the same plot (use training data):\n",
    " - the predicted quantitative response from the linear regression model as a function of the best gene predictor\n",
    " - the true binary response. \n",
    "\n",
    "\n",
    "**2.2** Use your estimated linear regression model to classify observations into 0 and 1 using the standard Bayes' classifier.  Evaluate the classification accuracy of this classification model on both the training and test sets.\n",
    "\n",
    "\n",
    "**2.3** Next, fit a simple logistic regression model to the training set. How do the training and test classification accuracies of this model compare with the linear regression model? \n",
    "\n",
    "Remember, you need to set the regularization parameter for sklearn's logistic regression function to be a very large value in order to **not** regularize (use 'C=100000'). \n",
    "\n",
    "\n",
    "**2.4** \n",
    "Print and interpret the logistic regression coefficients: the 'slope' and intercept. \n",
    "\n",
    "\n",
    "Create 2 plots (one each for training and testing data) with 4 items displayed on each plot.\n",
    "- the predicted quantitative response from the linear regression model as a function of the best gene predictor.\n",
    "- the predicted probabilities of the logistic regression model as a function of the best gene predictor. \n",
    "- the true binary response. \n",
    "- a horizontal line at $y=0.5$. \n",
    "\n",
    "Based on these plots, does one of the models appear better suited for binary classification than the other?  Explain in 3 sentences or fewer. \n",
    "\n"
   ]
  },
  {
   "cell_type": "markdown",
   "metadata": {},
   "source": [
    "<hr>\n",
    "### Solutions"
   ]
  },
  {
   "cell_type": "markdown",
   "metadata": {},
   "source": [
    "**2.1** **Fit a simple linear regression model to the training set using the single gene predictor `best_predictor` to predict cancer type. The scores predicted by the regression model for a patient could be interpreted as an estimate of the probability that the patient has Cancer_type=1 (AML).  Is there a problem with this interpretation?**\n",
    "\n"
   ]
  },
  {
   "cell_type": "code",
   "execution_count": 21,
   "metadata": {},
   "outputs": [
    {
     "data": {
      "text/plain": [
       "((601,), (601, 1))"
      ]
     },
     "execution_count": 21,
     "metadata": {},
     "output_type": "execute_result"
    }
   ],
   "source": [
    "# Prepare train data for sklearn linear regression\n",
    "X_train_scaled_reshape = np.array(X_train_scaled.iloc[:,top_1_index]).reshape(X_train_scaled.iloc[:,top_1_index].shape[0], 1)\n",
    "#y_train_reshape = np.array(y_train).reshape(y_train.shape[0], 1)\n",
    "y_train.shape, X_train_scaled_reshape.shape"
   ]
  },
  {
   "cell_type": "code",
   "execution_count": 22,
   "metadata": {},
   "outputs": [
    {
     "data": {
      "text/plain": [
       "((151,), (151, 1))"
      ]
     },
     "execution_count": 22,
     "metadata": {},
     "output_type": "execute_result"
    }
   ],
   "source": [
    "# Prepare test data for sklearn linear regression\n",
    "X_test_scaled_reshape = np.array(X_test_scaled.iloc[:,top_1_index]).reshape(X_test_scaled.iloc[:,top_1_index].shape[0], 1)\n",
    "#y_test_reshape = np.array(y_test).reshape(y_test.shape[0], 1)\n",
    "y_test.shape, X_test_scaled_reshape.shape"
   ]
  },
  {
   "cell_type": "code",
   "execution_count": 23,
   "metadata": {},
   "outputs": [
    {
     "name": "stdout",
     "output_type": "stream",
     "text": [
      "R^2 = 0.15745\n"
     ]
    }
   ],
   "source": [
    "#create linear model\n",
    "regression = LinearRegression()\n",
    "\n",
    "#fit linear model\n",
    "regression.fit(X_train_scaled_reshape, y_train)\n",
    "\n",
    "predicted_y = regression.predict(X_test_scaled_reshape)\n",
    "\n",
    "r2 = regression.score(X_test_scaled_reshape, y_test)\n",
    "print(f'R^2 = {r2:.5}')\n",
    "#print(accuracy_score(y_test, predicted_y))"
   ]
  },
  {
   "cell_type": "markdown",
   "metadata": {},
   "source": [
    "The predicted response score for a patient from the regression model should be interpretated as the amount of increase in the probability that the patient has AML relative to ALL for every one unit increase in the best_predictor gene's normalized measurement value. However, linear regression (with $R^2$=0.16) does not model the response variable well (having AML vs. ALL) because the response is binary while the linear regression model predicts a continuous response variable given the predictors (so the prediction for a patient may actually be greater than 1 or less than 0 - which do not make sense if the interpretation of the predicted response variable is a probability)."
   ]
  },
  {
   "cell_type": "code",
   "execution_count": 24,
   "metadata": {},
   "outputs": [
    {
     "data": {
      "image/png": "[encoded data removed]",
      "text/plain": [
       "<Figure size 432x288 with 1 Axes>"
      ]
     },
     "metadata": {
      "needs_background": "light"
     },
     "output_type": "display_data"
    }
   ],
   "source": [
    "# Plot the predicted continuous response versus the normalized measurement value for the best predictor gene\n",
    "# Plot the true response (AML vs. ALL) versus the normalized measurement value for the best predictor gene\n",
    "predicted_y_train = regression.predict(X_train_scaled_reshape);\n",
    "\n",
    "ax = plt.subplot(111);\n",
    "plt.scatter(X_train_scaled_reshape, predicted_y_train, label = 'Predicted quantiative response from linear regression for AML vs. ALL status in training data');\n",
    "plt.scatter(X_train_scaled_reshape, y_train, label = 'True AML vs. ALL status in training data');\n",
    "plt.xlabel('Normalized measurement value for best predictor gene');\n",
    "plt.ylabel('AML (1) vs. ALL (0) status');\n",
    "plt.title('Predicted and true AML vs. ALL status versus normalized measurement value for the best predictor gene in training data');\n",
    "\n",
    "ax.legend(bbox_to_anchor=(1, 1));"
   ]
  },
  {
   "cell_type": "markdown",
   "metadata": {},
   "source": [
    "**2.2** **Use your estimated linear regression model to classify observations into 0 and 1 using the standard Bayes' classifier.  Evaluate the classification accuracy of this classification model on both the training and test sets.**"
   ]
  },
  {
   "cell_type": "code",
   "execution_count": 25,
   "metadata": {},
   "outputs": [
    {
     "name": "stdout",
     "output_type": "stream",
     "text": [
      "Linear regression accuracy on training set: 0.7088186356073212\n",
      "Linear regression accuracy on testing set: 0.6887417218543046\n"
     ]
    }
   ],
   "source": [
    "# Standard Bayes' classifier is the process of classifying observations with P_hat(Y=1) >= 0.5 to be in the group associated with Y=1 and all observations with P_hat(Y=0) < 0.5 to be in the group associated with Y=0\n",
    "\n",
    "predicted_y_train_BayesClass = np.round(predicted_y_train)\n",
    "\n",
    "predicted_y_test = regression.predict(X_test_scaled_reshape)\n",
    "predicted_y_test_BayesClass = np.round(predicted_y_test)\n",
    "\n",
    "# Evaluate accuracy on training set\n",
    "print('Linear regression accuracy on training set:', accuracy_score(y_train, predicted_y_train_BayesClass))\n",
    "\n",
    "# Evaluate accuracy on testing set\n",
    "print('Linear regression accuracy on testing set:', accuracy_score(y_test, predicted_y_test_BayesClass))\n"
   ]
  },
  {
   "cell_type": "markdown",
   "metadata": {},
   "source": [
    "\n",
    "**2.3** **Next, fit a simple logistic regression model to the training set. How do the training and test classification accuracies of this model compare with the linear regression model? EXCLUDED PER ERRATA -> Are the classifications substantially different?  Explain why this is the case.**\n",
    "\n",
    "**Remember, you need to set the regularization parameter for sklearn's logistic regression function to be a very large value in order to **not** regularize (use 'C=100000')."
   ]
  },
  {
   "cell_type": "code",
   "execution_count": 26,
   "metadata": {},
   "outputs": [
    {
     "name": "stdout",
     "output_type": "stream",
     "text": [
      "Logistic regression accuracy on training set: 0.7071547420965059\n",
      "Logistic regression accuracy on testing set: 0.7086092715231788\n"
     ]
    }
   ],
   "source": [
    "# Fit logistic regression model to training set\n",
    "logreg = LogisticRegression(C=10000, fit_intercept=True, solver='liblinear')\n",
    "# I am using the default solver = liblinear because it is most appropriate for small samples per the sklearn documentation and therefore it may have the most power\n",
    "# I am using the default for max_iter = 100 because it is most efficient and the model converges with it\n",
    "# I am using an intercept because it does not make sense to constrain the intercept to 0 for this model. There can be a baseline risk of AML vs. ALL without any expression of the best predictor gene\n",
    "logreg.fit(X_train_scaled_reshape, y_train)\n",
    "\n",
    "# Predictions on training set\n",
    "logreg_y_hat_train = logreg.predict(X_train_scaled_reshape)\n",
    "logreg_y_hat_train_proba = logreg.predict_proba(X_train_scaled_reshape)\n",
    "\n",
    "# Predictions on testing set\n",
    "logreg_y_hat_test = logreg.predict(X_test_scaled_reshape)\n",
    "logreg_y_hat_test_proba = logreg.predict_proba(X_test_scaled_reshape)\n",
    "\n",
    "# Evaluate accuracy on training set\n",
    "print('Logistic regression accuracy on training set:', accuracy_score(y_train, logreg_y_hat_train))\n",
    "\n",
    "# Evaluate accuracy on testing set\n",
    "print('Logistic regression accuracy on testing set:', accuracy_score(y_test, logreg_y_hat_test))\n"
   ]
  },
  {
   "cell_type": "markdown",
   "metadata": {},
   "source": [
    "The training and testing accuracies of the logistic regression model (0.707 and 0.709, respectively) are more similar to each other than are the training and testing accuracies of the linear regression model with the standard Bayes' classifier (0.709 and 0.689, respectively), which indicates that the logistic regression model has less overfitting. The accuracy in the test set for the logistic regression model (0.709) is also slightly larger than the accuracy in the test set for the linear regression model with Bayes' classifier (0.689), which supports that the logistic regression model is more appropriate for these data."
   ]
  },
  {
   "cell_type": "markdown",
   "metadata": {},
   "source": [
    "**2.4 Print and interpret the logistic regression coefficients: the 'slope' and the intercept.**\n",
    "\n",
    "**Create 2 plots (with training and test data) with 4 items displayed on each plot.**\n",
    "- the predicted quantitative response from the linear regression model as a function of the best gene predictor.\n",
    "- the predicted probabilities of the logistic regression model as a function of the best gene predictor. \n",
    "- the true binary response. \n",
    "- a horizontal line at $y=0.5$.\n",
    "\n",
    "**Based on these plots, does one of the models appear better suited for binary classification than the other?  Explain in 3 sentences or fewer.** \n"
   ]
  },
  {
   "cell_type": "code",
   "execution_count": 27,
   "metadata": {},
   "outputs": [
    {
     "name": "stdout",
     "output_type": "stream",
     "text": [
      "Estimated slope (beta1) from logistic regression: -8.756350548034725\n",
      "Estimated intercept (beta0) from logistic regression: 4.0769142201546735\n"
     ]
    }
   ],
   "source": [
    "# Show coefficient estimate for the best predictor gene\n",
    "print('Estimated slope (beta1) from logistic regression:', logreg.coef_[0][0])\n",
    "\n",
    "# Show intercept estimate\n",
    "print('Estimated intercept (beta0) from logistic regression:', logreg.intercept_[0])"
   ]
  },
  {
   "cell_type": "code",
   "execution_count": 28,
   "metadata": {},
   "outputs": [
    {
     "name": "stdout",
     "output_type": "stream",
     "text": [
      "Estimated odds ratio for slope from logistic regression: 0.00015745819743551428\n",
      "Estimated odds ratio for intercept from logistic regression: 58.96324125433975\n"
     ]
    }
   ],
   "source": [
    "# Translate log odds to odds ratios\n",
    "print('Estimated odds ratio for slope from logistic regression:', np.exp(logreg.coef_[0][0]))\n",
    "print('Estimated odds ratio for intercept from logistic regression:', np.exp(logreg.intercept_[0]))"
   ]
  },
  {
   "cell_type": "markdown",
   "metadata": {},
   "source": [
    "The interpretation of the slope coefficient is: For every one unit increase in normalized measurement value for the best predictor gene, there is a predicted 8.76 fold decrease in the log odds of having AML relative to ALL (where the odds is the probability of having AML divided by the probability of not having AML). This is equivalent to saying that for every one unit increase in normalized measurement value for the best predictor gene, the predicted odds of having AML versus ALL is 0.00016 (odds ratio for having AML vs. ALL = 0.00016.\n",
    "\n",
    "The interpretation of the intercept is: When the normalized measurement value for the best predictor gene is 0 (i.e., when the gene is not expressed at all or the patient does not have the gene), the expected log odds of having AML relative to ALL is 4.08. This is equivalent to saying that when the normalized measurement value for the best predictor gene is 0 (i.e., when the gene is not expressed at all), the predicted odds of having AML versus ALL is 58.96 (odds ratio for having AML vs. ALL = 58.96). \n",
    "\n",
    "The slope and intercept can also be used to describe that the inflection point of the logistic regression curve is shifted by -b0/b1."
   ]
  },
  {
   "cell_type": "code",
   "execution_count": 29,
   "metadata": {},
   "outputs": [
    {
     "data": {
      "image/png": "[encoded data removed]",
      "text/plain": [
       "<Figure size 432x288 with 1 Axes>"
      ]
     },
     "metadata": {
      "needs_background": "light"
     },
     "output_type": "display_data"
    }
   ],
   "source": [
    "# Plot for training data\n",
    "\n",
    "ax = plt.subplot(111);\n",
    "plt.scatter(X_train_scaled_reshape, predicted_y_train, alpha = 0.3, label = 'Predicted quantiative response from linear regression for AML vs. ALL status in training data');\n",
    "plt.scatter(X_train_scaled_reshape, logreg_y_hat_train_proba[:,1], alpha = 0.3, label = 'Predicted probabilities from logistic regression of AML vs. ALL status in training data');\n",
    "plt.scatter(X_train_scaled_reshape, y_train, alpha = 0.3, label = 'True AML vs. ALL status in training data');\n",
    "plt.axhline(0.5, color=\"gray\");\n",
    "plt.xlabel('Normalized measurement value for best predictor gene');\n",
    "plt.ylabel('AML (1) vs. ALL (0) status');\n",
    "plt.title('Predicted and true AML vs. ALL status versus normalized measurement value for the best predictor gene in training data');\n",
    "\n",
    "ax.legend(bbox_to_anchor=(1, 1));"
   ]
  },
  {
   "cell_type": "code",
   "execution_count": 30,
   "metadata": {},
   "outputs": [
    {
     "data": {
      "image/png": "[encoded data removed]",
      "text/plain": [
       "<Figure size 432x288 with 1 Axes>"
      ]
     },
     "metadata": {
      "needs_background": "light"
     },
     "output_type": "display_data"
    }
   ],
   "source": [
    "# Plot for testing data\n",
    "\n",
    "ax = plt.subplot(111);\n",
    "plt.scatter(X_test_scaled_reshape, predicted_y_test, alpha = 0.3, label = 'Predicted quantiative response from linear regression for AML vs. ALL status in testing data');\n",
    "plt.scatter(X_test_scaled_reshape, logreg_y_hat_test_proba[:,1], alpha = 0.3, label = 'Predicted probabilities from logistic regression of AML vs. ALL status in testing data');\n",
    "plt.scatter(X_test_scaled_reshape, y_test, alpha = 0.3, label = 'True AML vs. ALL status in testing data');\n",
    "plt.axhline(0.5, color=\"gray\");\n",
    "plt.xlabel('Normalized measurement value for best predictor gene');\n",
    "plt.ylabel('AML (1) vs. ALL (0) status');\n",
    "plt.title('Predicted and true AML vs. ALL status versus normalized measurement value for the best predictor gene in testing data');\n",
    "\n",
    "ax.legend(bbox_to_anchor=(1, 1));"
   ]
  },
  {
   "cell_type": "markdown",
   "metadata": {},
   "source": [
    "The logistic regression model appears better suited for binary classification than does the linear regression model because the predicted probabilities from logistic regression of AML vs. ALL status in the testing data all fall within 0 to 1 on the y axis of the plot above while linear regression produces some \"predicted probabilities\" (technically this is the predicted quantitative response from linear regression) than are greater than 1 and less than 0, which are nonsensical values. Furthermore, the logistic regression predictions fall in a sigmoidal curve, which more closely resembles the shape of the true AML vs. ALL status data (green horizontal lines) compared to a diagonal line."
   ]
  },
  {
   "cell_type": "markdown",
   "metadata": {},
   "source": [
    "<div class='exercise'> <b> Question 3 [20pts]: Multiple Logistic Regression </b> </div>\n",
    "\n",
    "\n",
    "**3.1** Next, fit a multiple logistic regression model with all the gene predictors from the data set.  How does the classification accuracy of this model compare with the models fitted in question 2 with a single gene (on both the training and test sets)?  \n",
    "\n",
    "\n",
    "**3.2** How many of the coefficients estimated by this multiple logistic regression in the previous part are significantly different from zero at a *significance level of 5%*? Use the same value of C=100000 as before.\n",
    "\n",
    "**Hint:** To answer this question, use *bootstrapping* with 100 bootstrap samples/iterations.  \n",
    "\n",
    "\n",
    "**3.3** Comment on the classification accuracy of training and test set? Given the results above how would you assess the generalization capacity of your trained model? What other tests would you suggest to better guard against false sense of security on the accuracy of the model as a whole? \n",
    "\n",
    "**3.4** Now use regularization to improve predictions from the multiple logistic regression model.  Use LASSO-like regularization and cross-validation within the training set to tune the model.  Report the classification accuracy on both the training and test set.\n",
    "\n",
    "**3.5** Do the 10 best predictors from Q1 hold up as important features in this regularized model?  If not, explain why this is the case (feel free to use the data to support your explanation)."
   ]
  },
  {
   "cell_type": "markdown",
   "metadata": {},
   "source": [
    "<hr>\n",
    "### Solutions"
   ]
  },
  {
   "cell_type": "markdown",
   "metadata": {},
   "source": [
    "**3.1** **Next, fit a multiple logistic regression model with all the gene predictors from the data set.  How does the classification accuracy of this model compare with the models fitted in question 2 with a single gene (on both the training and test sets)?**  \n"
   ]
  },
  {
   "cell_type": "code",
   "execution_count": 31,
   "metadata": {},
   "outputs": [],
   "source": [
    "# Prepare X data for training and testing for logistic regression in sklearn\n",
    "# Form arrays where each row holds domain for each predictor\n",
    "X_train_scaled_multi_reshape = np.array(X_train_scaled).reshape(X_train_scaled.shape[0], X_train_scaled.shape[1])\n",
    "X_test_scaled_multi_reshape = np.array(X_test_scaled).reshape(X_test_scaled.shape[0], X_test_scaled.shape[1])\n"
   ]
  },
  {
   "cell_type": "code",
   "execution_count": 32,
   "metadata": {},
   "outputs": [
    {
     "data": {
      "text/plain": [
       "((601, 7129), (601,))"
      ]
     },
     "execution_count": 32,
     "metadata": {},
     "output_type": "execute_result"
    }
   ],
   "source": [
    "# Check sizes\n",
    "X_train_scaled_multi_reshape.shape, y_train.shape"
   ]
  },
  {
   "cell_type": "code",
   "execution_count": 33,
   "metadata": {},
   "outputs": [
    {
     "data": {
      "text/plain": [
       "((151, 7129), (151,))"
      ]
     },
     "execution_count": 33,
     "metadata": {},
     "output_type": "execute_result"
    }
   ],
   "source": [
    "# Check sizes\n",
    "X_test_scaled_multi_reshape.shape, y_test.shape"
   ]
  },
  {
   "cell_type": "code",
   "execution_count": 34,
   "metadata": {},
   "outputs": [
    {
     "name": "stdout",
     "output_type": "stream",
     "text": [
      "Multiple logistic regression accuracy on training set: 1.0\n",
      "Multiple logistic regression accuracy on testing set: 0.7748344370860927\n"
     ]
    }
   ],
   "source": [
    "# Fit multiple logistic regression\n",
    "\n",
    "multi_logreg = LogisticRegression(C=100000, fit_intercept=True, solver='liblinear')\n",
    "# I am using the default solver = liblinear because it is most appropriate for small samples per the sklearn documentation and therefore it may have the most power\n",
    "# I am using the default for max_iter = 100 because it is most efficient and the model converges with it\n",
    "# I am using an intercept because it does not make sense to constrain the intercept to 0 for this model. There can be a baseline risk of AML vs. ALL without any expression of the best predictor gene\n",
    "\n",
    "multi_logreg.fit(X_train_scaled_multi_reshape, y_train)\n",
    "\n",
    "# Predictions on training set\n",
    "multi_logreg_y_hat_train = multi_logreg.predict(X_train_scaled_multi_reshape)\n",
    "\n",
    "# Predictions on testing set\n",
    "multi_logreg_y_hat_test = multi_logreg.predict(X_test_scaled_multi_reshape)\n",
    "\n",
    "# Evaluate accuracy on training set\n",
    "print('Multiple logistic regression accuracy on training set:', accuracy_score(y_train, multi_logreg_y_hat_train))\n",
    "\n",
    "# Evaluate accuracy on testing set\n",
    "print('Multiple logistic regression accuracy on testing set:', accuracy_score(y_test, multi_logreg_y_hat_test))"
   ]
  },
  {
   "cell_type": "markdown",
   "metadata": {},
   "source": [
    "The classification accuracies of the multiple logistic regression model using all genes as predictors using the training and testing data are 1.0 and 0.77, respectively, and are higher than the accuracies obtained from both the linear regression model (training data: 0.709; testing data: 0.689) and logistic regression model (training data: 0.707; testing data: 0.709) using only the best gene as a predictor."
   ]
  },
  {
   "cell_type": "markdown",
   "metadata": {},
   "source": [
    "**3.2** **How many of the coefficients estimated by this multiple logistic regression in the previous part are significantly different from zero at a *significance level of 5%*? Use the same value of C=100000 as before.**\n",
    "\n",
    "**Hint:** **To answer this question, use *bootstrapping* with 100 bootstrap samples/iterations.**  \n"
   ]
  },
  {
   "cell_type": "code",
   "execution_count": 35,
   "metadata": {},
   "outputs": [],
   "source": [
    "# Based code on CS209A HW 2 solutions as suggested on Ed\n",
    "y = y_train.values\n",
    "samples = 100\n",
    "alpha = 0.05\n",
    "num_data_points = len(y)\n",
    "intercepts = []\n",
    "slopes = []\n",
    "# Append response variable column to X data in order to facilitate obtaining x and y data from a bootstrapped sample for many iterations \n",
    "X_train_scaled_boot = X_train_scaled.copy()\n",
    "X_train_scaled_boot['Cancer_type'] = y\n",
    "for i in range(samples):\n",
    "    df_bootstrapped = X_train_scaled_boot.sample(n=num_data_points, replace=True) # sampling just train data with replacement\n",
    "    # Prepare shape of true y data from bootstrapped sample for logistic regression in sklearn by transforming to an array\n",
    "    y_boostrapped = np.array(df_bootstrapped[['Cancer_type']].values).reshape(-1,)\n",
    "    x_bootstrapped = np.array(df_bootstrapped.loc[:, df_bootstrapped.columns != 'Cancer_type'].values).reshape(df_bootstrapped.loc[:, df_bootstrapped.columns != 'Cancer_type'].shape[0],df_bootstrapped.loc[:, df_bootstrapped.columns != 'Cancer_type'].shape[1])\n",
    "    multi_logreg_bootstrapped = LogisticRegression(C=100000, fit_intercept=True, solver='liblinear', max_iter=1000)\n",
    "    # Use liblinear solver because it is best for small samples and so has high power and increase max_iter from the default 100 to 1000 in order to allow model to converge as shown on Ed\n",
    "    multi_logreg_bootstrapped.fit(x_bootstrapped, y_boostrapped)\n",
    "    intercepts.append(list(multi_logreg_bootstrapped.intercept_))\n",
    "    slopes.append(list(multi_logreg_bootstrapped.coef_[0]))"
   ]
  },
  {
   "cell_type": "code",
   "execution_count": 36,
   "metadata": {},
   "outputs": [
    {
     "data": {
      "text/html": [
       "<div>\n",
       "<style scoped>\n",
       "    .dataframe tbody tr th:only-of-type {\n",
       "        vertical-align: middle;\n",
       "    }\n",
       "\n",
       "    .dataframe tbody tr th {\n",
       "        vertical-align: top;\n",
       "    }\n",
       "\n",
       "    .dataframe thead th {\n",
       "        text-align: right;\n",
       "    }\n",
       "</style>\n",
       "<table border=\"1\" class=\"dataframe\">\n",
       "  <thead>\n",
       "    <tr style=\"text-align: right;\">\n",
       "      <th></th>\n",
       "      <th>0.025</th>\n",
       "      <th>0.975</th>\n",
       "    </tr>\n",
       "  </thead>\n",
       "  <tbody>\n",
       "    <tr>\n",
       "      <th>AFFX-BioB-5_at</th>\n",
       "      <td>0.104048</td>\n",
       "      <td>0.665856</td>\n",
       "    </tr>\n",
       "    <tr>\n",
       "      <th>AFFX-BioB-M_at</th>\n",
       "      <td>-0.155023</td>\n",
       "      <td>0.343872</td>\n",
       "    </tr>\n",
       "    <tr>\n",
       "      <th>AFFX-BioB-3_at</th>\n",
       "      <td>-0.439878</td>\n",
       "      <td>0.187778</td>\n",
       "    </tr>\n",
       "    <tr>\n",
       "      <th>AFFX-BioC-5_at</th>\n",
       "      <td>-0.390366</td>\n",
       "      <td>0.117224</td>\n",
       "    </tr>\n",
       "    <tr>\n",
       "      <th>AFFX-BioC-3_at</th>\n",
       "      <td>-0.521034</td>\n",
       "      <td>0.001879</td>\n",
       "    </tr>\n",
       "  </tbody>\n",
       "</table>\n",
       "</div>"
      ],
      "text/plain": [
       "                   0.025     0.975\n",
       "AFFX-BioB-5_at  0.104048  0.665856\n",
       "AFFX-BioB-M_at -0.155023  0.343872\n",
       "AFFX-BioB-3_at -0.439878  0.187778\n",
       "AFFX-BioC-5_at -0.390366  0.117224\n",
       "AFFX-BioC-3_at -0.521034  0.001879"
      ]
     },
     "execution_count": 36,
     "metadata": {},
     "output_type": "execute_result"
    }
   ],
   "source": [
    "# Show confidence intervals of bootstrapped estimates\n",
    "data_boot = pd.DataFrame(slopes, columns=X_train_scaled.columns)\n",
    "df4 = data_boot.quantile([0.025, 0.975])\n",
    "df5 = df4.transpose()\n",
    "df5.head()"
   ]
  },
  {
   "cell_type": "code",
   "execution_count": 37,
   "metadata": {},
   "outputs": [
    {
     "name": "stdout",
     "output_type": "stream",
     "text": [
      "Number of coefficients significantly different from 0: 861\n",
      "Total number of coefficients in model: 7129\n"
     ]
    }
   ],
   "source": [
    "# Find the number of coefficients whose log odds confidence intervals do not span 0\n",
    "print('Number of coefficients significantly different from 0:', len(df5[(df5[0.975] < 0)]) + len(df5[(df5[0.025] > 0)]))\n",
    "print('Total number of coefficients in model:', len(df5))"
   ]
  },
  {
   "cell_type": "markdown",
   "metadata": {},
   "source": [
    "**3.3 Open question: Comment on the classification accuracy of training and test set? Given the results above how would you assest the generalization capacity of your trained model? What other tests would you suggest to better guard against false sense of security on the accuracy of the model as a whole.**"
   ]
  },
  {
   "cell_type": "markdown",
   "metadata": {},
   "source": [
    "There is high classification accuracy in the training and test sets (1.0 and 0.77, respectively) but the differential between the training and test set accuracy values and the observation that the accuracy in training is 1.0 indicate that there is overfitting in the logistic regression model of AML vs. ALL status with all genes included as predictors. Given the observation that only 861 of 7129 coefficients in the model are significantly different than 0 (have 95% confidence intervals on the log odds scale that do not span 0) supports that the model is including many predictors that do not have a significant effect on the response variable. These excessive predictors may be contributing to overfitting and may exhibit multicolinearity such that the estimates for the predictors are unstable. The trained model with all predictors is therefore not very generalizable. In order to guard against the false sense of security on the accuracy of the model as a whole, I would use cross-validation to assess the accuracy in the training and testing groups more thoroughly (see how accuracy changes depending on the fold used during cross-validation). I would also perform correlation tests and plots to reveal any multicolinearity across the predictors if possible (which would help to show that the model may not be as sound as it appears). I would also perform regularized logistic regression with the L1 penalty and determine how many predictors' coefficients shrink to 0 after regularization with cross validation to select the best regularization parameter (this would show that there are excess predictors included in the model and would help to guard against readers trusting the accuracy of the model as a whole)."
   ]
  },
  {
   "cell_type": "markdown",
   "metadata": {},
   "source": [
    "**3.4 Now use regularization to improve predictions from the multiple logistic regression model.  Use LASSO-like regularization and cross-validation within the training set to tune the model.  Report the classification accuracy on both the training and test set.**"
   ]
  },
  {
   "cell_type": "code",
   "execution_count": 38,
   "metadata": {},
   "outputs": [],
   "source": [
    "# Multiple logistic regression with LASSO regularization (L1 norm)\n",
    "\n",
    "Cs = 10.0**np.arange(-5,5)\n",
    "\n",
    "logregCV_q4 = LogisticRegressionCV(Cs = Cs,cv=5,solver='liblinear',penalty='l1')\n",
    "# Use liblinear solver because it is best for small samples and so has high power and leave max_iter at the default of 100 because model converges with it and is more efficient than using higher numbers for max_iter\n",
    "# Use a range of Cs as shown in the lab and use cv = 5 to perform 5-fold cross validation as modeled in the lab\n",
    "model_logregCV_q4 = logregCV_q4.fit(X_train_scaled_multi_reshape, y_train)"
   ]
  },
  {
   "cell_type": "code",
   "execution_count": 39,
   "metadata": {},
   "outputs": [
    {
     "name": "stdout",
     "output_type": "stream",
     "text": [
      "Multiple logistic regression accuracy on training set after regularization: 0.9534109816971714\n",
      "Multiple logistic regression accuracy on testing set after regularization: 0.8410596026490066\n"
     ]
    }
   ],
   "source": [
    "# Predictions on training set\n",
    "logregCV_q4_y_hat_train = logregCV_q4.predict(X_train_scaled_multi_reshape)\n",
    "\n",
    "# Predictions on testing set\n",
    "logregCV_q4_y_hat_test = logregCV_q4.predict(X_test_scaled_multi_reshape)\n",
    "\n",
    "# Evaluate accuracy on training set\n",
    "print('Multiple logistic regression accuracy on training set after regularization:', accuracy_score(y_train, logregCV_q4_y_hat_train))\n",
    "\n",
    "# Evaluate accuracy on testing set\n",
    "print('Multiple logistic regression accuracy on testing set after regularization:', accuracy_score(y_test, logregCV_q4_y_hat_test))"
   ]
  },
  {
   "cell_type": "markdown",
   "metadata": {},
   "source": [
    "**3.5: Do the 10 best predictors from Q1 hold up as important features in this regularized model?  If not, explain why this is the case (feel free to use the data to support your explanation).**"
   ]
  },
  {
   "cell_type": "code",
   "execution_count": 40,
   "metadata": {},
   "outputs": [
    {
     "data": {
      "text/html": [
       "<div>\n",
       "<style scoped>\n",
       "    .dataframe tbody tr th:only-of-type {\n",
       "        vertical-align: middle;\n",
       "    }\n",
       "\n",
       "    .dataframe tbody tr th {\n",
       "        vertical-align: top;\n",
       "    }\n",
       "\n",
       "    .dataframe thead th {\n",
       "        text-align: right;\n",
       "    }\n",
       "</style>\n",
       "<table border=\"1\" class=\"dataframe\">\n",
       "  <thead>\n",
       "    <tr style=\"text-align: right;\">\n",
       "      <th></th>\n",
       "      <th>coefficient</th>\n",
       "    </tr>\n",
       "  </thead>\n",
       "  <tbody>\n",
       "    <tr>\n",
       "      <th>AFFX-DapX-3_at</th>\n",
       "      <td>0.467588</td>\n",
       "    </tr>\n",
       "    <tr>\n",
       "      <th>AF006609_at</th>\n",
       "      <td>-0.962090</td>\n",
       "    </tr>\n",
       "    <tr>\n",
       "      <th>D14695_at</th>\n",
       "      <td>0.628125</td>\n",
       "    </tr>\n",
       "    <tr>\n",
       "      <th>D15049_at</th>\n",
       "      <td>0.426785</td>\n",
       "    </tr>\n",
       "    <tr>\n",
       "      <th>D26135_at</th>\n",
       "      <td>-0.052600</td>\n",
       "    </tr>\n",
       "  </tbody>\n",
       "</table>\n",
       "</div>"
      ],
      "text/plain": [
       "                coefficient\n",
       "AFFX-DapX-3_at     0.467588\n",
       "AF006609_at       -0.962090\n",
       "D14695_at          0.628125\n",
       "D15049_at          0.426785\n",
       "D26135_at         -0.052600"
      ]
     },
     "execution_count": 40,
     "metadata": {},
     "output_type": "execute_result"
    }
   ],
   "source": [
    "# Make dataframe to hold predictor along with regularized coefficient value\n",
    "logregCV_q4_coefs = pd.DataFrame(logregCV_q4.coef_.reshape(-1,1), index = X_train_scaled.columns)\n",
    "logregCV_q4_coefs.columns=['coefficient']\n",
    "\n",
    "# Show head of predictors with nonzero coefficients after regularization\n",
    "logregCV_q4_coefs.loc[logregCV_q4_coefs['coefficient'] != 0].head()"
   ]
  },
  {
   "cell_type": "code",
   "execution_count": 41,
   "metadata": {},
   "outputs": [
    {
     "data": {
      "text/html": [
       "<div>\n",
       "<style scoped>\n",
       "    .dataframe tbody tr th:only-of-type {\n",
       "        vertical-align: middle;\n",
       "    }\n",
       "\n",
       "    .dataframe tbody tr th {\n",
       "        vertical-align: top;\n",
       "    }\n",
       "\n",
       "    .dataframe thead th {\n",
       "        text-align: right;\n",
       "    }\n",
       "</style>\n",
       "<table border=\"1\" class=\"dataframe\">\n",
       "  <thead>\n",
       "    <tr style=\"text-align: right;\">\n",
       "      <th></th>\n",
       "      <th>coefficient</th>\n",
       "    </tr>\n",
       "  </thead>\n",
       "  <tbody>\n",
       "    <tr>\n",
       "      <th>X76648_at</th>\n",
       "      <td>0.000000</td>\n",
       "    </tr>\n",
       "    <tr>\n",
       "      <th>Z11793_at</th>\n",
       "      <td>0.678497</td>\n",
       "    </tr>\n",
       "    <tr>\n",
       "      <th>Y08612_at</th>\n",
       "      <td>0.000000</td>\n",
       "    </tr>\n",
       "    <tr>\n",
       "      <th>U29175_at</th>\n",
       "      <td>0.000000</td>\n",
       "    </tr>\n",
       "    <tr>\n",
       "      <th>X17042_at</th>\n",
       "      <td>0.000000</td>\n",
       "    </tr>\n",
       "    <tr>\n",
       "      <th>U50136_rna1_at</th>\n",
       "      <td>0.535885</td>\n",
       "    </tr>\n",
       "    <tr>\n",
       "      <th>X61587_at</th>\n",
       "      <td>0.129082</td>\n",
       "    </tr>\n",
       "    <tr>\n",
       "      <th>M84526_at</th>\n",
       "      <td>0.000000</td>\n",
       "    </tr>\n",
       "    <tr>\n",
       "      <th>X95735_at</th>\n",
       "      <td>0.000000</td>\n",
       "    </tr>\n",
       "    <tr>\n",
       "      <th>M31523_at</th>\n",
       "      <td>-1.099597</td>\n",
       "    </tr>\n",
       "  </tbody>\n",
       "</table>\n",
       "</div>"
      ],
      "text/plain": [
       "                coefficient\n",
       "X76648_at          0.000000\n",
       "Z11793_at          0.678497\n",
       "Y08612_at          0.000000\n",
       "U29175_at          0.000000\n",
       "X17042_at          0.000000\n",
       "U50136_rna1_at     0.535885\n",
       "X61587_at          0.129082\n",
       "M84526_at          0.000000\n",
       "X95735_at          0.000000\n",
       "M31523_at         -1.099597"
      ]
     },
     "execution_count": 41,
     "metadata": {},
     "output_type": "execute_result"
    }
   ],
   "source": [
    "# Extract the top 10 predictor genes determined previously and inspect their coefficients after regularization\n",
    "logregCV_q4_coefs.loc[list(X_train_scaled.iloc[:,top_10_index].columns),:]"
   ]
  },
  {
   "cell_type": "markdown",
   "metadata": {},
   "source": [
    "The coefficients for the effect of each of the top 10 predictor genes on cancer type that are 0 are not supported as important features (X76648_at, Y08612_at, U29175_at, X17042_at, M84526_at, and X95735_at) according to the LASSO regularization approach, but the genes with nonzero estimates for the coefficient (Z11793_at, U50136_rna1_at, X61587_at, and M31523_at) may have important effects. Specifically, the M31523_at gene (the best predictor gene according to t tests) has a -1.10 coefficient estimate, which means that every one unit increase in normalized measurement value for M31523_at is associated with a 1.10 fold decrease in the log odds of having AML versus ALL cancer (in other words, the predicted probability of having AML is 0.33 times less likely (np.exp(-1.099597)) than having ALL for every one unit increase in normalized measurement value of this gene)."
   ]
  },
  {
   "cell_type": "markdown",
   "metadata": {},
   "source": [
    "<div class='exercise'> <b> Question 4 [25pts]: Multi Class Log Regression </b> </div>"
   ]
  },
  {
   "cell_type": "markdown",
   "metadata": {},
   "source": [
    "**4.1** Load the data from `hw4_mc_enhance.csv.zip` and examine its structure. How many instances of each class are there in our dataset? \n",
    "\n",
    "**4.2** Split the dataset into train and test, 80-20 split, random_state = 8. \n",
    "\n",
    "We are going to utilize these two features - 'M31523_at', 'X95735_at'.  Create a scatter plot of these two features using the training dataset.  It should be easily discernable via labeling/marking in the plot which observations belong to which `cancer_type`.\n",
    "\n",
    "**4.3** Fit the following two models using crossvalidation: \n",
    "- Logistic Regression Multiclass model with linear features. \n",
    "- Logistic Regression Multiclass model with Polynomial features, degree = 2.\n",
    "\n",
    "**4.4** Plot the decision boundaries for each model and interpret the results. Hint: You may utilize the function `overlay_decision_boundary`. \n",
    "\n",
    "**4.5** Report and plot the CV scores for the two models and interpret. \n"
   ]
  },
  {
   "cell_type": "markdown",
   "metadata": {},
   "source": [
    "<hr>\n",
    "### Solutions"
   ]
  },
  {
   "cell_type": "markdown",
   "metadata": {},
   "source": [
    "**4.1 Load the data from `hw4_mc_enhance.csv.zip` and examine its structure. How many instances of each class are there in our dataset?**"
   ]
  },
  {
   "cell_type": "code",
   "execution_count": 42,
   "metadata": {},
   "outputs": [],
   "source": [
    "# Load data from zip file\n",
    "\n",
    "archive = zipfile.ZipFile('data/hw4_mc_enhance.csv.zip', 'r')\n",
    "hw4_mc_enhance = pd.read_csv(archive.open('hw4_mc_enhance.csv'),index_col=0)\n",
    "\n",
    "# Used https://stackoverflow.com/questions/26942476/reading-csv-zipped-files-in-python as a reference"
   ]
  },
  {
   "cell_type": "code",
   "execution_count": 43,
   "metadata": {},
   "outputs": [
    {
     "data": {
      "text/html": [
       "<div>\n",
       "<style scoped>\n",
       "    .dataframe tbody tr th:only-of-type {\n",
       "        vertical-align: middle;\n",
       "    }\n",
       "\n",
       "    .dataframe tbody tr th {\n",
       "        vertical-align: top;\n",
       "    }\n",
       "\n",
       "    .dataframe thead th {\n",
       "        text-align: right;\n",
       "    }\n",
       "</style>\n",
       "<table border=\"1\" class=\"dataframe\">\n",
       "  <thead>\n",
       "    <tr style=\"text-align: right;\">\n",
       "      <th></th>\n",
       "      <th>AFFX-BioB-5_at</th>\n",
       "      <th>AFFX-BioB-M_at</th>\n",
       "      <th>AFFX-BioB-3_at</th>\n",
       "      <th>AFFX-BioC-5_at</th>\n",
       "      <th>AFFX-BioC-3_at</th>\n",
       "      <th>AFFX-BioDn-5_at</th>\n",
       "      <th>AFFX-BioDn-3_at</th>\n",
       "      <th>AFFX-CreX-5_at</th>\n",
       "      <th>AFFX-CreX-3_at</th>\n",
       "      <th>AFFX-BioB-5_st</th>\n",
       "      <th>...</th>\n",
       "      <th>U58516_at</th>\n",
       "      <th>U73738_at</th>\n",
       "      <th>X06956_at</th>\n",
       "      <th>X16699_at</th>\n",
       "      <th>X83863_at</th>\n",
       "      <th>Z17240_at</th>\n",
       "      <th>L49218_f_at</th>\n",
       "      <th>M71243_f_at</th>\n",
       "      <th>Z78285_f_at</th>\n",
       "      <th>cancer_type</th>\n",
       "    </tr>\n",
       "  </thead>\n",
       "  <tbody>\n",
       "    <tr>\n",
       "      <th>0</th>\n",
       "      <td>-1363.276427</td>\n",
       "      <td>-1058.585495</td>\n",
       "      <td>-541.469194</td>\n",
       "      <td>74.349803</td>\n",
       "      <td>-1110.082554</td>\n",
       "      <td>-1545.661845</td>\n",
       "      <td>-2037.029616</td>\n",
       "      <td>-1255.990888</td>\n",
       "      <td>-335.480958</td>\n",
       "      <td>-938.425691</td>\n",
       "      <td>...</td>\n",
       "      <td>1565.618803</td>\n",
       "      <td>-485.680714</td>\n",
       "      <td>-170.261227</td>\n",
       "      <td>-919.114293</td>\n",
       "      <td>1675.050053</td>\n",
       "      <td>389.769289</td>\n",
       "      <td>-526.449219</td>\n",
       "      <td>-268.963924</td>\n",
       "      <td>-779.643092</td>\n",
       "      <td>0.0</td>\n",
       "    </tr>\n",
       "    <tr>\n",
       "      <th>1</th>\n",
       "      <td>-796.285053</td>\n",
       "      <td>-1167.103365</td>\n",
       "      <td>7.538493</td>\n",
       "      <td>83.544731</td>\n",
       "      <td>-1116.432539</td>\n",
       "      <td>-1731.392100</td>\n",
       "      <td>249.376523</td>\n",
       "      <td>-1636.960108</td>\n",
       "      <td>-149.080421</td>\n",
       "      <td>-222.783440</td>\n",
       "      <td>...</td>\n",
       "      <td>622.498054</td>\n",
       "      <td>-1275.354673</td>\n",
       "      <td>214.828233</td>\n",
       "      <td>-750.220666</td>\n",
       "      <td>-441.589276</td>\n",
       "      <td>9.841713</td>\n",
       "      <td>-671.911209</td>\n",
       "      <td>-671.911209</td>\n",
       "      <td>-644.272577</td>\n",
       "      <td>0.0</td>\n",
       "    </tr>\n",
       "    <tr>\n",
       "      <th>2</th>\n",
       "      <td>-679.139168</td>\n",
       "      <td>-1069.832308</td>\n",
       "      <td>-690.301829</td>\n",
       "      <td>-112.075981</td>\n",
       "      <td>-1199.319178</td>\n",
       "      <td>-1286.387935</td>\n",
       "      <td>-605.465604</td>\n",
       "      <td>-1043.041921</td>\n",
       "      <td>-728.254877</td>\n",
       "      <td>388.011238</td>\n",
       "      <td>...</td>\n",
       "      <td>162.525483</td>\n",
       "      <td>-692.534361</td>\n",
       "      <td>517.498108</td>\n",
       "      <td>-674.674103</td>\n",
       "      <td>1265.396405</td>\n",
       "      <td>-65.192805</td>\n",
       "      <td>-714.859684</td>\n",
       "      <td>3672.066149</td>\n",
       "      <td>-822.021231</td>\n",
       "      <td>0.0</td>\n",
       "    </tr>\n",
       "    <tr>\n",
       "      <th>3</th>\n",
       "      <td>-1164.400197</td>\n",
       "      <td>-1109.939891</td>\n",
       "      <td>-990.127218</td>\n",
       "      <td>-238.574994</td>\n",
       "      <td>-1264.607160</td>\n",
       "      <td>-1218.860503</td>\n",
       "      <td>-1255.893511</td>\n",
       "      <td>-1009.732928</td>\n",
       "      <td>-521.768585</td>\n",
       "      <td>-926.953263</td>\n",
       "      <td>...</td>\n",
       "      <td>-31.625831</td>\n",
       "      <td>-621.975549</td>\n",
       "      <td>-458.594630</td>\n",
       "      <td>-630.689198</td>\n",
       "      <td>937.767618</td>\n",
       "      <td>-264.715941</td>\n",
       "      <td>-635.046022</td>\n",
       "      <td>475.944222</td>\n",
       "      <td>-794.070116</td>\n",
       "      <td>0.0</td>\n",
       "    </tr>\n",
       "    <tr>\n",
       "      <th>4</th>\n",
       "      <td>-1299.653758</td>\n",
       "      <td>-1401.998536</td>\n",
       "      <td>-1077.543813</td>\n",
       "      <td>-437.344560</td>\n",
       "      <td>-1386.755697</td>\n",
       "      <td>-1726.453259</td>\n",
       "      <td>-1499.988218</td>\n",
       "      <td>-1219.084464</td>\n",
       "      <td>-994.796971</td>\n",
       "      <td>-670.342247</td>\n",
       "      <td>...</td>\n",
       "      <td>383.591216</td>\n",
       "      <td>-905.517483</td>\n",
       "      <td>-36.675640</td>\n",
       "      <td>-1116.739685</td>\n",
       "      <td>316.087213</td>\n",
       "      <td>-210.879518</td>\n",
       "      <td>-953.423549</td>\n",
       "      <td>-291.448812</td>\n",
       "      <td>-1057.945876</td>\n",
       "      <td>0.0</td>\n",
       "    </tr>\n",
       "  </tbody>\n",
       "</table>\n",
       "<p>5 rows × 7130 columns</p>\n",
       "</div>"
      ],
      "text/plain": [
       "   AFFX-BioB-5_at  AFFX-BioB-M_at  AFFX-BioB-3_at  AFFX-BioC-5_at  \\\n",
       "0    -1363.276427    -1058.585495     -541.469194       74.349803   \n",
       "1     -796.285053    -1167.103365        7.538493       83.544731   \n",
       "2     -679.139168    -1069.832308     -690.301829     -112.075981   \n",
       "3    -1164.400197    -1109.939891     -990.127218     -238.574994   \n",
       "4    -1299.653758    -1401.998536    -1077.543813     -437.344560   \n",
       "\n",
       "   AFFX-BioC-3_at  AFFX-BioDn-5_at  AFFX-BioDn-3_at  AFFX-CreX-5_at  \\\n",
       "0    -1110.082554     -1545.661845     -2037.029616    -1255.990888   \n",
       "1    -1116.432539     -1731.392100       249.376523    -1636.960108   \n",
       "2    -1199.319178     -1286.387935      -605.465604    -1043.041921   \n",
       "3    -1264.607160     -1218.860503     -1255.893511    -1009.732928   \n",
       "4    -1386.755697     -1726.453259     -1499.988218    -1219.084464   \n",
       "\n",
       "   AFFX-CreX-3_at  AFFX-BioB-5_st  ...    U58516_at    U73738_at   X06956_at  \\\n",
       "0     -335.480958     -938.425691  ...  1565.618803  -485.680714 -170.261227   \n",
       "1     -149.080421     -222.783440  ...   622.498054 -1275.354673  214.828233   \n",
       "2     -728.254877      388.011238  ...   162.525483  -692.534361  517.498108   \n",
       "3     -521.768585     -926.953263  ...   -31.625831  -621.975549 -458.594630   \n",
       "4     -994.796971     -670.342247  ...   383.591216  -905.517483  -36.675640   \n",
       "\n",
       "     X16699_at    X83863_at   Z17240_at  L49218_f_at  M71243_f_at  \\\n",
       "0  -919.114293  1675.050053  389.769289  -526.449219  -268.963924   \n",
       "1  -750.220666  -441.589276    9.841713  -671.911209  -671.911209   \n",
       "2  -674.674103  1265.396405  -65.192805  -714.859684  3672.066149   \n",
       "3  -630.689198   937.767618 -264.715941  -635.046022   475.944222   \n",
       "4 -1116.739685   316.087213 -210.879518  -953.423549  -291.448812   \n",
       "\n",
       "   Z78285_f_at  cancer_type  \n",
       "0  -779.643092          0.0  \n",
       "1  -644.272577          0.0  \n",
       "2  -822.021231          0.0  \n",
       "3  -794.070116          0.0  \n",
       "4 -1057.945876          0.0  \n",
       "\n",
       "[5 rows x 7130 columns]"
      ]
     },
     "execution_count": 43,
     "metadata": {},
     "output_type": "execute_result"
    }
   ],
   "source": [
    "# Examine the dataframe\n",
    "hw4_mc_enhance.head()"
   ]
  },
  {
   "cell_type": "code",
   "execution_count": 44,
   "metadata": {},
   "outputs": [
    {
     "data": {
      "text/html": [
       "<div>\n",
       "<style scoped>\n",
       "    .dataframe tbody tr th:only-of-type {\n",
       "        vertical-align: middle;\n",
       "    }\n",
       "\n",
       "    .dataframe tbody tr th {\n",
       "        vertical-align: top;\n",
       "    }\n",
       "\n",
       "    .dataframe thead th {\n",
       "        text-align: right;\n",
       "    }\n",
       "</style>\n",
       "<table border=\"1\" class=\"dataframe\">\n",
       "  <thead>\n",
       "    <tr style=\"text-align: right;\">\n",
       "      <th></th>\n",
       "      <th>AFFX-BioB-5_at</th>\n",
       "      <th>AFFX-BioB-M_at</th>\n",
       "      <th>AFFX-BioB-3_at</th>\n",
       "      <th>AFFX-BioC-5_at</th>\n",
       "      <th>AFFX-BioC-3_at</th>\n",
       "      <th>AFFX-BioDn-5_at</th>\n",
       "      <th>AFFX-BioDn-3_at</th>\n",
       "      <th>AFFX-CreX-5_at</th>\n",
       "      <th>AFFX-CreX-3_at</th>\n",
       "      <th>AFFX-BioB-5_st</th>\n",
       "      <th>...</th>\n",
       "      <th>U58516_at</th>\n",
       "      <th>U73738_at</th>\n",
       "      <th>X06956_at</th>\n",
       "      <th>X16699_at</th>\n",
       "      <th>X83863_at</th>\n",
       "      <th>Z17240_at</th>\n",
       "      <th>L49218_f_at</th>\n",
       "      <th>M71243_f_at</th>\n",
       "      <th>Z78285_f_at</th>\n",
       "      <th>cancer_type</th>\n",
       "    </tr>\n",
       "  </thead>\n",
       "  <tbody>\n",
       "    <tr>\n",
       "      <th>count</th>\n",
       "      <td>750.000000</td>\n",
       "      <td>750.000000</td>\n",
       "      <td>750.000000</td>\n",
       "      <td>750.000000</td>\n",
       "      <td>750.000000</td>\n",
       "      <td>750.000000</td>\n",
       "      <td>750.000000</td>\n",
       "      <td>750.000000</td>\n",
       "      <td>750.000000</td>\n",
       "      <td>750.000000</td>\n",
       "      <td>...</td>\n",
       "      <td>750.000000</td>\n",
       "      <td>750.000000</td>\n",
       "      <td>750.000000</td>\n",
       "      <td>750.000000</td>\n",
       "      <td>750.000000</td>\n",
       "      <td>750.000000</td>\n",
       "      <td>750.000000</td>\n",
       "      <td>750.000000</td>\n",
       "      <td>750.000000</td>\n",
       "      <td>750.000000</td>\n",
       "    </tr>\n",
       "    <tr>\n",
       "      <th>mean</th>\n",
       "      <td>-1014.598658</td>\n",
       "      <td>-1048.357272</td>\n",
       "      <td>-823.358695</td>\n",
       "      <td>-315.636838</td>\n",
       "      <td>-1295.949886</td>\n",
       "      <td>-1625.120199</td>\n",
       "      <td>-826.955064</td>\n",
       "      <td>-1175.612555</td>\n",
       "      <td>-588.598064</td>\n",
       "      <td>-534.924646</td>\n",
       "      <td>...</td>\n",
       "      <td>812.768978</td>\n",
       "      <td>-747.263549</td>\n",
       "      <td>16.272227</td>\n",
       "      <td>-801.847334</td>\n",
       "      <td>1031.081628</td>\n",
       "      <td>-3.162310</td>\n",
       "      <td>-723.364564</td>\n",
       "      <td>-40.495922</td>\n",
       "      <td>-810.150889</td>\n",
       "      <td>1.000000</td>\n",
       "    </tr>\n",
       "    <tr>\n",
       "      <th>std</th>\n",
       "      <td>297.369331</td>\n",
       "      <td>233.933609</td>\n",
       "      <td>392.662256</td>\n",
       "      <td>215.534283</td>\n",
       "      <td>320.799277</td>\n",
       "      <td>419.687380</td>\n",
       "      <td>562.688520</td>\n",
       "      <td>288.546511</td>\n",
       "      <td>227.362605</td>\n",
       "      <td>489.552685</td>\n",
       "      <td>...</td>\n",
       "      <td>663.320928</td>\n",
       "      <td>176.481127</td>\n",
       "      <td>751.988770</td>\n",
       "      <td>157.068732</td>\n",
       "      <td>966.569338</td>\n",
       "      <td>495.241653</td>\n",
       "      <td>138.805059</td>\n",
       "      <td>882.681724</td>\n",
       "      <td>176.347552</td>\n",
       "      <td>0.817041</td>\n",
       "    </tr>\n",
       "    <tr>\n",
       "      <th>min</th>\n",
       "      <td>-2010.202020</td>\n",
       "      <td>-1772.451092</td>\n",
       "      <td>-1619.756151</td>\n",
       "      <td>-930.821077</td>\n",
       "      <td>-1984.530972</td>\n",
       "      <td>-2514.619404</td>\n",
       "      <td>-2766.759937</td>\n",
       "      <td>-1725.591441</td>\n",
       "      <td>-1255.146509</td>\n",
       "      <td>-1552.135008</td>\n",
       "      <td>...</td>\n",
       "      <td>-375.241836</td>\n",
       "      <td>-1484.465401</td>\n",
       "      <td>-853.838447</td>\n",
       "      <td>-1367.829068</td>\n",
       "      <td>-571.900054</td>\n",
       "      <td>-838.747726</td>\n",
       "      <td>-1162.232820</td>\n",
       "      <td>-1266.486530</td>\n",
       "      <td>-1298.638023</td>\n",
       "      <td>0.000000</td>\n",
       "    </tr>\n",
       "    <tr>\n",
       "      <th>25%</th>\n",
       "      <td>-1141.429466</td>\n",
       "      <td>-1218.887728</td>\n",
       "      <td>-1076.151552</td>\n",
       "      <td>-454.824979</td>\n",
       "      <td>-1548.108060</td>\n",
       "      <td>-1848.322368</td>\n",
       "      <td>-1203.978707</td>\n",
       "      <td>-1371.756006</td>\n",
       "      <td>-718.014815</td>\n",
       "      <td>-853.188715</td>\n",
       "      <td>...</td>\n",
       "      <td>322.566010</td>\n",
       "      <td>-847.468558</td>\n",
       "      <td>-335.783011</td>\n",
       "      <td>-924.099294</td>\n",
       "      <td>337.355440</td>\n",
       "      <td>-356.629007</td>\n",
       "      <td>-820.617263</td>\n",
       "      <td>-435.750013</td>\n",
       "      <td>-933.182073</td>\n",
       "      <td>0.000000</td>\n",
       "    </tr>\n",
       "    <tr>\n",
       "      <th>50%</th>\n",
       "      <td>-1033.862143</td>\n",
       "      <td>-1024.510062</td>\n",
       "      <td>-896.612263</td>\n",
       "      <td>-255.321214</td>\n",
       "      <td>-1257.060242</td>\n",
       "      <td>-1701.504007</td>\n",
       "      <td>-875.340089</td>\n",
       "      <td>-1138.486182</td>\n",
       "      <td>-586.848142</td>\n",
       "      <td>-554.578969</td>\n",
       "      <td>...</td>\n",
       "      <td>639.993676</td>\n",
       "      <td>-750.170322</td>\n",
       "      <td>-130.115409</td>\n",
       "      <td>-783.870080</td>\n",
       "      <td>777.827303</td>\n",
       "      <td>-180.519462</td>\n",
       "      <td>-733.242628</td>\n",
       "      <td>-261.276132</td>\n",
       "      <td>-816.239345</td>\n",
       "      <td>1.000000</td>\n",
       "    </tr>\n",
       "    <tr>\n",
       "      <th>75%</th>\n",
       "      <td>-837.607536</td>\n",
       "      <td>-885.604686</td>\n",
       "      <td>-560.246417</td>\n",
       "      <td>-196.687009</td>\n",
       "      <td>-1092.191607</td>\n",
       "      <td>-1259.153655</td>\n",
       "      <td>-508.663556</td>\n",
       "      <td>-978.433566</td>\n",
       "      <td>-416.287415</td>\n",
       "      <td>-173.861061</td>\n",
       "      <td>...</td>\n",
       "      <td>1355.814050</td>\n",
       "      <td>-654.438425</td>\n",
       "      <td>117.823076</td>\n",
       "      <td>-706.793736</td>\n",
       "      <td>1571.382500</td>\n",
       "      <td>209.283781</td>\n",
       "      <td>-609.175359</td>\n",
       "      <td>36.278669</td>\n",
       "      <td>-708.453545</td>\n",
       "      <td>2.000000</td>\n",
       "    </tr>\n",
       "    <tr>\n",
       "      <th>max</th>\n",
       "      <td>-385.768608</td>\n",
       "      <td>-477.363374</td>\n",
       "      <td>130.829434</td>\n",
       "      <td>257.521293</td>\n",
       "      <td>-304.800847</td>\n",
       "      <td>-850.745403</td>\n",
       "      <td>929.737460</td>\n",
       "      <td>-466.326738</td>\n",
       "      <td>196.149024</td>\n",
       "      <td>988.039921</td>\n",
       "      <td>...</td>\n",
       "      <td>2482.375600</td>\n",
       "      <td>-230.208352</td>\n",
       "      <td>5082.744968</td>\n",
       "      <td>-428.086002</td>\n",
       "      <td>4221.275650</td>\n",
       "      <td>1363.790953</td>\n",
       "      <td>-427.657222</td>\n",
       "      <td>5845.204223</td>\n",
       "      <td>-268.531949</td>\n",
       "      <td>2.000000</td>\n",
       "    </tr>\n",
       "  </tbody>\n",
       "</table>\n",
       "<p>8 rows × 7130 columns</p>\n",
       "</div>"
      ],
      "text/plain": [
       "       AFFX-BioB-5_at  AFFX-BioB-M_at  AFFX-BioB-3_at  AFFX-BioC-5_at  \\\n",
       "count      750.000000      750.000000      750.000000      750.000000   \n",
       "mean     -1014.598658    -1048.357272     -823.358695     -315.636838   \n",
       "std        297.369331      233.933609      392.662256      215.534283   \n",
       "min      -2010.202020    -1772.451092    -1619.756151     -930.821077   \n",
       "25%      -1141.429466    -1218.887728    -1076.151552     -454.824979   \n",
       "50%      -1033.862143    -1024.510062     -896.612263     -255.321214   \n",
       "75%       -837.607536     -885.604686     -560.246417     -196.687009   \n",
       "max       -385.768608     -477.363374      130.829434      257.521293   \n",
       "\n",
       "       AFFX-BioC-3_at  AFFX-BioDn-5_at  AFFX-BioDn-3_at  AFFX-CreX-5_at  \\\n",
       "count      750.000000       750.000000       750.000000      750.000000   \n",
       "mean     -1295.949886     -1625.120199      -826.955064    -1175.612555   \n",
       "std        320.799277       419.687380       562.688520      288.546511   \n",
       "min      -1984.530972     -2514.619404     -2766.759937    -1725.591441   \n",
       "25%      -1548.108060     -1848.322368     -1203.978707    -1371.756006   \n",
       "50%      -1257.060242     -1701.504007      -875.340089    -1138.486182   \n",
       "75%      -1092.191607     -1259.153655      -508.663556     -978.433566   \n",
       "max       -304.800847      -850.745403       929.737460     -466.326738   \n",
       "\n",
       "       AFFX-CreX-3_at  AFFX-BioB-5_st  ...    U58516_at    U73738_at  \\\n",
       "count      750.000000      750.000000  ...   750.000000   750.000000   \n",
       "mean      -588.598064     -534.924646  ...   812.768978  -747.263549   \n",
       "std        227.362605      489.552685  ...   663.320928   176.481127   \n",
       "min      -1255.146509    -1552.135008  ...  -375.241836 -1484.465401   \n",
       "25%       -718.014815     -853.188715  ...   322.566010  -847.468558   \n",
       "50%       -586.848142     -554.578969  ...   639.993676  -750.170322   \n",
       "75%       -416.287415     -173.861061  ...  1355.814050  -654.438425   \n",
       "max        196.149024      988.039921  ...  2482.375600  -230.208352   \n",
       "\n",
       "         X06956_at    X16699_at    X83863_at    Z17240_at  L49218_f_at  \\\n",
       "count   750.000000   750.000000   750.000000   750.000000   750.000000   \n",
       "mean     16.272227  -801.847334  1031.081628    -3.162310  -723.364564   \n",
       "std     751.988770   157.068732   966.569338   495.241653   138.805059   \n",
       "min    -853.838447 -1367.829068  -571.900054  -838.747726 -1162.232820   \n",
       "25%    -335.783011  -924.099294   337.355440  -356.629007  -820.617263   \n",
       "50%    -130.115409  -783.870080   777.827303  -180.519462  -733.242628   \n",
       "75%     117.823076  -706.793736  1571.382500   209.283781  -609.175359   \n",
       "max    5082.744968  -428.086002  4221.275650  1363.790953  -427.657222   \n",
       "\n",
       "       M71243_f_at  Z78285_f_at  cancer_type  \n",
       "count   750.000000   750.000000   750.000000  \n",
       "mean    -40.495922  -810.150889     1.000000  \n",
       "std     882.681724   176.347552     0.817041  \n",
       "min   -1266.486530 -1298.638023     0.000000  \n",
       "25%    -435.750013  -933.182073     0.000000  \n",
       "50%    -261.276132  -816.239345     1.000000  \n",
       "75%      36.278669  -708.453545     2.000000  \n",
       "max    5845.204223  -268.531949     2.000000  \n",
       "\n",
       "[8 rows x 7130 columns]"
      ]
     },
     "execution_count": 44,
     "metadata": {},
     "output_type": "execute_result"
    }
   ],
   "source": [
    "# Examine the dataframe\n",
    "hw4_mc_enhance.describe()"
   ]
  },
  {
   "cell_type": "code",
   "execution_count": 45,
   "metadata": {},
   "outputs": [
    {
     "name": "stdout",
     "output_type": "stream",
     "text": [
      "Proportion of observations in each class across all data:\n",
      " 2.0    0.333333\n",
      "1.0    0.333333\n",
      "0.0    0.333333\n",
      "Name: cancer_type, dtype: float64\n",
      "\n",
      "\n",
      "Number of observations in group 0 (allB): 250.0\n",
      "Number of observations in group 1 (allT): 250.0\n",
      "Number of observations in group 2 (aml): 250.0\n"
     ]
    }
   ],
   "source": [
    "# Determine number of observations in each class (cancer type)\n",
    "print('Proportion of observations in each class across all data:\\n', hw4_mc_enhance.cancer_type.value_counts(normalize=True))\n",
    "print('\\n\\nNumber of observations in group 0 (allB):', hw4_mc_enhance.cancer_type.value_counts(normalize=True)[0]*len(hw4_mc_enhance.cancer_type))\n",
    "print('Number of observations in group 1 (allT):', hw4_mc_enhance.cancer_type.value_counts(normalize=True)[1]*len(hw4_mc_enhance.cancer_type))\n",
    "print('Number of observations in group 2 (aml):', hw4_mc_enhance.cancer_type.value_counts(normalize=True)[2]*len(hw4_mc_enhance.cancer_type))\n"
   ]
  },
  {
   "cell_type": "markdown",
   "metadata": {},
   "source": [
    "**4.2 Split the dataset into train and test, 80-20 split, random_state = 8.**\n",
    "\n",
    "**We are going to utilize these two features - 'M31523_at', 'X95735_at'.  Create a scatter plot of these two features using training dataset.  We should be able to discern from the plot which sample belongs to which `cancer_type`.** "
   ]
  },
  {
   "cell_type": "code",
   "execution_count": 46,
   "metadata": {},
   "outputs": [],
   "source": [
    "# Split data into training and testing sets\n",
    "\n",
    "mc_X_train, mc_X_test, mc_y_train, mc_y_test = train_test_split(hw4_mc_enhance.loc[:, hw4_mc_enhance.columns != 'cancer_type'], \n",
    "                                                         hw4_mc_enhance.cancer_type, test_size=0.2, \n",
    "                                                         random_state = 8, \n",
    "                                                         stratify = hw4_mc_enhance.cancer_type)"
   ]
  },
  {
   "cell_type": "code",
   "execution_count": 47,
   "metadata": {},
   "outputs": [
    {
     "data": {
      "image/png": "[encoded data removed]",
      "text/plain": [
       "<Figure size 432x288 with 1 Axes>"
      ]
     },
     "metadata": {
      "needs_background": "light"
     },
     "output_type": "display_data"
    }
   ],
   "source": [
    "# Create scatter plot of two features using training data\n",
    "\n",
    "mc_X_train_append_mc_y_train = mc_X_train.copy();\n",
    "mc_X_train_append_mc_y_train['cancer_type'] = mc_y_train.astype('int64');\n",
    "fig_sc = sns.scatterplot(x='M31523_at',y='X95735_at', hue='cancer_type', data = mc_X_train_append_mc_y_train).set_title('Raw measurement value of M31523_at and X95735_at expression in cancer patients\\n');\n",
    "plt.xlabel('M31523_at raw measurement value');\n",
    "plt.ylabel('X95735_at raw measurement value');"
   ]
  },
  {
   "cell_type": "markdown",
   "metadata": {},
   "source": [
    "**4.3  Fit the following two models using crossvalidation:**\n",
    "\n",
    "**Logistic Regression Multiclass model with linear features.**\n",
    "\n",
    "**Logistic Regression Multiclass model with Polynomial features, degree = 2.**\n"
   ]
  },
  {
   "cell_type": "code",
   "execution_count": 48,
   "metadata": {},
   "outputs": [],
   "source": [
    "# Normalize the predictor data by learning the scaling parameters from mc_X_train and transforming mc_X_train and mc_X_test according to these parameters\n",
    "\n",
    "# Extract relevant features for model and normalize because multiple predictors may influence response variable unfairly if on different absolute scales (different genes may have different basal expressions)\n",
    "\n",
    "mc_scaler = MinMaxScaler().fit(mc_X_train.loc[:,['M31523_at', 'X95735_at']])\n",
    "\n",
    "mc_X_train_scaled = pd.DataFrame(mc_scaler.transform(mc_X_train.loc[:,['M31523_at', 'X95735_at']]), columns = mc_X_train.loc[:,['M31523_at', 'X95735_at']].columns)\n",
    "mc_X_test_scaled = pd.DataFrame(mc_scaler.transform(mc_X_test.loc[:,['M31523_at', 'X95735_at']]), columns=mc_X_test.loc[:,['M31523_at', 'X95735_at']].columns)"
   ]
  },
  {
   "cell_type": "code",
   "execution_count": 49,
   "metadata": {},
   "outputs": [],
   "source": [
    "# Reshape for sklearn\n",
    "\n",
    "mc_X_train_scaled_reshape = np.array(mc_X_train_scaled).reshape(mc_X_train_scaled.shape[0], mc_X_train_scaled.shape[1])\n",
    "mc_X_test_scaled_reshape = np.array(mc_X_test_scaled).reshape(mc_X_test_scaled.shape[0], mc_X_test_scaled.shape[1])"
   ]
  },
  {
   "cell_type": "code",
   "execution_count": 50,
   "metadata": {},
   "outputs": [
    {
     "data": {
      "text/plain": [
       "((600, 2), (600,))"
      ]
     },
     "execution_count": 50,
     "metadata": {},
     "output_type": "execute_result"
    }
   ],
   "source": [
    "# Check shape\n",
    "mc_X_train_scaled_reshape.shape, mc_y_train.shape"
   ]
  },
  {
   "cell_type": "code",
   "execution_count": 51,
   "metadata": {},
   "outputs": [
    {
     "data": {
      "text/plain": [
       "((150, 2), (150,))"
      ]
     },
     "execution_count": 51,
     "metadata": {},
     "output_type": "execute_result"
    }
   ],
   "source": [
    "# Check shape\n",
    "mc_X_test_scaled_reshape.shape, mc_y_test.shape"
   ]
  },
  {
   "cell_type": "code",
   "execution_count": 52,
   "metadata": {},
   "outputs": [],
   "source": [
    "# Logistic regression multiclass model with linear features\n",
    "Cs = 10.0**np.arange(-5,5)\n",
    "\n",
    "logregCV = LogisticRegressionCV(Cs = Cs,cv=5,solver='liblinear',penalty='l1',multi_class='ovr')\n",
    "# Use liblinear solver because it is best for small samples and so has high power and keep max_iter at the default 100 because model converges and low max_iter is more efficient\n",
    "# Use a range of Cs as shown in the lab and use cv = 5 to perform 5-fold cross validation as modeled in the lab\n",
    "# Use multiclass ovr regression as needed for question 5.1\n",
    "model_logregCV = logregCV.fit(mc_X_train_scaled_reshape, mc_y_train)\n"
   ]
  },
  {
   "cell_type": "code",
   "execution_count": 53,
   "metadata": {},
   "outputs": [],
   "source": [
    "# Logistic regression multiclass model with polynomial features of degree 2\n",
    "\n",
    "# Function written in HW3 to add second degree terms to a dataframe\n",
    "def add_higher_order_polynomial_terms(df, cols_to_add, degree):\n",
    "    df = df.copy()\n",
    "    cols = df.loc[:,cols_to_add].columns.copy()\n",
    "    for col in cols:\n",
    "        for i in range(2, degree+1):\n",
    "            df['{}^{}'.format(col, i)] = df[col]**i\n",
    "    return df\n",
    "\n",
    "# Use function to add polynomial features without interaction\n",
    "cols_to_add = mc_X_train_scaled.columns.values\n",
    "mc_X_train_scaled_poly = add_higher_order_polynomial_terms(mc_X_train_scaled, cols_to_add, 2)\n",
    "mc_X_test_scaled_poly = add_higher_order_polynomial_terms(mc_X_test_scaled, cols_to_add, 2)"
   ]
  },
  {
   "cell_type": "code",
   "execution_count": 54,
   "metadata": {},
   "outputs": [
    {
     "data": {
      "text/html": [
       "<div>\n",
       "<style scoped>\n",
       "    .dataframe tbody tr th:only-of-type {\n",
       "        vertical-align: middle;\n",
       "    }\n",
       "\n",
       "    .dataframe tbody tr th {\n",
       "        vertical-align: top;\n",
       "    }\n",
       "\n",
       "    .dataframe thead th {\n",
       "        text-align: right;\n",
       "    }\n",
       "</style>\n",
       "<table border=\"1\" class=\"dataframe\">\n",
       "  <thead>\n",
       "    <tr style=\"text-align: right;\">\n",
       "      <th></th>\n",
       "      <th>M31523_at</th>\n",
       "      <th>X95735_at</th>\n",
       "      <th>M31523_at^2</th>\n",
       "      <th>X95735_at^2</th>\n",
       "    </tr>\n",
       "  </thead>\n",
       "  <tbody>\n",
       "    <tr>\n",
       "      <th>0</th>\n",
       "      <td>0.250313</td>\n",
       "      <td>0.130529</td>\n",
       "      <td>0.062657</td>\n",
       "      <td>0.017038</td>\n",
       "    </tr>\n",
       "    <tr>\n",
       "      <th>1</th>\n",
       "      <td>0.075462</td>\n",
       "      <td>0.594172</td>\n",
       "      <td>0.005694</td>\n",
       "      <td>0.353040</td>\n",
       "    </tr>\n",
       "    <tr>\n",
       "      <th>2</th>\n",
       "      <td>0.185473</td>\n",
       "      <td>0.087111</td>\n",
       "      <td>0.034400</td>\n",
       "      <td>0.007588</td>\n",
       "    </tr>\n",
       "    <tr>\n",
       "      <th>3</th>\n",
       "      <td>0.267711</td>\n",
       "      <td>0.436474</td>\n",
       "      <td>0.071669</td>\n",
       "      <td>0.190510</td>\n",
       "    </tr>\n",
       "    <tr>\n",
       "      <th>4</th>\n",
       "      <td>0.525084</td>\n",
       "      <td>0.202885</td>\n",
       "      <td>0.275713</td>\n",
       "      <td>0.041162</td>\n",
       "    </tr>\n",
       "  </tbody>\n",
       "</table>\n",
       "</div>"
      ],
      "text/plain": [
       "   M31523_at  X95735_at  M31523_at^2  X95735_at^2\n",
       "0   0.250313   0.130529     0.062657     0.017038\n",
       "1   0.075462   0.594172     0.005694     0.353040\n",
       "2   0.185473   0.087111     0.034400     0.007588\n",
       "3   0.267711   0.436474     0.071669     0.190510\n",
       "4   0.525084   0.202885     0.275713     0.041162"
      ]
     },
     "execution_count": 54,
     "metadata": {},
     "output_type": "execute_result"
    }
   ],
   "source": [
    "# Inspect data to confirm polynomial features were added\n",
    "mc_X_train_scaled_poly.head()"
   ]
  },
  {
   "cell_type": "code",
   "execution_count": 55,
   "metadata": {},
   "outputs": [
    {
     "data": {
      "text/html": [
       "<div>\n",
       "<style scoped>\n",
       "    .dataframe tbody tr th:only-of-type {\n",
       "        vertical-align: middle;\n",
       "    }\n",
       "\n",
       "    .dataframe tbody tr th {\n",
       "        vertical-align: top;\n",
       "    }\n",
       "\n",
       "    .dataframe thead th {\n",
       "        text-align: right;\n",
       "    }\n",
       "</style>\n",
       "<table border=\"1\" class=\"dataframe\">\n",
       "  <thead>\n",
       "    <tr style=\"text-align: right;\">\n",
       "      <th></th>\n",
       "      <th>M31523_at</th>\n",
       "      <th>X95735_at</th>\n",
       "      <th>M31523_at^2</th>\n",
       "      <th>X95735_at^2</th>\n",
       "    </tr>\n",
       "  </thead>\n",
       "  <tbody>\n",
       "    <tr>\n",
       "      <th>count</th>\n",
       "      <td>600.000000</td>\n",
       "      <td>600.000000</td>\n",
       "      <td>600.000000</td>\n",
       "      <td>600.000000</td>\n",
       "    </tr>\n",
       "    <tr>\n",
       "      <th>mean</th>\n",
       "      <td>0.229893</td>\n",
       "      <td>0.289435</td>\n",
       "      <td>0.082744</td>\n",
       "      <td>0.138891</td>\n",
       "    </tr>\n",
       "    <tr>\n",
       "      <th>std</th>\n",
       "      <td>0.173040</td>\n",
       "      <td>0.234968</td>\n",
       "      <td>0.143596</td>\n",
       "      <td>0.213054</td>\n",
       "    </tr>\n",
       "    <tr>\n",
       "      <th>min</th>\n",
       "      <td>0.000000</td>\n",
       "      <td>0.000000</td>\n",
       "      <td>0.000000</td>\n",
       "      <td>0.000000</td>\n",
       "    </tr>\n",
       "    <tr>\n",
       "      <th>25%</th>\n",
       "      <td>0.107431</td>\n",
       "      <td>0.116633</td>\n",
       "      <td>0.011541</td>\n",
       "      <td>0.013603</td>\n",
       "    </tr>\n",
       "    <tr>\n",
       "      <th>50%</th>\n",
       "      <td>0.185238</td>\n",
       "      <td>0.179939</td>\n",
       "      <td>0.034313</td>\n",
       "      <td>0.032378</td>\n",
       "    </tr>\n",
       "    <tr>\n",
       "      <th>75%</th>\n",
       "      <td>0.303882</td>\n",
       "      <td>0.426996</td>\n",
       "      <td>0.092344</td>\n",
       "      <td>0.182326</td>\n",
       "    </tr>\n",
       "    <tr>\n",
       "      <th>max</th>\n",
       "      <td>1.000000</td>\n",
       "      <td>1.000000</td>\n",
       "      <td>1.000000</td>\n",
       "      <td>1.000000</td>\n",
       "    </tr>\n",
       "  </tbody>\n",
       "</table>\n",
       "</div>"
      ],
      "text/plain": [
       "        M31523_at   X95735_at  M31523_at^2  X95735_at^2\n",
       "count  600.000000  600.000000   600.000000   600.000000\n",
       "mean     0.229893    0.289435     0.082744     0.138891\n",
       "std      0.173040    0.234968     0.143596     0.213054\n",
       "min      0.000000    0.000000     0.000000     0.000000\n",
       "25%      0.107431    0.116633     0.011541     0.013603\n",
       "50%      0.185238    0.179939     0.034313     0.032378\n",
       "75%      0.303882    0.426996     0.092344     0.182326\n",
       "max      1.000000    1.000000     1.000000     1.000000"
      ]
     },
     "execution_count": 55,
     "metadata": {},
     "output_type": "execute_result"
    }
   ],
   "source": [
    "# Inspect data to ensure normalization performed correctly\n",
    "mc_X_train_scaled_poly.describe()"
   ]
  },
  {
   "cell_type": "code",
   "execution_count": 56,
   "metadata": {},
   "outputs": [
    {
     "data": {
      "text/plain": [
       "((600, 4), (600,))"
      ]
     },
     "execution_count": 56,
     "metadata": {},
     "output_type": "execute_result"
    }
   ],
   "source": [
    "# Prepare train data into arrays for sklearn and check shape\n",
    "mc_X_train_scaled_poly_reshape = np.array(mc_X_train_scaled_poly).reshape(mc_X_train_scaled_poly.shape[0], mc_X_train_scaled_poly.shape[1])\n",
    "mc_X_train_scaled_poly_reshape.shape, mc_y_train.shape\n"
   ]
  },
  {
   "cell_type": "code",
   "execution_count": 57,
   "metadata": {},
   "outputs": [
    {
     "data": {
      "text/plain": [
       "((150, 4), (150,))"
      ]
     },
     "execution_count": 57,
     "metadata": {},
     "output_type": "execute_result"
    }
   ],
   "source": [
    "# Prepare test data into arrays for sklearn and check shape\n",
    "mc_X_test_scaled_poly_reshape = np.array(mc_X_test_scaled_poly).reshape(mc_X_test_scaled_poly.shape[0], mc_X_test_scaled_poly.shape[1])\n",
    "mc_X_test_scaled_poly_reshape.shape, mc_y_test.shape\n"
   ]
  },
  {
   "cell_type": "code",
   "execution_count": 58,
   "metadata": {},
   "outputs": [],
   "source": [
    "# Logistic regression multiclass model with polynomial of degree 2 features\n",
    "Cs_poly = 10.0**np.arange(-5,5)\n",
    "\n",
    "logregCV_poly = LogisticRegressionCV(Cs = Cs_poly,cv=5,solver='liblinear',penalty='l1',max_iter=1000, multi_class='ovr')\n",
    "# Use liblinear solver because it is best for small samples and so has high power and increase max_iter from the default 100 to 1000 to allow model to converge\n",
    "# Use a range of Cs as shown in the lab and use cv = 5 to perform 5-fold cross validation as modeled in the lab\n",
    "# Use multiclass ovr regression as needed for question 5.1\n",
    "\n",
    "model_logregCV_poly = logregCV_poly.fit(mc_X_train_scaled_poly_reshape, mc_y_train)"
   ]
  },
  {
   "cell_type": "markdown",
   "metadata": {},
   "source": [
    "**4.4 Plot the decision boundary and interpret results. Hint: You may utilize the function `overlay_decision_boundary`** \n"
   ]
  },
  {
   "cell_type": "code",
   "execution_count": 59,
   "metadata": {},
   "outputs": [],
   "source": [
    "# Prepare train data for plotting on top of decision boundary\n",
    "\n",
    "mc_X_train_scaled2 = mc_X_train_scaled.copy()\n",
    "mc_X_train_scaled2.index = mc_X_train_append_mc_y_train.index\n",
    "\n",
    "mc_X_train_append_mc_y_train_grp0 = mc_X_train_scaled2[mc_X_train_append_mc_y_train['cancer_type']==0]\n",
    "mc_X_train_append_mc_y_train_grp1 = mc_X_train_scaled2[mc_X_train_append_mc_y_train['cancer_type']==1]\n",
    "mc_X_train_append_mc_y_train_grp2 = mc_X_train_scaled2[mc_X_train_append_mc_y_train['cancer_type']==2]"
   ]
  },
  {
   "cell_type": "code",
   "execution_count": 60,
   "metadata": {},
   "outputs": [],
   "source": [
    "# Prepare test data for plotting on top of decision boundary\n",
    "mc_X_test_append_mc_y_test = mc_X_test.copy();\n",
    "mc_X_test_append_mc_y_test['cancer_type'] = mc_y_test.astype('int64');\n",
    "\n",
    "mc_X_test_scaled2 = mc_X_test_scaled.copy()\n",
    "mc_X_test_scaled2.index = mc_X_test_append_mc_y_test.index\n",
    "\n",
    "mc_X_test_append_mc_y_test_grp0 = mc_X_test_scaled2[mc_X_test_append_mc_y_test['cancer_type']==0]\n",
    "mc_X_test_append_mc_y_test_grp1 = mc_X_test_scaled2[mc_X_test_append_mc_y_test['cancer_type']==1]\n",
    "mc_X_test_append_mc_y_test_grp2 = mc_X_test_scaled2[mc_X_test_append_mc_y_test['cancer_type']==2]"
   ]
  },
  {
   "cell_type": "code",
   "execution_count": 61,
   "metadata": {},
   "outputs": [],
   "source": [
    "# Function for plotting decision boundary with linear predictors in the model\n",
    "def overlay_decision_boundary(ax, model, colors=None, nx=200, ny=200, desaturate=.5, xlim=None, ylim=None):\n",
    "    \"\"\"\n",
    "    A function that visualizes the decision boundaries of a classifier.\n",
    "    \n",
    "    ax: Matplotlib Axes to plot on\n",
    "    model: Classifier to use.\n",
    "     - if `model` has a `.predict` method, like an sklearn classifier, we call `model.predict(X)`\n",
    "     - otherwise, we simply call `model(X)`\n",
    "    colors: list or dict of colors to use. Use color `colors[i]` for class i.\n",
    "     - If colors is not provided, uses the current color cycle\n",
    "    nx, ny: number of mesh points to evaluated the classifier on\n",
    "    desaturate: how much to desaturate each of the colors (for better contrast with the sample points)\n",
    "    xlim, ylim: range to plot on. (If the default, None, is passed, the limits will be taken from `ax`.)\n",
    "    \"\"\"\n",
    "    # Create mesh.\n",
    "    xmin, xmax = ax.get_xlim() if xlim is None else xlim\n",
    "    ymin, ymax = ax.get_ylim() if ylim is None else ylim\n",
    "    xx, yy = np.meshgrid(\n",
    "        np.linspace(xmin, xmax, nx),\n",
    "        np.linspace(ymin, ymax, ny))\n",
    "    X = np.c_[xx.flatten(), yy.flatten()] \n",
    "\n",
    "\n",
    "    # Predict on mesh of points.\n",
    "    model = getattr(model, 'predict', model)\n",
    "    y = model(X) \n",
    "    #Plot predictions\n",
    "    #print(X)\n",
    "    #print(y.shape)\n",
    "    #ax.scatter(X[0],y)\n",
    "\n",
    "    #print(\"Do I predict\" , y)\n",
    "    \n",
    "    \n",
    "#     y[np.where(y=='aml')]=3\n",
    "#     y[np.where(y=='allT')]=2\n",
    "#     y[np.where(y=='allB')]=1\n",
    "    \n",
    "    \n",
    "    \n",
    "    y = y.astype(int) # This may be necessary for 32-bit Python.\n",
    "    y = y.reshape((nx, ny))\n",
    "\n",
    "    # Generate colormap.\n",
    "    if colors is None:\n",
    "        # If colors not provided, use the current color cycle.\n",
    "        # Shift the indices so that the lowest class actually predicted gets the first color.\n",
    "        # ^ This is a bit magic, consider removing for next year.\n",
    "        colors = (['white'] * np.min(y)) + sns.utils.get_color_cycle()\n",
    "\n",
    "    if isinstance(colors, dict):\n",
    "        missing_colors = [idx for idx in np.unique(y) if idx not in colors]\n",
    "        assert len(missing_colors) == 0, f\"Color not specified for predictions {missing_colors}.\"\n",
    "\n",
    "        # Make a list of colors, filling in items from the dict.\n",
    "        color_list = ['white'] * (np.max(y) + 1)\n",
    "        for idx, val in colors.items():\n",
    "            color_list[idx] = val\n",
    "    else:\n",
    "        assert len(colors) >= np.max(y) + 1, \"Insufficient colors passed for all predictions.\"\n",
    "        color_list = colors\n",
    "    color_list = [sns.utils.desaturate(color, desaturate) for color in color_list]\n",
    "    cmap = matplotlib.colors.ListedColormap(color_list)\n",
    "\n",
    "    # Plot decision surface\n",
    "    ax.pcolormesh(xx, yy, y, zorder=-2, cmap=cmap, norm=matplotlib.colors.NoNorm(), vmin=0, vmax=y.max() + 1)\n",
    "    xx = xx.reshape(nx, ny)\n",
    "    yy = yy.reshape(nx, ny)\n",
    "    if len(np.unique(y)) > 1:\n",
    "        ax.contour(xx, yy, y, colors=\"black\", linewidths=1, zorder=-1)\n",
    "    else:\n",
    "        print(\"Warning: only one class predicted, so not plotting contour lines.\")"
   ]
  },
  {
   "cell_type": "code",
   "execution_count": 62,
   "metadata": {},
   "outputs": [
    {
     "data": {
      "image/png": "[encoded data removed]",
      "text/plain": [
       "<Figure size 432x288 with 1 Axes>"
      ]
     },
     "metadata": {
      "needs_background": "light"
     },
     "output_type": "display_data"
    }
   ],
   "source": [
    "# Use function to generate decision boundary plot with training data shown on top\n",
    "\n",
    "fig1, ax1 = plt.subplots();\n",
    "ax1.scatter(mc_X_train_append_mc_y_train_grp0['M31523_at'],mc_X_train_append_mc_y_train_grp0['X95735_at'],color='b',label='cancer_type: 0');\n",
    "ax1.scatter(mc_X_train_append_mc_y_train_grp1['M31523_at'],mc_X_train_append_mc_y_train_grp1['X95735_at'],color='r',label='cancer_type: 1');\n",
    "ax1.scatter(mc_X_train_append_mc_y_train_grp2['M31523_at'],mc_X_train_append_mc_y_train_grp2['X95735_at'],color='k',label='cancer_type: 2');\n",
    "ax1.legend(bbox_to_anchor=(1, 1));\n",
    "\n",
    "\n",
    "overlay_decision_boundary(ax1, model_logregCV, colors=None, nx=200, ny=200, desaturate=.5, xlim=None, ylim=None);\n",
    "ax1.set_xlabel('M31523_at normalized measurement value');\n",
    "ax1.set_ylabel('X95735_at normalized measurement value');\n",
    "ax1.set_title('Logistic regression multiclass model decision boundary with linear features and training data overlaid\\n');\n"
   ]
  },
  {
   "cell_type": "code",
   "execution_count": 63,
   "metadata": {},
   "outputs": [
    {
     "data": {
      "image/png": "[encoded data removed]",
      "text/plain": [
       "<Figure size 432x288 with 1 Axes>"
      ]
     },
     "metadata": {
      "needs_background": "light"
     },
     "output_type": "display_data"
    }
   ],
   "source": [
    "# Use function to generate decision boundary plot with testing data on top\n",
    "\n",
    "fig1, ax1 = plt.subplots();\n",
    "ax1.scatter(mc_X_test_append_mc_y_test_grp0['M31523_at'],mc_X_test_append_mc_y_test_grp0['X95735_at'],color='b',label='cancer_type: 0');\n",
    "ax1.scatter(mc_X_test_append_mc_y_test_grp1['M31523_at'],mc_X_test_append_mc_y_test_grp1['X95735_at'],color='r',label='cancer_type: 1');\n",
    "ax1.scatter(mc_X_test_append_mc_y_test_grp2['M31523_at'],mc_X_test_append_mc_y_test_grp2['X95735_at'],color='k',label='cancer_type: 2');\n",
    "ax1.legend(bbox_to_anchor=(1, 1));\n",
    "\n",
    "\n",
    "overlay_decision_boundary(ax1, model_logregCV, colors=None, nx=200, ny=200, desaturate=.5, xlim=None, ylim=None);\n",
    "ax1.set_xlabel('M31523_at normalized measurement value');\n",
    "ax1.set_ylabel('X95735_at normalized measurement value');\n",
    "ax1.set_title('Logistic regression multiclass model decision boundary with linear features and testing data overlaid\\n');\n",
    "\n"
   ]
  },
  {
   "cell_type": "code",
   "execution_count": 64,
   "metadata": {},
   "outputs": [],
   "source": [
    "# Function to plot decision boundary with polynomial features\n",
    "\n",
    "def overlay_decision_boundary_poly(ax, model, colors=None, nx=200, ny=200, desaturate=.5, xlim=None, ylim=None):\n",
    "    \"\"\"\n",
    "    A function that visualizes the decision boundaries of a classifier.\n",
    "    \n",
    "    ax: Matplotlib Axes to plot on\n",
    "    model: Classifier to use.\n",
    "     - if `model` has a `.predict` method, like an sklearn classifier, we call `model.predict(X)`\n",
    "     - otherwise, we simply call `model(X)`\n",
    "    colors: list or dict of colors to use. Use color `colors[i]` for class i.\n",
    "     - If colors is not provided, uses the current color cycle\n",
    "    nx, ny: number of mesh points to evaluated the classifier on\n",
    "    desaturate: how much to desaturate each of the colors (for better contrast with the sample points)\n",
    "    xlim, ylim: range to plot on. (If the default, None, is passed, the limits will be taken from `ax`.)\n",
    "    \"\"\"\n",
    "    # Create mesh.\n",
    "    xmin, xmax = ax.get_xlim() if xlim is None else xlim\n",
    "    ymin, ymax = ax.get_ylim() if ylim is None else ylim\n",
    "    xx, yy = np.meshgrid(\n",
    "        np.linspace(xmin, xmax, nx),\n",
    "        np.linspace(ymin, ymax, ny))\n",
    "    #X = np.c_[xx.flatten(), yy.flatten()] #deleted and added next\n",
    "    #X = np.c_[xx.flatten(), yy.flatten()].reshape(model.coef_.shape[1])\n",
    "    \n",
    "    # Modify mesh to account for 4 predictors in the polynomial model\n",
    "    X = np.stack((xx.ravel(), yy.ravel(), xx.ravel()**2,yy.ravel()**2),axis=1)\n",
    "\n",
    "\n",
    "    # Predict on mesh of points.\n",
    "    model = getattr(model, 'predict', model)\n",
    "    y = model(X) #deleted this out and added next line\n",
    "    #y = model(X.reshape(model.coef_.shape[1]))\n",
    "    #print(\"Do I predict\" , y)\n",
    "    \n",
    "    \n",
    "#     y[np.where(y=='aml')]=3\n",
    "#     y[np.where(y=='allT')]=2\n",
    "#     y[np.where(y=='allB')]=1\n",
    "    \n",
    "    \n",
    "    \n",
    "    y = y.astype(int) # This may be necessary for 32-bit Python.\n",
    "    y = y.reshape((nx, ny))\n",
    "\n",
    "    # Generate colormap.\n",
    "    if colors is None:\n",
    "        # If colors not provided, use the current color cycle.\n",
    "        # Shift the indices so that the lowest class actually predicted gets the first color.\n",
    "        # ^ This is a bit magic, consider removing for next year.\n",
    "        colors = (['white'] * np.min(y)) + sns.utils.get_color_cycle()\n",
    "\n",
    "    if isinstance(colors, dict):\n",
    "        missing_colors = [idx for idx in np.unique(y) if idx not in colors]\n",
    "        assert len(missing_colors) == 0, f\"Color not specified for predictions {missing_colors}.\"\n",
    "\n",
    "        # Make a list of colors, filling in items from the dict.\n",
    "        color_list = ['white'] * (np.max(y) + 1)\n",
    "        for idx, val in colors.items():\n",
    "            color_list[idx] = val\n",
    "    else:\n",
    "        assert len(colors) >= np.max(y) + 1, \"Insufficient colors passed for all predictions.\"\n",
    "        color_list = colors\n",
    "    color_list = [sns.utils.desaturate(color, desaturate) for color in color_list]\n",
    "    cmap = matplotlib.colors.ListedColormap(color_list)\n",
    "\n",
    "    # Plot decision surface\n",
    "    ax.pcolormesh(xx, yy, y, zorder=-2, cmap=cmap, norm=matplotlib.colors.NoNorm(), vmin=0, vmax=y.max() + 1)\n",
    "    xx = xx.reshape(nx, ny)\n",
    "    yy = yy.reshape(nx, ny)\n",
    "    if len(np.unique(y)) > 1:\n",
    "        ax.contour(xx, yy, y, colors=\"black\", linewidths=1, zorder=-1)\n",
    "    else:\n",
    "        print(\"Warning: only one class predicted, so not plotting contour lines.\")"
   ]
  },
  {
   "cell_type": "code",
   "execution_count": 65,
   "metadata": {},
   "outputs": [
    {
     "data": {
      "image/png": "[encoded data removed]",
      "text/plain": [
       "<Figure size 432x288 with 1 Axes>"
      ]
     },
     "metadata": {
      "needs_background": "light"
     },
     "output_type": "display_data"
    }
   ],
   "source": [
    "# Use function to generate decision boundary plot with training data overlaid\n",
    "\n",
    "fig2, ax2 = plt.subplots(1)\n",
    "ax2.scatter(mc_X_train_append_mc_y_train_grp0['M31523_at'],mc_X_train_append_mc_y_train_grp0['X95735_at'],color='b',label='cancer_type: 0');\n",
    "ax2.scatter(mc_X_train_append_mc_y_train_grp1['M31523_at'],mc_X_train_append_mc_y_train_grp1['X95735_at'],color='r',label='cancer_type: 1');\n",
    "ax2.scatter(mc_X_train_append_mc_y_train_grp2['M31523_at'],mc_X_train_append_mc_y_train_grp2['X95735_at'],color='k',label='cancer_type: 2');\n",
    "ax2.legend(bbox_to_anchor=(1, 1));\n",
    "\n",
    "overlay_decision_boundary_poly(ax2, model_logregCV_poly, colors=None, nx=200, ny=200, desaturate=.5, xlim=None, ylim=None)\n",
    "ax2.set_xlabel('M31523_at normalized measurement value');\n",
    "ax2.set_ylabel('X95735_at normalized measurement value');\n",
    "ax2.set_title('Logistic regression multiclass model decision boundary with polynomial features with training data overlaid\\n');\n"
   ]
  },
  {
   "cell_type": "code",
   "execution_count": 66,
   "metadata": {},
   "outputs": [
    {
     "data": {
      "image/png": "[encoded data removed]",
      "text/plain": [
       "<Figure size 432x288 with 1 Axes>"
      ]
     },
     "metadata": {
      "needs_background": "light"
     },
     "output_type": "display_data"
    }
   ],
   "source": [
    "# Use function to generate decision boundary plot with testing data overlaid\n",
    "\n",
    "fig2, ax2 = plt.subplots(1)\n",
    "ax2.scatter(mc_X_test_append_mc_y_test_grp0['M31523_at'],mc_X_test_append_mc_y_test_grp0['X95735_at'],color='b',label='cancer_type: 0');\n",
    "ax2.scatter(mc_X_test_append_mc_y_test_grp1['M31523_at'],mc_X_test_append_mc_y_test_grp1['X95735_at'],color='r',label='cancer_type: 1');\n",
    "ax2.scatter(mc_X_test_append_mc_y_test_grp2['M31523_at'],mc_X_test_append_mc_y_test_grp2['X95735_at'],color='k',label='cancer_type: 2');\n",
    "ax2.legend(bbox_to_anchor=(1, 1));\n",
    "\n",
    "overlay_decision_boundary_poly(ax2, model_logregCV_poly, colors=None, nx=200, ny=200, desaturate=.5, xlim=None, ylim=None)\n",
    "ax2.set_xlabel('M31523_at normalized measurement value');\n",
    "ax2.set_ylabel('X95735_at normalized measurement value');\n",
    "ax2.set_title('Logistic regression multiclass model decision boundary with polynomial features with testing data overlaid\\n');\n",
    "\n"
   ]
  },
  {
   "cell_type": "markdown",
   "metadata": {},
   "source": [
    "The plots of the decision boundaries show the predicted response variable as the normalized measurement values of M31523_at and X95735_at vary from 0 to 1, such that the blue regions correspond to the conditions under which having cancer type 0 (aml) is expected, the orange regions correspond to the conditions under which having cancer type 1 (allT) is expected, and the green regions correspond to the conditions under which having cancer type 2 (allB) is expected. The true cancer types for the patients in the training and test sets are overlaid in the plots and show that the decision boundary does generally separate the cases by cancer type. The curves in the decision boundary from polynomial features are present because they are plotted on the axes of the linear predictions (whereas there are only straight lines in the decision boundary from the model with linear features only given plotted on the axes of the linear predictions\n",
    "\n",
    "\n"
   ]
  },
  {
   "cell_type": "markdown",
   "metadata": {},
   "source": [
    "**4.5 Report and plot the CV scores for the two models and interpret.**"
   ]
  },
  {
   "cell_type": "code",
   "execution_count": 157,
   "metadata": {},
   "outputs": [
    {
     "name": "stdout",
     "output_type": "stream",
     "text": [
      "CV scores for logistic regression multiclass model with linear predictors: [0.8, 0.8166666666666667, 0.8583333333333333, 0.8666666666666667, 0.8583333333333333]\n"
     ]
    }
   ],
   "source": [
    "# Show CV scores across 5 fold cross validation using model with linear predictors\n",
    "cv_scores_logregCV = cross_val_score(logregCV, mc_X_train_scaled_reshape, mc_y_train, cv=5)\n",
    "print('CV scores for logistic regression multiclass model with linear predictors:', list(cv_scores_logregCV))  "
   ]
  },
  {
   "cell_type": "code",
   "execution_count": 158,
   "metadata": {},
   "outputs": [
    {
     "name": "stdout",
     "output_type": "stream",
     "text": [
      "CV scores for logistic regression multiclass model with polynomial predictors: [0.9, 0.8666666666666667, 0.8833333333333333, 0.875, 0.85]\n"
     ]
    }
   ],
   "source": [
    "# Show CV scores across 5 fold cross validation using model with polynomial predictors\n",
    "\n",
    "cv_scores_logregCV_poly = cross_val_score(logregCV_poly, mc_X_train_scaled_poly_reshape, mc_y_train, cv=5)\n",
    "print('CV scores for logistic regression multiclass model with polynomial predictors:', list(cv_scores_logregCV_poly))  "
   ]
  },
  {
   "cell_type": "code",
   "execution_count": 414,
   "metadata": {},
   "outputs": [
    {
     "data": {
      "image/png": "[encoded data removed]",
      "text/plain": [
       "<Figure size 432x288 with 1 Axes>"
      ]
     },
     "metadata": {
      "needs_background": "light"
     },
     "output_type": "display_data"
    }
   ],
   "source": [
    "# Create dataframe of CV scores for each model type\n",
    "cv_data = {'linear model':cv_scores_logregCV, 'polynomial model': cv_scores_logregCV_poly};\n",
    "cv_data_df = pd.DataFrame(cv_data);\n",
    "# Plot boxplots of CV scores to show which model type has higher CV scores overall and which model type has more consistent (less variable) CV scores across folds\n",
    "sns.boxplot(x=\"variable\", y=\"value\", data=pd.melt(cv_data_df));\n",
    "plt.title('Distribution of CV Scores');\n",
    "plt.xlabel('Multiclass logistic regression model type');\n",
    "plt.ylabel('CV score');"
   ]
  },
  {
   "cell_type": "markdown",
   "metadata": {},
   "source": [
    "The boxplots show that the CV scores from the multiclass logistic regression model with polynomial features has higher and more consistent CV scores overall, which indicate that including the polynomial features make the model fit the data better. The median of the CV scores for the polynomial feature model is approximately 0.875 (compared to approximately 0.86 for the model with linear features only) while the interquartile range is approximately 0.885 - 0.87 = 0.015 units in the polynomial model (compared to 0.86 - 0.822 = 0.038 units in the linear model). The larger interquartile range in the CV scores of the linear model suggests that the linear model's accuracy changes more readily given the specific chunks of data used to evaluate it, so it is not as robust a model as the polynomial model."
   ]
  },
  {
   "cell_type": "markdown",
   "metadata": {},
   "source": [
    "<div class='exercise'><b> Question 5: [10 pts] Including an 'abstain' option </b></div>\n",
    "\n",
    "One of the reasons a hospital might be hesitant to use your cancer classification model is that a misdiagnosis by the model on a patient can sometimes prove to be very costly (e.g. if the patient were to file a law suit seeking a compensation for damages). One way to mitigate this concern is to allow the model to 'abstain' from making a prediction: whenever it is uncertain about the diagnosis for a patient. However, when the model abstains from making a prediction, the hospital will have to forward the patient to a specialist, which would incur additional cost.  How could one design a cancer classification model with an abstain option, such that the cost to the hospital is minimized?\n",
    "\n",
    "*Hint:* Think of ways to build on top of the logistic regression model and have it abstain on patients who are difficult to classify."
   ]
  },
  {
   "cell_type": "markdown",
   "metadata": {},
   "source": [
    "**5.1** More specifically, suppose the cost incurred by a hospital when a model mis-predicts on a patient is $\\$5000$ , and the cost incurred when the model abstains from making a prediction is \\$1000. What is the average cost per patient for the OvR logistic regression model (without quadratic or interaction terms) from **Question 4**.  Note that this needs to be evaluated on the patients in the test set. "
   ]
  },
  {
   "cell_type": "markdown",
   "metadata": {},
   "source": [
    "**5.2** Design a classification strategy (into the 3 groups plus the *abstain* group) that has as low cost as possible per patient (certainly lower cost per patient than the logistic regression model).   Give a justification for your approach."
   ]
  },
  {
   "cell_type": "markdown",
   "metadata": {},
   "source": [
    "<hr>\n",
    "### Solutions"
   ]
  },
  {
   "cell_type": "markdown",
   "metadata": {},
   "source": [
    "**5.1 More specifically, suppose the cost incurred by a hospital when a model mis-predicts on a patient is $\\$5000$ , and the cost incurred when the model abstains from making a prediction is \\$1000. What is the average cost per patient for the OvR logistic regression model (without quadratic or interaction terms) from Question 4.  Note that this needs to be evaluated on the patients in the test set.**\n",
    "**\n",
    "...\n",
    "**"
   ]
  },
  {
   "cell_type": "markdown",
   "metadata": {},
   "source": [
    "To answer the question posed in the introduction to this question, one way to design a cancer classification model with an abstain option is to use the logistic regression model trained in question 4 (with only linear terms) to show the predicted probabilty that each patient is in each cancer class and then - instead of simply choosing the class with the highest probability as the patient's cancer class - apply a cutoff threshold for this highest probability such that only patients with sufficiently high predicted probabilities (above the cutoff) will be classified into their top cancer class. I will test different cutoff values and calculate the cost per patient for each cutoff in the training data and then use this cutoff value to calculate the cost per patient when using this classification model with the abstain feature in the test set. This would result in a lower cost per patient because some patients, instead of being misclassified, will simply not be assigned a cancer group."
   ]
  },
  {
   "cell_type": "markdown",
   "metadata": {},
   "source": [
    "The average cost per patient in the test set for the OvR logistic regression model without quadratic or interaction terms is $666.67 as calculated below."
   ]
  },
  {
   "cell_type": "code",
   "execution_count": 475,
   "metadata": {},
   "outputs": [
    {
     "name": "stdout",
     "output_type": "stream",
     "text": [
      "OvR multiple logistic regression accuracy on testing set after regularization: 0.8666666666666667\n",
      "OvR multiple logistic regression misclassification proportion on testing set after regularization: 0.1333333333333333\n",
      "Per patient OvR multiple logistic regression misclassification cost (in $) on testing set after regularization: 666.67\n"
     ]
    }
   ],
   "source": [
    "# Find predicted cancer class on the testing set\n",
    "model_logregCV_y_hat_test = model_logregCV.predict(mc_X_test_scaled_reshape)\n",
    "\n",
    "# Evaluate accuracy on testing set\n",
    "print('OvR multiple logistic regression accuracy on testing set after regularization:', accuracy_score(mc_y_test, model_logregCV_y_hat_test))\n",
    "\n",
    "# Find misclassification proportion on testing set\n",
    "print('OvR multiple logistic regression misclassification proportion on testing set after regularization:', 1-accuracy_score(mc_y_test, model_logregCV_y_hat_test))\n",
    "\n",
    "# Find cost of misclassification per patient\n",
    "misclassification_cost = str(round(5000*(1-accuracy_score(mc_y_test, model_logregCV_y_hat_test)),2))\n",
    "print('Per patient OvR multiple logistic regression misclassification cost (in $) on testing set after regularization:', misclassification_cost)\n"
   ]
  },
  {
   "cell_type": "markdown",
   "metadata": {},
   "source": [
    "**5.2 Design a classification strategy (into the 3 groups plus the *abstain* group) that has as low cost as possible per patient (certainly lower cost per patient than the logistic regression model).   Give a justification for your approach.**"
   ]
  },
  {
   "cell_type": "markdown",
   "metadata": {},
   "source": [
    "As described above, one way to design a cancer classification model with an abstain option is to use the logistic regression model trained in question 4 (with only linear terms) to show the predicted probabilty that each patient is in each cancer class and then - instead of simply choosing the class with the highest probability as the patient's cancer class - apply a cutoff threshold for this highest probability such that only patients with sufficiently high predicted probabilities (above the cutoff) will be classified into their top cancer class. I will test different cutoff values and calculate the cost per patient for each cutoff in the training data and then use this cutoff value to calculate the cost per patient when using this classification model with the abstain feature in the test set. This would result in a lower cost per patient because some patients, instead of being misclassified, will simply not be assigned a cancer group.\n",
    "\n",
    "This approach is justified because the cutoff threshold is learned from the training data and then applied to the testing data and allows the model to have a lower cost per patient because the model can abstain from predicting patients that have low predicted probabilities even in their most likely cancer class. The cost for abstaining is only $1000 per patient while it is $5000 for misclassifying."
   ]
  },
  {
   "cell_type": "code",
   "execution_count": 421,
   "metadata": {},
   "outputs": [
    {
     "data": {
      "text/html": [
       "<div>\n",
       "<style scoped>\n",
       "    .dataframe tbody tr th:only-of-type {\n",
       "        vertical-align: middle;\n",
       "    }\n",
       "\n",
       "    .dataframe tbody tr th {\n",
       "        vertical-align: top;\n",
       "    }\n",
       "\n",
       "    .dataframe thead th {\n",
       "        text-align: right;\n",
       "    }\n",
       "</style>\n",
       "<table border=\"1\" class=\"dataframe\">\n",
       "  <thead>\n",
       "    <tr style=\"text-align: right;\">\n",
       "      <th></th>\n",
       "      <th>0</th>\n",
       "      <th>1</th>\n",
       "      <th>2</th>\n",
       "      <th>highest_probability</th>\n",
       "      <th>highest_class</th>\n",
       "    </tr>\n",
       "  </thead>\n",
       "  <tbody>\n",
       "    <tr>\n",
       "      <th>0</th>\n",
       "      <td>0.500788</td>\n",
       "      <td>0.498679</td>\n",
       "      <td>5.337614e-04</td>\n",
       "      <td>0.500788</td>\n",
       "      <td>0</td>\n",
       "    </tr>\n",
       "    <tr>\n",
       "      <th>1</th>\n",
       "      <td>0.001073</td>\n",
       "      <td>0.084956</td>\n",
       "      <td>9.139702e-01</td>\n",
       "      <td>0.913970</td>\n",
       "      <td>2</td>\n",
       "    </tr>\n",
       "    <tr>\n",
       "      <th>2</th>\n",
       "      <td>0.284349</td>\n",
       "      <td>0.710769</td>\n",
       "      <td>4.882581e-03</td>\n",
       "      <td>0.710769</td>\n",
       "      <td>1</td>\n",
       "    </tr>\n",
       "    <tr>\n",
       "      <th>3</th>\n",
       "      <td>0.361421</td>\n",
       "      <td>0.233540</td>\n",
       "      <td>4.050387e-01</td>\n",
       "      <td>0.405039</td>\n",
       "      <td>2</td>\n",
       "    </tr>\n",
       "    <tr>\n",
       "      <th>4</th>\n",
       "      <td>0.920520</td>\n",
       "      <td>0.079480</td>\n",
       "      <td>4.121171e-09</td>\n",
       "      <td>0.920520</td>\n",
       "      <td>0</td>\n",
       "    </tr>\n",
       "  </tbody>\n",
       "</table>\n",
       "</div>"
      ],
      "text/plain": [
       "          0         1             2  highest_probability  highest_class\n",
       "0  0.500788  0.498679  5.337614e-04             0.500788              0\n",
       "1  0.001073  0.084956  9.139702e-01             0.913970              2\n",
       "2  0.284349  0.710769  4.882581e-03             0.710769              1\n",
       "3  0.361421  0.233540  4.050387e-01             0.405039              2\n",
       "4  0.920520  0.079480  4.121171e-09             0.920520              0"
      ]
     },
     "execution_count": 421,
     "metadata": {},
     "output_type": "execute_result"
    }
   ],
   "source": [
    "# Overall goal of next three cells is to find optimal cutoff for abstaining from the training data\n",
    "\n",
    "# Find probabilities that each patient in training set belongs to each cancer category\n",
    "model_logregCV_y_hat_proba_train = model_logregCV.predict_proba(mc_X_train_scaled_reshape)\n",
    "model_logregCV_y_hat_proba_train2 = pd.DataFrame(model_logregCV_y_hat_proba_train)\n",
    "# Per Ed, 'cancer class 0 (aml)', 'cancer class 1 (allT)', 'cancer class 2 (allB)'\n",
    "\n",
    "# Create column to show probability of being in the classification category with highest probability for each patient\n",
    "model_logregCV_y_hat_proba_train2['highest_probability'] = model_logregCV_y_hat_proba_train.max(axis=1)\n",
    "# Create column to show classification category with the highest probability for each patient in the training set\n",
    "model_logregCV_y_hat_proba_train2['highest_class'] = model_logregCV_y_hat_proba_train2.idxmax(axis=1)\n",
    "\n",
    "model_logregCV_y_hat_proba_train2.head()"
   ]
  },
  {
   "cell_type": "code",
   "execution_count": 422,
   "metadata": {},
   "outputs": [],
   "source": [
    "# Try multiple cutoff values\n",
    "cutoff=np.linspace(0,0.99,10)\n",
    "cost_per_patient = []\n",
    "for trial in range(len(cutoff)):\n",
    "    for i in range(len(model_logregCV_y_hat_proba_train2)):\n",
    "    #print(i)\n",
    "        if (model_logregCV_y_hat_proba_train2.loc[i, 'highest_probability'] > cutoff[trial])== 1:\n",
    "            model_logregCV_y_hat_proba_train2.loc[i, 'decision'] = model_logregCV_y_hat_proba_train2.loc[i, 'highest_class']\n",
    "        else:    \n",
    "            model_logregCV_y_hat_proba_train2.loc[i, 'decision'] = 3 #abstain category\n",
    "    # Make array of y predictions for cancer types (3 groups here; remove abstain prediction cases)\n",
    "    model_logregCV_y_hat_proba_train_old_groups2 = model_logregCV_y_hat_proba_train2[model_logregCV_y_hat_proba_train2.decision != 3]\n",
    "    #trial_y_hat_train_old_groups = np.array(model_logregCV_y_hat_proba_train_old_groups['decision']).reshape(-1,1)\n",
    "    model_logregCV_y_hat_proba_train_new_groups2 = model_logregCV_y_hat_proba_train2[model_logregCV_y_hat_proba_train2.decision == 3]\n",
    "    cost_abstain2 = 1000*len(model_logregCV_y_hat_proba_train_new_groups2)\n",
    "    mc_y_train_oldgrps = mc_y_train.copy()\n",
    "    mc_y_train_oldgrps_newindex = mc_y_train_oldgrps.reset_index()\n",
    "    mc_y_train_oldgrps_newindex_drop = mc_y_train_oldgrps_newindex.drop('index',1)\n",
    "    mc_y_train_oldgrps_newindex_drop_selectold = mc_y_train_oldgrps_newindex_drop.iloc[model_logregCV_y_hat_proba_train_old_groups2.index,:]\n",
    "    #true values for old groups (no abstain patients here)\n",
    "    mc_y_train_oldgrps_newindex_drop_selectold_reshape = np.array(mc_y_train_oldgrps_newindex_drop_selectold).reshape(-1,1)\n",
    "    y_pred_oldgrps = np.array(model_logregCV_y_hat_proba_train_old_groups2.decision).reshape(-1,1) #y hat old grps\n",
    "    cost_misclassify_2 = 5000*(1-accuracy_score(mc_y_train_oldgrps_newindex_drop_selectold_reshape, y_pred_oldgrps))*len(y_pred_oldgrps)\n",
    "    total_cost08 = cost_misclassify_2 + cost_abstain2\n",
    "    perpatient_cost08 = total_cost08/(len(model_logregCV_y_hat_proba_train2))\n",
    "    cost_per_patient.append(perpatient_cost08)\n",
    "    "
   ]
  },
  {
   "cell_type": "code",
   "execution_count": 423,
   "metadata": {},
   "outputs": [
    {
     "data": {
      "image/png": "[encoded data removed]",
      "text/plain": [
       "<Figure size 432x288 with 1 Axes>"
      ]
     },
     "metadata": {
      "needs_background": "light"
     },
     "output_type": "display_data"
    }
   ],
   "source": [
    "# Plot cost per patient across different cutoff values\n",
    "plt.plot(cutoff,cost_per_patient);\n",
    "plt.title('Cost per patient for different cutoff values');\n",
    "plt.xlabel('Cutoff value');\n",
    "plt.ylabel('Cost per patient in $');"
   ]
  },
  {
   "cell_type": "code",
   "execution_count": 476,
   "metadata": {},
   "outputs": [
    {
     "name": "stdout",
     "output_type": "stream",
     "text": [
      "Minimum cost per patient (in $) in the training data: 560.0\n",
      "Minimum cutoff determined in the training data: 0.66\n"
     ]
    }
   ],
   "source": [
    "# Find minimum cost per patient and cutoff value\n",
    "\n",
    "min_cost = np.min(cost_per_patient)\n",
    "print('Minimum cost per patient (in $) in the training data:', min_cost)\n",
    "min_cutoff = cutoff[np.argmin(cost_per_patient)]\n",
    "print('Minimum cutoff determined in the training data:', min_cutoff)\n"
   ]
  },
  {
   "cell_type": "code",
   "execution_count": 425,
   "metadata": {},
   "outputs": [
    {
     "data": {
      "text/html": [
       "<div>\n",
       "<style scoped>\n",
       "    .dataframe tbody tr th:only-of-type {\n",
       "        vertical-align: middle;\n",
       "    }\n",
       "\n",
       "    .dataframe tbody tr th {\n",
       "        vertical-align: top;\n",
       "    }\n",
       "\n",
       "    .dataframe thead th {\n",
       "        text-align: right;\n",
       "    }\n",
       "</style>\n",
       "<table border=\"1\" class=\"dataframe\">\n",
       "  <thead>\n",
       "    <tr style=\"text-align: right;\">\n",
       "      <th></th>\n",
       "      <th>0</th>\n",
       "      <th>1</th>\n",
       "      <th>2</th>\n",
       "      <th>highest_probability</th>\n",
       "      <th>highest_class</th>\n",
       "    </tr>\n",
       "  </thead>\n",
       "  <tbody>\n",
       "    <tr>\n",
       "      <th>0</th>\n",
       "      <td>0.000306</td>\n",
       "      <td>0.011580</td>\n",
       "      <td>0.988114</td>\n",
       "      <td>0.988114</td>\n",
       "      <td>2</td>\n",
       "    </tr>\n",
       "    <tr>\n",
       "      <th>1</th>\n",
       "      <td>0.000752</td>\n",
       "      <td>0.152096</td>\n",
       "      <td>0.847152</td>\n",
       "      <td>0.847152</td>\n",
       "      <td>2</td>\n",
       "    </tr>\n",
       "    <tr>\n",
       "      <th>2</th>\n",
       "      <td>0.000178</td>\n",
       "      <td>0.015259</td>\n",
       "      <td>0.984563</td>\n",
       "      <td>0.984563</td>\n",
       "      <td>2</td>\n",
       "    </tr>\n",
       "    <tr>\n",
       "      <th>3</th>\n",
       "      <td>0.930383</td>\n",
       "      <td>0.067863</td>\n",
       "      <td>0.001754</td>\n",
       "      <td>0.930383</td>\n",
       "      <td>0</td>\n",
       "    </tr>\n",
       "    <tr>\n",
       "      <th>4</th>\n",
       "      <td>0.415224</td>\n",
       "      <td>0.583289</td>\n",
       "      <td>0.001488</td>\n",
       "      <td>0.583289</td>\n",
       "      <td>1</td>\n",
       "    </tr>\n",
       "  </tbody>\n",
       "</table>\n",
       "</div>"
      ],
      "text/plain": [
       "          0         1         2  highest_probability  highest_class\n",
       "0  0.000306  0.011580  0.988114             0.988114              2\n",
       "1  0.000752  0.152096  0.847152             0.847152              2\n",
       "2  0.000178  0.015259  0.984563             0.984563              2\n",
       "3  0.930383  0.067863  0.001754             0.930383              0\n",
       "4  0.415224  0.583289  0.001488             0.583289              1"
      ]
     },
     "execution_count": 425,
     "metadata": {},
     "output_type": "execute_result"
    }
   ],
   "source": [
    "# Overall goal of the next two cells is to use the cutoff determined from the training data to find the cost per patient in the testing data\n",
    "\n",
    "# Find probabilities that each patient in training set belongs to each cancer category\n",
    "model_logregCV_y_hat_proba_test = model_logregCV.predict_proba(mc_X_test_scaled_reshape)\n",
    "model_logregCV_y_hat_proba_test2 = pd.DataFrame(model_logregCV_y_hat_proba_test)\n",
    "# Per Ed, 'cancer class 0 (aml)', 'cancer class 1 (allT)', 'cancer class 2 (allB)'\n",
    "\n",
    "# Create column to show probability of being in the classification category with highest probability for each patient\n",
    "model_logregCV_y_hat_proba_test2['highest_probability'] = model_logregCV_y_hat_proba_test.max(axis=1)\n",
    "# Create column to show classification category with the highest probability for each patient in the testing set\n",
    "model_logregCV_y_hat_proba_test2['highest_class'] = model_logregCV_y_hat_proba_test2.idxmax(axis=1)\n",
    "\n",
    "model_logregCV_y_hat_proba_test2.head()"
   ]
  },
  {
   "cell_type": "code",
   "execution_count": 426,
   "metadata": {},
   "outputs": [
    {
     "name": "stdout",
     "output_type": "stream",
     "text": [
      "Cutoff determined during training: 0.66\n",
      "Cost per patient in the test set using the cutoff determined during training: 506.67\n"
     ]
    }
   ],
   "source": [
    "# Cost per patient using cutoff determined in the testing set\n",
    "for i in range(len(model_logregCV_y_hat_proba_test2)):\n",
    "    #print(i)\n",
    "    if (model_logregCV_y_hat_proba_test2.loc[i, 'highest_probability'] > min_cutoff)== 1:\n",
    "        model_logregCV_y_hat_proba_test2.loc[i, 'decision'] = model_logregCV_y_hat_proba_test2.loc[i, 'highest_class']\n",
    "    else:    \n",
    "        model_logregCV_y_hat_proba_test2.loc[i, 'decision'] = 3 #abstain category\n",
    "# Make array of y predictions for cancer types (3 groups here; remove abstain prediction cases)\n",
    "model_logregCV_y_hat_proba_test_old_groups2 = model_logregCV_y_hat_proba_test2[model_logregCV_y_hat_proba_test2.decision != 3]\n",
    "#trial_y_hat_train_old_groups = np.array(model_logregCV_y_hat_proba_train_old_groups['decision']).reshape(-1,1)\n",
    "model_logregCV_y_hat_proba_test_new_groups2 = model_logregCV_y_hat_proba_test2[model_logregCV_y_hat_proba_test2.decision == 3]\n",
    "cost_abstain2_test = 1000*len(model_logregCV_y_hat_proba_test_new_groups2)\n",
    "mc_y_test_oldgrps = mc_y_test.copy()\n",
    "mc_y_test_oldgrps_newindex = mc_y_test_oldgrps.reset_index()\n",
    "mc_y_test_oldgrps_newindex_drop = mc_y_test_oldgrps_newindex.drop('index',1)\n",
    "mc_y_test_oldgrps_newindex_drop_selectold = mc_y_test_oldgrps_newindex_drop.iloc[model_logregCV_y_hat_proba_test_old_groups2.index,:]\n",
    "#true values for old grps\n",
    "mc_y_test_oldgrps_newindex_drop_selectold_reshape = np.array(mc_y_test_oldgrps_newindex_drop_selectold).reshape(-1,1)\n",
    "y_pred_oldgrps_test = np.array(model_logregCV_y_hat_proba_test_old_groups2.decision).reshape(-1,1) #y hat old grps\n",
    "cost_misclassify_2_test = 5000*(1-accuracy_score(mc_y_test_oldgrps_newindex_drop_selectold_reshape, y_pred_oldgrps_test))*len(y_pred_oldgrps_test)\n",
    "total_cost08_test = cost_misclassify_2_test + cost_abstain2_test\n",
    "perpatient_cost08_test = total_cost08_test/(len(model_logregCV_y_hat_proba_test2))\n",
    "print('Cutoff determined during training:', min_cutoff)\n",
    "print('Cost per patient (in $) in the test set using the cutoff determined during training:', np.around(perpatient_cost08_test,2))"
   ]
  },
  {
   "cell_type": "markdown",
   "metadata": {},
   "source": [
    "Because the cost per patient in the test set using the cutoff determined during training is $506.67 (which is less than $666.67 - which is the cost determined from logistic regression without abstaining), the abstaining methodology helps to improve the model."
   ]
  },
  {
   "cell_type": "code",
   "execution_count": null,
   "metadata": {},
   "outputs": [],
   "source": []
  }
 ],
 "metadata": {
  "kernelspec": {
   "display_name": "Python 3",
   "language": "python",
   "name": "python3"
  },
  "language_info": {
   "codemirror_mode": {
    "name": "ipython",
    "version": 3
   },
   "file_extension": ".py",
   "mimetype": "text/x-python",
   "name": "python",
   "nbconvert_exporter": "python",
   "pygments_lexer": "ipython3",
   "version": "3.7.4"
  }
 },
 "nbformat": 4,
 "nbformat_minor": 2
}
