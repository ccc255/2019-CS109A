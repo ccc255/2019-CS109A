{
 "cells": [
  {
   "cell_type": "markdown",
   "metadata": {
    "button": false,
    "new_sheet": false,
    "run_control": {
     "read_only": false
    }
   },
   "source": [
    "# <img style=\"float: left; padding-right: 10px; width: 45px\" src=\"https://raw.githubusercontent.com/Harvard-IACS/2018-CS109A/master/content/styles/iacs.png\"> CS109A Introduction to Data Science: \n",
    "## Homework 3 - Regression Modeling to Forecast Bike Sharing Usage\n",
    "\n",
    "\n",
    "\n",
    "**Harvard University**<br/>\n",
    "**Fall 2019**<br/>\n",
    "**Instructors**: Pavlos Protopapas, Kevin Rader, Chris Tanner\n",
    "\n",
    "<hr style=\"height:2pt\">"
   ]
  },
  {
   "cell_type": "code",
   "execution_count": 2,
   "metadata": {
    "button": false,
    "new_sheet": false,
    "run_control": {
     "read_only": false
    }
   },
   "outputs": [
    {
     "data": {
      "text/html": [
       "<style>\n",
       "blockquote { background: #AEDE94; }\n",
       "h1 { \n",
       "    padding-top: 25px;\n",
       "    padding-bottom: 25px;\n",
       "    text-align: left; \n",
       "    padding-left: 10px;\n",
       "    background-color: #DDDDDD; \n",
       "    color: black;\n",
       "}\n",
       "h2 { \n",
       "    padding-top: 10px;\n",
       "    padding-bottom: 10px;\n",
       "    text-align: left; \n",
       "    padding-left: 5px;\n",
       "    background-color: #EEEEEE; \n",
       "    color: black;\n",
       "}\n",
       "\n",
       "div.exercise {\n",
       "\tbackground-color: #ffcccc;\n",
       "\tborder-color: #E9967A; \t\n",
       "\tborder-left: 5px solid #800080; \n",
       "\tpadding: 0.5em;\n",
       "}\n",
       "\n",
       "span.sub-q {\n",
       "\tfont-weight: bold;\n",
       "}\n",
       "div.theme {\n",
       "\tbackground-color: #DDDDDD;\n",
       "\tborder-color: #E9967A; \t\n",
       "\tborder-left: 5px solid #800080; \n",
       "\tpadding: 0.5em;\n",
       "\tfont-size: 18pt;\n",
       "}\n",
       "div.gc { \n",
       "\tbackground-color: #AEDE94;\n",
       "\tborder-color: #E9967A; \t \n",
       "\tborder-left: 5px solid #800080; \n",
       "\tpadding: 0.5em;\n",
       "\tfont-size: 12pt;\n",
       "}\n",
       "p.q1 { \n",
       "    padding-top: 5px;\n",
       "    padding-bottom: 5px;\n",
       "    text-align: left; \n",
       "    padding-left: 5px;\n",
       "    background-color: #EEEEEE; \n",
       "    color: black;\n",
       "}\n",
       "header {\n",
       "   padding-top: 35px;\n",
       "    padding-bottom: 35px;\n",
       "    text-align: left; \n",
       "    padding-left: 10px;\n",
       "    background-color: #DDDDDD; \n",
       "    color: black;\n",
       "}\n",
       "</style>\n",
       "\n"
      ],
      "text/plain": [
       "<IPython.core.display.HTML object>"
      ]
     },
     "execution_count": 2,
     "metadata": {},
     "output_type": "execute_result"
    }
   ],
   "source": [
    "#RUN THIS CELL \n",
    "import requests\n",
    "from IPython.core.display import HTML\n",
    "styles = requests.get(\"https://raw.githubusercontent.com/Harvard-IACS/2018-CS109A/master/content/styles/cs109.css\").text\n",
    "HTML(styles)"
   ]
  },
  {
   "cell_type": "markdown",
   "metadata": {
    "button": false,
    "new_sheet": false,
    "run_control": {
     "read_only": false
    }
   },
   "source": [
    "### INSTRUCTIONS\n",
    "\n",
    "- To submit your assignment follow the instructions given in Canvas.\n",
    "- Restart the kernel and run the whole notebook again before you submit. \n",
    "- As much as possible, try and stick to the hints and functions we import at the top of the homework, as those are the ideas and tools the class supports and is aiming to teach. And if a problem specifies a particular library you're required to use that library, and possibly others from the import list.\n",
    "- Please use .head() when viewing data. Do not submit a notebook that is excessively long because output was not suppressed or otherwise limited. "
   ]
  },
  {
   "cell_type": "markdown",
   "metadata": {
    "button": false,
    "new_sheet": false,
    "run_control": {
     "read_only": false
    }
   },
   "source": [
    "<hr style=\"height:2pt\">"
   ]
  },
  {
   "cell_type": "markdown",
   "metadata": {
    "run_control": {}
   },
   "source": [
    "![bike_sharing](fig/BSS.png)\n",
    "\n",
    "<div class=\"theme\">  Main Theme: Multiple Linear Regression, Polynomial Regression, Ridge and Lasso Regression </div>\n",
    "### Overview \n",
    "\n",
    "You are hired by the administrators of the [Capital Bikeshare program](https://www.capitalbikeshare.com) program in Washington D.C., to **help them predict the hourly demand for rental bikes** and **give them suggestions on how to increase their revenue**. Your task is to prepare a short report summarizing your findings and make recommendations.\n",
    "\n",
    "The predicted hourly demand could be used for planning the number of bikes that need to be available in the system at any given hour of the day. It costs the program money if bike stations are full and bikes cannot be returned, or empty and there are no bikes available. You will use multiple linear regression and polynomial regression and will explore ridge and lasso regression to predict bike usage. The goal is to build a regression model that can predict the total number of bike rentals in a given hour of the day, based on all available information given to you. \n",
    "\n",
    "An example of a suggestion to increase revenue might be to offer discounts during certain times of the day either during holidays or non-holidays. Your suggestions will depend on your observations of the seasonality of ridership.\n",
    "\n",
    "The data for this problem were collected from the Capital Bikeshare program over the course of two years (2011 and 2012).\n",
    "\n"
   ]
  },
  {
   "cell_type": "markdown",
   "metadata": {
    "run_control": {}
   },
   "source": [
    "### Use only the libraries below:"
   ]
  },
  {
   "cell_type": "code",
   "execution_count": 4,
   "metadata": {
    "button": false,
    "new_sheet": false,
    "run_control": {
     "read_only": false
    }
   },
   "outputs": [],
   "source": [
    "import numpy as np\n",
    "import pandas as pd\n",
    "import matplotlib\n",
    "import matplotlib.pyplot as plt\n",
    "import seaborn as sns\n",
    "import statsmodels.api as sm\n",
    "from statsmodels.api import OLS\n",
    "\n",
    "from sklearn.model_selection import train_test_split\n",
    "from sklearn.preprocessing import PolynomialFeatures\n",
    "from sklearn.preprocessing import StandardScaler\n",
    "from sklearn.linear_model import LinearRegression\n",
    "from sklearn.linear_model import Ridge\n",
    "from sklearn.linear_model import RidgeCV\n",
    "from sklearn.linear_model import LassoCV\n",
    "from sklearn.metrics import r2_score\n",
    "\n",
    "from pandas.plotting import scatter_matrix"
   ]
  },
  {
   "cell_type": "markdown",
   "metadata": {
    "run_control": {}
   },
   "source": [
    "### Overview\n",
    "The initial data set is provided in the file `data/BSS_hour_raw.csv`. You will first add features that will help with the analysis and then separate the data into training and test sets. Each row in this file represents the number of rides by registered users and casual users in a given hour of a specific date. There are 12 attributes in total describing besides the number of users the weather if it is a holiday or not etc: \n",
    "\n",
    "\n",
    "- `dteday` (date in the format YYYY-MM-DD, e.g. 2011-01-01)\n",
    "- `season` (1 = winter, 2 = spring, 3 = summer, 4 = fall)\n",
    "- `hour` (0 for 12 midnight, 1 for 1:00am, 23 for 11:00pm)\n",
    "- `weekday` (0 through 6, with 0 denoting Sunday)\n",
    "- `holiday` (1 = the day is a holiday, 0 = otherwise)\n",
    "- `weather`\n",
    "    - 1: Clear, Few clouds, Partly cloudy, Partly cloudy\n",
    "    - 2: Mist + Cloudy, Mist + Broken clouds, Mist + Few clouds, Mist\n",
    "    - 3: Light Snow, Light Rain + Thunderstorm\n",
    "    - 4: Heavy Rain + Thunderstorm + Mist, Snow + Fog \n",
    "- `temp` (temperature in Celsius, normalized)\n",
    "- `atemp` (apparent temperature, or relative outdoor temperature, in Celsius, normalized)\n",
    "- `hum` (relative humidity, normalized)\n",
    "- `windspeed` (wind speed, normalized)\n",
    "- `casual` (number of rides that day made by casual riders, not registered in the system)\n",
    "- `registered` (number of rides that day made by registered riders)"
   ]
  },
  {
   "cell_type": "markdown",
   "metadata": {
    "button": false,
    "new_sheet": false,
    "run_control": {
     "read_only": false
    }
   },
   "source": [
    "<div class=\"exercise\"> <b> Question 1 [6pts]: Data Read-In and Processing </b> </div>\n",
    "\n",
    "In this section, we read in the data and begin one of the most important analytic steps: verifying that the data is what it claims to be.\n",
    "\n",
    "**1.1** Load the dataset from the csv file `data/BSS_hour_raw.csv` into a pandas dataframe that you name `bikes_df_raw`. Do any of the variables' ranges or averages seem suspect? Do the data types make sense?\n",
    "\n",
    "**1.2** Notice that the variable in column `dteday` is a pandas `object`, which is **not**  useful when you want to extract the elements of the date such as the year, month, and day. Convert `dteday` into a `datetime` object to prepare it for later analysis.\n",
    "\n",
    "**Hint:** http://pandas.pydata.org/pandas-docs/stable/generated/pandas.to_datetime.html\n",
    "\n",
    "**1.3** Create three new columns in the dataframe:\n",
    "- `year` with 0 for 2011, 1 for 2012, etc.\n",
    "- `month` with 1 through 12, with 1 denoting January.\n",
    "- `counts` with the total number of bike rentals for that **hour** (this is the response variable for later)."
   ]
  },
  {
   "cell_type": "markdown",
   "metadata": {
    "button": false,
    "new_sheet": false,
    "run_control": {
     "read_only": false
    }
   },
   "source": [
    "### Answers"
   ]
  },
  {
   "cell_type": "markdown",
   "metadata": {
    "button": false,
    "new_sheet": false,
    "run_control": {
     "read_only": false
    }
   },
   "source": [
    "**1.1 Load the dataset from the csv file...**"
   ]
  },
  {
   "cell_type": "code",
   "execution_count": 3,
   "metadata": {
    "button": false,
    "new_sheet": false,
    "run_control": {
     "read_only": false
    }
   },
   "outputs": [
    {
     "data": {
      "text/html": [
       "<div>\n",
       "<style scoped>\n",
       "    .dataframe tbody tr th:only-of-type {\n",
       "        vertical-align: middle;\n",
       "    }\n",
       "\n",
       "    .dataframe tbody tr th {\n",
       "        vertical-align: top;\n",
       "    }\n",
       "\n",
       "    .dataframe thead th {\n",
       "        text-align: right;\n",
       "    }\n",
       "</style>\n",
       "<table border=\"1\" class=\"dataframe\">\n",
       "  <thead>\n",
       "    <tr style=\"text-align: right;\">\n",
       "      <th></th>\n",
       "      <th>season</th>\n",
       "      <th>hour</th>\n",
       "      <th>holiday</th>\n",
       "      <th>weekday</th>\n",
       "      <th>workingday</th>\n",
       "      <th>weather</th>\n",
       "      <th>temp</th>\n",
       "      <th>atemp</th>\n",
       "      <th>hum</th>\n",
       "      <th>windspeed</th>\n",
       "      <th>casual</th>\n",
       "      <th>registered</th>\n",
       "    </tr>\n",
       "  </thead>\n",
       "  <tbody>\n",
       "    <tr>\n",
       "      <th>count</th>\n",
       "      <td>17379.000000</td>\n",
       "      <td>17379.000000</td>\n",
       "      <td>17379.000000</td>\n",
       "      <td>17379.000000</td>\n",
       "      <td>17379.000000</td>\n",
       "      <td>17379.000000</td>\n",
       "      <td>17379.000000</td>\n",
       "      <td>17379.000000</td>\n",
       "      <td>17379.000000</td>\n",
       "      <td>17379.000000</td>\n",
       "      <td>17379.000000</td>\n",
       "      <td>17379.000000</td>\n",
       "    </tr>\n",
       "    <tr>\n",
       "      <th>mean</th>\n",
       "      <td>2.501640</td>\n",
       "      <td>11.546752</td>\n",
       "      <td>0.028770</td>\n",
       "      <td>3.003683</td>\n",
       "      <td>0.682721</td>\n",
       "      <td>1.425283</td>\n",
       "      <td>0.496987</td>\n",
       "      <td>0.475775</td>\n",
       "      <td>0.627229</td>\n",
       "      <td>0.190098</td>\n",
       "      <td>35.676218</td>\n",
       "      <td>153.786869</td>\n",
       "    </tr>\n",
       "    <tr>\n",
       "      <th>std</th>\n",
       "      <td>1.106918</td>\n",
       "      <td>6.914405</td>\n",
       "      <td>0.167165</td>\n",
       "      <td>2.005771</td>\n",
       "      <td>0.465431</td>\n",
       "      <td>0.639357</td>\n",
       "      <td>0.192556</td>\n",
       "      <td>0.171850</td>\n",
       "      <td>0.192930</td>\n",
       "      <td>0.122340</td>\n",
       "      <td>49.305030</td>\n",
       "      <td>151.357286</td>\n",
       "    </tr>\n",
       "    <tr>\n",
       "      <th>min</th>\n",
       "      <td>1.000000</td>\n",
       "      <td>0.000000</td>\n",
       "      <td>0.000000</td>\n",
       "      <td>0.000000</td>\n",
       "      <td>0.000000</td>\n",
       "      <td>1.000000</td>\n",
       "      <td>0.020000</td>\n",
       "      <td>0.000000</td>\n",
       "      <td>0.000000</td>\n",
       "      <td>0.000000</td>\n",
       "      <td>0.000000</td>\n",
       "      <td>0.000000</td>\n",
       "    </tr>\n",
       "    <tr>\n",
       "      <th>25%</th>\n",
       "      <td>2.000000</td>\n",
       "      <td>6.000000</td>\n",
       "      <td>0.000000</td>\n",
       "      <td>1.000000</td>\n",
       "      <td>0.000000</td>\n",
       "      <td>1.000000</td>\n",
       "      <td>0.340000</td>\n",
       "      <td>0.333300</td>\n",
       "      <td>0.480000</td>\n",
       "      <td>0.104500</td>\n",
       "      <td>4.000000</td>\n",
       "      <td>34.000000</td>\n",
       "    </tr>\n",
       "    <tr>\n",
       "      <th>50%</th>\n",
       "      <td>3.000000</td>\n",
       "      <td>12.000000</td>\n",
       "      <td>0.000000</td>\n",
       "      <td>3.000000</td>\n",
       "      <td>1.000000</td>\n",
       "      <td>1.000000</td>\n",
       "      <td>0.500000</td>\n",
       "      <td>0.484800</td>\n",
       "      <td>0.630000</td>\n",
       "      <td>0.194000</td>\n",
       "      <td>17.000000</td>\n",
       "      <td>115.000000</td>\n",
       "    </tr>\n",
       "    <tr>\n",
       "      <th>75%</th>\n",
       "      <td>3.000000</td>\n",
       "      <td>18.000000</td>\n",
       "      <td>0.000000</td>\n",
       "      <td>5.000000</td>\n",
       "      <td>1.000000</td>\n",
       "      <td>2.000000</td>\n",
       "      <td>0.660000</td>\n",
       "      <td>0.621200</td>\n",
       "      <td>0.780000</td>\n",
       "      <td>0.253700</td>\n",
       "      <td>48.000000</td>\n",
       "      <td>220.000000</td>\n",
       "    </tr>\n",
       "    <tr>\n",
       "      <th>max</th>\n",
       "      <td>4.000000</td>\n",
       "      <td>23.000000</td>\n",
       "      <td>1.000000</td>\n",
       "      <td>6.000000</td>\n",
       "      <td>1.000000</td>\n",
       "      <td>4.000000</td>\n",
       "      <td>1.000000</td>\n",
       "      <td>1.000000</td>\n",
       "      <td>1.000000</td>\n",
       "      <td>0.850700</td>\n",
       "      <td>367.000000</td>\n",
       "      <td>886.000000</td>\n",
       "    </tr>\n",
       "  </tbody>\n",
       "</table>\n",
       "</div>"
      ],
      "text/plain": [
       "             season          hour       holiday       weekday    workingday  \\\n",
       "count  17379.000000  17379.000000  17379.000000  17379.000000  17379.000000   \n",
       "mean       2.501640     11.546752      0.028770      3.003683      0.682721   \n",
       "std        1.106918      6.914405      0.167165      2.005771      0.465431   \n",
       "min        1.000000      0.000000      0.000000      0.000000      0.000000   \n",
       "25%        2.000000      6.000000      0.000000      1.000000      0.000000   \n",
       "50%        3.000000     12.000000      0.000000      3.000000      1.000000   \n",
       "75%        3.000000     18.000000      0.000000      5.000000      1.000000   \n",
       "max        4.000000     23.000000      1.000000      6.000000      1.000000   \n",
       "\n",
       "            weather          temp         atemp           hum     windspeed  \\\n",
       "count  17379.000000  17379.000000  17379.000000  17379.000000  17379.000000   \n",
       "mean       1.425283      0.496987      0.475775      0.627229      0.190098   \n",
       "std        0.639357      0.192556      0.171850      0.192930      0.122340   \n",
       "min        1.000000      0.020000      0.000000      0.000000      0.000000   \n",
       "25%        1.000000      0.340000      0.333300      0.480000      0.104500   \n",
       "50%        1.000000      0.500000      0.484800      0.630000      0.194000   \n",
       "75%        2.000000      0.660000      0.621200      0.780000      0.253700   \n",
       "max        4.000000      1.000000      1.000000      1.000000      0.850700   \n",
       "\n",
       "             casual    registered  \n",
       "count  17379.000000  17379.000000  \n",
       "mean      35.676218    153.786869  \n",
       "std       49.305030    151.357286  \n",
       "min        0.000000      0.000000  \n",
       "25%        4.000000     34.000000  \n",
       "50%       17.000000    115.000000  \n",
       "75%       48.000000    220.000000  \n",
       "max      367.000000    886.000000  "
      ]
     },
     "execution_count": 3,
     "metadata": {},
     "output_type": "execute_result"
    }
   ],
   "source": [
    "bikes_df_raw = pd.read_csv('data/BSS_hour_raw.csv')\n",
    "bikes_df_raw.describe()"
   ]
  },
  {
   "cell_type": "code",
   "execution_count": 4,
   "metadata": {},
   "outputs": [
    {
     "data": {
      "text/plain": [
       "dteday         object\n",
       "season          int64\n",
       "hour            int64\n",
       "holiday         int64\n",
       "weekday         int64\n",
       "workingday      int64\n",
       "weather         int64\n",
       "temp          float64\n",
       "atemp         float64\n",
       "hum           float64\n",
       "windspeed     float64\n",
       "casual          int64\n",
       "registered      int64\n",
       "dtype: object"
      ]
     },
     "execution_count": 4,
     "metadata": {},
     "output_type": "execute_result"
    }
   ],
   "source": [
    "# Show datatypes\n",
    "bikes_df_raw.dtypes"
   ]
  },
  {
   "cell_type": "markdown",
   "metadata": {
    "button": false,
    "new_sheet": false,
    "run_control": {
     "read_only": false
    }
   },
   "source": [
    "Most of the variables seem to have appropriate means and ranges. However, the maximum of windspeed is 0.85 when the windspeed variable is supposed to be normalized, meaning that the maximum windspeed value should be 1. Also, the minimum value for temperature is 0.02 when it should be 1 since the variable is normalized.\n",
    "\n",
    "Also, although the ranges for the number of rides per hour by causal and registered users are quite large at 0 to 367 and 0 to 886, respectively, these ranges are plausible because the registered users still have a much larger maximum (886) and average (154) number of rides per hour compared to causal users (maximum of 367 and average of 36 rides). It is noteworthy that the mean is not in the center of the range for the variables causal and registered. It is possible (but not guarenteed) that there are high outliers with large positive values for causal and registered influencing the range of these variables.\n",
    "\n",
    "It is also noteworthy that workingday is provided as a variable in the dataset but is not described in the overview section of the problem. The variable dteday is not included in the \"describe\" table because it is an object that is not currently amenable to the .describe method for dataframes.\n",
    "\n",
    "The datatypes appear to be appropirate as well, since all the categorical variables are integers while continuous variables are floats. The variable dteday is a pandas object (showing a date as YYYY-MM-DD), which may not be useful for analysis but does confirm that the data are provided in a way that is consistent with how they are described. The variables temp, atemp, hum, and windspeed are all normalized so they ought to be floats as shown. "
   ]
  },
  {
   "cell_type": "markdown",
   "metadata": {
    "button": false,
    "new_sheet": false,
    "run_control": {
     "read_only": false
    }
   },
   "source": [
    "**1.2 Notice that the variable in column...**"
   ]
  },
  {
   "cell_type": "code",
   "execution_count": 5,
   "metadata": {
    "button": false,
    "new_sheet": false,
    "run_control": {
     "read_only": false
    }
   },
   "outputs": [
    {
     "data": {
      "text/html": [
       "<div>\n",
       "<style scoped>\n",
       "    .dataframe tbody tr th:only-of-type {\n",
       "        vertical-align: middle;\n",
       "    }\n",
       "\n",
       "    .dataframe tbody tr th {\n",
       "        vertical-align: top;\n",
       "    }\n",
       "\n",
       "    .dataframe thead th {\n",
       "        text-align: right;\n",
       "    }\n",
       "</style>\n",
       "<table border=\"1\" class=\"dataframe\">\n",
       "  <thead>\n",
       "    <tr style=\"text-align: right;\">\n",
       "      <th></th>\n",
       "      <th>dteday</th>\n",
       "      <th>season</th>\n",
       "      <th>hour</th>\n",
       "      <th>holiday</th>\n",
       "      <th>weekday</th>\n",
       "      <th>workingday</th>\n",
       "      <th>weather</th>\n",
       "      <th>temp</th>\n",
       "      <th>atemp</th>\n",
       "      <th>hum</th>\n",
       "      <th>windspeed</th>\n",
       "      <th>casual</th>\n",
       "      <th>registered</th>\n",
       "    </tr>\n",
       "  </thead>\n",
       "  <tbody>\n",
       "    <tr>\n",
       "      <th>0</th>\n",
       "      <td>2011-01-01</td>\n",
       "      <td>1</td>\n",
       "      <td>0</td>\n",
       "      <td>0</td>\n",
       "      <td>6</td>\n",
       "      <td>0</td>\n",
       "      <td>1</td>\n",
       "      <td>0.24</td>\n",
       "      <td>0.2879</td>\n",
       "      <td>0.81</td>\n",
       "      <td>0.0</td>\n",
       "      <td>3</td>\n",
       "      <td>13</td>\n",
       "    </tr>\n",
       "    <tr>\n",
       "      <th>1</th>\n",
       "      <td>2011-01-01</td>\n",
       "      <td>1</td>\n",
       "      <td>1</td>\n",
       "      <td>0</td>\n",
       "      <td>6</td>\n",
       "      <td>0</td>\n",
       "      <td>1</td>\n",
       "      <td>0.22</td>\n",
       "      <td>0.2727</td>\n",
       "      <td>0.80</td>\n",
       "      <td>0.0</td>\n",
       "      <td>8</td>\n",
       "      <td>32</td>\n",
       "    </tr>\n",
       "    <tr>\n",
       "      <th>2</th>\n",
       "      <td>2011-01-01</td>\n",
       "      <td>1</td>\n",
       "      <td>2</td>\n",
       "      <td>0</td>\n",
       "      <td>6</td>\n",
       "      <td>0</td>\n",
       "      <td>1</td>\n",
       "      <td>0.22</td>\n",
       "      <td>0.2727</td>\n",
       "      <td>0.80</td>\n",
       "      <td>0.0</td>\n",
       "      <td>5</td>\n",
       "      <td>27</td>\n",
       "    </tr>\n",
       "    <tr>\n",
       "      <th>3</th>\n",
       "      <td>2011-01-01</td>\n",
       "      <td>1</td>\n",
       "      <td>3</td>\n",
       "      <td>0</td>\n",
       "      <td>6</td>\n",
       "      <td>0</td>\n",
       "      <td>1</td>\n",
       "      <td>0.24</td>\n",
       "      <td>0.2879</td>\n",
       "      <td>0.75</td>\n",
       "      <td>0.0</td>\n",
       "      <td>3</td>\n",
       "      <td>10</td>\n",
       "    </tr>\n",
       "    <tr>\n",
       "      <th>4</th>\n",
       "      <td>2011-01-01</td>\n",
       "      <td>1</td>\n",
       "      <td>4</td>\n",
       "      <td>0</td>\n",
       "      <td>6</td>\n",
       "      <td>0</td>\n",
       "      <td>1</td>\n",
       "      <td>0.24</td>\n",
       "      <td>0.2879</td>\n",
       "      <td>0.75</td>\n",
       "      <td>0.0</td>\n",
       "      <td>0</td>\n",
       "      <td>1</td>\n",
       "    </tr>\n",
       "  </tbody>\n",
       "</table>\n",
       "</div>"
      ],
      "text/plain": [
       "      dteday  season  hour  holiday  weekday  workingday  weather  temp  \\\n",
       "0 2011-01-01       1     0        0        6           0        1  0.24   \n",
       "1 2011-01-01       1     1        0        6           0        1  0.22   \n",
       "2 2011-01-01       1     2        0        6           0        1  0.22   \n",
       "3 2011-01-01       1     3        0        6           0        1  0.24   \n",
       "4 2011-01-01       1     4        0        6           0        1  0.24   \n",
       "\n",
       "    atemp   hum  windspeed  casual  registered  \n",
       "0  0.2879  0.81        0.0       3          13  \n",
       "1  0.2727  0.80        0.0       8          32  \n",
       "2  0.2727  0.80        0.0       5          27  \n",
       "3  0.2879  0.75        0.0       3          10  \n",
       "4  0.2879  0.75        0.0       0           1  "
      ]
     },
     "execution_count": 5,
     "metadata": {},
     "output_type": "execute_result"
    }
   ],
   "source": [
    "# Convert dteday to datetime object\n",
    "bikes_df_raw['dteday'] = pd.to_datetime(bikes_df_raw['dteday'])\n",
    "bikes_df_raw.head()"
   ]
  },
  {
   "cell_type": "markdown",
   "metadata": {
    "button": false,
    "new_sheet": false,
    "run_control": {
     "read_only": false
    }
   },
   "source": [
    "**1.3 Create three new columns in the dataframe:...**"
   ]
  },
  {
   "cell_type": "code",
   "execution_count": 6,
   "metadata": {
    "button": false,
    "new_sheet": false,
    "run_control": {
     "read_only": false
    }
   },
   "outputs": [
    {
     "data": {
      "text/html": [
       "<div>\n",
       "<style scoped>\n",
       "    .dataframe tbody tr th:only-of-type {\n",
       "        vertical-align: middle;\n",
       "    }\n",
       "\n",
       "    .dataframe tbody tr th {\n",
       "        vertical-align: top;\n",
       "    }\n",
       "\n",
       "    .dataframe thead th {\n",
       "        text-align: right;\n",
       "    }\n",
       "</style>\n",
       "<table border=\"1\" class=\"dataframe\">\n",
       "  <thead>\n",
       "    <tr style=\"text-align: right;\">\n",
       "      <th></th>\n",
       "      <th>dteday</th>\n",
       "      <th>season</th>\n",
       "      <th>hour</th>\n",
       "      <th>holiday</th>\n",
       "      <th>weekday</th>\n",
       "      <th>workingday</th>\n",
       "      <th>weather</th>\n",
       "      <th>temp</th>\n",
       "      <th>atemp</th>\n",
       "      <th>hum</th>\n",
       "      <th>windspeed</th>\n",
       "      <th>casual</th>\n",
       "      <th>registered</th>\n",
       "      <th>year</th>\n",
       "      <th>month</th>\n",
       "      <th>counts</th>\n",
       "    </tr>\n",
       "  </thead>\n",
       "  <tbody>\n",
       "    <tr>\n",
       "      <th>0</th>\n",
       "      <td>2011-01-01</td>\n",
       "      <td>1</td>\n",
       "      <td>0</td>\n",
       "      <td>0</td>\n",
       "      <td>6</td>\n",
       "      <td>0</td>\n",
       "      <td>1</td>\n",
       "      <td>0.24</td>\n",
       "      <td>0.2879</td>\n",
       "      <td>0.81</td>\n",
       "      <td>0.0</td>\n",
       "      <td>3</td>\n",
       "      <td>13</td>\n",
       "      <td>0</td>\n",
       "      <td>1</td>\n",
       "      <td>16</td>\n",
       "    </tr>\n",
       "    <tr>\n",
       "      <th>1</th>\n",
       "      <td>2011-01-01</td>\n",
       "      <td>1</td>\n",
       "      <td>1</td>\n",
       "      <td>0</td>\n",
       "      <td>6</td>\n",
       "      <td>0</td>\n",
       "      <td>1</td>\n",
       "      <td>0.22</td>\n",
       "      <td>0.2727</td>\n",
       "      <td>0.80</td>\n",
       "      <td>0.0</td>\n",
       "      <td>8</td>\n",
       "      <td>32</td>\n",
       "      <td>0</td>\n",
       "      <td>1</td>\n",
       "      <td>40</td>\n",
       "    </tr>\n",
       "    <tr>\n",
       "      <th>2</th>\n",
       "      <td>2011-01-01</td>\n",
       "      <td>1</td>\n",
       "      <td>2</td>\n",
       "      <td>0</td>\n",
       "      <td>6</td>\n",
       "      <td>0</td>\n",
       "      <td>1</td>\n",
       "      <td>0.22</td>\n",
       "      <td>0.2727</td>\n",
       "      <td>0.80</td>\n",
       "      <td>0.0</td>\n",
       "      <td>5</td>\n",
       "      <td>27</td>\n",
       "      <td>0</td>\n",
       "      <td>1</td>\n",
       "      <td>32</td>\n",
       "    </tr>\n",
       "    <tr>\n",
       "      <th>3</th>\n",
       "      <td>2011-01-01</td>\n",
       "      <td>1</td>\n",
       "      <td>3</td>\n",
       "      <td>0</td>\n",
       "      <td>6</td>\n",
       "      <td>0</td>\n",
       "      <td>1</td>\n",
       "      <td>0.24</td>\n",
       "      <td>0.2879</td>\n",
       "      <td>0.75</td>\n",
       "      <td>0.0</td>\n",
       "      <td>3</td>\n",
       "      <td>10</td>\n",
       "      <td>0</td>\n",
       "      <td>1</td>\n",
       "      <td>13</td>\n",
       "    </tr>\n",
       "    <tr>\n",
       "      <th>4</th>\n",
       "      <td>2011-01-01</td>\n",
       "      <td>1</td>\n",
       "      <td>4</td>\n",
       "      <td>0</td>\n",
       "      <td>6</td>\n",
       "      <td>0</td>\n",
       "      <td>1</td>\n",
       "      <td>0.24</td>\n",
       "      <td>0.2879</td>\n",
       "      <td>0.75</td>\n",
       "      <td>0.0</td>\n",
       "      <td>0</td>\n",
       "      <td>1</td>\n",
       "      <td>0</td>\n",
       "      <td>1</td>\n",
       "      <td>1</td>\n",
       "    </tr>\n",
       "  </tbody>\n",
       "</table>\n",
       "</div>"
      ],
      "text/plain": [
       "      dteday  season  hour  holiday  weekday  workingday  weather  temp  \\\n",
       "0 2011-01-01       1     0        0        6           0        1  0.24   \n",
       "1 2011-01-01       1     1        0        6           0        1  0.22   \n",
       "2 2011-01-01       1     2        0        6           0        1  0.22   \n",
       "3 2011-01-01       1     3        0        6           0        1  0.24   \n",
       "4 2011-01-01       1     4        0        6           0        1  0.24   \n",
       "\n",
       "    atemp   hum  windspeed  casual  registered  year  month  counts  \n",
       "0  0.2879  0.81        0.0       3          13     0      1      16  \n",
       "1  0.2727  0.80        0.0       8          32     0      1      40  \n",
       "2  0.2727  0.80        0.0       5          27     0      1      32  \n",
       "3  0.2879  0.75        0.0       3          10     0      1      13  \n",
       "4  0.2879  0.75        0.0       0           1     0      1       1  "
      ]
     },
     "execution_count": 6,
     "metadata": {},
     "output_type": "execute_result"
    }
   ],
   "source": [
    "# Modifying year and month columns, creating Counts column summing casual and registered\n",
    "bikes_df_raw['year'] = pd.DatetimeIndex(bikes_df_raw['dteday']).year - 2011\n",
    "bikes_df_raw['month'] = pd.DatetimeIndex(bikes_df_raw['dteday']).month\n",
    "bikes_df_raw['counts'] = bikes_df_raw['casual'] + bikes_df_raw['registered']\n",
    "bikes_df_raw.head()"
   ]
  },
  {
   "cell_type": "markdown",
   "metadata": {},
   "source": [
    "---"
   ]
  },
  {
   "cell_type": "markdown",
   "metadata": {
    "button": false,
    "new_sheet": false,
    "run_control": {
     "read_only": false
    }
   },
   "source": [
    "<div class='exercise'> <b> Question 2 [20 pts]: Exploratory Data Analysis. </b></div>\n",
    "\n",
    "In this question we begin hunting for patterns in ridership that shed light on who uses the service and why.\n",
    "\n",
    "**2.1** Make a new dataframe with the following subset of attributes from the previous dataset and with each entry being just **one** day: \n",
    "\n",
    "- `dteday`, the timestamp for that day (fine to set to noon or any other time) \n",
    "- `weekday`, the day of the week\n",
    "- `weather`, the most severe weather that day\n",
    "- `season`, the season that day falls in\n",
    "- `temp`, the average temperature\n",
    "- `atemp`, the average atemp that day\n",
    "- `windspeed`, the average windspeed that day\n",
    "- `hum`, the average humidity that day\n",
    "- `casual`, the **total** number of rentals by casual users\n",
    "- `registered`, the **total** number of rentals by registered users\n",
    "- `counts`, the **total** number of rentals of that day\n",
    "\n",
    "Name this dataframe `bikes_by_day`.\n",
    "\n",
    "Make a plot showing  the _distribution_ of the number of casual and registered riders on each day of the week.\n",
    "\n",
    "**Hint:** helpful to use panda's `.groupby()` command\n",
    "\n",
    "**2.2** Use `bikes_by_day` to visualize how the distribution of **total number of rides** per day (casual and registered riders combined) varies with the **season**. Do you see any **outliers**? Here we use the pyplot's boxplot function definition of an outlier as any value 1.5 times the IQR above the 75th percentile or 1.5 times the IQR below the 25th percentiles. If you see any outliers, identify those dates and investigate if they are a chance occurence, an error in the data collection, or a significant event (an online search of those date(s) might help). \n",
    "\n",
    "**2.3** Convert the categorical attributes ('season', 'month', 'weekday', 'weather') into multiple binary attributes using **one-hot encoding** and call this new dataframe `bikes_df`.\n",
    "\n",
    "**2.4** Split the updated `bikes_df` dataset into a 50-50 train-test split (call them `bikes_train` and `bikes_test`, respectively). Do this in a 'stratified' fashion, ensuring that all months are equally represented in each set.  Use `random_state=90`, a test set size of .5, and stratify on month.  Remember to specify the data's index column as you read it in.\n",
    "\n",
    "**2.5** Although we asked you to create your train and test set, for consistency and easy checking, we ask that for the rest of this problem set you use the train and test set provided in the files `data/BSS_train.csv` and `data/BSS_test.csv`. Read these two files into dataframes `BSS_train` and `BSS_test`, respectively. Remove the `dteday` column from both the train and the test dataset (its format cannot be used for analysis). \n",
    "\n",
    "**2.6** Use pandas' `scatter_matrix` command to visualize the inter-dependencies among the list of predictors listed below in the training dataset. Note and comment on any strongly related variables. [This may take a few minutes to run. You may wish to comment it out until your final submission, or only plot a randomly-selected 10% of the rows]\n",
    "\n",
    "`cor_columns = ['hour', 'holiday', 'temp', 'atemp', \n",
    "               'workingday', 'hum', 'windspeed', \n",
    "               'counts', 'casual', 'registered',\n",
    "               'fall', 'summer', 'spring', \n",
    "               'Snow', 'Storm', 'Cloudy']`\n",
    "\n",
    "**2.7** Make a plot showing the _average_ number of casual and registered riders during each hour of the day. `.groupby` and `.aggregate` should make this task easy. Comment on the trends you observe. \n",
    "\n",
    "**2.8** Use the one-hot-encoded `weather` related variables to show how each weather category affects the relationships in question 2.7.  Remember you should have four plots, one for each weather type (Cloudy, Storm, Snow, and Clear), even though there are only three columns related to weather after one-hot-encoding. What do you observe?"
   ]
  },
  {
   "cell_type": "markdown",
   "metadata": {
    "button": false,
    "new_sheet": false,
    "run_control": {
     "read_only": false
    }
   },
   "source": [
    "### Answers"
   ]
  },
  {
   "cell_type": "markdown",
   "metadata": {
    "button": false,
    "new_sheet": false,
    "run_control": {
     "read_only": false
    }
   },
   "source": [
    "**2.1 Make a new dataframe...**"
   ]
  },
  {
   "cell_type": "code",
   "execution_count": 7,
   "metadata": {
    "button": false,
    "new_sheet": false,
    "run_control": {
     "read_only": false
    }
   },
   "outputs": [
    {
     "data": {
      "text/html": [
       "<div>\n",
       "<style scoped>\n",
       "    .dataframe tbody tr th:only-of-type {\n",
       "        vertical-align: middle;\n",
       "    }\n",
       "\n",
       "    .dataframe tbody tr th {\n",
       "        vertical-align: top;\n",
       "    }\n",
       "\n",
       "    .dataframe thead th {\n",
       "        text-align: right;\n",
       "    }\n",
       "</style>\n",
       "<table border=\"1\" class=\"dataframe\">\n",
       "  <thead>\n",
       "    <tr style=\"text-align: right;\">\n",
       "      <th></th>\n",
       "      <th>month</th>\n",
       "      <th>weekday</th>\n",
       "      <th>weather</th>\n",
       "      <th>season</th>\n",
       "      <th>temp</th>\n",
       "      <th>atemp</th>\n",
       "      <th>windspeed</th>\n",
       "      <th>hum</th>\n",
       "      <th>casual</th>\n",
       "      <th>registered</th>\n",
       "      <th>counts</th>\n",
       "    </tr>\n",
       "    <tr>\n",
       "      <th>dteday</th>\n",
       "      <th></th>\n",
       "      <th></th>\n",
       "      <th></th>\n",
       "      <th></th>\n",
       "      <th></th>\n",
       "      <th></th>\n",
       "      <th></th>\n",
       "      <th></th>\n",
       "      <th></th>\n",
       "      <th></th>\n",
       "      <th></th>\n",
       "    </tr>\n",
       "  </thead>\n",
       "  <tbody>\n",
       "    <tr>\n",
       "      <th>2011-01-01</th>\n",
       "      <td>1.0</td>\n",
       "      <td>6.0</td>\n",
       "      <td>3.0</td>\n",
       "      <td>1.0</td>\n",
       "      <td>0.344167</td>\n",
       "      <td>0.363625</td>\n",
       "      <td>0.160446</td>\n",
       "      <td>0.805833</td>\n",
       "      <td>331.0</td>\n",
       "      <td>654.0</td>\n",
       "      <td>985.0</td>\n",
       "    </tr>\n",
       "    <tr>\n",
       "      <th>2011-01-02</th>\n",
       "      <td>1.0</td>\n",
       "      <td>0.0</td>\n",
       "      <td>3.0</td>\n",
       "      <td>1.0</td>\n",
       "      <td>0.363478</td>\n",
       "      <td>0.353739</td>\n",
       "      <td>0.248539</td>\n",
       "      <td>0.696087</td>\n",
       "      <td>131.0</td>\n",
       "      <td>670.0</td>\n",
       "      <td>801.0</td>\n",
       "    </tr>\n",
       "    <tr>\n",
       "      <th>2011-01-03</th>\n",
       "      <td>1.0</td>\n",
       "      <td>1.0</td>\n",
       "      <td>1.0</td>\n",
       "      <td>1.0</td>\n",
       "      <td>0.196364</td>\n",
       "      <td>0.189405</td>\n",
       "      <td>0.248309</td>\n",
       "      <td>0.437273</td>\n",
       "      <td>120.0</td>\n",
       "      <td>1229.0</td>\n",
       "      <td>1349.0</td>\n",
       "    </tr>\n",
       "    <tr>\n",
       "      <th>2011-01-04</th>\n",
       "      <td>1.0</td>\n",
       "      <td>2.0</td>\n",
       "      <td>2.0</td>\n",
       "      <td>1.0</td>\n",
       "      <td>0.200000</td>\n",
       "      <td>0.212122</td>\n",
       "      <td>0.160296</td>\n",
       "      <td>0.590435</td>\n",
       "      <td>108.0</td>\n",
       "      <td>1454.0</td>\n",
       "      <td>1562.0</td>\n",
       "    </tr>\n",
       "    <tr>\n",
       "      <th>2011-01-05</th>\n",
       "      <td>1.0</td>\n",
       "      <td>3.0</td>\n",
       "      <td>1.0</td>\n",
       "      <td>1.0</td>\n",
       "      <td>0.226957</td>\n",
       "      <td>0.229270</td>\n",
       "      <td>0.186900</td>\n",
       "      <td>0.436957</td>\n",
       "      <td>82.0</td>\n",
       "      <td>1518.0</td>\n",
       "      <td>1600.0</td>\n",
       "    </tr>\n",
       "  </tbody>\n",
       "</table>\n",
       "</div>"
      ],
      "text/plain": [
       "            month  weekday  weather  season      temp     atemp  windspeed  \\\n",
       "dteday                                                                       \n",
       "2011-01-01    1.0      6.0      3.0     1.0  0.344167  0.363625   0.160446   \n",
       "2011-01-02    1.0      0.0      3.0     1.0  0.363478  0.353739   0.248539   \n",
       "2011-01-03    1.0      1.0      1.0     1.0  0.196364  0.189405   0.248309   \n",
       "2011-01-04    1.0      2.0      2.0     1.0  0.200000  0.212122   0.160296   \n",
       "2011-01-05    1.0      3.0      1.0     1.0  0.226957  0.229270   0.186900   \n",
       "\n",
       "                 hum  casual  registered  counts  \n",
       "dteday                                            \n",
       "2011-01-01  0.805833   331.0       654.0   985.0  \n",
       "2011-01-02  0.696087   131.0       670.0   801.0  \n",
       "2011-01-03  0.437273   120.0      1229.0  1349.0  \n",
       "2011-01-04  0.590435   108.0      1454.0  1562.0  \n",
       "2011-01-05  0.436957    82.0      1518.0  1600.0  "
      ]
     },
     "execution_count": 7,
     "metadata": {},
     "output_type": "execute_result"
    }
   ],
   "source": [
    "# Defining functions to apply to columns\n",
    "def f(x):\n",
    "    d = {}\n",
    "    d['month'] = x['month'].max()\n",
    "    d['weekday'] = x['weekday'].max()\n",
    "    d['weather'] = x['weather'].max()\n",
    "    d['season'] = x['season'].max()\n",
    "    d['temp'] = x['temp'].mean()\n",
    "    d['atemp'] = x['atemp'].mean()\n",
    "    d['windspeed'] = x['windspeed'].mean()\n",
    "    d['hum'] = x['hum'].mean()\n",
    "    d['casual'] = x['casual'].sum()\n",
    "    d['registered'] = x['registered'].sum()\n",
    "    d['counts'] = x['counts'].sum()\n",
    "    return pd.Series(d, index=['month','weekday', 'weather', 'season', 'temp', 'atemp', 'windspeed', 'hum', 'casual', 'registered', 'counts'])\n",
    "\n",
    "# Grouping by dteday and applying functions to columns\n",
    "bikes_by_day = bikes_df_raw.groupby('dteday').apply(f)\n",
    "bikes_by_day.head()"
   ]
  },
  {
   "cell_type": "code",
   "execution_count": 8,
   "metadata": {},
   "outputs": [
    {
     "name": "stderr",
     "output_type": "stream",
     "text": [
      "/Users/williamdrew/anaconda3/lib/python3.6/site-packages/scipy/stats/stats.py:1706: FutureWarning: Using a non-tuple sequence for multidimensional indexing is deprecated; use `arr[tuple(seq)]` instead of `arr[seq]`. In the future this will be interpreted as an array index, `arr[np.array(seq)]`, which will result either in an error or a different result.\n",
      "  return np.add.reduce(sorted[indexer] * weights, axis=axis) / sumval\n"
     ]
    },
    {
     "data": {
      "image/png": "[encoded data removed]",
      "text/plain": [
       "<Figure size 432x288 with 1 Axes>"
      ]
     },
     "metadata": {},
     "output_type": "display_data"
    }
   ],
   "source": [
    "# Plotting violinplots of casual riders\n",
    "ax = sns.violinplot(x=\"weekday\", y=\"casual\", data=bikes_by_day);\n",
    "ax.set_title('Distrbutions of bike rentals by casual users during the week');\n",
    "ax.set_xticklabels(['Sun', 'Mon', 'Tue', 'Wed', 'Thu', 'Fri', 'Sat']);"
   ]
  },
  {
   "cell_type": "code",
   "execution_count": 9,
   "metadata": {},
   "outputs": [
    {
     "name": "stderr",
     "output_type": "stream",
     "text": [
      "/Users/williamdrew/anaconda3/lib/python3.6/site-packages/scipy/stats/stats.py:1706: FutureWarning: Using a non-tuple sequence for multidimensional indexing is deprecated; use `arr[tuple(seq)]` instead of `arr[seq]`. In the future this will be interpreted as an array index, `arr[np.array(seq)]`, which will result either in an error or a different result.\n",
      "  return np.add.reduce(sorted[indexer] * weights, axis=axis) / sumval\n"
     ]
    },
    {
     "data": {
      "image/png": "[encoded data removed]",
      "text/plain": [
       "<Figure size 432x288 with 1 Axes>"
      ]
     },
     "metadata": {},
     "output_type": "display_data"
    }
   ],
   "source": [
    "# Plotting violinplots of registered riders\n",
    "ax = sns.violinplot(x=\"weekday\", y=\"registered\", data=bikes_by_day);\n",
    "ax.set_title('Distrbutions of bike rentals by registered users during the week');\n",
    "ax.set_xticklabels(['Sun', 'Mon', 'Tue', 'Wed', 'Thu', 'Fri', 'Sat']);"
   ]
  },
  {
   "cell_type": "markdown",
   "metadata": {
    "button": false,
    "new_sheet": false,
    "run_control": {
     "read_only": false
    }
   },
   "source": [
    "**2.2 Use `bikes_by_day` to visualize how the distribution...**"
   ]
  },
  {
   "cell_type": "code",
   "execution_count": 10,
   "metadata": {},
   "outputs": [
    {
     "data": {
      "image/png": "[encoded data removed]",
      "text/plain": [
       "<Figure size 864x432 with 1 Axes>"
      ]
     },
     "metadata": {},
     "output_type": "display_data"
    }
   ],
   "source": [
    "# Plot boxplots of riders per season, shows outliers\n",
    "fig, ax = plt.subplots(figsize=(12,6));\n",
    "sns.boxplot(x=\"season\", y=\"counts\", data=bikes_by_day);\n",
    "ax.set_title('Distribution of total number of bikes rented per day across seasons');\n",
    "ax.set_xticklabels(['winter', 'spring', 'summer', 'fall']);\n",
    "ax.set_ylabel('counts of bikes per day');"
   ]
  },
  {
   "cell_type": "code",
   "execution_count": 11,
   "metadata": {},
   "outputs": [
    {
     "name": "stdout",
     "output_type": "stream",
     "text": [
      "THIS IS THE HIGH OUTLIER IN THE WINTER\n"
     ]
    },
    {
     "data": {
      "text/plain": [
       "Timestamp('2012-03-17 00:00:00')"
      ]
     },
     "metadata": {},
     "output_type": "display_data"
    },
    {
     "data": {
      "text/plain": [
       "month            3.000000\n",
       "weekday          6.000000\n",
       "weather          2.000000\n",
       "season           1.000000\n",
       "temp             0.514167\n",
       "atemp            0.505046\n",
       "windspeed        0.110704\n",
       "hum              0.755833\n",
       "casual        3155.000000\n",
       "registered    4681.000000\n",
       "counts        7836.000000\n",
       "Name: 2012-03-17 00:00:00, dtype: float64"
      ]
     },
     "metadata": {},
     "output_type": "display_data"
    }
   ],
   "source": [
    "# find the high outlier in the winter\n",
    "index_max = bikes_by_day[bikes_by_day['season']==1]['counts'].idxmax()\n",
    "print(\"THIS IS THE HIGH OUTLIER IN THE WINTER\")\n",
    "display(index_max)\n",
    "display(bikes_by_day.loc[index_max, :])"
   ]
  },
  {
   "cell_type": "code",
   "execution_count": 12,
   "metadata": {},
   "outputs": [
    {
     "name": "stdout",
     "output_type": "stream",
     "text": [
      "THIS IS THE LOW OUTLIER IN THE FALL\n"
     ]
    },
    {
     "data": {
      "text/plain": [
       "Timestamp('2012-10-29 00:00:00')"
      ]
     },
     "metadata": {},
     "output_type": "display_data"
    },
    {
     "data": {
      "text/plain": [
       "month         10.0000\n",
       "weekday        1.0000\n",
       "weather        3.0000\n",
       "season         4.0000\n",
       "temp           0.4400\n",
       "atemp          0.4394\n",
       "windspeed      0.3582\n",
       "hum            0.8800\n",
       "casual         2.0000\n",
       "registered    20.0000\n",
       "counts        22.0000\n",
       "Name: 2012-10-29 00:00:00, dtype: float64"
      ]
     },
     "metadata": {},
     "output_type": "display_data"
    }
   ],
   "source": [
    "# find the low outlier in the fall\n",
    "index_min = bikes_by_day[bikes_by_day['season']==4]['counts'].idxmin()\n",
    "print(\"THIS IS THE LOW OUTLIER IN THE FALL\")\n",
    "display(index_min)\n",
    "display(bikes_by_day.loc[index_min, :])"
   ]
  },
  {
   "cell_type": "markdown",
   "metadata": {},
   "source": [
    "From this boxplot, we observe two outliers, one in winter (season = 1) and one in fall (season = 4). \n",
    "\n",
    "The outlier in Winter is on March 17, 2012, during which there were 7836 total rides. This was on St. Patrick's Day (https://obamawhitehouse.archives.gov/blog/2012/03/17/president-obama-dubliner-st-patricks-day), and was also the date of a demonstration in front of the White House for the first anniversary of the Syrian Revolution, which could have contributed to the higher number of bike rentals this day. Furthermore, Obama was holding a celebratory St. Patrick's Day event, which could have drawn crowds. St. Patrick's Day is a popular day for parades and roads may have been closed to drivers, making bike rentals a popular choice for transportation. obama was having a celebratory event in DC that day which may have drew crowds\n",
    "\n",
    "The outlier in Fall is on October 29, 2012, during which there were 22 total rides. Considering the number of bike rentals the days surrounding October 10, 2012, it seems like this unusually low number may be due to there being thunderstorms that day according to the weather attribute. Looking online, it appears that on that date Hurricane Sandy hit Washington DC (https://theweek.com/articles/470962/10-things-need-know-today-october-29-2012), which would make travel by bike dangerous such that bike rentals were low for both casual and registered users."
   ]
  },
  {
   "cell_type": "markdown",
   "metadata": {
    "button": false,
    "new_sheet": false,
    "run_control": {
     "read_only": false
    }
   },
   "source": [
    "**2.3 Convert the categorical attributes...**"
   ]
  },
  {
   "cell_type": "code",
   "execution_count": 13,
   "metadata": {
    "button": false,
    "new_sheet": false,
    "run_control": {
     "read_only": false
    }
   },
   "outputs": [
    {
     "data": {
      "text/html": [
       "<div>\n",
       "<style scoped>\n",
       "    .dataframe tbody tr th:only-of-type {\n",
       "        vertical-align: middle;\n",
       "    }\n",
       "\n",
       "    .dataframe tbody tr th {\n",
       "        vertical-align: top;\n",
       "    }\n",
       "\n",
       "    .dataframe thead th {\n",
       "        text-align: right;\n",
       "    }\n",
       "</style>\n",
       "<table border=\"1\" class=\"dataframe\">\n",
       "  <thead>\n",
       "    <tr style=\"text-align: right;\">\n",
       "      <th></th>\n",
       "      <th>temp</th>\n",
       "      <th>atemp</th>\n",
       "      <th>windspeed</th>\n",
       "      <th>hum</th>\n",
       "      <th>casual</th>\n",
       "      <th>registered</th>\n",
       "      <th>counts</th>\n",
       "      <th>season_1.0</th>\n",
       "      <th>season_2.0</th>\n",
       "      <th>season_3.0</th>\n",
       "      <th>...</th>\n",
       "      <th>weekday_2.0</th>\n",
       "      <th>weekday_3.0</th>\n",
       "      <th>weekday_4.0</th>\n",
       "      <th>weekday_5.0</th>\n",
       "      <th>weekday_6.0</th>\n",
       "      <th>weather_1.0</th>\n",
       "      <th>weather_2.0</th>\n",
       "      <th>weather_3.0</th>\n",
       "      <th>weather_4.0</th>\n",
       "      <th>month_stratify</th>\n",
       "    </tr>\n",
       "    <tr>\n",
       "      <th>dteday</th>\n",
       "      <th></th>\n",
       "      <th></th>\n",
       "      <th></th>\n",
       "      <th></th>\n",
       "      <th></th>\n",
       "      <th></th>\n",
       "      <th></th>\n",
       "      <th></th>\n",
       "      <th></th>\n",
       "      <th></th>\n",
       "      <th></th>\n",
       "      <th></th>\n",
       "      <th></th>\n",
       "      <th></th>\n",
       "      <th></th>\n",
       "      <th></th>\n",
       "      <th></th>\n",
       "      <th></th>\n",
       "      <th></th>\n",
       "      <th></th>\n",
       "      <th></th>\n",
       "    </tr>\n",
       "  </thead>\n",
       "  <tbody>\n",
       "    <tr>\n",
       "      <th>2011-01-01</th>\n",
       "      <td>0.344167</td>\n",
       "      <td>0.363625</td>\n",
       "      <td>0.160446</td>\n",
       "      <td>0.805833</td>\n",
       "      <td>331.0</td>\n",
       "      <td>654.0</td>\n",
       "      <td>985.0</td>\n",
       "      <td>1</td>\n",
       "      <td>0</td>\n",
       "      <td>0</td>\n",
       "      <td>...</td>\n",
       "      <td>0</td>\n",
       "      <td>0</td>\n",
       "      <td>0</td>\n",
       "      <td>0</td>\n",
       "      <td>1</td>\n",
       "      <td>0</td>\n",
       "      <td>0</td>\n",
       "      <td>1</td>\n",
       "      <td>0</td>\n",
       "      <td>1.0</td>\n",
       "    </tr>\n",
       "    <tr>\n",
       "      <th>2011-01-02</th>\n",
       "      <td>0.363478</td>\n",
       "      <td>0.353739</td>\n",
       "      <td>0.248539</td>\n",
       "      <td>0.696087</td>\n",
       "      <td>131.0</td>\n",
       "      <td>670.0</td>\n",
       "      <td>801.0</td>\n",
       "      <td>1</td>\n",
       "      <td>0</td>\n",
       "      <td>0</td>\n",
       "      <td>...</td>\n",
       "      <td>0</td>\n",
       "      <td>0</td>\n",
       "      <td>0</td>\n",
       "      <td>0</td>\n",
       "      <td>0</td>\n",
       "      <td>0</td>\n",
       "      <td>0</td>\n",
       "      <td>1</td>\n",
       "      <td>0</td>\n",
       "      <td>1.0</td>\n",
       "    </tr>\n",
       "    <tr>\n",
       "      <th>2011-01-03</th>\n",
       "      <td>0.196364</td>\n",
       "      <td>0.189405</td>\n",
       "      <td>0.248309</td>\n",
       "      <td>0.437273</td>\n",
       "      <td>120.0</td>\n",
       "      <td>1229.0</td>\n",
       "      <td>1349.0</td>\n",
       "      <td>1</td>\n",
       "      <td>0</td>\n",
       "      <td>0</td>\n",
       "      <td>...</td>\n",
       "      <td>0</td>\n",
       "      <td>0</td>\n",
       "      <td>0</td>\n",
       "      <td>0</td>\n",
       "      <td>0</td>\n",
       "      <td>1</td>\n",
       "      <td>0</td>\n",
       "      <td>0</td>\n",
       "      <td>0</td>\n",
       "      <td>1.0</td>\n",
       "    </tr>\n",
       "    <tr>\n",
       "      <th>2011-01-04</th>\n",
       "      <td>0.200000</td>\n",
       "      <td>0.212122</td>\n",
       "      <td>0.160296</td>\n",
       "      <td>0.590435</td>\n",
       "      <td>108.0</td>\n",
       "      <td>1454.0</td>\n",
       "      <td>1562.0</td>\n",
       "      <td>1</td>\n",
       "      <td>0</td>\n",
       "      <td>0</td>\n",
       "      <td>...</td>\n",
       "      <td>1</td>\n",
       "      <td>0</td>\n",
       "      <td>0</td>\n",
       "      <td>0</td>\n",
       "      <td>0</td>\n",
       "      <td>0</td>\n",
       "      <td>1</td>\n",
       "      <td>0</td>\n",
       "      <td>0</td>\n",
       "      <td>1.0</td>\n",
       "    </tr>\n",
       "    <tr>\n",
       "      <th>2011-01-05</th>\n",
       "      <td>0.226957</td>\n",
       "      <td>0.229270</td>\n",
       "      <td>0.186900</td>\n",
       "      <td>0.436957</td>\n",
       "      <td>82.0</td>\n",
       "      <td>1518.0</td>\n",
       "      <td>1600.0</td>\n",
       "      <td>1</td>\n",
       "      <td>0</td>\n",
       "      <td>0</td>\n",
       "      <td>...</td>\n",
       "      <td>0</td>\n",
       "      <td>1</td>\n",
       "      <td>0</td>\n",
       "      <td>0</td>\n",
       "      <td>0</td>\n",
       "      <td>1</td>\n",
       "      <td>0</td>\n",
       "      <td>0</td>\n",
       "      <td>0</td>\n",
       "      <td>1.0</td>\n",
       "    </tr>\n",
       "  </tbody>\n",
       "</table>\n",
       "<p>5 rows × 35 columns</p>\n",
       "</div>"
      ],
      "text/plain": [
       "                temp     atemp  windspeed       hum  casual  registered  \\\n",
       "dteday                                                                    \n",
       "2011-01-01  0.344167  0.363625   0.160446  0.805833   331.0       654.0   \n",
       "2011-01-02  0.363478  0.353739   0.248539  0.696087   131.0       670.0   \n",
       "2011-01-03  0.196364  0.189405   0.248309  0.437273   120.0      1229.0   \n",
       "2011-01-04  0.200000  0.212122   0.160296  0.590435   108.0      1454.0   \n",
       "2011-01-05  0.226957  0.229270   0.186900  0.436957    82.0      1518.0   \n",
       "\n",
       "            counts  season_1.0  season_2.0  season_3.0       ...        \\\n",
       "dteday                                                       ...         \n",
       "2011-01-01   985.0           1           0           0       ...         \n",
       "2011-01-02   801.0           1           0           0       ...         \n",
       "2011-01-03  1349.0           1           0           0       ...         \n",
       "2011-01-04  1562.0           1           0           0       ...         \n",
       "2011-01-05  1600.0           1           0           0       ...         \n",
       "\n",
       "            weekday_2.0  weekday_3.0  weekday_4.0  weekday_5.0  weekday_6.0  \\\n",
       "dteday                                                                        \n",
       "2011-01-01            0            0            0            0            1   \n",
       "2011-01-02            0            0            0            0            0   \n",
       "2011-01-03            0            0            0            0            0   \n",
       "2011-01-04            1            0            0            0            0   \n",
       "2011-01-05            0            1            0            0            0   \n",
       "\n",
       "            weather_1.0  weather_2.0  weather_3.0  weather_4.0  month_stratify  \n",
       "dteday                                                                          \n",
       "2011-01-01            0            0            1            0             1.0  \n",
       "2011-01-02            0            0            1            0             1.0  \n",
       "2011-01-03            1            0            0            0             1.0  \n",
       "2011-01-04            0            1            0            0             1.0  \n",
       "2011-01-05            1            0            0            0             1.0  \n",
       "\n",
       "[5 rows x 35 columns]"
      ]
     },
     "execution_count": 13,
     "metadata": {},
     "output_type": "execute_result"
    }
   ],
   "source": [
    "# Setting one-hot encodings, dropping one column from each group\n",
    "bikes_df = pd.get_dummies(bikes_by_day, columns = ['season', 'month', 'weekday', 'weather'], prefix = ['season', 'month', 'weekday', 'weather'])\n",
    "bikes_df['month_stratify'] = bikes_by_day['month']\n",
    "bikes_df.head()"
   ]
  },
  {
   "cell_type": "markdown",
   "metadata": {
    "button": false,
    "new_sheet": false,
    "run_control": {
     "read_only": false
    }
   },
   "source": [
    "**2.4 Split the updated `bikes_df` dataset into a 50-50 train-test split...** "
   ]
  },
  {
   "cell_type": "code",
   "execution_count": 14,
   "metadata": {
    "button": false,
    "new_sheet": false,
    "run_control": {
     "read_only": false
    }
   },
   "outputs": [],
   "source": [
    "bikes_train, bikes_test = train_test_split(bikes_df, test_size=0.5, stratify = bikes_df['month_stratify'], random_state=90)"
   ]
  },
  {
   "cell_type": "markdown",
   "metadata": {
    "button": false,
    "new_sheet": false,
    "run_control": {
     "read_only": false
    }
   },
   "source": [
    "**2.5 Although we asked you to create your train and test set...**"
   ]
  },
  {
   "cell_type": "code",
   "execution_count": 7,
   "metadata": {
    "button": false,
    "new_sheet": false,
    "run_control": {
     "read_only": false
    }
   },
   "outputs": [
    {
     "data": {
      "text/plain": [
       "Index(['hour', 'holiday', 'year', 'workingday', 'temp', 'atemp', 'hum',\n",
       "       'windspeed', 'casual', 'registered', 'counts', 'spring', 'summer',\n",
       "       'fall', 'Feb', 'Mar', 'Apr', 'May', 'Jun', 'Jul', 'Aug', 'Sept', 'Oct',\n",
       "       'Nov', 'Dec', 'Mon', 'Tue', 'Wed', 'Thu', 'Fri', 'Sat', 'Cloudy',\n",
       "       'Snow', 'Storm'],\n",
       "      dtype='object')"
      ]
     },
     "execution_count": 7,
     "metadata": {},
     "output_type": "execute_result"
    }
   ],
   "source": [
    "# Read in train and test sets\n",
    "BSS_train = pd.read_csv(\"data/BSS_train.csv\")\n",
    "BSS_test = pd.read_csv(\"data/BSS_test.csv\")\n",
    "BSS_train = BSS_train.drop(columns = ['dteday'])\n",
    "BSS_test = BSS_test.drop(columns = ['dteday'])\n",
    "BSS_train.keys()"
   ]
  },
  {
   "cell_type": "markdown",
   "metadata": {
    "button": false,
    "new_sheet": false,
    "run_control": {
     "read_only": false
    }
   },
   "source": [
    "**2.6 Use pandas' `scatter_matrix` command to visualize...**"
   ]
  },
  {
   "cell_type": "code",
   "execution_count": 16,
   "metadata": {
    "button": false,
    "new_sheet": false,
    "run_control": {
     "read_only": false
    }
   },
   "outputs": [
    {
     "data": {
      "image/png": "[encoded data removed]",
      "text/plain": [
       "<Figure size 1440x1440 with 256 Axes>"
      ]
     },
     "metadata": {},
     "output_type": "display_data"
    }
   ],
   "source": [
    "cor_columns = ['hour', 'holiday', 'temp', 'atemp', 'workingday', 'hum', 'windspeed', 'counts', 'casual', 'registered', 'fall', 'summer', 'spring', 'Snow', 'Storm', 'Cloudy']\n",
    "df_to_plot = BSS_train.loc[:,cor_columns]\n",
    "# Plot scatter matrix\n",
    "scatter_matrix(df_to_plot, alpha=0.8, figsize=(20, 20)); "
   ]
  },
  {
   "cell_type": "markdown",
   "metadata": {},
   "source": [
    "We observe that temp and atemp are highly positively correlated as evidenced by the diagonal shape with positve slope in the scatterplot of the cell with \"coordinates\" in the scatter matrix of (x, y) = (atemp, temp) = (temp, atemp). We also notice that counts is positively correlated with both registered and casual users (more positively correlated with registered users but there is a positive slope for both pairs)."
   ]
  },
  {
   "cell_type": "markdown",
   "metadata": {
    "button": false,
    "new_sheet": false,
    "run_control": {
     "read_only": false
    }
   },
   "source": [
    "**2.7 Make a plot showing the _average_ number of casual and registered riders...**"
   ]
  },
  {
   "cell_type": "code",
   "execution_count": 17,
   "metadata": {
    "button": false,
    "new_sheet": false,
    "run_control": {
     "read_only": false
    }
   },
   "outputs": [
    {
     "data": {
      "image/png": "[encoded data removed]",
      "text/plain": [
       "<Figure size 432x288 with 1 Axes>"
      ]
     },
     "metadata": {},
     "output_type": "display_data"
    }
   ],
   "source": [
    "average_riders = BSS_train.groupby('hour').agg({'casual':np.mean, 'registered':np.mean});\n",
    "ax = average_riders.plot(title = 'Average numbers of casual and registered rides per hour');\n",
    "ax.set_ylabel('average number of rides');"
   ]
  },
  {
   "cell_type": "markdown",
   "metadata": {},
   "source": [
    "We observe very differently shaped distributions for casual and registered users. For casual users, their use peaks in the afternoon around 3pm (probably tourists using bikes), while registered users peak in the morning and afternoon around the times when people go to and leave work (8am and 5pm, respectively). It is noteworthy that the registered users have overall more bike rentals (orange points generally have greater magnitudes than the blue points for each hour) through the day. The average number of registered users has more rapid changes in the number of rides (where the number of rides rises rapidly from 5am to 8am then drops rapidly from 8am to 10am, climbing gradully from 10am to 3pm at which point it rises rapidly from 3pm to 5pm and then drops rapidly from 5pm to midnight) than does the average number of rides for casual users."
   ]
  },
  {
   "cell_type": "markdown",
   "metadata": {
    "button": false,
    "new_sheet": false,
    "run_control": {
     "read_only": false
    }
   },
   "source": [
    "**2.8 Use the weather related variables to show how each weather...** "
   ]
  },
  {
   "cell_type": "code",
   "execution_count": 18,
   "metadata": {
    "button": false,
    "new_sheet": false,
    "run_control": {
     "read_only": false
    }
   },
   "outputs": [
    {
     "data": {
      "image/png": "[encoded data removed]",
      "text/plain": [
       "<Figure size 432x288 with 1 Axes>"
      ]
     },
     "metadata": {},
     "output_type": "display_data"
    },
    {
     "data": {
      "image/png": "[encoded data removed]",
      "text/plain": [
       "<Figure size 432x288 with 1 Axes>"
      ]
     },
     "metadata": {},
     "output_type": "display_data"
    },
    {
     "data": {
      "image/png": "[encoded data removed]",
      "text/plain": [
       "<Figure size 432x288 with 1 Axes>"
      ]
     },
     "metadata": {},
     "output_type": "display_data"
    },
    {
     "data": {
      "image/png": "[encoded data removed]",
      "text/plain": [
       "<Figure size 432x288 with 1 Axes>"
      ]
     },
     "metadata": {},
     "output_type": "display_data"
    }
   ],
   "source": [
    "average_riders_cloudy = BSS_train[BSS_train['Cloudy'] == 1].groupby('hour').agg({'casual':np.mean, 'registered':np.mean})\n",
    "average_riders_storm = BSS_train[BSS_train['Storm'] == 1].groupby('hour').agg({'casual':np.mean, 'registered':np.mean})\n",
    "average_riders_snow = BSS_train[BSS_train['Snow'] == 1].groupby('hour').agg({'casual':np.mean, 'registered':np.mean})\n",
    "# Get Clear as reference group, all other variables are 0\n",
    "average_riders_clear = BSS_train[BSS_train['Snow']+BSS_train['Cloudy']+BSS_train['Storm'] == 0].groupby('hour').agg({'casual':np.mean, 'registered':np.mean})\n",
    "\n",
    "average_riders_cloudy.plot()\n",
    "plt.title(\"Average Number of Casual and Registered Riders over Time in Cloudy Weather\");\n",
    "plt.ylabel(\"average number of riders\");\n",
    "average_riders_storm.plot()\n",
    "plt.title(\"Average Number of Casual and Registered Riders over Time in Stormy Weather\");\n",
    "plt.ylabel(\"average number of riders\");\n",
    "average_riders_snow.plot()\n",
    "plt.title(\"Average Number of Casual and Registered Riders over Time in Snowy Weather\");\n",
    "plt.ylabel(\"average number of riders\");\n",
    "average_riders_clear.plot()\n",
    "plt.title(\"Average Number of Casual and Registered Riders over Time in Clear Weather\");\n",
    "plt.ylabel(\"average number of riders\");"
   ]
  },
  {
   "cell_type": "markdown",
   "metadata": {},
   "source": [
    "We observe that the shape of the distributions of the types of riders (casual and registered) doesn't really change between Cloudy, Snowy, and Clear weather (all of these plots for registerd users show peaks around 8am and 5pm and for casual users show gradual increase until around 3pm as described in question 2.7), although the volume of riders does decrease in Snowy weather compared to Clear and Cloudy weather. In Stormy weather, we only have two datapoints each for casual and registered users, so we cannot really determine a distribution shape across time. But we do observe that very few people use the bikeshare when it is stormy outside. "
   ]
  },
  {
   "cell_type": "markdown",
   "metadata": {},
   "source": [
    "---"
   ]
  },
  {
   "cell_type": "markdown",
   "metadata": {
    "button": false,
    "new_sheet": false,
    "run_control": {
     "read_only": false
    }
   },
   "source": [
    "<div class='exercise'> <b> Question 3 [18pts]: Multiple Linear Regression to Predict Hourly Ridership </b> </div>\n",
    "\n",
    "\n",
    "**3.1** Use statsmodels to fit a multiple linear regression model to the training set using all the useable predictors (nothing that `count` was derived of and no interactions or polynomial terms) to predict `counts`, and report its $R^2$ score on the train and test sets.  Call this set of predictors `X_train`.\n",
    "\n",
    "**3.2** Examine the estimated coefficients and report which ones are statistically significant at a significance level of 5% (p-value < 0.05). \n",
    "\n",
    "**3.3** You should see some strange estimates for the predictors representing months.  Carefully interpret the `July` coefficient, and explain why this result is likely occurring (be as specific as possible). \n",
    "\n",
    "**3.4** To diagnose the model, make two plots: first a histogram of the residuals, and second a plot of the residuals of the fitted model ${e} = y - \\hat{y}$ as a function of the predicted value $\\hat{y}$. Draw a horizontal line denoting the zero residual value on the Y-axis. What do the plots reveal about the OLS assumptions (linearity, constant variance, and normality)?\n",
    "\n",
    "**3.5** Perhaps we can do better via a model with polynomial terms. Build a dataset `X_train_poly` from your `X_train` data from question 3.1 with added $x^2$ terms for `temp`, `hour`, and `humidity`. Are these polynomial terms important? How does predicted ridership change as each of `temp`, `hour`, and `humidity` increase?\n",
    "\n",
    "**3.6** You should have received a warning regarding the presence of _multicolinearity_ in the model in 3.1.  Create a new dataset `X_train_drop` by dropping the following predictors from `X_train`:  `workingday` `atemp` `spring` `summer` and `fall` and fit a multiple linear regression model to the variables the remain.  Are the estimates more sensible in this model?  And explain in your own words why multicolinearity can lead to erroneous coefficient values.\n",
    "\n"
   ]
  },
  {
   "cell_type": "markdown",
   "metadata": {
    "button": false,
    "new_sheet": false,
    "run_control": {
     "read_only": false
    }
   },
   "source": [
    "### Answers"
   ]
  },
  {
   "cell_type": "markdown",
   "metadata": {
    "button": false,
    "new_sheet": false,
    "run_control": {
     "read_only": false
    }
   },
   "source": [
    "**3.1 Use statsmodels to fit a multiple linear regression model...**"
   ]
  },
  {
   "cell_type": "code",
   "execution_count": 8,
   "metadata": {
    "button": false,
    "new_sheet": false,
    "run_control": {
     "read_only": false
    }
   },
   "outputs": [
    {
     "name": "stdout",
     "output_type": "stream",
     "text": [
      "The R^2 score on the train set is: 0.4115699822629325\n",
      "The R^2 score on the test set is: 0.40072109229413466\n"
     ]
    },
    {
     "name": "stderr",
     "output_type": "stream",
     "text": [
      "//anaconda3/lib/python3.7/site-packages/numpy/core/fromnumeric.py:2389: FutureWarning: Method .ptp is deprecated and will be removed in a future version. Use numpy.ptp instead.\n",
      "  return ptp(axis=axis, out=out, **kwargs)\n"
     ]
    }
   ],
   "source": [
    "params = ['hour', 'holiday', 'year', 'workingday', 'temp', 'atemp', 'hum','windspeed', 'spring', 'summer', \n",
    "                     'fall', 'Feb', 'Mar', 'Apr', 'May', 'Jun', 'Jul', 'Aug', 'Sept', 'Oct', 'Nov', 'Dec', 'Mon', \n",
    "                     'Tue', 'Wed', 'Thu', 'Fri', 'Sat', 'Cloudy', 'Snow', 'Storm']\n",
    "# Allowing for intercept\n",
    "X_train = sm.add_constant(BSS_train[params])\n",
    "X_test = sm.add_constant(BSS_test[params])\n",
    "\n",
    "y_train = BSS_train['counts']\n",
    "y_test = BSS_test['counts']\n",
    "model = sm.OLS(y_train, X_train).fit()\n",
    "\n",
    "print(\"The R^2 score on the train set is: \" + str(r2_score(y_train, model.predict(X_train))))\n",
    "print(\"The R^2 score on the test set is: \" + str(r2_score(y_test, model.predict(X_test))))"
   ]
  },
  {
   "cell_type": "markdown",
   "metadata": {
    "button": false,
    "new_sheet": false,
    "run_control": {
     "read_only": false
    }
   },
   "source": [
    "**3.2 Examine the estimated coefficients and report...**"
   ]
  },
  {
   "cell_type": "code",
   "execution_count": 20,
   "metadata": {
    "button": false,
    "new_sheet": false,
    "run_control": {
     "read_only": false
    }
   },
   "outputs": [
    {
     "name": "stdout",
     "output_type": "stream",
     "text": [
      "                            OLS Regression Results                            \n",
      "==============================================================================\n",
      "Dep. Variable:                 counts   R-squared:                       0.412\n",
      "Model:                            OLS   Adj. R-squared:                  0.410\n",
      "Method:                 Least Squares   F-statistic:                     201.9\n",
      "Date:                Wed, 09 Oct 2019   Prob (F-statistic):               0.00\n",
      "Time:                        00:33:13   Log-Likelihood:                -55215.\n",
      "No. Observations:                8689   AIC:                         1.105e+05\n",
      "Df Residuals:                    8658   BIC:                         1.107e+05\n",
      "Df Model:                          30                                         \n",
      "Covariance Type:            nonrobust                                         \n",
      "==============================================================================\n",
      "                 coef    std err          t      P>|t|      [0.025      0.975]\n",
      "------------------------------------------------------------------------------\n",
      "const        -30.4075     10.908     -2.788      0.005     -51.789      -9.026\n",
      "hour           7.2092      0.233     30.975      0.000       6.753       7.665\n",
      "holiday      -19.1510      8.369     -2.288      0.022     -35.556      -2.746\n",
      "year          78.1211      3.020     25.864      0.000      72.200      84.042\n",
      "workingday    10.9484      3.512      3.118      0.002       4.065      17.832\n",
      "temp         273.6625     61.680      4.437      0.000     152.755     394.570\n",
      "atemp        162.5353     64.909      2.504      0.012      35.298     289.773\n",
      "hum         -202.0080      9.927    -20.349      0.000    -221.468    -182.548\n",
      "windspeed     19.3827     13.595      1.426      0.154      -7.268      46.033\n",
      "spring        50.0754      9.528      5.256      0.000      31.398      68.753\n",
      "summer        22.6879     11.138      2.037      0.042       0.855      44.521\n",
      "fall          70.9474      9.448      7.509      0.000      52.426      89.469\n",
      "Feb          -10.7198      7.590     -1.412      0.158     -25.598       4.158\n",
      "Mar          -11.2938      8.385     -1.347      0.178     -27.731       5.143\n",
      "Apr          -44.8326     12.635     -3.548      0.000     -69.600     -20.065\n",
      "May          -50.1605     13.493     -3.718      0.000     -76.609     -23.712\n",
      "Jun          -72.2042     13.700     -5.271      0.000     -99.058     -45.350\n",
      "Jul          -90.8965     15.387     -5.907      0.000    -121.058     -60.735\n",
      "Aug          -58.3246     15.061     -3.873      0.000     -87.847     -28.802\n",
      "Sept         -16.1686     13.432     -1.204      0.229     -42.499      10.162\n",
      "Oct          -15.8838     12.484     -1.272      0.203     -40.356       8.588\n",
      "Nov          -32.7232     12.049     -2.716      0.007     -56.342      -9.104\n",
      "Dec          -19.2088      9.560     -2.009      0.045     -37.949      -0.469\n",
      "Mon           -3.3336      3.756     -0.888      0.375     -10.697       4.029\n",
      "Tue           -0.0074      4.105     -0.002      0.999      -8.055       8.040\n",
      "Wed           -2.2059      4.082     -0.540      0.589     -10.207       5.795\n",
      "Thu           -5.5698      4.013     -1.388      0.165     -13.436       2.297\n",
      "Fri            2.9140      4.015      0.726      0.468      -4.956      10.784\n",
      "Sat           12.7461      5.587      2.281      0.023       1.793      23.699\n",
      "Cloudy         6.9163      3.676      1.882      0.060      -0.289      14.122\n",
      "Snow         -26.8155      6.094     -4.401      0.000     -38.760     -14.871\n",
      "Storm         48.2045     98.839      0.488      0.626    -145.543     241.952\n",
      "==============================================================================\n",
      "Omnibus:                     1691.839   Durbin-Watson:                   1.982\n",
      "Prob(Omnibus):                  0.000   Jarque-Bera (JB):             3250.657\n",
      "Skew:                           1.191   Prob(JB):                         0.00\n",
      "Kurtosis:                       4.818   Cond. No.                     1.17e+16\n",
      "==============================================================================\n",
      "\n",
      "Warnings:\n",
      "[1] Standard Errors assume that the covariance matrix of the errors is correctly specified.\n",
      "[2] The smallest eigenvalue is 1.18e-26. This might indicate that there are\n",
      "strong multicollinearity problems or that the design matrix is singular.\n"
     ]
    }
   ],
   "source": [
    "print(model.summary())"
   ]
  },
  {
   "cell_type": "markdown",
   "metadata": {},
   "source": [
    "The statistically significant coefficients are those for the constant, hour, holiday, year, workingday, temp, atemp, hum, spring, summer, fall, Apr, May, Jun, Jul, Aug, Nov, Dec, Sat, and Snow variables since the p values associated with these beta estimates are less than 0.05."
   ]
  },
  {
   "cell_type": "markdown",
   "metadata": {
    "run_control": {}
   },
   "source": [
    "**3.3 You should see some strange estimates for the predictors representing months...** "
   ]
  },
  {
   "cell_type": "markdown",
   "metadata": {
    "run_control": {}
   },
   "source": [
    "The July coefficient is -90.89, implying that being in July is associated with having approximately 91 fewer rides compared to if it was Janurary (January is the reference group) assuming that all other variables are held constant. This coefficient large in its magnitude is likely occurring due to multicollinearity since we expect the month predictor variables to be correlated with other predictor variables such as the accompanying season predictor variables also included in the model. This is a problem since a linear regression assumes the predictor variables are independent, which the month predictor variables definitely aren't. This causes the coefficients to become very sensitive to small changes in the model."
   ]
  },
  {
   "cell_type": "markdown",
   "metadata": {
    "button": false,
    "new_sheet": false,
    "run_control": {
     "read_only": false
    }
   },
   "source": [
    "**3.4 To diagnose the model, make two plots:...**"
   ]
  },
  {
   "cell_type": "code",
   "execution_count": 21,
   "metadata": {
    "button": false,
    "new_sheet": false,
    "run_control": {
     "read_only": false
    }
   },
   "outputs": [
    {
     "data": {
      "text/plain": [
       "Text(0,0.5,'Frequency')"
      ]
     },
     "execution_count": 21,
     "metadata": {},
     "output_type": "execute_result"
    },
    {
     "data": {
      "image/png": "[encoded data removed]",
      "text/plain": [
       "<Figure size 432x288 with 1 Axes>"
      ]
     },
     "metadata": {},
     "output_type": "display_data"
    }
   ],
   "source": [
    "# Plotting histogram of the residuals\n",
    "plt.title(\"Residuals\")\n",
    "plt.hist(y_train - model.predict(X_train))\n",
    "plt.xlabel(\"Residual\")\n",
    "plt.ylabel(\"Frequency\") #mean has to be 0. r skewed histogram/ interpret this way"
   ]
  },
  {
   "cell_type": "code",
   "execution_count": 22,
   "metadata": {},
   "outputs": [
    {
     "data": {
      "text/plain": [
       "Text(0.5,1,'Residuals as a function of the Predicted Value')"
      ]
     },
     "execution_count": 22,
     "metadata": {},
     "output_type": "execute_result"
    },
    {
     "data": {
      "image/png": "[encoded data removed]",
      "text/plain": [
       "<Figure size 432x288 with 1 Axes>"
      ]
     },
     "metadata": {},
     "output_type": "display_data"
    }
   ],
   "source": [
    "plt.scatter(model.predict(X_train), y_train - model.predict(X_train), label=\"Residual\")\n",
    "plt.axhline(0, color='k')\n",
    "plt.xlabel(\"Predicted Value\")\n",
    "plt.ylabel(\"Residual\")\n",
    "plt.title(\"Residuals as a function of the Predicted Value\")"
   ]
  },
  {
   "cell_type": "markdown",
   "metadata": {},
   "source": [
    "The histogram of residuals versus frequency shows that the residuals are not normally distributed and instead are skewed to the right. \n",
    "\n",
    "The scatter plot of the predicted values versus the residuals shows that the residuals are not randomly distributed around 0 (the horizontal line y=0). This tells us that the OLS assumption about normality of the error term does not hold for this data. The error term also does not have constant variance (error term having constant variance is another assumption of linear regression), which is apparent from the scatter plot since as the predicted value increases the variability in the residual also increases (scatter plot widens). \n",
    "\n",
    "The scatter plot of predicted values versus the residuals also shows that the assumption of linearity likely does not hold since there is a pattern in the residuals (they are not randomly scattered around the y=0 line). We observe that there is a line with negative slope in the bottom left portion of the data, which is due to the fact that counts cannot be negative but we are predicting negative counts (so if prediction is -100 then residual must be >= 100). \n",
    "\n",
    "Furthermore, the assumption of linearity is more directly evaluated in the scatterplots of each predictor with the response variable as shown in question 2.6, and we see that none of the predictors included in the model have even a generally linear relationship with the response variable (counts). Thus, the assumptions of linear regression do not fully hold for this data. \n"
   ]
  },
  {
   "cell_type": "markdown",
   "metadata": {
    "button": false,
    "new_sheet": false,
    "run_control": {
     "read_only": false
    }
   },
   "source": [
    "**3.5 Perhaps we can do better via a model...**"
   ]
  },
  {
   "cell_type": "code",
   "execution_count": 9,
   "metadata": {
    "button": false,
    "new_sheet": false,
    "run_control": {
     "read_only": false
    }
   },
   "outputs": [
    {
     "name": "stdout",
     "output_type": "stream",
     "text": [
      "                            OLS Regression Results                            \n",
      "==============================================================================\n",
      "Dep. Variable:                 counts   R-squared:                       0.508\n",
      "Model:                            OLS   Adj. R-squared:                  0.507\n",
      "Method:                 Least Squares   F-statistic:                     271.3\n",
      "Date:                Wed, 09 Oct 2019   Prob (F-statistic):               0.00\n",
      "Time:                        15:42:47   Log-Likelihood:                -54433.\n",
      "No. Observations:                8689   AIC:                         1.089e+05\n",
      "Df Residuals:                    8655   BIC:                         1.092e+05\n",
      "Df Model:                          33                                         \n",
      "Covariance Type:            nonrobust                                         \n",
      "==============================================================================\n",
      "                 coef    std err          t      P>|t|      [0.025      0.975]\n",
      "------------------------------------------------------------------------------\n",
      "const       -193.3332     17.588    -10.992      0.000    -227.810    -158.857\n",
      "hour          40.2211      0.840     47.896      0.000      38.575      41.867\n",
      "holiday      -14.0310      7.656     -1.833      0.067     -29.039       0.977\n",
      "year          83.2098      2.781     29.921      0.000      77.758      88.661\n",
      "workingday    13.2241      3.212      4.117      0.000       6.928      19.520\n",
      "temp          46.0096     78.769      0.584      0.559    -108.397     200.416\n",
      "atemp        148.5309     61.182      2.428      0.015      28.599     268.463\n",
      "hum           42.3171     45.426      0.932      0.352     -46.729     131.363\n",
      "windspeed    -19.4101     12.531     -1.549      0.121     -43.973       5.153\n",
      "spring        46.8322      8.714      5.374      0.000      29.750      63.914\n",
      "summer        25.4085     10.202      2.490      0.013       5.410      45.407\n",
      "fall          74.7289      8.643      8.646      0.000      57.787      91.671\n",
      "Feb           -2.2754      7.037     -0.323      0.746     -16.070      11.519\n",
      "Mar            9.1429      7.906      1.156      0.248      -6.355      24.641\n",
      "Apr          -12.2792     11.781     -1.042      0.297     -35.373      10.814\n",
      "May          -15.6791     12.489     -1.255      0.209     -40.160       8.802\n",
      "Jun          -29.8762     12.639     -2.364      0.018     -54.652      -5.100\n",
      "Jul          -51.5208     14.156     -3.640      0.000     -79.269     -23.773\n",
      "Aug          -23.3642     13.901     -1.681      0.093     -50.613       3.884\n",
      "Sept          11.0442     12.519      0.882      0.378     -13.495      35.584\n",
      "Oct           -1.9320     11.682     -0.165      0.869     -24.831      20.967\n",
      "Nov          -27.7996     11.221     -2.478      0.013     -49.795      -5.804\n",
      "Dec          -19.1169      8.871     -2.155      0.031     -36.506      -1.728\n",
      "Mon           -0.9673      3.434     -0.282      0.778      -7.699       5.764\n",
      "Tue            0.9441      3.753      0.252      0.801      -6.412       8.301\n",
      "Wed           -1.8581      3.731     -0.498      0.619      -9.172       5.456\n",
      "Thu           -2.7283      3.669     -0.744      0.457      -9.921       4.465\n",
      "Fri            3.8028      3.671      1.036      0.300      -3.393      10.999\n",
      "Sat           18.1315      5.113      3.546      0.000       8.109      28.154\n",
      "Cloudy        -9.5074      3.389     -2.805      0.005     -16.151      -2.864\n",
      "Snow         -46.9213      5.765     -8.139      0.000     -58.222     -35.620\n",
      "Storm         34.1383     90.378      0.378      0.706    -143.024     211.301\n",
      "temp2        140.6804     46.276      3.040      0.002      49.968     231.393\n",
      "hour2         -1.3881      0.034    -40.654      0.000      -1.455      -1.321\n",
      "hum2        -126.8873     36.621     -3.465      0.001    -198.673     -55.102\n",
      "==============================================================================\n",
      "Omnibus:                     1734.231   Durbin-Watson:                   1.984\n",
      "Prob(Omnibus):                  0.000   Jarque-Bera (JB):             3424.267\n",
      "Skew:                           1.204   Prob(JB):                         0.00\n",
      "Kurtosis:                       4.913   Cond. No.                     1.35e+16\n",
      "==============================================================================\n",
      "\n",
      "Warnings:\n",
      "[1] Standard Errors assume that the covariance matrix of the errors is correctly specified.\n",
      "[2] The smallest eigenvalue is 2.92e-24. This might indicate that there are\n",
      "strong multicollinearity problems or that the design matrix is singular.\n"
     ]
    }
   ],
   "source": [
    "X_train_poly = X_train.copy()\n",
    "# Add squared terms\n",
    "X_train_poly['temp2'] = X_train['temp']**2\n",
    "X_train_poly['hour2'] = X_train['hour']**2\n",
    "X_train_poly['hum2'] = X_train['hum']**2\n",
    "\n",
    "BSS_poly_model = sm.OLS(y_train, X_train_poly).fit()\n",
    "print(BSS_poly_model.summary())"
   ]
  },
  {
   "cell_type": "markdown",
   "metadata": {},
   "source": [
    "The polynomial terms for $temp^2$, $hour^2$, and $hum^2$ are important as their p-values are < 0.05. \n",
    "\n",
    "For every unit increase in squared normalized temperature, all other variables held constant, the number of riders increases by ~141. \n",
    "\n",
    "For every unit increase in squared normalized hour, all other variables held constant, the number of riders decreases by ~1.4. \n",
    "\n",
    "For every unit increase in squared normalized humidity, all other variables held constant, the number of riders decreases by ~127.\n",
    "\n",
    "Overall, as temperature increases, ridership increases. As humidity increases, ridership decreases. As hour increases, ridership initially rises, then decreases when combining both polynomial terms of hour (both the degree 1 and 2 terms for hour are statistically significant predictors but have opposite signs, indicating that there is an initial rise and subsequent fall)."
   ]
  },
  {
   "cell_type": "markdown",
   "metadata": {
    "button": false,
    "new_sheet": false,
    "run_control": {
     "read_only": false
    }
   },
   "source": [
    "**3.6 You should have received a warning regarding the presence of _multicollinearity_...**"
   ]
  },
  {
   "cell_type": "code",
   "execution_count": 10,
   "metadata": {
    "button": false,
    "new_sheet": false,
    "run_control": {
     "read_only": false
    }
   },
   "outputs": [
    {
     "name": "stdout",
     "output_type": "stream",
     "text": [
      "                            OLS Regression Results                            \n",
      "==============================================================================\n",
      "Dep. Variable:                 counts   R-squared:                       0.405\n",
      "Model:                            OLS   Adj. R-squared:                  0.403\n",
      "Method:                 Least Squares   F-statistic:                     226.9\n",
      "Date:                Wed, 09 Oct 2019   Prob (F-statistic):               0.00\n",
      "Time:                        15:42:51   Log-Likelihood:                -55263.\n",
      "No. Observations:                8689   AIC:                         1.106e+05\n",
      "Df Residuals:                    8662   BIC:                         1.108e+05\n",
      "Df Model:                          26                                         \n",
      "Covariance Type:            nonrobust                                         \n",
      "==============================================================================\n",
      "                 coef    std err          t      P>|t|      [0.025      0.975]\n",
      "------------------------------------------------------------------------------\n",
      "const        -26.2056     10.772     -2.433      0.015     -47.322      -5.089\n",
      "hour           7.2218      0.234     30.871      0.000       6.763       7.680\n",
      "holiday      -37.2529      9.390     -3.967      0.000     -55.659     -18.846\n",
      "year          77.9687      3.035     25.691      0.000      72.020      83.918\n",
      "temp         425.3856     16.922     25.137      0.000     392.214     458.557\n",
      "hum         -198.2002      9.944    -19.933      0.000    -217.692    -178.709\n",
      "windspeed      3.0647     13.166      0.233      0.816     -22.743      28.872\n",
      "Feb          -10.3801      7.624     -1.362      0.173     -25.324       4.564\n",
      "Mar            4.8473      7.834      0.619      0.536     -10.510      20.205\n",
      "Apr            5.6103      8.422      0.666      0.505     -10.899      22.119\n",
      "May           -2.4330      9.725     -0.250      0.802     -21.497      16.631\n",
      "Jun          -35.3982     10.671     -3.317      0.001     -56.316     -14.480\n",
      "Jul          -72.2768     11.583     -6.240      0.000     -94.982     -49.571\n",
      "Aug          -40.9043     11.043     -3.704      0.000     -62.551     -19.258\n",
      "Sept          15.9133     10.059      1.582      0.114      -3.805      35.632\n",
      "Oct           54.0377      8.686      6.221      0.000      37.010      71.065\n",
      "Nov           38.3870      7.796      4.924      0.000      23.106      53.668\n",
      "Dec           26.2086      7.582      3.457      0.001      11.346      41.071\n",
      "Mon            9.6638      5.802      1.666      0.096      -1.709      21.036\n",
      "Tue           11.4788      5.705      2.012      0.044       0.295      22.663\n",
      "Wed            8.5964      5.676      1.515      0.130      -2.529      19.722\n",
      "Thu            5.9261      5.641      1.050      0.294      -5.132      16.984\n",
      "Fri           13.5104      5.640      2.396      0.017       2.455      24.566\n",
      "Sat           12.3255      5.614      2.196      0.028       1.321      23.330\n",
      "Cloudy         7.0689      3.692      1.915      0.056      -0.169      14.306\n",
      "Snow         -27.3958      6.112     -4.483      0.000     -39.376     -15.415\n",
      "Storm         44.8939     99.348      0.452      0.651    -149.852     239.640\n",
      "==============================================================================\n",
      "Omnibus:                     1712.709   Durbin-Watson:                   1.975\n",
      "Prob(Omnibus):                  0.000   Jarque-Bera (JB):             3312.120\n",
      "Skew:                           1.202   Prob(JB):                         0.00\n",
      "Kurtosis:                       4.837   Cond. No.                         898.\n",
      "==============================================================================\n",
      "\n",
      "Warnings:\n",
      "[1] Standard Errors assume that the covariance matrix of the errors is correctly specified.\n"
     ]
    }
   ],
   "source": [
    "# Dropping columns and retraining\n",
    "X_train_drop = X_train.drop(columns = ['workingday', 'atemp', 'spring', 'summer', 'fall'])\n",
    "BSS_model_drop = sm.OLS(y_train, X_train_drop).fit()\n",
    "print(BSS_model_drop.summary())"
   ]
  },
  {
   "cell_type": "markdown",
   "metadata": {},
   "source": [
    "The estimates are more reasonable in this model since we dropped the seasonal attributes that correlated with month. Multicollinearity can lead to erroneous coefficient values because collinear terms will not contribute much new information to the regression model, so as one term's coefficient rises, the other term's coefficient must decrease accordingly to keep the overall effect nominal. \n",
    "\n",
    "The model is trying to partition the information for the effects of the collinear terms on the response into just one of the terms since the extra terms don't provide much new information. However, as the effect of these two predictors is attributed to just one of them, the beta estimate for the other collinear predictor is driven in the opposite direction. As a result, the pair of predictors have extreme beta values that are opposite of each other, so that the beta estimate for each predictor is independent of the other predictors in the model."
   ]
  },
  {
   "cell_type": "markdown",
   "metadata": {
    "run_control": {}
   },
   "source": [
    "---"
   ]
  },
  {
   "cell_type": "markdown",
   "metadata": {
    "button": false,
    "new_sheet": false,
    "run_control": {
     "read_only": false
    }
   },
   "source": [
    "<div class='exercise'> <b> Question 4 [20pts]: Regression Models with Polynomial and Interaction Terms </b> </div>\n",
    "\n",
    "**4.1** Drop the variables `workingday`, `atemp`, `spring`, `summer`, `fall`, and  `dteday` from `BSS_train` (if any of them still remain).\n",
    "\n",
    "**4.2** Write a function to standardize a provided subset of columns in your training/validation/test sets. Remember that while you will be scaling all of your data, you must learn the scaling parameters (mean and SD) from only the training set.\n",
    "\n",
    "Test your code by building a list of all non-binary columns from `X_train` into a dataset called `practice_X_train` and scaling only those columns. Call the result `practice_X_train_scaled`. Display the `.describe()` and verify that you have correctly scaled all columns, including the polynomial columns.\n",
    "\n",
    "**Hint: employ the provided list of binary columns and use `pd.columns.difference()`**\n",
    "\n",
    "`binary_columns = [ 'holiday', 'workingday','Feb', 'Mar', 'Apr',\n",
    "       'May', 'Jun', 'Jul', 'Aug', 'Sept', 'Oct', 'Nov', 'Dec', 'spring',\n",
    "       'summer', 'fall', 'Mon', 'Tue', 'Wed', 'Thu', 'Fri', 'Sat',\n",
    "       'Cloudy', 'Snow', 'Storm']`\n",
    "\n",
    "\n",
    "**4.3** Write a code to augment your a dataset with higher-order features for `temp`, `hum`,`windspeed`, and `hour`. You should include ONLY the pure powers of these columns. So with degree=2 you should produce `temp^2` and `hum^2` but not `temp*hum` or any other two-feature interactions. \n",
    "\n",
    "Encapsulate this process as a function with appropriate inputs and outputs, and test your code by producing `practice_X_train_poly`, a training dataset with quadratic and cubic features built from `practice_X_train_scaled`, and printing `practice_X_train_poly`'s column names and `.head()`.\n",
    "\n",
    "**4.4** Write code to add interaction terms to the model. Specifically, we want interactions between the continuous predictors (`temp`, `hum`,`windspeed`) and the month and weekday dummies (`Feb`, `Mar`...`Dec`, `Mon`, `Tue`, ... `Sat`). That means you SHOULD build `temp*Feb` and `hum*Mon` and so on, but NOT `Feb*Mar` and NOT `Feb*Tue`. The interaction terms should always be a continuous feature times a month dummy or a continuous feature times a weekday dummy.\n",
    "\n",
    "Encapsulate this process as a function with appropriate inputs and outputs, and test your code by adding interaction terms to `practice_X_train_poly` and show its column names and `.head()`**\n",
    "\n",
    "**4.5** Combine all your code so far into a function named `get_design_mats` that takes in `BSS_train`, `BSS_test`, the names of columns for polynomial, the target column, the columns to be dropped and produces computation-ready design matrices `X_train` and `X_test` and responses `y_train` and `y_test`. Your final function should build correct, scaled design matrices with the stated interaction terms and any polynomial degree.\n",
    "\n",
    "\n",
    "**4.6** For each degree in 1 through 8:\n",
    "\n",
    "1.  Build the training design matrix and validation design matrix using the function `get_design_mats` with polynomial terms up through the specified degree.\n",
    "\n",
    "2.  Fit a regression model to the training data.\n",
    "\n",
    "3.  Report the model's score on the test data.\n",
    "\n",
    "**4.7** Discuss patterns you see in the results from 4.5. Which model would you select, and why?"
   ]
  },
  {
   "cell_type": "markdown",
   "metadata": {
    "button": false,
    "new_sheet": false,
    "run_control": {
     "read_only": false
    }
   },
   "source": [
    "### Answers"
   ]
  },
  {
   "cell_type": "markdown",
   "metadata": {
    "button": false,
    "new_sheet": false,
    "run_control": {
     "read_only": false
    }
   },
   "source": [
    "**4.1 Drop...**"
   ]
  },
  {
   "cell_type": "code",
   "execution_count": 11,
   "metadata": {
    "button": false,
    "new_sheet": false,
    "run_control": {
     "read_only": false
    }
   },
   "outputs": [
    {
     "data": {
      "text/html": [
       "<div>\n",
       "<style scoped>\n",
       "    .dataframe tbody tr th:only-of-type {\n",
       "        vertical-align: middle;\n",
       "    }\n",
       "\n",
       "    .dataframe tbody tr th {\n",
       "        vertical-align: top;\n",
       "    }\n",
       "\n",
       "    .dataframe thead th {\n",
       "        text-align: right;\n",
       "    }\n",
       "</style>\n",
       "<table border=\"1\" class=\"dataframe\">\n",
       "  <thead>\n",
       "    <tr style=\"text-align: right;\">\n",
       "      <th></th>\n",
       "      <th>hour</th>\n",
       "      <th>holiday</th>\n",
       "      <th>year</th>\n",
       "      <th>temp</th>\n",
       "      <th>hum</th>\n",
       "      <th>windspeed</th>\n",
       "      <th>casual</th>\n",
       "      <th>registered</th>\n",
       "      <th>counts</th>\n",
       "      <th>Feb</th>\n",
       "      <th>...</th>\n",
       "      <th>Dec</th>\n",
       "      <th>Mon</th>\n",
       "      <th>Tue</th>\n",
       "      <th>Wed</th>\n",
       "      <th>Thu</th>\n",
       "      <th>Fri</th>\n",
       "      <th>Sat</th>\n",
       "      <th>Cloudy</th>\n",
       "      <th>Snow</th>\n",
       "      <th>Storm</th>\n",
       "    </tr>\n",
       "  </thead>\n",
       "  <tbody>\n",
       "    <tr>\n",
       "      <th>0</th>\n",
       "      <td>21</td>\n",
       "      <td>0</td>\n",
       "      <td>1</td>\n",
       "      <td>0.24</td>\n",
       "      <td>0.60</td>\n",
       "      <td>0.2537</td>\n",
       "      <td>12</td>\n",
       "      <td>51</td>\n",
       "      <td>63</td>\n",
       "      <td>0</td>\n",
       "      <td>...</td>\n",
       "      <td>1</td>\n",
       "      <td>0</td>\n",
       "      <td>0</td>\n",
       "      <td>0</td>\n",
       "      <td>1</td>\n",
       "      <td>0</td>\n",
       "      <td>0</td>\n",
       "      <td>1</td>\n",
       "      <td>0</td>\n",
       "      <td>0</td>\n",
       "    </tr>\n",
       "    <tr>\n",
       "      <th>1</th>\n",
       "      <td>17</td>\n",
       "      <td>0</td>\n",
       "      <td>0</td>\n",
       "      <td>0.62</td>\n",
       "      <td>0.83</td>\n",
       "      <td>0.2537</td>\n",
       "      <td>47</td>\n",
       "      <td>432</td>\n",
       "      <td>479</td>\n",
       "      <td>0</td>\n",
       "      <td>...</td>\n",
       "      <td>0</td>\n",
       "      <td>0</td>\n",
       "      <td>0</td>\n",
       "      <td>0</td>\n",
       "      <td>1</td>\n",
       "      <td>0</td>\n",
       "      <td>0</td>\n",
       "      <td>0</td>\n",
       "      <td>1</td>\n",
       "      <td>0</td>\n",
       "    </tr>\n",
       "    <tr>\n",
       "      <th>2</th>\n",
       "      <td>9</td>\n",
       "      <td>0</td>\n",
       "      <td>1</td>\n",
       "      <td>0.76</td>\n",
       "      <td>0.66</td>\n",
       "      <td>0.1642</td>\n",
       "      <td>54</td>\n",
       "      <td>299</td>\n",
       "      <td>353</td>\n",
       "      <td>0</td>\n",
       "      <td>...</td>\n",
       "      <td>0</td>\n",
       "      <td>0</td>\n",
       "      <td>0</td>\n",
       "      <td>0</td>\n",
       "      <td>1</td>\n",
       "      <td>0</td>\n",
       "      <td>0</td>\n",
       "      <td>0</td>\n",
       "      <td>0</td>\n",
       "      <td>0</td>\n",
       "    </tr>\n",
       "    <tr>\n",
       "      <th>3</th>\n",
       "      <td>17</td>\n",
       "      <td>0</td>\n",
       "      <td>1</td>\n",
       "      <td>0.62</td>\n",
       "      <td>0.22</td>\n",
       "      <td>0.2985</td>\n",
       "      <td>185</td>\n",
       "      <td>226</td>\n",
       "      <td>411</td>\n",
       "      <td>0</td>\n",
       "      <td>...</td>\n",
       "      <td>0</td>\n",
       "      <td>0</td>\n",
       "      <td>0</td>\n",
       "      <td>0</td>\n",
       "      <td>0</td>\n",
       "      <td>0</td>\n",
       "      <td>0</td>\n",
       "      <td>0</td>\n",
       "      <td>0</td>\n",
       "      <td>0</td>\n",
       "    </tr>\n",
       "    <tr>\n",
       "      <th>4</th>\n",
       "      <td>8</td>\n",
       "      <td>0</td>\n",
       "      <td>1</td>\n",
       "      <td>0.18</td>\n",
       "      <td>0.40</td>\n",
       "      <td>0.1343</td>\n",
       "      <td>9</td>\n",
       "      <td>61</td>\n",
       "      <td>70</td>\n",
       "      <td>0</td>\n",
       "      <td>...</td>\n",
       "      <td>0</td>\n",
       "      <td>0</td>\n",
       "      <td>0</td>\n",
       "      <td>0</td>\n",
       "      <td>0</td>\n",
       "      <td>0</td>\n",
       "      <td>0</td>\n",
       "      <td>0</td>\n",
       "      <td>0</td>\n",
       "      <td>0</td>\n",
       "    </tr>\n",
       "  </tbody>\n",
       "</table>\n",
       "<p>5 rows × 29 columns</p>\n",
       "</div>"
      ],
      "text/plain": [
       "   hour  holiday  year  temp   hum  windspeed  casual  registered  counts  \\\n",
       "0    21        0     1  0.24  0.60     0.2537      12          51      63   \n",
       "1    17        0     0  0.62  0.83     0.2537      47         432     479   \n",
       "2     9        0     1  0.76  0.66     0.1642      54         299     353   \n",
       "3    17        0     1  0.62  0.22     0.2985     185         226     411   \n",
       "4     8        0     1  0.18  0.40     0.1343       9          61      70   \n",
       "\n",
       "   Feb  ...  Dec  Mon  Tue  Wed  Thu  Fri  Sat  Cloudy  Snow  Storm  \n",
       "0    0  ...    1    0    0    0    1    0    0       1     0      0  \n",
       "1    0  ...    0    0    0    0    1    0    0       0     1      0  \n",
       "2    0  ...    0    0    0    0    1    0    0       0     0      0  \n",
       "3    0  ...    0    0    0    0    0    0    0       0     0      0  \n",
       "4    0  ...    0    0    0    0    0    0    0       0     0      0  \n",
       "\n",
       "[5 rows x 29 columns]"
      ]
     },
     "execution_count": 11,
     "metadata": {},
     "output_type": "execute_result"
    }
   ],
   "source": [
    "BSS_train = BSS_train.drop(columns = ['workingday', 'atemp', 'spring', 'summer', 'fall'])\n",
    "BSS_test = BSS_test.drop(columns = ['workingday', 'atemp', 'spring', 'summer', 'fall'])\n",
    "# Drop columns from X_train for testing\n",
    "X_train = X_train.drop(columns = ['workingday', 'atemp', 'spring', 'summer', 'fall'])\n",
    "BSS_train.head()"
   ]
  },
  {
   "cell_type": "markdown",
   "metadata": {
    "button": false,
    "new_sheet": false,
    "run_control": {
     "read_only": false
    }
   },
   "source": [
    "**4.2 Write a function to standardize...**"
   ]
  },
  {
   "cell_type": "code",
   "execution_count": 12,
   "metadata": {
    "button": false,
    "new_sheet": false,
    "run_control": {
     "read_only": false
    }
   },
   "outputs": [],
   "source": [
    "def make_standardized_df(train, test, excluded_cols = [ 'const','holiday', 'workingday','Feb', 'Mar', 'Apr', 'May', 'Jun', \n",
    "                  'Jul', 'Aug', 'Sept', 'Oct', 'Nov', 'Dec', 'spring', 'summer', \n",
    "                  'fall', 'Mon', 'Tue', 'Wed', 'Thu', 'Fri', 'Sat', 'Cloudy', \n",
    "                  'Snow', 'Storm']):\n",
    "    # Manually standardizing instead of using StandardScaler\n",
    "    train_standard_cols = train[train.columns.difference(excluded_cols)]\n",
    "    test_standard_cols = test[test.columns.difference(excluded_cols)]\n",
    "    for i in train_standard_cols.keys():\n",
    "        mean = train_standard_cols[i].mean()\n",
    "        stdev = train_standard_cols[i].std()\n",
    "        train_standard_cols[i] = (train_standard_cols[i] - mean)/stdev\n",
    "        test_standard_cols[i] = (test_standard_cols[i] - mean)/stdev\n",
    "    train.update(train_standard_cols)\n",
    "    test.update(test_standard_cols)\n",
    "    return train, test"
   ]
  },
  {
   "cell_type": "code",
   "execution_count": 13,
   "metadata": {},
   "outputs": [
    {
     "name": "stderr",
     "output_type": "stream",
     "text": [
      "//anaconda3/lib/python3.7/site-packages/ipykernel_launcher.py:11: SettingWithCopyWarning: \n",
      "A value is trying to be set on a copy of a slice from a DataFrame.\n",
      "Try using .loc[row_indexer,col_indexer] = value instead\n",
      "\n",
      "See the caveats in the documentation: http://pandas.pydata.org/pandas-docs/stable/indexing.html#indexing-view-versus-copy\n",
      "  # This is added back by InteractiveShellApp.init_path()\n",
      "//anaconda3/lib/python3.7/site-packages/ipykernel_launcher.py:12: SettingWithCopyWarning: \n",
      "A value is trying to be set on a copy of a slice from a DataFrame.\n",
      "Try using .loc[row_indexer,col_indexer] = value instead\n",
      "\n",
      "See the caveats in the documentation: http://pandas.pydata.org/pandas-docs/stable/indexing.html#indexing-view-versus-copy\n",
      "  if sys.path[0] == '':\n"
     ]
    }
   ],
   "source": [
    "practice_X_train = X_train.copy()\n",
    "practice_X_test = X_test.copy()\n",
    "practice_X_train_scaled, practice_X_test_scaled = make_standardized_df(practice_X_train, practice_X_test)"
   ]
  },
  {
   "cell_type": "code",
   "execution_count": 14,
   "metadata": {},
   "outputs": [
    {
     "data": {
      "text/html": [
       "<div>\n",
       "<style scoped>\n",
       "    .dataframe tbody tr th:only-of-type {\n",
       "        vertical-align: middle;\n",
       "    }\n",
       "\n",
       "    .dataframe tbody tr th {\n",
       "        vertical-align: top;\n",
       "    }\n",
       "\n",
       "    .dataframe thead th {\n",
       "        text-align: right;\n",
       "    }\n",
       "</style>\n",
       "<table border=\"1\" class=\"dataframe\">\n",
       "  <thead>\n",
       "    <tr style=\"text-align: right;\">\n",
       "      <th></th>\n",
       "      <th>const</th>\n",
       "      <th>hour</th>\n",
       "      <th>holiday</th>\n",
       "      <th>year</th>\n",
       "      <th>temp</th>\n",
       "      <th>hum</th>\n",
       "      <th>windspeed</th>\n",
       "      <th>Feb</th>\n",
       "      <th>Mar</th>\n",
       "      <th>Apr</th>\n",
       "      <th>...</th>\n",
       "      <th>Dec</th>\n",
       "      <th>Mon</th>\n",
       "      <th>Tue</th>\n",
       "      <th>Wed</th>\n",
       "      <th>Thu</th>\n",
       "      <th>Fri</th>\n",
       "      <th>Sat</th>\n",
       "      <th>Cloudy</th>\n",
       "      <th>Snow</th>\n",
       "      <th>Storm</th>\n",
       "    </tr>\n",
       "  </thead>\n",
       "  <tbody>\n",
       "    <tr>\n",
       "      <th>count</th>\n",
       "      <td>8689.0</td>\n",
       "      <td>8.689000e+03</td>\n",
       "      <td>8689.000000</td>\n",
       "      <td>8.689000e+03</td>\n",
       "      <td>8.689000e+03</td>\n",
       "      <td>8.689000e+03</td>\n",
       "      <td>8.689000e+03</td>\n",
       "      <td>8689.000000</td>\n",
       "      <td>8689.000000</td>\n",
       "      <td>8689.000000</td>\n",
       "      <td>...</td>\n",
       "      <td>8689.000000</td>\n",
       "      <td>8689.000000</td>\n",
       "      <td>8689.000000</td>\n",
       "      <td>8689.000000</td>\n",
       "      <td>8689.000000</td>\n",
       "      <td>8689.000000</td>\n",
       "      <td>8689.000000</td>\n",
       "      <td>8689.000000</td>\n",
       "      <td>8689.000000</td>\n",
       "      <td>8689.000000</td>\n",
       "    </tr>\n",
       "    <tr>\n",
       "      <th>mean</th>\n",
       "      <td>1.0</td>\n",
       "      <td>7.326526e-17</td>\n",
       "      <td>0.029347</td>\n",
       "      <td>1.077015e-15</td>\n",
       "      <td>1.180187e-14</td>\n",
       "      <td>3.874411e-14</td>\n",
       "      <td>7.452489e-14</td>\n",
       "      <td>0.077224</td>\n",
       "      <td>0.084705</td>\n",
       "      <td>0.082748</td>\n",
       "      <td>...</td>\n",
       "      <td>0.085280</td>\n",
       "      <td>0.144205</td>\n",
       "      <td>0.137875</td>\n",
       "      <td>0.141788</td>\n",
       "      <td>0.144551</td>\n",
       "      <td>0.143975</td>\n",
       "      <td>0.146047</td>\n",
       "      <td>0.257567</td>\n",
       "      <td>0.083324</td>\n",
       "      <td>0.000230</td>\n",
       "    </tr>\n",
       "    <tr>\n",
       "      <th>std</th>\n",
       "      <td>0.0</td>\n",
       "      <td>1.000000e+00</td>\n",
       "      <td>0.168788</td>\n",
       "      <td>1.000000e+00</td>\n",
       "      <td>1.000000e+00</td>\n",
       "      <td>1.000000e+00</td>\n",
       "      <td>1.000000e+00</td>\n",
       "      <td>0.266962</td>\n",
       "      <td>0.278458</td>\n",
       "      <td>0.275517</td>\n",
       "      <td>...</td>\n",
       "      <td>0.279314</td>\n",
       "      <td>0.351318</td>\n",
       "      <td>0.344789</td>\n",
       "      <td>0.348853</td>\n",
       "      <td>0.351667</td>\n",
       "      <td>0.351085</td>\n",
       "      <td>0.353173</td>\n",
       "      <td>0.437319</td>\n",
       "      <td>0.276387</td>\n",
       "      <td>0.015171</td>\n",
       "    </tr>\n",
       "    <tr>\n",
       "      <th>min</th>\n",
       "      <td>1.0</td>\n",
       "      <td>-1.666263e+00</td>\n",
       "      <td>0.000000</td>\n",
       "      <td>-1.006755e+00</td>\n",
       "      <td>-2.474050e+00</td>\n",
       "      <td>-3.251787e+00</td>\n",
       "      <td>-1.546547e+00</td>\n",
       "      <td>0.000000</td>\n",
       "      <td>0.000000</td>\n",
       "      <td>0.000000</td>\n",
       "      <td>...</td>\n",
       "      <td>0.000000</td>\n",
       "      <td>0.000000</td>\n",
       "      <td>0.000000</td>\n",
       "      <td>0.000000</td>\n",
       "      <td>0.000000</td>\n",
       "      <td>0.000000</td>\n",
       "      <td>0.000000</td>\n",
       "      <td>0.000000</td>\n",
       "      <td>0.000000</td>\n",
       "      <td>0.000000</td>\n",
       "    </tr>\n",
       "    <tr>\n",
       "      <th>25%</th>\n",
       "      <td>1.0</td>\n",
       "      <td>-8.042200e-01</td>\n",
       "      <td>0.000000</td>\n",
       "      <td>-1.006755e+00</td>\n",
       "      <td>-8.122357e-01</td>\n",
       "      <td>-7.554373e-01</td>\n",
       "      <td>-6.986934e-01</td>\n",
       "      <td>0.000000</td>\n",
       "      <td>0.000000</td>\n",
       "      <td>0.000000</td>\n",
       "      <td>...</td>\n",
       "      <td>0.000000</td>\n",
       "      <td>0.000000</td>\n",
       "      <td>0.000000</td>\n",
       "      <td>0.000000</td>\n",
       "      <td>0.000000</td>\n",
       "      <td>0.000000</td>\n",
       "      <td>0.000000</td>\n",
       "      <td>0.000000</td>\n",
       "      <td>0.000000</td>\n",
       "      <td>0.000000</td>\n",
       "    </tr>\n",
       "    <tr>\n",
       "      <th>50%</th>\n",
       "      <td>1.0</td>\n",
       "      <td>5.782341e-02</td>\n",
       "      <td>0.000000</td>\n",
       "      <td>9.931755e-01</td>\n",
       "      <td>1.867126e-02</td>\n",
       "      <td>-2.733539e-02</td>\n",
       "      <td>2.745877e-02</td>\n",
       "      <td>0.000000</td>\n",
       "      <td>0.000000</td>\n",
       "      <td>0.000000</td>\n",
       "      <td>...</td>\n",
       "      <td>0.000000</td>\n",
       "      <td>0.000000</td>\n",
       "      <td>0.000000</td>\n",
       "      <td>0.000000</td>\n",
       "      <td>0.000000</td>\n",
       "      <td>0.000000</td>\n",
       "      <td>0.000000</td>\n",
       "      <td>0.000000</td>\n",
       "      <td>0.000000</td>\n",
       "      <td>0.000000</td>\n",
       "    </tr>\n",
       "    <tr>\n",
       "      <th>75%</th>\n",
       "      <td>1.0</td>\n",
       "      <td>9.198668e-01</td>\n",
       "      <td>0.000000</td>\n",
       "      <td>9.931755e-01</td>\n",
       "      <td>8.495782e-01</td>\n",
       "      <td>8.047811e-01</td>\n",
       "      <td>5.118307e-01</td>\n",
       "      <td>0.000000</td>\n",
       "      <td>0.000000</td>\n",
       "      <td>0.000000</td>\n",
       "      <td>...</td>\n",
       "      <td>0.000000</td>\n",
       "      <td>0.000000</td>\n",
       "      <td>0.000000</td>\n",
       "      <td>0.000000</td>\n",
       "      <td>0.000000</td>\n",
       "      <td>0.000000</td>\n",
       "      <td>0.000000</td>\n",
       "      <td>1.000000</td>\n",
       "      <td>0.000000</td>\n",
       "      <td>0.000000</td>\n",
       "    </tr>\n",
       "    <tr>\n",
       "      <th>max</th>\n",
       "      <td>1.0</td>\n",
       "      <td>1.638236e+00</td>\n",
       "      <td>1.000000</td>\n",
       "      <td>9.931755e-01</td>\n",
       "      <td>2.511392e+00</td>\n",
       "      <td>1.948941e+00</td>\n",
       "      <td>5.355550e+00</td>\n",
       "      <td>1.000000</td>\n",
       "      <td>1.000000</td>\n",
       "      <td>1.000000</td>\n",
       "      <td>...</td>\n",
       "      <td>1.000000</td>\n",
       "      <td>1.000000</td>\n",
       "      <td>1.000000</td>\n",
       "      <td>1.000000</td>\n",
       "      <td>1.000000</td>\n",
       "      <td>1.000000</td>\n",
       "      <td>1.000000</td>\n",
       "      <td>1.000000</td>\n",
       "      <td>1.000000</td>\n",
       "      <td>1.000000</td>\n",
       "    </tr>\n",
       "  </tbody>\n",
       "</table>\n",
       "<p>8 rows × 27 columns</p>\n",
       "</div>"
      ],
      "text/plain": [
       "        const          hour      holiday          year          temp  \\\n",
       "count  8689.0  8.689000e+03  8689.000000  8.689000e+03  8.689000e+03   \n",
       "mean      1.0  7.326526e-17     0.029347  1.077015e-15  1.180187e-14   \n",
       "std       0.0  1.000000e+00     0.168788  1.000000e+00  1.000000e+00   \n",
       "min       1.0 -1.666263e+00     0.000000 -1.006755e+00 -2.474050e+00   \n",
       "25%       1.0 -8.042200e-01     0.000000 -1.006755e+00 -8.122357e-01   \n",
       "50%       1.0  5.782341e-02     0.000000  9.931755e-01  1.867126e-02   \n",
       "75%       1.0  9.198668e-01     0.000000  9.931755e-01  8.495782e-01   \n",
       "max       1.0  1.638236e+00     1.000000  9.931755e-01  2.511392e+00   \n",
       "\n",
       "                hum     windspeed          Feb          Mar          Apr  ...  \\\n",
       "count  8.689000e+03  8.689000e+03  8689.000000  8689.000000  8689.000000  ...   \n",
       "mean   3.874411e-14  7.452489e-14     0.077224     0.084705     0.082748  ...   \n",
       "std    1.000000e+00  1.000000e+00     0.266962     0.278458     0.275517  ...   \n",
       "min   -3.251787e+00 -1.546547e+00     0.000000     0.000000     0.000000  ...   \n",
       "25%   -7.554373e-01 -6.986934e-01     0.000000     0.000000     0.000000  ...   \n",
       "50%   -2.733539e-02  2.745877e-02     0.000000     0.000000     0.000000  ...   \n",
       "75%    8.047811e-01  5.118307e-01     0.000000     0.000000     0.000000  ...   \n",
       "max    1.948941e+00  5.355550e+00     1.000000     1.000000     1.000000  ...   \n",
       "\n",
       "               Dec          Mon          Tue          Wed          Thu  \\\n",
       "count  8689.000000  8689.000000  8689.000000  8689.000000  8689.000000   \n",
       "mean      0.085280     0.144205     0.137875     0.141788     0.144551   \n",
       "std       0.279314     0.351318     0.344789     0.348853     0.351667   \n",
       "min       0.000000     0.000000     0.000000     0.000000     0.000000   \n",
       "25%       0.000000     0.000000     0.000000     0.000000     0.000000   \n",
       "50%       0.000000     0.000000     0.000000     0.000000     0.000000   \n",
       "75%       0.000000     0.000000     0.000000     0.000000     0.000000   \n",
       "max       1.000000     1.000000     1.000000     1.000000     1.000000   \n",
       "\n",
       "               Fri          Sat       Cloudy         Snow        Storm  \n",
       "count  8689.000000  8689.000000  8689.000000  8689.000000  8689.000000  \n",
       "mean      0.143975     0.146047     0.257567     0.083324     0.000230  \n",
       "std       0.351085     0.353173     0.437319     0.276387     0.015171  \n",
       "min       0.000000     0.000000     0.000000     0.000000     0.000000  \n",
       "25%       0.000000     0.000000     0.000000     0.000000     0.000000  \n",
       "50%       0.000000     0.000000     0.000000     0.000000     0.000000  \n",
       "75%       0.000000     0.000000     1.000000     0.000000     0.000000  \n",
       "max       1.000000     1.000000     1.000000     1.000000     1.000000  \n",
       "\n",
       "[8 rows x 27 columns]"
      ]
     },
     "execution_count": 14,
     "metadata": {},
     "output_type": "execute_result"
    }
   ],
   "source": [
    "practice_X_train_scaled.describe()"
   ]
  },
  {
   "cell_type": "markdown",
   "metadata": {
    "button": false,
    "new_sheet": false,
    "run_control": {
     "read_only": false
    }
   },
   "source": [
    "**4.3 Write code to augment your a dataset with higher-order features for...**"
   ]
  },
  {
   "cell_type": "code",
   "execution_count": 15,
   "metadata": {
    "button": false,
    "new_sheet": false,
    "run_control": {
     "read_only": false
    }
   },
   "outputs": [],
   "source": [
    "def add_higher_order_polynomial_terms(df, cols_to_add, degree):\n",
    "    df = df.copy()\n",
    "    cols = df.loc[:,cols_to_add].columns.copy()\n",
    "    for col in cols:\n",
    "        for i in range(2, degree+1):\n",
    "            df['{}^{}'.format(col, i)] = df[col]**i\n",
    "    return df"
   ]
  },
  {
   "cell_type": "code",
   "execution_count": 16,
   "metadata": {},
   "outputs": [],
   "source": [
    "cols_to_add = ['temp', 'hum','windspeed','hour']\n",
    "practice_X_train_poly = add_higher_order_polynomial_terms(practice_X_train_scaled, cols_to_add, 3)"
   ]
  },
  {
   "cell_type": "code",
   "execution_count": 17,
   "metadata": {},
   "outputs": [
    {
     "name": "stdout",
     "output_type": "stream",
     "text": [
      "Index(['const', 'hour', 'holiday', 'year', 'temp', 'hum', 'windspeed', 'Feb',\n",
      "       'Mar', 'Apr', 'May', 'Jun', 'Jul', 'Aug', 'Sept', 'Oct', 'Nov', 'Dec',\n",
      "       'Mon', 'Tue', 'Wed', 'Thu', 'Fri', 'Sat', 'Cloudy', 'Snow', 'Storm',\n",
      "       'temp^2', 'temp^3', 'hum^2', 'hum^3', 'windspeed^2', 'windspeed^3',\n",
      "       'hour^2', 'hour^3'],\n",
      "      dtype='object')\n"
     ]
    },
    {
     "data": {
      "text/html": [
       "<div>\n",
       "<style scoped>\n",
       "    .dataframe tbody tr th:only-of-type {\n",
       "        vertical-align: middle;\n",
       "    }\n",
       "\n",
       "    .dataframe tbody tr th {\n",
       "        vertical-align: top;\n",
       "    }\n",
       "\n",
       "    .dataframe thead th {\n",
       "        text-align: right;\n",
       "    }\n",
       "</style>\n",
       "<table border=\"1\" class=\"dataframe\">\n",
       "  <thead>\n",
       "    <tr style=\"text-align: right;\">\n",
       "      <th></th>\n",
       "      <th>const</th>\n",
       "      <th>hour</th>\n",
       "      <th>holiday</th>\n",
       "      <th>year</th>\n",
       "      <th>temp</th>\n",
       "      <th>hum</th>\n",
       "      <th>windspeed</th>\n",
       "      <th>Feb</th>\n",
       "      <th>Mar</th>\n",
       "      <th>Apr</th>\n",
       "      <th>...</th>\n",
       "      <th>Snow</th>\n",
       "      <th>Storm</th>\n",
       "      <th>temp^2</th>\n",
       "      <th>temp^3</th>\n",
       "      <th>hum^2</th>\n",
       "      <th>hum^3</th>\n",
       "      <th>windspeed^2</th>\n",
       "      <th>windspeed^3</th>\n",
       "      <th>hour^2</th>\n",
       "      <th>hour^3</th>\n",
       "    </tr>\n",
       "  </thead>\n",
       "  <tbody>\n",
       "    <tr>\n",
       "      <th>0</th>\n",
       "      <td>1.0</td>\n",
       "      <td>1.350889</td>\n",
       "      <td>0</td>\n",
       "      <td>0.993176</td>\n",
       "      <td>-1.331553</td>\n",
       "      <td>-0.131350</td>\n",
       "      <td>0.511831</td>\n",
       "      <td>0</td>\n",
       "      <td>0</td>\n",
       "      <td>0</td>\n",
       "      <td>...</td>\n",
       "      <td>0</td>\n",
       "      <td>0</td>\n",
       "      <td>1.773032</td>\n",
       "      <td>-2.360885</td>\n",
       "      <td>0.017253</td>\n",
       "      <td>-0.002266</td>\n",
       "      <td>0.261971</td>\n",
       "      <td>0.134085</td>\n",
       "      <td>1.824900</td>\n",
       "      <td>2.465236</td>\n",
       "    </tr>\n",
       "    <tr>\n",
       "      <th>1</th>\n",
       "      <td>1.0</td>\n",
       "      <td>0.776193</td>\n",
       "      <td>0</td>\n",
       "      <td>-1.006755</td>\n",
       "      <td>0.641851</td>\n",
       "      <td>1.064817</td>\n",
       "      <td>0.511831</td>\n",
       "      <td>0</td>\n",
       "      <td>0</td>\n",
       "      <td>0</td>\n",
       "      <td>...</td>\n",
       "      <td>1</td>\n",
       "      <td>0</td>\n",
       "      <td>0.411973</td>\n",
       "      <td>0.264426</td>\n",
       "      <td>1.133836</td>\n",
       "      <td>1.207329</td>\n",
       "      <td>0.261971</td>\n",
       "      <td>0.134085</td>\n",
       "      <td>0.602475</td>\n",
       "      <td>0.467637</td>\n",
       "    </tr>\n",
       "    <tr>\n",
       "      <th>2</th>\n",
       "      <td>1.0</td>\n",
       "      <td>-0.373198</td>\n",
       "      <td>0</td>\n",
       "      <td>0.993176</td>\n",
       "      <td>1.368895</td>\n",
       "      <td>0.180694</td>\n",
       "      <td>-0.214322</td>\n",
       "      <td>0</td>\n",
       "      <td>0</td>\n",
       "      <td>0</td>\n",
       "      <td>...</td>\n",
       "      <td>0</td>\n",
       "      <td>0</td>\n",
       "      <td>1.873874</td>\n",
       "      <td>2.565136</td>\n",
       "      <td>0.032650</td>\n",
       "      <td>0.005900</td>\n",
       "      <td>0.045934</td>\n",
       "      <td>-0.009845</td>\n",
       "      <td>0.139277</td>\n",
       "      <td>-0.051978</td>\n",
       "    </tr>\n",
       "    <tr>\n",
       "      <th>3</th>\n",
       "      <td>1.0</td>\n",
       "      <td>0.776193</td>\n",
       "      <td>0</td>\n",
       "      <td>0.993176</td>\n",
       "      <td>0.641851</td>\n",
       "      <td>-2.107627</td>\n",
       "      <td>0.875312</td>\n",
       "      <td>0</td>\n",
       "      <td>0</td>\n",
       "      <td>1</td>\n",
       "      <td>...</td>\n",
       "      <td>0</td>\n",
       "      <td>0</td>\n",
       "      <td>0.411973</td>\n",
       "      <td>0.264426</td>\n",
       "      <td>4.442090</td>\n",
       "      <td>-9.362266</td>\n",
       "      <td>0.766172</td>\n",
       "      <td>0.670640</td>\n",
       "      <td>0.602475</td>\n",
       "      <td>0.467637</td>\n",
       "    </tr>\n",
       "    <tr>\n",
       "      <th>4</th>\n",
       "      <td>1.0</td>\n",
       "      <td>-0.516872</td>\n",
       "      <td>0</td>\n",
       "      <td>0.993176</td>\n",
       "      <td>-1.643143</td>\n",
       "      <td>-1.171496</td>\n",
       "      <td>-0.456913</td>\n",
       "      <td>0</td>\n",
       "      <td>0</td>\n",
       "      <td>0</td>\n",
       "      <td>...</td>\n",
       "      <td>0</td>\n",
       "      <td>0</td>\n",
       "      <td>2.699918</td>\n",
       "      <td>-4.436350</td>\n",
       "      <td>1.372402</td>\n",
       "      <td>-1.607762</td>\n",
       "      <td>0.208770</td>\n",
       "      <td>-0.095390</td>\n",
       "      <td>0.267157</td>\n",
       "      <td>-0.138086</td>\n",
       "    </tr>\n",
       "  </tbody>\n",
       "</table>\n",
       "<p>5 rows × 35 columns</p>\n",
       "</div>"
      ],
      "text/plain": [
       "   const      hour  holiday      year      temp       hum  windspeed  Feb  \\\n",
       "0    1.0  1.350889        0  0.993176 -1.331553 -0.131350   0.511831    0   \n",
       "1    1.0  0.776193        0 -1.006755  0.641851  1.064817   0.511831    0   \n",
       "2    1.0 -0.373198        0  0.993176  1.368895  0.180694  -0.214322    0   \n",
       "3    1.0  0.776193        0  0.993176  0.641851 -2.107627   0.875312    0   \n",
       "4    1.0 -0.516872        0  0.993176 -1.643143 -1.171496  -0.456913    0   \n",
       "\n",
       "   Mar  Apr  ...  Snow  Storm    temp^2    temp^3     hum^2     hum^3  \\\n",
       "0    0    0  ...     0      0  1.773032 -2.360885  0.017253 -0.002266   \n",
       "1    0    0  ...     1      0  0.411973  0.264426  1.133836  1.207329   \n",
       "2    0    0  ...     0      0  1.873874  2.565136  0.032650  0.005900   \n",
       "3    0    1  ...     0      0  0.411973  0.264426  4.442090 -9.362266   \n",
       "4    0    0  ...     0      0  2.699918 -4.436350  1.372402 -1.607762   \n",
       "\n",
       "   windspeed^2  windspeed^3    hour^2    hour^3  \n",
       "0     0.261971     0.134085  1.824900  2.465236  \n",
       "1     0.261971     0.134085  0.602475  0.467637  \n",
       "2     0.045934    -0.009845  0.139277 -0.051978  \n",
       "3     0.766172     0.670640  0.602475  0.467637  \n",
       "4     0.208770    -0.095390  0.267157 -0.138086  \n",
       "\n",
       "[5 rows x 35 columns]"
      ]
     },
     "execution_count": 17,
     "metadata": {},
     "output_type": "execute_result"
    }
   ],
   "source": [
    "print(practice_X_train_poly.columns)\n",
    "practice_X_train_poly.head()"
   ]
  },
  {
   "cell_type": "markdown",
   "metadata": {
    "button": false,
    "new_sheet": false,
    "run_control": {
     "read_only": false
    }
   },
   "source": [
    "**4.4 Write code to add interaction terms to the model...**"
   ]
  },
  {
   "cell_type": "code",
   "execution_count": 18,
   "metadata": {
    "button": false,
    "new_sheet": false,
    "run_control": {
     "read_only": false
    }
   },
   "outputs": [],
   "source": [
    "def add_interactive_terms(df):\n",
    "    df = df.copy()\n",
    "    cols_continuous = ['temp','hum','windspeed']\n",
    "    cols_dummy = ['Feb', 'Mar', 'Apr', 'May', 'Jun', 'Jul', 'Aug', 'Sept', \n",
    "                  'Oct', 'Nov', 'Dec', 'Mon', 'Tue','Wed', 'Thu', 'Fri', 'Sat']\n",
    "    \n",
    "    for col1 in cols_continuous:\n",
    "        for col2 in cols_dummy:\n",
    "            df['{}*{}'.format(col1, col2)] = df[col1]*df[col2]\n",
    "    return df"
   ]
  },
  {
   "cell_type": "code",
   "execution_count": 19,
   "metadata": {},
   "outputs": [
    {
     "name": "stdout",
     "output_type": "stream",
     "text": [
      "Index(['const', 'hour', 'holiday', 'year', 'temp', 'hum', 'windspeed', 'Feb',\n",
      "       'Mar', 'Apr', 'May', 'Jun', 'Jul', 'Aug', 'Sept', 'Oct', 'Nov', 'Dec',\n",
      "       'Mon', 'Tue', 'Wed', 'Thu', 'Fri', 'Sat', 'Cloudy', 'Snow', 'Storm',\n",
      "       'temp^2', 'temp^3', 'hum^2', 'hum^3', 'windspeed^2', 'windspeed^3',\n",
      "       'hour^2', 'hour^3', 'temp*Feb', 'temp*Mar', 'temp*Apr', 'temp*May',\n",
      "       'temp*Jun', 'temp*Jul', 'temp*Aug', 'temp*Sept', 'temp*Oct', 'temp*Nov',\n",
      "       'temp*Dec', 'temp*Mon', 'temp*Tue', 'temp*Wed', 'temp*Thu', 'temp*Fri',\n",
      "       'temp*Sat', 'hum*Feb', 'hum*Mar', 'hum*Apr', 'hum*May', 'hum*Jun',\n",
      "       'hum*Jul', 'hum*Aug', 'hum*Sept', 'hum*Oct', 'hum*Nov', 'hum*Dec',\n",
      "       'hum*Mon', 'hum*Tue', 'hum*Wed', 'hum*Thu', 'hum*Fri', 'hum*Sat',\n",
      "       'windspeed*Feb', 'windspeed*Mar', 'windspeed*Apr', 'windspeed*May',\n",
      "       'windspeed*Jun', 'windspeed*Jul', 'windspeed*Aug', 'windspeed*Sept',\n",
      "       'windspeed*Oct', 'windspeed*Nov', 'windspeed*Dec', 'windspeed*Mon',\n",
      "       'windspeed*Tue', 'windspeed*Wed', 'windspeed*Thu', 'windspeed*Fri',\n",
      "       'windspeed*Sat'],\n",
      "      dtype='object')\n"
     ]
    },
    {
     "data": {
      "text/html": [
       "<div>\n",
       "<style scoped>\n",
       "    .dataframe tbody tr th:only-of-type {\n",
       "        vertical-align: middle;\n",
       "    }\n",
       "\n",
       "    .dataframe tbody tr th {\n",
       "        vertical-align: top;\n",
       "    }\n",
       "\n",
       "    .dataframe thead th {\n",
       "        text-align: right;\n",
       "    }\n",
       "</style>\n",
       "<table border=\"1\" class=\"dataframe\">\n",
       "  <thead>\n",
       "    <tr style=\"text-align: right;\">\n",
       "      <th></th>\n",
       "      <th>const</th>\n",
       "      <th>hour</th>\n",
       "      <th>holiday</th>\n",
       "      <th>year</th>\n",
       "      <th>temp</th>\n",
       "      <th>hum</th>\n",
       "      <th>windspeed</th>\n",
       "      <th>Feb</th>\n",
       "      <th>Mar</th>\n",
       "      <th>Apr</th>\n",
       "      <th>...</th>\n",
       "      <th>windspeed*Sept</th>\n",
       "      <th>windspeed*Oct</th>\n",
       "      <th>windspeed*Nov</th>\n",
       "      <th>windspeed*Dec</th>\n",
       "      <th>windspeed*Mon</th>\n",
       "      <th>windspeed*Tue</th>\n",
       "      <th>windspeed*Wed</th>\n",
       "      <th>windspeed*Thu</th>\n",
       "      <th>windspeed*Fri</th>\n",
       "      <th>windspeed*Sat</th>\n",
       "    </tr>\n",
       "  </thead>\n",
       "  <tbody>\n",
       "    <tr>\n",
       "      <th>0</th>\n",
       "      <td>1.0</td>\n",
       "      <td>1.350889</td>\n",
       "      <td>0</td>\n",
       "      <td>0.993176</td>\n",
       "      <td>-1.331553</td>\n",
       "      <td>-0.131350</td>\n",
       "      <td>0.511831</td>\n",
       "      <td>0</td>\n",
       "      <td>0</td>\n",
       "      <td>0</td>\n",
       "      <td>...</td>\n",
       "      <td>0.0</td>\n",
       "      <td>0.000000</td>\n",
       "      <td>0.0</td>\n",
       "      <td>0.511831</td>\n",
       "      <td>0.0</td>\n",
       "      <td>0.0</td>\n",
       "      <td>0.0</td>\n",
       "      <td>0.511831</td>\n",
       "      <td>0.0</td>\n",
       "      <td>0.0</td>\n",
       "    </tr>\n",
       "    <tr>\n",
       "      <th>1</th>\n",
       "      <td>1.0</td>\n",
       "      <td>0.776193</td>\n",
       "      <td>0</td>\n",
       "      <td>-1.006755</td>\n",
       "      <td>0.641851</td>\n",
       "      <td>1.064817</td>\n",
       "      <td>0.511831</td>\n",
       "      <td>0</td>\n",
       "      <td>0</td>\n",
       "      <td>0</td>\n",
       "      <td>...</td>\n",
       "      <td>0.0</td>\n",
       "      <td>0.511831</td>\n",
       "      <td>0.0</td>\n",
       "      <td>0.000000</td>\n",
       "      <td>0.0</td>\n",
       "      <td>0.0</td>\n",
       "      <td>0.0</td>\n",
       "      <td>0.511831</td>\n",
       "      <td>0.0</td>\n",
       "      <td>0.0</td>\n",
       "    </tr>\n",
       "    <tr>\n",
       "      <th>2</th>\n",
       "      <td>1.0</td>\n",
       "      <td>-0.373198</td>\n",
       "      <td>0</td>\n",
       "      <td>0.993176</td>\n",
       "      <td>1.368895</td>\n",
       "      <td>0.180694</td>\n",
       "      <td>-0.214322</td>\n",
       "      <td>0</td>\n",
       "      <td>0</td>\n",
       "      <td>0</td>\n",
       "      <td>...</td>\n",
       "      <td>-0.0</td>\n",
       "      <td>-0.000000</td>\n",
       "      <td>-0.0</td>\n",
       "      <td>-0.000000</td>\n",
       "      <td>-0.0</td>\n",
       "      <td>-0.0</td>\n",
       "      <td>-0.0</td>\n",
       "      <td>-0.214322</td>\n",
       "      <td>-0.0</td>\n",
       "      <td>-0.0</td>\n",
       "    </tr>\n",
       "    <tr>\n",
       "      <th>3</th>\n",
       "      <td>1.0</td>\n",
       "      <td>0.776193</td>\n",
       "      <td>0</td>\n",
       "      <td>0.993176</td>\n",
       "      <td>0.641851</td>\n",
       "      <td>-2.107627</td>\n",
       "      <td>0.875312</td>\n",
       "      <td>0</td>\n",
       "      <td>0</td>\n",
       "      <td>1</td>\n",
       "      <td>...</td>\n",
       "      <td>0.0</td>\n",
       "      <td>0.000000</td>\n",
       "      <td>0.0</td>\n",
       "      <td>0.000000</td>\n",
       "      <td>0.0</td>\n",
       "      <td>0.0</td>\n",
       "      <td>0.0</td>\n",
       "      <td>0.000000</td>\n",
       "      <td>0.0</td>\n",
       "      <td>0.0</td>\n",
       "    </tr>\n",
       "    <tr>\n",
       "      <th>4</th>\n",
       "      <td>1.0</td>\n",
       "      <td>-0.516872</td>\n",
       "      <td>0</td>\n",
       "      <td>0.993176</td>\n",
       "      <td>-1.643143</td>\n",
       "      <td>-1.171496</td>\n",
       "      <td>-0.456913</td>\n",
       "      <td>0</td>\n",
       "      <td>0</td>\n",
       "      <td>0</td>\n",
       "      <td>...</td>\n",
       "      <td>-0.0</td>\n",
       "      <td>-0.000000</td>\n",
       "      <td>-0.0</td>\n",
       "      <td>-0.000000</td>\n",
       "      <td>-0.0</td>\n",
       "      <td>-0.0</td>\n",
       "      <td>-0.0</td>\n",
       "      <td>-0.000000</td>\n",
       "      <td>-0.0</td>\n",
       "      <td>-0.0</td>\n",
       "    </tr>\n",
       "  </tbody>\n",
       "</table>\n",
       "<p>5 rows × 86 columns</p>\n",
       "</div>"
      ],
      "text/plain": [
       "   const      hour  holiday      year      temp       hum  windspeed  Feb  \\\n",
       "0    1.0  1.350889        0  0.993176 -1.331553 -0.131350   0.511831    0   \n",
       "1    1.0  0.776193        0 -1.006755  0.641851  1.064817   0.511831    0   \n",
       "2    1.0 -0.373198        0  0.993176  1.368895  0.180694  -0.214322    0   \n",
       "3    1.0  0.776193        0  0.993176  0.641851 -2.107627   0.875312    0   \n",
       "4    1.0 -0.516872        0  0.993176 -1.643143 -1.171496  -0.456913    0   \n",
       "\n",
       "   Mar  Apr  ...  windspeed*Sept  windspeed*Oct  windspeed*Nov  windspeed*Dec  \\\n",
       "0    0    0  ...             0.0       0.000000            0.0       0.511831   \n",
       "1    0    0  ...             0.0       0.511831            0.0       0.000000   \n",
       "2    0    0  ...            -0.0      -0.000000           -0.0      -0.000000   \n",
       "3    0    1  ...             0.0       0.000000            0.0       0.000000   \n",
       "4    0    0  ...            -0.0      -0.000000           -0.0      -0.000000   \n",
       "\n",
       "   windspeed*Mon  windspeed*Tue  windspeed*Wed  windspeed*Thu  windspeed*Fri  \\\n",
       "0            0.0            0.0            0.0       0.511831            0.0   \n",
       "1            0.0            0.0            0.0       0.511831            0.0   \n",
       "2           -0.0           -0.0           -0.0      -0.214322           -0.0   \n",
       "3            0.0            0.0            0.0       0.000000            0.0   \n",
       "4           -0.0           -0.0           -0.0      -0.000000           -0.0   \n",
       "\n",
       "   windspeed*Sat  \n",
       "0            0.0  \n",
       "1            0.0  \n",
       "2           -0.0  \n",
       "3            0.0  \n",
       "4           -0.0  \n",
       "\n",
       "[5 rows x 86 columns]"
      ]
     },
     "execution_count": 19,
     "metadata": {},
     "output_type": "execute_result"
    }
   ],
   "source": [
    "practice_X_train_poly_interaction = add_interactive_terms(practice_X_train_poly)\n",
    "print(practice_X_train_poly_interaction.columns)\n",
    "practice_X_train_poly_interaction.head()     #should these have hour, and other varibales here not just continuous, dummy??"
   ]
  },
  {
   "cell_type": "markdown",
   "metadata": {
    "button": false,
    "new_sheet": false,
    "run_control": {
     "read_only": false
    }
   },
   "source": [
    "**4.5 Combine all your code so far into a function named...**"
   ]
  },
  {
   "cell_type": "code",
   "execution_count": 20,
   "metadata": {
    "button": false,
    "new_sheet": false,
    "run_control": {
     "read_only": false
    }
   },
   "outputs": [],
   "source": [
    "def get_design_mats(train_df, val_df,  degree, \n",
    "                    columns_forpoly=['temp', 'hum','windspeed', 'hour'],\n",
    "                    target_col='counts', \n",
    "                    bad_columns=['counts','casual', 'registered','workingday', 'atemp', 'spring', 'summer', 'fall']):\n",
    "    \"\"\"\n",
    "    :param train_df: The training data\n",
    "    :param val_df: Your test/validation data\n",
    "    :param columns_forpoly: List containing the column name for which we want to create \n",
    "                            polynomial terms\n",
    "    :param target_col: The response variable column\n",
    "    :param bad_columns: The columns you want to drop\n",
    "    \"\"\"\n",
    "    # Adding intercepts\n",
    "    train = sm.add_constant(train_df.drop(columns = bad_columns))\n",
    "    val = sm.add_constant(val_df.drop(columns = bad_columns))\n",
    "    train, val = make_standardized_df(train, val)\n",
    "    train = add_higher_order_polynomial_terms(train, columns_forpoly, degree)\n",
    "    val = add_higher_order_polynomial_terms(val, columns_forpoly, degree)\n",
    "    train = add_interactive_terms(train)\n",
    "    val = add_interactive_terms(val)\n",
    "    \n",
    "    x_train = train\n",
    "    x_val = val\n",
    "    y_train = train_df[target_col]\n",
    "    y_val = val_df[target_col]\n",
    "    \n",
    "    return x_train,y_train, x_val,y_val"
   ]
  },
  {
   "cell_type": "markdown",
   "metadata": {
    "button": false,
    "new_sheet": false,
    "run_control": {
     "read_only": false
    }
   },
   "source": [
    "**4.6 For each degree in 1 through 8...**\n",
    "\n",
    "For each degree in 1 through 8:\n",
    "\n",
    "1.  Build the training design matrix and validation design matrix using the function `get_design_mats` with polynomial terms up through the specified degree.\n",
    "\n",
    "2.  Fit a regression model to the training data.\n",
    "\n",
    "3.  Report the model's score on the test data."
   ]
  },
  {
   "cell_type": "code",
   "execution_count": 21,
   "metadata": {
    "button": false,
    "new_sheet": false,
    "run_control": {
     "read_only": false
    }
   },
   "outputs": [
    {
     "name": "stderr",
     "output_type": "stream",
     "text": [
      "//anaconda3/lib/python3.7/site-packages/numpy/core/fromnumeric.py:2389: FutureWarning: Method .ptp is deprecated and will be removed in a future version. Use numpy.ptp instead.\n",
      "  return ptp(axis=axis, out=out, **kwargs)\n",
      "//anaconda3/lib/python3.7/site-packages/ipykernel_launcher.py:11: SettingWithCopyWarning: \n",
      "A value is trying to be set on a copy of a slice from a DataFrame.\n",
      "Try using .loc[row_indexer,col_indexer] = value instead\n",
      "\n",
      "See the caveats in the documentation: http://pandas.pydata.org/pandas-docs/stable/indexing.html#indexing-view-versus-copy\n",
      "  # This is added back by InteractiveShellApp.init_path()\n",
      "//anaconda3/lib/python3.7/site-packages/ipykernel_launcher.py:12: SettingWithCopyWarning: \n",
      "A value is trying to be set on a copy of a slice from a DataFrame.\n",
      "Try using .loc[row_indexer,col_indexer] = value instead\n",
      "\n",
      "See the caveats in the documentation: http://pandas.pydata.org/pandas-docs/stable/indexing.html#indexing-view-versus-copy\n",
      "  if sys.path[0] == '':\n"
     ]
    },
    {
     "name": "stdout",
     "output_type": "stream",
     "text": [
      "Model Score on test data for degree  1 :  0.42919370152715897\n"
     ]
    },
    {
     "name": "stderr",
     "output_type": "stream",
     "text": [
      "//anaconda3/lib/python3.7/site-packages/numpy/core/fromnumeric.py:2389: FutureWarning: Method .ptp is deprecated and will be removed in a future version. Use numpy.ptp instead.\n",
      "  return ptp(axis=axis, out=out, **kwargs)\n",
      "//anaconda3/lib/python3.7/site-packages/ipykernel_launcher.py:11: SettingWithCopyWarning: \n",
      "A value is trying to be set on a copy of a slice from a DataFrame.\n",
      "Try using .loc[row_indexer,col_indexer] = value instead\n",
      "\n",
      "See the caveats in the documentation: http://pandas.pydata.org/pandas-docs/stable/indexing.html#indexing-view-versus-copy\n",
      "  # This is added back by InteractiveShellApp.init_path()\n",
      "//anaconda3/lib/python3.7/site-packages/ipykernel_launcher.py:12: SettingWithCopyWarning: \n",
      "A value is trying to be set on a copy of a slice from a DataFrame.\n",
      "Try using .loc[row_indexer,col_indexer] = value instead\n",
      "\n",
      "See the caveats in the documentation: http://pandas.pydata.org/pandas-docs/stable/indexing.html#indexing-view-versus-copy\n",
      "  if sys.path[0] == '':\n"
     ]
    },
    {
     "name": "stdout",
     "output_type": "stream",
     "text": [
      "Model Score on test data for degree  2 :  0.5121988354655904\n"
     ]
    },
    {
     "name": "stderr",
     "output_type": "stream",
     "text": [
      "//anaconda3/lib/python3.7/site-packages/numpy/core/fromnumeric.py:2389: FutureWarning: Method .ptp is deprecated and will be removed in a future version. Use numpy.ptp instead.\n",
      "  return ptp(axis=axis, out=out, **kwargs)\n",
      "//anaconda3/lib/python3.7/site-packages/ipykernel_launcher.py:11: SettingWithCopyWarning: \n",
      "A value is trying to be set on a copy of a slice from a DataFrame.\n",
      "Try using .loc[row_indexer,col_indexer] = value instead\n",
      "\n",
      "See the caveats in the documentation: http://pandas.pydata.org/pandas-docs/stable/indexing.html#indexing-view-versus-copy\n",
      "  # This is added back by InteractiveShellApp.init_path()\n",
      "//anaconda3/lib/python3.7/site-packages/ipykernel_launcher.py:12: SettingWithCopyWarning: \n",
      "A value is trying to be set on a copy of a slice from a DataFrame.\n",
      "Try using .loc[row_indexer,col_indexer] = value instead\n",
      "\n",
      "See the caveats in the documentation: http://pandas.pydata.org/pandas-docs/stable/indexing.html#indexing-view-versus-copy\n",
      "  if sys.path[0] == '':\n"
     ]
    },
    {
     "name": "stdout",
     "output_type": "stream",
     "text": [
      "Model Score on test data for degree  3 :  0.5612705475559349\n"
     ]
    },
    {
     "name": "stderr",
     "output_type": "stream",
     "text": [
      "//anaconda3/lib/python3.7/site-packages/numpy/core/fromnumeric.py:2389: FutureWarning: Method .ptp is deprecated and will be removed in a future version. Use numpy.ptp instead.\n",
      "  return ptp(axis=axis, out=out, **kwargs)\n",
      "//anaconda3/lib/python3.7/site-packages/ipykernel_launcher.py:11: SettingWithCopyWarning: \n",
      "A value is trying to be set on a copy of a slice from a DataFrame.\n",
      "Try using .loc[row_indexer,col_indexer] = value instead\n",
      "\n",
      "See the caveats in the documentation: http://pandas.pydata.org/pandas-docs/stable/indexing.html#indexing-view-versus-copy\n",
      "  # This is added back by InteractiveShellApp.init_path()\n",
      "//anaconda3/lib/python3.7/site-packages/ipykernel_launcher.py:12: SettingWithCopyWarning: \n",
      "A value is trying to be set on a copy of a slice from a DataFrame.\n",
      "Try using .loc[row_indexer,col_indexer] = value instead\n",
      "\n",
      "See the caveats in the documentation: http://pandas.pydata.org/pandas-docs/stable/indexing.html#indexing-view-versus-copy\n",
      "  if sys.path[0] == '':\n"
     ]
    },
    {
     "name": "stdout",
     "output_type": "stream",
     "text": [
      "Model Score on test data for degree  4 :  0.5643812587064101\n"
     ]
    },
    {
     "name": "stderr",
     "output_type": "stream",
     "text": [
      "//anaconda3/lib/python3.7/site-packages/numpy/core/fromnumeric.py:2389: FutureWarning: Method .ptp is deprecated and will be removed in a future version. Use numpy.ptp instead.\n",
      "  return ptp(axis=axis, out=out, **kwargs)\n",
      "//anaconda3/lib/python3.7/site-packages/ipykernel_launcher.py:11: SettingWithCopyWarning: \n",
      "A value is trying to be set on a copy of a slice from a DataFrame.\n",
      "Try using .loc[row_indexer,col_indexer] = value instead\n",
      "\n",
      "See the caveats in the documentation: http://pandas.pydata.org/pandas-docs/stable/indexing.html#indexing-view-versus-copy\n",
      "  # This is added back by InteractiveShellApp.init_path()\n",
      "//anaconda3/lib/python3.7/site-packages/ipykernel_launcher.py:12: SettingWithCopyWarning: \n",
      "A value is trying to be set on a copy of a slice from a DataFrame.\n",
      "Try using .loc[row_indexer,col_indexer] = value instead\n",
      "\n",
      "See the caveats in the documentation: http://pandas.pydata.org/pandas-docs/stable/indexing.html#indexing-view-versus-copy\n",
      "  if sys.path[0] == '':\n"
     ]
    },
    {
     "name": "stdout",
     "output_type": "stream",
     "text": [
      "Model Score on test data for degree  5 :  0.5760635265312037\n"
     ]
    },
    {
     "name": "stderr",
     "output_type": "stream",
     "text": [
      "//anaconda3/lib/python3.7/site-packages/numpy/core/fromnumeric.py:2389: FutureWarning: Method .ptp is deprecated and will be removed in a future version. Use numpy.ptp instead.\n",
      "  return ptp(axis=axis, out=out, **kwargs)\n",
      "//anaconda3/lib/python3.7/site-packages/ipykernel_launcher.py:11: SettingWithCopyWarning: \n",
      "A value is trying to be set on a copy of a slice from a DataFrame.\n",
      "Try using .loc[row_indexer,col_indexer] = value instead\n",
      "\n",
      "See the caveats in the documentation: http://pandas.pydata.org/pandas-docs/stable/indexing.html#indexing-view-versus-copy\n",
      "  # This is added back by InteractiveShellApp.init_path()\n",
      "//anaconda3/lib/python3.7/site-packages/ipykernel_launcher.py:12: SettingWithCopyWarning: \n",
      "A value is trying to be set on a copy of a slice from a DataFrame.\n",
      "Try using .loc[row_indexer,col_indexer] = value instead\n",
      "\n",
      "See the caveats in the documentation: http://pandas.pydata.org/pandas-docs/stable/indexing.html#indexing-view-versus-copy\n",
      "  if sys.path[0] == '':\n"
     ]
    },
    {
     "name": "stdout",
     "output_type": "stream",
     "text": [
      "Model Score on test data for degree  6 :  0.5990042016659392\n"
     ]
    },
    {
     "name": "stderr",
     "output_type": "stream",
     "text": [
      "//anaconda3/lib/python3.7/site-packages/numpy/core/fromnumeric.py:2389: FutureWarning: Method .ptp is deprecated and will be removed in a future version. Use numpy.ptp instead.\n",
      "  return ptp(axis=axis, out=out, **kwargs)\n",
      "//anaconda3/lib/python3.7/site-packages/ipykernel_launcher.py:11: SettingWithCopyWarning: \n",
      "A value is trying to be set on a copy of a slice from a DataFrame.\n",
      "Try using .loc[row_indexer,col_indexer] = value instead\n",
      "\n",
      "See the caveats in the documentation: http://pandas.pydata.org/pandas-docs/stable/indexing.html#indexing-view-versus-copy\n",
      "  # This is added back by InteractiveShellApp.init_path()\n",
      "//anaconda3/lib/python3.7/site-packages/ipykernel_launcher.py:12: SettingWithCopyWarning: \n",
      "A value is trying to be set on a copy of a slice from a DataFrame.\n",
      "Try using .loc[row_indexer,col_indexer] = value instead\n",
      "\n",
      "See the caveats in the documentation: http://pandas.pydata.org/pandas-docs/stable/indexing.html#indexing-view-versus-copy\n",
      "  if sys.path[0] == '':\n"
     ]
    },
    {
     "name": "stdout",
     "output_type": "stream",
     "text": [
      "Model Score on test data for degree  7 :  0.6337668811584173\n"
     ]
    },
    {
     "name": "stderr",
     "output_type": "stream",
     "text": [
      "//anaconda3/lib/python3.7/site-packages/numpy/core/fromnumeric.py:2389: FutureWarning: Method .ptp is deprecated and will be removed in a future version. Use numpy.ptp instead.\n",
      "  return ptp(axis=axis, out=out, **kwargs)\n",
      "//anaconda3/lib/python3.7/site-packages/ipykernel_launcher.py:11: SettingWithCopyWarning: \n",
      "A value is trying to be set on a copy of a slice from a DataFrame.\n",
      "Try using .loc[row_indexer,col_indexer] = value instead\n",
      "\n",
      "See the caveats in the documentation: http://pandas.pydata.org/pandas-docs/stable/indexing.html#indexing-view-versus-copy\n",
      "  # This is added back by InteractiveShellApp.init_path()\n",
      "//anaconda3/lib/python3.7/site-packages/ipykernel_launcher.py:12: SettingWithCopyWarning: \n",
      "A value is trying to be set on a copy of a slice from a DataFrame.\n",
      "Try using .loc[row_indexer,col_indexer] = value instead\n",
      "\n",
      "See the caveats in the documentation: http://pandas.pydata.org/pandas-docs/stable/indexing.html#indexing-view-versus-copy\n",
      "  if sys.path[0] == '':\n"
     ]
    },
    {
     "name": "stdout",
     "output_type": "stream",
     "text": [
      "Model Score on test data for degree  8 :  0.6433746024488687\n"
     ]
    }
   ],
   "source": [
    "for degree in range(1,9):\n",
    "    # Dropping bad columns registered and casual because they are directly related to counts\n",
    "    x_train, y_train, x_val, y_val = get_design_mats(BSS_train, BSS_test, degree, bad_columns=['casual', 'registered','counts']);\n",
    "    model = sm.OLS(y_train, x_train).fit();\n",
    "    print(\"Model Score on test data for degree \",degree,\": \", str(r2_score(y_val, model.predict(x_val))));"
   ]
  },
  {
   "cell_type": "code",
   "execution_count": 27,
   "metadata": {},
   "outputs": [
    {
     "data": {
      "text/plain": [
       "(8689,)"
      ]
     },
     "execution_count": 27,
     "metadata": {},
     "output_type": "execute_result"
    }
   ],
   "source": [
    "y_train.shape"
   ]
  },
  {
   "cell_type": "markdown",
   "metadata": {
    "button": false,
    "new_sheet": false,
    "run_control": {
     "read_only": false
    }
   },
   "source": [
    "**4.7 Discuss patterns you see in the results...**"
   ]
  },
  {
   "cell_type": "markdown",
   "metadata": {
    "button": false,
    "new_sheet": false,
    "run_control": {
     "read_only": false
    }
   },
   "source": [
    "We observe that the $R^2$ values increase consistently as the degree increases. As the degreee increases, the number of predictors increases and therefore the model becomes more fit to the training data. Through degree 8, the model is not overfitting to the training data as the $R^2$ on the test data is still increasing."
   ]
  },
  {
   "cell_type": "markdown",
   "metadata": {},
   "source": [
    "---"
   ]
  },
  {
   "cell_type": "markdown",
   "metadata": {
    "button": false,
    "new_sheet": false,
    "run_control": {
     "read_only": false
    }
   },
   "source": [
    "<div class='exercise'> <b> Question 5 [20pts]: Regularized Models </b> </div>\n",
    "\n",
    "**5.1** Let's try regularizing our models via ridge regression. Split the training set, `BSS_train`, into an 80-20 train-validation split.  Build a table showing the validation set $R^2$ of polynomial models with degree from 1-8, regularized at the levels $\\lambda = (.01, .05, .1,.5, 1, 5, 10, 50, 100)$. Do not perform cross validation at this point, simply report performance on the single validation set. \n",
    "\n",
    "**5.2** Find the best-scoring degree and regularization combination.\n",
    "\n",
    "**5.3** It's time to see how well our selected model will do on future data. Use the earlier created test dataset, do any required formatting, and report the best model's $R^2$ score. How does it compare to the validation set score that made us choose this model? Does the test set simply have observations that are more difficult or easier to predict?\n",
    "\n",
    "**5.4** Build a dataset with polynomial degree 1 and fit an OLS model, a Ridge model, and a Lasso model. Use `RidgeCV` and `LassoCV` to select the best regularization level from among `(.1,.5,1,5,10,50,100)`. \n",
    "\n",
    "Note: On the lasso model, you may need to increase `max_iter` (start with 100,000) for the optimization to converge.\n",
    "\n",
    "**5.5** Plot histograms of the coefficients found by each of OLS, ridge, and lasso. What trends do you see in the magnitude of the coefficients?\n",
    "\n",
    "**5.6** The plots above show the overall distribution of coefficient values in each model, but do not show how each model treats individual coefficients. Build a plot which cleanly presents, for each feature in the data, 1) The coefficient assigned by OLS, 2) the coefficient assigned by ridge, and 3) the coefficient assigned by lasso.\n",
    "\n",
    "**Hint: Bar plots are a possible choice, but you are not required to use them**\n",
    "\n",
    "**Hint: use `xticks` to label coefficients with their feature names**\n",
    "\n",
    "**5.7** What trends do you see in the plot above?"
   ]
  },
  {
   "cell_type": "markdown",
   "metadata": {
    "button": false,
    "new_sheet": false,
    "run_control": {
     "read_only": false
    }
   },
   "source": [
    "### Answers"
   ]
  },
  {
   "cell_type": "markdown",
   "metadata": {
    "button": false,
    "new_sheet": false,
    "run_control": {
     "read_only": false
    }
   },
   "source": [
    "**5.1 Let's try regularizing our models via...** "
   ]
  },
  {
   "cell_type": "code",
   "execution_count": 36,
   "metadata": {
    "button": false,
    "new_sheet": false,
    "run_control": {
     "read_only": false
    }
   },
   "outputs": [
    {
     "name": "stderr",
     "output_type": "stream",
     "text": [
      "/Users/williamdrew/anaconda3/lib/python3.6/site-packages/sklearn/model_selection/_split.py:2026: FutureWarning: From version 0.21, test_size will always complement train_size unless both are specified.\n",
      "  FutureWarning)\n",
      "/Users/williamdrew/anaconda3/lib/python3.6/site-packages/ipykernel_launcher.py:11: SettingWithCopyWarning: \n",
      "A value is trying to be set on a copy of a slice from a DataFrame.\n",
      "Try using .loc[row_indexer,col_indexer] = value instead\n",
      "\n",
      "See the caveats in the documentation: http://pandas.pydata.org/pandas-docs/stable/indexing.html#indexing-view-versus-copy\n",
      "  # This is added back by InteractiveShellApp.init_path()\n",
      "/Users/williamdrew/anaconda3/lib/python3.6/site-packages/ipykernel_launcher.py:12: SettingWithCopyWarning: \n",
      "A value is trying to be set on a copy of a slice from a DataFrame.\n",
      "Try using .loc[row_indexer,col_indexer] = value instead\n",
      "\n",
      "See the caveats in the documentation: http://pandas.pydata.org/pandas-docs/stable/indexing.html#indexing-view-versus-copy\n",
      "  if sys.path[0] == '':\n"
     ]
    }
   ],
   "source": [
    "BSS_train_train, BSS_train_val = train_test_split(BSS_train, train_size = 0.8, random_state = 90)\n",
    "lambdas = [0.01, 0.05, 0.1, 0.5, 1, 5, 10, 50, 100]\n",
    "table = {}\n",
    "for i in range(0,9):\n",
    "    x_train, y_train, x_val, y_val = get_design_mats(BSS_train_train, BSS_train_val, i, bad_columns=['casual', 'registered','counts'])\n",
    "    scores = []\n",
    "    for j in lambdas:\n",
    "        ridge_model = Ridge(alpha = j).fit(x_train, y_train)\n",
    "        scores.append(ridge_model.score(x_val, y_val))\n",
    "    table['degree '+str(i)] = scores"
   ]
  },
  {
   "cell_type": "code",
   "execution_count": 37,
   "metadata": {},
   "outputs": [
    {
     "data": {
      "text/html": [
       "<div>\n",
       "<style scoped>\n",
       "    .dataframe tbody tr th:only-of-type {\n",
       "        vertical-align: middle;\n",
       "    }\n",
       "\n",
       "    .dataframe tbody tr th {\n",
       "        vertical-align: top;\n",
       "    }\n",
       "\n",
       "    .dataframe thead th {\n",
       "        text-align: right;\n",
       "    }\n",
       "</style>\n",
       "<table border=\"1\" class=\"dataframe\">\n",
       "  <thead>\n",
       "    <tr style=\"text-align: right;\">\n",
       "      <th></th>\n",
       "      <th>degree 0</th>\n",
       "      <th>degree 1</th>\n",
       "      <th>degree 2</th>\n",
       "      <th>degree 3</th>\n",
       "      <th>degree 4</th>\n",
       "      <th>degree 5</th>\n",
       "      <th>degree 6</th>\n",
       "      <th>degree 7</th>\n",
       "      <th>degree 8</th>\n",
       "    </tr>\n",
       "    <tr>\n",
       "      <th>Lambda</th>\n",
       "      <th></th>\n",
       "      <th></th>\n",
       "      <th></th>\n",
       "      <th></th>\n",
       "      <th></th>\n",
       "      <th></th>\n",
       "      <th></th>\n",
       "      <th></th>\n",
       "      <th></th>\n",
       "    </tr>\n",
       "  </thead>\n",
       "  <tbody>\n",
       "    <tr>\n",
       "      <th>0.01</th>\n",
       "      <td>0.440161</td>\n",
       "      <td>0.440161</td>\n",
       "      <td>0.519979</td>\n",
       "      <td>0.559744</td>\n",
       "      <td>0.562069</td>\n",
       "      <td>0.577847</td>\n",
       "      <td>0.599372</td>\n",
       "      <td>0.639927</td>\n",
       "      <td>0.649689</td>\n",
       "    </tr>\n",
       "    <tr>\n",
       "      <th>0.05</th>\n",
       "      <td>0.440155</td>\n",
       "      <td>0.440155</td>\n",
       "      <td>0.519988</td>\n",
       "      <td>0.559753</td>\n",
       "      <td>0.562079</td>\n",
       "      <td>0.577854</td>\n",
       "      <td>0.599382</td>\n",
       "      <td>0.639942</td>\n",
       "      <td>0.649710</td>\n",
       "    </tr>\n",
       "    <tr>\n",
       "      <th>0.10</th>\n",
       "      <td>0.440147</td>\n",
       "      <td>0.440147</td>\n",
       "      <td>0.519998</td>\n",
       "      <td>0.559764</td>\n",
       "      <td>0.562091</td>\n",
       "      <td>0.577864</td>\n",
       "      <td>0.599395</td>\n",
       "      <td>0.639960</td>\n",
       "      <td>0.649731</td>\n",
       "    </tr>\n",
       "    <tr>\n",
       "      <th>0.50</th>\n",
       "      <td>0.440083</td>\n",
       "      <td>0.440083</td>\n",
       "      <td>0.520064</td>\n",
       "      <td>0.559844</td>\n",
       "      <td>0.562178</td>\n",
       "      <td>0.577931</td>\n",
       "      <td>0.599487</td>\n",
       "      <td>0.640047</td>\n",
       "      <td>0.649712</td>\n",
       "    </tr>\n",
       "    <tr>\n",
       "      <th>1.00</th>\n",
       "      <td>0.440003</td>\n",
       "      <td>0.440003</td>\n",
       "      <td>0.520119</td>\n",
       "      <td>0.559934</td>\n",
       "      <td>0.562273</td>\n",
       "      <td>0.577999</td>\n",
       "      <td>0.599577</td>\n",
       "      <td>0.640035</td>\n",
       "      <td>0.649351</td>\n",
       "    </tr>\n",
       "    <tr>\n",
       "      <th>5.00</th>\n",
       "      <td>0.439535</td>\n",
       "      <td>0.439535</td>\n",
       "      <td>0.520226</td>\n",
       "      <td>0.560430</td>\n",
       "      <td>0.562736</td>\n",
       "      <td>0.578248</td>\n",
       "      <td>0.599823</td>\n",
       "      <td>0.637493</td>\n",
       "      <td>0.642628</td>\n",
       "    </tr>\n",
       "    <tr>\n",
       "      <th>10.00</th>\n",
       "      <td>0.439206</td>\n",
       "      <td>0.439206</td>\n",
       "      <td>0.520166</td>\n",
       "      <td>0.560787</td>\n",
       "      <td>0.563017</td>\n",
       "      <td>0.578301</td>\n",
       "      <td>0.599572</td>\n",
       "      <td>0.632612</td>\n",
       "      <td>0.634412</td>\n",
       "    </tr>\n",
       "    <tr>\n",
       "      <th>50.00</th>\n",
       "      <td>0.437486</td>\n",
       "      <td>0.437486</td>\n",
       "      <td>0.519247</td>\n",
       "      <td>0.560747</td>\n",
       "      <td>0.562610</td>\n",
       "      <td>0.577194</td>\n",
       "      <td>0.594123</td>\n",
       "      <td>0.608154</td>\n",
       "      <td>0.607220</td>\n",
       "    </tr>\n",
       "    <tr>\n",
       "      <th>100.00</th>\n",
       "      <td>0.435418</td>\n",
       "      <td>0.435418</td>\n",
       "      <td>0.518026</td>\n",
       "      <td>0.558643</td>\n",
       "      <td>0.560295</td>\n",
       "      <td>0.575117</td>\n",
       "      <td>0.588577</td>\n",
       "      <td>0.595635</td>\n",
       "      <td>0.596542</td>\n",
       "    </tr>\n",
       "  </tbody>\n",
       "</table>\n",
       "</div>"
      ],
      "text/plain": [
       "        degree 0  degree 1  degree 2  degree 3  degree 4  degree 5  degree 6  \\\n",
       "Lambda                                                                         \n",
       "0.01    0.440161  0.440161  0.519979  0.559744  0.562069  0.577847  0.599372   \n",
       "0.05    0.440155  0.440155  0.519988  0.559753  0.562079  0.577854  0.599382   \n",
       "0.10    0.440147  0.440147  0.519998  0.559764  0.562091  0.577864  0.599395   \n",
       "0.50    0.440083  0.440083  0.520064  0.559844  0.562178  0.577931  0.599487   \n",
       "1.00    0.440003  0.440003  0.520119  0.559934  0.562273  0.577999  0.599577   \n",
       "5.00    0.439535  0.439535  0.520226  0.560430  0.562736  0.578248  0.599823   \n",
       "10.00   0.439206  0.439206  0.520166  0.560787  0.563017  0.578301  0.599572   \n",
       "50.00   0.437486  0.437486  0.519247  0.560747  0.562610  0.577194  0.594123   \n",
       "100.00  0.435418  0.435418  0.518026  0.558643  0.560295  0.575117  0.588577   \n",
       "\n",
       "        degree 7  degree 8  \n",
       "Lambda                      \n",
       "0.01    0.639927  0.649689  \n",
       "0.05    0.639942  0.649710  \n",
       "0.10    0.639960  0.649731  \n",
       "0.50    0.640047  0.649712  \n",
       "1.00    0.640035  0.649351  \n",
       "5.00    0.637493  0.642628  \n",
       "10.00   0.632612  0.634412  \n",
       "50.00   0.608154  0.607220  \n",
       "100.00  0.595635  0.596542  "
      ]
     },
     "execution_count": 37,
     "metadata": {},
     "output_type": "execute_result"
    }
   ],
   "source": [
    "score_table = pd.DataFrame(data = table)\n",
    "score_table.index = lambdas\n",
    "score_table.index.name = \"Lambda\"\n",
    "score_table"
   ]
  },
  {
   "cell_type": "markdown",
   "metadata": {
    "button": false,
    "new_sheet": false,
    "run_control": {
     "read_only": false
    }
   },
   "source": [
    "**5.2 Find the best-scoring degree and regularization combination.**"
   ]
  },
  {
   "cell_type": "code",
   "execution_count": 38,
   "metadata": {},
   "outputs": [
    {
     "data": {
      "text/html": [
       "<div>\n",
       "<style scoped>\n",
       "    .dataframe tbody tr th:only-of-type {\n",
       "        vertical-align: middle;\n",
       "    }\n",
       "\n",
       "    .dataframe tbody tr th {\n",
       "        vertical-align: top;\n",
       "    }\n",
       "\n",
       "    .dataframe thead th {\n",
       "        text-align: right;\n",
       "    }\n",
       "</style>\n",
       "<table border=\"1\" class=\"dataframe\">\n",
       "  <thead>\n",
       "    <tr style=\"text-align: right;\">\n",
       "      <th></th>\n",
       "      <th>degree 0</th>\n",
       "      <th>degree 1</th>\n",
       "      <th>degree 2</th>\n",
       "      <th>degree 3</th>\n",
       "      <th>degree 4</th>\n",
       "      <th>degree 5</th>\n",
       "      <th>degree 6</th>\n",
       "      <th>degree 7</th>\n",
       "      <th>degree 8</th>\n",
       "    </tr>\n",
       "    <tr>\n",
       "      <th>Lambda</th>\n",
       "      <th></th>\n",
       "      <th></th>\n",
       "      <th></th>\n",
       "      <th></th>\n",
       "      <th></th>\n",
       "      <th></th>\n",
       "      <th></th>\n",
       "      <th></th>\n",
       "      <th></th>\n",
       "    </tr>\n",
       "  </thead>\n",
       "  <tbody>\n",
       "    <tr>\n",
       "      <th>0.01</th>\n",
       "      <td>NaN</td>\n",
       "      <td>NaN</td>\n",
       "      <td>NaN</td>\n",
       "      <td>NaN</td>\n",
       "      <td>NaN</td>\n",
       "      <td>NaN</td>\n",
       "      <td>NaN</td>\n",
       "      <td>NaN</td>\n",
       "      <td>NaN</td>\n",
       "    </tr>\n",
       "    <tr>\n",
       "      <th>0.05</th>\n",
       "      <td>NaN</td>\n",
       "      <td>NaN</td>\n",
       "      <td>NaN</td>\n",
       "      <td>NaN</td>\n",
       "      <td>NaN</td>\n",
       "      <td>NaN</td>\n",
       "      <td>NaN</td>\n",
       "      <td>NaN</td>\n",
       "      <td>NaN</td>\n",
       "    </tr>\n",
       "    <tr>\n",
       "      <th>0.10</th>\n",
       "      <td>NaN</td>\n",
       "      <td>NaN</td>\n",
       "      <td>NaN</td>\n",
       "      <td>NaN</td>\n",
       "      <td>NaN</td>\n",
       "      <td>NaN</td>\n",
       "      <td>NaN</td>\n",
       "      <td>NaN</td>\n",
       "      <td>0.649731</td>\n",
       "    </tr>\n",
       "    <tr>\n",
       "      <th>0.50</th>\n",
       "      <td>NaN</td>\n",
       "      <td>NaN</td>\n",
       "      <td>NaN</td>\n",
       "      <td>NaN</td>\n",
       "      <td>NaN</td>\n",
       "      <td>NaN</td>\n",
       "      <td>NaN</td>\n",
       "      <td>NaN</td>\n",
       "      <td>NaN</td>\n",
       "    </tr>\n",
       "    <tr>\n",
       "      <th>1.00</th>\n",
       "      <td>NaN</td>\n",
       "      <td>NaN</td>\n",
       "      <td>NaN</td>\n",
       "      <td>NaN</td>\n",
       "      <td>NaN</td>\n",
       "      <td>NaN</td>\n",
       "      <td>NaN</td>\n",
       "      <td>NaN</td>\n",
       "      <td>NaN</td>\n",
       "    </tr>\n",
       "    <tr>\n",
       "      <th>5.00</th>\n",
       "      <td>NaN</td>\n",
       "      <td>NaN</td>\n",
       "      <td>NaN</td>\n",
       "      <td>NaN</td>\n",
       "      <td>NaN</td>\n",
       "      <td>NaN</td>\n",
       "      <td>NaN</td>\n",
       "      <td>NaN</td>\n",
       "      <td>NaN</td>\n",
       "    </tr>\n",
       "    <tr>\n",
       "      <th>10.00</th>\n",
       "      <td>NaN</td>\n",
       "      <td>NaN</td>\n",
       "      <td>NaN</td>\n",
       "      <td>NaN</td>\n",
       "      <td>NaN</td>\n",
       "      <td>NaN</td>\n",
       "      <td>NaN</td>\n",
       "      <td>NaN</td>\n",
       "      <td>NaN</td>\n",
       "    </tr>\n",
       "    <tr>\n",
       "      <th>50.00</th>\n",
       "      <td>NaN</td>\n",
       "      <td>NaN</td>\n",
       "      <td>NaN</td>\n",
       "      <td>NaN</td>\n",
       "      <td>NaN</td>\n",
       "      <td>NaN</td>\n",
       "      <td>NaN</td>\n",
       "      <td>NaN</td>\n",
       "      <td>NaN</td>\n",
       "    </tr>\n",
       "    <tr>\n",
       "      <th>100.00</th>\n",
       "      <td>NaN</td>\n",
       "      <td>NaN</td>\n",
       "      <td>NaN</td>\n",
       "      <td>NaN</td>\n",
       "      <td>NaN</td>\n",
       "      <td>NaN</td>\n",
       "      <td>NaN</td>\n",
       "      <td>NaN</td>\n",
       "      <td>NaN</td>\n",
       "    </tr>\n",
       "  </tbody>\n",
       "</table>\n",
       "</div>"
      ],
      "text/plain": [
       "        degree 0  degree 1  degree 2  degree 3  degree 4  degree 5  degree 6  \\\n",
       "Lambda                                                                         \n",
       "0.01         NaN       NaN       NaN       NaN       NaN       NaN       NaN   \n",
       "0.05         NaN       NaN       NaN       NaN       NaN       NaN       NaN   \n",
       "0.10         NaN       NaN       NaN       NaN       NaN       NaN       NaN   \n",
       "0.50         NaN       NaN       NaN       NaN       NaN       NaN       NaN   \n",
       "1.00         NaN       NaN       NaN       NaN       NaN       NaN       NaN   \n",
       "5.00         NaN       NaN       NaN       NaN       NaN       NaN       NaN   \n",
       "10.00        NaN       NaN       NaN       NaN       NaN       NaN       NaN   \n",
       "50.00        NaN       NaN       NaN       NaN       NaN       NaN       NaN   \n",
       "100.00       NaN       NaN       NaN       NaN       NaN       NaN       NaN   \n",
       "\n",
       "        degree 7  degree 8  \n",
       "Lambda                      \n",
       "0.01         NaN       NaN  \n",
       "0.05         NaN       NaN  \n",
       "0.10         NaN  0.649731  \n",
       "0.50         NaN       NaN  \n",
       "1.00         NaN       NaN  \n",
       "5.00         NaN       NaN  \n",
       "10.00        NaN       NaN  \n",
       "50.00        NaN       NaN  \n",
       "100.00       NaN       NaN  "
      ]
     },
     "execution_count": 38,
     "metadata": {},
     "output_type": "execute_result"
    }
   ],
   "source": [
    "score_table.where(score_table == score_table.max(axis=1).max())\n",
    "# The best scoring degree and regularization combination is not NaN"
   ]
  },
  {
   "cell_type": "markdown",
   "metadata": {},
   "source": [
    "The best-scoring degree and regularization combination is $\\lambda = 0.1$ and degree 8. This gives us a score of 0.649731."
   ]
  },
  {
   "cell_type": "markdown",
   "metadata": {
    "button": false,
    "new_sheet": false,
    "run_control": {
     "read_only": false
    }
   },
   "source": [
    "**5.3 It's time to see how well our selected model...**"
   ]
  },
  {
   "cell_type": "code",
   "execution_count": 39,
   "metadata": {
    "button": false,
    "new_sheet": false,
    "run_control": {
     "read_only": false
    }
   },
   "outputs": [
    {
     "name": "stderr",
     "output_type": "stream",
     "text": [
      "/Users/williamdrew/anaconda3/lib/python3.6/site-packages/ipykernel_launcher.py:11: SettingWithCopyWarning: \n",
      "A value is trying to be set on a copy of a slice from a DataFrame.\n",
      "Try using .loc[row_indexer,col_indexer] = value instead\n",
      "\n",
      "See the caveats in the documentation: http://pandas.pydata.org/pandas-docs/stable/indexing.html#indexing-view-versus-copy\n",
      "  # This is added back by InteractiveShellApp.init_path()\n",
      "/Users/williamdrew/anaconda3/lib/python3.6/site-packages/ipykernel_launcher.py:12: SettingWithCopyWarning: \n",
      "A value is trying to be set on a copy of a slice from a DataFrame.\n",
      "Try using .loc[row_indexer,col_indexer] = value instead\n",
      "\n",
      "See the caveats in the documentation: http://pandas.pydata.org/pandas-docs/stable/indexing.html#indexing-view-versus-copy\n",
      "  if sys.path[0] == '':\n"
     ]
    },
    {
     "name": "stdout",
     "output_type": "stream",
     "text": [
      "R^2 score for model applied on test data: 0.6415288328076665\n"
     ]
    }
   ],
   "source": [
    "degree=8\n",
    "lam=0.1\n",
    "# According to Ed, we may use either BSS_train_train or BSS_train here\n",
    "x_train, y_train, x_val, y_val = get_design_mats(BSS_train_train, BSS_test, degree, bad_columns=['casual', 'registered','counts'])\n",
    "\n",
    "# want to use the ridge model trained on same training data as in 5.1 when the model was selected as best\n",
    "ridge_model = Ridge(alpha = lam).fit(x_train, y_train) \n",
    "# test model on new test data\n",
    "print('R^2 score for model applied on test data:', ridge_model.score(x_val, y_val))\n"
   ]
  },
  {
   "cell_type": "markdown",
   "metadata": {},
   "source": [
    "This test set score of 0.6415 is very close to and slightly lower than the validation set score (0.649731) that made us choose this model. This implies that it was only slightly harder to predict observations in the test set than observations in the validation set. This small difference in difficulty is expected as the validation set is likely to be closer to the training set than the test set is compared to the training set. "
   ]
  },
  {
   "cell_type": "markdown",
   "metadata": {
    "button": false,
    "new_sheet": false,
    "run_control": {
     "read_only": false
    }
   },
   "source": [
    "**5.4 Build a dataset with polynomial degree 1...**"
   ]
  },
  {
   "cell_type": "code",
   "execution_count": 40,
   "metadata": {
    "button": false,
    "new_sheet": false,
    "run_control": {
     "read_only": false
    }
   },
   "outputs": [
    {
     "name": "stderr",
     "output_type": "stream",
     "text": [
      "/Users/williamdrew/anaconda3/lib/python3.6/site-packages/ipykernel_launcher.py:11: SettingWithCopyWarning: \n",
      "A value is trying to be set on a copy of a slice from a DataFrame.\n",
      "Try using .loc[row_indexer,col_indexer] = value instead\n",
      "\n",
      "See the caveats in the documentation: http://pandas.pydata.org/pandas-docs/stable/indexing.html#indexing-view-versus-copy\n",
      "  # This is added back by InteractiveShellApp.init_path()\n",
      "/Users/williamdrew/anaconda3/lib/python3.6/site-packages/ipykernel_launcher.py:12: SettingWithCopyWarning: \n",
      "A value is trying to be set on a copy of a slice from a DataFrame.\n",
      "Try using .loc[row_indexer,col_indexer] = value instead\n",
      "\n",
      "See the caveats in the documentation: http://pandas.pydata.org/pandas-docs/stable/indexing.html#indexing-view-versus-copy\n",
      "  if sys.path[0] == '':\n"
     ]
    }
   ],
   "source": [
    "x_train, y_train, x_val, y_val = get_design_mats(BSS_train_train, BSS_train_val, 1, bad_columns=['casual', 'registered','counts'])\n",
    "\n",
    "ols_model = sm.OLS(y_train, x_train).fit()\n",
    "\n",
    "alphas = (0.1, 0.5, 1, 5, 10, 50, 100)\n",
    "\n",
    "# Let us do k-fold cross validation \n",
    "k = 4\n",
    "fitted_ridge = RidgeCV(alphas=alphas).fit(x_train, y_train)\n",
    "fitted_lasso = LassoCV(alphas=alphas, max_iter = 100000).fit(x_train, y_train)\n"
   ]
  },
  {
   "cell_type": "code",
   "execution_count": 41,
   "metadata": {},
   "outputs": [
    {
     "name": "stdout",
     "output_type": "stream",
     "text": [
      "R squared score for original OLS model: 0.44016267089764716\n",
      "\n",
      "Best alpha for ridge: 1.0\n",
      "R^2 score for Ridge in validation data with alpha=1.0: 0.44000343115360685\n",
      "\n",
      "Best alpha for lasso: 0.1\n",
      "R squared score for Lasso in validation data with alpha=0.1: 0.43775810311759\n"
     ]
    }
   ],
   "source": [
    "print('R squared score for original OLS model: {}\\n'.format(r2_score(y_val,ols_model.predict(x_val))))\n",
    "# Ridge regression cross validation\n",
    "ridge_a = fitted_ridge.alpha_\n",
    "print('Best alpha for ridge: {}'.format(ridge_a))\n",
    "print('R^2 score for Ridge in validation data with alpha={}: {}\\n'.format(ridge_a, fitted_ridge.score(x_val,y_val)))\n",
    "# Lasso regression cross validation\n",
    "lasso_a = fitted_lasso.alpha_\n",
    "print('Best alpha for lasso: {}'.format(lasso_a))\n",
    "print('R squared score for Lasso in validation data with alpha={}: {}'.format(lasso_a, fitted_lasso.score(x_val,y_val)))"
   ]
  },
  {
   "cell_type": "markdown",
   "metadata": {
    "button": false,
    "new_sheet": false,
    "run_control": {
     "read_only": false
    }
   },
   "source": [
    "**5.5 Plot histograms of the coefficients found...**"
   ]
  },
  {
   "cell_type": "code",
   "execution_count": 42,
   "metadata": {},
   "outputs": [
    {
     "data": {
      "image/png": "[encoded data removed]",
      "text/plain": [
       "<Figure size 1296x648 with 3 Axes>"
      ]
     },
     "metadata": {},
     "output_type": "display_data"
    }
   ],
   "source": [
    "fig, ax = plt.subplots(figsize=(18,9), ncols=3)\n",
    "ax = ax.ravel()\n",
    "ax[0].hist(ols_model.params, bins=20)\n",
    "ax[0].set_title('Histogram of Coefficient Values for OLS Model with degree 1');\n",
    "ax[0].set_xlabel('Coefficient values');\n",
    "ax[0].set_ylabel('Frequency');\n",
    "\n",
    "ax[1].hist(fitted_lasso.coef_.flatten(), bins=20)\n",
    "ax[1].set_title('Histogram of Coefficient Values for Lasso Model with alpha: {}'.format(lasso_a));\n",
    "ax[1].set_xlabel('Coefficient values');\n",
    "ax[1].set_ylabel('Frequency');\n",
    "\n",
    "ax[2].hist(fitted_ridge.coef_.flatten(), bins=20)\n",
    "ax[2].set_title('Histogram of Coefficient Values for Ridge Model with alpha: {}'.format(ridge_a));\n",
    "ax[2].set_xlabel('Coefficient values');\n",
    "ax[2].set_ylabel('Frequency');\n",
    "\n",
    "fig.suptitle('Coefficient Values Generated by Different Regression Approaches for Predicting Rides from Descriptors of the Day\\n')\n",
    "fig.tight_layout(rect=[0, 0.03, 1, 0.95])"
   ]
  },
  {
   "cell_type": "markdown",
   "metadata": {},
   "source": [
    "We observe that the highest frequency coefficients have magnitudes close to 0 for all regression approaches. This is because all three histograms are generally centered around 0. We notice that the coefficient values for OLS regression have a larger range (approximately -75 to 120) than for the Lasso (with range -60 to 80 approximately) or Ridge (with range approximately -75 to 100) regression. The Lasso model has the highest frequency of coefficients around 0 (approximately 16 coefficients) compared to Ridge regression (with closer to 9 coefficients of 0) and OLS regression (with only approximately 10 coefficients at 0). "
   ]
  },
  {
   "cell_type": "markdown",
   "metadata": {
    "button": false,
    "new_sheet": false,
    "run_control": {
     "read_only": false
    }
   },
   "source": [
    "**5.6 The plots above show the overall distribution of...**"
   ]
  },
  {
   "cell_type": "code",
   "execution_count": 43,
   "metadata": {
    "button": false,
    "new_sheet": false,
    "run_control": {
     "read_only": false
    }
   },
   "outputs": [
    {
     "data": {
      "image/png": "[encoded data removed]",
      "text/plain": [
       "<Figure size 1080x720 with 1 Axes>"
      ]
     },
     "metadata": {},
     "output_type": "display_data"
    }
   ],
   "source": [
    "coeffs_df = {'OLS': ols_model.params, 'Ridge':fitted_ridge.coef_, 'Lasso':fitted_lasso.coef_}\n",
    "coeffs_df = pd.DataFrame(data = coeffs_df)\n",
    "coeffs_plot = coeffs_df.plot.bar(figsize=(15,10));\n",
    "coeffs_plot.set_title('Coefficients Generated by OLS, Ridge, and Lasso Regressions');\n",
    "coeffs_plot.set_xlabel('Predictors');\n",
    "coeffs_plot.set_ylabel('Coefficient value');\n",
    "coeffs_plot.grid(True)\n",
    "\n",
    "#hint says to use xticks but we already have features shown on the x axis"
   ]
  },
  {
   "cell_type": "markdown",
   "metadata": {
    "button": false,
    "new_sheet": false,
    "run_control": {
     "read_only": false
    }
   },
   "source": [
    "**5.7 What trends do you see...**"
   ]
  },
  {
   "cell_type": "code",
   "execution_count": 44,
   "metadata": {
    "button": false,
    "new_sheet": false,
    "run_control": {
     "read_only": false
    }
   },
   "outputs": [],
   "source": [
    "# gives the regression approach that has the largest coefficient for each feature\n",
    "winners = pd.DataFrame(abs(coeffs_df).idxmax(axis=1)) "
   ]
  },
  {
   "cell_type": "code",
   "execution_count": 45,
   "metadata": {},
   "outputs": [
    {
     "name": "stdout",
     "output_type": "stream",
     "text": [
      "Proportion of OLS wins: 0.6538461538461539\n",
      "Proportion of Ridge wins: 0.14102564102564102\n",
      "Proportion of Lasso wins: 0.20512820512820512\n"
     ]
    }
   ],
   "source": [
    "print('Proportion of OLS wins:', len(winners[winners[0]=='OLS'])/len(winners))\n",
    "print('Proportion of Ridge wins:', len(winners[winners[0]=='Ridge'])/len(winners))\n",
    "print('Proportion of Lasso wins:', len(winners[winners[0]=='Lasso'])/len(winners))"
   ]
  },
  {
   "cell_type": "markdown",
   "metadata": {
    "button": false,
    "new_sheet": false,
    "run_control": {
     "read_only": false
    }
   },
   "source": [
    "We observe that the coefficient values obtained from each regression approach trend similarly overall since the grouped bars have comparable values in general (note also that there is a high frequency of coefficients near 0 for all regression approaches - see question 5.5's histograms for further support of this). In general, larger magnitudes for coefficients occur for the polynomial degree 1 terms compared to the interaction terms (as evidenced in the plot since more bars corresponding to the predictors that are not interaction terms have magnitudes >50). We can observe from the grouped bar plot that September, October, November, and December all showed relatively large coefficients as predictors, indicating that the number of rides tends to be increasing during these months. The predictors hum $\\times$ May, hum $\\times$ Jun, hum $\\times$ Jul, hum $\\times$ Aug, hum $\\times$ Sept, hum $\\times$ Oct, and hum $\\times$ Nov also all tend to have relatively large negative values for their coefficients, which means that the effect of humidity on number of rides is different when it is each of these months (May through Nov). Specifically, the negative sign on the coefficient of these interaction terms indicates that when it is each of those months (May through Nov) the effect of humidity on the number of rides increases (the number of rides decreases). We also observe that the coefficients for the interaction terms involving windspeed and the days of the week are all relatively small and positive, which indicates that the effect of windspeed on the number of rides is generally unchanged for different days of the week. \n",
    "\n",
    "However, there are differences in the coefficients obtained from each regression approach. The largest coefficients occur for October as a predictor for OLS and Ridge regression approaches, which indicates that October tends to predict an increase of approximately 110 more rides. The largest coefficient occurs for the predictor temp for the Lasso regression, where there is a positive association between temperature and number of rides. OLS has the largest coefficient by magnitude for 65% of the predictors, compared to 14% for Ridge regression and 21% for Lasso (calculated in cells above; the observation that OLS has some coefficients with larger magnitudes is corroberated by the histograms in question 5.5 since the coefficients range from almost -75 to 120 for the OLS model while they range from approximately -60 to 80 for the Lasso model and -75 to 100 for the Ridge model). This makes sense since regularized regression (Ridge or Lasso) tend to shrink the beta estimates to help reduce overfitting and reduce the effect of predictors that have weak predictive power anyways. "
   ]
  },
  {
   "cell_type": "markdown",
   "metadata": {},
   "source": [
    "---"
   ]
  },
  {
   "cell_type": "markdown",
   "metadata": {
    "button": false,
    "new_sheet": false,
    "run_control": {
     "read_only": false
    }
   },
   "source": [
    "<div class='exercise'> <b> Question 6 [16 pts]: Reflection </b></div>\n",
    "These problems are open-ended, and you are not expected to write more than 2-3 sentences. We are interested in seeing that you have thought about these issues; you will be graded on how well you justify your conclusions here, not on what you conclude.\n",
    "\n",
    "**6.1** Reflect back on the `get_design_mats` function you built. In what way was writing this function useful in your analysis? What issues might you have encountered if you copy/pasted the model-building code instead of tying it together in a function? Does a `get_design_mat` function seem wise in general, or are there better options?\n",
    "\n",
    "**6.2** What are the costs and benefits of applying ridge/lasso regularization to an overfit OLS model, versus setting a specific degree of polynomial or forward selecting polynomial features for the model?\n",
    "\n",
    "**6.3** This pset posed a purely predictive goal: forecast ridership as accurately as possible. How important is interpretability in this context? Considering, e.g., your lasso and ridge models from Question 5, how would you react if the models predicted well, but the coefficient values didn't make sense once interpreted?\n",
    "\n",
    "**6.4** Reflect back on our original goal of helping BikeShare predict what demand will be like in the week ahead, and thus how many bikes they can bring in for maintenance. In your view, did we accomplish this goal? If yes, which model would you put into production and why? If not, which model came closest, what other analyses might you conduct, and how likely do you think they are to work?\n"
   ]
  },
  {
   "cell_type": "markdown",
   "metadata": {
    "button": false,
    "new_sheet": false,
    "run_control": {
     "read_only": false
    }
   },
   "source": [
    "### Answers"
   ]
  },
  {
   "cell_type": "markdown",
   "metadata": {},
   "source": [
    "**6.1 Reflect back on the get_design_mats function you built...**"
   ]
  },
  {
   "cell_type": "markdown",
   "metadata": {},
   "source": [
    "The get_design_mats function was useful for building training and testing datasets in a single step even though multiple processing phases were required (standardization, adding higher order terms, and adding interaction terms). If we had copy/pasted the model-building code instead of using this function, we may have forgotten to perform all steps in the same way for each dataset generated (for example, we may have forgotten to add the higher order polynomial terms with degree up to and including a specified degree). The function was wise in this problem because we intended to create training and testing datasets with the same preprocessing for each model, but if we had intended to train models with different sets of predictors (such as only having cubic terms but not the accompanying squared or degree 1 terms) it would have been inconvenient to have one comprehensive function built (and it may have been better in these cases to maintain multiple helper functions that could be more easily duplicated and modified than one all-encompassing get_design_mats function)."
   ]
  },
  {
   "cell_type": "markdown",
   "metadata": {},
   "source": [
    "**6.2 What are the costs and benefits of applying ridge/lasso...**"
   ]
  },
  {
   "cell_type": "markdown",
   "metadata": {},
   "source": [
    "Both Lasso and Ridge, though more computationally intensive than simple OLS (Ridge regression has a closed form solution, Lasso must be approximated analytically generally with iterative approaches), will help to reduce the effect of predictors that have a weak effect on the response (Lasso will nullify more predictors compared to Ridge so Lasso is better for feature selection, but both will reduce the magnitudes of extreme beta values) and will reduce variance by increasing bias (note that OLS is unbiased while Ridge is not) so that the model fits testing (but not necessarily training) data more appropriately. Setting a specific degree polynomial may be less computationally intensive than Ridge/Lasso (depending on the degree polynomial used) and can allow the user to be more intentional about which predictors are included (could be useful if a certain degree is suspected to have an effect on the response) but may produce a model that is difficult to interpret (assuming Ridge/Lasso has fewer polynomial terms) for all terms and more overfit to the training data (performing poorly in testing sets) compared to OLS, since polynomial regressions may have a high number of predictors (including some that do not have a strong effect on the response) and will generally exhibit multicolinearity among predictors (x, x^2, x^3, etc. will generally be multicolinear), which can contribute to more extreme beta estimates (and overfitting models) than would be obtained from OLS. Forward selecting polynomial features for the model may also help reduced overfitting (similarly to Ridge/Lasso but a benefit of it is that the user can have some control over which predictors can be selected on by choosing some predictors beforehand according to apriori knowledge) and is less computationally intensive than brute force testing to choose predictors (since forward selection is a greedy algorithm), but a cost of forward selecting compared to regularization is that the loss function for the model selected may correspond to only a local minimum (versus the global minimum for regularization) since forward selecting is a greedy algorithm."
   ]
  },
  {
   "cell_type": "markdown",
   "metadata": {},
   "source": [
    "**6.3 This pset posed a purely predictive goal: forecast ridership...**"
   ]
  },
  {
   "cell_type": "markdown",
   "metadata": {},
   "source": [
    "If the goal is simply to help the Capital bikeshare program to predict the hourly demand for rental bikes, then interpretability is not important in this context as we have built a model that will do exactly what they asked for - predict hourly demand for rental bikes. If the lasso and ridge models predicted well, I would be very happy and satisifed with their utility as predictive models for hourly demand for rental bikes. It wouldn't matter if the coefficient values didn't make sense once interpreted as that might indicate that there is some unobserved relationship between the predictors or that there is some tradeoff between fitting and bias that caused coefficients to be uninterpretable, but none of these matter as we are only concerned about the utility of the model, which it is very good at predicting hourly demand for rental bikes. "
   ]
  },
  {
   "cell_type": "markdown",
   "metadata": {},
   "source": [
    "**6.4 Reflect back on our original goal of helping BikeShare predict...**"
   ]
  },
  {
   "cell_type": "markdown",
   "metadata": {},
   "source": [
    "In question 3.1 we generated a multiple linear regression model that had issues with the assumptions of linear regression due to multicolinearity and abnormal residual distributions, while in question 4 we set specific polynomial degrees (1 through 8) and evaluated these models but found that after Ridge regularization on polynomial models with degree 1 through 8, the $R^2$ on the testing data for the best regularized polynomial model was better than the $R^2$ on the testing data for the best un-regularized polynomial model and than the polynomial of degree 1 model made in 5.4. The $R^2$ = 0.6415 for this fitted Ridge regression model with degree 8 and lambda 0.1 is sufficiently high and does accomplish the goal of predicting the rides per hour so that the company can make more bikes available during peak hours and increase revenue. Since the goal is *purely predictive* and the predictors are not generally modifiable by the company, the company should track the used predictors ('hour', 'holiday', 'year', 'temp', 'hum', 'windspeed', 'Feb', 'Mar', 'Apr', 'May', 'Jun', 'Jul', 'Aug', 'Sept', 'Oct', 'Nov', 'Dec', 'Mon', 'Tue', 'Wed', 'Thu', 'Fri', 'Sat', 'Cloudy', 'Snow', 'Storm'), calculate the relevant polynomial and interaction terms, and then generate the predicted number of rides for those conditions so that they can make that number of bikes available."
   ]
  },
  {
   "cell_type": "code",
   "execution_count": null,
   "metadata": {},
   "outputs": [],
   "source": []
  },
  {
   "cell_type": "code",
   "execution_count": null,
   "metadata": {},
   "outputs": [],
   "source": []
  }
 ],
 "metadata": {
  "kernelspec": {
   "display_name": "Python 3",
   "language": "python",
   "name": "python3"
  },
  "language_info": {
   "codemirror_mode": {
    "name": "ipython",
    "version": 3
   },
   "file_extension": ".py",
   "mimetype": "text/x-python",
   "name": "python",
   "nbconvert_exporter": "python",
   "pygments_lexer": "ipython3",
   "version": "3.7.4"
  }
 },
 "nbformat": 4,
 "nbformat_minor": 2
}
